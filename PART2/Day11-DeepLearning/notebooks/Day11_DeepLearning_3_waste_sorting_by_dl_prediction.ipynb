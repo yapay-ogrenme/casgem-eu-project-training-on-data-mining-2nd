{
  "cells": [
    {
      "cell_type": "markdown",
      "source": [
        "# Geri Dönüşüm Malzemelerini Tanıma"
      ],
      "metadata": {
        "id": "C3khbdzzEZu9"
      }
    },
    {
      "cell_type": "code",
      "execution_count": null,
      "metadata": {
        "id": "55CO5nOcAta4"
      },
      "outputs": [],
      "source": [
        "import warnings\n",
        "warnings.filterwarnings('ignore')\n",
        "\n",
        "import tensorflow as tf\n",
        "import os\n",
        "import matplotlib.pyplot as plt\n",
        "import numpy as np\n",
        "import cv2\n",
        "import time\n",
        "import random\n",
        "from imutils import paths\n",
        "from sklearn.utils import shuffle"
      ]
    },
    {
      "cell_type": "code",
      "source": [
        "#ROOT_DIR = \"/content/drive/MyDrive/CASGEM-Egitim/Egitim-Part2/Day11-DeepLearning/notebooks/\"\n",
        "ROOT_DIR = \"https://media.githubusercontent.com/media/yapay-ogrenme/casgem-eu-project-training-on-data-mining-2nd/main/PART2/Day11-DeepLearning/notebooks/\"\n",
        "\n",
        "MODEL_PATH = ROOT_DIR + \"models/\"\n",
        "MODEL_FILEPATH = MODEL_PATH + 'mobilenet_fine_trashnet_120.h5'\n",
        "\n",
        "DATASET_FOLDER_PATH = \"https://github.com/yapay-ogrenme/casgem-eu-project-training-on-data-mining-2nd/blob/main/PART2/Day11-DeepLearning/notebooks/datasets/waste_sorting/waste_sorting_images.zip?raw=true\" #waste_sorting_images.zip"
      ],
      "metadata": {
        "id": "LDM7CsnJDCQ7"
      },
      "execution_count": null,
      "outputs": []
    },
    {
      "cell_type": "code",
      "source": [
        "!wget $MODEL_FILEPATH\n",
        "!wget $DATASET_FOLDER_PATH"
      ],
      "metadata": {
        "id": "Rxq4ualNHgEH"
      },
      "execution_count": null,
      "outputs": []
    },
    {
      "cell_type": "code",
      "source": [
        "!unzip \"waste_sorting_images.zip?raw=true\" -d \"waste_sorting\""
      ],
      "metadata": {
        "id": "beo7SOAzI860"
      },
      "execution_count": null,
      "outputs": []
    },
    {
      "cell_type": "code",
      "execution_count": null,
      "metadata": {
        "id": "DtrPDxYbAta5"
      },
      "outputs": [],
      "source": [
        "#Model\n",
        "num_classes=6\n",
        "\n",
        "base_model = tf.keras.applications.MobileNet(weights='imagenet', include_top=False, classes=num_classes)\n",
        "\n",
        "x = tf.keras.layers.GlobalAveragePooling2D(input_shape=base_model.output_shape[1:])(base_model.output)\n",
        "x = tf.keras.layers.Dense(num_classes, activation='softmax', kernel_initializer='glorot_normal')(x)\n",
        "model = tf.keras.Model(inputs=base_model.input, outputs=x)\n",
        "\n",
        "#load weights\n",
        "model.load_weights(\"mobilenet_fine_trashnet_120.h5\")"
      ]
    },
    {
      "cell_type": "markdown",
      "metadata": {
        "id": "Ckgc7fWkAta6"
      },
      "source": [
        "## LOAD VALIDATION DATASET"
      ]
    },
    {
      "cell_type": "code",
      "execution_count": null,
      "metadata": {
        "id": "g5hiUcqvAta7"
      },
      "outputs": [],
      "source": [
        "# parameters\n",
        "batch_size = 32\n",
        "target_size = (224, 224)\n",
        "labels = {'trash': 5, 'glass': 1, 'plastic': 4, 'cardboard': 0, 'paper': 3, 'metal': 2}\n",
        "\n",
        "\n",
        "########################################################################\n",
        "#VAL\n",
        "val_path = 'waste_sorting/validation'\n",
        "\n",
        "x_val = []\n",
        "val_labels = []\n",
        "\n",
        "\n",
        "val_imagePaths = sorted(list(paths.list_images(val_path)))\n",
        "#print(val_imagePaths)\n",
        "\n",
        "for imagePath in val_imagePaths:\n",
        "  img = cv2.imread(imagePath)\n",
        "  #img = cv2.resize(img, target_size).flatten()\n",
        "  img = cv2.resize(img, target_size)\n",
        "  x_val.append(img)\n",
        "\n",
        "    \n",
        "  label = imagePath.split(os.path.sep)[-2]\n",
        "  val_labels.append(labels[label])\n",
        "    \n",
        "\n",
        "x_val , val_labels = shuffle(x_val, val_labels)\n",
        "\n",
        "print(\"len x_val\", len(x_val))\n",
        "print(\"x_val[0] shape\", x_val[0].shape)\n",
        "print(\"len val_labels\", len(val_labels))\n",
        "\n",
        "x_val = np.array(x_val, dtype=\"float\") / 255.0\n",
        "val_labels = np.array(val_labels)"
      ]
    },
    {
      "cell_type": "code",
      "execution_count": null,
      "metadata": {
        "id": "mPPZz6EQAta9"
      },
      "outputs": [],
      "source": [
        "num_classes = 6\n",
        "y_val = tf.keras.utils.to_categorical(val_labels, num_classes=num_classes)"
      ]
    },
    {
      "cell_type": "code",
      "execution_count": null,
      "metadata": {
        "id": "-IV_-GGbAta-"
      },
      "outputs": [],
      "source": [
        "plt.figure(figsize=(10,10))\n",
        "\n",
        "right = 0\n",
        "mistake = 0\n",
        "prefictionNum = 9\n",
        "labels = [\"cardboard\", \"glass\", \"metal\", \"paper\", \"plastic\", \"trash\"]\n",
        "\n",
        "for i in range(prefictionNum):\n",
        "    index = random.randint(0, x_val.shape[0]-1)\n",
        "    image = x_val[index]\n",
        "    data = np.expand_dims(image, axis=0) \n",
        "    \n",
        "    plt.subplot(3, 3, i+1)\n",
        "    plt.imshow(image)\n",
        "    plt.axis('off')\n",
        "    \n",
        "    #PREDICTION\n",
        "    pred = model.predict(data, batch_size=1)\n",
        "    bestclass = np.argmax(pred, axis=1)[0]\n",
        "    #print(\"bestclass\", bestclass)\n",
        "    \n",
        "    y_class = np.argmax(y_val[index])\n",
        "    if y_class == bestclass:\n",
        "        plt.title(labels[bestclass])\n",
        "        right += 1\n",
        "    else:\n",
        "        #sagdaki dogru, soldaki prediction sonucu\n",
        "        plt.title(labels[bestclass] + \"(prediction)!=\" + labels[y_class], color='#ff0000')\n",
        "        mistake += 1\n",
        "        \n",
        "plt.show()\n",
        "\n",
        "print(\"mistake\", mistake)\n",
        "print(\"right\", right)"
      ]
    },
    {
      "cell_type": "code",
      "execution_count": null,
      "metadata": {
        "id": "nP4rLGEeAtbA"
      },
      "outputs": [],
      "source": [
        ""
      ]
    }
  ],
  "metadata": {
    "kernelspec": {
      "display_name": "Python 3",
      "language": "python",
      "name": "python3"
    },
    "language_info": {
      "codemirror_mode": {
        "name": "ipython",
        "version": 3
      },
      "file_extension": ".py",
      "mimetype": "text/x-python",
      "name": "python",
      "nbconvert_exporter": "python",
      "pygments_lexer": "ipython3",
      "version": "3.6.9"
    },
    "colab": {
      "name": "Day11_DeepLearning_3_waste_sorting_by_dl_prediction.ipynb",
      "provenance": [],
      "collapsed_sections": []
    }
  },
  "nbformat": 4,
  "nbformat_minor": 0
}