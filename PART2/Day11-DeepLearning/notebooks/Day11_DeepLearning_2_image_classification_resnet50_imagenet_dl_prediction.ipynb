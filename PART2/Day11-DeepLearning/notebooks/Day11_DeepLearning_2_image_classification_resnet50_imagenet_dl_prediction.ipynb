{
  "nbformat": 4,
  "nbformat_minor": 0,
  "metadata": {
    "colab": {
      "name": "Day11_DeepLearning_2_image_classification_resnet50_imagenet_dl_prediction.ipynb",
      "provenance": [],
      "collapsed_sections": []
    },
    "kernelspec": {
      "name": "python3",
      "display_name": "Python 3"
    },
    "accelerator": "GPU"
  },
  "cells": [
    {
      "cell_type": "markdown",
      "metadata": {
        "id": "zstBP-NM0wxq"
      },
      "source": [
        "# IMAGENET - ResNet50  - NESNE TANIMA"
      ]
    },
    {
      "cell_type": "code",
      "metadata": {
        "id": "ra2GdkO1m_pH"
      },
      "source": [
        "from tensorflow.keras.applications import ResNet50\n",
        "from keras.preprocessing.image import img_to_array\n",
        "from keras.applications import imagenet_utils\n",
        "from PIL import Image\n",
        "import numpy as np\n",
        "from io import BytesIO\n",
        "import os\n",
        "import requests"
      ],
      "execution_count": null,
      "outputs": []
    },
    {
      "cell_type": "code",
      "metadata": {
        "id": "hN98EE3E6hDh"
      },
      "source": [
        "model = ResNet50(weights=\"imagenet\")"
      ],
      "execution_count": null,
      "outputs": []
    },
    {
      "cell_type": "markdown",
      "metadata": {
        "id": "LmkdQQT4DaxA"
      },
      "source": [
        "**Resmi girişe uygun formata getirmek için yeniden boyutlandırma fonksiyonu tanımlanıyor**"
      ]
    },
    {
      "cell_type": "code",
      "metadata": {
        "id": "IeDpx-2tnG2z"
      },
      "source": [
        "def prepare_image(image, target):\n",
        "\t# giriş görüntüsünü yeniden boyutlandırma ve ön işlemerin yapılması\n",
        "\timage = image.resize(target)\n",
        "\timage = img_to_array(image)\n",
        "\timage = np.expand_dims(image, axis=0)\n",
        "\timage = imagenet_utils.preprocess_input(image)\n",
        "\n",
        "\t# işlenmiş görüntüyü alma\n",
        "\treturn image"
      ],
      "execution_count": null,
      "outputs": []
    },
    {
      "cell_type": "markdown",
      "metadata": {
        "id": "x4KALkA5Dpm-"
      },
      "source": [
        "## **Sınıflandırma istediğiniz resmin web adresini aşağıdaki giriş alanına giriniz**"
      ]
    },
    {
      "cell_type": "code",
      "metadata": {
        "id": "iUpYOTur0yEC",
        "cellView": "form"
      },
      "source": [
        "#@title Default title text { vertical-output: true }\n",
        "ImageURL = \"https://imgix.bustle.com/uploads/image/2018/4/9/471897e4-4a04-4373-9112-53c381928d89-shutterstock_1064524748.jpg?w=970&h=582&fit=crop&crop=faces&auto=format&q=70\\\"\" #@param {type:\"string\"}\n"
      ],
      "execution_count": null,
      "outputs": []
    },
    {
      "cell_type": "markdown",
      "metadata": {
        "id": "MABNMaKtD6yO"
      },
      "source": [
        "**Girilen web adresinden resim indiriliyor**"
      ]
    },
    {
      "cell_type": "code",
      "metadata": {
        "id": "O1NIphwu63X_"
      },
      "source": [
        "#ImageURL = \"https://imgix.bustle.com/uploads/image/2018/4/9/471897e4-4a04-4373-9112-53c381928d89-shutterstock_1064524748.jpg?w=970&h=582&fit=crop&crop=faces&auto=format&q=70\n",
        "response = requests.get(ImageURL)\n",
        "image = Image.open(BytesIO(response.content))\n",
        "image"
      ],
      "execution_count": null,
      "outputs": []
    },
    {
      "cell_type": "markdown",
      "metadata": {
        "id": "RkrgJ7aDEWhs"
      },
      "source": [
        "**Eğitilmiş model ile sınıflandırma yapılıyor.**"
      ]
    },
    {
      "cell_type": "code",
      "metadata": {
        "id": "RNBcO-MM6ccy"
      },
      "source": [
        "data = {\"success\": False}\n",
        "\n",
        "pre_image = prepare_image(image, target=(224, 224)) # 224 x 224 boyutlu hale getir\n",
        "\n",
        "preds = model.predict(pre_image) # Kesirim modeline ön işlemden geçmiş görüntüyü uygula\n",
        "\n",
        "results = imagenet_utils.decode_predictions(preds) #kestirim\n",
        "data[\"predictions\"] = []\n",
        "\n",
        "\n",
        "for (imagenetID, label, prob) in results[0]: # ImageNet veri kümseinden etiket, olasılık ve kestrim sonucunu al\n",
        "  r = {\"label\": label, \"probability\": float(prob)}\n",
        "  data[\"predictions\"].append(r)\n",
        "  \n",
        "data[\"success\"] = True\n",
        "\n",
        "print(data)"
      ],
      "execution_count": null,
      "outputs": []
    },
    {
      "cell_type": "code",
      "source": [
        "results"
      ],
      "metadata": {
        "id": "TMIsCCkl2txL"
      },
      "execution_count": null,
      "outputs": []
    },
    {
      "cell_type": "code",
      "metadata": {
        "id": "eeBqeav68v6p"
      },
      "source": [
        "print(\"Sınıflandırma tahmini en yüksek olan {0} oranıyla {1}'dır.\".format(data[\"predictions\"][0][\"probability\"],data[\"predictions\"][0][\"label\"])) \n",
        "# En yüksek olasılıklı sonucu ekrana yazdır\n"
      ],
      "execution_count": null,
      "outputs": []
    },
    {
      "cell_type": "code",
      "metadata": {
        "id": "CXZD8VKAw2EU"
      },
      "source": [
        ""
      ],
      "execution_count": null,
      "outputs": []
    }
  ]
}