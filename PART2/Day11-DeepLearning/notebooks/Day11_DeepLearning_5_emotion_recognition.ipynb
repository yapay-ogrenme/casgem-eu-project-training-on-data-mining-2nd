{
  "cells": [
    {
      "cell_type": "markdown",
      "metadata": {
        "_cell_guid": "79c7e3d0-c299-4dcb-8224-4455121ee9b0",
        "_uuid": "d629ff2d2480ee46fbb7e2d37f6b5fab8052498a",
        "papermill": {
          "duration": 0.038635,
          "end_time": "2022-02-04T13:26:29.285031",
          "exception": false,
          "start_time": "2022-02-04T13:26:29.246396",
          "status": "completed"
        },
        "tags": [],
        "id": "FpBDUNG4dItJ"
      },
      "source": [
        "**[Yüz ifadesi yarışmasına](https://www.kaggle.com/c/challenges-in-representation-learning-facial-expression-recognition-challenge) hoş geldiniz.**\n",
        "\n",
        "<table>\n",
        "    <tr>\n",
        "        <td><img src=\"https://i.ibb.co/B394D0t/12.png\" width=\"100%\" height=\"100%\"></td>\n",
        "        <td><img src=\"https://i.ibb.co/5xV8MZj/40.png\" width=\"100%\" height=\"100%\"></td>\n",
        "        <td><img src=\"https://i.ibb.co/bFgXc43/19.png\" width=\"100%\" height=\"100%\"></td>\n",
        "    </tr>\n",
        "</table>\n",
        "Veriler, yüzlerin 48x48 piksel gri tonlamalı görüntülerinden oluşur. Yüzler otomatik olarak kaydedilir, böylece yüz aşağı yukarı ortalanır ve her görüntüde yaklaşık olarak aynı miktarda yer kaplar. \n",
        "Görev, her yüzü, yüz ifadesinde gösterilen duyguya göre yedi kategoriden birinde kategorize etmektir:\n",
        "\n",
        "| categorie  | emotion  |\n",
        "|:---:|:---|\n",
        "| 0  | Angry (kızgın)  |\n",
        "| 1  |  Disgust (nefret) |\n",
        "| 2  |  Fear (korku) |\n",
        "| 3  |  Happy (mutlu) |\n",
        "| 4  |  Sad (üzgün) |\n",
        "| 5  |  Surprise (şaşırma) |\n",
        "| 6  | Neutral (doğal) |\n",
        "\n",
        "Basit bir CNN modeli tanımlıyoruz ve tahmin edilen sonuçları verilen etiketlerle karşılaştırıyoruz.\n"
      ]
    },
    {
      "cell_type": "markdown",
      "metadata": {
        "papermill": {
          "duration": 0.037888,
          "end_time": "2022-02-04T13:26:29.360730",
          "exception": false,
          "start_time": "2022-02-04T13:26:29.322842",
          "status": "completed"
        },
        "tags": [],
        "id": "DUXslfV2dItN"
      },
      "source": [
        "## Kütüphaneler\n",
        "Bazı standart kitaplıkları ve sklearn ve keras paketlerini yüklüyoruz."
      ]
    },
    {
      "cell_type": "code",
      "execution_count": null,
      "metadata": {
        "_kg_hide-input": true,
        "execution": {
          "iopub.execute_input": "2022-02-04T13:26:29.442631Z",
          "iopub.status.busy": "2022-02-04T13:26:29.441937Z",
          "iopub.status.idle": "2022-02-04T13:26:35.995388Z",
          "shell.execute_reply": "2022-02-04T13:26:35.996125Z",
          "shell.execute_reply.started": "2021-11-10T11:07:10.414676Z"
        },
        "papermill": {
          "duration": 6.598157,
          "end_time": "2022-02-04T13:26:35.996328",
          "exception": false,
          "start_time": "2022-02-04T13:26:29.398171",
          "status": "completed"
        },
        "tags": [],
        "id": "Gu0r2qUDdItO"
      },
      "outputs": [],
      "source": [
        "import pandas as pd\n",
        "import numpy as np\n",
        "import os\n",
        "import matplotlib.pyplot as plt\n",
        "\n",
        "from sklearn.metrics import confusion_matrix\n",
        "from mlxtend.plotting import plot_confusion_matrix\n",
        "\n",
        "import tensorflow as tf\n",
        "\n",
        "#from keras import models\n",
        "#from keras.layers import Dense, Dropout, Flatten, Conv2D, MaxPool2D\n",
        "#from keras.optimizers import RMSprop,Adam\n",
        "#from keras.utils import to_categorical"
      ]
    },
    {
      "cell_type": "markdown",
      "source": [
        "## Veri Kümesi Dosya Yolu"
      ],
      "metadata": {
        "id": "NToK1t62hfYL"
      }
    },
    {
      "cell_type": "code",
      "source": [
        "#from google.colab import drive\n",
        "#drive.mount('/content/drive')"
      ],
      "metadata": {
        "id": "6Jopi15OgFz6"
      },
      "execution_count": null,
      "outputs": []
    },
    {
      "cell_type": "code",
      "source": [
        "#!ls '/content/drive/MyDrive/CASGEM-Egitim/Egitim-Part2/Day11-DeepLearning/notebooks/datasets/emotion_recognition/fer2013'"
      ],
      "metadata": {
        "id": "y7rSjj_rgOCo"
      },
      "execution_count": null,
      "outputs": []
    },
    {
      "cell_type": "code",
      "source": [
        "#ROOT_DIR = \"/content/drive/MyDrive/CASGEM-Egitim/Egitim-Part2/Day11-DeepLearning/notebooks/\"\n",
        "ROOT_DIR = \"https://media.githubusercontent.com/media/yapay-ogrenme/casgem-eu-project-training-on-data-mining-2nd/main/PART2/Day11-DeepLearning/notebooks/\"\n",
        "\n",
        "DATASET_PATH = ROOT_DIR + \"datasets/emotion_recognition/fer2013/\""
      ],
      "metadata": {
        "id": "4xOm0bDKhSIF"
      },
      "execution_count": null,
      "outputs": []
    },
    {
      "cell_type": "markdown",
      "source": [
        "## Veri Kümesini Yükleme"
      ],
      "metadata": {
        "id": "mNgRAmx-hmrc"
      }
    },
    {
      "cell_type": "code",
      "execution_count": null,
      "metadata": {
        "_kg_hide-input": true,
        "execution": {
          "iopub.execute_input": "2022-02-04T13:26:36.317005Z",
          "iopub.status.busy": "2022-02-04T13:26:36.315963Z",
          "iopub.status.idle": "2022-02-04T13:26:43.042686Z",
          "shell.execute_reply": "2022-02-04T13:26:43.041301Z",
          "shell.execute_reply.started": "2021-11-10T11:07:16.707722Z"
        },
        "papermill": {
          "duration": 6.767555,
          "end_time": "2022-02-04T13:26:43.042831",
          "exception": false,
          "start_time": "2022-02-04T13:26:36.275276",
          "status": "completed"
        },
        "tags": [],
        "id": "9JKKQKCVdItR"
      },
      "outputs": [],
      "source": [
        "data = pd.read_csv(DATASET_PATH+'fer2013.csv')"
      ]
    },
    {
      "cell_type": "code",
      "execution_count": null,
      "metadata": {
        "execution": {
          "iopub.execute_input": "2022-02-04T13:26:43.137714Z",
          "iopub.status.busy": "2022-02-04T13:26:43.136929Z",
          "iopub.status.idle": "2022-02-04T13:26:43.146636Z",
          "shell.execute_reply": "2022-02-04T13:26:43.146048Z",
          "shell.execute_reply.started": "2021-11-10T11:07:22.227295Z"
        },
        "papermill": {
          "duration": 0.064113,
          "end_time": "2022-02-04T13:26:43.146766",
          "exception": false,
          "start_time": "2022-02-04T13:26:43.082653",
          "status": "completed"
        },
        "tags": [],
        "id": "lU_bLmvUdItS"
      },
      "outputs": [],
      "source": [
        "data.head()"
      ]
    },
    {
      "cell_type": "markdown",
      "metadata": {
        "papermill": {
          "duration": 0.038211,
          "end_time": "2022-02-04T13:26:43.223475",
          "exception": false,
          "start_time": "2022-02-04T13:26:43.185264",
          "status": "completed"
        },
        "tags": [],
        "id": "WppX_VH0dItT"
      },
      "source": [
        "# Yardımcı Fonksiyonlar\n",
        "Verileri hazırlamak ve çizmek için bazı yardımcı fonksiyonlar tanımladık."
      ]
    },
    {
      "cell_type": "code",
      "execution_count": null,
      "metadata": {
        "_kg_hide-input": true,
        "execution": {
          "iopub.execute_input": "2022-02-04T13:26:43.309689Z",
          "iopub.status.busy": "2022-02-04T13:26:43.308908Z",
          "iopub.status.idle": "2022-02-04T13:26:43.338196Z",
          "shell.execute_reply": "2022-02-04T13:26:43.337493Z",
          "shell.execute_reply.started": "2021-11-10T11:07:22.254858Z"
        },
        "papermill": {
          "duration": 0.07681,
          "end_time": "2022-02-04T13:26:43.338351",
          "exception": false,
          "start_time": "2022-02-04T13:26:43.261541",
          "status": "completed"
        },
        "tags": [],
        "id": "atQO-klFdItU",
        "cellView": "form"
      },
      "outputs": [],
      "source": [
        "#@title Yardımcı Fonksiyonlar\n",
        "\n",
        "def prepare_data(data):\n",
        "    \"\"\" Prepare data for modeling \n",
        "        input: data frame with labels und pixel data\n",
        "        output: image and label array \"\"\"\n",
        "    \n",
        "    image_array = np.zeros(shape=(len(data), 48, 48))\n",
        "    image_label = np.array(list(map(int, data['emotion'])))\n",
        "    \n",
        "    for i, row in enumerate(data.index):\n",
        "        image = np.fromstring(data.loc[row, 'pixels'], dtype=int, sep=' ')\n",
        "        image = np.reshape(image, (48, 48))\n",
        "        image_array[i] = image\n",
        "        \n",
        "    return image_array, image_label\n",
        "\n",
        "def plot_examples(label=0):\n",
        "    fig, axs = plt.subplots(1, 5, figsize=(25, 12))\n",
        "    fig.subplots_adjust(hspace = .2, wspace=.2)\n",
        "    axs = axs.ravel()\n",
        "    for i in range(5):\n",
        "        idx = data[data['emotion']==label].index[i]\n",
        "        axs[i].imshow(train_images[idx][:,:,0], cmap='gray')\n",
        "        axs[i].set_title(emotions[train_labels[idx].argmax()])\n",
        "        axs[i].set_xticklabels([])\n",
        "        axs[i].set_yticklabels([])\n",
        "        \n",
        "def plot_all_emotions():\n",
        "    fig, axs = plt.subplots(1, 7, figsize=(30, 12))\n",
        "    fig.subplots_adjust(hspace = .2, wspace=.2)\n",
        "    axs = axs.ravel()\n",
        "    for i in range(7):\n",
        "        idx = data[data['emotion']==i].index[i]\n",
        "        axs[i].imshow(train_images[idx][:,:,0], cmap='gray')\n",
        "        axs[i].set_title(emotions[train_labels[idx].argmax()])\n",
        "        axs[i].set_xticklabels([])\n",
        "        axs[i].set_yticklabels([])\n",
        "        \n",
        "def plot_image_and_emotion(test_image_array, test_image_label, pred_test_labels, image_number):\n",
        "    \"\"\" Function to plot the image and compare the prediction results with the label \"\"\"\n",
        "    \n",
        "    fig, axs = plt.subplots(1, 2, figsize=(12, 6), sharey=False)\n",
        "    \n",
        "    bar_label = emotions.values()\n",
        "    \n",
        "    axs[0].imshow(test_image_array[image_number], 'gray')\n",
        "    axs[0].set_title(emotions[test_image_label[image_number]])\n",
        "    \n",
        "    axs[1].bar(bar_label, pred_test_labels[image_number], color='orange', alpha=0.7)\n",
        "    axs[1].grid()\n",
        "    \n",
        "    plt.show()\n",
        "    \n",
        "def plot_compare_distributions(array1, array2, title1='', title2=''):\n",
        "    df_array1 = pd.DataFrame()\n",
        "    df_array2 = pd.DataFrame()\n",
        "    df_array1['emotion'] = array1.argmax(axis=1)\n",
        "    df_array2['emotion'] = array2.argmax(axis=1)\n",
        "    \n",
        "    fig, axs = plt.subplots(1, 2, figsize=(12, 6), sharey=False)\n",
        "    x = emotions.values()\n",
        "    \n",
        "    y = df_array1['emotion'].value_counts()\n",
        "    keys_missed = list(set(emotions.keys()).difference(set(y.keys())))\n",
        "    for key_missed in keys_missed:\n",
        "        y[key_missed] = 0\n",
        "    axs[0].bar(x, y.sort_index(), color='orange')\n",
        "    axs[0].set_title(title1)\n",
        "    axs[0].grid()\n",
        "    \n",
        "    y = df_array2['emotion'].value_counts()\n",
        "    keys_missed = list(set(emotions.keys()).difference(set(y.keys())))\n",
        "    for key_missed in keys_missed:\n",
        "        y[key_missed] = 0\n",
        "    axs[1].bar(x, y.sort_index())\n",
        "    axs[1].set_title(title2)\n",
        "    axs[1].grid()\n",
        "    \n",
        "    plt.show()"
      ]
    },
    {
      "cell_type": "markdown",
      "metadata": {
        "papermill": {
          "duration": 0.0379,
          "end_time": "2022-02-04T13:26:43.414412",
          "exception": false,
          "start_time": "2022-02-04T13:26:43.376512",
          "status": "completed"
        },
        "tags": [],
        "id": "vPB9Xre5dItV"
      },
      "source": [
        "## Genel Bakış"
      ]
    },
    {
      "cell_type": "code",
      "execution_count": null,
      "metadata": {
        "_kg_hide-input": true,
        "execution": {
          "iopub.execute_input": "2022-02-04T13:26:43.509380Z",
          "iopub.status.busy": "2022-02-04T13:26:43.508638Z",
          "iopub.status.idle": "2022-02-04T13:26:43.513399Z",
          "shell.execute_reply": "2022-02-04T13:26:43.513873Z",
          "shell.execute_reply.started": "2021-11-10T11:07:22.290178Z"
        },
        "papermill": {
          "duration": 0.060679,
          "end_time": "2022-02-04T13:26:43.514076",
          "exception": false,
          "start_time": "2022-02-04T13:26:43.453397",
          "status": "completed"
        },
        "tags": [],
        "id": "1io7TtFbdItV"
      },
      "outputs": [],
      "source": [
        "data['Usage'].value_counts()"
      ]
    },
    {
      "cell_type": "markdown",
      "metadata": {
        "papermill": {
          "duration": 0.038373,
          "end_time": "2022-02-04T13:26:43.591068",
          "exception": false,
          "start_time": "2022-02-04T13:26:43.552695",
          "status": "completed"
        },
        "tags": [],
        "id": "yd-s4BfjdItW"
      },
      "source": [
        "## Verileri Hazırlama"
      ]
    },
    {
      "cell_type": "code",
      "execution_count": null,
      "metadata": {
        "execution": {
          "iopub.execute_input": "2022-02-04T13:26:43.676073Z",
          "iopub.status.busy": "2022-02-04T13:26:43.675360Z",
          "iopub.status.idle": "2022-02-04T13:26:43.678502Z",
          "shell.execute_reply": "2022-02-04T13:26:43.678987Z",
          "shell.execute_reply.started": "2021-11-10T11:07:22.318023Z"
        },
        "papermill": {
          "duration": 0.047358,
          "end_time": "2022-02-04T13:26:43.679143",
          "exception": false,
          "start_time": "2022-02-04T13:26:43.631785",
          "status": "completed"
        },
        "tags": [],
        "id": "cLcxZLrBdItW"
      },
      "outputs": [],
      "source": [
        "emotions = {0: 'Angry', 1: 'Disgust', 2: 'Fear', 3: 'Happy', 4: 'Sad', 5: 'Surprise', 6: 'Neutral'}"
      ]
    },
    {
      "cell_type": "markdown",
      "metadata": {
        "papermill": {
          "duration": 0.038193,
          "end_time": "2022-02-04T13:26:43.755813",
          "exception": false,
          "start_time": "2022-02-04T13:26:43.717620",
          "status": "completed"
        },
        "tags": [],
        "id": "cy6_th42dItX"
      },
      "source": [
        "Eğitim, doğrulama ve test kümelerini tanımlayın:"
      ]
    },
    {
      "cell_type": "code",
      "execution_count": null,
      "metadata": {
        "_kg_hide-input": true,
        "execution": {
          "iopub.execute_input": "2022-02-04T13:26:43.845395Z",
          "iopub.status.busy": "2022-02-04T13:26:43.844724Z",
          "iopub.status.idle": "2022-02-04T13:26:48.377802Z",
          "shell.execute_reply": "2022-02-04T13:26:48.377123Z",
          "shell.execute_reply.started": "2021-11-10T11:07:22.328544Z"
        },
        "papermill": {
          "duration": 4.583571,
          "end_time": "2022-02-04T13:26:48.377926",
          "exception": false,
          "start_time": "2022-02-04T13:26:43.794355",
          "status": "completed"
        },
        "tags": [],
        "id": "5lky1SHjdItX"
      },
      "outputs": [],
      "source": [
        "train_image_array, train_image_label = prepare_data(data[data['Usage']=='Training'])\n",
        "val_image_array, val_image_label = prepare_data(data[data['Usage']=='PrivateTest'])\n",
        "test_image_array, test_image_label = prepare_data(data[data['Usage']=='PublicTest'])"
      ]
    },
    {
      "cell_type": "markdown",
      "metadata": {
        "papermill": {
          "duration": 0.038181,
          "end_time": "2022-02-04T13:26:48.456475",
          "exception": false,
          "start_time": "2022-02-04T13:26:48.418294",
          "status": "completed"
        },
        "tags": [],
        "id": "fl18F2cEdItY"
      },
      "source": [
        "Görüntüleri yeniden şekillendirin ve ölçeklendirin:"
      ]
    },
    {
      "cell_type": "code",
      "execution_count": null,
      "metadata": {
        "_kg_hide-input": true,
        "execution": {
          "iopub.execute_input": "2022-02-04T13:26:48.541481Z",
          "iopub.status.busy": "2022-02-04T13:26:48.540805Z",
          "iopub.status.idle": "2022-02-04T13:26:48.748769Z",
          "shell.execute_reply": "2022-02-04T13:26:48.748201Z",
          "shell.execute_reply.started": "2021-11-10T11:07:26.81965Z"
        },
        "papermill": {
          "duration": 0.253948,
          "end_time": "2022-02-04T13:26:48.748885",
          "exception": false,
          "start_time": "2022-02-04T13:26:48.494937",
          "status": "completed"
        },
        "tags": [],
        "id": "f8fv3mGBdItY"
      },
      "outputs": [],
      "source": [
        "train_images = train_image_array.reshape((train_image_array.shape[0], 48, 48, 1))\n",
        "train_images = train_images.astype('float32')/255\n",
        "\n",
        "val_images = val_image_array.reshape((val_image_array.shape[0], 48, 48, 1))\n",
        "val_images = val_images.astype('float32')/255\n",
        "\n",
        "test_images = test_image_array.reshape((test_image_array.shape[0], 48, 48, 1))\n",
        "test_images = test_images.astype('float32')/255"
      ]
    },
    {
      "cell_type": "markdown",
      "metadata": {
        "papermill": {
          "duration": 0.038471,
          "end_time": "2022-02-04T13:26:48.826793",
          "exception": false,
          "start_time": "2022-02-04T13:26:48.788322",
          "status": "completed"
        },
        "tags": [],
        "id": "4QRDA3OgdItZ"
      },
      "source": [
        "Hedef değerin kodlaması:"
      ]
    },
    {
      "cell_type": "code",
      "execution_count": null,
      "metadata": {
        "_kg_hide-input": true,
        "execution": {
          "iopub.execute_input": "2022-02-04T13:26:48.909830Z",
          "iopub.status.busy": "2022-02-04T13:26:48.908676Z",
          "iopub.status.idle": "2022-02-04T13:26:48.913651Z",
          "shell.execute_reply": "2022-02-04T13:26:48.913128Z",
          "shell.execute_reply.started": "2021-11-10T11:07:27.033273Z"
        },
        "papermill": {
          "duration": 0.048287,
          "end_time": "2022-02-04T13:26:48.913773",
          "exception": false,
          "start_time": "2022-02-04T13:26:48.865486",
          "status": "completed"
        },
        "tags": [],
        "id": "mr65dzEUdItZ"
      },
      "outputs": [],
      "source": [
        "train_labels = tf.keras.utils.to_categorical(train_image_label)\n",
        "val_labels = tf.keras.utils.to_categorical(val_image_label)\n",
        "test_labels = tf.keras.utils.to_categorical(test_image_label)"
      ]
    },
    {
      "cell_type": "markdown",
      "metadata": {
        "papermill": {
          "duration": 0.038532,
          "end_time": "2022-02-04T13:26:48.990987",
          "exception": false,
          "start_time": "2022-02-04T13:26:48.952455",
          "status": "completed"
        },
        "tags": [],
        "id": "ZJE2laX1dItZ"
      },
      "source": [
        "## Bazı Örnekler"
      ]
    },
    {
      "cell_type": "markdown",
      "metadata": {
        "papermill": {
          "duration": 0.038289,
          "end_time": "2022-02-04T13:26:49.068594",
          "exception": false,
          "start_time": "2022-02-04T13:26:49.030305",
          "status": "completed"
        },
        "tags": [],
        "id": "GEkclQ6kdItZ"
      },
      "source": [
        "### Tüm Duygular"
      ]
    },
    {
      "cell_type": "code",
      "execution_count": null,
      "metadata": {
        "_kg_hide-input": true,
        "execution": {
          "iopub.execute_input": "2022-02-04T13:26:49.150383Z",
          "iopub.status.busy": "2022-02-04T13:26:49.149672Z",
          "iopub.status.idle": "2022-02-04T13:26:49.996194Z",
          "shell.execute_reply": "2022-02-04T13:26:49.995622Z",
          "shell.execute_reply.started": "2021-11-10T11:07:27.042017Z"
        },
        "papermill": {
          "duration": 0.889067,
          "end_time": "2022-02-04T13:26:49.996313",
          "exception": false,
          "start_time": "2022-02-04T13:26:49.107246",
          "status": "completed"
        },
        "tags": [],
        "id": "cBjBAfFTdIta"
      },
      "outputs": [],
      "source": [
        "plot_all_emotions()"
      ]
    },
    {
      "cell_type": "markdown",
      "metadata": {
        "papermill": {
          "duration": 0.040107,
          "end_time": "2022-02-04T13:26:50.077523",
          "exception": false,
          "start_time": "2022-02-04T13:26:50.037416",
          "status": "completed"
        },
        "tags": [],
        "id": "J5XSIsLPdIta"
      },
      "source": [
        "### Kızgın (Angry)"
      ]
    },
    {
      "cell_type": "code",
      "execution_count": null,
      "metadata": {
        "_kg_hide-input": true,
        "execution": {
          "iopub.execute_input": "2022-02-04T13:26:50.169282Z",
          "iopub.status.busy": "2022-02-04T13:26:50.164428Z",
          "iopub.status.idle": "2022-02-04T13:26:50.735690Z",
          "shell.execute_reply": "2022-02-04T13:26:50.735076Z",
          "shell.execute_reply.started": "2021-11-10T11:07:27.882728Z"
        },
        "papermill": {
          "duration": 0.61713,
          "end_time": "2022-02-04T13:26:50.735826",
          "exception": false,
          "start_time": "2022-02-04T13:26:50.118696",
          "status": "completed"
        },
        "tags": [],
        "id": "Oj2cTX5fdItb"
      },
      "outputs": [],
      "source": [
        "plot_examples(label=0)"
      ]
    },
    {
      "cell_type": "markdown",
      "metadata": {
        "papermill": {
          "duration": 0.041586,
          "end_time": "2022-02-04T13:26:50.820546",
          "exception": false,
          "start_time": "2022-02-04T13:26:50.778960",
          "status": "completed"
        },
        "tags": [],
        "id": "DbhLpGWudItc"
      },
      "source": [
        "### Nefret (Disgust)"
      ]
    },
    {
      "cell_type": "code",
      "execution_count": null,
      "metadata": {
        "_kg_hide-input": true,
        "execution": {
          "iopub.execute_input": "2022-02-04T13:26:50.916336Z",
          "iopub.status.busy": "2022-02-04T13:26:50.914384Z",
          "iopub.status.idle": "2022-02-04T13:26:51.477433Z",
          "shell.execute_reply": "2022-02-04T13:26:51.477907Z",
          "shell.execute_reply.started": "2021-11-10T11:07:28.444347Z"
        },
        "papermill": {
          "duration": 0.615787,
          "end_time": "2022-02-04T13:26:51.478092",
          "exception": false,
          "start_time": "2022-02-04T13:26:50.862305",
          "status": "completed"
        },
        "tags": [],
        "id": "mvfX8JsJdItc"
      },
      "outputs": [],
      "source": [
        "plot_examples(label=1)"
      ]
    },
    {
      "cell_type": "markdown",
      "metadata": {
        "papermill": {
          "duration": 0.042476,
          "end_time": "2022-02-04T13:26:51.563551",
          "exception": false,
          "start_time": "2022-02-04T13:26:51.521075",
          "status": "completed"
        },
        "tags": [],
        "id": "MM1WCmRgdItc"
      },
      "source": [
        "### Korku (Fear)"
      ]
    },
    {
      "cell_type": "code",
      "execution_count": null,
      "metadata": {
        "_kg_hide-input": true,
        "execution": {
          "iopub.execute_input": "2022-02-04T13:26:51.655028Z",
          "iopub.status.busy": "2022-02-04T13:26:51.654128Z",
          "iopub.status.idle": "2022-02-04T13:26:52.224692Z",
          "shell.execute_reply": "2022-02-04T13:26:52.224054Z",
          "shell.execute_reply.started": "2021-11-10T11:07:29.003715Z"
        },
        "papermill": {
          "duration": 0.618231,
          "end_time": "2022-02-04T13:26:52.224809",
          "exception": false,
          "start_time": "2022-02-04T13:26:51.606578",
          "status": "completed"
        },
        "tags": [],
        "id": "87hcA0W4dItc"
      },
      "outputs": [],
      "source": [
        "plot_examples(label=2)"
      ]
    },
    {
      "cell_type": "markdown",
      "metadata": {
        "papermill": {
          "duration": 0.057888,
          "end_time": "2022-02-04T13:26:52.327411",
          "exception": false,
          "start_time": "2022-02-04T13:26:52.269523",
          "status": "completed"
        },
        "tags": [],
        "id": "b7HFEsuFdItd"
      },
      "source": [
        "### Mutlu (Happy)"
      ]
    },
    {
      "cell_type": "code",
      "execution_count": null,
      "metadata": {
        "_kg_hide-input": true,
        "execution": {
          "iopub.execute_input": "2022-02-04T13:26:52.424287Z",
          "iopub.status.busy": "2022-02-04T13:26:52.423595Z",
          "iopub.status.idle": "2022-02-04T13:26:53.191702Z",
          "shell.execute_reply": "2022-02-04T13:26:53.191143Z",
          "shell.execute_reply.started": "2021-11-10T11:07:29.566393Z"
        },
        "papermill": {
          "duration": 0.816329,
          "end_time": "2022-02-04T13:26:53.191819",
          "exception": false,
          "start_time": "2022-02-04T13:26:52.375490",
          "status": "completed"
        },
        "tags": [],
        "id": "OQez3GzudItd"
      },
      "outputs": [],
      "source": [
        "plot_examples(label=3)"
      ]
    },
    {
      "cell_type": "markdown",
      "metadata": {
        "papermill": {
          "duration": 0.04553,
          "end_time": "2022-02-04T13:26:53.283051",
          "exception": false,
          "start_time": "2022-02-04T13:26:53.237521",
          "status": "completed"
        },
        "tags": [],
        "id": "qmea2dNfdItd"
      },
      "source": [
        "\n",
        "### Üzgün (Sad)"
      ]
    },
    {
      "cell_type": "code",
      "execution_count": null,
      "metadata": {
        "_kg_hide-input": true,
        "execution": {
          "iopub.execute_input": "2022-02-04T13:26:53.384798Z",
          "iopub.status.busy": "2022-02-04T13:26:53.383745Z",
          "iopub.status.idle": "2022-02-04T13:26:53.951467Z",
          "shell.execute_reply": "2022-02-04T13:26:53.952377Z",
          "shell.execute_reply.started": "2021-11-10T11:07:30.352365Z"
        },
        "papermill": {
          "duration": 0.62377,
          "end_time": "2022-02-04T13:26:53.952577",
          "exception": false,
          "start_time": "2022-02-04T13:26:53.328807",
          "status": "completed"
        },
        "tags": [],
        "id": "PsUHaCOGdItd"
      },
      "outputs": [],
      "source": [
        "plot_examples(label=4)"
      ]
    },
    {
      "cell_type": "markdown",
      "metadata": {
        "papermill": {
          "duration": 0.049736,
          "end_time": "2022-02-04T13:26:54.050544",
          "exception": false,
          "start_time": "2022-02-04T13:26:54.000808",
          "status": "completed"
        },
        "tags": [],
        "id": "xhQRoHZBdIte"
      },
      "source": [
        "### Şaşırma (Surprise)"
      ]
    },
    {
      "cell_type": "code",
      "execution_count": null,
      "metadata": {
        "_kg_hide-input": true,
        "execution": {
          "iopub.execute_input": "2022-02-04T13:26:54.149845Z",
          "iopub.status.busy": "2022-02-04T13:26:54.148800Z",
          "iopub.status.idle": "2022-02-04T13:26:54.710419Z",
          "shell.execute_reply": "2022-02-04T13:26:54.709861Z",
          "shell.execute_reply.started": "2021-11-10T11:07:30.948947Z"
        },
        "papermill": {
          "duration": 0.613277,
          "end_time": "2022-02-04T13:26:54.710535",
          "exception": false,
          "start_time": "2022-02-04T13:26:54.097258",
          "status": "completed"
        },
        "tags": [],
        "id": "HrGamTOvdIte"
      },
      "outputs": [],
      "source": [
        "plot_examples(label=5)"
      ]
    },
    {
      "cell_type": "markdown",
      "metadata": {
        "papermill": {
          "duration": 0.047597,
          "end_time": "2022-02-04T13:26:54.806200",
          "exception": false,
          "start_time": "2022-02-04T13:26:54.758603",
          "status": "completed"
        },
        "tags": [],
        "id": "_c5QMxHLdIte"
      },
      "source": [
        "### Doğal(Neutral)"
      ]
    },
    {
      "cell_type": "code",
      "execution_count": null,
      "metadata": {
        "_kg_hide-input": true,
        "execution": {
          "iopub.execute_input": "2022-02-04T13:26:54.907818Z",
          "iopub.status.busy": "2022-02-04T13:26:54.906756Z",
          "iopub.status.idle": "2022-02-04T13:26:55.500940Z",
          "shell.execute_reply": "2022-02-04T13:26:55.500277Z",
          "shell.execute_reply.started": "2021-11-10T11:07:31.513405Z"
        },
        "papermill": {
          "duration": 0.647058,
          "end_time": "2022-02-04T13:26:55.501088",
          "exception": false,
          "start_time": "2022-02-04T13:26:54.854030",
          "status": "completed"
        },
        "tags": [],
        "id": "EqGsHD30dIte"
      },
      "outputs": [],
      "source": [
        "plot_examples(label=6)"
      ]
    },
    {
      "cell_type": "markdown",
      "metadata": {
        "papermill": {
          "duration": 0.049262,
          "end_time": "2022-02-04T13:26:55.600601",
          "exception": false,
          "start_time": "2022-02-04T13:26:55.551339",
          "status": "completed"
        },
        "tags": [],
        "id": "V9G-ox-5dItf"
      },
      "source": [
        "## Etiketlerin Dağıtımı"
      ]
    },
    {
      "cell_type": "code",
      "execution_count": null,
      "metadata": {
        "_kg_hide-input": true,
        "execution": {
          "iopub.execute_input": "2022-02-04T13:26:55.706925Z",
          "iopub.status.busy": "2022-02-04T13:26:55.706261Z",
          "iopub.status.idle": "2022-02-04T13:26:55.982034Z",
          "shell.execute_reply": "2022-02-04T13:26:55.982700Z",
          "shell.execute_reply.started": "2021-11-10T11:07:32.085406Z"
        },
        "papermill": {
          "duration": 0.331466,
          "end_time": "2022-02-04T13:26:55.982867",
          "exception": false,
          "start_time": "2022-02-04T13:26:55.651401",
          "status": "completed"
        },
        "tags": [],
        "id": "w2oUiGFmdItf"
      },
      "outputs": [],
      "source": [
        "plot_compare_distributions(train_labels, val_labels, title1='train labels', title2='val labels')"
      ]
    },
    {
      "cell_type": "markdown",
      "metadata": {
        "papermill": {
          "duration": 0.051055,
          "end_time": "2022-02-04T13:26:56.085468",
          "exception": false,
          "start_time": "2022-02-04T13:26:56.034413",
          "status": "completed"
        },
        "tags": [],
        "id": "qgXjuWNDdItf"
      },
      "source": [
        "## Sınıf Ağırlıkları\n",
        "Etiket dağılımının sınıf ağırlıklarını hesaplayın:"
      ]
    },
    {
      "cell_type": "code",
      "source": [
        "data[data['Usage']=='Training']['emotion']"
      ],
      "metadata": {
        "id": "HTEMbXjrj1Rq"
      },
      "execution_count": null,
      "outputs": []
    },
    {
      "cell_type": "code",
      "execution_count": null,
      "metadata": {
        "_kg_hide-input": true,
        "execution": {
          "iopub.execute_input": "2022-02-04T13:26:56.199135Z",
          "iopub.status.busy": "2022-02-04T13:26:56.198346Z",
          "iopub.status.idle": "2022-02-04T13:26:56.215434Z",
          "shell.execute_reply": "2022-02-04T13:26:56.216058Z",
          "shell.execute_reply.started": "2021-11-10T11:07:32.358086Z"
        },
        "papermill": {
          "duration": 0.080128,
          "end_time": "2022-02-04T13:26:56.216220",
          "exception": false,
          "start_time": "2022-02-04T13:26:56.136092",
          "status": "completed"
        },
        "tags": [],
        "id": "SOi0EYk_dItg"
      },
      "outputs": [],
      "source": [
        "class_weight = dict(zip(range(0, 7), (((data[data['Usage']=='Training']['emotion'].value_counts()).sort_index()) / len(data[data['Usage']=='Training']['emotion'])).tolist()))\n",
        "class_weight"
      ]
    },
    {
      "cell_type": "markdown",
      "metadata": {
        "papermill": {
          "duration": 0.050525,
          "end_time": "2022-02-04T13:26:56.426915",
          "exception": false,
          "start_time": "2022-02-04T13:26:56.376390",
          "status": "completed"
        },
        "tags": [],
        "id": "Qmp04ssPdItg"
      },
      "source": [
        "## Model\n",
        "Basit bir CNN modeli tanımlıyoruz:"
      ]
    },
    {
      "cell_type": "code",
      "execution_count": null,
      "metadata": {
        "execution": {
          "iopub.execute_input": "2022-02-04T13:26:56.531830Z",
          "iopub.status.busy": "2022-02-04T13:26:56.531144Z",
          "iopub.status.idle": "2022-02-04T13:26:56.685002Z",
          "shell.execute_reply": "2022-02-04T13:26:56.684303Z",
          "shell.execute_reply.started": "2021-11-10T11:07:32.393462Z"
        },
        "papermill": {
          "duration": 0.207467,
          "end_time": "2022-02-04T13:26:56.685124",
          "exception": false,
          "start_time": "2022-02-04T13:26:56.477657",
          "status": "completed"
        },
        "tags": [],
        "id": "VLWY802MdIth"
      },
      "outputs": [],
      "source": [
        "model = tf.keras.Sequential()\n",
        "model.add(tf.keras.layers.Conv2D(32, (3, 3), activation='relu', input_shape=(48, 48, 1)))\n",
        "model.add(tf.keras.layers.MaxPool2D((2, 2)))\n",
        "model.add(tf.keras.layers.Conv2D(64, (3, 3), activation='relu'))\n",
        "model.add(tf.keras.layers.MaxPool2D((2, 2)))\n",
        "model.add(tf.keras.layers.Conv2D(64, (3, 3), activation='relu'))\n",
        "model.add(tf.keras.layers.Flatten())\n",
        "model.add(tf.keras.layers.Dense(64, activation='relu'))\n",
        "model.add(tf.keras.layers.Dense(7, activation='softmax'))"
      ]
    },
    {
      "cell_type": "code",
      "execution_count": null,
      "metadata": {
        "execution": {
          "iopub.execute_input": "2022-02-04T13:26:56.792480Z",
          "iopub.status.busy": "2022-02-04T13:26:56.791789Z",
          "iopub.status.idle": "2022-02-04T13:26:56.806499Z",
          "shell.execute_reply": "2022-02-04T13:26:56.807103Z",
          "shell.execute_reply.started": "2021-11-10T11:07:32.541416Z"
        },
        "papermill": {
          "duration": 0.07106,
          "end_time": "2022-02-04T13:26:56.807264",
          "exception": false,
          "start_time": "2022-02-04T13:26:56.736204",
          "status": "completed"
        },
        "tags": [],
        "id": "BkWT9kA3dIth"
      },
      "outputs": [],
      "source": [
        "model.compile(optimizer='adam',\n",
        "              loss=tf.keras.losses.CategoricalCrossentropy(),\n",
        "              metrics=['accuracy'])"
      ]
    },
    {
      "cell_type": "code",
      "execution_count": null,
      "metadata": {
        "execution": {
          "iopub.execute_input": "2022-02-04T13:26:56.917012Z",
          "iopub.status.busy": "2022-02-04T13:26:56.912698Z",
          "iopub.status.idle": "2022-02-04T13:26:56.921682Z",
          "shell.execute_reply": "2022-02-04T13:26:56.920820Z",
          "shell.execute_reply.started": "2021-11-10T11:07:32.556763Z"
        },
        "papermill": {
          "duration": 0.064047,
          "end_time": "2022-02-04T13:26:56.921865",
          "exception": false,
          "start_time": "2022-02-04T13:26:56.857818",
          "status": "completed"
        },
        "tags": [],
        "id": "6Vu4Tjo9dIth"
      },
      "outputs": [],
      "source": [
        "model.summary()"
      ]
    },
    {
      "cell_type": "code",
      "execution_count": null,
      "metadata": {
        "execution": {
          "iopub.execute_input": "2022-02-04T13:26:57.031035Z",
          "iopub.status.busy": "2022-02-04T13:26:57.029960Z",
          "iopub.status.idle": "2022-02-04T13:35:48.324609Z",
          "shell.execute_reply": "2022-02-04T13:35:48.325420Z",
          "shell.execute_reply.started": "2021-11-10T11:07:32.572931Z"
        },
        "papermill": {
          "duration": 531.350985,
          "end_time": "2022-02-04T13:35:48.325661",
          "exception": false,
          "start_time": "2022-02-04T13:26:56.974676",
          "status": "completed"
        },
        "tags": [],
        "id": "5oPp5du7dIti"
      },
      "outputs": [],
      "source": [
        "history = model.fit(train_images, train_labels,\n",
        "                    validation_data=(val_images, val_labels),\n",
        "                    class_weight = class_weight,\n",
        "                    epochs=12,\n",
        "                    batch_size=64)"
      ]
    },
    {
      "cell_type": "code",
      "execution_count": null,
      "metadata": {
        "execution": {
          "iopub.execute_input": "2022-02-04T13:35:52.002648Z",
          "iopub.status.busy": "2022-02-04T13:35:51.999053Z",
          "iopub.status.idle": "2022-02-04T13:35:53.590490Z",
          "shell.execute_reply": "2022-02-04T13:35:53.589878Z",
          "shell.execute_reply.started": "2021-11-10T11:16:02.099863Z"
        },
        "papermill": {
          "duration": 3.40989,
          "end_time": "2022-02-04T13:35:53.590612",
          "exception": false,
          "start_time": "2022-02-04T13:35:50.180722",
          "status": "completed"
        },
        "tags": [],
        "id": "qgw8tOVEdIti"
      },
      "outputs": [],
      "source": [
        "test_loss, test_acc = model.evaluate(test_images, test_labels)\n",
        "print('test caccuracy:', test_acc)"
      ]
    },
    {
      "cell_type": "markdown",
      "metadata": {
        "papermill": {
          "duration": 1.819412,
          "end_time": "2022-02-04T13:36:02.634396",
          "exception": false,
          "start_time": "2022-02-04T13:36:00.814984",
          "status": "completed"
        },
        "tags": [],
        "id": "EpxMbCYNdItj"
      },
      "source": [
        "## Yakınsama Analizi"
      ]
    },
    {
      "cell_type": "code",
      "execution_count": null,
      "metadata": {
        "_kg_hide-input": true,
        "execution": {
          "iopub.execute_input": "2022-02-04T13:36:06.372800Z",
          "iopub.status.busy": "2022-02-04T13:36:06.371786Z",
          "iopub.status.idle": "2022-02-04T13:36:06.558421Z",
          "shell.execute_reply": "2022-02-04T13:36:06.557701Z",
          "shell.execute_reply.started": "2021-11-10T11:16:05.187328Z"
        },
        "papermill": {
          "duration": 2.107197,
          "end_time": "2022-02-04T13:36:06.558546",
          "exception": false,
          "start_time": "2022-02-04T13:36:04.451349",
          "status": "completed"
        },
        "tags": [],
        "id": "kNVsgoQjdItj"
      },
      "outputs": [],
      "source": [
        "loss = history.history['loss']\n",
        "loss_val = history.history['val_loss']\n",
        "epochs = range(1, len(loss)+1)\n",
        "plt.plot(epochs, loss, 'bo', label='loss_train')\n",
        "plt.plot(epochs, loss_val, 'b', label='loss_val')\n",
        "plt.title('value of the loss function')\n",
        "plt.xlabel('epochs')\n",
        "plt.ylabel('value of the loss function')\n",
        "plt.legend()\n",
        "plt.grid()\n",
        "plt.show()"
      ]
    },
    {
      "cell_type": "code",
      "execution_count": null,
      "metadata": {
        "_kg_hide-input": true,
        "execution": {
          "iopub.execute_input": "2022-02-04T13:36:10.300646Z",
          "iopub.status.busy": "2022-02-04T13:36:10.299925Z",
          "iopub.status.idle": "2022-02-04T13:36:10.482233Z",
          "shell.execute_reply": "2022-02-04T13:36:10.481632Z",
          "shell.execute_reply.started": "2021-11-10T11:16:05.375518Z"
        },
        "papermill": {
          "duration": 2.00068,
          "end_time": "2022-02-04T13:36:10.482363",
          "exception": false,
          "start_time": "2022-02-04T13:36:08.481683",
          "status": "completed"
        },
        "tags": [],
        "id": "mbJYDoSPdItk"
      },
      "outputs": [],
      "source": [
        "acc = history.history['accuracy']\n",
        "acc_val = history.history['val_accuracy']\n",
        "epochs = range(1, len(loss)+1)\n",
        "plt.plot(epochs, acc, 'bo', label='accuracy_train')\n",
        "plt.plot(epochs, acc_val, 'b', label='accuracy_val')\n",
        "plt.title('accuracy')\n",
        "plt.xlabel('epochs')\n",
        "plt.ylabel('value of accuracy')\n",
        "plt.legend()\n",
        "plt.grid()\n",
        "plt.show()"
      ]
    },
    {
      "cell_type": "markdown",
      "metadata": {
        "papermill": {
          "duration": 1.817514,
          "end_time": "2022-02-04T13:36:14.131568",
          "exception": false,
          "start_time": "2022-02-04T13:36:12.314054",
          "status": "completed"
        },
        "tags": [],
        "id": "mBTHfAYxdItk"
      },
      "source": [
        "## Sonuç Analizi"
      ]
    },
    {
      "cell_type": "code",
      "source": [
        "#Prediction\n",
        "pred_test_labels = model.predict(test_image_array)"
      ],
      "metadata": {
        "id": "jwdnU-C_Fkvv"
      },
      "execution_count": null,
      "outputs": []
    },
    {
      "cell_type": "code",
      "execution_count": null,
      "metadata": {
        "_kg_hide-input": true,
        "execution": {
          "iopub.execute_input": "2022-02-04T13:36:17.853405Z",
          "iopub.status.busy": "2022-02-04T13:36:17.852384Z",
          "iopub.status.idle": "2022-02-04T13:36:18.130349Z",
          "shell.execute_reply": "2022-02-04T13:36:18.129784Z",
          "shell.execute_reply.started": "2021-11-10T11:16:05.558938Z"
        },
        "papermill": {
          "duration": 2.170076,
          "end_time": "2022-02-04T13:36:18.130470",
          "exception": false,
          "start_time": "2022-02-04T13:36:15.960394",
          "status": "completed"
        },
        "tags": [],
        "id": "JXYQfZv6dItk"
      },
      "outputs": [],
      "source": [
        "plot_image_and_emotion(test_image_array, test_image_label, pred_test_labels, 106)"
      ]
    },
    {
      "cell_type": "code",
      "execution_count": null,
      "metadata": {
        "_kg_hide-input": true,
        "execution": {
          "iopub.execute_input": "2022-02-04T13:36:21.791388Z",
          "iopub.status.busy": "2022-02-04T13:36:21.790735Z",
          "iopub.status.idle": "2022-02-04T13:36:22.068449Z",
          "shell.execute_reply": "2022-02-04T13:36:22.068936Z",
          "shell.execute_reply.started": "2021-11-10T11:16:05.841853Z"
        },
        "papermill": {
          "duration": 2.113404,
          "end_time": "2022-02-04T13:36:22.069109",
          "exception": false,
          "start_time": "2022-02-04T13:36:19.955705",
          "status": "completed"
        },
        "tags": [],
        "id": "kzs_sMfHdItk"
      },
      "outputs": [],
      "source": [
        "plot_image_and_emotion(test_image_array, test_image_label, pred_test_labels, 40)"
      ]
    },
    {
      "cell_type": "code",
      "execution_count": null,
      "metadata": {
        "_kg_hide-input": true,
        "execution": {
          "iopub.execute_input": "2022-02-04T13:36:25.779833Z",
          "iopub.status.busy": "2022-02-04T13:36:25.779192Z",
          "iopub.status.idle": "2022-02-04T13:36:26.259478Z",
          "shell.execute_reply": "2022-02-04T13:36:26.258837Z",
          "shell.execute_reply.started": "2021-11-10T11:16:06.114715Z"
        },
        "papermill": {
          "duration": 2.361302,
          "end_time": "2022-02-04T13:36:26.259606",
          "exception": false,
          "start_time": "2022-02-04T13:36:23.898304",
          "status": "completed"
        },
        "tags": [],
        "id": "PxvU8d2tdItl"
      },
      "outputs": [],
      "source": [
        "plot_compare_distributions(test_labels, pred_test_labels, title1='test labels', title2='predict labels')"
      ]
    },
    {
      "cell_type": "markdown",
      "metadata": {
        "papermill": {
          "duration": 1.871508,
          "end_time": "2022-02-04T13:36:29.980436",
          "exception": false,
          "start_time": "2022-02-04T13:36:28.108928",
          "status": "completed"
        },
        "tags": [],
        "id": "xvzg1k6udItm"
      },
      "source": [
        "## Yanlış Tahmini Analiz Edin\n",
        "Test kümesinde doğruluk puanı yaklaşık %54'tür. \n",
        "Bu yüzden yanlış tahminlere odaklanmak açıktır. \n",
        "Modeli geliştirmek için ayrıntıları çıkarmak istiyoruz."
      ]
    },
    {
      "cell_type": "code",
      "execution_count": null,
      "metadata": {
        "_kg_hide-input": true,
        "execution": {
          "iopub.execute_input": "2022-02-04T13:36:33.698495Z",
          "iopub.status.busy": "2022-02-04T13:36:33.697759Z",
          "iopub.status.idle": "2022-02-04T13:36:33.707146Z",
          "shell.execute_reply": "2022-02-04T13:36:33.707715Z",
          "shell.execute_reply.started": "2021-11-10T11:16:06.58762Z"
        },
        "papermill": {
          "duration": 1.896411,
          "end_time": "2022-02-04T13:36:33.707860",
          "exception": false,
          "start_time": "2022-02-04T13:36:31.811449",
          "status": "completed"
        },
        "tags": [],
        "id": "hNmcF8zRdItm"
      },
      "outputs": [],
      "source": [
        "df_compare = pd.DataFrame()\n",
        "df_compare['real'] = test_labels.argmax(axis=1)\n",
        "df_compare['pred'] = pred_test_labels.argmax(axis=1)\n",
        "df_compare['wrong'] = np.where(df_compare['real']!=df_compare['pred'], 1, 0)"
      ]
    },
    {
      "cell_type": "code",
      "source": [
        "emotions.values()"
      ],
      "metadata": {
        "id": "hTB7lSghnhYj"
      },
      "execution_count": null,
      "outputs": []
    },
    {
      "cell_type": "code",
      "execution_count": null,
      "metadata": {
        "_kg_hide-input": true,
        "execution": {
          "iopub.execute_input": "2022-02-04T13:36:38.027287Z",
          "iopub.status.busy": "2022-02-04T13:36:38.025005Z",
          "iopub.status.idle": "2022-02-04T13:36:38.416149Z",
          "shell.execute_reply": "2022-02-04T13:36:38.416897Z",
          "shell.execute_reply.started": "2021-11-10T11:16:06.601033Z"
        },
        "papermill": {
          "duration": 2.543089,
          "end_time": "2022-02-04T13:36:38.417167",
          "exception": false,
          "start_time": "2022-02-04T13:36:35.874078",
          "status": "completed"
        },
        "tags": [],
        "id": "KxU03S-pdItm"
      },
      "outputs": [],
      "source": [
        "conf_mat = confusion_matrix(test_labels.argmax(axis=1), pred_test_labels.argmax(axis=1))\n",
        "\n",
        "fig, ax = plot_confusion_matrix(conf_mat=conf_mat,\n",
        "                                show_normed=True,\n",
        "                                show_absolute=False,\n",
        "                                figsize=(8, 8))\n",
        "fig.show()"
      ]
    },
    {
      "cell_type": "code",
      "source": [
        ""
      ],
      "metadata": {
        "id": "G-25KI6tneDL"
      },
      "execution_count": null,
      "outputs": []
    }
  ],
  "metadata": {
    "kernelspec": {
      "display_name": "Python 3",
      "language": "python",
      "name": "python3"
    },
    "language_info": {
      "codemirror_mode": {
        "name": "ipython",
        "version": 3
      },
      "file_extension": ".py",
      "mimetype": "text/x-python",
      "name": "python",
      "nbconvert_exporter": "python",
      "pygments_lexer": "ipython3",
      "version": "3.7.6"
    },
    "papermill": {
      "duration": 616.08974,
      "end_time": "2022-02-04T13:36:40.764019",
      "environment_variables": {},
      "exception": null,
      "input_path": "__notebook__.ipynb",
      "output_path": "__notebook__.ipynb",
      "parameters": {},
      "start_time": "2022-02-04T13:26:24.674279",
      "version": "2.1.0"
    },
    "colab": {
      "name": "Day11_DeepLearning_5_emotion_recognition.ipynb",
      "provenance": [],
      "collapsed_sections": []
    },
    "accelerator": "GPU"
  },
  "nbformat": 4,
  "nbformat_minor": 0
}