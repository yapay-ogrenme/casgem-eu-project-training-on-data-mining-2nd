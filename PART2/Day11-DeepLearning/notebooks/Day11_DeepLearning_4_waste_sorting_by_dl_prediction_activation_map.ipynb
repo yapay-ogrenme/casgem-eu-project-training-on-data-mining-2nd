{
  "cells": [
    {
      "cell_type": "code",
      "source": [
        "import warnings\n",
        "warnings.filterwarnings('ignore')\n",
        "\n",
        "import tensorflow as tf\n",
        "import os\n",
        "import matplotlib.pyplot as plt\n",
        "import matplotlib.image as mpimg\n",
        "import numpy as np\n",
        "import cv2\n",
        "import time\n",
        "import random\n",
        "from imutils import paths\n",
        "from sklearn.utils import shuffle"
      ],
      "metadata": {
        "id": "genSE2VgOIKn"
      },
      "execution_count": null,
      "outputs": []
    },
    {
      "cell_type": "code",
      "source": [
        "print(\"TF version:\", tf.__version__)\n",
        "print(\"Keras version:\", tf.keras.__version__)\n",
        "print(\"GPU is\", \"available\" if tf.test.is_gpu_available() else \"NOT AVAILABLE\")"
      ],
      "metadata": {
        "id": "SNuh25a6OLEO"
      },
      "execution_count": null,
      "outputs": []
    },
    {
      "cell_type": "code",
      "source": [
        "#ROOT_DIR = \"/content/drive/MyDrive/CASGEM-Egitim/Egitim-Part2/Day11-DeepLearning/notebooks/\"\n",
        "ROOT_DIR = \"https://media.githubusercontent.com/media/yapay-ogrenme/casgem-eu-project-training-on-data-mining-2nd/main/PART2/Day11-DeepLearning/notebooks/\"\n",
        "\n",
        "MODEL_PATH = ROOT_DIR + \"models/\"\n",
        "MODEL_FILEPATH = MODEL_PATH + 'mobilenet_fine_trashnet_120.h5'\n",
        "\n",
        "DATASET_FOLDER_PATH = \"https://github.com/yapay-ogrenme/casgem-eu-project-training-on-data-mining-2nd/blob/main/PART2/Day11-DeepLearning/notebooks/datasets/waste_sorting/waste_sorting_images.zip?raw=true\" #waste_sorting_images.zip"
      ],
      "metadata": {
        "id": "5eFz_ehNOOqr"
      },
      "execution_count": null,
      "outputs": []
    },
    {
      "cell_type": "code",
      "source": [
        "!wget $MODEL_FILEPATH\n",
        "!wget $DATASET_FOLDER_PATH"
      ],
      "metadata": {
        "id": "8cwtdNvxOSeN"
      },
      "execution_count": null,
      "outputs": []
    },
    {
      "cell_type": "code",
      "source": [
        "!unzip \"waste_sorting_images.zip?raw=true\" -d \"waste_sorting\""
      ],
      "metadata": {
        "id": "ghf8m70hOTyT"
      },
      "execution_count": null,
      "outputs": []
    },
    {
      "cell_type": "markdown",
      "metadata": {
        "id": "1vY0keX0Atlj"
      },
      "source": [
        "## Model Load"
      ]
    },
    {
      "cell_type": "code",
      "execution_count": null,
      "metadata": {
        "id": "0GJvcujVAtlk"
      },
      "outputs": [],
      "source": [
        "#Model\n",
        "num_classes=6\n",
        "\n",
        "base_model = tf.keras.applications.MobileNet(weights='imagenet', include_top=False, classes=num_classes)\n",
        "\n",
        "x = tf.keras.layers.GlobalAveragePooling2D(input_shape=base_model.output_shape[1:])(base_model.output)\n",
        "x = tf.keras.layers.Dense(num_classes, activation='softmax', kernel_initializer='glorot_normal')(x)\n",
        "model = tf.keras.Model(inputs=base_model.input, outputs=x)\n",
        "\n",
        "#load weights\n",
        "model.load_weights(\"mobilenet_fine_trashnet_120.h5\")"
      ]
    },
    {
      "cell_type": "code",
      "execution_count": null,
      "metadata": {
        "id": "1P3lH5MNAtll"
      },
      "outputs": [],
      "source": [
        "model.summary()"
      ]
    },
    {
      "cell_type": "markdown",
      "metadata": {
        "id": "oU-iVlf-Atlm"
      },
      "source": [
        "# MY Gradient class activation map (GRAD CAM)"
      ]
    },
    {
      "cell_type": "markdown",
      "metadata": {
        "id": "goyiUnooAtlm"
      },
      "source": [
        "## Prediction"
      ]
    },
    {
      "cell_type": "code",
      "execution_count": null,
      "metadata": {
        "id": "a5GrlI7QAtln"
      },
      "outputs": [],
      "source": [
        "#my_test_path = \"waste_sorting/images/glass.jpeg\"\n",
        "my_test_path = \"waste_sorting/plastic471.jpg\"\n",
        "#my_test_path = \"waste_sorting/20190816_103719.jpg\"\n",
        "#my_test_path = \"waste_sorting/cardboard323.jpg\"\n",
        "\n",
        "target_size = (224, 224)\n",
        "\n",
        "img = cv2.imread(my_test_path)\n",
        "img = cv2.resize(img, target_size)\n",
        "\n",
        "plt.imshow(img)\n",
        "plt.axis('off')\n",
        "plt.show()\n",
        "\n",
        "img = np.array(img, dtype=\"float\") / 255.0\n",
        "img_data = np.expand_dims(img, axis=0)\n",
        "\n",
        "result_pred = model.predict(img_data, batch_size=1) \n",
        "print(result_pred)\n",
        "\n",
        "labels = [\"cardboard\", \"glass\", \"metal\", \"paper\", \"plastic\", \"trash\"]\n",
        "bestclass = labels[np.argmax(result_pred, axis=1)[0]]\n",
        "print(\"bestclass\", bestclass)\n",
        "\n",
        "argmax = np.argmax(result_pred, axis=1)[0]\n",
        "print(argmax)"
      ]
    },
    {
      "cell_type": "markdown",
      "metadata": {
        "id": "gyoZ62IUAtlo"
      },
      "source": [
        "## GRAD CAM"
      ]
    },
    {
      "cell_type": "code",
      "execution_count": null,
      "metadata": {
        "id": "t1S2JVhIAtlp"
      },
      "outputs": [],
      "source": [
        "tf.compat.v1.disable_eager_execution()\n",
        "\n",
        "output = model.output[:, argmax]\n",
        "\n",
        "last_conv_layer = model.get_layer('conv_pw_13')\n",
        "grads = tf.keras.backend.gradients(output, last_conv_layer.output)[0]\n",
        "pooled_grads = tf.keras.backend.mean(grads, axis=(0, 1, 2))\n",
        "iterate = tf.keras.backend.function([model.input], [pooled_grads, last_conv_layer.output[0]])\n",
        "\n",
        "pooled_grads_value, conv_layer_output_value = iterate([img_data])\n",
        "\n",
        "    \n",
        "for i in range(last_conv_layer.output.shape[-1]):\n",
        "    conv_layer_output_value[:, :, i] *= pooled_grads_value[i]\n",
        "    \n",
        "    \n",
        "heatmap = np.mean(conv_layer_output_value, axis=-1)\n",
        "heatmap = np.maximum(heatmap, 0)\n",
        "heatmap /= np.max(heatmap)\n",
        "\n",
        "\n",
        "heatmap = cv2.resize(heatmap, (img.shape[1], img.shape[0]))\n",
        "heatmap = np.uint8(255 * heatmap)\n",
        "heatmap = cv2.applyColorMap(heatmap, cv2.COLORMAP_JET)\n",
        "hif = .8\n",
        "superimposed_img = heatmap * hif + img\n",
        "\n",
        "output = 'waste_sorting/gradcam_result.jpg'\n",
        "\n",
        "cv2.imwrite(output, superimposed_img)\n",
        "\n",
        "img_output = mpimg.imread(output)\n",
        "\n",
        "plt.imshow(img_output)\n",
        "plt.axis('off')\n",
        "plt.title(bestclass.upper())"
      ]
    },
    {
      "cell_type": "code",
      "execution_count": null,
      "metadata": {
        "id": "V73zG5TrAtlq"
      },
      "outputs": [],
      "source": [
        ""
      ]
    }
  ],
  "metadata": {
    "kernelspec": {
      "display_name": "Python 3",
      "language": "python",
      "name": "python3"
    },
    "language_info": {
      "codemirror_mode": {
        "name": "ipython",
        "version": 3
      },
      "file_extension": ".py",
      "mimetype": "text/x-python",
      "name": "python",
      "nbconvert_exporter": "python",
      "pygments_lexer": "ipython3",
      "version": "3.6.9"
    },
    "colab": {
      "name": "Day11_DeepLearning_4_waste_sorting_by_dl_prediction_activation_map.ipynb",
      "provenance": [],
      "collapsed_sections": []
    },
    "accelerator": "GPU"
  },
  "nbformat": 4,
  "nbformat_minor": 0
}