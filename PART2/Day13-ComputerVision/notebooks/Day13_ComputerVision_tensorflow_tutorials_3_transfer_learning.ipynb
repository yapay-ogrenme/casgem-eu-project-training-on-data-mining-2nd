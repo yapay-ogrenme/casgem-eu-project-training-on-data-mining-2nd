{
  "cells": [
    {
      "cell_type": "markdown",
      "metadata": {
        "id": "hRTa3Ee15WsJ"
      },
      "source": [
        "# Transfer öğrenimi (Transfer learning) ve ince ayar (fine-tuning)"
      ]
    },
    {
      "cell_type": "markdown",
      "metadata": {
        "id": "2X4KyhORdSeO"
      },
      "source": [
        "Bu çalışma dosyası, önceden eğitilmiş bir ağdan transfer öğrenimini kullanarak kedi ve köpek görüntülerini nasıl sınıflandıracağınızı öğreneceksiniz.\n",
        "\n",
        "Önceden eğitilmiş bir model, daha önce büyük bir veri kümesinde, genellikle büyük ölçekli bir görüntü sınıflandırma görevinde eğitilmiş kayıtlı bir ağdır. Ya önceden eğitilmiş modeli olduğu gibi kullanırsınız ya da bu modeli belirli bir göreve göre özelleştirmek için transfer öğrenimini kullanırsınız.\n",
        "\n",
        "Görüntü sınıflandırması için transfer öğreniminin arkasındaki sezgi, bir modelin yeterince geniş ve genel bir veri kümesi üzerinde eğitilmesi durumunda, bu modelin görsel dünyanın genel bir modeli olarak etkin bir şekilde hizmet edeceğidir. Daha sonra, büyük bir modeli büyük bir veri kümesi üzerinde eğiterek sıfırdan başlamak zorunda kalmadan bu öğrenilen özellik haritalarından yararlanabilirsiniz.\n",
        "\n",
        "Bu çalışma dosyasında, önceden eğitilmiş bir modeli özelleştirmek için iki yol deneyeceksiniz:\n",
        "\n",
        "1. **Özellik Çıkarma:** Yeni örneklerden anlamlı özellikler çıkarmak için önceki bir ağ tarafından öğrenilen temsilleri kullanın. Önceden eğitilmiş modelin üzerine sıfırdan eğitilecek yeni bir sınıflandırıcı eklemeniz yeterlidir, böylece daha önce öğrenilen özellik haritalarını veri kümesi için yeniden kullanabilirsiniz.\n",
        "\n",
        " Tüm modeli (yeniden) eğitmeniz gerekmez. Temel evrişim ağı, resimleri sınıflandırmak için genel olarak yararlı olan özellikleri zaten içerir. Bununla birlikte, önceden eğitilmiş modelin son sınıflandırma kısmı, orijinal sınıflandırma görevine ve daha sonra modelin üzerinde eğitildiği sınıflar kümesine özgüdür.\n",
        "\n",
        "2. **İnce Ayar:** Donmuş bir model tabanının birkaç üst katmanını çözün ve hem yeni eklenen sınıflandırıcı katmanlarını hem de temel modelin son katmanlarını birlikte eğitin. Bu, belirli görev için onları daha alakalı hale getirmek için temel modeldeki yüksek mertebeden özellik temsillerine \"ince ayar yapmamızı\" sağlar.\n",
        "\n",
        "Genel makine öğrenimi iş akışını takip edeceksiniz.\n",
        "\n",
        "1. Verileri inceleyin ve anlayın\n",
        "1. Bu durumda Keras ImageDataGenerator kullanarak bir girdi ardışık düzeni oluşturun\n",
        "1. Modeli oluşturun\n",
        "   * Önceden eğitilmiş temel modelde (ve önceden eğitilmiş ağırlıklarda) yük\n",
        "   * Sınıflandırma katmanlarını üste istifleyin\n",
        "1. Modeli eğitin\n",
        "1. Modeli değerlendirin"
      ]
    },
    {
      "cell_type": "code",
      "execution_count": null,
      "metadata": {
        "execution": {
          "iopub.execute_input": "2022-01-26T05:20:02.205167Z",
          "iopub.status.busy": "2022-01-26T05:20:02.204623Z",
          "iopub.status.idle": "2022-01-26T05:20:04.658919Z",
          "shell.execute_reply": "2022-01-26T05:20:04.659326Z"
        },
        "id": "TqOt6Sv7AsMi"
      },
      "outputs": [],
      "source": [
        "import matplotlib.pyplot as plt\n",
        "import numpy as np\n",
        "import os\n",
        "import tensorflow as tf"
      ]
    },
    {
      "cell_type": "markdown",
      "metadata": {
        "id": "v77rlkCKW0IJ"
      },
      "source": [
        "## Veri ön işleme"
      ]
    },
    {
      "cell_type": "markdown",
      "metadata": {
        "id": "0GoKGm1duzgk"
      },
      "source": [
        "### Veri kümesi indirme"
      ]
    },
    {
      "cell_type": "markdown",
      "metadata": {
        "id": "vHP9qMJxt2oz"
      },
      "source": [
        "Bu çalışma dosyasında, kedi ve köpeklerin birkaç bin görüntüsünü içeren bir veri kümesi kullanacaksınız. Görüntüleri içeren bir zip dosyasını indirin ve ayıklayın, ardından `tf.keras.utils.image_dataset_from_directory` yardımcı programını kullanarak eğitim ve doğrulama için bir `tf.data.Dataset` oluşturun. [Bu eğitimde](https://www.tensorflow.org/tutorials/load_data/images) resim yükleme hakkında daha fazla bilgi edinebilirsiniz."
      ]
    },
    {
      "cell_type": "code",
      "execution_count": null,
      "metadata": {
        "execution": {
          "iopub.execute_input": "2022-01-26T05:20:04.665553Z",
          "iopub.status.busy": "2022-01-26T05:20:04.664961Z",
          "iopub.status.idle": "2022-01-26T05:20:08.541258Z",
          "shell.execute_reply": "2022-01-26T05:20:08.540697Z"
        },
        "id": "ro4oYaEmxe4r"
      },
      "outputs": [],
      "source": [
        "_URL = 'https://storage.googleapis.com/mledu-datasets/cats_and_dogs_filtered.zip'\n",
        "path_to_zip = tf.keras.utils.get_file('cats_and_dogs.zip', origin=_URL, extract=True)\n",
        "PATH = os.path.join(os.path.dirname(path_to_zip), 'cats_and_dogs_filtered')\n",
        "\n",
        "train_dir = os.path.join(PATH, 'train')\n",
        "validation_dir = os.path.join(PATH, 'validation')\n",
        "\n",
        "BATCH_SIZE = 32\n",
        "IMG_SIZE = (160, 160)\n",
        "\n",
        "train_dataset = tf.keras.utils.image_dataset_from_directory(train_dir,\n",
        "                                                            shuffle=True,\n",
        "                                                            batch_size=BATCH_SIZE,\n",
        "                                                            image_size=IMG_SIZE)"
      ]
    },
    {
      "cell_type": "code",
      "execution_count": null,
      "metadata": {
        "execution": {
          "iopub.execute_input": "2022-01-26T05:20:08.545766Z",
          "iopub.status.busy": "2022-01-26T05:20:08.545188Z",
          "iopub.status.idle": "2022-01-26T05:20:08.662980Z",
          "shell.execute_reply": "2022-01-26T05:20:08.662336Z"
        },
        "id": "cAvtLwi7_J__"
      },
      "outputs": [],
      "source": [
        "validation_dataset = tf.keras.utils.image_dataset_from_directory(validation_dir,\n",
        "                                                                 shuffle=True,\n",
        "                                                                 batch_size=BATCH_SIZE,\n",
        "                                                                 image_size=IMG_SIZE)"
      ]
    },
    {
      "cell_type": "markdown",
      "metadata": {
        "id": "yO1Q2JaW5sIy"
      },
      "source": [
        "Eğitim kümesindeki ilk dokuz resmi ve etiketi gösterin:"
      ]
    },
    {
      "cell_type": "code",
      "execution_count": null,
      "metadata": {
        "execution": {
          "iopub.execute_input": "2022-01-26T05:20:08.669133Z",
          "iopub.status.busy": "2022-01-26T05:20:08.668531Z",
          "iopub.status.idle": "2022-01-26T05:20:09.234640Z",
          "shell.execute_reply": "2022-01-26T05:20:09.235056Z"
        },
        "id": "K5BeQyKThC_Y"
      },
      "outputs": [],
      "source": [
        "class_names = train_dataset.class_names\n",
        "\n",
        "plt.figure(figsize=(10, 10))\n",
        "for images, labels in train_dataset.take(1):\n",
        "  for i in range(9):\n",
        "    ax = plt.subplot(3, 3, i + 1)\n",
        "    plt.imshow(images[i].numpy().astype(\"uint8\"))\n",
        "    plt.title(class_names[labels[i]])\n",
        "    plt.axis(\"off\")"
      ]
    },
    {
      "cell_type": "markdown",
      "metadata": {
        "id": "EZqCX_mpV3Mx"
      },
      "source": [
        "Orijinal veri kümesi bir test kümesi içermediğinden, bir tane oluşturacaksınız. Bunu yapmak için, `tf.data.experimental.cardinalite`yi kullanarak doğrulama kümesinde kaç tane veri grubu bulunduğunu belirleyin, ardından bunların %20'sini bir test kümesine taşıyın."
      ]
    },
    {
      "cell_type": "code",
      "execution_count": null,
      "metadata": {
        "execution": {
          "iopub.execute_input": "2022-01-26T05:20:09.239648Z",
          "iopub.status.busy": "2022-01-26T05:20:09.239052Z",
          "iopub.status.idle": "2022-01-26T05:20:09.242883Z",
          "shell.execute_reply": "2022-01-26T05:20:09.243268Z"
        },
        "id": "uFFIYrTFV9RO"
      },
      "outputs": [],
      "source": [
        "val_batches = tf.data.experimental.cardinality(validation_dataset)\n",
        "test_dataset = validation_dataset.take(val_batches // 5)\n",
        "validation_dataset = validation_dataset.skip(val_batches // 5)"
      ]
    },
    {
      "cell_type": "code",
      "execution_count": null,
      "metadata": {
        "execution": {
          "iopub.execute_input": "2022-01-26T05:20:09.247491Z",
          "iopub.status.busy": "2022-01-26T05:20:09.246852Z",
          "iopub.status.idle": "2022-01-26T05:20:09.249076Z",
          "shell.execute_reply": "2022-01-26T05:20:09.249431Z"
        },
        "id": "Q9pFlFWgBKgH"
      },
      "outputs": [],
      "source": [
        "print('Number of validation batches: %d' % tf.data.experimental.cardinality(validation_dataset))\n",
        "print('Number of test batches: %d' % tf.data.experimental.cardinality(test_dataset))"
      ]
    },
    {
      "cell_type": "markdown",
      "metadata": {
        "id": "MakSrdd--RKg"
      },
      "source": [
        "### Performans için veri kümesini yapılandırın"
      ]
    },
    {
      "cell_type": "markdown",
      "metadata": {
        "id": "22XWC7yjkZu4"
      },
      "source": [
        "I/O'yu engellemeden görüntüleri diskten yüklemek için arabelleğe alınmış önceden getirmeyi kullanın. Bu yöntem hakkında daha fazla bilgi edinmek için [veri performansı]((https://www.tensorflow.org/guide/data_performance)) kılavuzuna bakın."
      ]
    },
    {
      "cell_type": "code",
      "execution_count": null,
      "metadata": {
        "execution": {
          "iopub.execute_input": "2022-01-26T05:20:09.253638Z",
          "iopub.status.busy": "2022-01-26T05:20:09.253090Z",
          "iopub.status.idle": "2022-01-26T05:20:09.255652Z",
          "shell.execute_reply": "2022-01-26T05:20:09.256005Z"
        },
        "id": "p3UUPdm86LNC"
      },
      "outputs": [],
      "source": [
        "AUTOTUNE = tf.data.AUTOTUNE\n",
        "\n",
        "train_dataset = train_dataset.prefetch(buffer_size=AUTOTUNE)\n",
        "validation_dataset = validation_dataset.prefetch(buffer_size=AUTOTUNE)\n",
        "test_dataset = test_dataset.prefetch(buffer_size=AUTOTUNE)"
      ]
    },
    {
      "cell_type": "markdown",
      "metadata": {
        "id": "MYfcVwYLiR98"
      },
      "source": [
        "### Veri artırmayı kullanın"
      ]
    },
    {
      "cell_type": "markdown",
      "metadata": {
        "id": "bDWc5Oad1daX"
      },
      "source": [
        "Büyük bir görüntü veri kümeniz olmadığında, eğitim görüntülerine döndürme ve yatay çevirme gibi rastgele, ancak gerçekçi dönüşümler uygulayarak yapay olarak örnek çeşitliliğini tanıtmak iyi bir uygulamadır. Bu, modeli eğitim verilerinin farklı yönlerine maruz bırakmaya ve [aşırı uydurmayı](https://www.tensorflow.org/tutorials/keras/overfit_and_underfit) azaltmaya yardımcı olur. [Bu eğitimde](https://www.tensorflow.org/tutorials/images/data_augmentation) veri büyütme hakkında daha fazla bilgi edinebilirsiniz."
      ]
    },
    {
      "cell_type": "code",
      "execution_count": null,
      "metadata": {
        "execution": {
          "iopub.execute_input": "2022-01-26T05:20:09.260025Z",
          "iopub.status.busy": "2022-01-26T05:20:09.259436Z",
          "iopub.status.idle": "2022-01-26T05:20:09.386214Z",
          "shell.execute_reply": "2022-01-26T05:20:09.386632Z"
        },
        "id": "3P99QiMGit1A"
      },
      "outputs": [],
      "source": [
        "data_augmentation = tf.keras.Sequential([\n",
        "  tf.keras.layers.RandomFlip('horizontal'),\n",
        "  tf.keras.layers.RandomRotation(0.2),\n",
        "])"
      ]
    },
    {
      "cell_type": "markdown",
      "metadata": {
        "id": "s9SlcbhrarOO"
      },
      "source": [
        "Not: Bu katmanlar yalnızca eğitim sırasında `Model.fit`i çağırdığınızda aktiftir. Model, `Model.evaluate` veya `Model.fit` içindeki çıkarım modunda kullanıldığında etkin değildirler."
      ]
    },
    {
      "cell_type": "markdown",
      "metadata": {
        "id": "9mD3rE2Lm7-d"
      },
      "source": [
        "Bu katmanları tekrar tekrar aynı görüntüye uygulayalım ve sonucu görelim."
      ]
    },
    {
      "cell_type": "code",
      "execution_count": null,
      "metadata": {
        "execution": {
          "iopub.execute_input": "2022-01-26T05:20:09.392626Z",
          "iopub.status.busy": "2022-01-26T05:20:09.391961Z",
          "iopub.status.idle": "2022-01-26T05:20:10.128194Z",
          "shell.execute_reply": "2022-01-26T05:20:10.128600Z"
        },
        "id": "aQullOUHkm67"
      },
      "outputs": [],
      "source": [
        "for image, _ in train_dataset.take(1):\n",
        "  plt.figure(figsize=(10, 10))\n",
        "  first_image = image[0]\n",
        "  for i in range(9):\n",
        "    ax = plt.subplot(3, 3, i + 1)\n",
        "    augmented_image = data_augmentation(tf.expand_dims(first_image, 0))\n",
        "    plt.imshow(augmented_image[0] / 255)\n",
        "    plt.axis('off')"
      ]
    },
    {
      "cell_type": "markdown",
      "metadata": {
        "id": "bAywKtuVn8uK"
      },
      "source": [
        "### Piksel değerlerini yeniden ölçeklendir\n",
        "\n",
        "Birazdan, temel modeliniz olarak kullanmak için `tf.keras.applications.MobileNetV2` dosyasını indireceksiniz. Bu model `[-1, 1]` içinde piksel değerleri bekler, ancak bu noktada resimlerinizdeki piksel değerleri `[0, 255]` içindedir. Bunları yeniden ölçeklendirmek için modele dahil olan ön işleme yöntemini kullanın."
      ]
    },
    {
      "cell_type": "code",
      "execution_count": null,
      "metadata": {
        "execution": {
          "iopub.execute_input": "2022-01-26T05:20:10.133092Z",
          "iopub.status.busy": "2022-01-26T05:20:10.132504Z",
          "iopub.status.idle": "2022-01-26T05:20:10.134523Z",
          "shell.execute_reply": "2022-01-26T05:20:10.134894Z"
        },
        "id": "cO0HM9JAQUFq"
      },
      "outputs": [],
      "source": [
        "preprocess_input = tf.keras.applications.mobilenet_v2.preprocess_input"
      ]
    },
    {
      "cell_type": "markdown",
      "metadata": {
        "id": "xnr81qRMzcs5"
      },
      "source": [
        "Not: Alternatif olarak, `tf.keras.layers.Rescaling`i kullanarak piksel değerlerini `[0, 255]` ile `[-1, 1]` arasında yeniden ölçeklendirebilirsiniz."
      ]
    },
    {
      "cell_type": "code",
      "execution_count": null,
      "metadata": {
        "execution": {
          "iopub.execute_input": "2022-01-26T05:20:10.139798Z",
          "iopub.status.busy": "2022-01-26T05:20:10.139132Z",
          "iopub.status.idle": "2022-01-26T05:20:10.141543Z",
          "shell.execute_reply": "2022-01-26T05:20:10.141014Z"
        },
        "id": "R2NyJn4KQMux"
      },
      "outputs": [],
      "source": [
        "rescale = tf.keras.layers.Rescaling(1./127.5, offset=-1)"
      ]
    },
    {
      "cell_type": "markdown",
      "metadata": {
        "id": "Wz7qgImhTxw4"
      },
      "source": [
        "Not: Diğer `tf.keras.applications` kullanılıyorsa, `[-1, 1]` veya `[0, 1]` içinde piksel olup olmadığını belirlemek için API belgesini kontrol ettiğinizden veya dahil edilen `preprocess_input`u kullandığınızdan emin olun."
      ]
    },
    {
      "cell_type": "markdown",
      "metadata": {
        "id": "OkH-kazQecHB"
      },
      "source": [
        "## Önceden eğitilmiş convnet'lerden temel modeli oluşturun\n",
        "Google'da geliştirilen **MobileNet V2** modelinden temel modeli oluşturacaksınız. Bu, 1,4M görüntü ve 1000 sınıftan oluşan büyük bir veri kümesi olan ImageNet veri kümesinde önceden eğitilmiştir. ImageNet, `jackfruit` ve `syringe` gibi çok çeşitli kategorilere sahip bir araştırma eğitimi veri kümesidir. Bu bilgi temeli, kedileri ve köpekleri belirli veri kümemizden sınıflandırmamıza yardımcı olacaktır.\n",
        "\n",
        "Öncelikle, özellik çıkarımı için hangi MobileNet V2 katmanını kullanacağınızı seçmeniz gerekir. En son sınıflandırma katmanı (makine öğrenimi modellerinin çoğu diyagramı aşağıdan yukarıya gittiği için \"üstte\") çok kullanışlı değildir. Bunun yerine, düzleştirme işleminden önceki en son katmana bağlı olmak için yaygın uygulamayı izleyeceksiniz. Bu katmana \"darboğaz katmanı (bottleneck layer)\" denir. Darboğaz katmanı özellikleri, son/üst katmana kıyasla daha fazla genellik sağlar.\n",
        "\n",
        "İlk olarak, ImageNet üzerinde eğitilmiş ağırlıklarla önceden yüklenmiş bir MobileNet V2 modelini somutlaştırın. **include_top=False** bağımsız değişkenini belirterek, en üstte sınıflandırma katmanlarını içermeyen bir ağ yüklersiniz, bu özellik çıkarma için idealdir."
      ]
    },
    {
      "cell_type": "code",
      "execution_count": null,
      "metadata": {
        "execution": {
          "iopub.execute_input": "2022-01-26T05:20:10.152953Z",
          "iopub.status.busy": "2022-01-26T05:20:10.151186Z",
          "iopub.status.idle": "2022-01-26T05:20:11.320555Z",
          "shell.execute_reply": "2022-01-26T05:20:11.319959Z"
        },
        "id": "19IQ2gqneqmS"
      },
      "outputs": [],
      "source": [
        "# Create the base model from the pre-trained model MobileNet V2\n",
        "IMG_SHAPE = IMG_SIZE + (3,)\n",
        "base_model = tf.keras.applications.MobileNetV2(input_shape=IMG_SHAPE,\n",
        "                                               include_top=False,\n",
        "                                               weights='imagenet')"
      ]
    },
    {
      "cell_type": "markdown",
      "metadata": {
        "id": "AqcsxoJIEVXZ"
      },
      "source": [
        "Bu özellik çıkarıcı, her bir `160x160x3` resmi `5x5x1280` özellik bloğuna dönüştürür. Örnek bir toplu resim için ne yaptığını görelim:"
      ]
    },
    {
      "cell_type": "code",
      "execution_count": null,
      "metadata": {
        "execution": {
          "iopub.execute_input": "2022-01-26T05:20:11.325224Z",
          "iopub.status.busy": "2022-01-26T05:20:11.324631Z",
          "iopub.status.idle": "2022-01-26T05:20:12.740971Z",
          "shell.execute_reply": "2022-01-26T05:20:12.741329Z"
        },
        "id": "Y-2LJL0EEUcx"
      },
      "outputs": [],
      "source": [
        "image_batch, label_batch = next(iter(train_dataset))\n",
        "feature_batch = base_model(image_batch)\n",
        "print(feature_batch.shape)"
      ]
    },
    {
      "cell_type": "markdown",
      "metadata": {
        "id": "rlx56nQtfe8Y"
      },
      "source": [
        "## Öznitelik çıkarma\n",
        "Bu adımda, bir önceki adımdan oluşturulan evrişimsel tabanı donduracak ve bir özellik çıkarıcı olarak kullanacaksınız. Ek olarak, üstüne bir sınıflandırıcı eklersiniz ve üst düzey sınıflandırıcıyı eğitirsiniz."
      ]
    },
    {
      "cell_type": "markdown",
      "metadata": {
        "id": "CnMLieHBCwil"
      },
      "source": [
        "### Evrişimli tabanı dondurun"
      ]
    },
    {
      "cell_type": "markdown",
      "metadata": {
        "id": "7fL6upiN3ekS"
      },
      "source": [
        "Modeli derlemeden ve eğitmeden önce evrişim tabanını dondurmak(freeze) önemlidir. Dondurma (layer.trainable = False ayarlanarak), belirli bir katmandaki ağırlıkların eğitim sırasında güncellenmesini engeller. MobileNet V2'nin birçok katmanı vardır, bu nedenle tüm modelin `(eğitilebilir)trainable` bayrağını False olarak ayarlamak hepsini donduracaktır."
      ]
    },
    {
      "cell_type": "code",
      "execution_count": null,
      "metadata": {
        "execution": {
          "iopub.execute_input": "2022-01-26T05:20:12.749227Z",
          "iopub.status.busy": "2022-01-26T05:20:12.748606Z",
          "iopub.status.idle": "2022-01-26T05:20:12.750506Z",
          "shell.execute_reply": "2022-01-26T05:20:12.750866Z"
        },
        "id": "OTCJH4bphOeo"
      },
      "outputs": [],
      "source": [
        "base_model.trainable = False"
      ]
    },
    {
      "cell_type": "markdown",
      "metadata": {
        "id": "jsNHwpm7BeVM"
      },
      "source": [
        "### BatchNormalizasyon katmanları hakkında önemli not\n",
        "\n",
        "Birçok model `tf.keras.layers.BatchNormalization` katmanlarını içerir. Bu katman özel bir durumdur ve bu çalışma dosyasında daha sonra gösterildiği gibi ince ayar bağlamında önlemler alınmalıdır.\n",
        "\n",
        "`layer.trainable = False` ayarını yaptığınızda, `BatchNormalization` katmanı çıkarım modunda çalışacak ve ortalama ve varyans istatistiklerini güncellemeyecektir.\n",
        "\n",
        "İnce ayar yapmak için BatchNormalization katmanları içeren bir modeli çözdüğünüzde, temel modeli çağırırken `training = False` ileterek BatchNormalization katmanlarını çıkarım modunda tutmalısınız. Aksi takdirde, eğitilebilir olmayan ağırlıklara uygulanan güncellemeler, modelin öğrendiklerini yok edecektir.\n",
        "\n",
        "Daha fazla ayrıntı için [Transfer öğrenim kılavuzuna](https://www.tensorflow.org/guide/keras/transfer_learning) bakın."
      ]
    },
    {
      "cell_type": "code",
      "execution_count": null,
      "metadata": {
        "execution": {
          "iopub.execute_input": "2022-01-26T05:20:12.754563Z",
          "iopub.status.busy": "2022-01-26T05:20:12.754014Z",
          "iopub.status.idle": "2022-01-26T05:20:13.021786Z",
          "shell.execute_reply": "2022-01-26T05:20:12.942909Z"
        },
        "id": "KpbzSmPkDa-N"
      },
      "outputs": [],
      "source": [
        "# Let's take a look at the base model architecture\n",
        "base_model.summary()"
      ]
    },
    {
      "cell_type": "markdown",
      "metadata": {
        "id": "wdMRM8YModbk"
      },
      "source": [
        "### Bir sınıflandırma katmanı ekleyin"
      ]
    },
    {
      "cell_type": "markdown",
      "metadata": {
        "id": "QBc31c4tMOdH"
      },
      "source": [
        "Özellikler bloğundan tahminler oluşturmak için, özellikleri görüntü başına tek bir 1280 elemanlı vektöre dönüştürmek için bir `tf.keras.layers.GlobalAveragePooling2D` katmanını kullanarak uzamsal(spatial) \"5x5\" uzamsal konumların ortalamasını alın."
      ]
    },
    {
      "cell_type": "code",
      "execution_count": null,
      "metadata": {
        "execution": {
          "iopub.execute_input": "2022-01-26T05:20:13.028239Z",
          "iopub.status.busy": "2022-01-26T05:20:13.027680Z",
          "iopub.status.idle": "2022-01-26T05:20:13.029521Z",
          "shell.execute_reply": "2022-01-26T05:20:13.029873Z"
        },
        "id": "dLnpMF5KOALm"
      },
      "outputs": [],
      "source": [
        "global_average_layer = tf.keras.layers.GlobalAveragePooling2D()\n",
        "feature_batch_average = global_average_layer(feature_batch)\n",
        "print(feature_batch_average.shape)"
      ]
    },
    {
      "cell_type": "markdown",
      "metadata": {
        "id": "O1p0OJBR6dOT"
      },
      "source": [
        "Bu özellikleri görüntü başına tek bir tahmine dönüştürmek için bir `tf.keras.layers.Dense` katmanı uygulayın. Burada bir etkinleştirme işlevine ihtiyacınız yoktur, çünkü bu tahmin bir `logit` veya ham bir tahmin değeri olarak değerlendirilecektir. Pozitif sayılar sınıf 1'i, negatif sayılar sınıf 0'ı öngörür."
      ]
    },
    {
      "cell_type": "code",
      "execution_count": null,
      "metadata": {
        "execution": {
          "iopub.execute_input": "2022-01-26T05:20:13.035500Z",
          "iopub.status.busy": "2022-01-26T05:20:13.034942Z",
          "iopub.status.idle": "2022-01-26T05:20:13.039764Z",
          "shell.execute_reply": "2022-01-26T05:20:13.039223Z"
        },
        "id": "Wv4afXKj6cVa"
      },
      "outputs": [],
      "source": [
        "prediction_layer = tf.keras.layers.Dense(1)\n",
        "prediction_batch = prediction_layer(feature_batch_average)\n",
        "print(prediction_batch.shape)"
      ]
    },
    {
      "cell_type": "markdown",
      "metadata": {
        "id": "HXvz-ZkTa9b3"
      },
      "source": [
        "[Keras Functional API](https://www.tensorflow.org/guide/keras/functional)'sini kullanarak veri arttırma, yeniden ölçeklendirme, `base_model` ve özellik çıkarıcı katmanlarını zincirleyerek bir model oluşturun. Daha önce belirtildiği gibi, modelimiz bir `BatchNormalization` katmanı içerdiğinden `training=False` kullanın."
      ]
    },
    {
      "cell_type": "code",
      "execution_count": null,
      "metadata": {
        "execution": {
          "iopub.execute_input": "2022-01-26T05:20:13.046320Z",
          "iopub.status.busy": "2022-01-26T05:20:13.045024Z",
          "iopub.status.idle": "2022-01-26T05:20:13.384697Z",
          "shell.execute_reply": "2022-01-26T05:20:13.384094Z"
        },
        "id": "DgzQX6Veb2WT"
      },
      "outputs": [],
      "source": [
        "inputs = tf.keras.Input(shape=(160, 160, 3))\n",
        "x = data_augmentation(inputs)\n",
        "x = preprocess_input(x)\n",
        "x = base_model(x, training=False)\n",
        "x = global_average_layer(x)\n",
        "x = tf.keras.layers.Dropout(0.2)(x)\n",
        "outputs = prediction_layer(x)\n",
        "\n",
        "model = tf.keras.Model(inputs, outputs)"
      ]
    },
    {
      "cell_type": "markdown",
      "metadata": {
        "id": "g0ylJXE_kRLi"
      },
      "source": [
        "### Modeli derleyin\n",
        "\n",
        "Modeli eğitmeden önce derleyin. İki sınıf olduğundan, model doğrusal bir çıktı sağladığı için `from_logits=True` ile `tf.keras.losses.BinaryCrossentropy` kaybını kullanın."
      ]
    },
    {
      "cell_type": "code",
      "execution_count": null,
      "metadata": {
        "execution": {
          "iopub.execute_input": "2022-01-26T05:20:13.394531Z",
          "iopub.status.busy": "2022-01-26T05:20:13.393895Z",
          "iopub.status.idle": "2022-01-26T05:20:13.400732Z",
          "shell.execute_reply": "2022-01-26T05:20:13.400279Z"
        },
        "id": "RpR8HdyMhukJ"
      },
      "outputs": [],
      "source": [
        "base_learning_rate = 0.0001\n",
        "model.compile(optimizer=tf.keras.optimizers.Adam(learning_rate=base_learning_rate),\n",
        "              loss=tf.keras.losses.BinaryCrossentropy(from_logits=True),\n",
        "              metrics=['accuracy'])"
      ]
    },
    {
      "cell_type": "code",
      "execution_count": null,
      "metadata": {
        "execution": {
          "iopub.execute_input": "2022-01-26T05:20:13.404916Z",
          "iopub.status.busy": "2022-01-26T05:20:13.404270Z",
          "iopub.status.idle": "2022-01-26T05:20:13.427291Z",
          "shell.execute_reply": "2022-01-26T05:20:13.426839Z"
        },
        "id": "I8ARiyMFsgbH"
      },
      "outputs": [],
      "source": [
        "model.summary()"
      ]
    },
    {
      "cell_type": "markdown",
      "metadata": {
        "id": "lxOcmVr0ydFZ"
      },
      "source": [
        "MobileNet'teki 2,5 milyon parametre donduruldu, ancak Dense katmanda 1,2 bin _eğitilebilir(trainable)_ parametre var. Bunlar, ağırlıklar ve önyargılar olmak üzere iki `tf.Variable` nesnesi arasında bölünür."
      ]
    },
    {
      "cell_type": "code",
      "execution_count": null,
      "metadata": {
        "execution": {
          "iopub.execute_input": "2022-01-26T05:20:13.432449Z",
          "iopub.status.busy": "2022-01-26T05:20:13.431821Z",
          "iopub.status.idle": "2022-01-26T05:20:13.434316Z",
          "shell.execute_reply": "2022-01-26T05:20:13.434712Z"
        },
        "id": "krvBumovycVA"
      },
      "outputs": [],
      "source": [
        "len(model.trainable_variables)"
      ]
    },
    {
      "cell_type": "markdown",
      "metadata": {
        "id": "RxvgOYTDSWTx"
      },
      "source": [
        "### Modeli eğitin\n",
        "\n",
        "10 dönemlik eğitimden sonra, doğrulama kümesinde ~%94 doğruluk görmelisiniz."
      ]
    },
    {
      "cell_type": "code",
      "execution_count": null,
      "metadata": {
        "execution": {
          "iopub.execute_input": "2022-01-26T05:20:13.439728Z",
          "iopub.status.busy": "2022-01-26T05:20:13.439086Z",
          "iopub.status.idle": "2022-01-26T05:20:15.374710Z",
          "shell.execute_reply": "2022-01-26T05:20:15.375102Z"
        },
        "id": "Om4O3EESkab1"
      },
      "outputs": [],
      "source": [
        "initial_epochs = 10\n",
        "\n",
        "loss0, accuracy0 = model.evaluate(validation_dataset)"
      ]
    },
    {
      "cell_type": "code",
      "execution_count": null,
      "metadata": {
        "execution": {
          "iopub.execute_input": "2022-01-26T05:20:15.379836Z",
          "iopub.status.busy": "2022-01-26T05:20:15.379183Z",
          "iopub.status.idle": "2022-01-26T05:20:15.381640Z",
          "shell.execute_reply": "2022-01-26T05:20:15.381205Z"
        },
        "id": "8cYT1c48CuSd"
      },
      "outputs": [],
      "source": [
        "print(\"initial loss: {:.2f}\".format(loss0))\n",
        "print(\"initial accuracy: {:.2f}\".format(accuracy0))"
      ]
    },
    {
      "cell_type": "code",
      "execution_count": null,
      "metadata": {
        "execution": {
          "iopub.execute_input": "2022-01-26T05:20:15.386659Z",
          "iopub.status.busy": "2022-01-26T05:20:15.385985Z",
          "iopub.status.idle": "2022-01-26T05:20:32.009940Z",
          "shell.execute_reply": "2022-01-26T05:20:32.010351Z"
        },
        "id": "JsaRFlZ9B6WK"
      },
      "outputs": [],
      "source": [
        "history = model.fit(train_dataset,\n",
        "                    epochs=initial_epochs,\n",
        "                    validation_data=validation_dataset)"
      ]
    },
    {
      "cell_type": "markdown",
      "metadata": {
        "id": "Hd94CKImf8vi"
      },
      "source": [
        "### Öğrenme eğrileri (Learning curves)\n",
        "\n",
        "MobileNetV2 temel modelini sabit bir öznitelik çıkarıcı olarak kullanırken eğitim ve doğrulama kümesinin doğruluğu/kaybının (accuracy/loss) öğrenme eğrilerine bir göz atalım."
      ]
    },
    {
      "cell_type": "code",
      "execution_count": null,
      "metadata": {
        "execution": {
          "iopub.execute_input": "2022-01-26T05:20:32.061621Z",
          "iopub.status.busy": "2022-01-26T05:20:32.026668Z",
          "iopub.status.idle": "2022-01-26T05:20:32.219514Z",
          "shell.execute_reply": "2022-01-26T05:20:32.219972Z"
        },
        "id": "53OTCh3jnbwV"
      },
      "outputs": [],
      "source": [
        "acc = history.history['accuracy']\n",
        "val_acc = history.history['val_accuracy']\n",
        "\n",
        "loss = history.history['loss']\n",
        "val_loss = history.history['val_loss']\n",
        "\n",
        "plt.figure(figsize=(8, 8))\n",
        "plt.subplot(2, 1, 1)\n",
        "plt.plot(acc, label='Training Accuracy')\n",
        "plt.plot(val_acc, label='Validation Accuracy')\n",
        "plt.legend(loc='lower right')\n",
        "plt.ylabel('Accuracy')\n",
        "plt.ylim([min(plt.ylim()),1])\n",
        "plt.title('Training and Validation Accuracy')\n",
        "\n",
        "plt.subplot(2, 1, 2)\n",
        "plt.plot(loss, label='Training Loss')\n",
        "plt.plot(val_loss, label='Validation Loss')\n",
        "plt.legend(loc='upper right')\n",
        "plt.ylabel('Cross Entropy')\n",
        "plt.ylim([0,1.0])\n",
        "plt.title('Training and Validation Loss')\n",
        "plt.xlabel('epoch')\n",
        "plt.show()"
      ]
    },
    {
      "cell_type": "markdown",
      "metadata": {
        "id": "foWMyyUHbc1j"
      },
      "source": [
        "Not: Doğrulama metriklerinin neden eğitim metriklerinden açıkça daha iyi olduğunu merak ediyorsanız, ana faktör `tf.keras.layers.BatchNormalization` ve `tf.keras.layers.Dropout` gibi katmanların eğitim sırasında doğruluğu etkilemesidir. Doğrulama kaybı hesaplanırken kapatılırlar.\n",
        "\n",
        "Daha az ölçüde, bunun nedeni aynı zamanda eğitim metriklerinin bir devir(epoch) ortalamasını raporlaması ve doğrulama metriklerinin devirden(epoch) sonra değerlendirilmesidir, dolayısıyla doğrulama metriklerinin biraz daha uzun eğitilmiş bir model görmesidir."
      ]
    },
    {
      "cell_type": "markdown",
      "metadata": {
        "id": "CqwV-CRdS6Nv"
      },
      "source": [
        "## İnce ayar (Fine tuning)\n",
        "Öznitelik çıkarma deneyinde, bir MobileNetV2 temel modelinin üzerinde yalnızca birkaç katmanı eğitiyordunuz. Önceden eğitilmiş ağın ağırlıkları, eğitim sırasında **güncellenmedi**.\n",
        "\n",
        "Performansı daha da artırmanın bir yolu, eklediğiniz sınıflandırıcının eğitiminin yanı sıra önceden eğitilmiş modelin üst katmanlarının ağırlıklarını eğitmek (veya \"ince ayar yapmak\"). Eğitim süreci, ağırlıkların genel öznitelik haritalarından özellikle veri kümesiyle ilişkilendirilen özelliklere ayarlanmasını zorlayacaktır.\n",
        "\n",
        "Not: Bu, yalnızca önceden eğitilmiş model eğitilemez olarak ayarlanmış olarak üst düzey sınıflandırıcıyı eğittikten sonra denenmelidir. Önceden eğitilmiş bir modelin üzerine rastgele başlatılmış bir sınıflandırıcı ekler ve tüm katmanları birlikte eğitmeye çalışırsanız, degrade güncellemelerinin büyüklüğü (sınıflandırıcıdan gelen rastgele ağırlıklar nedeniyle) çok büyük olur ve önceden eğitilmiş modeliniz öğrendiklerini unut.\n",
        "\n",
        "Ayrıca, tüm MobileNet modeli yerine az sayıda üst katmanda ince ayar yapmaya çalışmalısınız. Çoğu evrişimsel ağda, bir katman ne kadar yüksekse, o kadar özelleşir. İlk birkaç katman, hemen hemen tüm görüntü türlerini genelleştiren çok basit ve genel özellikleri öğrenir. Siz yukarı çıktıkça, özellikler modelin üzerinde eğitildiği veri kümesine giderek daha özel hale gelir. İnce ayarın amacı, genel öğrenmenin üzerine yazmak yerine bu özelleştirilmiş özellikleri yeni veri kümesiyle çalışacak şekilde uyarlamaktır."
      ]
    },
    {
      "cell_type": "markdown",
      "metadata": {
        "id": "CPXnzUK0QonF"
      },
      "source": [
        "### Modelin üst katmanlarını çözdürün (Un-freeze)"
      ]
    },
    {
      "cell_type": "markdown",
      "metadata": {
        "id": "rfxv_ifotQak"
      },
      "source": [
        "Tek yapmanız gereken `base_model`i çözmek ve alt katmanları eğitilemez hale getirmek. Ardından, modeli yeniden derlemelisiniz (bu değişikliklerin etkili olması için gerekli) ve eğitime devam etmelisiniz."
      ]
    },
    {
      "cell_type": "code",
      "execution_count": null,
      "metadata": {
        "execution": {
          "iopub.execute_input": "2022-01-26T05:20:32.228327Z",
          "iopub.status.busy": "2022-01-26T05:20:32.227644Z",
          "iopub.status.idle": "2022-01-26T05:20:32.229475Z",
          "shell.execute_reply": "2022-01-26T05:20:32.229810Z"
        },
        "id": "4nzcagVitLQm"
      },
      "outputs": [],
      "source": [
        "base_model.trainable = True"
      ]
    },
    {
      "cell_type": "code",
      "execution_count": null,
      "metadata": {
        "execution": {
          "iopub.execute_input": "2022-01-26T05:20:32.236750Z",
          "iopub.status.busy": "2022-01-26T05:20:32.236055Z",
          "iopub.status.idle": "2022-01-26T05:20:32.238937Z",
          "shell.execute_reply": "2022-01-26T05:20:32.238530Z"
        },
        "id": "-4HgVAacRs5v"
      },
      "outputs": [],
      "source": [
        "# Let's take a look to see how many layers are in the base model\n",
        "print(\"Number of layers in the base model: \", len(base_model.layers))\n",
        "\n",
        "# Fine-tune from this layer onwards\n",
        "# bu katmandan itibaren ince ayar yapılacak\n",
        "fine_tune_at = 100\n",
        "\n",
        "# Freeze all the layers before the `fine_tune_at` layer\n",
        "for layer in base_model.layers[:fine_tune_at]:\n",
        "  layer.trainable = False"
      ]
    },
    {
      "cell_type": "markdown",
      "metadata": {
        "id": "4Uk1dgsxT0IS"
      },
      "source": [
        "### Modeli derleyin\n",
        "\n",
        "Çok daha büyük bir modeli eğittiğiniz ve önceden eğitilmiş ağırlıkları yeniden uyarlamak istediğiniz için bu aşamada daha düşük bir öğrenme oranı kullanmak önemlidir. Aksi takdirde, modeliniz çok hızlı bir şekilde aşırı uyuma yol açabilir."
      ]
    },
    {
      "cell_type": "code",
      "execution_count": null,
      "metadata": {
        "execution": {
          "iopub.execute_input": "2022-01-26T05:20:32.244959Z",
          "iopub.status.busy": "2022-01-26T05:20:32.244372Z",
          "iopub.status.idle": "2022-01-26T05:20:32.251569Z",
          "shell.execute_reply": "2022-01-26T05:20:32.251931Z"
        },
        "id": "NtUnaz0WUDva"
      },
      "outputs": [],
      "source": [
        "model.compile(loss=tf.keras.losses.BinaryCrossentropy(from_logits=True),\n",
        "              optimizer = tf.keras.optimizers.RMSprop(learning_rate=base_learning_rate/10),\n",
        "              metrics=['accuracy'])"
      ]
    },
    {
      "cell_type": "code",
      "execution_count": null,
      "metadata": {
        "execution": {
          "iopub.execute_input": "2022-01-26T05:20:32.256159Z",
          "iopub.status.busy": "2022-01-26T05:20:32.255209Z",
          "iopub.status.idle": "2022-01-26T05:20:32.284105Z",
          "shell.execute_reply": "2022-01-26T05:20:32.284479Z"
        },
        "id": "WwBWy7J2kZvA"
      },
      "outputs": [],
      "source": [
        "model.summary()"
      ]
    },
    {
      "cell_type": "code",
      "execution_count": null,
      "metadata": {
        "execution": {
          "iopub.execute_input": "2022-01-26T05:20:32.288962Z",
          "iopub.status.busy": "2022-01-26T05:20:32.288181Z",
          "iopub.status.idle": "2022-01-26T05:20:32.291276Z",
          "shell.execute_reply": "2022-01-26T05:20:32.290866Z"
        },
        "id": "bNXelbMQtonr"
      },
      "outputs": [],
      "source": [
        "len(model.trainable_variables)"
      ]
    },
    {
      "cell_type": "markdown",
      "metadata": {
        "id": "4G5O4jd6TuAG"
      },
      "source": [
        "### Modeli eğitmeye devam edin"
      ]
    },
    {
      "cell_type": "markdown",
      "metadata": {
        "id": "0foWUN-yDLo_"
      },
      "source": [
        "Daha önce yakınsama(convergence) eğitimi aldıysanız, bu adım doğruluğunuzu birkaç yüzde puanı artıracaktır."
      ]
    },
    {
      "cell_type": "code",
      "execution_count": null,
      "metadata": {
        "execution": {
          "iopub.execute_input": "2022-01-26T05:20:32.296225Z",
          "iopub.status.busy": "2022-01-26T05:20:32.295659Z",
          "iopub.status.idle": "2022-01-26T05:20:57.746579Z",
          "shell.execute_reply": "2022-01-26T05:20:57.746101Z"
        },
        "id": "ECQLkAsFTlun"
      },
      "outputs": [],
      "source": [
        "fine_tune_epochs = 10\n",
        "total_epochs =  initial_epochs + fine_tune_epochs\n",
        "\n",
        "history_fine = model.fit(train_dataset,\n",
        "                         epochs=total_epochs,\n",
        "                         initial_epoch=history.epoch[-1],\n",
        "                         validation_data=validation_dataset)"
      ]
    },
    {
      "cell_type": "markdown",
      "metadata": {
        "id": "TfXEmsxQf6eP"
      },
      "source": [
        "Şimdi MobileNetV2 temel modelinin son birkaç katmanına ince ayar yaparken ve bunun üzerine sınıflandırıcıyı eğitirken eğitim ve doğrulama kümesinin doğruluğu/kaybının öğrenme eğrilerine bir göz atalım. Doğrulama kaybı, eğitim kaybından çok daha yüksektir, bu nedenle biraz aşırı uyum sağlayabilirsiniz.\n",
        "\n",
        "Yeni eğitim kümesi nispeten küçük olduğundan ve orijinal MobileNetV2 veri kümesine benzer olduğundan, biraz aşırı uyum sağlayabilirsiniz."
      ]
    },
    {
      "cell_type": "markdown",
      "metadata": {
        "id": "DNtfNZKlInGT"
      },
      "source": [
        "İnce ayardan sonra model, doğrulama kümesinde neredeyse %98 doğruluğa ulaşır."
      ]
    },
    {
      "cell_type": "code",
      "execution_count": null,
      "metadata": {
        "execution": {
          "iopub.execute_input": "2022-01-26T05:20:57.751348Z",
          "iopub.status.busy": "2022-01-26T05:20:57.750776Z",
          "iopub.status.idle": "2022-01-26T05:20:57.752399Z",
          "shell.execute_reply": "2022-01-26T05:20:57.752743Z"
        },
        "id": "PpA8PlpQKygw"
      },
      "outputs": [],
      "source": [
        "acc += history_fine.history['accuracy']\n",
        "val_acc += history_fine.history['val_accuracy']\n",
        "\n",
        "loss += history_fine.history['loss']\n",
        "val_loss += history_fine.history['val_loss']"
      ]
    },
    {
      "cell_type": "code",
      "execution_count": null,
      "metadata": {
        "execution": {
          "iopub.execute_input": "2022-01-26T05:20:57.792542Z",
          "iopub.status.busy": "2022-01-26T05:20:57.768334Z",
          "iopub.status.idle": "2022-01-26T05:20:58.009440Z",
          "shell.execute_reply": "2022-01-26T05:20:58.009817Z"
        },
        "id": "chW103JUItdk"
      },
      "outputs": [],
      "source": [
        "plt.figure(figsize=(8, 8))\n",
        "plt.subplot(2, 1, 1)\n",
        "plt.plot(acc, label='Training Accuracy')\n",
        "plt.plot(val_acc, label='Validation Accuracy')\n",
        "plt.ylim([0.8, 1])\n",
        "plt.plot([initial_epochs-1,initial_epochs-1],\n",
        "          plt.ylim(), label='Start Fine Tuning')\n",
        "plt.legend(loc='lower right')\n",
        "plt.title('Training and Validation Accuracy')\n",
        "\n",
        "plt.subplot(2, 1, 2)\n",
        "plt.plot(loss, label='Training Loss')\n",
        "plt.plot(val_loss, label='Validation Loss')\n",
        "plt.ylim([0, 1.0])\n",
        "plt.plot([initial_epochs-1,initial_epochs-1],\n",
        "         plt.ylim(), label='Start Fine Tuning')\n",
        "plt.legend(loc='upper right')\n",
        "plt.title('Training and Validation Loss')\n",
        "plt.xlabel('epoch')\n",
        "plt.show()"
      ]
    },
    {
      "cell_type": "markdown",
      "metadata": {
        "id": "R6cWgjgfrsn5"
      },
      "source": [
        "### Değerlendirme ve tahmin"
      ]
    },
    {
      "cell_type": "markdown",
      "metadata": {
        "id": "PSXH7PRMxOi5"
      },
      "source": [
        "Son olarak, test kümesini kullanarak modelin performansını yeni veriler üzerinde doğrulayabilirsiniz."
      ]
    },
    {
      "cell_type": "code",
      "execution_count": null,
      "metadata": {
        "execution": {
          "iopub.execute_input": "2022-01-26T05:20:58.014574Z",
          "iopub.status.busy": "2022-01-26T05:20:58.014023Z",
          "iopub.status.idle": "2022-01-26T05:20:58.188167Z",
          "shell.execute_reply": "2022-01-26T05:20:58.187661Z"
        },
        "id": "2KyNhagHwfar"
      },
      "outputs": [],
      "source": [
        "loss, accuracy = model.evaluate(test_dataset)\n",
        "print('Test accuracy :', accuracy)"
      ]
    },
    {
      "cell_type": "markdown",
      "metadata": {
        "id": "8UjS5ukZfOcR"
      },
      "source": [
        "Artık evcil hayvanınızın kedi mi yoksa köpek mi olduğunu tahmin etmek için bu modeli kullanmaya hazırsınız."
      ]
    },
    {
      "cell_type": "code",
      "execution_count": null,
      "metadata": {
        "execution": {
          "iopub.execute_input": "2022-01-26T05:20:58.194318Z",
          "iopub.status.busy": "2022-01-26T05:20:58.193755Z",
          "iopub.status.idle": "2022-01-26T05:20:59.380608Z",
          "shell.execute_reply": "2022-01-26T05:20:59.381028Z"
        },
        "id": "RUNoQNgtfNgt"
      },
      "outputs": [],
      "source": [
        "# Retrieve a batch of images from the test set\n",
        "image_batch, label_batch = test_dataset.as_numpy_iterator().next()\n",
        "predictions = model.predict_on_batch(image_batch).flatten()\n",
        "\n",
        "# Apply a sigmoid since our model returns logits\n",
        "predictions = tf.nn.sigmoid(predictions)\n",
        "predictions = tf.where(predictions < 0.5, 0, 1)\n",
        "\n",
        "print('Predictions:\\n', predictions.numpy())\n",
        "print('Labels:\\n', label_batch)\n",
        "\n",
        "plt.figure(figsize=(10, 10))\n",
        "for i in range(9):\n",
        "  ax = plt.subplot(3, 3, i + 1)\n",
        "  plt.imshow(image_batch[i].astype(\"uint8\"))\n",
        "  plt.title(class_names[predictions[i]])\n",
        "  plt.axis(\"off\")"
      ]
    },
    {
      "cell_type": "markdown",
      "metadata": {
        "id": "_TZTwG7nhm0C"
      },
      "source": [
        "## Özet\n",
        "\n",
        "* **Özellik çıkarma için önceden eğitilmiş bir model kullanma**: Küçük bir veri kümesiyle çalışırken, aynı etki alanındaki daha büyük bir veri kümesinde eğitilmiş bir model tarafından öğrenilen özelliklerden yararlanmak yaygın bir uygulamadır. Bu, önceden eğitilmiş modeli somutlaştırarak ve üstüne tam bağlantılı bir sınıflandırıcı ekleyerek yapılır. Önceden eğitilmiş model \"dondurulur\" ve eğitim sırasında yalnızca sınıflandırıcının ağırlıkları güncellenir.\n",
        "Bu durumda, evrişimli taban, her bir görüntüyle ilişkili tüm öznitelikleri çıkardı ve siz az önce, çıkarılan öznitelikler kümesi verilen görüntü sınıfını belirleyen bir sınıflandırıcıyı eğittiniz.\n",
        "\n",
        "* **Önceden eğitilmiş bir modelde ince ayar yapma**: Performansı daha da artırmak için, önceden eğitilmiş modellerin üst düzey katmanlarını ince ayar yoluyla yeni veri kümesine yeniden kullanmak isteyebilirsiniz.\n",
        "Bu durumda, ağırlıklarınızı, modelinizin veri kümesine özgü üst düzey özellikleri öğreneceği şekilde ayarladınız. Bu teknik genellikle eğitim veri kümesi büyük olduğunda ve önceden eğitilmiş modelin üzerinde eğitildiği orijinal veri kümesine çok benzer olduğunda önerilir.\n",
        "\n",
        "Daha fazla bilgi edinmek için [Transfer öğrenim kılavuzunu](https://www.tensorflow.org/guide/keras/transfer_learning) ziyaret edin.\n"
      ]
    }
  ],
  "metadata": {
    "accelerator": "GPU",
    "colab": {
      "collapsed_sections": [],
      "name": "Day13_ComputerVision_tensorflow_tutorials_3_transfer_learning.ipynb",
      "provenance": []
    },
    "kernelspec": {
      "display_name": "Python 3",
      "name": "python3"
    },
    "language_info": {
      "codemirror_mode": {
        "name": "ipython",
        "version": 3
      },
      "file_extension": ".py",
      "mimetype": "text/x-python",
      "name": "python",
      "nbconvert_exporter": "python",
      "pygments_lexer": "ipython3",
      "version": "3.7.5"
    }
  },
  "nbformat": 4,
  "nbformat_minor": 0
}