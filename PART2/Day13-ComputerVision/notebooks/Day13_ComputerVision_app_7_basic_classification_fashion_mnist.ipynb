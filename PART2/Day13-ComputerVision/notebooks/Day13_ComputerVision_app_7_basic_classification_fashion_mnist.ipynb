{
  "cells": [
    {
      "cell_type": "markdown",
      "metadata": {
        "id": "jYysdyb-CaWM"
      },
      "source": [
        "# Temel sınıflandırma: Giysi görüntülerini sınıflandırın"
      ]
    },
    {
      "cell_type": "markdown",
      "metadata": {
        "id": "FbVhjPpzn6BM"
      },
      "source": [
        "Bu çalışma dosyasında, spor ayakkabı ve gömlek gibi giysi görüntülerini sınıflandırmak için bir sinir ağı modeli eğitiyor. \n",
        "\n",
        "TensorFlow'da modeller oluşturmak ve eğitmek için üst düzey (high-level) bir API olan tf.keras'ı kullanır."
      ]
    },
    {
      "cell_type": "code",
      "execution_count": null,
      "metadata": {
        "id": "dzLKpmZICaWN"
      },
      "outputs": [],
      "source": [
        "# TensorFlow and tf.keras\n",
        "import tensorflow as tf\n",
        "\n",
        "# Helper libraries\n",
        "import numpy as np\n",
        "import matplotlib.pyplot as plt\n",
        "\n",
        "print(tf.__version__)"
      ]
    },
    {
      "cell_type": "markdown",
      "metadata": {
        "id": "yR0EdgrLCaWR"
      },
      "source": [
        "## Fashion MNIST veri kümesi yükleme"
      ]
    },
    {
      "cell_type": "markdown",
      "metadata": {
        "id": "DLdCchMdCaWQ"
      },
      "source": [
        "Bu çalışmada, 10 kategoride 70.000 gri tonlamalı görüntü içeren [Fashion MNIST](https://github.com/zalandoresearch/fashion-mnist) veri kümesini kullanır. \n",
        "\n",
        "Görüntüler, burada görüldüğü gibi düşük çözünürlükte (28 x 28 piksel) tek tek giyim eşyalarını göstermektedir:\n",
        "\n",
        "<img src=\"https://tensorflow.org/images/fashion-mnist-sprite.png\" alt=\"Moda MNIST hareketli grafiği\" width=\"600\">\n",
        "\n",
        "<b>Şekil 1.</b> <a href=\"https://github.com/zalandoresearch/fashion-mnist\">Fashion-MNIST örnekleri</a> (Zalando tarafından, MIT Lisansı).<br/> &nbsp;\n",
        "\n",
        "Fashion MNIST, genellikle bilgisayarlı görme için makine öğrenimi programlarının \"Merhaba Dünyası\" olarak kullanılan klasik [MNIST](http://yann.lecun.com/exdb/mnist/) veri kümesinin yerini alacak şekilde tasarlanmıştır. . MNIST veri kümesi, burada kullanacağınız giyim eşyalarının formatına benzer bir biçimde el yazısı rakamların (0, 1, 2, vb.) görüntülerini içerir.\n",
        "\n",
        "Bu çalışma dosyası, Fashion MNIST'i çeşitlilik için kullanır ve çünkü bu, normal MNIST'ten biraz daha zorlayıcı bir problemdir. Her iki veri kümesi de nispeten küçüktür ve bir algoritmanın beklendiği gibi çalıştığını doğrulamak için kullanılır. Kodu test etmek ve hata ayıklamak için iyi başlangıç ​​noktalarıdır.\n",
        "\n",
        "Burada, ağı eğitmek için 60.000 görüntü ve ağın görüntüleri sınıflandırmayı ne kadar doğru öğrendiğini değerlendirmek için 10.000 görüntü kullanılır. Fashion MNIST'e doğrudan TensorFlow'dan erişebilirsiniz. Doğrudan TensorFlow'dan [Fashion MNIST verilerini yükleyebilirsiniz.](https://www.tensorflow.org/api_docs/python/tf/keras/datasets/fashion_mnist/load_data)"
      ]
    },
    {
      "cell_type": "code",
      "execution_count": null,
      "metadata": {
        "id": "7MqDQO0KCaWS"
      },
      "outputs": [],
      "source": [
        "fashion_mnist = tf.keras.datasets.fashion_mnist\n",
        "\n",
        "(train_images, train_labels), (test_images, test_labels) = fashion_mnist.load_data()"
      ]
    },
    {
      "cell_type": "markdown",
      "metadata": {
        "id": "t9FDsUlxCaWW"
      },
      "source": [
        "Veri kümesi yüklendiğinde dört NumPy dizisi döndürür:\n",
        "\n",
        "* \"train_images\" ve \"train_labels\" dizileri, *eğitim kümesidir*—modelin öğrenmek için kullandığı verilerdir.\n",
        "\n",
        "* Model *test kümesi*, \"test_images\" ve \"test_labels\" dizilerine karşı test edilir.\n",
        "\n",
        "Görüntüler, 0 ile 255 arasında değişen piksel değerlerine sahip 28x28 NumPy dizileridir. *etiketler(labels)*, 0 ile 9 arasında değişen bir tamsayı dizisidir. Bunlar, görüntünün temsil ettiği giysinin *sınıfına(class)* karşılık gelir:\n",
        "\n",
        "<table>\n",
        "  <tr>\n",
        "    <th>Label</th>\n",
        "    <th>Class</th>\n",
        "  </tr>\n",
        "  <tr>\n",
        "    <td>0</td>\n",
        "    <td>T-shirt/top</td>\n",
        "  </tr>\n",
        "  <tr>\n",
        "    <td>1</td>\n",
        "    <td>Trouser</td>\n",
        "  </tr>\n",
        "    <tr>\n",
        "    <td>2</td>\n",
        "    <td>Pullover</td>\n",
        "  </tr>\n",
        "    <tr>\n",
        "    <td>3</td>\n",
        "    <td>Dress</td>\n",
        "  </tr>\n",
        "    <tr>\n",
        "    <td>4</td>\n",
        "    <td>Coat</td>\n",
        "  </tr>\n",
        "    <tr>\n",
        "    <td>5</td>\n",
        "    <td>Sandal</td>\n",
        "  </tr>\n",
        "    <tr>\n",
        "    <td>6</td>\n",
        "    <td>Shirt</td>\n",
        "  </tr>\n",
        "    <tr>\n",
        "    <td>7</td>\n",
        "    <td>Sneaker</td>\n",
        "  </tr>\n",
        "    <tr>\n",
        "    <td>8</td>\n",
        "    <td>Bag</td>\n",
        "  </tr>\n",
        "    <tr>\n",
        "    <td>9</td>\n",
        "    <td>Ankle boot</td>\n",
        "  </tr>\n",
        "</table>\n",
        "\n",
        "Her görüntü tek bir etikete eşlenir. *Sınıf adları (class names)* veri kümesine dahil edilmediğinden, daha sonra görüntüleri çizerken kullanmak üzere bunları burada saklayın:"
      ]
    },
    {
      "cell_type": "code",
      "execution_count": null,
      "metadata": {
        "id": "IjnLH5S2CaWx"
      },
      "outputs": [],
      "source": [
        "class_names = ['T-shirt/top', 'Trouser', 'Pullover', 'Dress', 'Coat',\n",
        "               'Sandal', 'Shirt', 'Sneaker', 'Bag', 'Ankle boot']"
      ]
    },
    {
      "cell_type": "markdown",
      "metadata": {
        "id": "Brm0b_KACaWX"
      },
      "source": [
        "## Verileri keşfedin\n",
        "\n",
        "Modeli eğitmeden önce veri kümesinin biçimini keşfedelim. Aşağıdakiler, eğitim setinde her bir görüntünün 28 x 28 piksel olarak temsil edildiği 60.000 görüntü olduğunu göstermektedir:"
      ]
    },
    {
      "cell_type": "markdown",
      "source": [
        "**Yapılacaklar: eğitim resimlerinin boyutlarını yazdırın**"
      ],
      "metadata": {
        "id": "vKNp_BmpVNif"
      }
    },
    {
      "cell_type": "code",
      "execution_count": null,
      "metadata": {
        "id": "zW5k_xz1CaWX"
      },
      "outputs": [],
      "source": [
        "# Yapılacaklar: eğitim resimlerinin boyutlarını yazdırın\n"
      ]
    },
    {
      "cell_type": "markdown",
      "metadata": {
        "id": "cIAcvQqMCaWf"
      },
      "source": [
        "Aynı şekilde eğitim setinde 60.000 adet etiket bulunmaktadır:"
      ]
    },
    {
      "cell_type": "markdown",
      "source": [
        "**Yapılacaklar: eğitim etiketlerinin sayısını yazdırın.**"
      ],
      "metadata": {
        "id": "ihroH4ajWKlX"
      }
    },
    {
      "cell_type": "code",
      "execution_count": null,
      "metadata": {
        "id": "TRFYHB2mCaWb"
      },
      "outputs": [],
      "source": [
        "# Yapılacaklar: eğitim etiketlerinin sayısını yazdırın.\n"
      ]
    },
    {
      "cell_type": "markdown",
      "metadata": {
        "id": "YSlYxFuRCaWk"
      },
      "source": [
        "Her etiket 0 ile 9 arasında bir tamsayıdır:"
      ]
    },
    {
      "cell_type": "code",
      "execution_count": null,
      "metadata": {
        "id": "XKnCTHz4CaWg"
      },
      "outputs": [],
      "source": [
        "train_labels"
      ]
    },
    {
      "cell_type": "markdown",
      "metadata": {
        "id": "TMPI88iZpO2T"
      },
      "source": [
        "Test kümesinde 10.000 adet görsel bulunmaktadır. Yine, her görüntü 28 x 28 piksel olarak temsil edilir:"
      ]
    },
    {
      "cell_type": "code",
      "execution_count": null,
      "metadata": {
        "id": "2KFnYlcwCaWl"
      },
      "outputs": [],
      "source": [
        "test_images.shape"
      ]
    },
    {
      "cell_type": "markdown",
      "metadata": {
        "id": "rd0A0Iu0CaWq"
      },
      "source": [
        "Test kümesi 10.000 görüntü etiketi içerir:"
      ]
    },
    {
      "cell_type": "code",
      "execution_count": null,
      "metadata": {
        "id": "iJmPr5-ACaWn"
      },
      "outputs": [],
      "source": [
        "len(test_labels)"
      ]
    },
    {
      "cell_type": "markdown",
      "metadata": {
        "id": "ES6uQoLKCaWr"
      },
      "source": [
        "## Veri önişleme\n",
        "\n",
        "Ağı eğitmeden önce veriler ön işleme tabi tutulmalıdır. Eğitim kümesindeki ilk görüntüyü incelerseniz piksel değerlerinin 0 ile 255 aralığında olduğunu göreceksiniz:"
      ]
    },
    {
      "cell_type": "code",
      "execution_count": null,
      "metadata": {
        "id": "m4VEw8Ud9Quh"
      },
      "outputs": [],
      "source": [
        "plt.figure()\n",
        "plt.imshow(train_images[0])\n",
        "plt.colorbar()\n",
        "plt.grid(False)\n",
        "plt.show()"
      ]
    },
    {
      "cell_type": "markdown",
      "metadata": {
        "id": "Wz7l27Lz9S1P"
      },
      "source": [
        "Sinir ağı modeline beslemeden önce bu değerleri 0 ile 1 arasında ölçeklendirin. Bunu yapmak için değerleri 255'e bölün. *eğitim kümesi* ve *test kümesinin* aynı şekilde ön işleme tabi tutulması önemlidir:"
      ]
    },
    {
      "cell_type": "markdown",
      "source": [
        "**Yapılacaklar: eğitim ve test resimlerinin pixel değerlerini normalize edin**"
      ],
      "metadata": {
        "id": "SVsJWmJeWY5g"
      }
    },
    {
      "cell_type": "code",
      "execution_count": null,
      "metadata": {
        "id": "bW5WzIPlCaWv"
      },
      "outputs": [],
      "source": [
        "#Yapılacaklar: eğitim ve test resimlerinin pixel değerlerini normalize edin\n"
      ]
    },
    {
      "cell_type": "markdown",
      "metadata": {
        "id": "Ee638AlnCaWz"
      },
      "source": [
        "Verilerin doğru formatta olduğunu ve ağı oluşturmaya ve eğitmeye hazır olduğunuzu doğrulamak için, *eğitim kümesinin* ilk 25 görüntüyü görüntüleyelim ve her görüntünün altında sınıf adını görüntüleyelim."
      ]
    },
    {
      "cell_type": "code",
      "execution_count": null,
      "metadata": {
        "id": "oZTImqg_CaW1"
      },
      "outputs": [],
      "source": [
        "plt.figure(figsize=(10,10))\n",
        "for i in range(25):\n",
        "    plt.subplot(5,5,i+1)\n",
        "    plt.xticks([])\n",
        "    plt.yticks([])\n",
        "    plt.grid(False)\n",
        "    plt.imshow(train_images[i], cmap=plt.cm.binary)\n",
        "    plt.xlabel(class_names[train_labels[i]])\n",
        "plt.show()"
      ]
    },
    {
      "cell_type": "markdown",
      "metadata": {
        "id": "59veuiEZCaW4"
      },
      "source": [
        "## Modeli oluşturun\n",
        "\n",
        "Sinir ağının oluşturulması, modelin katmanlarının yapılandırılmasını ve ardından modelin derlenmesini gerektirir."
      ]
    },
    {
      "cell_type": "markdown",
      "metadata": {
        "id": "Gxg1XGm0eOBy"
      },
      "source": [
        "### Katmanları ayarlayın\n",
        "\n",
        "Bir sinir ağının temel yapı taşı [*katman(layer)*](https://www.tensorflow.org/api_docs/python/tf/keras/layers). \n",
        "Katmanlar, kendilerine beslenen verilerden temsilleri çıkarır. Umarım, bu temsiller eldeki sorun için anlamlıdır.\n",
        "\n",
        "Derin öğrenmenin çoğu, basit katmanları birbirine zincirlemekten oluşur. \"tf.keras.layers.Dense\" gibi çoğu katman, eğitim sırasında öğrenilen parametrelere sahiptir."
      ]
    },
    {
      "cell_type": "markdown",
      "source": [
        "**Yapılacaklar: CNN model mimarisini tanımlama**\n",
        "\n",
        "\n",
        "-   **Flatten katmanı - giriş boyutu 28*28**\n",
        "\n",
        "-   **Dense katmanı - 128 nöronlu ve relu aktivasyon fonksiyonlu**\n",
        "\n",
        "-   **Çıkış (Dense) katmanı - sınıf sayısı kadar nörolu**\n",
        "\n"
      ],
      "metadata": {
        "id": "PhH9lTL8WsL7"
      }
    },
    {
      "cell_type": "code",
      "execution_count": null,
      "metadata": {
        "id": "9ODch-OFCaW4"
      },
      "outputs": [],
      "source": [
        "# Yapılacaklar: CNN model mimarisini tanımlama\n",
        "\n",
        "\n"
      ]
    },
    {
      "cell_type": "markdown",
      "metadata": {
        "id": "gut8A_7rCaW6"
      },
      "source": [
        "Bu ağdaki ilk katman olan `tf.keras.layers.Flatten`, görüntülerin formatını iki boyutlu bir diziden (28 x 28 piksel) tek boyutlu bir diziye (28 * 28 = 784 piksel) dönüştürür. Bu katman, görüntüdeki piksel sıralarını kaldırmak ve bunları hizalamak olarak düşünün. Bu katmanın öğrenilecek parametresi yoktur; yalnızca verileri yeniden biçimlendirir.\n",
        "\n",
        "Pikseller düzleştirildikten sonra ağ, iki \"tf.keras.layers.Dense\" katmanından oluşan bir diziden oluşur. Bunlar yoğun(dense) şekilde bağlı veya tamamen bağlı sinir katmanlarıdır. İlk \"Dense\" katmanda 128 düğüm (veya nöron) bulunur. İkinci (ve son) katman, 10 uzunluğunda bir logits dizisi döndürür. Her düğüm, geçerli görüntünün 10 sınıftan birine ait olduğunu gösteren bir puan içerir.\n",
        "\n",
        "### Modeli derleyin\n",
        "\n",
        "Model eğitime hazır olmadan önce birkaç ayara daha ihtiyacı var. Bunlar, modelin [*compile*](https://www.tensorflow.org/api_docs/python/tf/keras/Model#compile) adımı sırasında eklenir:\n",
        "\n",
        "* [*Yitim(Kayıp) Fonksiyonu (Loss function)*](https://www.tensorflow.org/api_docs/python/tf/keras/losses) —Bu, eğitim sırasında modelin ne kadar doğru olduğunu ölçer. Modeli doğru yöne \"yönlendirmek\" için bu işlevi en aza indirmek istiyorsunuz.\n",
        "\n",
        "* [*Optimizer*](https://www.tensorflow.org/api_docs/python/tf/keras/optimizers) —Model, gördüğü verilere ve yitim fonksiyonuna göre bu şekilde güncellenir.\n",
        "\n",
        "* [*Metrikler*](https://www.tensorflow.org/api_docs/python/tf/keras/metrics) —Eğitim ve test adımlarını izlemek için kullanılır. Aşağıdaki örnekte, doğru sınıflandırılmış görüntülerin kesri olan *doğruluk (accuracy)* kullanılmaktadır."
      ]
    },
    {
      "cell_type": "markdown",
      "source": [
        "**Yapılacaklar:**\n",
        "\n",
        "**- optimizasyon algoritması tanımlayınız**\n",
        "\n",
        "**- metrics olarak \"accuracy\" tanımlayınız**\n",
        "\n",
        "**- loss olarak çoklu sınıfa uygun tanımlayınız**"
      ],
      "metadata": {
        "id": "r2i0Kx8kX7g2"
      }
    },
    {
      "cell_type": "code",
      "execution_count": null,
      "metadata": {
        "id": "Lhan11blCaW7"
      },
      "outputs": [],
      "source": [
        "# Modeli yukarıdaki açıklamadaki parametreler ile derleyin\n",
        "\n"
      ]
    },
    {
      "cell_type": "markdown",
      "metadata": {
        "id": "qKF6uW-BCaW-"
      },
      "source": [
        "## Modeli eğitin\n",
        "\n",
        "Sinir ağı modelinin eğitimi aşağıdaki adımları gerektirir:\n",
        "\n",
        "1. Eğitim verilerini modele besleyin. Bu örnekte, eğitim verileri \"train_images\" ve \"train_labels\" dizilerindedir.\n",
        "\n",
        "2. Model, görüntüleri ve etiketleri ilişkilendirmeyi öğrenir.\n",
        "\n",
        "3. Modelden bir test kümesi hakkında - bu örnekte \"test_images\" dizisi hakkında tahminler yapmasını istiyorsunuz.\n",
        "\n",
        "4. Tahminlerin \"test_labels\" dizisindeki etiketlerle eşleştiğini doğrulayın.\n"
      ]
    },
    {
      "cell_type": "markdown",
      "metadata": {
        "id": "Z4P4zIV7E28Z"
      },
      "source": [
        "### Modeli besleyin\n",
        "\n",
        "Eğitime başlamak için [`model.fit`](https://www.tensorflow.org/api_docs/python/tf/keras/Model#fit) yöntemini çağırın."
      ]
    },
    {
      "cell_type": "markdown",
      "source": [
        "**Yapılacaklar: Modeli 10 epoch eğitin.**"
      ],
      "metadata": {
        "id": "vPeaOwOCau4T"
      }
    },
    {
      "cell_type": "code",
      "execution_count": null,
      "metadata": {
        "id": "xvwvpA64CaW_"
      },
      "outputs": [],
      "source": [
        "# Yapılacaklar: Modeli 10 epoch eğitin.\n"
      ]
    },
    {
      "cell_type": "markdown",
      "metadata": {
        "id": "W3ZVOhugCaXA"
      },
      "source": [
        "Model eğitilirken, kayıp ve doğruluk metrikleri görüntülenir. \n",
        "Bu model, eğitim verilerinde yaklaşık 0.91 (veya %91) doğruluğa ulaşır."
      ]
    },
    {
      "cell_type": "markdown",
      "metadata": {
        "id": "wCpr6DGyE28h"
      },
      "source": [
        "### Doğruluğu değerlendirin\n",
        "\n",
        "Ardından, modelin test veri kümesinde nasıl performans gösterdiğini karşılaştırın:"
      ]
    },
    {
      "cell_type": "markdown",
      "source": [
        "**Yapılacaklar: evaluate ile test görüntüleri için Test ACC hesaplayın**"
      ],
      "metadata": {
        "id": "0vQmJQBUduVA"
      }
    },
    {
      "cell_type": "code",
      "execution_count": null,
      "metadata": {
        "id": "VflXLEeECaXC"
      },
      "outputs": [],
      "source": [
        "# Yapılacaklar: evaluate ile test görüntüleri için Test ACC hesaplayın\n"
      ]
    },
    {
      "cell_type": "markdown",
      "metadata": {
        "id": "yWfgsmVXCaXG"
      },
      "source": [
        "Test veri kümesinin doğruluğu, eğitim veri kümesindeki doğruluktan biraz daha az olduğu ortaya çıktı. \n",
        "Eğitim doğruluğu ve test doğruluğu arasındaki bu boşluk *aşırı öğrenme(overfitting)* temsil eder. \n",
        "Bir makine öğrenimi modeli, yeni, daha önce görülmemiş girdilerde eğitim verilerinde olduğundan daha kötü performans gösterdiğinde, aşırı öğrenme(overfitting) gerçekleşir. Aşırı öğrenen bir model, eğitim veri kümesindeki gürültüyü ve ayrıntıları ezberlemesi modelin yeni veriler üzerindeki performansını olumsuz yönde etkileyecektir.\n",
        "\n",
        "Daha fazla bilgi için aşağıdakilere bakın:\n",
        "\n",
        "*   [Demonstrate overfitting](https://www.tensorflow.org/tutorials/keras/overfit_and_underfit#demonstrate_overfitting)\n",
        "*   [Strategies to prevent overfitting](https://www.tensorflow.org/tutorials/keras/overfit_and_underfit#strategies_to_prevent_overfitting)"
      ]
    },
    {
      "cell_type": "code",
      "source": [
        ""
      ],
      "metadata": {
        "id": "nYKB7BjzEekC"
      },
      "execution_count": null,
      "outputs": []
    }
  ],
  "metadata": {
    "colab": {
      "collapsed_sections": [],
      "name": "Day13-ComputerVision_app_7_basic_classification_fashion_mnist.ipynb",
      "provenance": []
    },
    "kernelspec": {
      "display_name": "Python 3",
      "name": "python3"
    },
    "accelerator": "GPU"
  },
  "nbformat": 4,
  "nbformat_minor": 0
}