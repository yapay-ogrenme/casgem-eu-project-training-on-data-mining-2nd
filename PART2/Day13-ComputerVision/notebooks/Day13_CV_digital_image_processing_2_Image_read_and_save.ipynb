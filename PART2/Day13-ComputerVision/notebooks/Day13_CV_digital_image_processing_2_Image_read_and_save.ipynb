{
  "cells": [
    {
      "cell_type": "markdown",
      "metadata": {
        "id": "EagSwjaO4od9"
      },
      "source": [
        "# 1-Resim Okuma / Kaydetme"
      ]
    },
    {
      "cell_type": "markdown",
      "metadata": {
        "id": "G1aDdh9f4od_"
      },
      "source": [
        "## [Matplotlib](https://matplotlib.org/users/image_tutorial.html) ile Resim Dosyasını Okuma "
      ]
    },
    {
      "cell_type": "code",
      "execution_count": null,
      "metadata": {
        "ExecuteTime": {
          "end_time": "2019-08-22T09:25:14.855050Z",
          "start_time": "2019-08-22T09:25:14.068570Z"
        },
        "id": "VGthpP4X4oeB"
      },
      "outputs": [],
      "source": [
        "import matplotlib.pyplot as plt\n",
        "import matplotlib.image as mpimg\n",
        "import numpy as np"
      ]
    },
    {
      "cell_type": "code",
      "source": [
        "ROOT_DIR = \"https://raw.githubusercontent.com/yapay-ogrenme/casgem-eu-project-training-on-data-mining-2nd/main/PART2/Day13-ComputerVision/notebooks/\"\n",
        "\n",
        "IMAGE_PATH_PARROT = ROOT_DIR + \"images/parrot.png\"\n",
        "IMAGE_PATH_LENA_GRAY = ROOT_DIR + \"images/lena_gray.gif\"\n",
        "IMAGE_PATH_LENA = ROOT_DIR + \"images/lena.jpg\""
      ],
      "metadata": {
        "id": "A7ex0Yu--u0k"
      },
      "execution_count": null,
      "outputs": []
    },
    {
      "cell_type": "code",
      "execution_count": null,
      "metadata": {
        "ExecuteTime": {
          "end_time": "2019-08-22T09:25:14.868279Z",
          "start_time": "2019-08-22T09:25:14.857150Z"
        },
        "id": "7FV9N2cR4oeD"
      },
      "outputs": [],
      "source": [
        "img = mpimg.imread(IMAGE_PATH_PARROT)"
      ]
    },
    {
      "cell_type": "code",
      "execution_count": null,
      "metadata": {
        "ExecuteTime": {
          "end_time": "2019-08-22T09:25:15.136711Z",
          "start_time": "2019-08-22T09:25:14.869850Z"
        },
        "id": "kva5XZJp4oeE"
      },
      "outputs": [],
      "source": [
        "plt.imshow(img)"
      ]
    },
    {
      "cell_type": "markdown",
      "metadata": {
        "id": "GSOb9BTa4oeF"
      },
      "source": [
        "## [Pillow](https://pillow.readthedocs.io/en/3.1.x/index.html) ile Resim Dosyasını Okuma "
      ]
    },
    {
      "cell_type": "code",
      "execution_count": null,
      "metadata": {
        "ExecuteTime": {
          "end_time": "2019-08-22T09:25:15.144017Z",
          "start_time": "2019-08-22T09:25:15.138829Z"
        },
        "id": "HOyccESP4oeH"
      },
      "outputs": [],
      "source": [
        "from PIL import Image\n",
        "from matplotlib.pyplot import imshow\n",
        "%matplotlib inline"
      ]
    },
    {
      "cell_type": "markdown",
      "metadata": {
        "id": "uEKoGDm24oeJ"
      },
      "source": [
        "### Grayscale"
      ]
    },
    {
      "cell_type": "code",
      "execution_count": null,
      "metadata": {
        "ExecuteTime": {
          "end_time": "2019-08-22T09:25:15.794076Z",
          "start_time": "2019-08-22T09:25:15.782165Z"
        },
        "id": "_lUdZ2nZ4oeK"
      },
      "outputs": [],
      "source": [
        "import requests\n",
        "\n",
        "#img_gray = Image.open(IMAGE_PATH_LENA_GRAY)\n",
        "img_gray = Image.open(requests.get(IMAGE_PATH_LENA_GRAY, stream=True).raw)\n",
        "\n",
        "print(img_gray.width, img_gray.height, img_gray.mode, img_gray.format, type(img_gray))"
      ]
    },
    {
      "cell_type": "code",
      "execution_count": null,
      "metadata": {
        "ExecuteTime": {
          "end_time": "2019-08-22T09:25:16.220346Z",
          "start_time": "2019-08-22T09:25:16.015813Z"
        },
        "id": "sgFVHRjp4oeL"
      },
      "outputs": [],
      "source": [
        "imshow(img_gray)"
      ]
    },
    {
      "cell_type": "code",
      "execution_count": null,
      "metadata": {
        "ExecuteTime": {
          "end_time": "2019-08-22T09:25:16.408485Z",
          "start_time": "2019-08-22T09:25:16.395030Z"
        },
        "id": "cdgYeefF4oeM"
      },
      "outputs": [],
      "source": [
        "pixels = list(img_gray.getdata())\n",
        "len(pixels)"
      ]
    },
    {
      "cell_type": "markdown",
      "metadata": {
        "id": "nQsZtTbz4oeM"
      },
      "source": [
        "### Color"
      ]
    },
    {
      "cell_type": "code",
      "execution_count": null,
      "metadata": {
        "ExecuteTime": {
          "end_time": "2019-08-22T09:25:17.164406Z",
          "start_time": "2019-08-22T09:25:17.158206Z"
        },
        "id": "Hlr0WVAb4oeN"
      },
      "outputs": [],
      "source": [
        "#img_lena = Image.open(IMAGE_PATH_LENA).convert('RGB')\n",
        "img_lena = Image.open(requests.get(IMAGE_PATH_LENA, stream=True).raw).convert('RGB')\n",
        "\n",
        "print(img_lena.width, img_lena.height, img_lena.mode, img_lena.format, type(img_lena))"
      ]
    },
    {
      "cell_type": "code",
      "execution_count": null,
      "metadata": {
        "ExecuteTime": {
          "end_time": "2019-08-22T09:25:17.815534Z",
          "start_time": "2019-08-22T09:25:17.616595Z"
        },
        "id": "_XTjyZvV4oeO"
      },
      "outputs": [],
      "source": [
        "imshow(img_lena)"
      ]
    },
    {
      "cell_type": "code",
      "execution_count": null,
      "metadata": {
        "ExecuteTime": {
          "end_time": "2019-08-22T09:25:18.287628Z",
          "start_time": "2019-08-22T09:25:18.284802Z"
        },
        "id": "fU__B_9v4oeO"
      },
      "outputs": [],
      "source": [
        "width, height = img_lena.size\n",
        "print(width, height)"
      ]
    },
    {
      "cell_type": "markdown",
      "metadata": {
        "id": "lPnSLR724oeP"
      },
      "source": [
        "**Renkli görüntünün 3 kanal için pixel değerlerini okuma**"
      ]
    },
    {
      "cell_type": "code",
      "execution_count": null,
      "metadata": {
        "ExecuteTime": {
          "end_time": "2019-08-22T09:25:22.995670Z",
          "start_time": "2019-08-22T09:25:19.519736Z"
        },
        "id": "cwGVKSUq4oeP"
      },
      "outputs": [],
      "source": [
        "w,h = img_lena.size\n",
        "for i in range(w):\n",
        "    for j in range(h):\n",
        "        r,g,b = img_lena.getpixel((i,j))\n",
        "        print(\"({0},{1}) : r:{2},g:{3},b:{4}\".format(i,j, r,g,b))"
      ]
    },
    {
      "cell_type": "markdown",
      "metadata": {
        "id": "QrNVV39s4oeQ"
      },
      "source": [
        "### Resim oluşturma ve Resmin negatifini alma"
      ]
    },
    {
      "cell_type": "code",
      "execution_count": null,
      "metadata": {
        "ExecuteTime": {
          "end_time": "2019-08-22T09:25:23.010486Z",
          "start_time": "2019-08-22T09:25:22.999265Z"
        },
        "id": "irCyphFJ4oeQ"
      },
      "outputs": [],
      "source": [
        "img_new = np.zeros([220,220,3],dtype=np.uint8)\n",
        "img_new.fill(0)\n",
        "img_new"
      ]
    },
    {
      "cell_type": "code",
      "execution_count": null,
      "metadata": {
        "ExecuteTime": {
          "end_time": "2019-08-22T09:25:23.264825Z",
          "start_time": "2019-08-22T09:25:23.012943Z"
        },
        "id": "ldJZHyf54oeR"
      },
      "outputs": [],
      "source": [
        "imshow(img_new)"
      ]
    },
    {
      "cell_type": "code",
      "execution_count": null,
      "metadata": {
        "ExecuteTime": {
          "end_time": "2019-08-22T09:25:23.275612Z",
          "start_time": "2019-08-22T09:25:23.270691Z"
        },
        "id": "QBayrnzp4oeR"
      },
      "outputs": [],
      "source": [
        "img_new.shape"
      ]
    },
    {
      "cell_type": "markdown",
      "metadata": {
        "id": "Ev8zHrNE4oeR"
      },
      "source": [
        "**Pixel değerlerini değiştirme**"
      ]
    },
    {
      "cell_type": "code",
      "execution_count": null,
      "metadata": {
        "ExecuteTime": {
          "end_time": "2019-08-22T09:25:24.421108Z",
          "start_time": "2019-08-22T09:25:24.085220Z"
        },
        "id": "vH3T3IYH4oeS"
      },
      "outputs": [],
      "source": [
        "import ipywidgets as widgets\n",
        "from ipywidgets import interact, interact_manual\n",
        "\n",
        "@interact\n",
        "def change_color_img(column='colors', r=(0,255), g=(0,255), b=(0,255)):\n",
        "    w = img_new.shape[0]\n",
        "    h = img_new.shape[1]\n",
        "    c = img_new.shape[2]\n",
        "    for i in range(w):\n",
        "        for j in range(h):\n",
        "            img_new[i][j][0] = r\n",
        "            img_new[i][j][1] = g\n",
        "            img_new[i][j][2] = b\n",
        "        \n",
        "    imshow(img_new)"
      ]
    },
    {
      "cell_type": "code",
      "execution_count": null,
      "metadata": {
        "id": "cdWhWtH64oeS"
      },
      "outputs": [],
      "source": [
        ""
      ]
    },
    {
      "cell_type": "markdown",
      "metadata": {
        "id": "aR5E3TQt4oeS"
      },
      "source": [
        "## Resmin Negatifini Alma"
      ]
    },
    {
      "cell_type": "code",
      "execution_count": null,
      "metadata": {
        "ExecuteTime": {
          "end_time": "2019-08-22T09:25:33.175864Z",
          "start_time": "2019-08-22T09:25:32.893787Z"
        },
        "id": "scDQIxN44oeT"
      },
      "outputs": [],
      "source": [
        "#img = Image.open('images/lena.jpg')\n",
        "img = Image.open(requests.get(IMAGE_PATH_LENA, stream=True).raw).convert('RGB')\n",
        "\n",
        "img_array = np.array(img)\n",
        "\n",
        "imshow(img_array)"
      ]
    },
    {
      "cell_type": "code",
      "execution_count": null,
      "metadata": {
        "ExecuteTime": {
          "end_time": "2019-08-22T09:25:33.879535Z",
          "start_time": "2019-08-22T09:25:33.179116Z"
        },
        "id": "9PD7ZEBv4oeT"
      },
      "outputs": [],
      "source": [
        "img_negative = np.zeros([220,220,3],dtype=np.uint8)\n",
        "\n",
        "for i in range(img_array.shape[0]):\n",
        "    for j in range(img_array.shape[1]):\n",
        "        r,g,b = img_array[i][j]\n",
        "        \n",
        "        img_negative[i][j][0] = 255-r\n",
        "        img_negative[i][j][1] = 255-g\n",
        "        img_negative[i][j][2] = 255-b\n",
        "\n",
        "imshow(img_negative)"
      ]
    },
    {
      "cell_type": "markdown",
      "metadata": {
        "id": "OgutZflz4oeU"
      },
      "source": [
        "## Resim Kaydetme"
      ]
    },
    {
      "cell_type": "code",
      "execution_count": null,
      "metadata": {
        "ExecuteTime": {
          "end_time": "2019-08-22T09:25:33.910994Z",
          "start_time": "2019-08-22T09:25:33.882280Z"
        },
        "id": "G_UCBsAU4oeU"
      },
      "outputs": [],
      "source": [
        "img_lena_negative = Image.fromarray(img_negative)\n",
        "img_lena_negative.save('images/lena_negative.png')"
      ]
    },
    {
      "cell_type": "markdown",
      "metadata": {
        "id": "FGOyNulk4oeU"
      },
      "source": [
        "Daha fazla interaktif örnek için: http://setosa.io/ev/image-kernels/"
      ]
    },
    {
      "cell_type": "code",
      "execution_count": null,
      "metadata": {
        "id": "W7Idb2Gn4oeU"
      },
      "outputs": [],
      "source": [
        ""
      ]
    },
    {
      "cell_type": "code",
      "execution_count": null,
      "metadata": {
        "id": "9F_ctIAi4oeV"
      },
      "outputs": [],
      "source": [
        ""
      ]
    }
  ],
  "metadata": {
    "kernelspec": {
      "display_name": "Python 3",
      "language": "python",
      "name": "python3"
    },
    "language_info": {
      "codemirror_mode": {
        "name": "ipython",
        "version": 3
      },
      "file_extension": ".py",
      "mimetype": "text/x-python",
      "name": "python",
      "nbconvert_exporter": "python",
      "pygments_lexer": "ipython3",
      "version": "3.5.2"
    },
    "colab": {
      "name": "Day13_CV_digital_image_processing_2_Image_read_and_save.ipynb",
      "provenance": [],
      "collapsed_sections": []
    }
  },
  "nbformat": 4,
  "nbformat_minor": 0
}