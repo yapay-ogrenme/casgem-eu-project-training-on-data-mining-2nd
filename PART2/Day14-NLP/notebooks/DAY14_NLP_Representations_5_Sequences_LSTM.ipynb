{
  "cells": [
    {
      "cell_type": "code",
      "execution_count": null,
      "id": "05b05ab9",
      "metadata": {
        "execution": {
          "iopub.execute_input": "2021-12-07T14:22:07.517843Z",
          "iopub.status.busy": "2021-12-07T14:22:07.516685Z",
          "iopub.status.idle": "2021-12-07T14:22:09.389728Z",
          "shell.execute_reply": "2021-12-07T14:22:09.388983Z",
          "shell.execute_reply.started": "2021-12-07T13:17:16.522574Z"
        },
        "papermill": {
          "duration": 1.948899,
          "end_time": "2021-12-07T14:22:09.389908",
          "exception": false,
          "start_time": "2021-12-07T14:22:07.441009",
          "status": "completed"
        },
        "tags": [],
        "id": "05b05ab9"
      },
      "outputs": [],
      "source": [
        "import numpy as np\n",
        "import pandas as pd\n",
        "import matplotlib.pyplot as plt\n",
        "import re\n",
        "import seaborn as sns \n",
        "\n",
        "from keras.preprocessing.text import Tokenizer\n",
        "from keras.preprocessing.sequence import pad_sequences\n",
        "from keras.models import Sequential\n",
        "from keras.layers import Dense, Embedding, LSTM, SimpleRNN, SpatialDropout1D\n",
        "\n",
        "from sklearn.model_selection import train_test_split\n",
        "from sklearn import metrics"
      ]
    },
    {
      "cell_type": "markdown",
      "id": "c88a1cb0",
      "metadata": {
        "papermill": {
          "duration": 0.068209,
          "end_time": "2021-12-07T14:22:09.804899",
          "exception": false,
          "start_time": "2021-12-07T14:22:09.736690",
          "status": "completed"
        },
        "tags": [],
        "id": "c88a1cb0"
      },
      "source": [
        "Ancak, Metin gösterimi adımına geçmeden önce, önce ön işleme tabi tutulması gereken temizlenmiş bir veri kümesi elde etmeliyiz. "
      ]
    },
    {
      "cell_type": "markdown",
      "id": "732078de",
      "metadata": {
        "papermill": {
          "duration": 0.069141,
          "end_time": "2021-12-07T14:22:09.943204",
          "exception": false,
          "start_time": "2021-12-07T14:22:09.874063",
          "status": "completed"
        },
        "tags": [],
        "id": "732078de"
      },
      "source": [
        "## Veri kümesini yükleme ve temizleme\n",
        "\n",
        "Veri kümesi olarak, [Twitter US Airline Sentiment](https://www.kaggle.com/crowdflower/twitter-airline-sentiment) veri kümesini kullanacağız."
      ]
    },
    {
      "cell_type": "code",
      "source": [
        "DATA_DIR = \"https://media.githubusercontent.com/media/yapay-ogrenme/casgem-eu-project-training-on-data-mining/main/PART2/Day14-NLP/notebooks/datasets/\"\n",
        "\n",
        "DATASET_PATH = DATA_DIR + \"twitter_airline_sentiment_tweets.csv\""
      ],
      "metadata": {
        "id": "ipcigxyYQCId"
      },
      "id": "ipcigxyYQCId",
      "execution_count": null,
      "outputs": []
    },
    {
      "cell_type": "code",
      "execution_count": null,
      "id": "1cca1117",
      "metadata": {
        "execution": {
          "iopub.execute_input": "2021-12-07T14:22:10.086920Z",
          "iopub.status.busy": "2021-12-07T14:22:10.086133Z",
          "iopub.status.idle": "2021-12-07T14:22:10.245386Z",
          "shell.execute_reply": "2021-12-07T14:22:10.244778Z",
          "shell.execute_reply.started": "2021-12-07T13:17:18.517214Z"
        },
        "papermill": {
          "duration": 0.233149,
          "end_time": "2021-12-07T14:22:10.245531",
          "exception": false,
          "start_time": "2021-12-07T14:22:10.012382",
          "status": "completed"
        },
        "tags": [],
        "id": "1cca1117"
      },
      "outputs": [],
      "source": [
        "df = pd.read_csv(DATASET_PATH)"
      ]
    },
    {
      "cell_type": "code",
      "execution_count": null,
      "id": "7e61d2cd",
      "metadata": {
        "execution": {
          "iopub.execute_input": "2021-12-07T14:22:10.387459Z",
          "iopub.status.busy": "2021-12-07T14:22:10.386765Z",
          "iopub.status.idle": "2021-12-07T14:22:10.413495Z",
          "shell.execute_reply": "2021-12-07T14:22:10.414124Z",
          "shell.execute_reply.started": "2021-12-07T13:17:18.663265Z"
        },
        "papermill": {
          "duration": 0.10019,
          "end_time": "2021-12-07T14:22:10.414298",
          "exception": false,
          "start_time": "2021-12-07T14:22:10.314108",
          "status": "completed"
        },
        "tags": [],
        "id": "7e61d2cd"
      },
      "outputs": [],
      "source": [
        "df.head()"
      ]
    },
    {
      "cell_type": "code",
      "execution_count": null,
      "id": "2c13b864",
      "metadata": {
        "execution": {
          "iopub.execute_input": "2021-12-07T14:22:10.558837Z",
          "iopub.status.busy": "2021-12-07T14:22:10.558114Z",
          "iopub.status.idle": "2021-12-07T14:22:10.596904Z",
          "shell.execute_reply": "2021-12-07T14:22:10.597432Z",
          "shell.execute_reply.started": "2021-12-07T13:17:18.694501Z"
        },
        "papermill": {
          "duration": 0.113262,
          "end_time": "2021-12-07T14:22:10.597621",
          "exception": false,
          "start_time": "2021-12-07T14:22:10.484359",
          "status": "completed"
        },
        "tags": [],
        "id": "2c13b864"
      },
      "outputs": [],
      "source": [
        "df.info()"
      ]
    },
    {
      "cell_type": "code",
      "execution_count": null,
      "id": "8a42104a",
      "metadata": {
        "execution": {
          "iopub.execute_input": "2021-12-07T14:22:10.740471Z",
          "iopub.status.busy": "2021-12-07T14:22:10.739435Z",
          "iopub.status.idle": "2021-12-07T14:22:10.972813Z",
          "shell.execute_reply": "2021-12-07T14:22:10.973327Z",
          "shell.execute_reply.started": "2021-12-07T13:17:18.735777Z"
        },
        "papermill": {
          "duration": 0.306738,
          "end_time": "2021-12-07T14:22:10.973515",
          "exception": false,
          "start_time": "2021-12-07T14:22:10.666777",
          "status": "completed"
        },
        "tags": [],
        "id": "8a42104a"
      },
      "outputs": [],
      "source": [
        "sns.countplot(x = \"airline_sentiment\", data = df)"
      ]
    },
    {
      "cell_type": "markdown",
      "id": "849e4b1e",
      "metadata": {
        "papermill": {
          "duration": 0.072146,
          "end_time": "2021-12-07T14:22:11.116201",
          "exception": false,
          "start_time": "2021-12-07T14:22:11.044055",
          "status": "completed"
        },
        "tags": [],
        "id": "849e4b1e"
      },
      "source": [
        "## Temel Ön İşlemler\n",
        "\n",
        "1. StopWord'lerin temizlenmesi\n",
        "2. Küçük harfe çevirme\n",
        "3. Stemming (Kök alma)\n",
        "4. Tokenization\n"
      ]
    },
    {
      "cell_type": "code",
      "source": [
        "data = df[[\"airline_sentiment\", \"text\"]]\n",
        "data"
      ],
      "metadata": {
        "id": "M2pGocp8Qkx0"
      },
      "id": "M2pGocp8Qkx0",
      "execution_count": null,
      "outputs": []
    },
    {
      "cell_type": "code",
      "execution_count": null,
      "id": "76460d5b",
      "metadata": {
        "execution": {
          "iopub.execute_input": "2021-12-07T14:22:11.569737Z",
          "iopub.status.busy": "2021-12-07T14:22:11.568997Z",
          "iopub.status.idle": "2021-12-07T14:22:11.571009Z",
          "shell.execute_reply": "2021-12-07T14:22:11.571526Z",
          "shell.execute_reply.started": "2021-12-07T13:17:18.992147Z"
        },
        "papermill": {
          "duration": 0.079454,
          "end_time": "2021-12-07T14:22:11.571716",
          "exception": false,
          "start_time": "2021-12-07T14:22:11.492262",
          "status": "completed"
        },
        "tags": [],
        "id": "76460d5b"
      },
      "outputs": [],
      "source": [
        "def sentiment(x):\n",
        "    if x == 'positive':\n",
        "        return 1\n",
        "    elif x == 'negative':\n",
        "        return -1\n",
        "    else:\n",
        "        return 0"
      ]
    },
    {
      "cell_type": "code",
      "source": [
        "data[\"airline_sentiment_label\"] = data[\"airline_sentiment\"].apply(sentiment)\n",
        "data"
      ],
      "metadata": {
        "id": "FfSxwHJgjC0M"
      },
      "id": "FfSxwHJgjC0M",
      "execution_count": null,
      "outputs": []
    },
    {
      "cell_type": "code",
      "source": [
        "import nltk\n",
        "from nltk.corpus import stopwords\n",
        "nltk.download('punkt')\n",
        "nltk.download('stopwords')\n",
        "stopwords = stopwords.words('english')\n",
        "\n",
        "def clean_the_tweet(text):\n",
        "  tokens= nltk.word_tokenize(re.sub(\"[^a-zA-Z]\", \" \",text))\n",
        "  tokens = [token.lower() for token in tokens if token not in stopwords]\n",
        "  return ' '.join(tokens[2:])"
      ],
      "metadata": {
        "id": "xY8QYp-ulRJf"
      },
      "id": "xY8QYp-ulRJf",
      "execution_count": null,
      "outputs": []
    },
    {
      "cell_type": "code",
      "source": [
        "print(f\"Orignal Text : {data.text[11]}\")\n",
        "print()\n",
        "print(f\"Preprocessed Text : {clean_the_tweet(data.text[11])}\")"
      ],
      "metadata": {
        "id": "9B24L6YTlHtS"
      },
      "id": "9B24L6YTlHtS",
      "execution_count": null,
      "outputs": []
    },
    {
      "cell_type": "code",
      "execution_count": null,
      "id": "805d5248",
      "metadata": {
        "execution": {
          "iopub.execute_input": "2021-12-07T14:22:12.161539Z",
          "iopub.status.busy": "2021-12-07T14:22:12.159924Z",
          "iopub.status.idle": "2021-12-07T14:22:12.371282Z",
          "shell.execute_reply": "2021-12-07T14:22:12.371809Z",
          "shell.execute_reply.started": "2021-12-07T13:17:19.112119Z"
        },
        "papermill": {
          "duration": 0.286869,
          "end_time": "2021-12-07T14:22:12.372021",
          "exception": false,
          "start_time": "2021-12-07T14:22:12.085152",
          "status": "completed"
        },
        "tags": [],
        "id": "805d5248"
      },
      "outputs": [],
      "source": [
        "data[\"clean_text\"] = data.text.map(clean_the_tweet)\n",
        "data.head()"
      ]
    },
    {
      "cell_type": "code",
      "source": [
        "data.iloc[10].text"
      ],
      "metadata": {
        "id": "ykMsELpZRK4f"
      },
      "id": "ykMsELpZRK4f",
      "execution_count": null,
      "outputs": []
    },
    {
      "cell_type": "code",
      "source": [
        "data.iloc[10].clean_text"
      ],
      "metadata": {
        "id": "gXgV7EB6RGUY"
      },
      "id": "gXgV7EB6RGUY",
      "execution_count": null,
      "outputs": []
    },
    {
      "cell_type": "code",
      "source": [
        "data"
      ],
      "metadata": {
        "id": "4ScgurBqorRm"
      },
      "id": "4ScgurBqorRm",
      "execution_count": null,
      "outputs": []
    },
    {
      "cell_type": "code",
      "source": [
        "max_features = 2000\n",
        "token = Tokenizer(num_words=max_features, split = ' ')\n",
        "token.fit_on_texts(data['clean_text'].values)\n",
        "\n",
        "X = token.texts_to_sequences(data['clean_text'].values)\n",
        "X = pad_sequences(X)"
      ],
      "metadata": {
        "id": "Nre7ZU7bsd8X"
      },
      "id": "Nre7ZU7bsd8X",
      "execution_count": null,
      "outputs": []
    },
    {
      "cell_type": "code",
      "source": [
        "X.shape\n"
      ],
      "metadata": {
        "id": "1ZPqM0AvvYwq"
      },
      "id": "1ZPqM0AvvYwq",
      "execution_count": null,
      "outputs": []
    },
    {
      "cell_type": "code",
      "source": [
        "embed_dim = 128\n",
        "lstm_out = 196\n",
        "\n",
        "model = Sequential()\n",
        "model.add(Embedding(max_features, embed_dim, input_length = X.shape[1]))\n",
        "model.add(SpatialDropout1D(0.4))\n",
        "model.add(LSTM(lstm_out, dropout=0.2, recurrent_dropout=0.2))\n",
        "model.add(Dense(3, activation='softmax'))\n",
        "\n",
        "model.compile(loss='categorical_crossentropy', optimizer='adam', metrics=['accuracy'])\n",
        "\n",
        "model.summary()"
      ],
      "metadata": {
        "id": "iOML4O-1vYzt"
      },
      "id": "iOML4O-1vYzt",
      "execution_count": null,
      "outputs": []
    },
    {
      "cell_type": "code",
      "source": [
        "import tensorflow as tf\n",
        "\n",
        "tf.keras.utils.plot_model(model, show_shapes=True)"
      ],
      "metadata": {
        "id": "wiWGUkGcvY2h"
      },
      "id": "wiWGUkGcvY2h",
      "execution_count": null,
      "outputs": []
    },
    {
      "cell_type": "code",
      "source": [
        "Y = pd.get_dummies(data['airline_sentiment_label']).values"
      ],
      "metadata": {
        "id": "pdZA-EcivY47"
      },
      "id": "pdZA-EcivY47",
      "execution_count": null,
      "outputs": []
    },
    {
      "cell_type": "code",
      "source": [
        "X_train, X_test, y_train, y_test = train_test_split(X,Y, random_state=42)"
      ],
      "metadata": {
        "id": "ybOqzaDNvY7a"
      },
      "id": "ybOqzaDNvY7a",
      "execution_count": null,
      "outputs": []
    },
    {
      "cell_type": "code",
      "source": [
        "batch_size = 32\n",
        "history = model.fit(X_train, y_train, epochs=10, batch_size=batch_size, validation_data=(X_test, y_test), verbose=2)\n"
      ],
      "metadata": {
        "id": "ttECTmk2vY-B"
      },
      "id": "ttECTmk2vY-B",
      "execution_count": null,
      "outputs": []
    },
    {
      "cell_type": "code",
      "source": [
        "def plot_training_hist(history):\n",
        "    '''Function to plot history for accuracy and loss'''\n",
        "    \n",
        "    fig, ax = plt.subplots(1, 2, figsize=(10,4))\n",
        "    # first plot\n",
        "    ax[0].plot(history.history['accuracy'])\n",
        "    ax[0].plot(history.history['val_accuracy'])\n",
        "    ax[0].set_title('Model Accuracy')\n",
        "    ax[0].set_xlabel('epoch')\n",
        "    ax[0].set_ylabel('accuracy')\n",
        "    ax[0].legend(['train', 'validation'], loc='best')\n",
        "    # second plot\n",
        "    ax[1].plot(history.history['loss'])\n",
        "    ax[1].plot(history.history['val_loss'])\n",
        "    ax[1].set_title('Model Loss')\n",
        "    ax[1].set_xlabel('epoch')\n",
        "    ax[1].set_ylabel('loss')\n",
        "    ax[1].legend(['train', 'validation'], loc='best')\n",
        "    \n",
        "plot_training_hist(history)"
      ],
      "metadata": {
        "id": "456URJ2VwOYE"
      },
      "id": "456URJ2VwOYE",
      "execution_count": null,
      "outputs": []
    },
    {
      "cell_type": "code",
      "source": [
        "from sklearn.metrics import confusion_matrix\n",
        "\n",
        "def plot_confusion_matrix(model, X_test, y_test):\n",
        "    '''Function to plot confusion matrix for the passed model and the data'''\n",
        "    \n",
        "    sentiment_classes = ['Negative', 'Neutral', 'Positive']\n",
        "    # use model to do the prediction\n",
        "    y_pred = model.predict(X_test)\n",
        "    # compute confusion matrix\n",
        "    cm = confusion_matrix(np.argmax(np.array(y_test),axis=1), np.argmax(y_pred, axis=1))\n",
        "    # plot confusion matrix\n",
        "    plt.figure(figsize=(8,6))\n",
        "    sns.heatmap(cm, cmap=plt.cm.Blues, annot=True, fmt='d', \n",
        "                xticklabels=sentiment_classes,\n",
        "                yticklabels=sentiment_classes)\n",
        "    plt.title('Confusion matrix', fontsize=16)\n",
        "    plt.xlabel('Actual label', fontsize=12)\n",
        "    plt.ylabel('Predicted label', fontsize=12)\n",
        "    \n",
        "plot_confusion_matrix(model, X_test, y_test)"
      ],
      "metadata": {
        "id": "KHsR0iO0wUnM"
      },
      "id": "KHsR0iO0wUnM",
      "execution_count": null,
      "outputs": []
    },
    {
      "cell_type": "code",
      "source": [
        "# score = model.predict(X_test)\n",
        "score, acc = model.evaluate(X_test, y_test, batch_size=batch_size, verbose=2)\n",
        "print('score', score)\n",
        "print('accuracy', acc)"
      ],
      "metadata": {
        "id": "tsFfv7NdvZAe"
      },
      "id": "tsFfv7NdvZAe",
      "execution_count": null,
      "outputs": []
    },
    {
      "cell_type": "code",
      "source": [
        "#text = ['i would recommend it if you have no other options']\n",
        "#text = ['the food was meh']\n",
        "text = ['I hate when I have to call and wake people up']\n",
        "\n",
        "text = token.texts_to_sequences(text)\n",
        "text = pad_sequences(text, maxlen=22, dtype='int32', value=0)\n",
        "res = model.predict(text, batch_size=1,verbose = 2)\n",
        "res\n",
        "\n"
      ],
      "metadata": {
        "id": "PAGbEGb4f8vJ"
      },
      "id": "PAGbEGb4f8vJ",
      "execution_count": null,
      "outputs": []
    },
    {
      "cell_type": "code",
      "source": [
        "if np.argmax(res[0]) == 0:\n",
        "    print(\"Negetive Comment\")\n",
        "elif np.argmax(res[0]) == 1:\n",
        "    print(\"Posetive Comment\")\n",
        "else:\n",
        "  print(\"Neutral Comment\")"
      ],
      "metadata": {
        "id": "Q1i4cCFFwATM"
      },
      "id": "Q1i4cCFFwATM",
      "execution_count": null,
      "outputs": []
    },
    {
      "cell_type": "code",
      "source": [
        ""
      ],
      "metadata": {
        "id": "tV67J_po3Fs_"
      },
      "id": "tV67J_po3Fs_",
      "execution_count": null,
      "outputs": []
    }
  ],
  "metadata": {
    "kernelspec": {
      "display_name": "Python 3",
      "language": "python",
      "name": "python3"
    },
    "language_info": {
      "codemirror_mode": {
        "name": "ipython",
        "version": 3
      },
      "file_extension": ".py",
      "mimetype": "text/x-python",
      "name": "python",
      "nbconvert_exporter": "python",
      "pygments_lexer": "ipython3",
      "version": "3.7.12"
    },
    "papermill": {
      "default_parameters": {},
      "duration": 853.142536,
      "end_time": "2021-12-07T14:36:10.246332",
      "environment_variables": {},
      "exception": null,
      "input_path": "__notebook__.ipynb",
      "output_path": "__notebook__.ipynb",
      "parameters": {},
      "start_time": "2021-12-07T14:21:57.103796",
      "version": "2.3.3"
    },
    "colab": {
      "name": "DAY14_NLP_Representations_5_Sequences_LSTM.ipynb",
      "provenance": [],
      "collapsed_sections": []
    },
    "accelerator": "GPU"
  },
  "nbformat": 4,
  "nbformat_minor": 5
}