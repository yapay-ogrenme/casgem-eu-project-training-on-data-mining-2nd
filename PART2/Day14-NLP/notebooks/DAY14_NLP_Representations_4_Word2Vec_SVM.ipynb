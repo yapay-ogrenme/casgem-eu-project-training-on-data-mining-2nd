{
  "cells": [
    {
      "cell_type": "code",
      "execution_count": null,
      "id": "05b05ab9",
      "metadata": {
        "execution": {
          "iopub.execute_input": "2021-12-07T14:22:07.517843Z",
          "iopub.status.busy": "2021-12-07T14:22:07.516685Z",
          "iopub.status.idle": "2021-12-07T14:22:09.389728Z",
          "shell.execute_reply": "2021-12-07T14:22:09.388983Z",
          "shell.execute_reply.started": "2021-12-07T13:17:16.522574Z"
        },
        "papermill": {
          "duration": 1.948899,
          "end_time": "2021-12-07T14:22:09.389908",
          "exception": false,
          "start_time": "2021-12-07T14:22:07.441009",
          "status": "completed"
        },
        "tags": [],
        "id": "05b05ab9"
      },
      "outputs": [],
      "source": [
        "import pandas as pd \n",
        "import nltk\n",
        "import re \n",
        "import matplotlib.pyplot as plt\n",
        "import seaborn as sns \n",
        "import numpy as np\n",
        "# Word2vec\n",
        "import gensim"
      ]
    },
    {
      "cell_type": "markdown",
      "id": "c88a1cb0",
      "metadata": {
        "papermill": {
          "duration": 0.068209,
          "end_time": "2021-12-07T14:22:09.804899",
          "exception": false,
          "start_time": "2021-12-07T14:22:09.736690",
          "status": "completed"
        },
        "tags": [],
        "id": "c88a1cb0"
      },
      "source": [
        "Ancak, Metin gösterimi adımına geçmeden önce, önce ön işleme tabi tutulması gereken temizlenmiş bir veri kümesi elde etmeliyiz. "
      ]
    },
    {
      "cell_type": "markdown",
      "id": "732078de",
      "metadata": {
        "papermill": {
          "duration": 0.069141,
          "end_time": "2021-12-07T14:22:09.943204",
          "exception": false,
          "start_time": "2021-12-07T14:22:09.874063",
          "status": "completed"
        },
        "tags": [],
        "id": "732078de"
      },
      "source": [
        "## Veri kümesini yükleme ve temizleme\n",
        "\n",
        "Veri kümesi olarak, [Twitter US Airline Sentiment](https://www.kaggle.com/crowdflower/twitter-airline-sentiment) veri kümesini kullanacağız."
      ]
    },
    {
      "cell_type": "code",
      "source": [
        "DATA_DIR = \"https://media.githubusercontent.com/media/yapay-ogrenme/casgem-eu-project-training-on-data-mining/main/PART2/Day14-NLP/notebooks/datasets/\"\n",
        "\n",
        "DATASET_PATH = DATA_DIR + \"twitter_airline_sentiment_tweets.csv\""
      ],
      "metadata": {
        "id": "ipcigxyYQCId"
      },
      "id": "ipcigxyYQCId",
      "execution_count": null,
      "outputs": []
    },
    {
      "cell_type": "code",
      "execution_count": null,
      "id": "1cca1117",
      "metadata": {
        "execution": {
          "iopub.execute_input": "2021-12-07T14:22:10.086920Z",
          "iopub.status.busy": "2021-12-07T14:22:10.086133Z",
          "iopub.status.idle": "2021-12-07T14:22:10.245386Z",
          "shell.execute_reply": "2021-12-07T14:22:10.244778Z",
          "shell.execute_reply.started": "2021-12-07T13:17:18.517214Z"
        },
        "papermill": {
          "duration": 0.233149,
          "end_time": "2021-12-07T14:22:10.245531",
          "exception": false,
          "start_time": "2021-12-07T14:22:10.012382",
          "status": "completed"
        },
        "tags": [],
        "id": "1cca1117"
      },
      "outputs": [],
      "source": [
        "df = pd.read_csv(DATASET_PATH)"
      ]
    },
    {
      "cell_type": "code",
      "execution_count": null,
      "id": "7e61d2cd",
      "metadata": {
        "execution": {
          "iopub.execute_input": "2021-12-07T14:22:10.387459Z",
          "iopub.status.busy": "2021-12-07T14:22:10.386765Z",
          "iopub.status.idle": "2021-12-07T14:22:10.413495Z",
          "shell.execute_reply": "2021-12-07T14:22:10.414124Z",
          "shell.execute_reply.started": "2021-12-07T13:17:18.663265Z"
        },
        "papermill": {
          "duration": 0.10019,
          "end_time": "2021-12-07T14:22:10.414298",
          "exception": false,
          "start_time": "2021-12-07T14:22:10.314108",
          "status": "completed"
        },
        "tags": [],
        "id": "7e61d2cd"
      },
      "outputs": [],
      "source": [
        "df.head()"
      ]
    },
    {
      "cell_type": "code",
      "execution_count": null,
      "id": "2c13b864",
      "metadata": {
        "execution": {
          "iopub.execute_input": "2021-12-07T14:22:10.558837Z",
          "iopub.status.busy": "2021-12-07T14:22:10.558114Z",
          "iopub.status.idle": "2021-12-07T14:22:10.596904Z",
          "shell.execute_reply": "2021-12-07T14:22:10.597432Z",
          "shell.execute_reply.started": "2021-12-07T13:17:18.694501Z"
        },
        "papermill": {
          "duration": 0.113262,
          "end_time": "2021-12-07T14:22:10.597621",
          "exception": false,
          "start_time": "2021-12-07T14:22:10.484359",
          "status": "completed"
        },
        "tags": [],
        "id": "2c13b864"
      },
      "outputs": [],
      "source": [
        "df.info()"
      ]
    },
    {
      "cell_type": "code",
      "execution_count": null,
      "id": "8a42104a",
      "metadata": {
        "execution": {
          "iopub.execute_input": "2021-12-07T14:22:10.740471Z",
          "iopub.status.busy": "2021-12-07T14:22:10.739435Z",
          "iopub.status.idle": "2021-12-07T14:22:10.972813Z",
          "shell.execute_reply": "2021-12-07T14:22:10.973327Z",
          "shell.execute_reply.started": "2021-12-07T13:17:18.735777Z"
        },
        "papermill": {
          "duration": 0.306738,
          "end_time": "2021-12-07T14:22:10.973515",
          "exception": false,
          "start_time": "2021-12-07T14:22:10.666777",
          "status": "completed"
        },
        "tags": [],
        "id": "8a42104a"
      },
      "outputs": [],
      "source": [
        "sns.countplot(x = \"airline_sentiment\", data = df)"
      ]
    },
    {
      "cell_type": "markdown",
      "id": "849e4b1e",
      "metadata": {
        "papermill": {
          "duration": 0.072146,
          "end_time": "2021-12-07T14:22:11.116201",
          "exception": false,
          "start_time": "2021-12-07T14:22:11.044055",
          "status": "completed"
        },
        "tags": [],
        "id": "849e4b1e"
      },
      "source": [
        "## Temel Ön İşlemler\n"
      ]
    },
    {
      "cell_type": "code",
      "source": [
        "data = df[[\"airline_sentiment\", \"text\"]]\n",
        "data"
      ],
      "metadata": {
        "id": "M2pGocp8Qkx0"
      },
      "id": "M2pGocp8Qkx0",
      "execution_count": null,
      "outputs": []
    },
    {
      "cell_type": "code",
      "execution_count": null,
      "id": "76460d5b",
      "metadata": {
        "execution": {
          "iopub.execute_input": "2021-12-07T14:22:11.569737Z",
          "iopub.status.busy": "2021-12-07T14:22:11.568997Z",
          "iopub.status.idle": "2021-12-07T14:22:11.571009Z",
          "shell.execute_reply": "2021-12-07T14:22:11.571526Z",
          "shell.execute_reply.started": "2021-12-07T13:17:18.992147Z"
        },
        "papermill": {
          "duration": 0.079454,
          "end_time": "2021-12-07T14:22:11.571716",
          "exception": false,
          "start_time": "2021-12-07T14:22:11.492262",
          "status": "completed"
        },
        "tags": [],
        "id": "76460d5b"
      },
      "outputs": [],
      "source": [
        "def sentiment(x):\n",
        "    if x == 'positive':\n",
        "        return 1\n",
        "    elif x == 'negative':\n",
        "        return -1\n",
        "    else:\n",
        "        return 0"
      ]
    },
    {
      "cell_type": "code",
      "source": [
        "data[\"airline_sentiment_label\"] = data[\"airline_sentiment\"].apply(sentiment)\n",
        "data"
      ],
      "metadata": {
        "id": "FfSxwHJgjC0M"
      },
      "id": "FfSxwHJgjC0M",
      "execution_count": null,
      "outputs": []
    },
    {
      "cell_type": "code",
      "source": [
        "import nltk\n",
        "from nltk.corpus import stopwords\n",
        "nltk.download('punkt')\n",
        "nltk.download('stopwords')\n",
        "stopwords = stopwords.words('english')\n",
        "\n",
        "def clean_the_tweet(text):\n",
        "  tokens= nltk.word_tokenize(re.sub(\"[^a-zA-Z]\", \" \",text))\n",
        "  tokens = [token.lower() for token in tokens if token not in stopwords]\n",
        "  return ' '.join(tokens[2:])"
      ],
      "metadata": {
        "id": "xY8QYp-ulRJf"
      },
      "id": "xY8QYp-ulRJf",
      "execution_count": null,
      "outputs": []
    },
    {
      "cell_type": "code",
      "source": [
        "print(f\"Orignal Text : {data.text[11]}\")\n",
        "print()\n",
        "print(f\"Preprocessed Text : {clean_the_tweet(data.text[11])}\")"
      ],
      "metadata": {
        "id": "9B24L6YTlHtS"
      },
      "id": "9B24L6YTlHtS",
      "execution_count": null,
      "outputs": []
    },
    {
      "cell_type": "code",
      "execution_count": null,
      "id": "805d5248",
      "metadata": {
        "execution": {
          "iopub.execute_input": "2021-12-07T14:22:12.161539Z",
          "iopub.status.busy": "2021-12-07T14:22:12.159924Z",
          "iopub.status.idle": "2021-12-07T14:22:12.371282Z",
          "shell.execute_reply": "2021-12-07T14:22:12.371809Z",
          "shell.execute_reply.started": "2021-12-07T13:17:19.112119Z"
        },
        "papermill": {
          "duration": 0.286869,
          "end_time": "2021-12-07T14:22:12.372021",
          "exception": false,
          "start_time": "2021-12-07T14:22:12.085152",
          "status": "completed"
        },
        "tags": [],
        "id": "805d5248"
      },
      "outputs": [],
      "source": [
        "data[\"clean_text\"] = data.text.map(clean_the_tweet)\n",
        "data.head()"
      ]
    },
    {
      "cell_type": "code",
      "source": [
        "data.iloc[10].text"
      ],
      "metadata": {
        "id": "ykMsELpZRK4f"
      },
      "id": "ykMsELpZRK4f",
      "execution_count": null,
      "outputs": []
    },
    {
      "cell_type": "code",
      "source": [
        "data.iloc[10].clean_text"
      ],
      "metadata": {
        "id": "gXgV7EB6RGUY"
      },
      "id": "gXgV7EB6RGUY",
      "execution_count": null,
      "outputs": []
    },
    {
      "cell_type": "code",
      "source": [
        "data"
      ],
      "metadata": {
        "id": "4ScgurBqorRm"
      },
      "id": "4ScgurBqorRm",
      "execution_count": null,
      "outputs": []
    },
    {
      "cell_type": "markdown",
      "source": [
        "## Word2Vec"
      ],
      "metadata": {
        "id": "guZ7A7Uo6i9J"
      },
      "id": "guZ7A7Uo6i9J"
    },
    {
      "cell_type": "code",
      "source": [
        "%%time\n",
        "documents = [_text.split() for _text in data.clean_text] "
      ],
      "metadata": {
        "id": "q8nYGDfj7IJK"
      },
      "id": "q8nYGDfj7IJK",
      "execution_count": null,
      "outputs": []
    },
    {
      "cell_type": "code",
      "source": [
        "# WORD2VEC \n",
        "W2V_SIZE = 300\n",
        "W2V_WINDOW = 7\n",
        "W2V_EPOCH = 16\n",
        "W2V_MIN_COUNT = 10\n",
        "\n",
        "\n",
        "w2v_model = gensim.models.word2vec.Word2Vec(size=W2V_SIZE, \n",
        "                                            window=W2V_WINDOW, \n",
        "                                            min_count=W2V_MIN_COUNT, \n",
        "                                            workers=8)"
      ],
      "metadata": {
        "id": "SlyDCkUMoQXp"
      },
      "id": "SlyDCkUMoQXp",
      "execution_count": null,
      "outputs": []
    },
    {
      "cell_type": "code",
      "source": [
        "w2v_model.build_vocab(documents)"
      ],
      "metadata": {
        "id": "yJoJ7XqWl7-D"
      },
      "id": "yJoJ7XqWl7-D",
      "execution_count": null,
      "outputs": []
    },
    {
      "cell_type": "code",
      "source": [
        "vocab_len = len(w2v_model.wv.vocab)\n",
        "print(\"Vocab size\", vocab_len)"
      ],
      "metadata": {
        "id": "s3bG6eIB76Z5"
      },
      "id": "s3bG6eIB76Z5",
      "execution_count": null,
      "outputs": []
    },
    {
      "cell_type": "code",
      "source": [
        "%%time\n",
        "w2v_model.train(documents, total_examples=len(documents), epochs=W2V_EPOCH)"
      ],
      "metadata": {
        "id": "DxSxD8VX76c2"
      },
      "id": "DxSxD8VX76c2",
      "execution_count": null,
      "outputs": []
    },
    {
      "cell_type": "code",
      "source": [
        "w2v_model.wv.most_similar(\"airlines\")"
      ],
      "metadata": {
        "id": "g644oUAi76fe"
      },
      "id": "g644oUAi76fe",
      "execution_count": null,
      "outputs": []
    },
    {
      "cell_type": "code",
      "source": [
        "w2v_model.wv.vectors[0].shape[0]"
      ],
      "metadata": {
        "id": "Dt64wkto8y7L"
      },
      "id": "Dt64wkto8y7L",
      "execution_count": null,
      "outputs": []
    },
    {
      "cell_type": "code",
      "source": [
        "w2v_model.wv[\"american\"].shape"
      ],
      "metadata": {
        "id": "FmwM5GCR9ty0"
      },
      "id": "FmwM5GCR9ty0",
      "execution_count": null,
      "outputs": []
    },
    {
      "cell_type": "code",
      "source": [
        "def get_mean_vector(sentence):\n",
        "  tokens = nltk.word_tokenize(sentence)\n",
        "  # remove out-of-vocabulary words\n",
        "  words = [word for word in tokens if word in w2v_model.wv]\n",
        "  if len(words) >= 1:\n",
        "      return np.mean(w2v_model[words], axis=0)\n",
        "  else:\n",
        "      return np.zeros(300)\n"
      ],
      "metadata": {
        "id": "zwxgtL3XSBmp"
      },
      "id": "zwxgtL3XSBmp",
      "execution_count": null,
      "outputs": []
    },
    {
      "cell_type": "code",
      "source": [
        ""
      ],
      "metadata": {
        "id": "p1YWo8wOL1bs"
      },
      "id": "p1YWo8wOL1bs",
      "execution_count": null,
      "outputs": []
    },
    {
      "cell_type": "code",
      "source": [
        ""
      ],
      "metadata": {
        "id": "ymrYqAKcL1fV"
      },
      "id": "ymrYqAKcL1fV",
      "execution_count": null,
      "outputs": []
    },
    {
      "cell_type": "code",
      "source": [
        "content_vector = get_mean_vector(data.iloc[7].clean_text)\n",
        "content_vector"
      ],
      "metadata": {
        "id": "iDbfgzRuCIP3"
      },
      "id": "iDbfgzRuCIP3",
      "execution_count": null,
      "outputs": []
    },
    {
      "cell_type": "code",
      "source": [
        "data[\"content_vector\"] = data[\"clean_text\"].apply(get_mean_vector)\n",
        "data"
      ],
      "metadata": {
        "id": "8lWXeE9uF27s"
      },
      "id": "8lWXeE9uF27s",
      "execution_count": null,
      "outputs": []
    },
    {
      "cell_type": "code",
      "source": [
        "data.iloc[10].clean_text"
      ],
      "metadata": {
        "id": "15Qok8qM-bWf"
      },
      "id": "15Qok8qM-bWf",
      "execution_count": null,
      "outputs": []
    },
    {
      "cell_type": "code",
      "source": [
        "data.iloc[10][\"content_vector\"].shape"
      ],
      "metadata": {
        "id": "F51tuA3aK8UM"
      },
      "id": "F51tuA3aK8UM",
      "execution_count": null,
      "outputs": []
    },
    {
      "cell_type": "code",
      "source": [
        "X = np.zeros((14640, 300))\n",
        "\n",
        "for i in range(len(data)):\n",
        "  X[i] = data.iloc[i][\"content_vector\"]\n",
        "\n",
        "X.shape"
      ],
      "metadata": {
        "id": "tkFY6he2TL5P"
      },
      "id": "tkFY6he2TL5P",
      "execution_count": null,
      "outputs": []
    },
    {
      "cell_type": "code",
      "source": [
        "y = data[\"airline_sentiment_label\"].values"
      ],
      "metadata": {
        "id": "zCm7BKWUTs7g"
      },
      "id": "zCm7BKWUTs7g",
      "execution_count": null,
      "outputs": []
    },
    {
      "cell_type": "code",
      "source": [
        "from sklearn.model_selection import train_test_split\n",
        "\n",
        "X_train, X_test, y_train, y_test = train_test_split(X, y, test_size=0.2, random_state=42)"
      ],
      "metadata": {
        "id": "Onb8vG0x8RaC"
      },
      "id": "Onb8vG0x8RaC",
      "execution_count": null,
      "outputs": []
    },
    {
      "cell_type": "code",
      "source": [
        "y_train.shape"
      ],
      "metadata": {
        "id": "d8QCRfN4UNt0"
      },
      "id": "d8QCRfN4UNt0",
      "execution_count": null,
      "outputs": []
    },
    {
      "cell_type": "code",
      "source": [
        "y_train"
      ],
      "metadata": {
        "id": "z7T9NyNyXTCc"
      },
      "id": "z7T9NyNyXTCc",
      "execution_count": null,
      "outputs": []
    },
    {
      "cell_type": "code",
      "source": [
        "from sklearn import svm\n",
        "\n",
        "SVM = svm.SVC(probability=True)\n",
        "\n",
        "fit = SVM.fit(X_train, y_train)"
      ],
      "metadata": {
        "id": "xEgfTvjwhCSF"
      },
      "id": "xEgfTvjwhCSF",
      "execution_count": null,
      "outputs": []
    },
    {
      "cell_type": "code",
      "source": [
        "y_pred = fit.predict(X_test)"
      ],
      "metadata": {
        "id": "qD08z-gChCUw"
      },
      "id": "qD08z-gChCUw",
      "execution_count": null,
      "outputs": []
    },
    {
      "cell_type": "code",
      "source": [
        "from sklearn.metrics import accuracy_score\n",
        "\n",
        "accuracy = accuracy_score(y_pred, y_test)\n",
        "accuracy"
      ],
      "metadata": {
        "id": "sEG8m_DFmN1u"
      },
      "id": "sEG8m_DFmN1u",
      "execution_count": null,
      "outputs": []
    },
    {
      "cell_type": "code",
      "source": [
        "from sklearn.metrics import confusion_matrix\n",
        "from mlxtend.plotting import plot_confusion_matrix\n",
        "\n",
        "cm = confusion_matrix(y_pred, y_test)\n",
        "\n",
        "plt.figure()\n",
        "plot_confusion_matrix(cm,figsize=(12,8), hide_ticks=True,cmap=plt.cm.Reds)\n",
        "plt.xticks(range(2), ['Negative', 'Neutral', 'Positive'], fontsize=16,color='black')\n",
        "plt.yticks(range(2), ['Negative', 'Neutral', 'Positive'], fontsize=16)\n",
        "plt.show()"
      ],
      "metadata": {
        "id": "ySld5BE3mN4j"
      },
      "id": "ySld5BE3mN4j",
      "execution_count": null,
      "outputs": []
    },
    {
      "cell_type": "code",
      "source": [
        ""
      ],
      "metadata": {
        "id": "qCmn1o2bnMaT"
      },
      "id": "qCmn1o2bnMaT",
      "execution_count": null,
      "outputs": []
    }
  ],
  "metadata": {
    "kernelspec": {
      "display_name": "Python 3",
      "language": "python",
      "name": "python3"
    },
    "language_info": {
      "codemirror_mode": {
        "name": "ipython",
        "version": 3
      },
      "file_extension": ".py",
      "mimetype": "text/x-python",
      "name": "python",
      "nbconvert_exporter": "python",
      "pygments_lexer": "ipython3",
      "version": "3.7.12"
    },
    "papermill": {
      "default_parameters": {},
      "duration": 853.142536,
      "end_time": "2021-12-07T14:36:10.246332",
      "environment_variables": {},
      "exception": null,
      "input_path": "__notebook__.ipynb",
      "output_path": "__notebook__.ipynb",
      "parameters": {},
      "start_time": "2021-12-07T14:21:57.103796",
      "version": "2.3.3"
    },
    "colab": {
      "name": "DAY14_NLP_Representations_4_Word2Vec_SVM.ipynb",
      "provenance": [],
      "collapsed_sections": []
    }
  },
  "nbformat": 4,
  "nbformat_minor": 5
}