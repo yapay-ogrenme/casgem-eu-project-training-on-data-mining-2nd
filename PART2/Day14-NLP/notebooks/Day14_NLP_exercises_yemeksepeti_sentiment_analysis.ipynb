{
  "nbformat": 4,
  "nbformat_minor": 0,
  "metadata": {
    "colab": {
      "name": "Day14_NLP_exercises_yemeksepeti_sentiment_analysis.ipynb",
      "provenance": [],
      "collapsed_sections": []
    },
    "kernelspec": {
      "name": "python3",
      "display_name": "Python 3"
    },
    "language_info": {
      "name": "python"
    }
  },
  "cells": [
    {
      "cell_type": "code",
      "source": [
        "import pandas as pd \n",
        "import numpy as np"
      ],
      "metadata": {
        "id": "k6T6YrD4xHMU"
      },
      "execution_count": null,
      "outputs": []
    },
    {
      "cell_type": "code",
      "execution_count": null,
      "metadata": {
        "id": "zehuINRJH-Js"
      },
      "outputs": [],
      "source": [
        "DATA_DIR = \"https://media.githubusercontent.com/media/yapay-ogrenme/casgem-eu-project-training-on-data-mining-2nd/main/PART2/Day14-NLP/notebooks/datasets/\"\n",
        "\n",
        "\n",
        "DATASET_PATH = DATA_DIR + \"yorumsepeti.csv\""
      ]
    },
    {
      "cell_type": "code",
      "source": [
        "DATASET_PATH"
      ],
      "metadata": {
        "id": "hRTkTZmLxTUA"
      },
      "execution_count": null,
      "outputs": []
    },
    {
      "cell_type": "code",
      "source": [
        "df = pd.read_csv(DATASET_PATH, sep=';')\n",
        "df"
      ],
      "metadata": {
        "id": "5CTDIBpVxJQx"
      },
      "execution_count": null,
      "outputs": []
    },
    {
      "cell_type": "code",
      "source": [
        "print(\"Dataset size:\", len(df))"
      ],
      "metadata": {
        "id": "lfxoGfORxurH"
      },
      "execution_count": null,
      "outputs": []
    },
    {
      "cell_type": "code",
      "source": [
        "pd.isna(df['review']).sum()"
      ],
      "metadata": {
        "id": "sB7XdNM0xKg0"
      },
      "execution_count": null,
      "outputs": []
    },
    {
      "cell_type": "code",
      "source": [
        "df = df.dropna(subset=['review'], axis=0)\n",
        "print(\"Dataset size:\", len(df))"
      ],
      "metadata": {
        "id": "KmSU51RQxpcF"
      },
      "execution_count": null,
      "outputs": []
    },
    {
      "cell_type": "code",
      "source": [
        "# We will use the mean of 3 point scoring system\n",
        "# so we will change the dataset to target-text\n",
        "\n",
        "df['speed'] = df['speed'].replace(['-'], np.nan)\n",
        "df['service'] = df['service'].replace(['-'], np.nan)\n",
        "df['flavour'] = df['flavour'].replace(['-'], np.nan)\n",
        "\n",
        "df['speed'] = df['speed'].astype(float)\n",
        "df['service'] = df['service'].astype(float)\n",
        "df['flavour'] = df['flavour'].astype(float)\n",
        "df['review'] = df['review'].astype(str)\n"
      ],
      "metadata": {
        "id": "sMPTTCOdxxBL"
      },
      "execution_count": null,
      "outputs": []
    },
    {
      "cell_type": "markdown",
      "source": [
        "**3 çeşit puanlamanın ortalamasına göre ikili sınıflandırma yapabilmek için hedef sütun oluşturma**"
      ],
      "metadata": {
        "id": "F36yS7V1x98O"
      }
    },
    {
      "cell_type": "code",
      "source": [
        "df = df.assign(target=df.loc[:, ['speed', 'service', 'flavour']].mean(axis=1))\n",
        "df['target'] = round(df['target'])\n",
        "\n",
        "df = df.dropna(subset=['target'], axis=0)\n",
        "df['target'] = df['target'].astype(int)\n",
        "\n",
        "df"
      ],
      "metadata": {
        "id": "YBn6TFicx332"
      },
      "execution_count": null,
      "outputs": []
    },
    {
      "cell_type": "markdown",
      "source": [
        "**Hedef sütununda ortalama puanlarımız var. 1-5 puan eksiye, 6-10 puan artıya karşılık gelir şeklinde haritalandırıyoruz. Son bölümde nötr toplama için eşik olarak 0,4-0,7 kullanacağız.**"
      ],
      "metadata": {
        "id": "jX6PUadCpANQ"
      }
    },
    {
      "cell_type": "code",
      "source": [
        "decode_map = { 1:\"NEGATIVE\", 2:\"NEGATIVE\" ,3: \"NEGATIVE\", 4:\"NEGATIVE\", 5:\"NEGATIVE\",6: \"POSITIVE\",\n",
        "              7: \"POSITIVE\", 8: \"POSITIVE\", 9: \"POSITIVE\", 10: \"POSITIVE\"}\n",
        "              \n",
        "def decode_sentiment(label):\n",
        "    return decode_map[int(label)]"
      ],
      "metadata": {
        "id": "CiwprbFIyCLd"
      },
      "execution_count": null,
      "outputs": []
    },
    {
      "cell_type": "code",
      "source": [
        "%%time\n",
        "df.target = df.target.apply(lambda x: decode_sentiment(x))"
      ],
      "metadata": {
        "id": "mTGjIuynpNE4"
      },
      "execution_count": null,
      "outputs": []
    },
    {
      "cell_type": "code",
      "source": [
        "df"
      ],
      "metadata": {
        "id": "vrP19_vOpOwf"
      },
      "execution_count": null,
      "outputs": []
    },
    {
      "cell_type": "code",
      "source": [
        "from collections import Counter\n",
        "import matplotlib.pyplot as plt\n",
        "\n",
        "target_cnt = Counter(df.target)\n",
        "\n",
        "plt.figure(figsize=(8,4))\n",
        "plt.bar(target_cnt.keys(), target_cnt.values())\n",
        "plt.title(\"Dataset labels distribuition\")"
      ],
      "metadata": {
        "id": "zoJYS821pQYt"
      },
      "execution_count": null,
      "outputs": []
    },
    {
      "cell_type": "markdown",
      "source": [
        "**YAPILACAKLAR: review'leri target alanındaki POSITIVE ve NEGATIF olarak sınıf olarak sınıflayan model eğitiniz.**\n",
        "\n",
        "**Confusion Matrix ve Classification Report ile başarımınızı değerlendirin.**\n"
      ],
      "metadata": {
        "id": "EA0Jbt1XpiCN"
      }
    },
    {
      "cell_type": "markdown",
      "source": [
        "**Aşağıdaki cümleler ile test edilecek:**\n",
        "\n",
        "- \"Lütfen şu yemeği düzgün pişirin\"\n",
        "- \"İşini aşkla yapan bir mekan daha sarrrrdı\"\n",
        "- \"Kuryeniz çok saygısız\"\n",
        "- \"lezzet sıfır kalite sıfır hizmet sıfır ekmek arası ekmek de göndermezsiniz.\"\n",
        "- \"EFFFFSANEYDİ BEEE\"\n",
        "- \"Ellerinize sağlık çok güzeldi\"\n",
        "- \"Bi tantuni yiyelim dedik kusacaktık reziller sizi\"\n",
        "- \"Hep buradan alıyoruz yine memnunuz teşekkürler\"\n",
        "- \"bir daha burdan almayın paranıza yazık\"\n",
        "- \"Bugün günlerden açlık günü zannetmiştim ama varya biliyosunuz bu işi.\"\n",
        "\n"
      ],
      "metadata": {
        "id": "NnoAZAnYqEZm"
      }
    },
    {
      "cell_type": "code",
      "source": [
        ""
      ],
      "metadata": {
        "id": "RZi819DVpRwP"
      },
      "execution_count": null,
      "outputs": []
    }
  ]
}