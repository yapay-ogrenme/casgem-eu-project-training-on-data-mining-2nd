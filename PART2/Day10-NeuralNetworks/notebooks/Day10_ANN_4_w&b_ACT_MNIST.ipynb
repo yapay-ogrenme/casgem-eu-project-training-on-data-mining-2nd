{
  "nbformat": 4,
  "nbformat_minor": 0,
  "metadata": {
    "colab": {
      "name": "Day10_ANN_4_w&b_ACT_MNIST.ipynb",
      "provenance": [],
      "collapsed_sections": [
        "rXwN0hrETf7B",
        "1b_f16x7cXUe",
        "wZBFrrtodJBA",
        "f6mLl5_2TkaP",
        "-TgUFlQGT0oE"
      ]
    },
    "kernelspec": {
      "name": "python3",
      "display_name": "Python 3"
    },
    "accelerator": "GPU"
  },
  "cells": [
    {
      "cell_type": "code",
      "metadata": {
        "id": "hZ9CQTPGNcq6"
      },
      "source": [
        "import tensorflow as tf"
      ],
      "execution_count": null,
      "outputs": []
    },
    {
      "cell_type": "markdown",
      "metadata": {
        "id": "WAolnARrTDEP"
      },
      "source": [
        "#  **Loading & procesing the data**"
      ]
    },
    {
      "cell_type": "code",
      "metadata": {
        "id": "F9HQHYu8NATq"
      },
      "source": [
        "# Gather data and preprocess it\n",
        "(X_train, y_train), (X_test, y_test) = tf.keras.datasets.fashion_mnist.load_data()\n",
        "X_train, X_test = X_train / 255.0, X_test / 255.0"
      ],
      "execution_count": null,
      "outputs": []
    },
    {
      "cell_type": "code",
      "metadata": {
        "id": "k4L5ICI7PDb3"
      },
      "source": [
        "X_train = X_train.reshape(X_train.shape[0], 28, 28, 1)\n",
        "X_test = X_test.reshape(X_test.shape[0], 28, 28, 1)"
      ],
      "execution_count": null,
      "outputs": []
    },
    {
      "cell_type": "code",
      "metadata": {
        "id": "_AFAw6hr-G0y"
      },
      "source": [
        "input_shape = (28, 28, 1)"
      ],
      "execution_count": null,
      "outputs": []
    },
    {
      "cell_type": "code",
      "metadata": {
        "id": "ko361dGPPse7"
      },
      "source": [
        "CLASS_NAMES = ['T-shirt/top', 'Trouser', 'Pullover', 'Dress', 'Coat',\n",
        "               'Sandal', 'Shirt', 'Sneaker', 'Bag', 'Ankle boot']"
      ],
      "execution_count": null,
      "outputs": []
    },
    {
      "cell_type": "markdown",
      "metadata": {
        "id": "rTNwK5v4TNOC"
      },
      "source": [
        "#  **Installing wandb**"
      ]
    },
    {
      "cell_type": "code",
      "metadata": {
        "id": "opSN4-DZNl_0"
      },
      "source": [
        "\n",
        "# Weights and Biases for experiment tracking\n",
        "!pip install wandb\n",
        "!wandb login"
      ],
      "execution_count": null,
      "outputs": []
    },
    {
      "cell_type": "code",
      "metadata": {
        "id": "T6APxXgEODsO"
      },
      "source": [
        "from wandb.keras import WandbCallback"
      ],
      "execution_count": null,
      "outputs": []
    },
    {
      "cell_type": "markdown",
      "metadata": {
        "id": "DXkCaSXdTbp-"
      },
      "source": [
        "#  **Sigmoid**"
      ]
    },
    {
      "cell_type": "code",
      "metadata": {
        "id": "YjkeA5ZnOk2Z"
      },
      "source": [
        "from keras.models import Sequential\n",
        "from keras.layers import Dense, Conv2D, Dropout, Flatten, MaxPooling2D\n",
        "from keras import initializers\n",
        "# Creating a Sequential Model and adding the layers\n",
        "model = Sequential()\n",
        "model.add(Conv2D(32, kernel_size=(3,3), activation='sigmoid', input_shape=input_shape))#default s=1\n",
        "model.add(MaxPooling2D(pool_size=(2, 2)))#default s=2\n",
        "model.add(Conv2D(64, kernel_size=(3,3), activation='sigmoid'))\n",
        "model.add(MaxPooling2D(pool_size=(2, 2)))\n",
        "model.add(Conv2D(64, kernel_size=(3,3), activation='sigmoid'))\n",
        "model.add(Flatten()) # Flattening the 3D arrays for fully connected layers\n",
        "model.add(Dense(128, activation='sigmoid'))#<---- 1st hideen layer\n",
        "model.add(Dropout(0.2))\n",
        "model.add(Dense(10,activation='softmax'))#<-----output layer"
      ],
      "execution_count": null,
      "outputs": []
    },
    {
      "cell_type": "code",
      "metadata": {
        "id": "BFIhrtw5-KSa"
      },
      "source": [
        "model.summary()"
      ],
      "execution_count": null,
      "outputs": []
    },
    {
      "cell_type": "code",
      "metadata": {
        "id": "kjfxDqS4O4ug"
      },
      "source": [
        "import wandb\n",
        "wandb.init(project='Activation Functions', id='sigmoid_30_f')#give the name of your project and any name for the id"
      ],
      "execution_count": null,
      "outputs": []
    },
    {
      "cell_type": "code",
      "metadata": {
        "id": "nHoTmo0iPZOW"
      },
      "source": [
        "model.compile(optimizer='adam', \n",
        "              loss='sparse_categorical_crossentropy', \n",
        "              metrics=['accuracy']) #configures the model\n",
        "model.fit(x=X_train,y=y_train, epochs=30, callbacks=[WandbCallback(data_type='image', labels=CLASS_NAMES, \n",
        "                             validation_data=(X_test, y_test))])#-> forward+backward"
      ],
      "execution_count": null,
      "outputs": []
    },
    {
      "cell_type": "markdown",
      "metadata": {
        "id": "rXwN0hrETf7B"
      },
      "source": [
        "#  **ReLU**"
      ]
    },
    {
      "cell_type": "code",
      "metadata": {
        "id": "iEXMZvKlP2FN"
      },
      "source": [
        "from keras.models import Sequential\n",
        "from keras.layers import Dense, Conv2D, Dropout, Flatten, MaxPooling2D\n",
        "# Creating a Sequential Model and adding the layers\n",
        "model1 = Sequential()\n",
        "model1.add(Conv2D(32, kernel_size=(3,3), activation='relu', input_shape=input_shape))#default s=1\n",
        "model1.add(MaxPooling2D(pool_size=(2, 2)))#default s=2\n",
        "model1.add(Conv2D(64, kernel_size=(3,3), activation='relu'))\n",
        "model1.add(MaxPooling2D(pool_size=(2, 2)))\n",
        "model1.add(Conv2D(64, kernel_size=(3,3), activation='relu'))\n",
        "model1.add(Flatten()) # Flattening the 3D arrays for fully connected layers\n",
        "model1.add(Dense(128, activation='relu'))#<---- 1st hideen layer\n",
        "model1.add(Dropout(0.2))\n",
        "model1.add(Dense(10,activation='softmax'))#<-----output layer"
      ],
      "execution_count": null,
      "outputs": []
    },
    {
      "cell_type": "code",
      "metadata": {
        "id": "GEhZf3mwRVNh"
      },
      "source": [
        "model1.summary()"
      ],
      "execution_count": null,
      "outputs": []
    },
    {
      "cell_type": "code",
      "metadata": {
        "id": "-cNaWcZJQjd7"
      },
      "source": [
        "import wandb\n",
        "wandb.init(project='Activation Functions', id='relu_fi') #give the name of your project and any name for the id"
      ],
      "execution_count": null,
      "outputs": []
    },
    {
      "cell_type": "code",
      "metadata": {
        "id": "V_REHd8EQ0P6"
      },
      "source": [
        "model1.compile(optimizer='adam', \n",
        "              loss='sparse_categorical_crossentropy', \n",
        "              metrics=['accuracy']) #configures the model\n",
        "model1.fit(x=X_train,y=y_train, epochs=10, callbacks=[WandbCallback(data_type='image', labels=CLASS_NAMES, \n",
        "                             validation_data=(X_test, y_test))])#-> forward+backward"
      ],
      "execution_count": null,
      "outputs": []
    },
    {
      "cell_type": "markdown",
      "metadata": {
        "id": "1b_f16x7cXUe"
      },
      "source": [
        "# **Leaky ReLU**"
      ]
    },
    {
      "cell_type": "code",
      "metadata": {
        "id": "Op653fPMcDcJ"
      },
      "source": [
        "from keras.models import Sequential\n",
        "from keras.layers import Dense, Conv2D, Dropout, Flatten, MaxPooling2D\n",
        "# Creating a Sequential Model and adding the layers\n",
        "model = Sequential()\n",
        "model.add(Conv2D(32, kernel_size=(3,3), activation=tf.nn.leaky_relu, input_shape=input_shape))#default s=1\n",
        "model.add(MaxPooling2D(pool_size=(2, 2)))#default s=2\n",
        "model.add(Conv2D(64, kernel_size=(3,3), activation=tf.nn.leaky_relu))\n",
        "model.add(MaxPooling2D(pool_size=(2, 2)))\n",
        "model.add(Conv2D(64, kernel_size=(3,3), activation=tf.nn.leaky_relu))\n",
        "model.add(Flatten()) # Flattening the 3D arrays for fully connected layers\n",
        "model.add(Dense(128, activation=tf.nn.leaky_relu))#<---- 1st hideen layer\n",
        "model.add(Dropout(0.2))\n",
        "model.add(Dense(10,activation='softmax'))#<-----output layer"
      ],
      "execution_count": null,
      "outputs": []
    },
    {
      "cell_type": "code",
      "metadata": {
        "id": "Ca48sLb9cHss"
      },
      "source": [
        "import wandb\n",
        "wandb.init(project='Activation Functions', id='leaky_relu_30') #give the name of your project and any name for the id"
      ],
      "execution_count": null,
      "outputs": []
    },
    {
      "cell_type": "code",
      "metadata": {
        "id": "jjkm-F3JcMig"
      },
      "source": [
        "model.compile(optimizer='adam', \n",
        "              loss='sparse_categorical_crossentropy', \n",
        "              metrics=['accuracy']) #configures the model\n",
        "model.fit(x=X_train,y=y_train, epochs=30, callbacks=[WandbCallback(data_type='image', labels=CLASS_NAMES, \n",
        "                             validation_data=(X_test, y_test))])#-> forward+backward"
      ],
      "execution_count": null,
      "outputs": []
    },
    {
      "cell_type": "markdown",
      "metadata": {
        "id": "wZBFrrtodJBA"
      },
      "source": [
        "#  **Elu**"
      ]
    },
    {
      "cell_type": "code",
      "metadata": {
        "id": "a-X2o6AMc9VS"
      },
      "source": [
        "from keras.models import Sequential\n",
        "from keras.layers import Dense, Conv2D, Dropout, Flatten, MaxPooling2D\n",
        "# Creating a Sequential Model and adding the layers\n",
        "model = Sequential()\n",
        "model.add(Conv2D(32, kernel_size=(3,3), activation='elu', input_shape=input_shape))#default s=1\n",
        "model.add(MaxPooling2D(pool_size=(2, 2)))#default s=2\n",
        "model.add(Conv2D(64, kernel_size=(3,3), activation='elu'))\n",
        "model.add(MaxPooling2D(pool_size=(2, 2)))\n",
        "model.add(Conv2D(64, kernel_size=(3,3), activation='elu'))\n",
        "model.add(Flatten()) # Flattening the 3D arrays for fully connected layers\n",
        "model.add(Dense(128, activation='elu'))#<---- 1st hideen layer\n",
        "model.add(Dropout(0.2))\n",
        "model.add(Dense(10,activation='softmax'))#<-----output layer"
      ],
      "execution_count": null,
      "outputs": []
    },
    {
      "cell_type": "code",
      "metadata": {
        "id": "4I_q3791dP0P"
      },
      "source": [
        "import wandb\n",
        "wandb.init(project='Activation Functions', id='elu_30')#give the name of your project and any name for the id"
      ],
      "execution_count": null,
      "outputs": []
    },
    {
      "cell_type": "code",
      "metadata": {
        "id": "oPNq1f8Kdy7t"
      },
      "source": [
        "model.compile(optimizer='adam', \n",
        "              loss='sparse_categorical_crossentropy', \n",
        "              metrics=['accuracy']) #configures the model\n",
        "model.fit(x=X_train,y=y_train, epochs=30, callbacks=[WandbCallback(data_type='image', labels=CLASS_NAMES, \n",
        "                             validation_data=(X_test, y_test))])#-> forward+backward"
      ],
      "execution_count": null,
      "outputs": []
    },
    {
      "cell_type": "markdown",
      "metadata": {
        "id": "f6mLl5_2TkaP"
      },
      "source": [
        "#  **Swish**"
      ]
    },
    {
      "cell_type": "code",
      "metadata": {
        "id": "sk2AGv3dQ5PR"
      },
      "source": [
        "#writing the swish activation function\n",
        "\n",
        "\n",
        "import tensorflow\n",
        "import keras\n",
        "from keras.layers import Activation\n",
        "from keras.utils.generic_utils import get_custom_objects\n",
        "\n",
        "class Swish(keras.layers.Activation):\n",
        "  def __init__(self, activation, **kwargs):\n",
        "    super(Swish, self).__init__(activation, **kwargs)\n",
        "    self.__name__ = 'Swish'\n",
        "  def swish(inputs):\n",
        "    return inputs * keras.activations.sigmoid(inputs)\n",
        "\n",
        "  get_custom_objects().update({'Swish': Swish(swish)})"
      ],
      "execution_count": null,
      "outputs": []
    },
    {
      "cell_type": "code",
      "metadata": {
        "id": "AqxPgVN7SG65"
      },
      "source": [
        "from keras.models import Sequential\n",
        "from keras.layers import Dense, Conv2D, Dropout, Flatten, MaxPooling2D\n",
        "# Creating a Sequential Model and adding the layers\n",
        "model2 = Sequential()\n",
        "model2.add(Conv2D(32, kernel_size=(3,3), activation='Swish', input_shape=input_shape))#default s=1\n",
        "model2.add(MaxPooling2D(pool_size=(2, 2)))#default s=2\n",
        "model2.add(Conv2D(64, kernel_size=(3,3), activation='Swish'))\n",
        "model2.add(MaxPooling2D(pool_size=(2, 2)))\n",
        "model2.add(Conv2D(64, kernel_size=(3,3), activation='Swish'))\n",
        "model2.add(Flatten()) # Flattening the 3D arrays for fully connected layers\n",
        "model2.add(Dense(128, activation='Swish'))#<---- 1st hideen layer\n",
        "model2.add(Dropout(0.2))\n",
        "model2.add(Dense(10,activation='softmax'))#<-----output layer"
      ],
      "execution_count": null,
      "outputs": []
    },
    {
      "cell_type": "code",
      "metadata": {
        "id": "ByYnfjdCRQoF"
      },
      "source": [
        "import wandb\n",
        "wandb.init(project='Activation Functions', id='swish')#give the name of your project and any name for the id"
      ],
      "execution_count": null,
      "outputs": []
    },
    {
      "cell_type": "code",
      "metadata": {
        "id": "rF3_xnnNR9dg"
      },
      "source": [
        "model2.compile(optimizer='adam', \n",
        "              loss='sparse_categorical_crossentropy', \n",
        "              metrics=['accuracy']) #configures the model\n",
        "model2.fit(x=X_train,y=y_train, epochs=10, callbacks=[WandbCallback(data_type='image', labels=CLASS_NAMES, \n",
        "                             validation_data=(X_test, y_test))])#-> forward+backward"
      ],
      "execution_count": null,
      "outputs": []
    },
    {
      "cell_type": "markdown",
      "metadata": {
        "id": "-TgUFlQGT0oE"
      },
      "source": [
        "#  **Mish**"
      ]
    },
    {
      "cell_type": "code",
      "metadata": {
        "id": "6FY3C9E-SfyT"
      },
      "source": [
        "#writing the mish activation function\n",
        "\n",
        "## Import Necessary Modules\n",
        "import tensorflow\n",
        "import keras\n",
        "from keras.layers import Activation\n",
        "from keras.utils.generic_utils import get_custom_objects\n",
        "\n",
        "class Mish(keras.layers.Activation):\n",
        "  def __init__(self, activation, **kwargs):\n",
        "    super(Mish, self).__init__(activation, **kwargs)\n",
        "    self.__name__ ='Mish'\n",
        "  def mish(inputs):\n",
        "    return inputs * keras.activations.tanh(keras.activations.softplus(inputs))\n",
        "  get_custom_objects().update({'Mish': Mish(mish)})"
      ],
      "execution_count": null,
      "outputs": []
    },
    {
      "cell_type": "code",
      "metadata": {
        "id": "CFeDy78qUnyN"
      },
      "source": [
        "from keras.models import Sequential\n",
        "from keras.layers import Dense, Conv2D, Dropout, Flatten, MaxPooling2D\n",
        "# Creating a Sequential Model and adding the layers\n",
        "model4 = Sequential()\n",
        "model4.add(Conv2D(32, kernel_size=(3,3), activation='Mish', input_shape=input_shape))#default s=1\n",
        "model4.add(MaxPooling2D(pool_size=(2, 2)))#default s=2\n",
        "model4.add(Conv2D(64, kernel_size=(3,3), activation='Mish'))\n",
        "model4.add(MaxPooling2D(pool_size=(2, 2)))\n",
        "model4.add(Conv2D(64, kernel_size=(3,3), activation='Mish'))\n",
        "model4.add(Flatten()) # Flattening the 3D arrays for fully connected layers\n",
        "model4.add(Dense(128, activation='Mish'))#<---- 1st hideen layer\n",
        "model4.add(Dropout(0.2))\n",
        "model4.add(Dense(10,activation='softmax'))#<-----output layer"
      ],
      "execution_count": null,
      "outputs": []
    },
    {
      "cell_type": "code",
      "metadata": {
        "id": "7r_bg61ST4SQ"
      },
      "source": [
        "import wandb\n",
        "wandb.init(project='Activation Functions', id='mish')#give the name of your project and any name for the id"
      ],
      "execution_count": null,
      "outputs": []
    },
    {
      "cell_type": "code",
      "metadata": {
        "id": "JBhA1bhsUlLS"
      },
      "source": [
        "model4.compile(optimizer='adam', \n",
        "              loss='sparse_categorical_crossentropy', \n",
        "              metrics=['accuracy']) #configures the model\n",
        "model4.fit(x=X_train,y=y_train, epochs=30, callbacks=[WandbCallback(data_type='image', labels=CLASS_NAMES, \n",
        "                             validation_data=(X_test, y_test))])#-> forward+backward"
      ],
      "execution_count": null,
      "outputs": []
    }
  ]
}