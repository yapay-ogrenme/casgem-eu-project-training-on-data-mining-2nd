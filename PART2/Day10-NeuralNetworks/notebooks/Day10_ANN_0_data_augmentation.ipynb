{
  "nbformat": 4,
  "nbformat_minor": 0,
  "metadata": {
    "colab": {
      "name": "Day10_ANN_0_data_augmentation.ipynb",
      "provenance": [],
      "collapsed_sections": []
    },
    "kernelspec": {
      "name": "python3",
      "display_name": "Python 3"
    },
    "language_info": {
      "name": "python"
    }
  },
  "cells": [
    {
      "cell_type": "markdown",
      "source": [
        "# Veri Arttırma (Data Augmentation)"
      ],
      "metadata": {
        "id": "VZOtYabWAEio"
      }
    },
    {
      "cell_type": "code",
      "execution_count": null,
      "metadata": {
        "id": "Ulr0qftP_3JY"
      },
      "outputs": [],
      "source": [
        "ROOT_DIR = \"https://github.com/yapay-ogrenme/casgem-eu-project-training-on-data-mining/raw/main/PART2/Day10-NeuralNetworks/notebooks/\"\n",
        "\n",
        "IMAGE_PATH = ROOT_DIR + \"images/bird.jpg\""
      ]
    },
    {
      "cell_type": "code",
      "source": [
        "IMAGE_PATH"
      ],
      "metadata": {
        "id": "u-UGRUzzBzRD"
      },
      "execution_count": null,
      "outputs": []
    },
    {
      "cell_type": "code",
      "source": [
        "from PIL import Image\n",
        "import numpy as np\n",
        "import matplotlib.pyplot as plt\n",
        "import requests\n",
        "\n",
        "im = Image.open(requests.get(IMAGE_PATH, stream=True).raw)\n",
        "np_img = np.array(im)\n",
        "  \n",
        "print(np_img.shape)"
      ],
      "metadata": {
        "id": "NzSG3xm0BN3u"
      },
      "execution_count": null,
      "outputs": []
    },
    {
      "cell_type": "code",
      "source": [
        "im"
      ],
      "metadata": {
        "id": "1ThBOYVxIIUO"
      },
      "execution_count": null,
      "outputs": []
    },
    {
      "cell_type": "code",
      "source": [
        "from keras.preprocessing.image import ImageDataGenerator\n",
        "#https://www.tensorflow.org/api_docs/python/tf/keras/preprocessing/image/ImageDataGenerator"
      ],
      "metadata": {
        "id": "8YAQmE7tBCRk"
      },
      "execution_count": null,
      "outputs": []
    },
    {
      "cell_type": "code",
      "source": [
        "#imagegen=datagen.flow(\n",
        "#    np_img_x,\n",
        "#    y=None,\n",
        "#    shuffle=True,\n",
        "#    sample_weight=None,\n",
        "#    seed=None,\n",
        "#    save_to_dir=None,\n",
        "#    save_prefix=\"\",\n",
        "#    save_format=\"png\",\n",
        "#    subset=None\n",
        "#)"
      ],
      "metadata": {
        "id": "WOszVhfVA9Pz"
      },
      "execution_count": null,
      "outputs": []
    },
    {
      "cell_type": "code",
      "source": [
        "np_img.shape"
      ],
      "metadata": {
        "id": "cflLfFAHISX8"
      },
      "execution_count": null,
      "outputs": []
    },
    {
      "cell_type": "code",
      "source": [
        "np_img_ex = np_img[np.newaxis, ...]\n",
        "np_img_ex.shape"
      ],
      "metadata": {
        "id": "qV-ETBUlIQQT"
      },
      "execution_count": null,
      "outputs": []
    },
    {
      "cell_type": "markdown",
      "source": [
        "## Rotation"
      ],
      "metadata": {
        "id": "xL9c1b-YEr-t"
      }
    },
    {
      "cell_type": "code",
      "source": [
        "datagen=ImageDataGenerator(\n",
        "    rotation_range=180\n",
        ")\n",
        "\n",
        "imagegen = datagen.flow(\n",
        "    np_img_ex\n",
        ")\n",
        "\n",
        "fig, rows = plt.subplots(nrows=1, ncols=4, figsize=(18,18))\n",
        "for row in rows:\n",
        "    row.imshow(imagegen.next()[0].astype('uint8'))\n",
        "\n",
        "plt.show()"
      ],
      "metadata": {
        "id": "DLIHu_P_EdM6"
      },
      "execution_count": null,
      "outputs": []
    },
    {
      "cell_type": "markdown",
      "source": [
        "## Height Shift"
      ],
      "metadata": {
        "id": "7Z4EimJgICkh"
      }
    },
    {
      "cell_type": "code",
      "source": [
        "datagen=ImageDataGenerator(\n",
        "    height_shift_range=0.25\n",
        "    #height_shift_range=[0,5,40,20]\n",
        ")\n",
        "\n",
        "imagegen = datagen.flow(\n",
        "    np_img_ex\n",
        ")\n",
        "\n",
        "fig, rows = plt.subplots(nrows=1, ncols=4, figsize=(18,18))\n",
        "for row in rows:\n",
        "    row.imshow(imagegen.next()[0].astype('uint8'))\n",
        "\n",
        "plt.show()"
      ],
      "metadata": {
        "id": "vc9L6NGuH4qp"
      },
      "execution_count": null,
      "outputs": []
    },
    {
      "cell_type": "markdown",
      "source": [
        "## Width Shift"
      ],
      "metadata": {
        "id": "UyEv3Gq-I8Hv"
      }
    },
    {
      "cell_type": "code",
      "source": [
        "datagen=ImageDataGenerator(\n",
        "    width_shift_range=[-50,0,50,40,-30,60,70,80]\n",
        "    #width_shift_range=0.35\n",
        ")\n",
        "\n",
        "imagegen = datagen.flow(\n",
        "    np_img_ex\n",
        ")\n",
        "\n",
        "fig, rows = plt.subplots(nrows=1, ncols=4, figsize=(18,18))\n",
        "for row in rows:\n",
        "    row.imshow(imagegen.next()[0].astype('uint8'))\n",
        "\n",
        "plt.show()"
      ],
      "metadata": {
        "id": "-hkQSKe3I4GH"
      },
      "execution_count": null,
      "outputs": []
    },
    {
      "cell_type": "markdown",
      "source": [
        "## Horizontal Flip"
      ],
      "metadata": {
        "id": "4IyEmZSEJF_F"
      }
    },
    {
      "cell_type": "code",
      "source": [
        "datagen=ImageDataGenerator(\n",
        "    horizontal_flip=True\n",
        ")\n",
        "\n",
        "imagegen = datagen.flow(\n",
        "    np_img_ex\n",
        ")\n",
        "\n",
        "fig, rows = plt.subplots(nrows=1, ncols=4, figsize=(18,18))\n",
        "for row in rows:\n",
        "    row.imshow(imagegen.next()[0].astype('uint8'))\n",
        "\n",
        "plt.show()"
      ],
      "metadata": {
        "id": "RONkv8DWJBS5"
      },
      "execution_count": null,
      "outputs": []
    },
    {
      "cell_type": "markdown",
      "source": [
        "##Vertical Flip"
      ],
      "metadata": {
        "id": "E2BWCYN6JQ_M"
      }
    },
    {
      "cell_type": "code",
      "source": [
        "datagen=ImageDataGenerator(\n",
        "    vertical_flip=True\n",
        ")\n",
        "\n",
        "imagegen = datagen.flow(\n",
        "    np_img_ex\n",
        ")\n",
        "\n",
        "fig, rows = plt.subplots(nrows=1, ncols=4, figsize=(18,18))\n",
        "for row in rows:\n",
        "    row.imshow(imagegen.next()[0].astype('uint8'))\n",
        "\n",
        "plt.show()"
      ],
      "metadata": {
        "id": "R9naH-RKJJug"
      },
      "execution_count": null,
      "outputs": []
    },
    {
      "cell_type": "markdown",
      "source": [
        "##Shear Intensity"
      ],
      "metadata": {
        "id": "Gf_BdKI9JxU3"
      }
    },
    {
      "cell_type": "code",
      "source": [
        "datagen=ImageDataGenerator(\n",
        "    shear_range=60\n",
        ")\n",
        "\n",
        "imagegen = datagen.flow(\n",
        "    np_img_ex\n",
        ")\n",
        "\n",
        "fig, rows = plt.subplots(nrows=1, ncols=4, figsize=(18,18))\n",
        "for row in rows:\n",
        "    row.imshow(imagegen.next()[0].astype('uint8'))\n",
        "\n",
        "plt.show()"
      ],
      "metadata": {
        "id": "OLGJG6UmJ3_N"
      },
      "execution_count": null,
      "outputs": []
    },
    {
      "cell_type": "markdown",
      "source": [
        "## Zoom Range"
      ],
      "metadata": {
        "id": "0uaKo-g_KBNs"
      }
    },
    {
      "cell_type": "code",
      "source": [
        "datagen=ImageDataGenerator(\n",
        "    zoom_range=0.8\n",
        "    #zoom_range=[0.2,1.6]\n",
        ")\n",
        "imagegen = datagen.flow(\n",
        "    np_img_ex\n",
        ")\n",
        "\n",
        "fig, rows = plt.subplots(nrows=1, ncols=4, figsize=(18,18))\n",
        "for row in rows:\n",
        "    row.imshow(imagegen.next()[0].astype('uint8'))\n",
        "\n",
        "plt.show()"
      ],
      "metadata": {
        "id": "6TqhS0nHJ544"
      },
      "execution_count": null,
      "outputs": []
    },
    {
      "cell_type": "markdown",
      "source": [
        "## Brightness Level"
      ],
      "metadata": {
        "id": "idct-Z_pKKR7"
      }
    },
    {
      "cell_type": "code",
      "source": [
        "datagen=ImageDataGenerator(\n",
        "    brightness_range=[0,2]\n",
        ")\n",
        "\n",
        "imagegen = datagen.flow(\n",
        "    np_img_ex\n",
        ")\n",
        "\n",
        "fig, rows = plt.subplots(nrows=1, ncols=4, figsize=(18,18))\n",
        "for row in rows:\n",
        "    row.imshow(imagegen.next()[0].astype('uint8'))\n",
        "\n",
        "plt.show()"
      ],
      "metadata": {
        "id": "Wt8dDnIAKLAz"
      },
      "execution_count": null,
      "outputs": []
    },
    {
      "cell_type": "code",
      "source": [
        ""
      ],
      "metadata": {
        "id": "RtbBwHvoKPVs"
      },
      "execution_count": null,
      "outputs": []
    }
  ]
}