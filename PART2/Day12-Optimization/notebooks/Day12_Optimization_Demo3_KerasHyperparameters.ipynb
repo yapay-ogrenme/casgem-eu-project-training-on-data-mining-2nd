{
  "nbformat": 4,
  "nbformat_minor": 0,
  "metadata": {
    "colab": {
      "name": "Day12_Optimization_Demo3_KerasHyperparameters.ipynb",
      "provenance": [],
      "collapsed_sections": []
    },
    "kernelspec": {
      "name": "python3",
      "display_name": "Python 3"
    },
    "language_info": {
      "name": "python"
    }
  },
  "cells": [
    {
      "cell_type": "markdown",
      "source": [
        "## Keras ile Derin Öğrenme Modellerinin Hiparparametreleri için GridSearchCV"
      ],
      "metadata": {
        "id": "zoZIjm3FoFvh"
      }
    },
    {
      "cell_type": "code",
      "source": [
        "# Use scikit-learn to grid search the batch size and epochs\n",
        "import numpy\n",
        "from sklearn.model_selection import GridSearchCV\n",
        "from keras.models import Sequential\n",
        "from keras.layers import Dense\n",
        "from keras.wrappers.scikit_learn import KerasClassifier\n",
        "# Function to create model, required for KerasClassifier"
      ],
      "metadata": {
        "id": "nEGyCfF4PsP2"
      },
      "execution_count": null,
      "outputs": []
    },
    {
      "cell_type": "code",
      "source": [
        "#ROOT_DIR = \"/content/drive/MyDrive/CASGEM-Egitim/Egitim-Part2/Day11-DeepLearning/notebooks/\"\n",
        "ROOT_DIR = \"https://media.githubusercontent.com/media/yapay-ogrenme/casgem-eu-project-training-on-data-mining/main/PART2/Day12-Optimization/notebooks/\"\n",
        "\n",
        "DATASET_PATH = ROOT_DIR + \"datasets/pima-indians-diabetes.data.csv\""
      ],
      "metadata": {
        "id": "GPIhaYgKnrTs"
      },
      "execution_count": null,
      "outputs": []
    },
    {
      "cell_type": "code",
      "source": [
        "# fix random seed for reproducibility\n",
        "seed = 7\n",
        "numpy.random.seed(seed)\n",
        "# load dataset\n",
        "dataset = numpy.loadtxt(DATASET_PATH, delimiter=\",\")\n",
        "# split into input (X) and output (Y) variables\n",
        "X = dataset[:,0:8]\n",
        "Y = dataset[:,8]"
      ],
      "metadata": {
        "id": "DqD5d5fVPvm4"
      },
      "execution_count": null,
      "outputs": []
    },
    {
      "cell_type": "code",
      "execution_count": null,
      "metadata": {
        "id": "KbO7ndqkOaDG"
      },
      "outputs": [],
      "source": [
        "def create_model(optimizer='adam'):\n",
        "\t# create model\n",
        "\tmodel = Sequential()\n",
        "\tmodel.add(Dense(12, input_dim=8, activation='relu'))\n",
        "\tmodel.add(Dense(1, activation='sigmoid'))\n",
        "\t# Compile model\n",
        "\tmodel.compile(loss='binary_crossentropy', optimizer=optimizer, metrics=['accuracy'])\n",
        "\treturn model"
      ]
    },
    {
      "cell_type": "markdown",
      "source": [
        "## Eğitim Batch Size ve Epoch Nasıl Ayarlanır?"
      ],
      "metadata": {
        "id": "NGyyyQtipBhJ"
      }
    },
    {
      "cell_type": "code",
      "source": [
        "# create model\n",
        "model = KerasClassifier(build_fn=create_model, verbose=0)\n",
        "\n",
        "# define the grid search parameters\n",
        "batch_size = [10, 20, 40, 60, 80, 100]\n",
        "epochs = [10, 50, 100]\n",
        "\n",
        "param_grid = dict(batch_size=batch_size, epochs=epochs)\n",
        "\n",
        "grid = GridSearchCV(estimator=model, param_grid=param_grid, n_jobs=-1, cv=3)\n",
        "grid_result = grid.fit(X, Y)"
      ],
      "metadata": {
        "colab": {
          "base_uri": "https://localhost:8080/"
        },
        "id": "LcvkvmrdPx1I",
        "outputId": "cc71b530-a28f-46ce-8fc4-5e458dbd65bc"
      },
      "execution_count": null,
      "outputs": [
        {
          "output_type": "stream",
          "name": "stderr",
          "text": [
            "/usr/local/lib/python3.7/dist-packages/ipykernel_launcher.py:2: DeprecationWarning: KerasClassifier is deprecated, use Sci-Keras (https://github.com/adriangb/scikeras) instead. See https://www.adriangb.com/scikeras/stable/migration.html for help migrating.\n",
            "  \n"
          ]
        }
      ]
    },
    {
      "cell_type": "code",
      "source": [
        "# summarize results\n",
        "print(\"Best: %f using %s\\n\" % (grid_result.best_score_, grid_result.best_params_))\n",
        "means = grid_result.cv_results_['mean_test_score']\n",
        "stds = grid_result.cv_results_['std_test_score']\n",
        "params = grid_result.cv_results_['params']\n",
        "for mean, stdev, param in zip(means, stds, params):\n",
        "    print(\"%f (%f) with: %r\" % (mean, stdev, param))"
      ],
      "metadata": {
        "colab": {
          "base_uri": "https://localhost:8080/"
        },
        "id": "rn6_e_ITP1OK",
        "outputId": "d2babdd5-07da-44ee-9fe7-09ff4f3cc5f3"
      },
      "execution_count": null,
      "outputs": [
        {
          "output_type": "stream",
          "name": "stdout",
          "text": [
            "Best: 0.696615 using {'batch_size': 40, 'epochs': 100}\n",
            "\n",
            "0.558594 (0.051031) with: {'batch_size': 10, 'epochs': 10}\n",
            "0.670573 (0.032578) with: {'batch_size': 10, 'epochs': 50}\n",
            "0.656250 (0.039964) with: {'batch_size': 10, 'epochs': 100}\n",
            "0.604167 (0.021710) with: {'batch_size': 20, 'epochs': 10}\n",
            "0.680990 (0.017566) with: {'batch_size': 20, 'epochs': 50}\n",
            "0.680990 (0.001841) with: {'batch_size': 20, 'epochs': 100}\n",
            "0.532552 (0.081959) with: {'batch_size': 40, 'epochs': 10}\n",
            "0.635417 (0.029635) with: {'batch_size': 40, 'epochs': 50}\n",
            "0.696615 (0.022628) with: {'batch_size': 40, 'epochs': 100}\n",
            "0.567708 (0.035849) with: {'batch_size': 60, 'epochs': 10}\n",
            "0.611979 (0.060711) with: {'batch_size': 60, 'epochs': 50}\n",
            "0.682292 (0.012890) with: {'batch_size': 60, 'epochs': 100}\n",
            "0.548177 (0.048300) with: {'batch_size': 80, 'epochs': 10}\n",
            "0.611979 (0.034104) with: {'batch_size': 80, 'epochs': 50}\n",
            "0.639323 (0.025780) with: {'batch_size': 80, 'epochs': 100}\n",
            "0.496094 (0.130533) with: {'batch_size': 100, 'epochs': 10}\n",
            "0.584635 (0.045592) with: {'batch_size': 100, 'epochs': 50}\n",
            "0.631510 (0.049032) with: {'batch_size': 100, 'epochs': 100}\n"
          ]
        }
      ]
    },
    {
      "cell_type": "markdown",
      "source": [
        "## Eğitim Optimizasyon Algoritması Nasıl Ayarlanır?"
      ],
      "metadata": {
        "id": "vxEG3YnXpClp"
      }
    },
    {
      "cell_type": "code",
      "source": [
        "def create_model(optimizer='adam'):\n",
        "\t# create model\n",
        "\tmodel = Sequential()\n",
        "\tmodel.add(Dense(12, input_dim=8, activation='relu'))\n",
        "\tmodel.add(Dense(1, activation='sigmoid'))\n",
        "\t# Compile model\n",
        "\tmodel.compile(loss='binary_crossentropy', optimizer=optimizer, metrics=['accuracy'])\n",
        "\treturn model"
      ],
      "metadata": {
        "id": "IphuJtCZoAeO"
      },
      "execution_count": null,
      "outputs": []
    },
    {
      "cell_type": "code",
      "source": [
        "# create model\n",
        "epochs=100\n",
        "batch_size=40\n",
        "model = KerasClassifier(build_fn=create_model, epochs=epochs, batch_size=batch_size, verbose=0)\n",
        "\n",
        "# define the grid search parameters\n",
        "optimizer = ['SGD', 'RMSprop', 'Adagrad', 'Adadelta', 'Adam', 'Adamax', 'Nadam']\n",
        "param_grid = dict(optimizer=optimizer)\n",
        "grid = GridSearchCV(estimator=model, param_grid=param_grid, n_jobs=-1, cv=3)\n",
        "grid_result = grid.fit(X, Y)"
      ],
      "metadata": {
        "colab": {
          "base_uri": "https://localhost:8080/"
        },
        "id": "JKogp0_7pnW2",
        "outputId": "59fe7e7d-d436-4a54-fdb6-7712f8c57144"
      },
      "execution_count": null,
      "outputs": [
        {
          "output_type": "stream",
          "name": "stderr",
          "text": [
            "/usr/local/lib/python3.7/dist-packages/ipykernel_launcher.py:4: DeprecationWarning: KerasClassifier is deprecated, use Sci-Keras (https://github.com/adriangb/scikeras) instead. See https://www.adriangb.com/scikeras/stable/migration.html for help migrating.\n",
            "  after removing the cwd from sys.path.\n"
          ]
        }
      ]
    },
    {
      "cell_type": "code",
      "source": [
        "# summarize results\n",
        "print(\"Best: %f using %s\\n\" % (grid_result.best_score_, grid_result.best_params_))\n",
        "means = grid_result.cv_results_['mean_test_score']\n",
        "stds = grid_result.cv_results_['std_test_score']\n",
        "params = grid_result.cv_results_['params']\n",
        "for mean, stdev, param in zip(means, stds, params):\n",
        "    print(\"%f (%f) with: %r\" % (mean, stdev, param))"
      ],
      "metadata": {
        "colab": {
          "base_uri": "https://localhost:8080/"
        },
        "id": "OM0fecjnpqhO",
        "outputId": "ca398fd5-4ac6-4573-95d5-6e6ddb401bfc"
      },
      "execution_count": null,
      "outputs": [
        {
          "output_type": "stream",
          "name": "stdout",
          "text": [
            "Best: 0.690104 using {'optimizer': 'SGD'}\n",
            "\n",
            "0.690104 (0.028940) with: {'optimizer': 'SGD'}\n",
            "0.666667 (0.019488) with: {'optimizer': 'RMSprop'}\n",
            "0.497396 (0.094739) with: {'optimizer': 'Adagrad'}\n",
            "0.460938 (0.142885) with: {'optimizer': 'Adadelta'}\n",
            "0.656250 (0.031412) with: {'optimizer': 'Adam'}\n",
            "0.598958 (0.021236) with: {'optimizer': 'Adamax'}\n",
            "0.657552 (0.029463) with: {'optimizer': 'Nadam'}\n"
          ]
        }
      ]
    },
    {
      "cell_type": "markdown",
      "source": [
        "## Eğitim Learning Rate and Momentum Nasıl Ayarlanır?"
      ],
      "metadata": {
        "id": "5FevG8IAshh7"
      }
    },
    {
      "cell_type": "code",
      "source": [
        "from tensorflow.keras.optimizers import SGD\n",
        "\n",
        "def create_model(learn_rate=0.01, momentum=0):\n",
        "\t# create model\n",
        "\tmodel = Sequential()\n",
        "\tmodel.add(Dense(12, input_dim=8, activation='relu'))\n",
        "\tmodel.add(Dense(1, activation='sigmoid'))\n",
        " \n",
        "\t# Compile model\n",
        "\toptimizer = SGD(lr=learn_rate, momentum=momentum)\n",
        " \n",
        "\tmodel.compile(loss='binary_crossentropy', optimizer=optimizer, metrics=['accuracy'])\n",
        " \n",
        "\treturn model"
      ],
      "metadata": {
        "id": "McKOTV5zslVp"
      },
      "execution_count": null,
      "outputs": []
    },
    {
      "cell_type": "code",
      "source": [
        "# create model\n",
        "epochs=100\n",
        "batch_size=40\n",
        "model = KerasClassifier(build_fn=create_model, epochs=epochs, batch_size=batch_size, verbose=0)\n",
        "\n",
        "# define the grid search parameters\n",
        "learn_rate = [0.001, 0.01, 0.1, 0.2, 0.3]\n",
        "momentum = [0.0, 0.2, 0.4, 0.6, 0.8, 0.9]\n",
        "param_grid = dict(learn_rate=learn_rate, momentum=momentum)\n",
        "\n",
        "grid = GridSearchCV(estimator=model, param_grid=param_grid, n_jobs=-1, cv=3)\n",
        "grid_result = grid.fit(X, Y)"
      ],
      "metadata": {
        "colab": {
          "base_uri": "https://localhost:8080/"
        },
        "id": "L2_kdRJjs8S_",
        "outputId": "2fc94128-297d-49c9-d8df-cf364903f0ec"
      },
      "execution_count": null,
      "outputs": [
        {
          "output_type": "stream",
          "name": "stderr",
          "text": [
            "/usr/local/lib/python3.7/dist-packages/ipykernel_launcher.py:4: DeprecationWarning: KerasClassifier is deprecated, use Sci-Keras (https://github.com/adriangb/scikeras) instead. See https://www.adriangb.com/scikeras/stable/migration.html for help migrating.\n",
            "  after removing the cwd from sys.path.\n",
            "/usr/local/lib/python3.7/dist-packages/keras/optimizer_v2/gradient_descent.py:102: UserWarning: The `lr` argument is deprecated, use `learning_rate` instead.\n",
            "  super(SGD, self).__init__(name, **kwargs)\n"
          ]
        }
      ]
    },
    {
      "cell_type": "code",
      "source": [
        "# summarize results\n",
        "print(\"Best: %f using %s\\n\" % (grid_result.best_score_, grid_result.best_params_))\n",
        "means = grid_result.cv_results_['mean_test_score']\n",
        "stds = grid_result.cv_results_['std_test_score']\n",
        "params = grid_result.cv_results_['params']\n",
        "for mean, stdev, param in zip(means, stds, params):\n",
        "    print(\"%f (%f) with: %r\" % (mean, stdev, param))"
      ],
      "metadata": {
        "colab": {
          "base_uri": "https://localhost:8080/"
        },
        "id": "eTN_fAvWs9XH",
        "outputId": "b45bfdfa-480b-4527-caec-59050440aae0"
      },
      "execution_count": null,
      "outputs": [
        {
          "output_type": "stream",
          "name": "stdout",
          "text": [
            "Best: 0.684896 using {'learn_rate': 0.01, 'momentum': 0.2}\n",
            "\n",
            "0.667969 (0.041707) with: {'learn_rate': 0.001, 'momentum': 0.0}\n",
            "0.662760 (0.015733) with: {'learn_rate': 0.001, 'momentum': 0.2}\n",
            "0.619792 (0.023939) with: {'learn_rate': 0.001, 'momentum': 0.4}\n",
            "0.654948 (0.019488) with: {'learn_rate': 0.001, 'momentum': 0.6}\n",
            "0.662760 (0.032578) with: {'learn_rate': 0.001, 'momentum': 0.8}\n",
            "0.660156 (0.024080) with: {'learn_rate': 0.001, 'momentum': 0.9}\n",
            "0.674479 (0.025780) with: {'learn_rate': 0.01, 'momentum': 0.0}\n",
            "0.684896 (0.025780) with: {'learn_rate': 0.01, 'momentum': 0.2}\n",
            "0.679688 (0.016877) with: {'learn_rate': 0.01, 'momentum': 0.4}\n",
            "0.657552 (0.016053) with: {'learn_rate': 0.01, 'momentum': 0.6}\n",
            "0.651042 (0.024774) with: {'learn_rate': 0.01, 'momentum': 0.8}\n",
            "0.649740 (0.026557) with: {'learn_rate': 0.01, 'momentum': 0.9}\n",
            "0.648438 (0.028348) with: {'learn_rate': 0.1, 'momentum': 0.0}\n",
            "0.649740 (0.026557) with: {'learn_rate': 0.1, 'momentum': 0.2}\n",
            "0.652344 (0.025315) with: {'learn_rate': 0.1, 'momentum': 0.4}\n",
            "0.651042 (0.024774) with: {'learn_rate': 0.1, 'momentum': 0.6}\n",
            "0.651042 (0.024774) with: {'learn_rate': 0.1, 'momentum': 0.8}\n",
            "0.651042 (0.024774) with: {'learn_rate': 0.1, 'momentum': 0.9}\n",
            "0.651042 (0.024774) with: {'learn_rate': 0.2, 'momentum': 0.0}\n",
            "0.651042 (0.024774) with: {'learn_rate': 0.2, 'momentum': 0.2}\n",
            "0.651042 (0.024774) with: {'learn_rate': 0.2, 'momentum': 0.4}\n",
            "0.651042 (0.024774) with: {'learn_rate': 0.2, 'momentum': 0.6}\n",
            "0.651042 (0.024774) with: {'learn_rate': 0.2, 'momentum': 0.8}\n",
            "0.651042 (0.024774) with: {'learn_rate': 0.2, 'momentum': 0.9}\n",
            "0.651042 (0.024774) with: {'learn_rate': 0.3, 'momentum': 0.0}\n",
            "0.651042 (0.024774) with: {'learn_rate': 0.3, 'momentum': 0.2}\n",
            "0.651042 (0.024774) with: {'learn_rate': 0.3, 'momentum': 0.4}\n",
            "0.651042 (0.024774) with: {'learn_rate': 0.3, 'momentum': 0.6}\n",
            "0.649740 (0.026557) with: {'learn_rate': 0.3, 'momentum': 0.8}\n",
            "0.649740 (0.024360) with: {'learn_rate': 0.3, 'momentum': 0.9}\n"
          ]
        }
      ]
    },
    {
      "cell_type": "markdown",
      "source": [
        "## Ağ Ağırlıkları Nasıl Başlatılır?"
      ],
      "metadata": {
        "id": "KJw2PzY0tjb5"
      }
    },
    {
      "cell_type": "code",
      "source": [
        "def create_model(init_mode='uniform'):\n",
        "  # create model\n",
        "  model = Sequential()\n",
        "  model.add(Dense(12, input_dim=8, kernel_initializer=init_mode, activation='relu'))\n",
        "  model.add(Dense(1, kernel_initializer=init_mode, activation='sigmoid'))\n",
        "  \n",
        "  learn_rate = 0.01\n",
        "  momentum = 0.2\n",
        "  optimizer = SGD(lr=learn_rate, momentum=momentum)\n",
        "  \n",
        "  # Compile model\n",
        "  model.compile(loss='binary_crossentropy', optimizer=optimizer, metrics=['accuracy'])\n",
        "  return model"
      ],
      "metadata": {
        "id": "RcYXdTBhtp2j"
      },
      "execution_count": null,
      "outputs": []
    },
    {
      "cell_type": "code",
      "source": [
        "# create model\n",
        "epochs=100\n",
        "batch_size=40\n",
        "model = KerasClassifier(build_fn=create_model, epochs=epochs, batch_size=batch_size, verbose=0)\n",
        "\n",
        "# define the grid search parameters\n",
        "init_mode = ['uniform', 'lecun_uniform', 'normal', 'zero', 'glorot_normal', 'glorot_uniform', 'he_normal', 'he_uniform']\n",
        "param_grid = dict(init_mode=init_mode)\n",
        "grid = GridSearchCV(estimator=model, param_grid=param_grid, n_jobs=-1, cv=3)\n",
        "grid_result = grid.fit(X, Y)"
      ],
      "metadata": {
        "colab": {
          "base_uri": "https://localhost:8080/"
        },
        "id": "-gNX9L0Pumvj",
        "outputId": "f74bce9f-6afd-483f-9ee2-b9b3cd8f7e0f"
      },
      "execution_count": null,
      "outputs": [
        {
          "output_type": "stream",
          "name": "stderr",
          "text": [
            "/usr/local/lib/python3.7/dist-packages/ipykernel_launcher.py:4: DeprecationWarning: KerasClassifier is deprecated, use Sci-Keras (https://github.com/adriangb/scikeras) instead. See https://www.adriangb.com/scikeras/stable/migration.html for help migrating.\n",
            "  after removing the cwd from sys.path.\n",
            "/usr/local/lib/python3.7/dist-packages/keras/optimizer_v2/gradient_descent.py:102: UserWarning: The `lr` argument is deprecated, use `learning_rate` instead.\n",
            "  super(SGD, self).__init__(name, **kwargs)\n"
          ]
        }
      ]
    },
    {
      "cell_type": "code",
      "source": [
        "# summarize results\n",
        "print(\"Best: %f using %s\\n\" % (grid_result.best_score_, grid_result.best_params_))\n",
        "means = grid_result.cv_results_['mean_test_score']\n",
        "stds = grid_result.cv_results_['std_test_score']\n",
        "params = grid_result.cv_results_['params']\n",
        "for mean, stdev, param in zip(means, stds, params):\n",
        "    print(\"%f (%f) with: %r\" % (mean, stdev, param))"
      ],
      "metadata": {
        "colab": {
          "base_uri": "https://localhost:8080/"
        },
        "id": "rYtEfMoNuprY",
        "outputId": "8c77e7a2-800c-4434-822e-28de2f64259a"
      },
      "execution_count": null,
      "outputs": [
        {
          "output_type": "stream",
          "name": "stdout",
          "text": [
            "Best: 0.690104 using {'init_mode': 'uniform'}\n",
            "\n",
            "0.690104 (0.028940) with: {'init_mode': 'uniform'}\n",
            "0.671875 (0.041463) with: {'init_mode': 'lecun_uniform'}\n",
            "0.675781 (0.016573) with: {'init_mode': 'normal'}\n",
            "0.651042 (0.024774) with: {'init_mode': 'zero'}\n",
            "0.690104 (0.014382) with: {'init_mode': 'glorot_normal'}\n",
            "0.674479 (0.027866) with: {'init_mode': 'glorot_uniform'}\n",
            "0.664062 (0.011500) with: {'init_mode': 'he_normal'}\n",
            "0.677083 (0.025780) with: {'init_mode': 'he_uniform'}\n"
          ]
        }
      ]
    },
    {
      "cell_type": "markdown",
      "source": [
        "## Nöron Aktivasyon Fonksiyonu Nasıl Ayarlanır?"
      ],
      "metadata": {
        "id": "o0KIH_dqu4Br"
      }
    },
    {
      "cell_type": "code",
      "source": [
        "# Function to create model, required for KerasClassifier\n",
        "def create_model(activation='relu'):\n",
        "\t# create model\n",
        "  init_mode = 'uniform'\n",
        "  \n",
        "  model = Sequential()\n",
        "  model.add(Dense(12, input_dim=8, kernel_initializer=init_mode, activation=activation))\n",
        "  model.add(Dense(1, kernel_initializer='uniform', activation='sigmoid'))\n",
        "  \n",
        "  learn_rate = 0.01\n",
        "  momentum = 0.2\n",
        "  optimizer = SGD(lr=learn_rate, momentum=momentum)\n",
        "  \n",
        "  # Compile model\n",
        "  model.compile(loss='binary_crossentropy', optimizer=optimizer, metrics=['accuracy'])\n",
        "  \n",
        "  return model"
      ],
      "metadata": {
        "id": "iB8s0mN6uxyP"
      },
      "execution_count": null,
      "outputs": []
    },
    {
      "cell_type": "code",
      "source": [
        "# create model\n",
        "epochs=100\n",
        "batch_size=40\n",
        "model = KerasClassifier(build_fn=create_model, epochs=epochs, batch_size=batch_size, verbose=0)\n",
        "\n",
        "# define the grid search parameters\n",
        "activation = ['softmax', 'softplus', 'softsign', 'relu', 'tanh', 'sigmoid', 'hard_sigmoid', 'linear']\n",
        "param_grid = dict(activation=activation)\n",
        "grid = GridSearchCV(estimator=model, param_grid=param_grid, n_jobs=-1, cv=3)\n",
        "grid_result = grid.fit(X, Y)"
      ],
      "metadata": {
        "colab": {
          "base_uri": "https://localhost:8080/"
        },
        "id": "a7YRi7kVu-DX",
        "outputId": "ad1733b7-82ad-4440-e320-f8c58daeb129"
      },
      "execution_count": null,
      "outputs": [
        {
          "output_type": "stream",
          "name": "stderr",
          "text": [
            "/usr/local/lib/python3.7/dist-packages/ipykernel_launcher.py:4: DeprecationWarning: KerasClassifier is deprecated, use Sci-Keras (https://github.com/adriangb/scikeras) instead. See https://www.adriangb.com/scikeras/stable/migration.html for help migrating.\n",
            "  after removing the cwd from sys.path.\n",
            "/usr/local/lib/python3.7/dist-packages/keras/optimizer_v2/gradient_descent.py:102: UserWarning: The `lr` argument is deprecated, use `learning_rate` instead.\n",
            "  super(SGD, self).__init__(name, **kwargs)\n"
          ]
        }
      ]
    },
    {
      "cell_type": "code",
      "source": [
        "# summarize results\n",
        "print(\"Best: %f using %s\\n\" % (grid_result.best_score_, grid_result.best_params_))\n",
        "means = grid_result.cv_results_['mean_test_score']\n",
        "stds = grid_result.cv_results_['std_test_score']\n",
        "params = grid_result.cv_results_['params']\n",
        "for mean, stdev, param in zip(means, stds, params):\n",
        "    print(\"%f (%f) with: %r\" % (mean, stdev, param))"
      ],
      "metadata": {
        "colab": {
          "base_uri": "https://localhost:8080/"
        },
        "id": "qUElFVHTvA64",
        "outputId": "78eaa22f-a3bb-4c32-de8d-2be5e9476152"
      },
      "execution_count": null,
      "outputs": [
        {
          "output_type": "stream",
          "name": "stdout",
          "text": [
            "Best: 0.700521 using {'activation': 'softplus'}\n",
            "0.651042 (0.024774) with: {'activation': 'softmax'}\n",
            "0.700521 (0.012075) with: {'activation': 'softplus'}\n",
            "0.638021 (0.027126) with: {'activation': 'softsign'}\n",
            "0.680990 (0.009207) with: {'activation': 'relu'}\n",
            "0.621094 (0.017758) with: {'activation': 'tanh'}\n",
            "0.666667 (0.043303) with: {'activation': 'sigmoid'}\n",
            "0.673177 (0.022628) with: {'activation': 'hard_sigmoid'}\n",
            "0.671875 (0.008438) with: {'activation': 'linear'}\n"
          ]
        }
      ]
    },
    {
      "cell_type": "markdown",
      "source": [
        "## Seyreltme (Dropout) Düzenlileştirmesi (Regularization) Nasıl Ayarlanır?"
      ],
      "metadata": {
        "id": "xCftlN15vhMp"
      }
    },
    {
      "cell_type": "code",
      "source": [
        "from keras.constraints import maxnorm\n",
        "from keras.layers import Dropout\n",
        "\n",
        "# Function to create model, required for KerasClassifier\n",
        "def create_model(dropout_rate=0.0, weight_constraint=0):\n",
        "\t# create model\n",
        "  init_mode = 'uniform'\n",
        "  activation = 'softplus'\n",
        "  \n",
        "  model = Sequential()\n",
        "  model.add(Dense(12, input_dim=8, kernel_initializer=init_mode, activation=activation, kernel_constraint=maxnorm(weight_constraint)))\n",
        "  model.add(Dropout(dropout_rate))\n",
        "  model.add(Dense(1, kernel_initializer=init_mode, activation='sigmoid'))\n",
        "  \n",
        "  learn_rate = 0.01\n",
        "  momentum = 0.2\n",
        "  optimizer = SGD(lr=learn_rate, momentum=momentum)\n",
        "  \n",
        "  # Compile model\n",
        "  model.compile(loss='binary_crossentropy', optimizer=optimizer, metrics=['accuracy'])\n",
        "  \n",
        "  return model"
      ],
      "metadata": {
        "id": "qaJyhRbhvdjo"
      },
      "execution_count": null,
      "outputs": []
    },
    {
      "cell_type": "code",
      "source": [
        "# create model\n",
        "epochs=100\n",
        "batch_size=40\n",
        "model = KerasClassifier(build_fn=create_model, epochs=epochs, batch_size=batch_size, verbose=0)\n",
        "\n",
        "# define the grid search parameters\n",
        "weight_constraint = [1, 2, 3, 4, 5]\n",
        "dropout_rate = [0.0, 0.1, 0.2, 0.3, 0.4, 0.5, 0.6, 0.7, 0.8, 0.9]\n",
        "param_grid = dict(dropout_rate=dropout_rate, weight_constraint=weight_constraint)\n",
        "\n",
        "grid = GridSearchCV(estimator=model, param_grid=param_grid, n_jobs=-1, cv=3)\n",
        "grid_result = grid.fit(X, Y)"
      ],
      "metadata": {
        "colab": {
          "base_uri": "https://localhost:8080/"
        },
        "id": "1uStuyoIwe8R",
        "outputId": "ba5ff650-e6ee-44f4-920a-20879f5264ef"
      },
      "execution_count": null,
      "outputs": [
        {
          "output_type": "stream",
          "name": "stderr",
          "text": [
            "/usr/local/lib/python3.7/dist-packages/ipykernel_launcher.py:4: DeprecationWarning: KerasClassifier is deprecated, use Sci-Keras (https://github.com/adriangb/scikeras) instead. See https://www.adriangb.com/scikeras/stable/migration.html for help migrating.\n",
            "  after removing the cwd from sys.path.\n",
            "/usr/local/lib/python3.7/dist-packages/keras/optimizer_v2/gradient_descent.py:102: UserWarning: The `lr` argument is deprecated, use `learning_rate` instead.\n",
            "  super(SGD, self).__init__(name, **kwargs)\n"
          ]
        }
      ]
    },
    {
      "cell_type": "code",
      "source": [
        "# summarize results\n",
        "print(\"Best: %f using %s\\n\" % (grid_result.best_score_, grid_result.best_params_))\n",
        "means = grid_result.cv_results_['mean_test_score']\n",
        "stds = grid_result.cv_results_['std_test_score']\n",
        "params = grid_result.cv_results_['params']\n",
        "for mean, stdev, param in zip(means, stds, params):\n",
        "    print(\"%f (%f) with: %r\" % (mean, stdev, param))"
      ],
      "metadata": {
        "colab": {
          "base_uri": "https://localhost:8080/"
        },
        "id": "GxfQVaq1wgDp",
        "outputId": "f1c79ba0-2170-47da-9da0-7b9f67d1f399"
      },
      "execution_count": null,
      "outputs": [
        {
          "output_type": "stream",
          "name": "stdout",
          "text": [
            "Best: 0.707031 using {'dropout_rate': 0.1, 'weight_constraint': 4}\n",
            "\n",
            "0.660156 (0.030425) with: {'dropout_rate': 0.0, 'weight_constraint': 1}\n",
            "0.673177 (0.029635) with: {'dropout_rate': 0.0, 'weight_constraint': 2}\n",
            "0.678385 (0.015073) with: {'dropout_rate': 0.0, 'weight_constraint': 3}\n",
            "0.705729 (0.015073) with: {'dropout_rate': 0.0, 'weight_constraint': 4}\n",
            "0.688802 (0.027498) with: {'dropout_rate': 0.0, 'weight_constraint': 5}\n",
            "0.690104 (0.019225) with: {'dropout_rate': 0.1, 'weight_constraint': 1}\n",
            "0.692708 (0.015073) with: {'dropout_rate': 0.1, 'weight_constraint': 2}\n",
            "0.680990 (0.014731) with: {'dropout_rate': 0.1, 'weight_constraint': 3}\n",
            "0.707031 (0.024080) with: {'dropout_rate': 0.1, 'weight_constraint': 4}\n",
            "0.688802 (0.029635) with: {'dropout_rate': 0.1, 'weight_constraint': 5}\n",
            "0.682292 (0.015073) with: {'dropout_rate': 0.2, 'weight_constraint': 1}\n",
            "0.703125 (0.013902) with: {'dropout_rate': 0.2, 'weight_constraint': 2}\n",
            "0.682292 (0.021236) with: {'dropout_rate': 0.2, 'weight_constraint': 3}\n",
            "0.690104 (0.018414) with: {'dropout_rate': 0.2, 'weight_constraint': 4}\n",
            "0.699219 (0.030758) with: {'dropout_rate': 0.2, 'weight_constraint': 5}\n",
            "0.694010 (0.016053) with: {'dropout_rate': 0.3, 'weight_constraint': 1}\n",
            "0.701823 (0.028587) with: {'dropout_rate': 0.3, 'weight_constraint': 2}\n",
            "0.701823 (0.033502) with: {'dropout_rate': 0.3, 'weight_constraint': 3}\n",
            "0.687500 (0.013902) with: {'dropout_rate': 0.3, 'weight_constraint': 4}\n",
            "0.662760 (0.027866) with: {'dropout_rate': 0.3, 'weight_constraint': 5}\n",
            "0.675781 (0.024080) with: {'dropout_rate': 0.4, 'weight_constraint': 1}\n",
            "0.696615 (0.014382) with: {'dropout_rate': 0.4, 'weight_constraint': 2}\n",
            "0.664062 (0.030758) with: {'dropout_rate': 0.4, 'weight_constraint': 3}\n",
            "0.671875 (0.005524) with: {'dropout_rate': 0.4, 'weight_constraint': 4}\n",
            "0.690104 (0.011201) with: {'dropout_rate': 0.4, 'weight_constraint': 5}\n",
            "0.670573 (0.016367) with: {'dropout_rate': 0.5, 'weight_constraint': 1}\n",
            "0.675781 (0.033299) with: {'dropout_rate': 0.5, 'weight_constraint': 2}\n",
            "0.686198 (0.008027) with: {'dropout_rate': 0.5, 'weight_constraint': 3}\n",
            "0.673177 (0.035277) with: {'dropout_rate': 0.5, 'weight_constraint': 4}\n",
            "0.679688 (0.022326) with: {'dropout_rate': 0.5, 'weight_constraint': 5}\n",
            "0.665365 (0.017566) with: {'dropout_rate': 0.6, 'weight_constraint': 1}\n",
            "0.654948 (0.025780) with: {'dropout_rate': 0.6, 'weight_constraint': 2}\n",
            "0.671875 (0.003189) with: {'dropout_rate': 0.6, 'weight_constraint': 3}\n",
            "0.667969 (0.035516) with: {'dropout_rate': 0.6, 'weight_constraint': 4}\n",
            "0.666667 (0.039365) with: {'dropout_rate': 0.6, 'weight_constraint': 5}\n",
            "0.653646 (0.024360) with: {'dropout_rate': 0.7, 'weight_constraint': 1}\n",
            "0.651042 (0.024774) with: {'dropout_rate': 0.7, 'weight_constraint': 2}\n",
            "0.656250 (0.030425) with: {'dropout_rate': 0.7, 'weight_constraint': 3}\n",
            "0.653646 (0.027498) with: {'dropout_rate': 0.7, 'weight_constraint': 4}\n",
            "0.658854 (0.023939) with: {'dropout_rate': 0.7, 'weight_constraint': 5}\n",
            "0.651042 (0.024774) with: {'dropout_rate': 0.8, 'weight_constraint': 1}\n",
            "0.651042 (0.024774) with: {'dropout_rate': 0.8, 'weight_constraint': 2}\n",
            "0.652344 (0.026107) with: {'dropout_rate': 0.8, 'weight_constraint': 3}\n",
            "0.651042 (0.024774) with: {'dropout_rate': 0.8, 'weight_constraint': 4}\n",
            "0.651042 (0.024774) with: {'dropout_rate': 0.8, 'weight_constraint': 5}\n",
            "0.651042 (0.024774) with: {'dropout_rate': 0.9, 'weight_constraint': 1}\n",
            "0.651042 (0.024774) with: {'dropout_rate': 0.9, 'weight_constraint': 2}\n",
            "0.651042 (0.024774) with: {'dropout_rate': 0.9, 'weight_constraint': 3}\n",
            "0.651042 (0.024774) with: {'dropout_rate': 0.9, 'weight_constraint': 4}\n",
            "0.651042 (0.024774) with: {'dropout_rate': 0.9, 'weight_constraint': 5}\n"
          ]
        }
      ]
    },
    {
      "cell_type": "markdown",
      "source": [
        "## Gizli Katmandaki Nöron Sayısı Nasıl Ayarlanır?"
      ],
      "metadata": {
        "id": "8F1_HGPqxGMA"
      }
    },
    {
      "cell_type": "code",
      "source": [
        "from keras.constraints import maxnorm\n",
        "from keras.layers import Dropout\n",
        "\n",
        "# Function to create model, required for KerasClassifier\n",
        "def create_model(neurons=1):\n",
        "\t# create model\n",
        "  init_mode = 'uniform'\n",
        "  activation = 'softplus'\n",
        "  dropout_rate = 0.1\n",
        "  weight_constraint = 4\n",
        "\n",
        "  model = Sequential()\n",
        "  model.add(Dense(neurons, input_dim=8, kernel_initializer=init_mode, activation=activation, kernel_constraint=maxnorm(weight_constraint)))\n",
        "  model.add(Dropout(dropout_rate))\n",
        "  model.add(Dense(1, kernel_initializer=init_mode, activation='sigmoid'))\n",
        "  \n",
        "  learn_rate = 0.01\n",
        "  momentum = 0.2\n",
        "  optimizer = SGD(lr=learn_rate, momentum=momentum)\n",
        "  \n",
        "  # Compile model\n",
        "  model.compile(loss='binary_crossentropy', optimizer=optimizer, metrics=['accuracy'])\n",
        "  \n",
        "  return model"
      ],
      "metadata": {
        "id": "8RZ6I99LxAGa"
      },
      "execution_count": null,
      "outputs": []
    },
    {
      "cell_type": "code",
      "source": [
        "# create model\n",
        "epochs=100\n",
        "batch_size=40\n",
        "model = KerasClassifier(build_fn=create_model, epochs=epochs, batch_size=batch_size, verbose=0)\n",
        "\n",
        "# define the grid search parameters\n",
        "neurons = [1, 5, 10, 15, 20, 25, 30]\n",
        "param_grid = dict(neurons=neurons)\n",
        "\n",
        "grid = GridSearchCV(estimator=model, param_grid=param_grid, n_jobs=-1, cv=3)\n",
        "grid_result = grid.fit(X, Y)"
      ],
      "metadata": {
        "colab": {
          "base_uri": "https://localhost:8080/"
        },
        "id": "ubRJ4C-8xe86",
        "outputId": "6f7323f7-e1a8-4408-eb01-c2d619e35144"
      },
      "execution_count": null,
      "outputs": [
        {
          "output_type": "stream",
          "name": "stderr",
          "text": [
            "/usr/local/lib/python3.7/dist-packages/ipykernel_launcher.py:4: DeprecationWarning: KerasClassifier is deprecated, use Sci-Keras (https://github.com/adriangb/scikeras) instead. See https://www.adriangb.com/scikeras/stable/migration.html for help migrating.\n",
            "  after removing the cwd from sys.path.\n",
            "/usr/local/lib/python3.7/dist-packages/keras/optimizer_v2/gradient_descent.py:102: UserWarning: The `lr` argument is deprecated, use `learning_rate` instead.\n",
            "  super(SGD, self).__init__(name, **kwargs)\n"
          ]
        }
      ]
    },
    {
      "cell_type": "code",
      "source": [
        "# summarize results\n",
        "print(\"Best: %f using %s\\n\" % (grid_result.best_score_, grid_result.best_params_))\n",
        "means = grid_result.cv_results_['mean_test_score']\n",
        "stds = grid_result.cv_results_['std_test_score']\n",
        "params = grid_result.cv_results_['params']\n",
        "for mean, stdev, param in zip(means, stds, params):\n",
        "    print(\"%f (%f) with: %r\" % (mean, stdev, param))"
      ],
      "metadata": {
        "colab": {
          "base_uri": "https://localhost:8080/"
        },
        "id": "wsFQ97Z5xkRM",
        "outputId": "7b05d9cd-6e6b-4926-a7e2-068ae7a99213"
      },
      "execution_count": null,
      "outputs": [
        {
          "output_type": "stream",
          "name": "stdout",
          "text": [
            "Best: 0.704427 using {'neurons': 10}\n",
            "\n",
            "0.651042 (0.024774) with: {'neurons': 1}\n",
            "0.667969 (0.036782) with: {'neurons': 5}\n",
            "0.704427 (0.016367) with: {'neurons': 10}\n",
            "0.666667 (0.038051) with: {'neurons': 15}\n",
            "0.699219 (0.011049) with: {'neurons': 20}\n",
            "0.700521 (0.007366) with: {'neurons': 25}\n",
            "0.700521 (0.025976) with: {'neurons': 30}\n"
          ]
        }
      ]
    },
    {
      "cell_type": "markdown",
      "source": [
        ""
      ],
      "metadata": {
        "id": "BGEkU930x0uj"
      }
    }
  ]
}