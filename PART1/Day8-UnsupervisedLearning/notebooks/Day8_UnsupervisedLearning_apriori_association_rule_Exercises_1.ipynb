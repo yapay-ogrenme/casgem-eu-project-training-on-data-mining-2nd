{
  "cells": [
    {
      "cell_type": "markdown",
      "metadata": {
        "id": "rqCGHB5ZTbgB"
      },
      "source": [
        "# APRIORI ALGORİTMASI KULLANARAK BİRLİKTELİK KURAL ANALİZİ \n",
        "\n",
        "X: 1.ürün Y: 2.ürün N: Toplam Alışveriş\n",
        "\n",
        "**- Destek (Support) : Ürünlerin Birlikte Geçme Olasılığı**\n",
        "\n",
        "Support(X, Y) = Freq(X,Y)/N\n",
        "\n",
        "(X ve Y farklı ürünlerinin birlikte geçme frekansı / Toplam Alışveriş)\n",
        "\n",
        "Support değerini hesaplama amacımız eşik değeri belirlemek. Veri setine bakıldığında bir çok ürün beraber görülebilir eşik değerinin altında kalan ürünlerde eleme yapacağız.\n",
        "\n",
        "**- Güven (Confidence) : X’i Alanların Y’yi Alma Olasılığı**\n",
        "\n",
        "Confidence(X, Y) = Freq(X,Y)/Freq(X)\n",
        "\n",
        "(X ve Y farklı ürünlerinin birlikte geçme frekansı / X’in gözlenme frekansı)\n",
        "\n",
        "Analiz yapıldığında ister support değerine göre ister confidence değerine göre eşik değeri belirlenebilir. Eşik değerini gerçek hayat verilerinde çok az alabiliriz.\n",
        "\n",
        "**- Lift = Support(X,Y)/(Support(X)*Support(Y))**\n",
        "\n",
        "X ürünü alanların Y ürünü satın alması şu kadar kat artıyor yorumu vardır."
      ]
    },
    {
      "cell_type": "markdown",
      "metadata": {
        "id": "ulSHg0phTbgU"
      },
      "source": [
        "# Data Understanding"
      ]
    },
    {
      "cell_type": "code",
      "source": [
        "#ROOT_DIR = \"/content/drive/MyDrive/CASGEM-Egitim/Egitim-Part1/Day7-DecisionTree/notebooks\"\n",
        "ROOT_DIR = \"https://media.githubusercontent.com/media/yapay-ogrenme/casgem-eu-project-training-on-data-mining-2nd/main/PART1/Day8-UnsupervisedLearning/notebooks\"\n",
        "\n",
        "DATASET_PATH = ROOT_DIR + \"/datasets/\""
      ],
      "metadata": {
        "id": "eNF1T3aDUpVy"
      },
      "execution_count": null,
      "outputs": []
    },
    {
      "cell_type": "code",
      "execution_count": null,
      "metadata": {
        "id": "KFtpFcUMTbgZ"
      },
      "outputs": [],
      "source": [
        "# .csv formatındaki veri setini okuma işlemi\n",
        "# MILK,BREAD,BISCUIT olan sutün başlığını names=['products'] ile products'a çevirdik.\n",
        "\n",
        "import pandas as pd\n",
        "df = pd.read_csv(DATASET_PATH + \"datasets_344_727_GroceryStoreDataSet.csv\", names=['products'], header = None)\n",
        "df.head()"
      ]
    },
    {
      "cell_type": "markdown",
      "source": [
        "**Yapılacaklar: Veri kümesinin shape'ini kontrol ediniz.**"
      ],
      "metadata": {
        "id": "ZzMcWc-uUzXE"
      }
    },
    {
      "cell_type": "code",
      "execution_count": null,
      "metadata": {
        "id": "Tdguf-y7Tbgf"
      },
      "outputs": [],
      "source": [
        "#Yapılacaklar: Dataframe'in shape'ini kontrol ediniz.\n",
        "# 20 gözlem ve 1 sütun var.\n"
      ]
    },
    {
      "cell_type": "markdown",
      "source": [
        "**Yapılacaklar: Veri kümesinin sütun isimlerini kontrol ediniz.**"
      ],
      "metadata": {
        "id": "pGzF5y8wU_WS"
      }
    },
    {
      "cell_type": "code",
      "execution_count": null,
      "metadata": {
        "id": "gb5eE6dFTbgi"
      },
      "outputs": [],
      "source": [
        "# Sutün adı ve tipi.\n"
      ]
    },
    {
      "cell_type": "markdown",
      "source": [
        "**Yapılacaklar: Her satırdaki gözlem değerlerini virgül ile birleştirerek bir dizi içerisine tanımlayınız.**\n",
        "\n",
        "Not: Bir satırda, birden fazla eleman(ürün) olabilir. Birlikte olanları bozmadan sadece satırları ayrı bir dizi elemanı olarak eklemelisiniz.\n",
        "\n",
        "Birleştirme sonucu çıktı aşağıdaki gibi olmalıdır.\n",
        "\n",
        "```\n",
        "[['MILK', 'BREAD', 'BISCUIT'],\n",
        " ['BREAD', 'MILK', 'BISCUIT', 'CORNFLAKES'],\n",
        " ['BREAD', 'TEA', 'BOURNVITA'],\n",
        " ['JAM', 'MAGGI', 'BREAD', 'MILK'],\n",
        " ['MAGGI', 'TEA', 'BISCUIT'],\n",
        " ['BREAD', 'TEA', 'BOURNVITA'],\n",
        " ['MAGGI', 'TEA', 'CORNFLAKES'],\n",
        " ['MAGGI', 'BREAD', 'TEA', 'BISCUIT'],\n",
        " ['JAM', 'MAGGI', 'BREAD', 'TEA'],\n",
        " ['BREAD', 'MILK'],\n",
        " ['COFFEE', 'COCK', 'BISCUIT', 'CORNFLAKES'],\n",
        " ['COFFEE', 'COCK', 'BISCUIT', 'CORNFLAKES'],\n",
        " ['COFFEE', 'SUGER', 'BOURNVITA'],\n",
        " ['BREAD', 'COFFEE', 'COCK'],\n",
        " ['BREAD', 'SUGER', 'BISCUIT'],\n",
        " ['COFFEE', 'SUGER', 'CORNFLAKES'],\n",
        " ['BREAD', 'SUGER', 'BOURNVITA'],\n",
        " ['BREAD', 'COFFEE', 'SUGER'],\n",
        " ['BREAD', 'COFFEE', 'SUGER'],\n",
        " ['TEA', 'MILK', 'COFFEE', 'CORNFLAKES']]\n",
        "```"
      ],
      "metadata": {
        "id": "CqpR_LGEVTP2"
      }
    },
    {
      "cell_type": "code",
      "execution_count": null,
      "metadata": {
        "id": "Wu8Iv3_nTbgm"
      },
      "outputs": [],
      "source": [
        "# Her satırda tek bir gözlem birimi varmış gibiydi bunu virgül ile tek tek ayırma işlemi yaptık.\n"
      ]
    },
    {
      "cell_type": "markdown",
      "metadata": {
        "id": "GeHjWR-YTbgo"
      },
      "source": [
        "# Data Preprocessing"
      ]
    },
    {
      "cell_type": "code",
      "execution_count": null,
      "metadata": {
        "id": "42ZBIDsRTbgs"
      },
      "outputs": [],
      "source": [
        "from mlxtend.preprocessing import TransactionEncoder"
      ]
    },
    {
      "cell_type": "markdown",
      "source": [
        "**Yapılacaklar: One-Hot encodinge benzer şekilde TransactionEncoder() ile fit() ve transform() yaparak ürün isimlerinin sütun adlarına yazıldığı ve her bir satırın sadece içerdiği ürünlerde True diğerlerinde False yazdığı yeni bir DataFrame'e dönüştürünüz.**\n",
        "\n",
        "**Link:** http://rasbt.github.io/mlxtend/user_guide/preprocessing/TransactionEncoder/\n",
        "\n",
        "**Çıktı:**\n",
        "\n",
        "| BISCUIT | BOURNVITA | BREAD | COCK | COFFEE | CORNFLAKES | JAM | MAGGI | MILK | SUGER | TEA |\n",
        "|----|----|----|----|----|----|----|----|----|----|----|\n",
        "|True|False|True|False|False|False|False|False|True|False|False|\n",
        "|True|False|True|False|False|True|False|False|True|False|False|\n",
        ".\n",
        ".\n",
        ".\n",
        "\n",
        "\n",
        " \t \t \t \t \t \t \t \t \t\n"
      ],
      "metadata": {
        "id": "zQka1Y27W0WJ"
      }
    },
    {
      "cell_type": "code",
      "execution_count": null,
      "metadata": {
        "id": "2h66cYN0Tbgu"
      },
      "outputs": [],
      "source": [
        "#Veri kümesini istenilen True-False array'ine çevirdik.\n",
        "\n"
      ]
    },
    {
      "cell_type": "markdown",
      "metadata": {
        "id": "NUt9_4J9Tbgw"
      },
      "source": [
        "# Data Association Rules"
      ]
    },
    {
      "cell_type": "code",
      "execution_count": null,
      "metadata": {
        "id": "V9bN5TG7Tbgw"
      },
      "outputs": [],
      "source": [
        "from mlxtend.frequent_patterns import apriori"
      ]
    },
    {
      "cell_type": "markdown",
      "source": [
        "**Yapılacaklar: apriori() fonksiyonunu kullanarak veri kümesindeki ürünlerine support değerleri ile birlikte itemsets'i hesaplattırıp yeni bir DataFrame olarak yazdırınız.**\n",
        "\n",
        "- min_support=0.02, \n",
        "- use_colnames=True\n",
        "\n",
        "**Link:** http://rasbt.github.io/mlxtend/user_guide/frequent_patterns/apriori/"
      ],
      "metadata": {
        "id": "vxueqgYWZVSO"
      }
    },
    {
      "cell_type": "code",
      "execution_count": null,
      "metadata": {
        "id": "fI_CbnOrTbgx"
      },
      "outputs": [],
      "source": [
        "# Apriori Fonksiyonunu deneyelim.\n",
        "\n",
        "# df = True-False array ya da One Hot Encoding ile dönüştürülmüş dataframe\n",
        "# min_support = Tüm kombinasyonların support değerini istemiyorum bu yüzden belirli bir eşik değerini getir.\n",
        "# use_colnames = True, sutün isimlerini göster.\n",
        "\n"
      ]
    },
    {
      "cell_type": "markdown",
      "source": [
        "```\n",
        "BISCUIT tüm alışverişlerin % 35'inde, \n",
        "BREAD tüm alışverişlerin %65'inde veya \n",
        "TEA, MAGGI, BREAD, BISCUIT tüm satışların % 5'inde beraber yorumları yapılır.\n",
        "```"
      ],
      "metadata": {
        "id": "gWzaRdxcZezA"
      }
    },
    {
      "cell_type": "markdown",
      "source": [
        "**Yapılacaklar: apriori hesabı yapılan ve yeni tanımlanan dataframe'i support değerlerine göre büyükten küçüğe sıralayınızç **"
      ],
      "metadata": {
        "id": "CCH1G5I9aLPa"
      }
    },
    {
      "cell_type": "code",
      "execution_count": null,
      "metadata": {
        "id": "rJ7yS9LYTbg0"
      },
      "outputs": [],
      "source": [
        "#Alışverişlerde en çok alınan ürünleri yorumlayabilmek için veriyi büyükten küçüğe sıralayabiliriz.\n"
      ]
    },
    {
      "cell_type": "code",
      "execution_count": null,
      "metadata": {
        "id": "8zC4Br9STbg2"
      },
      "outputs": [],
      "source": [
        "from mlxtend.frequent_patterns import association_rules"
      ]
    },
    {
      "cell_type": "markdown",
      "source": [
        "**Yapılacaklar: Kural oluşturmak için metric olarak \"confidence\" i alarak minimum eşik değeri 0.6 olacak şekilde association_rules() fonksiyonunu kullanınız.**\n",
        "\n",
        "Link: http://rasbt.github.io/mlxtend/user_guide/frequent_patterns/association_rules/"
      ],
      "metadata": {
        "id": "474aLeOHaZ0S"
      }
    },
    {
      "cell_type": "code",
      "execution_count": null,
      "metadata": {
        "id": "r4molaDPTbg2"
      },
      "outputs": [],
      "source": [
        "# Aprioride \"support\" hesabı yapabiliriz, \"confidence ve diğerleri\" için association rules kullanıyoruz.\n",
        "\n"
      ]
    },
    {
      "cell_type": "markdown",
      "source": [
        "```\n",
        "antecedent support: Birincinin tek başına görülme olasılığı,\n",
        "consequent support: İkincinin tek başına görülme olasılığı,\n",
        "support: İkisinin birlikte görülme olasılığı,\n",
        "confidence: İlki satıldığında ikinci ürünün satılma olasılığı,\n",
        "lift: İlki satıldığında ikinci ürünün satılma olasılığı şu kadar kat arttı yorumu\n",
        "```"
      ],
      "metadata": {
        "id": "LZBudnekaz2N"
      }
    },
    {
      "cell_type": "markdown",
      "metadata": {
        "id": "9hHrc4E4Tbg4"
      },
      "source": [
        "## Selecting and Filtering Results "
      ]
    },
    {
      "cell_type": "markdown",
      "source": [
        "**Yapılacaklar: association_rules() sonucu oluşturulan kuralları \"confidence\" değeri 0.6'dan büyük eşit ve \"support\" değeri 0.2'den büyük eşit olan kuralları filtreleyiniz.**"
      ],
      "metadata": {
        "id": "LEQM_m_9bxZU"
      }
    },
    {
      "cell_type": "code",
      "execution_count": null,
      "metadata": {
        "id": "7wK0cuvOTbg5"
      },
      "outputs": [],
      "source": [
        "#association_rules() sonucu oluşturulan kuralları \"confidence\" değeri 0.6'dan büyük eşit ve \n",
        "# \"support\" değeri 0.2'den büyük eşit olan kuralları filtreleyiniz.\n"
      ]
    },
    {
      "cell_type": "markdown",
      "metadata": {
        "id": "V97nPnLhTbg6"
      },
      "source": [
        "# Reporting"
      ]
    },
    {
      "cell_type": "markdown",
      "metadata": {
        "id": "6JiJsWnhTbg6"
      },
      "source": [
        "Analiz;\n",
        "- Alışverişlerde MAGGI'ın tek başına görülme olasığı %25, TEA'in tek başına görülme olasılığı %35.\n",
        "- 100 alışverişin 20'sinde mutlaka MAGGI ve TEA beraber satın alınıyor.\n",
        "- MAGGI satıldığında TEA satılma olasılığı 0.800.. yani %80.\n",
        "- MAGGI satılan satışlarda TEA satılma olasılığı 2.28 kat artmaktadır.\n",
        "\n",
        "\n",
        "Aksiyon Fikri: \n",
        "- MAGGI alan biri %80 gibi yüksek bir ihtimalle TEA almaktadır ve TEA satışını 2.28 artırmaktadır. Bu iki ürün birbirinden uzak yerlerde konumlandırılarak müşterinin market içi dolaşması sağlanabilir, bu süreçte müşteri diğer ürünlere göz atabilir ve yahut satın alabilir. \n"
      ]
    },
    {
      "cell_type": "code",
      "execution_count": null,
      "metadata": {
        "id": "MS82vGPXTbg7"
      },
      "outputs": [],
      "source": [
        ""
      ]
    }
  ],
  "metadata": {
    "kernelspec": {
      "display_name": "Python 3",
      "language": "python",
      "name": "python3"
    },
    "language_info": {
      "codemirror_mode": {
        "name": "ipython",
        "version": 3
      },
      "file_extension": ".py",
      "mimetype": "text/x-python",
      "name": "python",
      "nbconvert_exporter": "python",
      "pygments_lexer": "ipython3",
      "version": "3.7.4"
    },
    "colab": {
      "name": "Day8_UnsupervisedLearning_apriori_association_rule_Exercises_1.ipynb",
      "provenance": [],
      "collapsed_sections": []
    }
  },
  "nbformat": 4,
  "nbformat_minor": 0
}