{
  "cells": [
    {
      "cell_type": "markdown",
      "metadata": {
        "id": "uxShVnKFLc4M"
      },
      "source": [
        "![](https://www.finplus.co.in/wp-content/uploads/2017/10/Top-Categories-In-Online-Retail-In-India.jpg)"
      ]
    },
    {
      "cell_type": "markdown",
      "metadata": {
        "id": "MH6Cw1LfLc4S"
      },
      "source": [
        "## Genel Bakış\n",
        "<a href=\"https://archive.ics.uci.edu/ml/datasets/online+retail\"> Çevrimiçi perakende (Online retail), İngiltere merkezli ve kayıtlı mağaza dışı çevrimiçi perakende için 01/12/2010 ile 09/12/2011 arasında gerçekleşen tüm işlemleri içeren uluslararası bir veri setidir </a> Şirket esas olarak hediyelik eşyalar satıyor ve şirketin birçok müşterisi de toptancıdır.\n",
        "\n",
        "## İş Hedefi\n",
        "Şirketin müşterilerini verimli bir şekilde hedefleyebilmesi için müşterilerin segmentlere ayrılması amaçlanmaktadır.\n"
      ]
    },
    {
      "cell_type": "markdown",
      "metadata": {
        "id": "bobkp_IrLc4U"
      },
      "source": [
        "## Adım 1 : Veriyi Okuma ve Anlama"
      ]
    },
    {
      "cell_type": "code",
      "execution_count": null,
      "metadata": {
        "id": "8Ri5p3KMLc4U"
      },
      "outputs": [],
      "source": [
        "# import required libraries for dataframe and visualization\n",
        "\n",
        "import numpy as np\n",
        "import pandas as pd\n",
        "import matplotlib.pyplot as plt\n",
        "import seaborn as sns\n",
        "import datetime as dt\n",
        "\n",
        "# import required libraries for clustering\n",
        "import sklearn\n",
        "from sklearn.preprocessing import StandardScaler\n",
        "from sklearn.cluster import KMeans\n",
        "from sklearn.metrics import silhouette_score\n",
        "from scipy.cluster.hierarchy import linkage\n",
        "from scipy.cluster.hierarchy import dendrogram\n",
        "from scipy.cluster.hierarchy import cut_tree"
      ]
    },
    {
      "cell_type": "code",
      "source": [
        "#ROOT_DIR = \"/content/drive/MyDrive/CASGEM-Egitim/Egitim-Part1/Day7-DecisionTree/notebooks\"\n",
        "ROOT_DIR = \"https://media.githubusercontent.com/media/yapay-ogrenme/casgem-eu-project-training-on-data-mining-2nd/main/PART1/Day8-UnsupervisedLearning/notebooks\"\n",
        "\n",
        "DATASET_PATH = ROOT_DIR + \"/datasets/\""
      ],
      "metadata": {
        "id": "Xzfrt50BoHdB"
      },
      "execution_count": null,
      "outputs": []
    },
    {
      "cell_type": "code",
      "execution_count": null,
      "metadata": {
        "id": "R4znwErbLc4W"
      },
      "outputs": [],
      "source": [
        "# Reading the data on which analysis needs to be done\n",
        "\n",
        "retail = pd.read_csv(DATASET_PATH + 'OnlineRetail.csv', sep=\",\", encoding=\"ISO-8859-1\", header=0)\n",
        "retail.head()"
      ]
    },
    {
      "cell_type": "code",
      "execution_count": null,
      "metadata": {
        "id": "VG2yzR-nLc4X"
      },
      "outputs": [],
      "source": [
        "# shape of df\n",
        "\n",
        "retail.shape"
      ]
    },
    {
      "cell_type": "code",
      "execution_count": null,
      "metadata": {
        "id": "4frYgbdyLc4Y"
      },
      "outputs": [],
      "source": [
        "# df info\n",
        "\n",
        "retail.info()"
      ]
    },
    {
      "cell_type": "code",
      "execution_count": null,
      "metadata": {
        "id": "Cz16VP9HLc4Y"
      },
      "outputs": [],
      "source": [
        "# df description\n",
        "\n",
        "retail.describe()"
      ]
    },
    {
      "cell_type": "markdown",
      "metadata": {
        "id": "4sba-KwcLc4Z"
      },
      "source": [
        "## Adım 2 : Veri Temizleme"
      ]
    },
    {
      "cell_type": "code",
      "execution_count": null,
      "metadata": {
        "id": "P5VPLjiYLc4Z"
      },
      "outputs": [],
      "source": [
        "# Calculating the Missing Values % contribution in DF\n",
        "\n",
        "df_null = round(100*(retail.isnull().sum())/len(retail), 2)\n",
        "df_null"
      ]
    },
    {
      "cell_type": "code",
      "execution_count": null,
      "metadata": {
        "id": "83fd41I7Lc4a"
      },
      "outputs": [],
      "source": [
        "# Droping rows having missing values\n",
        "\n",
        "retail = retail.dropna()\n",
        "retail.shape"
      ]
    },
    {
      "cell_type": "code",
      "execution_count": null,
      "metadata": {
        "id": "cvIQoPjALc4a"
      },
      "outputs": [],
      "source": [
        "# Changing the datatype of Customer Id as per Business understanding\n",
        "\n",
        "retail['CustomerID'] = retail['CustomerID'].astype(str)"
      ]
    },
    {
      "cell_type": "markdown",
      "metadata": {
        "id": "dnN0DcHlLc4a"
      },
      "source": [
        "## Adım 3 : Veri Hazırlama"
      ]
    },
    {
      "cell_type": "markdown",
      "metadata": {
        "id": "vAHnRWVVLc4b"
      },
      "source": [
        "#### Müşterileri aşağıdaki 3 faktöre göre analiz edeceğiz:\n",
        "- R (Yenilik-Recency): Son satın alma tarihinden itibaren geçen gün sayısı\n",
        "- F (Sıklık-Frequency): İşlem sayısı\n",
        "- M (Parasal-Monetary): Toplam işlem tutarı (gelir katkısı)\n"
      ]
    },
    {
      "cell_type": "code",
      "execution_count": null,
      "metadata": {
        "id": "bf7U5eMXLc4b"
      },
      "outputs": [],
      "source": [
        "# Yeni Öznitelik : Monetary\n",
        "retail['Amount'] = retail['Quantity']*retail['UnitPrice']\n",
        "\n",
        "rfm_m = retail.groupby('CustomerID')['Amount'].sum()\n",
        "\n",
        "rfm_m = rfm_m.reset_index()\n",
        "rfm_m.head()"
      ]
    },
    {
      "cell_type": "code",
      "execution_count": null,
      "metadata": {
        "id": "x8a6pkXfLc4b"
      },
      "outputs": [],
      "source": [
        "# Yeni Öznitelik : Frequency\n",
        "\n",
        "rfm_f = retail.groupby('CustomerID')['InvoiceNo'].count()\n",
        "rfm_f = rfm_f.reset_index()\n",
        "rfm_f.columns = ['CustomerID', 'Frequency']\n",
        "rfm_f.head()"
      ]
    },
    {
      "cell_type": "code",
      "execution_count": null,
      "metadata": {
        "scrolled": true,
        "id": "oI0pzZInLc4c"
      },
      "outputs": [],
      "source": [
        "# Merging the two dfs\n",
        "\n",
        "rfm = pd.merge(rfm_m, rfm_f, on='CustomerID', how='inner')\n",
        "rfm.head()"
      ]
    },
    {
      "cell_type": "code",
      "execution_count": null,
      "metadata": {
        "id": "9UhO1GxfLc4c"
      },
      "outputs": [],
      "source": [
        "# Yeni Öznitelik : Recency\n",
        "\n",
        "# datetime'ı uygun datatype'a dönüştürme\n",
        "\n",
        "retail['InvoiceDate'] = pd.to_datetime(retail['InvoiceDate'],format='%d-%m-%Y %H:%M')"
      ]
    },
    {
      "cell_type": "code",
      "execution_count": null,
      "metadata": {
        "id": "1lcJZuV5Lc4d"
      },
      "outputs": [],
      "source": [
        "# Son işlem tarihini bilmek için maksimum tarihi hesaplama\n",
        "\n",
        "max_date = max(retail['InvoiceDate'])\n",
        "max_date"
      ]
    },
    {
      "cell_type": "code",
      "execution_count": null,
      "metadata": {
        "id": "-P6_7CedLc4d"
      },
      "outputs": [],
      "source": [
        "# Maksimum tarih ile işlem tarihi arasındaki farkı hesaplama\n",
        "\n",
        "retail['Diff'] = max_date - retail['InvoiceDate']\n",
        "retail.head()"
      ]
    },
    {
      "cell_type": "code",
      "execution_count": null,
      "metadata": {
        "id": "gDzhbr5ALc4d"
      },
      "outputs": [],
      "source": [
        "# Müşterilerin güncelliğini almak için son işlem tarihini hesaplama\n",
        "\n",
        "rfm_p = retail.groupby('CustomerID')['Diff'].min()\n",
        "rfm_p = rfm_p.reset_index()\n",
        "rfm_p.head()"
      ]
    },
    {
      "cell_type": "code",
      "execution_count": null,
      "metadata": {
        "id": "2Ytdz6s8Lc4e"
      },
      "outputs": [],
      "source": [
        "# Yalnızca gün sayısını ayıkla\n",
        "\n",
        "rfm_p['Diff'] = rfm_p['Diff'].dt.days\n",
        "rfm_p.head()"
      ]
    },
    {
      "cell_type": "code",
      "execution_count": null,
      "metadata": {
        "id": "aBMEXhDLLc4e"
      },
      "outputs": [],
      "source": [
        "# Nihai RFM dataframe'i elde etmek için dataframe'leri birleştirelim\n",
        "\n",
        "rfm = pd.merge(rfm, rfm_p, on='CustomerID', how='inner')\n",
        "rfm.columns = ['CustomerID', 'Amount', 'Frequency', 'Recency']\n",
        "rfm.head()"
      ]
    },
    {
      "cell_type": "markdown",
      "metadata": {
        "id": "Q4PqmYywLc4e"
      },
      "source": [
        "#### 2 tür aykırı değer vardır ve aykırı değerleri veri setimizi çarpıtabileceği için ele alacağız.\n",
        "- İstatistiksel\n",
        "- Alana özgü"
      ]
    },
    {
      "cell_type": "code",
      "execution_count": null,
      "metadata": {
        "id": "1UDXxWrLLc4e"
      },
      "outputs": [],
      "source": [
        "# Outlier Analysis of Amount Frequency and Recency\n",
        "\n",
        "attributes = ['Amount','Frequency','Recency']\n",
        "plt.rcParams['figure.figsize'] = [10,8]\n",
        "\n",
        "#sns.boxplot(data = rfm[attributes], orient=\"v\", palette=\"Set2\", whis=1.5, saturation=1, width=0.7)\n",
        "sns.boxplot(data = rfm[attributes])\n",
        "\n",
        "plt.title(\"Outliers Variable Distribution\", fontsize = 14, fontweight = 'bold')\n",
        "plt.ylabel(\"Range\", fontweight = 'bold')\n",
        "plt.xlabel(\"Attributes\", fontweight = 'bold')"
      ]
    },
    {
      "cell_type": "code",
      "execution_count": null,
      "metadata": {
        "id": "ealXzv-QLc4f"
      },
      "outputs": [],
      "source": [
        "# Removing (statistical) outliers for Amount\n",
        "Q1 = rfm.Amount.quantile(0.05)\n",
        "Q3 = rfm.Amount.quantile(0.95)\n",
        "IQR = Q3 - Q1\n",
        "rfm = rfm[(rfm.Amount >= Q1 - 1.5*IQR) & (rfm.Amount <= Q3 + 1.5*IQR)]\n",
        "\n",
        "# Removing (statistical) outliers for Recency\n",
        "Q1 = rfm.Recency.quantile(0.05)\n",
        "Q3 = rfm.Recency.quantile(0.95)\n",
        "IQR = Q3 - Q1\n",
        "rfm = rfm[(rfm.Recency >= Q1 - 1.5*IQR) & (rfm.Recency <= Q3 + 1.5*IQR)]\n",
        "\n",
        "# Removing (statistical) outliers for Frequency\n",
        "Q1 = rfm.Frequency.quantile(0.05)\n",
        "Q3 = rfm.Frequency.quantile(0.95)\n",
        "IQR = Q3 - Q1\n",
        "rfm = rfm[(rfm.Frequency >= Q1 - 1.5*IQR) & (rfm.Frequency <= Q3 + 1.5*IQR)]"
      ]
    },
    {
      "cell_type": "markdown",
      "metadata": {
        "id": "8aesq2QKLc4f"
      },
      "source": [
        "### Nitelikleri Yeniden Ölçeklendirme\n",
        "\n",
        "Değişkenleri karşılaştırılabilir bir ölçeğe sahip olacak şekilde yeniden ölçeklendirmek son derece önemlidir.|\n",
        "Yeniden ölçeklendirmenin iki yaygın yolu vardır:\n",
        "\n",
        "1. Min-Max ölçeklendirme\n",
        "2. Standardizasyon (mean-0, sigma-1) \n",
        "\n",
        "Burada Standardization Scaling'i kullanacağız."
      ]
    },
    {
      "cell_type": "code",
      "execution_count": null,
      "metadata": {
        "id": "5qpbb0ipLc4f"
      },
      "outputs": [],
      "source": [
        "# Rescaling the attributes\n",
        "\n",
        "rfm_df = rfm[['Amount', 'Frequency', 'Recency']]\n",
        "\n",
        "# Instantiate\n",
        "scaler = StandardScaler()\n",
        "\n",
        "# fit_transform\n",
        "rfm_df_scaled = scaler.fit_transform(rfm_df)\n",
        "rfm_df_scaled.shape"
      ]
    },
    {
      "cell_type": "code",
      "execution_count": null,
      "metadata": {
        "id": "5JmIVi4HLc4f"
      },
      "outputs": [],
      "source": [
        "rfm_df_scaled = pd.DataFrame(rfm_df_scaled)\n",
        "rfm_df_scaled.columns = ['Amount', 'Frequency', 'Recency']\n",
        "rfm_df_scaled.head()"
      ]
    },
    {
      "cell_type": "markdown",
      "metadata": {
        "id": "G5qeFtfoLc4g"
      },
      "source": [
        "## Step 4 : Modeli Oluşturma"
      ]
    },
    {
      "cell_type": "markdown",
      "metadata": {
        "id": "EWTfQrD0Lc4g"
      },
      "source": [
        "### K-Means Kümeleme"
      ]
    },
    {
      "cell_type": "markdown",
      "metadata": {
        "id": "siaMwKIDLc4g"
      },
      "source": [
        "K-means kümeleme, en basit ve popüler denetimsiz makine öğrenimi algoritmalarından biridir.<br>\n",
        "\n",
        "Algoritma şu şekilde çalışır:\n",
        "\n",
        "- İlk önce, ortalama (means) olarak adlandırılan k noktayı rastgele atıyoruz.\n",
        "- Her bir öğeyi en yakın merkeze göre kategorize ediyoruz ve o merkeze göre kategorize edilen öğelerin o ana kadarki ortalamaları olan küme merkezinin koordinatlarını güncelliyoruz.\n",
        "- İşlemi belirli sayıda yineleme için tekrarlıyoruz ve sonunda kümelerimizi oluşturmuş oluyoruz."
      ]
    },
    {
      "cell_type": "code",
      "execution_count": null,
      "metadata": {
        "id": "phJ5mQTiLc4g"
      },
      "outputs": [],
      "source": [
        "# k-means with some arbitrary k\n",
        "\n",
        "kmeans = KMeans(n_clusters=4, max_iter=50)\n",
        "kmeans.fit(rfm_df_scaled)"
      ]
    },
    {
      "cell_type": "code",
      "execution_count": null,
      "metadata": {
        "id": "D2nqSHceLc4g"
      },
      "outputs": [],
      "source": [
        "kmeans.labels_"
      ]
    },
    {
      "cell_type": "markdown",
      "metadata": {
        "id": "HoqhUHVsLc4h"
      },
      "source": [
        "### Optimal Küme Sayısını Bulma"
      ]
    },
    {
      "cell_type": "markdown",
      "metadata": {
        "id": "6cPiKoYDLc4h"
      },
      "source": [
        "#### Doğru sayıda Küme elde etmek için Dirsek Eğrisi (Elbow Curve)\n",
        "Denetimsiz herhangi bir algoritma için temel bir adım, verilerin kümelenebileceği en uygun küme sayısını belirlemektir. Dirsek Yöntemi (Elbow Curve), bu optimal k değerini belirlemek için en popüler yöntemlerden biridir."
      ]
    },
    {
      "cell_type": "code",
      "execution_count": null,
      "metadata": {
        "id": "iz9mPfWULc4h"
      },
      "outputs": [],
      "source": [
        "# Elbow-curve/SSD\n",
        "\n",
        "ssd = []\n",
        "range_n_clusters = [2, 3, 4, 5, 6, 7, 8]\n",
        "for num_clusters in range_n_clusters:\n",
        "  \n",
        "    kmeans = KMeans(n_clusters=num_clusters, max_iter=50)\n",
        "    kmeans.fit(rfm_df_scaled)\n",
        "    \n",
        "    ssd.append(kmeans.inertia_)\n",
        "    \n",
        "# plot the SSDs for each n_clusters\n",
        "plt.plot(ssd)"
      ]
    },
    {
      "cell_type": "markdown",
      "metadata": {
        "id": "QDqml6D1Lc4h"
      },
      "source": [
        "### Siluet Analizi (Silhouette Analysis)\n",
        "\n",
        "$$\\text{silhouette score}=\\frac{p-q}{max(p,q)}$$\n",
        "\n",
        "$p$, veri noktasının parçası olmadığı en yakın kümedeki noktalara olan ortalama uzaklıktır.\n",
        "\n",
        "$q$, kendi kümesindeki tüm noktalara küme içi ortalama uzaklıktır.\n",
        "\n",
        "* Siluet puan aralığının değeri -1 ile 1 arasındadır.\n",
        "\n",
        "* 1'e yakın bir puan, veri noktasının kümedeki diğer veri noktalarına çok benzer olduğunu gösterir,\n",
        "\n",
        "* -1'e yakın bir puan, veri noktasının kümesindeki veri noktalarına benzemediğini gösterir."
      ]
    },
    {
      "cell_type": "code",
      "execution_count": null,
      "metadata": {
        "id": "EHfwaywvLc4h"
      },
      "outputs": [],
      "source": [
        "# Silhouette analysis\n",
        "range_n_clusters = [2, 3, 4, 5, 6, 7, 8]\n",
        "\n",
        "for num_clusters in range_n_clusters:\n",
        "    \n",
        "    # intialise kmeans\n",
        "    kmeans = KMeans(n_clusters=num_clusters, max_iter=50)\n",
        "    kmeans.fit(rfm_df_scaled)\n",
        "    \n",
        "    cluster_labels = kmeans.labels_\n",
        "    \n",
        "    # silhouette score\n",
        "    silhouette_avg = silhouette_score(rfm_df_scaled, cluster_labels)\n",
        "    print(\"For n_clusters={0}, the silhouette score is {1}\".format(num_clusters, silhouette_avg))\n",
        "    \n",
        "    "
      ]
    },
    {
      "cell_type": "code",
      "execution_count": null,
      "metadata": {
        "id": "60XsZTM8Lc4i"
      },
      "outputs": [],
      "source": [
        "# Final model with k=3\n",
        "kmeans = KMeans(n_clusters=3, max_iter=50)\n",
        "kmeans.fit(rfm_df_scaled)"
      ]
    },
    {
      "cell_type": "code",
      "execution_count": null,
      "metadata": {
        "id": "T6lmqA_vLc4i"
      },
      "outputs": [],
      "source": [
        " kmeans.labels_"
      ]
    },
    {
      "cell_type": "code",
      "execution_count": null,
      "metadata": {
        "id": "Gf2InGdnLc4i"
      },
      "outputs": [],
      "source": [
        "# assign the label\n",
        "rfm['Cluster_Id'] = kmeans.labels_\n",
        "rfm.head()"
      ]
    },
    {
      "cell_type": "code",
      "execution_count": null,
      "metadata": {
        "id": "X3YNODIBLc4i"
      },
      "outputs": [],
      "source": [
        "# Box plot to visualize Cluster Id vs Frequency\n",
        "\n",
        "sns.boxplot(x='Cluster_Id', y='Amount', data=rfm)"
      ]
    },
    {
      "cell_type": "code",
      "execution_count": null,
      "metadata": {
        "id": "DJMnbIiuLc4i"
      },
      "outputs": [],
      "source": [
        "# Box plot to visualize Cluster Id vs Frequency\n",
        "\n",
        "sns.boxplot(x='Cluster_Id', y='Frequency', data=rfm)"
      ]
    },
    {
      "cell_type": "code",
      "execution_count": null,
      "metadata": {
        "id": "S_Nr1zdMLc4j"
      },
      "outputs": [],
      "source": [
        "# Box plot to visualize Cluster Id vs Recency\n",
        "\n",
        "sns.boxplot(x='Cluster_Id', y='Recency', data=rfm)"
      ]
    },
    {
      "cell_type": "markdown",
      "metadata": {
        "id": "0NR_Wqt-Lc4j"
      },
      "source": [
        "### Hiyerarşik Kümeleme\n",
        "\n",
        "Hiyerarşik kümeleme, yukarıdan aşağıya önceden belirlenmiş bir sıralamaya sahip kümeler oluşturmayı içerir. Örneğin, sabit diskteki tüm dosya ve klasörler bir hiyerarşi içinde düzenlenir. İki tür hiyerarşik kümeleme vardır,\n",
        "- Bölücü\n",
        "- Aglomeratif."
      ]
    },
    {
      "cell_type": "markdown",
      "metadata": {
        "id": "lZRQAeIfLc4j"
      },
      "source": [
        "**Tek Bağlantı (Single Linkage):<br>**\n",
        "\n",
        "Tek bağlantılı hiyerarşik kümelemede, iki küme arasındaki mesafe, her kümedeki iki nokta arasındaki en kısa mesafe olarak tanımlanır. Örneğin, soldaki “r” ve “s” kümeleri arasındaki mesafe, en yakın iki noktası arasındaki okun uzunluğuna eşittir.\n",
        "![](https://www.saedsayad.com/images/Clustering_single.png)"
      ]
    },
    {
      "cell_type": "code",
      "execution_count": null,
      "metadata": {
        "id": "HHpNdQ4FLc4j"
      },
      "outputs": [],
      "source": [
        "# Single linkage: \n",
        "\n",
        "mergings = linkage(rfm_df_scaled, method=\"single\", metric='euclidean')\n",
        "dendrogram(mergings)\n",
        "plt.show()"
      ]
    },
    {
      "cell_type": "markdown",
      "metadata": {
        "id": "7757Mc0PLc4j"
      },
      "source": [
        "**Tam Bağlantı (Complete Linkage)<br>**\n",
        "\n",
        "Tam bağlantı hiyerarşik kümelemede, iki küme arasındaki mesafeyi her kümedeki iki nokta arasındaki en uzun mesafe olarak tanımlar. Örneğin, soldaki “r” ve “s” kümeleri arasındaki mesafe, en uzak iki noktası arasındaki okun uzunluğuna eşittir.\n",
        "![](https://www.saedsayad.com/images/Clustering_complete.png)"
      ]
    },
    {
      "cell_type": "code",
      "execution_count": null,
      "metadata": {
        "id": "crctBnQzLc4k"
      },
      "outputs": [],
      "source": [
        "# Complete linkage\n",
        "\n",
        "mergings = linkage(rfm_df_scaled, method=\"complete\", metric='euclidean')\n",
        "dendrogram(mergings)\n",
        "plt.show()"
      ]
    },
    {
      "cell_type": "markdown",
      "metadata": {
        "id": "g4FBPpclLc4k"
      },
      "source": [
        "**Ortalama bağlantı (Average Linkage):<br>**\n",
        "\n",
        "Ortalama bağlantı hiyerarşik kümelemede, iki küme arasındaki mesafeyi bir kümedeki her nokta ile diğer kümedeki her nokta arasındaki ortalama mesafe olarak tanımlar. Örneğin, soldaki “r” ve “s” kümeleri arasındaki mesafe, bir kümenin noktalarını diğerine bağlayan her bir okun ortalama uzunluğuna eşittir.\n",
        "\n",
        "![](https://www.saedsayad.com/images/Clustering_average.png)"
      ]
    },
    {
      "cell_type": "code",
      "execution_count": null,
      "metadata": {
        "id": "GpS1APNpLc4k"
      },
      "outputs": [],
      "source": [
        "# Average linkage\n",
        "\n",
        "mergings = linkage(rfm_df_scaled, method=\"average\", metric='euclidean')\n",
        "dendrogram(mergings)\n",
        "plt.show()"
      ]
    },
    {
      "cell_type": "markdown",
      "metadata": {
        "id": "1OOZVl8SLc4k"
      },
      "source": [
        "#### Dendrogramın K'ye göre kesilmesi"
      ]
    },
    {
      "cell_type": "code",
      "execution_count": null,
      "metadata": {
        "id": "LB-tySF-Lc4k"
      },
      "outputs": [],
      "source": [
        "# 3 clusters\n",
        "cluster_labels = cut_tree(mergings, n_clusters=3).reshape(-1, )\n",
        "cluster_labels"
      ]
    },
    {
      "cell_type": "code",
      "execution_count": null,
      "metadata": {
        "id": "-he2VueDLc4l"
      },
      "outputs": [],
      "source": [
        "# Assign cluster labels\n",
        "\n",
        "rfm['Cluster_Labels'] = cluster_labels\n",
        "rfm.head()"
      ]
    },
    {
      "cell_type": "code",
      "execution_count": null,
      "metadata": {
        "id": "QSy8axynLc4l"
      },
      "outputs": [],
      "source": [
        "# Plot Cluster Id vs Amount\n",
        "\n",
        "sns.boxplot(x='Cluster_Labels', y='Amount', data=rfm)"
      ]
    },
    {
      "cell_type": "code",
      "execution_count": null,
      "metadata": {
        "id": "T-XYjJu-Lc4l"
      },
      "outputs": [],
      "source": [
        "# Plot Cluster Id vs Frequency\n",
        "\n",
        "sns.boxplot(x='Cluster_Labels', y='Frequency', data=rfm)"
      ]
    },
    {
      "cell_type": "code",
      "execution_count": null,
      "metadata": {
        "id": "njSzooYJLc4l"
      },
      "outputs": [],
      "source": [
        "# Plot Cluster Id vs Recency\n",
        "\n",
        "sns.boxplot(x='Cluster_Labels', y='Recency', data=rfm)"
      ]
    },
    {
      "cell_type": "markdown",
      "metadata": {
        "id": "CbioiHfLLc4l"
      },
      "source": [
        "## Adım 5 : Final Analizi"
      ]
    },
    {
      "cell_type": "markdown",
      "metadata": {
        "id": "TGlVvzljLc4m"
      },
      "source": [
        "### Çıkarım:\n",
        "3 Küme Kimliği (Ids) ile K-Means Kümeleme:\n",
        "\n",
        "- Küme Kimliği 1 olan müşteriler, diğer müşterilere göre yüksek miktarda işlem yapan müşterilerdir.\n",
        "- Küme Kimliği 1 olan müşteriler sık alıcılardır.\n",
        "- Küme Kimliği 2 olan müşteriler yeni alıcılar değildir ve bu nedenle iş açısından en az öneme sahiptir."
      ]
    },
    {
      "cell_type": "markdown",
      "metadata": {
        "id": "08he19yNLc4m"
      },
      "source": [
        "3 Küme Etiketli Hiyerarşik Kümeleme:\n",
        "\n",
        "- Cluster_Labels 2'ye sahip müşteriler, diğer müşterilere kıyasla yüksek miktarda işlem yapan müşterilerdir.\n",
        "- Cluster_Labels 2'ye sahip müşteriler sık alıcılardır.\n",
        "- Cluster_Labels 0'a sahip müşteriler yeni alıcılar değildir ve bu nedenle iş açısından en az öneme sahiptir."
      ]
    },
    {
      "cell_type": "code",
      "source": [
        ""
      ],
      "metadata": {
        "id": "B8L-1GKApUmJ"
      },
      "execution_count": null,
      "outputs": []
    }
  ],
  "metadata": {
    "kernelspec": {
      "display_name": "Python 3",
      "language": "python",
      "name": "python3"
    },
    "language_info": {
      "codemirror_mode": {
        "name": "ipython",
        "version": 3
      },
      "file_extension": ".py",
      "mimetype": "text/x-python",
      "name": "python",
      "nbconvert_exporter": "python",
      "pygments_lexer": "ipython3",
      "version": "3.6.6"
    },
    "colab": {
      "name": "Day8_UnsupervisedLearning_online_retail_k_means_hierarchical_clustering_Demo1.ipynb",
      "provenance": [],
      "collapsed_sections": []
    }
  },
  "nbformat": 4,
  "nbformat_minor": 0
}