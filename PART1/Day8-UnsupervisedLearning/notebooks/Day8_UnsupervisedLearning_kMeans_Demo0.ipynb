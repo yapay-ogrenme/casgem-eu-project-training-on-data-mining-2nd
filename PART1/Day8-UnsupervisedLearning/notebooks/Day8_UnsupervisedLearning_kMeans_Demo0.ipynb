{
  "cells": [
    {
      "cell_type": "markdown",
      "metadata": {
        "id": "M7OTukdXB8ji"
      },
      "source": [
        "# Derinlemesine k-Means Kümeleme"
      ]
    },
    {
      "cell_type": "code",
      "execution_count": null,
      "metadata": {
        "id": "poQO60KcB8jl"
      },
      "outputs": [],
      "source": [
        "%matplotlib inline\n",
        "import matplotlib.pyplot as plt\n",
        "import seaborn as sns; sns.set()  # for plot styling\n",
        "import numpy as np"
      ]
    },
    {
      "cell_type": "markdown",
      "metadata": {
        "id": "8Bvway9SB8jn"
      },
      "source": [
        "**k-means** algoritması, etiketlenmemiş çok boyutlu bir veri kümesi içinde önceden belirlenmiş sayıda kümeyi arar. Bunu, optimal kümelemenin nasıl göründüğüne dair basit bir anlayış kullanarak başarır:\n",
        "\n",
        "- \"Küme merkezi (cluster center)\", kümeye ait tüm noktaların aritmetik ortalamasıdır.\n",
        "- Her nokta kendi küme merkezine diğer küme merkezlerinden daha yakındır.\n",
        "\n",
        "Bu iki varsayım, **k-means** modelinin temelidir.\n",
        "\n",
        "İlk olarak, dört farklı blob içeren iki boyutlu bir veri kümesi oluşturalım.\n",
        "Bunun denetimsiz bir algoritma olduğunu vurgulamak için etiketleri görselleştirmenin dışında bırakacağız.\n"
      ]
    },
    {
      "cell_type": "code",
      "execution_count": null,
      "metadata": {
        "id": "tDOXL4PrB8jo"
      },
      "outputs": [],
      "source": [
        "from sklearn.datasets import make_blobs\n",
        "\n",
        "X, y_true = make_blobs(n_samples=300, centers=4,\n",
        "                       cluster_std=0.60, random_state=0)\n",
        "\n",
        "plt.scatter(X[:, 0], X[:, 1], s=50);"
      ]
    },
    {
      "cell_type": "markdown",
      "metadata": {
        "id": "uACLzjHtB8jq"
      },
      "source": [
        "Gözle, dört kümeyi seçmek nispeten kolaydır.\n",
        "**k-means** algoritması bunu otomatik olarak yapar ve Scikit-Learn'de tipik bir tahmin API'sini kullanır:\n"
      ]
    },
    {
      "cell_type": "code",
      "execution_count": null,
      "metadata": {
        "collapsed": true,
        "id": "SCp1v05mB8js"
      },
      "outputs": [],
      "source": [
        "from sklearn.cluster import KMeans\n",
        "\n",
        "kmeans = KMeans(n_clusters=4)\n",
        "kmeans.fit(X)\n",
        "\n",
        "y_kmeans = kmeans.predict(X)"
      ]
    },
    {
      "cell_type": "markdown",
      "metadata": {
        "id": "fGClDtbuB8jt"
      },
      "source": [
        "Bu etiketlerin renklendirdiği verileri çizerek sonuçları görselleştirelim.\n",
        "k-means tahmincisi tarafından belirlenen küme merkezlerini de çizdirelim."
      ]
    },
    {
      "cell_type": "code",
      "execution_count": null,
      "metadata": {
        "id": "hQx2W7AgB8ju"
      },
      "outputs": [],
      "source": [
        "plt.scatter(X[:, 0], X[:, 1], c=y_kmeans, s=50, cmap='viridis')\n",
        "\n",
        "centers = kmeans.cluster_centers_\n",
        "plt.scatter(centers[:, 0], centers[:, 1], c='black', s=200, alpha=0.5);"
      ]
    },
    {
      "cell_type": "markdown",
      "metadata": {
        "id": "5GMkFofTB8jv"
      },
      "source": [
        "K-means algoritması (en azından bu basit durumda) noktaları, onları gözle nasıl atayabileceğimize çok benzer şekilde kümelere atar.\n",
        "\n",
        "Ancak bu algoritmanın bu kümeleri nasıl bu kadar çabuk bulduğunu merak edebilirsiniz! Sonuçta, küme atamalarının olası kombinasyonlarının sayısı, veri noktalarının sayısında üsteldir. Bu da kapsamlı ve çok maliyetli bir aramaya sebep olacaktır.\n",
        "\n",
        "Neyse ki bizim için böyle kapsamlı bir arama gerekli değildir: bunun yerine, k-means **beklenti–maksimizasyon (expectation–maximization)** olarak bilinen sezgisel yinelemeli bir yaklaşımı içerir.\n"
      ]
    },
    {
      "cell_type": "markdown",
      "metadata": {
        "id": "nrlObx3PB8jw"
      },
      "source": [
        "## k-Means Algoritması: Beklenti-Maksimizasyon Yaklaşımı (Expectation–Maximization)"
      ]
    },
    {
      "cell_type": "markdown",
      "metadata": {
        "id": "Bgj4MMC1B8jw"
      },
      "source": [
        "K-means kümeleme yaklaşımındaki beklenti-maksimizasyon yaklaşımı (E-M) aşağıdaki adımlardan oluşur:\n",
        "\n",
        "1. Bazı küme merkezlerini tahmin edin\n",
        "2. Birleşene kadar tekrarlayın\n",
        "   1. **E-Step:** noktaları en yakın küme merkezine atayın\n",
        "   2. **M-Step:** küme merkezlerini ortalamaya (means) ayarla\n",
        "\n",
        "Burada \"E-step\" veya \"Beklenti (Expectation) adımı\", her noktanın ait olduğu kümeye ilişkin beklentimizi güncellemeyi içerdiğinden böyle adlandırılmıştır.\n",
        "\n",
        "\"M adımı\" veya \"Maksimizasyon adımı\", küme merkezlerinin konumunu tanımlayan bazı uygunluk fonksiyonunun maksimize edilmesini içerdiği için bu şekilde adlandırılır. (K-means'de maksimizasyon, her kümedeki verilerin basit bir ortalamasını alarak gerçekleştirilir.)\n"
      ]
    },
    {
      "cell_type": "markdown",
      "metadata": {
        "id": "XL-sQ6dnB8jy"
      },
      "source": [
        "![(run code in Appendix to generate image)](https://github.com/jakevdp/PythonDataScienceHandbook/blob/master/notebooks/figures/05.11-expectation-maximization.png?raw=1)\n"
      ]
    },
    {
      "cell_type": "markdown",
      "metadata": {
        "id": "y3ryIsp7B8j0"
      },
      "source": [
        "### Beklenti-maksimizasyon ile ilgili bazı uyarılar\n",
        "\n",
        "Beklenti-maksimizasyon algoritmasını kullanırken dikkat edilmesi gereken birkaç konu vardır."
      ]
    },
    {
      "cell_type": "markdown",
      "metadata": {
        "id": "gP6pMWurB8j0"
      },
      "source": [
        "#### Global optimal sonuç elde edilemeyebilir\n",
        "E–M prosedürü her adımda sonucu iyileştireceği garanti etse de, bunun global optimal bir çözüme yol açacağının garantisi yoktur."
      ]
    },
    {
      "cell_type": "markdown",
      "metadata": {
        "id": "SQ-vvXcrB8j1"
      },
      "source": [
        "#### Küme sayısı önceden seçilmelidir\n",
        "k-means ile ilgili diğer zorluk, başlangıçta kaç küme beklediğinizi söylemeniz gerektiğidir: **kümelerin sayısını verilerden öğrenemez.**\n",
        "Örneğin, algoritmadan altı küme tanımlamasını istersek, mutlu bir şekilde ilerleyecek ve en iyi altı kümeyi bulacaktır:"
      ]
    },
    {
      "cell_type": "code",
      "execution_count": null,
      "metadata": {
        "id": "cL2cyDK-B8j2"
      },
      "outputs": [],
      "source": [
        "labels = KMeans(6, random_state=0).fit_predict(X)\n",
        "plt.scatter(X[:, 0], X[:, 1], c=labels,\n",
        "            s=50, cmap='viridis');"
      ]
    },
    {
      "cell_type": "markdown",
      "metadata": {
        "id": "jWNCC3q8B8j2"
      },
      "source": [
        "Sonucun anlamlı olup olmadığı kesin olarak cevaplanması zor bir sorudur; bu noktada sezgisel bir yaklaşım olan [siluet analizi (Silhouette Analysis)](http://scikit-learn.org/stable/auto_examples/cluster/plot_kmeans_silhouette_analysis.html) analizi kullanılır.\n",
        "\n",
        "Alternatif olarak, küme sayısı başına uygunluğun daha iyi nicel ölçümüne sahip Gaussian Mixture Models gibi daha karmaşık bir kümeleme algoritması kullanılabilir veya uygun sayıda kümeyi seçebilen DBSCAN benzeri yaklaşımlar da kullanılabilir.\n"
      ]
    },
    {
      "cell_type": "markdown",
      "metadata": {
        "id": "4PGhZuG8B8j3"
      },
      "source": [
        "#### k-means doğrusal küme sınırları ile sınırlıdır\n",
        "\n",
        "k-means'in temel model varsayımları (noktalar kendi küme merkezlerine diğerlerinden daha yakın olacaktır), kümeler karmaşık geometrilere sahipse algoritmanın genellikle etkisiz olacağı anlamına gelir.\n",
        "\n",
        "**Özellikle, k-means kümeleri arasındaki sınırlar her zaman doğrusal olacaktır, bu da daha karmaşık sınırlar için başarısız olacağı anlamına gelir.**\n"
      ]
    },
    {
      "cell_type": "code",
      "execution_count": null,
      "metadata": {
        "collapsed": true,
        "id": "ZfreZYBEB8j3"
      },
      "outputs": [],
      "source": [
        "from sklearn.datasets import make_moons\n",
        "X, y = make_moons(200, noise=.05, random_state=0)"
      ]
    },
    {
      "cell_type": "code",
      "execution_count": null,
      "metadata": {
        "id": "dI4Feel5B8j4"
      },
      "outputs": [],
      "source": [
        "labels = KMeans(2, random_state=0).fit_predict(X)\n",
        "plt.scatter(X[:, 0], X[:, 1], c=labels,\n",
        "            s=50, cmap='viridis');"
      ]
    },
    {
      "cell_type": "markdown",
      "metadata": {
        "id": "6L9QVqHvB8j4"
      },
      "source": [
        "Bu durum, verileri doğrusal bir ayırmanın mümkün olduğu daha yüksek bir boyuta yansıtmak için bir çekirdek dönüşümü kullandığımız [Depth: Support Vector Machines](05.07-Support-Vector-Machines.ipynb) 'deki tartışmayı hatırlatıyor.\n",
        "\n",
        "Aynı hileyi k-means'in doğrusal olmayan sınırları keşfetmesine izin vermek için kullanmayı hayal edebiliriz.\n",
        "\n",
        "Bu çekirdekleştirilmiş k-means'ın bir versiyonu **Scikit-Learn'de \"SpectralClustering\"** tahmincisi içinde uygulanmaktadır.\n"
      ]
    },
    {
      "cell_type": "code",
      "execution_count": null,
      "metadata": {
        "id": "buwP2iMnB8j5"
      },
      "outputs": [],
      "source": [
        "from sklearn.cluster import SpectralClustering\n",
        "\n",
        "model = SpectralClustering(n_clusters=2, affinity='nearest_neighbors',\n",
        "                           assign_labels='kmeans')\n",
        "\n",
        "labels = model.fit_predict(X)\n",
        "\n",
        "plt.scatter(X[:, 0], X[:, 1], c=labels,\n",
        "            s=50, cmap='viridis');"
      ]
    },
    {
      "cell_type": "markdown",
      "metadata": {
        "id": "_e3yby6RB8j6"
      },
      "source": [
        "Bu çekirdek dönüşümü yaklaşımıyla, çekirdekleştirilmiş k-means'in kümeler arasındaki daha karmaşık doğrusal olmayan sınırları bulabildiğini görüyoruz.\n"
      ]
    },
    {
      "cell_type": "markdown",
      "metadata": {
        "id": "DCFVfTPlB8j7"
      },
      "source": [
        "#### k-means çok sayıda örnek için yavaş olabilir!\n",
        "\n",
        "k-means'in her yinelemesinin veri kümesindeki her noktaya erişmesi gerektiğinden, örnek sayısı arttıkça algoritma nispeten yavaş olabilir.\n",
        "\n",
        "**Her yinelemede tüm verileri kullanma gereksiniminin azaltılıp azaltılmayacağını merak edebilirsiniz; örneğin, her adımda küme merkezlerini güncellemek için verilerin bir alt kümesini kullanmak bir yaklaşım olabilir.**\n",
        "\n",
        "Bu, bir biçimi \"sklearn.cluster.MiniBatchKMeans\" içinde uygulanan batch-based k-means algoritmasının arkasındaki fikirdir.\n"
      ]
    },
    {
      "cell_type": "markdown",
      "metadata": {
        "id": "QljBIPCcB8j8"
      },
      "source": [
        "## Örnekler\n",
        "\n",
        "Algoritmanın bu sınırlamalarına dikkat ederek, k-means'i çok farklı durumlarda avantajımıza kullanabiliriz.\n",
        "\n",
        "Şimdi birkaç örneğe göz atacağız."
      ]
    },
    {
      "cell_type": "markdown",
      "metadata": {
        "id": "zU_adlhtB8j8"
      },
      "source": [
        "### Example 1: Rakamlar üzerinde K-means\n",
        "\n",
        "K-means kullanarak benzer rakamları tanımlamaya çalışacağız (orijinal etiket bilgisini kullanmadan).\n",
        "\n",
        "Rakamları yükleyerek ve ardından ``KMeans`` kümelerini bularak başlayacağız.\n",
        "Rakamların 64 özelliğe sahip 1.797 örnekten oluştuğunu ve 64 özelliğin her birinin 8×8 görüntüdeki bir pikselin parlaklığıdır:\n"
      ]
    },
    {
      "cell_type": "code",
      "execution_count": null,
      "metadata": {
        "id": "-lSKrwNlB8j8"
      },
      "outputs": [],
      "source": [
        "from sklearn.datasets import load_digits\n",
        "digits = load_digits()\n",
        "digits.data.shape"
      ]
    },
    {
      "cell_type": "markdown",
      "metadata": {
        "id": "qBkARwtKB8j9"
      },
      "source": [
        "Kümeleme daha önce yaptığımız gibi gerçekleştirilebilir:"
      ]
    },
    {
      "cell_type": "code",
      "execution_count": null,
      "metadata": {
        "id": "E4y8LWA6B8j9"
      },
      "outputs": [],
      "source": [
        "kmeans = KMeans(n_clusters=10, random_state=0)\n",
        "clusters = kmeans.fit_predict(digits.data)\n",
        "kmeans.cluster_centers_.shape"
      ]
    },
    {
      "cell_type": "markdown",
      "metadata": {
        "id": "gMV2s8o4B8j-"
      },
      "source": [
        "Sonuç 64 boyutta 10 kümedir.\n",
        "Küme merkezlerinin kendilerinin 64 boyutlu noktalar olduğuna ve küme içindeki \"tipik\" sayılar olarak yorumlanabileceklerine dikkat edin.\n",
        "\n",
        "Bu küme merkezlerinin neye benzediğini görelim:"
      ]
    },
    {
      "cell_type": "code",
      "execution_count": null,
      "metadata": {
        "id": "nqDn193gB8j-"
      },
      "outputs": [],
      "source": [
        "fig, ax = plt.subplots(2, 5, figsize=(8, 3))\n",
        "\n",
        "centers = kmeans.cluster_centers_.reshape(10, 8, 8)\n",
        "\n",
        "for axi, center in zip(ax.flat, centers):\n",
        "    axi.set(xticks=[], yticks=[])\n",
        "    axi.imshow(center, interpolation='nearest', cmap=plt.cm.binary)"
      ]
    },
    {
      "cell_type": "markdown",
      "metadata": {
        "id": "ta2-HqSkB8j-"
      },
      "source": [
        "**Etiketler olmadan bile,** ``KMeans``in, belki 1 ve 8 hariç, merkezleri tanınabilir rakamlar olan kümeleri bulabildiğini görüyoruz.\n",
        "\n",
        "k-means, kümenin kimliği hakkında hiçbir şey bilmediğinden, 0-9 etiketlerine izin verilebilir. Bunu, öğrenilen her küme etiketini, içinde bulunan gerçek etiketlerle eşleştirerek düzeltebiliriz:\n"
      ]
    },
    {
      "cell_type": "code",
      "execution_count": null,
      "metadata": {
        "id": "4W_DZIjIB8j_"
      },
      "outputs": [],
      "source": [
        "from scipy.stats import mode\n",
        "\n",
        "labels = np.zeros_like(clusters)\n",
        "print(\"labels\", labels)\n",
        "for i in range(10):\n",
        "    mask = (clusters == i)\n",
        "    print(\"mask\",mask)\n",
        "    print(\"mask len\",len(mask))\n",
        "    print(digits.target[mask])\n",
        "    labels[mask] = mode(digits.target[mask])[0]"
      ]
    },
    {
      "cell_type": "markdown",
      "metadata": {
        "id": "01Xt8ukSB8j_"
      },
      "source": [
        "Artık denetimsiz kümelememizin veriler içinde benzer rakamları bulmada ne kadar doğru olduğunu kontrol edebiliriz:"
      ]
    },
    {
      "cell_type": "code",
      "execution_count": null,
      "metadata": {
        "id": "7l-vN0TNB8j_"
      },
      "outputs": [],
      "source": [
        "from sklearn.metrics import accuracy_score\n",
        "accuracy_score(digits.target, labels)"
      ]
    },
    {
      "cell_type": "markdown",
      "metadata": {
        "id": "ErN1VFF4B8j_"
      },
      "source": [
        "Yalnızca basit bir *k*-means algoritmasıyla, giriş basamaklarının %80'i için doğru gruplamayı keşfettik!\n",
        "Bunun için karışıklık matrisini kontrol edelim:"
      ]
    },
    {
      "cell_type": "code",
      "execution_count": null,
      "metadata": {
        "id": "SdnWgciVB8kA"
      },
      "outputs": [],
      "source": [
        "from sklearn.metrics import confusion_matrix\n",
        "\n",
        "mat = confusion_matrix(digits.target, labels)\n",
        "\n",
        "sns.heatmap(mat.T, square=True, annot=True, fmt='d', cbar=False,\n",
        "            xticklabels=digits.target_names,\n",
        "            yticklabels=digits.target_names)\n",
        "plt.xlabel('true label')\n",
        "plt.ylabel('predicted label');"
      ]
    },
    {
      "cell_type": "markdown",
      "metadata": {
        "id": "h0ozWWy_B8kA"
      },
      "source": [
        "Daha önce görselleştirdiğimiz küme merkezlerinden beklediğimiz gibi, asıl karışıklık noktası sekizler ve birler arasındadır.\n",
        "\n",
        "Ancak bu yine de k-means'i kullanarak, bilinen herhangi bir etikete  başvurmadan bir rakam sınıflandırıcıyı oluşturabileceğimizi gösteriyor!\n",
        "\n",
        "Sadece eğlence için, hadi bunu daha da ileri götürmeye çalışalım.\n",
        "k-means gerçekleştirmeden önce verileri önceden işlemek için t-SNE algoritmasını kullanabiliriz .\n",
        "\n",
        "t-SNE, kümeler içindeki noktaları korumada özellikle usta olan, doğrusal olmayan bir gömme algoritmasıdır.\n",
        "\n",
        "Nasıl olduğunu görelim:\n"
      ]
    },
    {
      "cell_type": "code",
      "execution_count": null,
      "metadata": {
        "id": "nDND8lyQB8kA"
      },
      "outputs": [],
      "source": [
        "from sklearn.manifold import TSNE\n",
        "\n",
        "# Project the data: this step will take several seconds\n",
        "tsne = TSNE(n_components=2, init='random', random_state=0)\n",
        "digits_proj = tsne.fit_transform(digits.data)\n",
        "\n",
        "# Compute the clusters\n",
        "kmeans = KMeans(n_clusters=10, random_state=0)\n",
        "clusters = kmeans.fit_predict(digits_proj)\n",
        "\n",
        "# Permute the labels\n",
        "labels = np.zeros_like(clusters)\n",
        "for i in range(10):\n",
        "    mask = (clusters == i)\n",
        "    labels[mask] = mode(digits.target[mask])[0]\n",
        "\n",
        "# Compute the accuracy\n",
        "accuracy_score(digits.target, labels)"
      ]
    },
    {
      "cell_type": "markdown",
      "metadata": {
        "id": "rfvd4ezkB8kB"
      },
      "source": [
        "Bu sonuç, etiketleri kullanmadan yaklaşık %92 sınıflandırma doğruluğu elde ettiğimizi göstermektedir.\n",
        "Bu, dikkatli kullanıldığında denetimsiz öğrenmenin gücünü net bir şekilde göstermektedir. Veri kümesinden elle veya gözle yapılması zor olabilecek bilgileri çıkarabildiğini görmüş olduk."
      ]
    },
    {
      "cell_type": "markdown",
      "metadata": {
        "id": "vAHOUblNB8kB"
      },
      "source": [
        "### Example 2: Renk sıkıştırması için K-means\n",
        "\n",
        "Kümelemenin ilginç bir uygulaması, resimlerdeki renk sıkıştırmasıdır.\n",
        "Örneğin, milyonlarca renge sahip bir görüntünüz olduğunu hayal edin.\n",
        "Çoğu görüntüde, çok sayıda renk kullanılmayacak ve görüntüdeki piksellerin çoğu benzer veya hatta aynı renklere sahip olacaktır.\n",
        "\n",
        "Örneğin, Scikit-Learn ``datasets`` modülünden gelen aşağıdaki şekilde gösterilen resmi düşünün."
      ]
    },
    {
      "cell_type": "code",
      "execution_count": null,
      "metadata": {
        "id": "YD4HdhkTB8kC"
      },
      "outputs": [],
      "source": [
        "# Note: this requires the ``pillow`` package to be installed\n",
        "from sklearn.datasets import load_sample_image\n",
        "china = load_sample_image(\"china.jpg\")\n",
        "ax = plt.axes(xticks=[], yticks=[])\n",
        "ax.imshow(china);"
      ]
    },
    {
      "cell_type": "markdown",
      "metadata": {
        "id": "WHSpqf4ZB8kC"
      },
      "source": [
        "Görüntünün kendisi, 0'dan 255'e kadar tamsayılar olarak kırmızı/mavi/yeşil katkıları içeren \"(yükseklik, genişlik, RGB)\" boyutunda üç boyutlu bir dizide saklanır:"
      ]
    },
    {
      "cell_type": "code",
      "execution_count": null,
      "metadata": {
        "id": "d8-9kj6RB8kD"
      },
      "outputs": [],
      "source": [
        "china.shape"
      ]
    },
    {
      "cell_type": "markdown",
      "metadata": {
        "id": "17m07-iEB8kD"
      },
      "source": [
        "Bu piksel kümesini görmemizin bir yolu, üç boyutlu bir renk uzayında bir nokta bulutu gibidir.\n",
        "Verileri ``[n_samples x n_features]`` şeklinde yeniden şekillendireceğiz ve renkleri 0 ile 1 arasında olacak şekilde yeniden ölçeklendireceğiz."
      ]
    },
    {
      "cell_type": "code",
      "execution_count": null,
      "metadata": {
        "id": "2JEunsvMB8kE"
      },
      "outputs": [],
      "source": [
        "data = china / 255.0 # use 0...1 scale\n",
        "data = data.reshape(427 * 640, 3)\n",
        "data.shape"
      ]
    },
    {
      "cell_type": "markdown",
      "metadata": {
        "id": "VaMKaKFzB8kE"
      },
      "source": [
        "Verimlilik için 10.000 piksellik bir alt küme kullanarak bu pikselleri bu renk uzayında görselleştirebiliriz:"
      ]
    },
    {
      "cell_type": "code",
      "execution_count": null,
      "metadata": {
        "id": "zNyoy7zHB8kE"
      },
      "outputs": [],
      "source": [
        "def plot_pixels(data, title, colors=None, N=10000):\n",
        "    if colors is None:\n",
        "        colors = data\n",
        "    \n",
        "    # choose a random subset\n",
        "    rng = np.random.RandomState(0)\n",
        "    i = rng.permutation(data.shape[0])[:N]\n",
        "    colors = colors[i]\n",
        "    R, G, B = data[i].T\n",
        "    \n",
        "    fig, ax = plt.subplots(1, 2, figsize=(16, 6))\n",
        "    ax[0].scatter(R, G, color=colors, marker='.')\n",
        "    ax[0].set(xlabel='Red', ylabel='Green', xlim=(0, 1), ylim=(0, 1))\n",
        "\n",
        "    ax[1].scatter(R, B, color=colors, marker='.')\n",
        "    ax[1].set(xlabel='Red', ylabel='Blue', xlim=(0, 1), ylim=(0, 1))\n",
        "\n",
        "    fig.suptitle(title, size=20);"
      ]
    },
    {
      "cell_type": "code",
      "execution_count": null,
      "metadata": {
        "id": "h11LL203B8kF"
      },
      "outputs": [],
      "source": [
        "plot_pixels(data, title='Girdi renk alanı: 16 milyon olası renk')"
      ]
    },
    {
      "cell_type": "markdown",
      "metadata": {
        "id": "qdNW-2Y7B8kF"
      },
      "source": [
        "Şimdi piksel alanı boyunca bir k-means kümeleme kullanarak bu 16 milyon rengi yalnızca 16 renge indirgeyelim.\n",
        "\n",
        "Çok büyük bir veri kümesiyle uğraştığımız için, sonucu standart k-means algoritmasından çok daha hızlı hesaplamak için verilerin alt kümeleri üzerinde çalışan mini-batch k-means'i kullanacağız:\n"
      ]
    },
    {
      "cell_type": "code",
      "execution_count": null,
      "metadata": {
        "id": "4aM7JCv7B8kG"
      },
      "outputs": [],
      "source": [
        "import warnings\n",
        "warnings.simplefilter('ignore')  # Fix NumPy issues.\n",
        "\n",
        "from sklearn.cluster import MiniBatchKMeans\n",
        "\n",
        "kmeans = MiniBatchKMeans(16)\n",
        "kmeans.fit(data)\n",
        "new_colors = kmeans.cluster_centers_[kmeans.predict(data)]\n",
        "\n",
        "plot_pixels(data, colors=new_colors,\n",
        "            title=\"Azaltılmış renk alanı: 16 renk\")"
      ]
    },
    {
      "cell_type": "markdown",
      "metadata": {
        "id": "sDJMZy2eB8kH"
      },
      "source": [
        "Sonuç, her piksele en yakın küme merkezinin renginin atandığı orijinal piksellerin yeniden renklendirilmesidir.\n"
      ]
    },
    {
      "cell_type": "code",
      "execution_count": null,
      "metadata": {
        "id": "6oPIwE47B8kH"
      },
      "outputs": [],
      "source": [
        "china_recolored = new_colors.reshape(china.shape)\n",
        "\n",
        "fig, ax = plt.subplots(1, 2, figsize=(16, 6),\n",
        "                       subplot_kw=dict(xticks=[], yticks=[]))\n",
        "fig.subplots_adjust(wspace=0.05)\n",
        "\n",
        "ax[0].imshow(china)\n",
        "ax[0].set_title('Original Image', size=16)\n",
        "\n",
        "ax[1].imshow(china_recolored)\n",
        "ax[1].set_title('16-color Image', size=16);"
      ]
    },
    {
      "cell_type": "markdown",
      "metadata": {
        "id": "17e3UTQ0B8kH"
      },
      "source": [
        "Sağdaki görselde bazı ayrıntılar kesinlikle kayboluyor, ancak genel görüntü hala kolayca tanınabilir.\n",
        "\n",
        "Sağdaki bu görüntü, yaklaşık 1 milyonluk bir sıkıştırma faktörüne ulaşıyor!\n",
        "\n",
        "Bu k-means'in ilginç bir uygulaması olsa da, görüntülerdeki bilgileri sıkıştırmanın kesinlikle daha iyi yolları var.\n"
      ]
    }
  ],
  "metadata": {
    "anaconda-cloud": {},
    "kernelspec": {
      "display_name": "Python 3",
      "language": "python",
      "name": "python3"
    },
    "language_info": {
      "codemirror_mode": {
        "name": "ipython",
        "version": 3
      },
      "file_extension": ".py",
      "mimetype": "text/x-python",
      "name": "python",
      "nbconvert_exporter": "python",
      "pygments_lexer": "ipython3",
      "version": "3.5.1"
    },
    "colab": {
      "name": "Day8_UnsupervisedLearning_kMeans_Demo0.ipynb",
      "provenance": [],
      "collapsed_sections": []
    }
  },
  "nbformat": 4,
  "nbformat_minor": 0
}