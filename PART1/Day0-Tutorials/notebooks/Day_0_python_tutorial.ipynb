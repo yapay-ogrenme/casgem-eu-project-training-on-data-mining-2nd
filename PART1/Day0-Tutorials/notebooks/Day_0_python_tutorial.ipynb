{
  "cells": [
    {
      "cell_type": "markdown",
      "metadata": {
        "id": "KRWMIJYz675W"
      },
      "source": [
        "## Python Temelleri"
      ]
    },
    {
      "cell_type": "markdown",
      "metadata": {
        "id": "ExKZ_5fK675m"
      },
      "source": [
        "### Python Versiyon Kontrolü"
      ]
    },
    {
      "cell_type": "markdown",
      "metadata": {
        "id": "FFIeK5PM675o"
      },
      "source": [
        "Python 2 ve 3 olmak üzere iki temel sürüm mevcuttur. Kullandığınız Python sürümünü öğrenmek için komut satırından `python --version` komutunu çalıştırabilirsiniz."
      ]
    },
    {
      "cell_type": "code",
      "execution_count": null,
      "metadata": {
        "id": "rXV303cXX8jB"
      },
      "outputs": [],
      "source": [
        "!python --version"
      ]
    },
    {
      "cell_type": "markdown",
      "metadata": {
        "id": "-pMfRSmzX8jD"
      },
      "source": [
        "### Yorum Satırları\n",
        "\n",
        "Yorum satırları derleme aşamasında (kodların çalıştırılıp çıkış üretilmesi) dikkate alınmaz.\n",
        "\n",
        "Aşağıdaki hücreyi çalıştırdığınızda satırın başında `#` işareti olduğu için **çıktı olarak bir şey göremezsiniz**. "
      ]
    },
    {
      "cell_type": "code",
      "execution_count": null,
      "metadata": {
        "id": "Hmh8OssnX8jH"
      },
      "outputs": [],
      "source": [
        "# TEK YORUM SATIRI"
      ]
    },
    {
      "cell_type": "markdown",
      "metadata": {
        "id": "xPjYdymbX8jI"
      },
      "source": [
        "### Ekrana Yazdırma (print)\n",
        "\n",
        "`print()` fonksiyonu ile ekrana yazdırma işlemlerini yaparız. Ayrıca `type()` ile _verinin tipini_, `len()` ile _verinin uzunluğunu_ görebiliriz."
      ]
    },
    {
      "cell_type": "code",
      "execution_count": null,
      "metadata": {
        "id": "nkzUdCouX8jJ"
      },
      "outputs": [],
      "source": [
        "# TEK YORUM SATIRI\n",
        "\n",
        "\"\"\"\n",
        "Her \n",
        "Satıra\n",
        "# İşareti\n",
        "Yazmak \n",
        "Yerine\n",
        "Üç \n",
        "Tırnak\n",
        "İşareti\n",
        "İle\n",
        "Birden\n",
        "Fazla\n",
        "Yorum \n",
        "Satırı\n",
        "Oluşturabilirsiniz\n",
        "\"\"\"\n",
        "\n",
        "merhaba = \"Merhaba\"\n",
        "\n",
        "print(\"Merhaba\") # Ekrana yazdırma\n",
        "print(merhaba) # Ekrana değişken yazdırma\n",
        "print(\"{}\".format(merhaba)) # .format() ile ekrana değişken yazdırma\n",
        "print(\"{} {}\".format(merhaba, merhaba)) # .format() ile ekrana iki değişken yazdırma\n",
        "\n",
        "print(type(merhaba)) # Veri tipi yazdırma\n",
        "print(len(merhaba)) # Uzunluk yazdırma\n",
        "\n",
        "print(merhaba[0]) # ilk harfi yazdırma\n",
        "print(merhaba[1]) # ikinci harfi yazdırma\n",
        "print(merhaba[4]) # beşinci harfi yazdırma"
      ]
    },
    {
      "cell_type": "markdown",
      "metadata": {
        "id": "8Tgp9r2nX8jL"
      },
      "source": [
        "### İpucu Fonksiyonları\n",
        "\n",
        "Bütün fonksiyonları ve fonksiyon parametrelerini ezberlemek zorunda değilsiniz. `help(fonksiyon_adi)` kullanmanızı tavsiye ederim."
      ]
    },
    {
      "cell_type": "code",
      "execution_count": null,
      "metadata": {
        "id": "1mNaYgC4X8jM"
      },
      "outputs": [],
      "source": [
        "help(len)"
      ]
    },
    {
      "cell_type": "markdown",
      "metadata": {
        "id": "9Kn8t4LM675p"
      },
      "source": [
        "### Temel Veri Tipleri"
      ]
    },
    {
      "cell_type": "markdown",
      "metadata": {
        "id": "8Fr6B1Rq675r"
      },
      "source": [
        "#### Sayılar"
      ]
    },
    {
      "cell_type": "markdown",
      "metadata": {
        "id": "CQ2yrZ3D675x"
      },
      "source": [
        "Tam ve ondalıklı sayılar diğer programlama dillerinde olduğu gibi tanımlanmaktadır. "
      ]
    },
    {
      "cell_type": "code",
      "execution_count": null,
      "metadata": {
        "id": "KJbY-fBi675y"
      },
      "outputs": [],
      "source": [
        "x = 3\n",
        "\n",
        "print(x) # x'i ekrana yazdırma\n",
        "print(type(x)) # x'in veri tipini ekrana yazdırma\n",
        "print (x, type(x)) # her ikisini birden ekrana yazdırma"
      ]
    },
    {
      "cell_type": "code",
      "execution_count": null,
      "metadata": {
        "id": "FpnT7z6S6759"
      },
      "outputs": [],
      "source": [
        "print (x + 1)   # toplama\n",
        "print (x - 1)   # çıkarma\n",
        "print (x * 2)   # çarpma\n",
        "print (x ** 2)  # üs alma"
      ]
    },
    {
      "cell_type": "code",
      "execution_count": null,
      "metadata": {
        "id": "GaHrJDRH676E"
      },
      "outputs": [],
      "source": [
        "x += 1 # x = x + 1 yerine\n",
        "print (x) # x'in eski değeri 3, yeni değeri 4 (x + 1)\n",
        "\n",
        "x *= 2 # x = x * 2 yerine\n",
        "print (x) # x'in eski değeri 4, yeni değeri 8 (x * 2) "
      ]
    },
    {
      "cell_type": "code",
      "execution_count": null,
      "metadata": {
        "id": "NGQOOi0e676K"
      },
      "outputs": [],
      "source": [
        "y = 2.5\n",
        "print (type(y)) # \"<class 'float'>\"\n",
        "print (y, y + 1, y * 2, y ** 2) # \"2.5 3.5 5.0 6.25\""
      ]
    },
    {
      "cell_type": "markdown",
      "metadata": {
        "id": "BfheGx_e676Q"
      },
      "source": [
        "**İPUCU**: Diğer programlama dillerinin aksine Python'da tekli artış (x++) ya da azalış (x--) operatörü yoktur. "
      ]
    },
    {
      "cell_type": "markdown",
      "metadata": {
        "id": "PTAHQLZT676R"
      },
      "source": [
        "#### Mantıksal Veriler (Booleans)"
      ]
    },
    {
      "cell_type": "markdown",
      "metadata": {
        "id": "dTyMhUTK676T"
      },
      "source": [
        "Python'da Boole cebri için `&&` ve `||` gibi semboller yerine `and`, `or` ve `not` gibi İngilizce kelimeler kullanılmaktadır."
      ]
    },
    {
      "cell_type": "code",
      "execution_count": null,
      "metadata": {
        "id": "VGJk8-Gi676U"
      },
      "outputs": [],
      "source": [
        "t, f = True, False\n",
        "print (type(t)) # Ekrana \"<type 'bool'>\" yazdırır"
      ]
    },
    {
      "cell_type": "markdown",
      "metadata": {
        "id": "43moWQ8M676e"
      },
      "source": [
        "Temel mantık işlemleri:"
      ]
    },
    {
      "cell_type": "code",
      "execution_count": null,
      "metadata": {
        "id": "xExtk_2a676f"
      },
      "outputs": [],
      "source": [
        "print (t and f) # Mantıksal AND;\n",
        "print (t or f)  # Mantıksal OR;\n",
        "print (not t)   # Mantıksal NOT;\n",
        "print (t != f)  # Mantıksal XOR;"
      ]
    },
    {
      "cell_type": "markdown",
      "metadata": {
        "id": "NNuBO6bO676k"
      },
      "source": [
        "#### Karakter Dizileri (Strings)"
      ]
    },
    {
      "cell_type": "code",
      "execution_count": null,
      "metadata": {
        "id": "_55-i1qT676l"
      },
      "outputs": [],
      "source": [
        "merhaba = 'merhaba' # tek tırnak da kullanılabilir\n",
        "dunya = \"dünya\" # çift tırnak da\n",
        "\n",
        "print(merhaba) # \"merhaba\" yazdırır\n",
        "print(len(merhaba)) # \"merhaba\" da kaç karakter olduğunu yazdırır\n",
        "print (merhaba, len(merhaba)) # ikisi birlikte\n",
        "# print (merhaba + len(merhaba)) # HATA VERECEK!\n",
        "print (merhaba + str(len(merhaba))) # sayıyı str() fonksiyonu ile string'e çevirelim"
      ]
    },
    {
      "cell_type": "code",
      "execution_count": null,
      "metadata": {
        "id": "zNR4Eoeq6761"
      },
      "outputs": [],
      "source": [
        "m7 = '%s %d' % (merhaba, len(merhaba))  # önce veri tipi sonra değişkenler tanımlanabilir\n",
        "print (m7)  # ekrana \"merhaba 7\" yazdırır"
      ]
    },
    {
      "cell_type": "code",
      "execution_count": null,
      "metadata": {
        "id": "LxKA1i9B676p"
      },
      "outputs": [],
      "source": [
        "myz = \"merhaba\" + ' ' + \"yapay\" + ' ' + 'zeka'  # string birleştirme\n",
        "print (myz)  # ekrana \"merhaba yapay zeka\" yazdırır"
      ]
    },
    {
      "cell_type": "code",
      "execution_count": null,
      "metadata": {
        "id": "uolhdhxK677J"
      },
      "outputs": [],
      "source": [
        "kelime = \"yapay zeka\"\n",
        "print (kelime.capitalize())  # İlk harf büyük \"Yapay zeka\"\n",
        "print (kelime.upper())       # Hepsi büyük \"YAPAY ZEKA\"\n",
        "print (kelime.rjust(15))     # Sağa yasla\n",
        "print (kelime.center(15))    # Merkeze ortala\n",
        "print (kelime.replace('zeka', 'öğrenme')) \n",
        "print ('        yapay zeka eğitimi'.strip())  # boşlukları silmek için strip() kullanılır"
      ]
    },
    {
      "cell_type": "markdown",
      "metadata": {
        "id": "LlV-c6Eg677S"
      },
      "source": [
        "Listelerle ilgili daha fazla bilgi için [dokümanına](https://docs.python.org/3/library/string.html) bakabilirsiniz."
      ]
    },
    {
      "cell_type": "markdown",
      "metadata": {
        "id": "DuAK2VqV677V"
      },
      "source": [
        "#### Listeler"
      ]
    },
    {
      "cell_type": "markdown",
      "metadata": {
        "id": "LEX0Q940677W"
      },
      "source": [
        "Python'da yer alan listeler yeniden boyutlandırılabilir ve farklı tipte veri tiplerini saklayabilir.\n",
        "\n",
        "**İPUCU**: Listelerin ilk elemanlarının indisi 1 değil 0'dır. Yani `liste[1]` listenin ikinci elemanını belirtmektedir. Listenin en son elemanının indisi ise **-1**'dir "
      ]
    },
    {
      "cell_type": "code",
      "execution_count": null,
      "metadata": {
        "id": "LwjhSVUv677Z"
      },
      "outputs": [],
      "source": [
        "listemiz = [3, 1, 2, 3] # Liste oluşturma\n",
        "\n",
        "print (listemiz) # Listenin tamamını ekrana yazdıralım\n",
        "\n",
        "print (listemiz[0]) #Listenin ilk elemanını yazdıralım\n",
        "print (listemiz[1]) #Listenin ikinci elemanını yazdıralım\n",
        "\n",
        "print (listemiz[-1]) #Listenin son elemanının yazdıralım\n",
        "print (listemiz[-3]) #Listenin sondan iki önceki elemanının yazdıralım"
      ]
    },
    {
      "cell_type": "code",
      "execution_count": null,
      "metadata": {
        "id": "GZ0e_bgn677d"
      },
      "outputs": [],
      "source": [
        "listemiz[2] = 'yapay' # Listelerde farklı veri tipleri tutulabilir\n",
        "\n",
        "print (listemiz)"
      ]
    },
    {
      "cell_type": "markdown",
      "metadata": {
        "id": "ox6fXSAsX8jf"
      },
      "source": [
        "`.append()` ile listenin sonuna ekleme yapabiliriz."
      ]
    },
    {
      "cell_type": "code",
      "execution_count": null,
      "metadata": {
        "id": "PqQ1-vCT677h"
      },
      "outputs": [],
      "source": [
        "listemiz.append('zeka') # Listenin en sonuna `append` ile veri eklenebilir\n",
        "\n",
        "print (listemiz)  "
      ]
    },
    {
      "cell_type": "markdown",
      "metadata": {
        "id": "RMA01_F9X8jg"
      },
      "source": [
        "`.pop()` ile listenin son elemanını atabiliriz."
      ]
    },
    {
      "cell_type": "code",
      "execution_count": null,
      "metadata": {
        "id": "oVOWz4mo677k"
      },
      "outputs": [],
      "source": [
        "son_eleman = listemiz.pop() # Listenin son elemanını at ve atılan elamenı ekrana yazdır\n",
        "\n",
        "print(son_eleman)\n",
        "print(listemiz)"
      ]
    },
    {
      "cell_type": "markdown",
      "metadata": {
        "id": "1U7zi9QlX8jh"
      },
      "source": [
        "`.index()` ile kontrol edilen elemanın listedeki indisini görebiliriz."
      ]
    },
    {
      "cell_type": "code",
      "execution_count": null,
      "metadata": {
        "id": "7FqJkckjX8jh"
      },
      "outputs": [],
      "source": [
        "listemiz.index('yapay')"
      ]
    },
    {
      "cell_type": "markdown",
      "metadata": {
        "id": "Bc2nFpoAX8jh"
      },
      "source": [
        "`.count()` ile kontrol edilen elemandan listede kaç tane olduğunu görebiliriz."
      ]
    },
    {
      "cell_type": "code",
      "execution_count": null,
      "metadata": {
        "id": "j6ANsvITX8ji"
      },
      "outputs": [],
      "source": [
        "listemiz.count(3)"
      ]
    },
    {
      "cell_type": "markdown",
      "metadata": {
        "id": "2a5tle03X8ji"
      },
      "source": [
        "`.remove()` ile istediğimiz bir elemanı listeden silebiliriz."
      ]
    },
    {
      "cell_type": "code",
      "execution_count": null,
      "metadata": {
        "id": "v_J9COyAX8jj"
      },
      "outputs": [],
      "source": [
        "listemiz.remove('yapay')\n",
        "print(listemiz)"
      ]
    },
    {
      "cell_type": "markdown",
      "metadata": {
        "id": "YdELQty7X8jj"
      },
      "source": [
        "`.sort()` ile listeyi sıralayabiliriz."
      ]
    },
    {
      "cell_type": "code",
      "execution_count": null,
      "metadata": {
        "id": "3xh_Rt-TX8jk"
      },
      "outputs": [],
      "source": [
        "listemiz.sort()\n",
        "listemiz"
      ]
    },
    {
      "cell_type": "markdown",
      "metadata": {
        "id": "koL5Gds6X8jm"
      },
      "source": [
        "`.reverse()` ile listeyi tersine çevirebiliriz."
      ]
    },
    {
      "cell_type": "code",
      "execution_count": null,
      "metadata": {
        "id": "-c01s-LnX8jn"
      },
      "outputs": [],
      "source": [
        "listemiz.reverse()\n",
        "listemiz"
      ]
    },
    {
      "cell_type": "markdown",
      "metadata": {
        "id": "_PQgtOziX8jn"
      },
      "source": [
        "`.extend()` ile listenin sonuna başka bir bir listeyi ekleyebiliriz."
      ]
    },
    {
      "cell_type": "code",
      "execution_count": null,
      "metadata": {
        "id": "iLcLp4B2X8jo"
      },
      "outputs": [],
      "source": [
        "ek_liste = [1, 11, 111, 1111]\n",
        "listemiz.extend(ek_liste)\n",
        "listemiz"
      ]
    },
    {
      "cell_type": "markdown",
      "metadata": {
        "id": "IK3rI3ePX8jp"
      },
      "source": [
        "`.copy()` ile listemizi başka bir listeye kopyalayabiliriz."
      ]
    },
    {
      "cell_type": "code",
      "execution_count": null,
      "metadata": {
        "id": "GO_DovfXX8jp"
      },
      "outputs": [],
      "source": [
        "yeni_liste = listemiz.copy()\n",
        "yeni_liste"
      ]
    },
    {
      "cell_type": "markdown",
      "metadata": {
        "id": "7uqSqTRDX8jp"
      },
      "source": [
        "`.insert()` ile listemizin istediğimiz bir indisine eleman ekleyebiliriz."
      ]
    },
    {
      "cell_type": "code",
      "execution_count": null,
      "metadata": {
        "id": "SMnEDsuhX8jq"
      },
      "outputs": [],
      "source": [
        "yeni_liste.insert(5,555) # 5. indise 555 ekle\n",
        "yeni_liste"
      ]
    },
    {
      "cell_type": "markdown",
      "metadata": {
        "id": "boX5jXxaX8jr"
      },
      "source": [
        "`.clear()` ile listemizin içini boşaltabiliriz."
      ]
    },
    {
      "cell_type": "code",
      "execution_count": null,
      "metadata": {
        "id": "cJuOJxNyX8jr"
      },
      "outputs": [],
      "source": [
        "yeni_liste.clear()\n",
        "yeni_liste"
      ]
    },
    {
      "cell_type": "markdown",
      "metadata": {
        "id": "mGpcOZPC677p"
      },
      "source": [
        "#### Dilimleme (Slicing)"
      ]
    },
    {
      "cell_type": "markdown",
      "metadata": {
        "id": "S9tH5dNh677p"
      },
      "source": [
        "Liste elemamanlarına dilimleme yöntemi ile de ulaşabiliriz."
      ]
    },
    {
      "cell_type": "code",
      "execution_count": null,
      "metadata": {
        "id": "Uzj9L69y677q"
      },
      "outputs": [],
      "source": [
        "sayilar = list(range(5)) # Python'da ön-tanımlı 'range' fonksiyonu ile 0'dan 5'e kadar (5 hariç) tam sayı listesi oluşturalım\n",
        "print (sayilar)          # Listenin tamamını yazdıralım = \"[0, 1, 2, 3, 4]\" \n",
        "print (sayilar[2:4])     # Listenin 2. indisinden 4. indisine kadar olan dilimini yazdıralım = \"[2, 3]\"\n",
        "print (sayilar[2:])      # Listenin 2. indisinden en sona kadar olan dilimini yazdıralım = \"[2, 3, 4]\"\n",
        "print (sayilar[:2])      # Listenin en baştan 2. indise kadar olan dilimini yazdıralım =  \"[0, 1]\"\n",
        "print (sayilar[:])       # Listenin tamanını dilim olarak yazdıralım = [\"0, 1, 2, 3, 4]\"\n",
        "\n",
        "\n",
        "# Liste indisleri negatif olabilir. -1 listenin son elemanını verdiğinden, \n",
        "# en baştan listenin son elemanına kadar olan dilimi yazdıralım: \n",
        "print (sayilar[:-1])     \n",
        "\n",
        "sayilar[2:4] = [8, 9]    # Dilime yeni bir alt liste atayalım\n",
        "print (sayilar)          # Listenin yeni hali = \"[0, 1, 8, 9, 4]\""
      ]
    },
    {
      "cell_type": "markdown",
      "metadata": {
        "id": "e7kQtwzD677t"
      },
      "source": [
        "#### Döngüler"
      ]
    },
    {
      "cell_type": "markdown",
      "metadata": {
        "id": "rh9ae6_6677u"
      },
      "source": [
        "Liste elemanlarına döngü yardımıyla şu şekilde ulaşılabilir:"
      ]
    },
    {
      "cell_type": "code",
      "execution_count": null,
      "metadata": {
        "id": "AK_BEniw677u"
      },
      "outputs": [],
      "source": [
        "iller = ['istanbul', 'ankara', 'izmir', 'malatya']\n",
        "\n",
        "for il in iller:\n",
        "    print (il)"
      ]
    },
    {
      "cell_type": "markdown",
      "metadata": {
        "id": "gvLSrDBH677y"
      },
      "source": [
        "Döngü içerisinde her bir liste elemanının indeks değerine ulaşmak için `enumerate` fonksiyonunu kullanabilirsiniz."
      ]
    },
    {
      "cell_type": "code",
      "execution_count": null,
      "metadata": {
        "id": "8RBEpUQ9677y"
      },
      "outputs": [],
      "source": [
        "iller = ['İstanbul', 'Ankara', 'İzmir', 'Malatya']\n",
        "\n",
        "for sira, iller in enumerate(iller):\n",
        "    print ('%d: %s' % (sira + 1, iller))"
      ]
    },
    {
      "cell_type": "markdown",
      "metadata": {
        "id": "Ocd32EpLX8ju"
      },
      "source": [
        "`range()` fonksiyonu ile belirli bir aralık tanımlayabiliriz."
      ]
    },
    {
      "cell_type": "code",
      "execution_count": null,
      "metadata": {
        "id": "5ZzDs2VxX8ju"
      },
      "outputs": [],
      "source": [
        "for sayi in range(1,11):\n",
        "    print (sayi)"
      ]
    },
    {
      "cell_type": "code",
      "execution_count": null,
      "metadata": {
        "id": "vw9LUfzGX8jv"
      },
      "outputs": [],
      "source": [
        "for harf in 'Yapay Zeka':\n",
        "    print(harf)"
      ]
    },
    {
      "cell_type": "code",
      "execution_count": null,
      "metadata": {
        "id": "lus2oWIYX8jv"
      },
      "outputs": [],
      "source": [
        "for kelime in \"Yapay Zeka\".split():\n",
        "    print(kelime)"
      ]
    },
    {
      "cell_type": "markdown",
      "metadata": {
        "id": "UtYuRtNI6772"
      },
      "source": [
        "#### Listeler Arası Dönüşüm\n",
        "\n",
        "Liste elemanlarının tamamı üzerinde işlemler yapabiliriz."
      ]
    },
    {
      "cell_type": "markdown",
      "metadata": {
        "id": "AogK5M5IX8jw"
      },
      "source": [
        "#### Listenin Karesini Alma"
      ]
    },
    {
      "cell_type": "code",
      "execution_count": null,
      "metadata": {
        "id": "1q8uHGAM6773"
      },
      "outputs": [],
      "source": [
        "rakamlar = [0, 1, 2, 3, 4, 5, 6, 7]\n",
        "kareler = []\n",
        "\n",
        "for rakam in rakamlar:\n",
        "    kareler.append(rakam ** 2) # append ile sona ekleme yapıyoruz.\n",
        "\n",
        "print (kareler)"
      ]
    },
    {
      "cell_type": "markdown",
      "metadata": {
        "id": "x-dS_UuH6779"
      },
      "source": [
        "Bu işlemi şu şekilde de kolaylıkla yapabiliriz."
      ]
    },
    {
      "cell_type": "code",
      "execution_count": null,
      "metadata": {
        "id": "nPBWO8YS678D"
      },
      "outputs": [],
      "source": [
        "rakamlar = [0, 1, 2, 3, 4, 5, 6, 7]\n",
        "kareler = [rakam ** 2 \n",
        "           for rakam in rakamlar]\n",
        "\n",
        "print (kareler)"
      ]
    },
    {
      "cell_type": "markdown",
      "metadata": {
        "id": "wzcqae6s678H"
      },
      "source": [
        "Listeler arası dönüşüm yaparken koşul da ekleyebiliriz."
      ]
    },
    {
      "cell_type": "code",
      "execution_count": null,
      "metadata": {
        "id": "HEef47F7678H"
      },
      "outputs": [],
      "source": [
        "rakamlar = [0, 1, 2, 3, 4, 5, 6, 7]\n",
        "\n",
        "cift_kareler = [rakam ** 2 \n",
        "                for rakam in rakamlar \n",
        "                if rakam % 2 == 0]\n",
        "tek_kareler = [rakam ** 2 \n",
        "               for rakam in rakamlar \n",
        "               if rakam % 2 == 1]\n",
        "\n",
        "print (cift_kareler)\n",
        "print (tek_kareler)"
      ]
    },
    {
      "cell_type": "markdown",
      "metadata": {
        "id": "tG3_V2gAX8jy"
      },
      "source": [
        "#### Listenin Elemanlarını Toplama"
      ]
    },
    {
      "cell_type": "code",
      "execution_count": null,
      "metadata": {
        "id": "3WR8AUr6X8jy"
      },
      "outputs": [],
      "source": [
        "liste = [5,2,4,2,45,25]\n",
        "liste"
      ]
    },
    {
      "cell_type": "markdown",
      "metadata": {
        "id": "4KRP2usuX8jz"
      },
      "source": [
        "**for döngüsü** ile liste elemanlarında tek tek gezip toplayabiliriz."
      ]
    },
    {
      "cell_type": "code",
      "execution_count": null,
      "metadata": {
        "id": "dWhGIhDfX8jz"
      },
      "outputs": [],
      "source": [
        "toplam = 0 \n",
        "\n",
        "for sayi in liste:\n",
        "    toplam = toplam + sayi\n",
        "\n",
        "print(toplam)"
      ]
    },
    {
      "cell_type": "markdown",
      "metadata": {
        "id": "m09WAYCAX8jz"
      },
      "source": [
        "`sum()` ile daha kolay bir şekilde listenin elemanlarını toplayabiliriz."
      ]
    },
    {
      "cell_type": "code",
      "execution_count": null,
      "metadata": {
        "id": "G6aKEkEHX8jz"
      },
      "outputs": [],
      "source": [
        "sum(liste)"
      ]
    },
    {
      "cell_type": "code",
      "execution_count": null,
      "metadata": {
        "id": "46bA6_kfX8j0"
      },
      "outputs": [],
      "source": [
        "liste"
      ]
    },
    {
      "cell_type": "markdown",
      "metadata": {
        "id": "DPqMDYTTX8j1"
      },
      "source": [
        "Yalnızca belir bir koşulu sağlayan elemanları toplamak istersek **while döngüsü** kullabiliriz. Örneğin listenin **ilk dört elemanını** toplayalım."
      ]
    },
    {
      "cell_type": "code",
      "execution_count": null,
      "metadata": {
        "id": "lZL4_LUpX8j1"
      },
      "outputs": [],
      "source": [
        "toplam = 0\n",
        "i = 0\n",
        "\n",
        "while (i<4):\n",
        "    toplam = toplam + liste[i]\n",
        "    i = i + 1\n",
        "\n",
        "print(toplam)"
      ]
    },
    {
      "cell_type": "markdown",
      "metadata": {
        "id": "DHcDBWMDX8j2"
      },
      "source": [
        "#### Listenin En Büyük Elemanını Bulma"
      ]
    },
    {
      "cell_type": "code",
      "execution_count": null,
      "metadata": {
        "id": "z6telyryX8j2"
      },
      "outputs": [],
      "source": [
        "liste = [5,2,4,2,45,25]\n",
        "liste"
      ]
    },
    {
      "cell_type": "code",
      "execution_count": null,
      "metadata": {
        "id": "gH8g3RkdX8j3"
      },
      "outputs": [],
      "source": [
        "en_buyuk = liste[0]\n",
        "\n",
        "for eleman in liste:\n",
        "    if eleman>en_buyuk:\n",
        "        en_buyuk = eleman\n",
        "\n",
        "print(en_buyuk)"
      ]
    },
    {
      "cell_type": "markdown",
      "metadata": {
        "id": "LaNwQCYW678K"
      },
      "source": [
        "#### Sözlükler"
      ]
    },
    {
      "cell_type": "markdown",
      "metadata": {
        "id": "PfzxddFc678L"
      },
      "source": [
        "Bir Python sözlüğünde anahtar (`key`) ve değer (`value`) saklanmaktadır."
      ]
    },
    {
      "cell_type": "code",
      "execution_count": null,
      "metadata": {
        "id": "6XXH3Mcb678L"
      },
      "outputs": [],
      "source": [
        "meshur = {'Kayseri': 'Mantı', 'Amasya': 'Elma', 'Malatya': 'Kayısı'}  # Sözlük oluşturalım"
      ]
    },
    {
      "cell_type": "markdown",
      "metadata": {
        "id": "LvC3h09YX8j4"
      },
      "source": [
        "`.keys()` ile sözlüğümüzün anahtarlarını yazdırabiliriz."
      ]
    },
    {
      "cell_type": "code",
      "execution_count": null,
      "metadata": {
        "id": "dU-vLvkpX8j4"
      },
      "outputs": [],
      "source": [
        "meshur.keys()"
      ]
    },
    {
      "cell_type": "markdown",
      "metadata": {
        "id": "Zq8FtbNxX8j5"
      },
      "source": [
        "`.values()` ile sözlüğümüzün değerlerini yazdırabiliriz."
      ]
    },
    {
      "cell_type": "code",
      "execution_count": null,
      "metadata": {
        "id": "rvSjuyz_X8j7"
      },
      "outputs": [],
      "source": [
        "meshur.values()"
      ]
    },
    {
      "cell_type": "markdown",
      "metadata": {
        "id": "_LIHglTMX8j7"
      },
      "source": [
        "`.items()` ile sözlüğümüzün **tüm** `key` ve `value` değerlerini yazdırabiliriz."
      ]
    },
    {
      "cell_type": "code",
      "execution_count": null,
      "metadata": {
        "id": "3snhYC-GX8j8"
      },
      "outputs": [],
      "source": [
        "meshur.items()"
      ]
    },
    {
      "cell_type": "code",
      "execution_count": null,
      "metadata": {
        "id": "JM7QE0QIX8j9"
      },
      "outputs": [],
      "source": [
        "print (meshur['Malatya']) # \"Malatya\" anahtar değerine ait değer ekrana yazdırılır.\n",
        "print ('Amasya' in meshur) # \"Amasya\" anahtar değeri sözlüğümüzde varsa \"True\" döndürür. "
      ]
    },
    {
      "cell_type": "code",
      "execution_count": null,
      "metadata": {
        "id": "w2_b3pJC678P"
      },
      "outputs": [],
      "source": [
        "meshur['İstanbul'] = 'Trafik' # Sözlüğe yeni bir girdi ekleyelim.\n",
        "meshur"
      ]
    },
    {
      "cell_type": "code",
      "execution_count": null,
      "metadata": {
        "id": "XU5bDAtA678S"
      },
      "outputs": [],
      "source": [
        "#print (meshur['Ankara'])  # KeyError: 'Ankara' not a key of d\n",
        "\n",
        "# Ankara diye bir anahtar değerimiz olmadığı için hata verir!"
      ]
    },
    {
      "cell_type": "markdown",
      "metadata": {
        "id": "q687s0_5X8j9"
      },
      "source": [
        "Sözlüğün içinde bir değer varsa onu getirmesini, yoksa N/A versin istiyorsak `get` yöntemini kullanabiliriz."
      ]
    },
    {
      "cell_type": "code",
      "execution_count": null,
      "metadata": {
        "id": "X5ldIT_o678V"
      },
      "outputs": [],
      "source": [
        "print (meshur.get('Ankara', 'N/A')) # \"N/A\" döndürür\n",
        "print (meshur.get('Amasya', 'N/A')) # \"Elma\" döndürür"
      ]
    },
    {
      "cell_type": "code",
      "execution_count": null,
      "metadata": {
        "id": "w6ZEz1mo678a"
      },
      "outputs": [],
      "source": [
        "del meshur['Amasya']        # Sözlükten bir değeri silelim.\n",
        "print (meshur.get('Amasya', 'N/A')) # \"Amasya\" silindiği için \"N/A\" döndürür."
      ]
    },
    {
      "cell_type": "code",
      "execution_count": null,
      "metadata": {
        "id": "PWAah8ysX8j_"
      },
      "outputs": [],
      "source": [
        "meshur"
      ]
    },
    {
      "cell_type": "markdown",
      "metadata": {
        "id": "wHauFaOD678c"
      },
      "source": [
        "Sözlüklerle ilgili daha fazla bilgi için [dokümana](https://docs.python.org/3/tutorial/datastructures.html#dictionaries) bakabilirsiniz."
      ]
    },
    {
      "cell_type": "markdown",
      "metadata": {
        "id": "JELVcmGP678d"
      },
      "source": [
        "Sözlük üzerinde `for` döngüsü ile gezinmek mümkündür. "
      ]
    },
    {
      "cell_type": "code",
      "execution_count": null,
      "metadata": {
        "id": "C9ruJOys678d"
      },
      "outputs": [],
      "source": [
        "canlilar = {'İnsan': 2, 'Kedi': 4, 'Örümcek': 8}\n",
        "\n",
        "for canli in canlilar:\n",
        "    ayak = canlilar[canli]\n",
        "    print('%s, %d ayağa sahiptir.' % (canli, ayak))"
      ]
    },
    {
      "cell_type": "markdown",
      "metadata": {
        "id": "lIzRQoUo678g"
      },
      "source": [
        "Sözlük değerlerine `items()` yöntemiyle de ulaşabiliriz."
      ]
    },
    {
      "cell_type": "code",
      "execution_count": null,
      "metadata": {
        "id": "MJkUk7o4678h"
      },
      "outputs": [],
      "source": [
        "canlilar = {'İnsan': 2, 'Kedi': 4, 'Örümcek': 8}\n",
        "\n",
        "for canli, ayak in canlilar.items():\n",
        "    print ('%s, %d ayağa sahiptir.' % (canli, ayak))"
      ]
    },
    {
      "cell_type": "markdown",
      "metadata": {
        "id": "_ETZGjtaX8kA"
      },
      "source": [
        "Aynı şekilde `keys()` ya da `values()` değerlerine de bir `for döngüsü` ile ulaşabiliriz."
      ]
    },
    {
      "cell_type": "code",
      "execution_count": null,
      "metadata": {
        "id": "6tR4EX6HX8kA"
      },
      "outputs": [],
      "source": [
        "for canli in canlilar.keys():\n",
        "    print (canli)"
      ]
    },
    {
      "cell_type": "code",
      "execution_count": null,
      "metadata": {
        "id": "EUvJfBHGX8kB"
      },
      "outputs": [],
      "source": [
        "for ayak in canlilar.values():\n",
        "    print (ayak)"
      ]
    },
    {
      "cell_type": "markdown",
      "metadata": {
        "id": "gZqZiFNe678m"
      },
      "source": [
        "#### Sözlük Dönüşümü\n",
        "\n",
        "Listelerden sözlük oluşturabiliriz."
      ]
    },
    {
      "cell_type": "code",
      "execution_count": null,
      "metadata": {
        "id": "l0SQvsLT678m"
      },
      "outputs": [],
      "source": [
        "sayilar = [0, 1, 2, 3, 4, 5, 6, 7, 8, 9]\n",
        "cift_kare = {x: x ** 2 for x in sayilar  if x % 2 == 0}\n",
        "print (cift_kare)"
      ]
    },
    {
      "cell_type": "markdown",
      "metadata": {
        "id": "9VUu1VyqX8kC"
      },
      "source": [
        "**İPUCU**: Listelerin köşeli parantez `[]`, sözlüklerin ise süslü parantez `{}` ile tanımlandığını unutmayın."
      ]
    },
    {
      "cell_type": "markdown",
      "metadata": {
        "id": "ct0A73Vz678p"
      },
      "source": [
        "#### Kümeler (Sets)"
      ]
    },
    {
      "cell_type": "markdown",
      "metadata": {
        "id": "vNZyJBgM678q"
      },
      "source": [
        "Kümeleri de süslü parantez ile tanımlarız. Listelerden en büyük farklı sıralı olmamasıdır. "
      ]
    },
    {
      "cell_type": "code",
      "execution_count": null,
      "metadata": {
        "id": "_OP2UEYu678q"
      },
      "outputs": [],
      "source": [
        "hayvanlar = {'kedi', 'köpek'}\n",
        "\n",
        "print ('kedi' in hayvanlar)   # Kümede o elemanın olup olmadığına bakalım = \"True\"\n",
        "print ('balık' in hayvanlar)  # Kümede o elemanın olup olmadığına bakalım = \"False\""
      ]
    },
    {
      "cell_type": "code",
      "execution_count": null,
      "metadata": {
        "id": "OzWCwG3J678t"
      },
      "outputs": [],
      "source": [
        "hayvanlar.add('balık')       # Kümeye eleman ekleyelim\n",
        "print ('balık' in hayvanlar)\n",
        "\n",
        "print (len(hayvanlar))       # Kümenin eleman sayısını ekrana yazdıralım"
      ]
    },
    {
      "cell_type": "code",
      "execution_count": null,
      "metadata": {
        "id": "frKetwK4678w"
      },
      "outputs": [],
      "source": [
        "hayvanlar.add('kedi')       # Kedi zaten olduğu için değişen bir şey olmayacak\n",
        "print (len(hayvanlar))       \n",
        "hayvanlar.remove('kedi')    # Kümeden bir elemanı kaldıralım.\n",
        "print (len(hayvanlar))       "
      ]
    },
    {
      "cell_type": "markdown",
      "metadata": {
        "id": "WheWc5ey678z"
      },
      "source": [
        "_Döngüler_: Küme elemanlarına da `for` döngüsü ile ulaşabiliriz. Fakat kümelerin sıralı listeler olmadığını unutmayın. Örneğin aşağıda _kedi köpek balık_ sırasıyla tanımladığımız kümenin elemanlarına ulaşmaya çalıştığımızda hangi sıra olacak sizce? "
      ]
    },
    {
      "cell_type": "code",
      "execution_count": null,
      "metadata": {
        "id": "3xfvgtNA6780"
      },
      "outputs": [],
      "source": [
        "hayvanlar = {'kedi', 'köpek', 'balık'}\n",
        "\n",
        "for sira, hayvan in enumerate(hayvanlar):\n",
        "    print ('#%d: %s' % (sira + 1, hayvan))    "
      ]
    },
    {
      "cell_type": "markdown",
      "metadata": {
        "id": "E4KVAgQr6783"
      },
      "source": [
        "Liste ve sözlük dönüşümlerine benzer bir şekilde hızlıca küme oluşturabiliriz."
      ]
    },
    {
      "cell_type": "code",
      "execution_count": null,
      "metadata": {
        "id": "cP9_9bK46783"
      },
      "outputs": [],
      "source": [
        "from math import sqrt\n",
        "\n",
        "print ({sqrt(x) for x in list(range(30))})"
      ]
    },
    {
      "cell_type": "markdown",
      "metadata": {
        "id": "E2GOceLKX8kM"
      },
      "source": [
        "**İPUCU**: Kümeler sıralı listeler olmadığı için köklü değerleri sıralı olarak göremeyeceksiniz."
      ]
    },
    {
      "cell_type": "markdown",
      "metadata": {
        "id": "SzvCeQ3P6786"
      },
      "source": [
        "#### Demetler (Tuples)"
      ]
    },
    {
      "cell_type": "markdown",
      "metadata": {
        "id": "p-skzG_96786"
      },
      "source": [
        "Demetler sabit (değişmez) sıralı değerlerden oluşan listelerdir. Demetlerin listelerden en büyük farkı, listeler sözlüklerde anahtar (key) olarak ya da kümelerin elemanı olarak kullanılabilmektedir. Demetler bu şekilde kullanılamazlar.\n",
        "\n",
        "**İPUCU**: Demetler normal parantez `()`ile tanımlanır."
      ]
    },
    {
      "cell_type": "code",
      "execution_count": null,
      "metadata": {
        "id": "wG4JWdaF6787"
      },
      "outputs": [],
      "source": [
        "sozluk = {(x, x + 1): x for x in range(10)}  # Demetlerin anahtar olduğu bir sözlük oluşturalım\n",
        "\n",
        "sozluk"
      ]
    },
    {
      "cell_type": "code",
      "execution_count": null,
      "metadata": {
        "id": "va8CN0iUX8kO"
      },
      "outputs": [],
      "source": [
        "demet = (5, 6)       # Demet oluşturalım.\n",
        "print (type(demet))\n",
        "print (sozluk[demet]) # t demeti kaçıncı elemandır?       \n",
        "print (sozluk[(1, 2)]) # (1, 2) demeti kaçıncı elemandır?"
      ]
    },
    {
      "cell_type": "code",
      "execution_count": null,
      "metadata": {
        "id": "Men1uVfb679B"
      },
      "outputs": [],
      "source": [
        "print(demet[1]) # demetin ikinci elemanına ulaşalım\n",
        "\n",
        "print(demet[0]) # demetin ilk elemanına ulaşalım"
      ]
    },
    {
      "cell_type": "markdown",
      "metadata": {
        "id": "zRSvC60r679G"
      },
      "source": [
        "### Fonksiyonlar"
      ]
    },
    {
      "cell_type": "markdown",
      "metadata": {
        "id": "4UxE6oEr679H"
      },
      "source": [
        "Python'da fonksiyonlar  `def` anahtar kelimesi ile tanımlanır. \n",
        "\n",
        "Fonksiyon isiminden sonra parantez içerisinde giriş değerleri sonra da *iki nokta üst üste* konulur. \n",
        "\n",
        "Örnek olarak bir sayının pozitif, negatif ya da sıfır olup olmadığını kontrol eden `isaret` fonksiyonunu tanımlayalım:"
      ]
    },
    {
      "cell_type": "code",
      "execution_count": null,
      "metadata": {
        "id": "7VPkd05d679H"
      },
      "outputs": [],
      "source": [
        "def isaret(x):\n",
        "    if x > 0:\n",
        "        return 'pozitif'\n",
        "    elif x < 0:\n",
        "        return 'negatif'\n",
        "    else:\n",
        "        return 'sifir'\n",
        "\n",
        "for x in [-1, 0, 1]:\n",
        "    print (isaret(x))"
      ]
    },
    {
      "cell_type": "markdown",
      "metadata": {
        "id": "Y7kgWgHD679K"
      },
      "source": [
        "Fonksiyonlarda **isteğe bağlı (opsiyonel)** parametreler tanımlamak mümkündür."
      ]
    },
    {
      "cell_type": "code",
      "execution_count": null,
      "metadata": {
        "id": "JCf-kMsw679L"
      },
      "outputs": [],
      "source": [
        "def merhaba(isim, buyukHarf = False):\n",
        "    if buyukHarf:\n",
        "        print ('MERHABA, %s' % isim.upper())\n",
        "    else:\n",
        "        print ('Merhaba, %s!' % isim)\n",
        "\n",
        "merhaba('Fuat')\n",
        "merhaba('Fuat', buyukHarf = True)"
      ]
    },
    {
      "cell_type": "markdown",
      "metadata": {
        "id": "2-n3nzBGX8kQ"
      },
      "source": [
        "Eğer fonksiyonunumuzun giriş parametrelerini önceden tanımlamak istemiyorsak `*args` kullanabiliriz. Aşağıdaki fonksiyon kaç tane giriş parametresi girildiyse hepsini çarpmaktadır."
      ]
    },
    {
      "cell_type": "code",
      "execution_count": null,
      "metadata": {
        "id": "Q5nmi1_xX8kQ"
      },
      "outputs": [],
      "source": [
        "def carp(*args):\n",
        "    sonuc = 1\n",
        "    for sayi in args:\n",
        "        sonuc *= sayi\n",
        "    print(sonuc)\n",
        "\n",
        "carp(4, 1)\n",
        "carp(6, 2)\n",
        "carp(11, 5, 2)\n",
        "carp(9, 3, 0, 4)"
      ]
    },
    {
      "cell_type": "markdown",
      "metadata": {
        "id": "DWDEAL5VX8kQ"
      },
      "source": [
        "Fonksiyonumuzu hızlıca tanımlamak istiyorsak `lambda` yı kullanabiliriz."
      ]
    },
    {
      "cell_type": "code",
      "execution_count": null,
      "metadata": {
        "id": "m1ZkUA4iX8kQ"
      },
      "outputs": [],
      "source": [
        "# Çemberin Çevresini Bulan Fonksiyon\n",
        "\n",
        "cevre = lambda r, pi : (2 * pi * r)\n",
        "\n",
        "cevre(5,3.14)"
      ]
    },
    {
      "cell_type": "markdown",
      "metadata": {
        "id": "Bm13r-al679M"
      },
      "source": [
        "### Sınıflar (Classes)"
      ]
    },
    {
      "cell_type": "markdown",
      "metadata": {
        "id": "cC4JBHCf679M"
      },
      "source": [
        "Python'da sınıfları şu şekilde tanımlarız:"
      ]
    },
    {
      "cell_type": "code",
      "execution_count": null,
      "metadata": {
        "id": "f1p7mDD6679N"
      },
      "outputs": [],
      "source": [
        "class Karsilayici:\n",
        "\n",
        "    # Oluşturma\n",
        "    def __init__(self, isim):\n",
        "        self.isim = isim  # Örnek (instance) değişkeni tanımlayalım\n",
        "\n",
        "    # Örnek (instance) yöntemi\n",
        "    def selam(self, buyukHarf = False):\n",
        "        if buyukHarf:\n",
        "            print ('MERHABA, %s!' % self.isim.upper())\n",
        "        else:\n",
        "            print ('Merhaba, %s' % self.isim)\n",
        "\n",
        "g = Karsilayici('çasgem')    \n",
        "g.selam()                 \n",
        "g.selam(buyukHarf = True) "
      ]
    },
    {
      "cell_type": "code",
      "source": [
        ""
      ],
      "metadata": {
        "id": "DNnEJyzjZQIg"
      },
      "execution_count": null,
      "outputs": []
    }
  ],
  "metadata": {
    "colab": {
      "collapsed_sections": [
        "DuAK2VqV677V",
        "UtYuRtNI6772"
      ],
      "name": "Day-0-python-tutorial.ipynb",
      "provenance": []
    },
    "kernelspec": {
      "display_name": "Python 3",
      "language": "python",
      "name": "python3"
    },
    "language_info": {
      "codemirror_mode": {
        "name": "ipython",
        "version": 3
      },
      "file_extension": ".py",
      "mimetype": "text/x-python",
      "name": "python",
      "nbconvert_exporter": "python",
      "pygments_lexer": "ipython3",
      "version": "3.8.3"
    }
  },
  "nbformat": 4,
  "nbformat_minor": 0
}