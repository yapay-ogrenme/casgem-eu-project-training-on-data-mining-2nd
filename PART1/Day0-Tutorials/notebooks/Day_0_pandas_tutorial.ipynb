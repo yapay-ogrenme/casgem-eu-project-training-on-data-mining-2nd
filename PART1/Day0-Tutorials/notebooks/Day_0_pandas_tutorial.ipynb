{
  "cells": [
    {
      "cell_type": "markdown",
      "metadata": {
        "id": "ICkPH2LRZzVh"
      },
      "source": [
        "## Pandas"
      ]
    },
    {
      "cell_type": "code",
      "execution_count": null,
      "metadata": {
        "id": "mMdBZ8_FZzVj"
      },
      "outputs": [],
      "source": [
        "import numpy as np\n",
        "import pandas as pd"
      ]
    },
    {
      "cell_type": "markdown",
      "metadata": {
        "id": "cWSZYd_WZzVl"
      },
      "source": [
        "Bir Python sözlüğünde kalori cetveli tanımlayalım."
      ]
    },
    {
      "cell_type": "code",
      "execution_count": null,
      "metadata": {
        "id": "hg4hluRkZzVm"
      },
      "outputs": [],
      "source": [
        "KALORI_CETVELI = {\"YIYECEK\": ['BAL','CEVIZ','NOHUT', 'SUCUK', 'BIFTEK', 'TAVUK'],\n",
        "                  \"MIKTAR\": [5,100,5,24,100,100],\n",
        "                  \"KALORI\": [15,651,360,108,156,215]}"
      ]
    },
    {
      "cell_type": "markdown",
      "metadata": {
        "id": "sNJiVyxsZzVn"
      },
      "source": [
        "Sözlüğü Pandas `DataFrame`'ine çevirelim."
      ]
    },
    {
      "cell_type": "code",
      "execution_count": null,
      "metadata": {
        "id": "qQGBms77ZzVo"
      },
      "outputs": [],
      "source": [
        "KALORI_CETVELI_DF = pd.DataFrame(KALORI_CETVELI)\n",
        "\n",
        "KALORI_CETVELI_DF"
      ]
    },
    {
      "cell_type": "markdown",
      "metadata": {
        "id": "7PxMgKmHZzVp"
      },
      "source": [
        "İlk 5 değeri görelim."
      ]
    },
    {
      "cell_type": "code",
      "execution_count": null,
      "metadata": {
        "id": "in36qCbbZzVr"
      },
      "outputs": [],
      "source": [
        "KALORI_CETVELI_DF.head()"
      ]
    },
    {
      "cell_type": "markdown",
      "metadata": {
        "id": "AT_8sUbkZzVr"
      },
      "source": [
        "İlk 3 değeri görelim."
      ]
    },
    {
      "cell_type": "code",
      "execution_count": null,
      "metadata": {
        "id": "_SnXPxssZzVs"
      },
      "outputs": [],
      "source": [
        "KALORI_CETVELI_DF.head(3)"
      ]
    },
    {
      "cell_type": "markdown",
      "metadata": {
        "id": "bY3-dIz2ZzVs"
      },
      "source": [
        "Son 3 değeri görelim."
      ]
    },
    {
      "cell_type": "code",
      "execution_count": null,
      "metadata": {
        "id": "tOwuqn92ZzVt"
      },
      "outputs": [],
      "source": [
        "KALORI_CETVELI_DF.tail(3)"
      ]
    },
    {
      "cell_type": "markdown",
      "metadata": {
        "id": "AJlmra8eZzVu"
      },
      "source": [
        "Aynı zamanda özniteliklerimiz olan sütun adlarını görelim."
      ]
    },
    {
      "cell_type": "code",
      "execution_count": null,
      "metadata": {
        "id": "QfiV8R3HZzVu"
      },
      "outputs": [],
      "source": [
        "KALORI_CETVELI_DF.columns"
      ]
    },
    {
      "cell_type": "markdown",
      "metadata": {
        "id": "Tzvdkh20ZzVu"
      },
      "source": [
        "Temel bilgileri görelim."
      ]
    },
    {
      "cell_type": "code",
      "execution_count": null,
      "metadata": {
        "id": "W5GhW88MZzVv"
      },
      "outputs": [],
      "source": [
        "KALORI_CETVELI_DF.info()"
      ]
    },
    {
      "cell_type": "markdown",
      "metadata": {
        "id": "AZ99uaInZzVw"
      },
      "source": [
        "İstatistiksel bazı bilgileri görelim"
      ]
    },
    {
      "cell_type": "code",
      "execution_count": null,
      "metadata": {
        "id": "Xl0LrPf6ZzVw"
      },
      "outputs": [],
      "source": [
        "KALORI_CETVELI_DF.describe()"
      ]
    },
    {
      "cell_type": "markdown",
      "metadata": {
        "id": "WP0B0telZzVx"
      },
      "source": [
        "Veri tiplerini görelim."
      ]
    },
    {
      "cell_type": "code",
      "execution_count": null,
      "metadata": {
        "id": "76no9fq7ZzVx"
      },
      "outputs": [],
      "source": [
        "KALORI_CETVELI_DF.dtypes"
      ]
    },
    {
      "cell_type": "markdown",
      "metadata": {
        "id": "16o6hi8EZzVy"
      },
      "source": [
        "`YIYECEK` başlıklı sütunda yer alan değerleri görelim."
      ]
    },
    {
      "cell_type": "code",
      "execution_count": null,
      "metadata": {
        "id": "VtzNQZluZzVy"
      },
      "outputs": [],
      "source": [
        "KALORI_CETVELI_DF['YIYECEK']"
      ]
    },
    {
      "cell_type": "markdown",
      "metadata": {
        "id": "NBOcAa4_ZzVz"
      },
      "source": [
        "`YIYECEK` başlıklı sütunda yer alan değerleri bu şekilde de görebiliriz."
      ]
    },
    {
      "cell_type": "code",
      "execution_count": null,
      "metadata": {
        "id": "LCX1YpRvZzVz"
      },
      "outputs": [],
      "source": [
        "KALORI_CETVELI_DF.YIYECEK"
      ]
    },
    {
      "cell_type": "markdown",
      "metadata": {
        "id": "4YpUm7j_ZzV0"
      },
      "source": [
        "`YIYECEK` ve `KALORI` sütunlarının tüm satırlarını görelim."
      ]
    },
    {
      "cell_type": "code",
      "execution_count": null,
      "metadata": {
        "id": "kz9GITEGZzV0"
      },
      "outputs": [],
      "source": [
        "KALORI_CETVELI_DF.loc[:,['YIYECEK', 'KALORI']]"
      ]
    },
    {
      "cell_type": "markdown",
      "metadata": {
        "id": "vevHjMlyZzV0"
      },
      "source": [
        "`YIYECEK` ve `KALORI` sütunlarının ilk üç satırını görelim."
      ]
    },
    {
      "cell_type": "code",
      "execution_count": null,
      "metadata": {
        "id": "FqiLy5SSZzV1"
      },
      "outputs": [],
      "source": [
        "KALORI_CETVELI_DF.loc[:2,['YIYECEK', 'KALORI']]"
      ]
    },
    {
      "cell_type": "markdown",
      "metadata": {
        "id": "KvncO9kvZzV1"
      },
      "source": [
        "`KALORI`değeri 200'den fazla olanları görelim"
      ]
    },
    {
      "cell_type": "code",
      "execution_count": null,
      "metadata": {
        "id": "qg8CAUABZzV2"
      },
      "outputs": [],
      "source": [
        "KALORI_CETVELI_DF[KALORI_CETVELI_DF.KALORI>200]"
      ]
    },
    {
      "cell_type": "markdown",
      "metadata": {
        "id": "aaZ4PLxaZzV2"
      },
      "source": [
        "`KALORI`si 200'den ve `MIKTAR`ı 50'den fazla olanlar için iki adet filtre oluşturalım."
      ]
    },
    {
      "cell_type": "code",
      "execution_count": null,
      "metadata": {
        "id": "L84egs7GZzV2"
      },
      "outputs": [],
      "source": [
        "filtre1 = KALORI_CETVELI_DF.KALORI > 200\n",
        "filtre2 = KALORI_CETVELI_DF.MIKTAR > 50 "
      ]
    },
    {
      "cell_type": "markdown",
      "metadata": {
        "id": "4zPVjSbjZzV3"
      },
      "source": [
        "Filtreleri uygulayalım."
      ]
    },
    {
      "cell_type": "code",
      "execution_count": null,
      "metadata": {
        "id": "xN5FbawIZzV3"
      },
      "outputs": [],
      "source": [
        "KALORI_CETVELI_DF[filtre1 & filtre2]"
      ]
    },
    {
      "cell_type": "markdown",
      "metadata": {
        "id": "iIaz1W11ZzV3"
      },
      "source": [
        "Kalori ortalamasını görelim."
      ]
    },
    {
      "cell_type": "code",
      "execution_count": null,
      "metadata": {
        "id": "R_6mOh4UZzV4"
      },
      "outputs": [],
      "source": [
        "KALORI_CETVELI_DF.KALORI.mean()"
      ]
    },
    {
      "cell_type": "markdown",
      "metadata": {
        "id": "8vw4eFFlZzV4"
      },
      "source": [
        "Ortalamayı Numpy'da yer alan `np.mean()` ile de bulabiliriz."
      ]
    },
    {
      "cell_type": "code",
      "execution_count": null,
      "metadata": {
        "id": "trpqmhUZZzV5"
      },
      "outputs": [],
      "source": [
        "np.mean(KALORI_CETVELI_DF.KALORI)"
      ]
    },
    {
      "cell_type": "markdown",
      "metadata": {
        "id": "Ux4OfnsHZzV6"
      },
      "source": [
        "`KALORI_SEVIYESI` adında yeni bir sütun açalım ve yiyeceğin kalorisi 200'den küçük ise `NORMAL` diğer durumlarda `YUKSEK` olacak şeklinde değerler atayalım."
      ]
    },
    {
      "cell_type": "code",
      "execution_count": null,
      "metadata": {
        "id": "PlfEOBaAZzV7"
      },
      "outputs": [],
      "source": [
        "KALORI_CETVELI_DF['KALORI_SEVIYESI'] = ['NORMAL' if kalori < 200 else 'YUKSEK' for kalori in KALORI_CETVELI_DF.KALORI]\n",
        "KALORI_CETVELI_DF"
      ]
    },
    {
      "cell_type": "markdown",
      "metadata": {
        "id": "nJDwoPLUZzV7"
      },
      "source": [
        "Sütun isimlerini **küçük harflerle** değiştirelim."
      ]
    },
    {
      "cell_type": "code",
      "execution_count": null,
      "metadata": {
        "id": "I0zxTXuCZzV8"
      },
      "outputs": [],
      "source": [
        "KALORI_CETVELI_DF.columns = [isim.lower() for isim in KALORI_CETVELI_DF.columns] \n",
        "KALORI_CETVELI_DF"
      ]
    },
    {
      "cell_type": "markdown",
      "metadata": {
        "id": "weCYvLbTZzV9"
      },
      "source": [
        "`kalori_seviyesi` sütununu **silelim**."
      ]
    },
    {
      "cell_type": "code",
      "execution_count": null,
      "metadata": {
        "id": "ioXSn85YZzV9"
      },
      "outputs": [],
      "source": [
        "KALORI_CETVELI_DF.drop(['kalori_seviyesi'], axis = 1, inplace = True)\n",
        "KALORI_CETVELI_DF"
      ]
    },
    {
      "cell_type": "markdown",
      "metadata": {
        "id": "8535M3VWZzV-"
      },
      "source": [
        "`KALORI_CETVELI_DF` ile `KALORI_CETVELI_DF` alt alta birleştirelim."
      ]
    },
    {
      "cell_type": "code",
      "execution_count": null,
      "metadata": {
        "id": "Ba9WI3_YZzV_"
      },
      "outputs": [],
      "source": [
        "cift = pd.concat([KALORI_CETVELI_DF,KALORI_CETVELI_DF], axis = 0)\n",
        "cift"
      ]
    },
    {
      "cell_type": "markdown",
      "metadata": {
        "id": "DBvHdfH-ZzV_"
      },
      "source": [
        "index değerlerini sıfırlamak için `reset_index()` kullanabiliriz."
      ]
    },
    {
      "cell_type": "code",
      "execution_count": null,
      "metadata": {
        "id": "YXal69fgZzWA"
      },
      "outputs": [],
      "source": [
        "cift.reset_index(drop = True, inplace = True)\n",
        "cift"
      ]
    },
    {
      "cell_type": "markdown",
      "metadata": {
        "id": "EJO8TM8HZzWB"
      },
      "source": [
        "Miktar birimimiz gram idi. Bunu kilograma çevirelim."
      ]
    },
    {
      "cell_type": "code",
      "execution_count": null,
      "metadata": {
        "id": "9uRyjkfYZzWB"
      },
      "outputs": [],
      "source": [
        "cift[\"miktar\"] = [miktar / 1000 for miktar in cift.miktar]\n",
        "cift"
      ]
    },
    {
      "cell_type": "markdown",
      "metadata": {
        "id": "mclT689iZzWB"
      },
      "source": [
        "Gramdan kilograma çeviren bir fonksiyon tanımlayalım"
      ]
    },
    {
      "cell_type": "code",
      "execution_count": null,
      "metadata": {
        "id": "VJOJbGv_ZzWB"
      },
      "outputs": [],
      "source": [
        "def kg2gr(x):\n",
        "    return x * 1000"
      ]
    },
    {
      "cell_type": "markdown",
      "metadata": {
        "id": "v5UYNWLwZzWC"
      },
      "source": [
        "Miktar sütununa bu fonksiyonu uygulayarak tekrar miktarın birimini gram olarak değiştirelim."
      ]
    },
    {
      "cell_type": "code",
      "execution_count": null,
      "metadata": {
        "id": "ZhRQ_BW8ZzWC"
      },
      "outputs": [],
      "source": [
        "cift.miktar = cift.miktar.apply(kg2gr)\n",
        "cift"
      ]
    }
  ],
  "metadata": {
    "colab": {
      "collapsed_sections": [],
      "name": "Day-0-pandas-tutorial.ipynb",
      "provenance": []
    },
    "kernelspec": {
      "display_name": "Python 3",
      "language": "python",
      "name": "python3"
    },
    "language_info": {
      "codemirror_mode": {
        "name": "ipython",
        "version": 3
      },
      "file_extension": ".py",
      "mimetype": "text/x-python",
      "name": "python",
      "nbconvert_exporter": "python",
      "pygments_lexer": "ipython3",
      "version": "3.8.3"
    }
  },
  "nbformat": 4,
  "nbformat_minor": 0
}