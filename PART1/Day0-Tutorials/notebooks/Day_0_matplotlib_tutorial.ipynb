{
  "cells": [
    {
      "cell_type": "markdown",
      "metadata": {
        "id": "zncwdQEL67-7"
      },
      "source": [
        "## Matplotlib"
      ]
    },
    {
      "cell_type": "markdown",
      "metadata": {
        "id": "fmdDbVgb67-7"
      },
      "source": [
        "Matplotlib bir çizim kütüphanesidir. Bu bölümde kütüphane içerisinde yer alan `matplotlib.pyplot` modülünü inceleyeceğiz."
      ]
    },
    {
      "cell_type": "code",
      "execution_count": null,
      "metadata": {
        "id": "GHykUyab67-8"
      },
      "outputs": [],
      "source": [
        "import numpy as np\n",
        "import matplotlib.pyplot as plt"
      ]
    },
    {
      "cell_type": "markdown",
      "metadata": {
        "id": "BW_9crWx67-9"
      },
      "source": [
        "### Çizdirme (Plotting)"
      ]
    },
    {
      "cell_type": "markdown",
      "metadata": {
        "id": "6OWj2Lv167--"
      },
      "source": [
        "2 boyutlu verileri çizdirmek için `matplotlib.pyplot` modülünde bulunan `plot` fonksiyonu kullanılmaktadır."
      ]
    },
    {
      "cell_type": "markdown",
      "metadata": {
        "id": "MnjAVp_HZ0lH"
      },
      "source": [
        "#### Sinüs Fonksiyonu"
      ]
    },
    {
      "cell_type": "code",
      "execution_count": null,
      "metadata": {
        "id": "-sWSYM4S67--"
      },
      "outputs": [],
      "source": [
        "# Sinüs eğrisinde her bir noktanın x ve y koordinatlarını hesaplayalım\n",
        "x = np.arange(0, 3 * np.pi, 0.1) # 0'dan 3*pi'ye 0.1 aralıklı değerler\n",
        "y = np.sin(x) # x değerlerinden sinüs değerlerini hesaplayalım\n",
        "\n",
        "plt.plot(x, y) # ekranda gösterelim "
      ]
    },
    {
      "cell_type": "code",
      "execution_count": null,
      "metadata": {
        "id": "3UdMU6Ag67_A"
      },
      "outputs": [],
      "source": [
        "y_sin = np.sin(x)\n",
        "y_cos = np.cos(x)\n",
        "\n",
        "plt.plot(x, y_sin)\n",
        "plt.plot(x, y_cos)\n",
        "plt.xlabel('x ekseni')\n",
        "plt.ylabel('y ekseni')\n",
        "plt.title('Sinüs and Kosinüs')\n",
        "plt.legend(['sinüs', 'kosinüs'])\n",
        "plt.savefig('sincos.jpg') # çizimi resim dosyası olarak kaydedelim "
      ]
    },
    {
      "cell_type": "markdown",
      "metadata": {
        "id": "Ykk1Ld9S67_C"
      },
      "source": [
        "### Alt Çizimler (Subplots)"
      ]
    },
    {
      "cell_type": "markdown",
      "metadata": {
        "id": "01fzthYz67_C"
      },
      "source": [
        "Bir görselde birden fazla alt çizimi `subplot` fonksiyonu ile gösterebiliriz."
      ]
    },
    {
      "cell_type": "code",
      "execution_count": null,
      "metadata": {
        "id": "QbCFDTLx67_D"
      },
      "outputs": [],
      "source": [
        "# Sinüs ve Kosinüs için x ve y koorinatlarını hesaplayalım\n",
        "x = np.arange(0, 3 * np.pi, 0.1)\n",
        "y_sin = np.sin(x)\n",
        "y_cos = np.cos(x)\n",
        "\n",
        "# Yükseklik: 2 ve Genişlik = 1 olarak tanımlayalım\n",
        "# Yani en fazla 2 alt çizim gösterebiliriz.\n",
        "\n",
        "# İlk alt çizimi (Sinüs) tanımlayalım\n",
        "plt.subplot(2, 1, 1)\n",
        "plt.plot(x, y_sin)\n",
        "plt.title('Sinüs')\n",
        "\n",
        "# İkinci alt çizimi (Kosinüs) tanımlayalım\n",
        "plt.subplot(2, 1, 2)\n",
        "plt.plot(x, y_cos)\n",
        "plt.title('Kosinüs')\n",
        "\n",
        "# Alt çizimleri ekranda gösterelim\n",
        "plt.show()"
      ]
    },
    {
      "cell_type": "markdown",
      "metadata": {
        "id": "EqnLLCIR67_E"
      },
      "source": [
        "`subplot` fonksiyonu hakkında daha fazla bilgi için [dokümanına](http://matplotlib.org/api/pyplot_api.html#matplotlib.pyplot.subplot) göz atabilirsiniz."
      ]
    }
  ],
  "metadata": {
    "colab": {
      "collapsed_sections": [],
      "name": "Day-0-matplotlib-tutorial.ipynb",
      "provenance": []
    },
    "kernelspec": {
      "display_name": "Python 3",
      "language": "python",
      "name": "python3"
    },
    "language_info": {
      "codemirror_mode": {
        "name": "ipython",
        "version": 3
      },
      "file_extension": ".py",
      "mimetype": "text/x-python",
      "name": "python",
      "nbconvert_exporter": "python",
      "pygments_lexer": "ipython3",
      "version": "3.8.3"
    }
  },
  "nbformat": 4,
  "nbformat_minor": 0
}