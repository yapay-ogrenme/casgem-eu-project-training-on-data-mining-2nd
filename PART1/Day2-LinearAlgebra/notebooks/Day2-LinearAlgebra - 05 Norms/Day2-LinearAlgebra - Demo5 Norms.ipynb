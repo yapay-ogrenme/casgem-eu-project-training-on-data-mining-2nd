{
  "cells": [
    {
      "cell_type": "markdown",
      "metadata": {
        "id": "Vtm-dXEHl3o7"
      },
      "source": [
        "# Giriş\n",
        "\n",
        "Makine öğrenmesi ve derin öğrenme için önemli bir kavram göreceğiz. Norm, genellikle bir modelin hatasını değerlendirmek için kullanılan şeydir. Örneğin, bir sinir ağının çıktısı ile beklenen (gerçek etiket veya değer) arasındaki hatayı hesaplamak için kullanılır. Normu bir vektörün uzunluğu olarak düşünebilirsiniz. Bir vektörü pozitif bir değere eşleyen bir fonksiyondur. Farklı işlevler kullanılabilir ve birkaç örnek göreceğiz.\n",
        "\n",
        "\n",
        "# 2.5 Norms"
      ]
    },
    {
      "cell_type": "markdown",
      "metadata": {
        "id": "8RDHJ1Hwl3o8"
      },
      "source": [
        "Normlar, aşağıdaki özelliklerle karakterize edilen işlevlerdir:\n",
        "\n",
        "1- Normlar negatif olmayan değerlerdir. Normları bir uzunluk olarak düşünürseniz, neden negatif olamayacağını kolayca anlarsınız.\n",
        "\n",
        "2- Normlar sadece ve sadece vektörün sıfır vektör olması durumunda $0$'dır.\n",
        "\n",
        "3- Normlar üçgen eşitsizliğine saygı duyar.\n",
        "\n",
        "4- $||{{k}\\cdot {u}}||=|{k}| \\cdot ||{{u}}||$. Bir vektörün bir skaler ile çarpımı normu, vektörün normu ile çarpılan bu skalerin mutlak değerine eşittir.\n",
        "\n",
        "Genellikle iki yatay çubukla yazılır: $||{{x}}||$\n",
        "\n",
        "# Üçgen eşitsizliği\n",
        "\n",
        "Bazı vektörlerin toplamının normu, bu vektörlerin normlarının toplamından küçük veya ona eşittir.\n",
        "\n",
        "$$\n",
        "||{{u}+{v}}|| \\leq ||{{u}}||+||{{v}}||\n",
        "$$\n",
        "\n",
        "### Örnek 1.\n",
        "\n",
        "$$\n",
        "{u}=\n",
        "\\begin{bmatrix}\n",
        "    1 & 6\n",
        "\\end{bmatrix}\n",
        "$$\n",
        "\n",
        "ve\n",
        "\n",
        "$$\n",
        "{v}=\n",
        "\\begin{bmatrix}\n",
        "    4 & 2\n",
        "\\end{bmatrix}\n",
        "$$\n",
        "\n",
        "$$\n",
        "||{{u}+{v}}|| = \\sqrt{(1+4)^2+(6+2)^2} = \\sqrt{89} \\approx 9.43\n",
        "$$\n",
        "\n",
        "$$\n",
        "||{{u}}||+||{{v}}|| = \\sqrt{1^2+6^2}+\\sqrt{4^2+2^2} = \\sqrt{37}+\\sqrt{20} \\approx 10.55\n",
        "$$"
      ]
    },
    {
      "cell_type": "markdown",
      "metadata": {
        "id": "tidm09ctl3o-"
      },
      "source": [
        "Şu sonuçları kontrol edelim:"
      ]
    },
    {
      "cell_type": "code",
      "source": [
        "import numpy as np\n",
        "import matplotlib.pyplot as plt\n",
        "import seaborn as sns"
      ],
      "metadata": {
        "id": "jbsPLf9AwP71"
      },
      "execution_count": null,
      "outputs": []
    },
    {
      "cell_type": "code",
      "source": [
        "# Plot parameters\n",
        "sns.set()\n",
        "\n",
        "%pylab inline\n",
        "pylab.rcParams['figure.figsize'] = (4, 4)\n",
        "plt.rcParams['xtick.major.size'] = 0\n",
        "plt.rcParams['ytick.major.size'] = 0\n",
        "\n",
        "# Avoid inaccurate floating values (for inverse matrices in dot product for instance)\n",
        "# See https://stackoverflow.com/questions/24537791/numpy-matrix-inversion-rounding-errors\n",
        "#np.set_printoptions(suppress=True)"
      ],
      "metadata": {
        "id": "CJKD4rLIwSEQ"
      },
      "execution_count": null,
      "outputs": []
    },
    {
      "cell_type": "code",
      "execution_count": null,
      "metadata": {
        "id": "Lf1MfTNOl3o_"
      },
      "outputs": [],
      "source": [
        "u = np.array([1, 6])\n",
        "u"
      ]
    },
    {
      "cell_type": "code",
      "execution_count": null,
      "metadata": {
        "id": "V25rbolal3pA"
      },
      "outputs": [],
      "source": [
        "v = np.array([4, 2])\n",
        "v"
      ]
    },
    {
      "cell_type": "code",
      "execution_count": null,
      "metadata": {
        "id": "4BfVNj4Cl3pB"
      },
      "outputs": [],
      "source": [
        "u+v"
      ]
    },
    {
      "cell_type": "code",
      "execution_count": null,
      "metadata": {
        "id": "8S6jWa1-l3pB"
      },
      "outputs": [],
      "source": [
        "np.linalg.norm(u+v)"
      ]
    },
    {
      "cell_type": "code",
      "execution_count": null,
      "metadata": {
        "id": "b8WW_Rd0l3pC"
      },
      "outputs": [],
      "source": [
        "np.linalg.norm(u)+np.linalg.norm(v)"
      ]
    },
    {
      "cell_type": "code",
      "execution_count": null,
      "metadata": {
        "id": "jftPtfbfl3pC"
      },
      "outputs": [],
      "source": [
        "u = [0,0,1,6]\n",
        "v = [0,0,4,2]\n",
        "u_bis = [1,6,v[2],v[3]]\n",
        "w = [0,0,5,8]\n",
        "\n",
        "plt.quiver([u[0], u_bis[0], w[0]],\n",
        "           [u[1], u_bis[1], w[1]],\n",
        "           [u[2], u_bis[2], w[2]],\n",
        "           [u[3], u_bis[3], w[3]],\n",
        "           angles='xy', scale_units='xy', scale=1, color=sns.color_palette())\n",
        "\n",
        "# plt.rc('text', usetex=True)\n",
        "plt.xlim(-2, 6)\n",
        "plt.ylim(-2, 9)\n",
        "plt.axvline(x=0, color='grey')\n",
        "plt.axhline(y=0, color='grey')\n",
        "\n",
        "plt.text(-1, 3.5, r'$||\\vec{u}||$', color=sns.color_palette()[0], size=20)\n",
        "plt.text(2.5, 7.5, r'$||\\vec{v}||$', color=sns.color_palette()[1], size=20)\n",
        "plt.text(2, 2, r'$||\\vec{u}+\\vec{v}||$', color=sns.color_palette()[2], size=20)\n",
        "\n",
        "plt.show()\n",
        "plt.close()\n"
      ]
    },
    {
      "cell_type": "markdown",
      "metadata": {
        "id": "XzOWukJGl3pD"
      },
      "source": [
        "<span class='pquote'>\n",
        "    Geometrik olarak bu, iki nokta arasındaki en kısa yolun bir doğru olduğu anlamına gelir.\n",
        "</span>\n",
        "\n",
        "# P-normları: genel kurallar\n",
        "\n",
        "Bir vektörün $p$-normunu almanın tarifi:\n",
        "\n",
        "1. Her elemanın mutlak değerini hesaplayın\n",
        "2. Bu mutlak değerlerin $p$ kuvvetini alın\n",
        "3. Tüm bu güçlü mutlak değerleri toplayın\n",
        "4. Bu sonucun $\\frac{1}{p}$ gücünü alın\n",
        "\n",
        "Bu, şu formülle daha yoğun bir şekilde ifade edilir:\n",
        "\n",
        "$$\n",
        "||{{x}}||_p=(\\sum_i|{x}_i|^p)^{1/p}\n",
        "$$\n",
        "\n",
        "Bu, yaygın olarak kullanılan bu $p$-normlarını kullanan örneklerle açıklığa kavuşacaktır."
      ]
    },
    {
      "cell_type": "markdown",
      "metadata": {
        "id": "5U42XgSll3pD"
      },
      "source": [
        "# $L^1$ norm\n",
        "\n",
        "$p=1$ yani bu norm basitçe mutlak değerlerin toplamıdır:\n",
        "\n",
        "$$\n",
        "||{{x}}||_1=\\sum_{i} |{x}_i|\n",
        "$$"
      ]
    },
    {
      "cell_type": "markdown",
      "metadata": {
        "id": "abjdcMrdl3pE"
      },
      "source": [
        "# Euclidean norm ($L^2$ norm)\n",
        "\n",
        "Öklid normu, $p=2$ olan $p$-normudur. Bu, kare $L^2$ normu ile daha çok kullanılan norm olabilir.\n",
        "\n",
        "$$\n",
        "||{{x}}||_2=(\\sum_i {x}_i^2)^{1/2}\\Leftrightarrow \\sqrt{\\sum_i {x}_i^2}\n",
        "$$\n",
        "\n",
        "Bu normun bir örneğini görelim:"
      ]
    },
    {
      "cell_type": "markdown",
      "metadata": {
        "id": "MC1qisvfl3pE"
      },
      "source": [
        "### Örnek 2.\n",
        "\n",
        "Grafik olarak, Öklid normu, vektörün orijinden doğrusal kombinasyonla elde edilen noktaya kadar olan uzunluğuna karşılık gelir (Pisagor teoreminin uygulanması gibi).\n",
        "\n",
        "$$\n",
        "{u}=\n",
        "\\begin{bmatrix}\n",
        "    3 \\\\\\\\\n",
        "    4\n",
        "\\end{bmatrix}\n",
        "$$\n",
        "\n",
        "$$\n",
        "\\begin{align*}\n",
        "||{{u}}||_2 &=\\sqrt{|3|^2+|4|^2}\\\\\\\\\n",
        "&=\\sqrt{25}\\\\\\\\\n",
        "&=5\n",
        "\\end{align*}\n",
        "$$\n",
        "\n",
        "\n",
        "Yani $L^2$ normu $5$'dır."
      ]
    },
    {
      "cell_type": "markdown",
      "metadata": {
        "id": "2UUybMavl3pE"
      },
      "source": [
        "$L^2$ normu, numpy'den 'linalg.norm' işleviyle hesaplanabilir. Sonucu kontrol edebiliriz:"
      ]
    },
    {
      "cell_type": "code",
      "execution_count": null,
      "metadata": {
        "id": "e62Z6KRFl3pF"
      },
      "outputs": [],
      "source": [
        "np.linalg.norm([3, 4])"
      ]
    },
    {
      "cell_type": "markdown",
      "metadata": {
        "id": "scXLFZsul3pF"
      },
      "source": [
        "İşte vektörlerin grafiksel gösterimi:"
      ]
    },
    {
      "cell_type": "code",
      "execution_count": null,
      "metadata": {
        "id": "XZp0ekpFl3pF"
      },
      "outputs": [],
      "source": [
        "u = [0,0,3,4]\n",
        "\n",
        "plt.quiver([u[0]],\n",
        "           [u[1]],\n",
        "           [u[2]],\n",
        "           [u[3]],\n",
        "           angles='xy', scale_units='xy', scale=1)\n",
        "\n",
        "plt.xlim(-2, 4)\n",
        "plt.ylim(-2, 5)\n",
        "plt.axvline(x=0, color='grey')\n",
        "plt.axhline(y=0, color='grey')\n",
        "\n",
        "plt.annotate('', xy = (3.2, 0), xytext = (3.2, 4),\n",
        "             arrowprops=dict(edgecolor='black', arrowstyle = '<->'))\n",
        "plt.annotate('', xy = (0, -0.2), xytext = (3, -0.2),\n",
        "             arrowprops=dict(edgecolor='black', arrowstyle = '<->'))\n",
        "\n",
        "plt.text(1, 2.5, r'$\\vec{u}$', size=18)\n",
        "plt.text(3.3, 2, r'$\\vec{u}_y$', size=18)\n",
        "plt.text(1.5, -1, r'$\\vec{u}_x$', size=18)\n",
        "\n",
        "plt.show()\n",
        "plt.close()"
      ]
    },
    {
      "cell_type": "markdown",
      "metadata": {
        "id": "0IHLEl6el3pG"
      },
      "source": [
        "Bu durumda, vektör 2 boyutlu bir uzaydadır, ancak bu aynı zamanda daha fazla boyut anlamına gelir.\n",
        "\n",
        "$$\n",
        "u=\n",
        "\\begin{bmatrix}\n",
        "    u_1\\\\\\\\\n",
        "    u_2\\\\\\\\\n",
        "    \\cdots \\\\\\\\\n",
        "    u_n\n",
        "\\end{bmatrix}\n",
        "$$\n",
        "\n",
        "$$\n",
        "||u||_2 = \\sqrt{u_1^2+u_2^2+\\cdots+u_n^2}\n",
        "$$\n"
      ]
    },
    {
      "cell_type": "markdown",
      "metadata": {
        "id": "xvrFzTkll3pG"
      },
      "source": [
        "# Squared Euclidean norm (squared $L^2$ norm)\n",
        "\n",
        "$$\n",
        "\\sum_i|{x}_i|^2\n",
        "$$\n",
        "\n",
        "\n",
        "Squared $L^2$ normu uygundur çünkü karekökü kaldırır ve vektörün her kare değerinin basit toplamını elde ederiz.\n",
        "\n",
        "Kare Öklid normu, kısmen ${x}^\\text{T}{x}$ vektör işlemiyle hesaplanabildiğinden, makine öğreniminde yaygın olarak kullanılır. Optimizasyon nedeniyle performans artışı olabilir.\n",
        "\n",
        "### Örnek 3.\n",
        "\n",
        "$$\n",
        "{x}=\n",
        "\\begin{bmatrix}\n",
        "    2 \\\\\\\\\n",
        "    5 \\\\\\\\\n",
        "    3 \\\\\\\\\n",
        "    3\n",
        "\\end{bmatrix}\n",
        "$$\n",
        "\n",
        "$$\n",
        "{x}^\\text{T}=\n",
        "\\begin{bmatrix}\n",
        "    2 & 5 & 3 & 3\n",
        "\\end{bmatrix}\n",
        "$$\n",
        "\n",
        "$$\n",
        "\\begin{align*}\n",
        "{x}^\\text{T}{x}&=\n",
        "\\begin{bmatrix}\n",
        "    2 & 5 & 3 & 3\n",
        "\\end{bmatrix} \\times\n",
        "\\begin{bmatrix}\n",
        "    2 \\\\\\\\\n",
        "    5 \\\\\\\\\n",
        "    3 \\\\\\\\\n",
        "    3\n",
        "\\end{bmatrix}\\\\\\\\\n",
        "&= 2\\times 2 + 5\\times 5 + 3\\times 3 + 3\\times 3= 47\n",
        "\\end{align*}\n",
        "$$"
      ]
    },
    {
      "cell_type": "code",
      "execution_count": null,
      "metadata": {
        "id": "pmsn-2F3l3pG"
      },
      "outputs": [],
      "source": [
        "x = np.array([[2], [5], [3], [3]])\n",
        "x"
      ]
    },
    {
      "cell_type": "code",
      "execution_count": null,
      "metadata": {
        "id": "IDQ0EhIHl3pH"
      },
      "outputs": [],
      "source": [
        "euclideanNorm = x.T.dot(x)\n",
        "euclideanNorm"
      ]
    },
    {
      "cell_type": "code",
      "execution_count": null,
      "metadata": {
        "id": "cmJ3Zneil3pH"
      },
      "outputs": [],
      "source": [
        "np.linalg.norm(x)**2"
      ]
    },
    {
      "cell_type": "markdown",
      "metadata": {
        "id": "ncBoglq5l3pH"
      },
      "source": [
        "İşe yarıyor!"
      ]
    },
    {
      "cell_type": "markdown",
      "metadata": {
        "collapsed": true,
        "id": "6qg8a8Vml3pL"
      },
      "source": [
        "# Referanslar\n",
        "\n",
        "- https://en.wikipedia.org/wiki/Norm_(mathematics)\n",
        "\n",
        "- [3D plots](https://academo.org/demos/3d-surface-plotter/)"
      ]
    },
    {
      "cell_type": "code",
      "source": [
        ""
      ],
      "metadata": {
        "id": "rAKz9x0os_x0"
      },
      "execution_count": null,
      "outputs": []
    }
  ],
  "metadata": {
    "kernelspec": {
      "display_name": "Python 3",
      "language": "python",
      "name": "python3"
    },
    "language_info": {
      "codemirror_mode": {
        "name": "ipython",
        "version": 3
      },
      "file_extension": ".py",
      "mimetype": "text/x-python",
      "name": "python",
      "nbconvert_exporter": "python",
      "pygments_lexer": "ipython3",
      "version": "3.6.7"
    },
    "colab": {
      "name": "Day2-LinearAlgebra - Demo5 Norms.ipynb",
      "provenance": [],
      "collapsed_sections": []
    }
  },
  "nbformat": 4,
  "nbformat_minor": 0
}