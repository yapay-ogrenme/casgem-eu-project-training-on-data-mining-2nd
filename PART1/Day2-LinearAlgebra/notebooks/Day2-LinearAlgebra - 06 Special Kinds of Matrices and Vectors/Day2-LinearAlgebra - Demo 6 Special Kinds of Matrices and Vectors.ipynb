{
  "cells": [
    {
      "cell_type": "markdown",
      "metadata": {
        "id": "l9cowpHatGWk"
      },
      "source": [
        "# Giriş\n",
        "\n",
        "Bu bölümde bazı özel vektör ve matris türlerini göreceğiz. Bu bölüm sonraki bölümleri anlamak önemlidir.\n",
        "\n",
        "# 2.6 Özel Matris ve Vektör Çeşitleri"
      ]
    },
    {
      "cell_type": "markdown",
      "metadata": {
        "id": "jty3DfU8tGWl"
      },
      "source": [
        "<img src=\"https://drive.google.com/uc?id=1qkv81s61zkae7gsu9Mw30CWOvOHsyjQw\" width=\"400\" alt=\"Diagonal and symmetric matrices\" title=\"Diagonal and symmetric matrices\">\n",
        "\n",
        "<em>Köşegen ve simetrik matrislere örnek</em>\n",
        "\n",
        "\n",
        "# Köşegen matrisler (Diagonal matrices)"
      ]
    },
    {
      "cell_type": "markdown",
      "metadata": {
        "id": "A4e7OIr6tGWm"
      },
      "source": [
        "<img src=\"https://drive.google.com/uc?id=1ujkPhRa_5ipWOUEcdr8s0YXs75JPeFDB\"  width=\"150\" alt=\"Example of a diagonal matrix\" title=\"Diagonal matrix\">\n",
        "\n",
        "<em>Köşegen matris örneği</em>\n",
        "\n",
        "${A}_{i,j}$ matrisi köşegen hariç girdilerinin tümü sıfır ise ($i=j$ olduğunda) köşegendir.\n",
        "\n",
        "### Örnek 1.\n",
        "\n",
        "$$\n",
        "{D}=\n",
        "\\begin{bmatrix}\n",
        "    2 & 0 & 0 & 0\\\\\\\\\n",
        "    0 & 4 & 0 & 0\\\\\\\\\n",
        "    0 & 0 & 3 & 0\\\\\\\\\n",
        "    0 & 0 & 0 & 1\n",
        "\\end{bmatrix}\n",
        "$$\n",
        "\n",
        "Bu durumda matris de karedir ancak kare olmayan köşegen matrisler de olabilir.\n",
        "\n",
        "### Örnek 2.\n",
        "\n",
        "$$\n",
        "{D}=\n",
        "\\begin{bmatrix}\n",
        "    2 & 0 & 0\\\\\\\\\n",
        "    0 & 4 & 0\\\\\\\\\n",
        "    0 & 0 & 3\\\\\\\\\n",
        "    0 & 0 & 0\n",
        "\\end{bmatrix}\n",
        "$$\n",
        "\n",
        "veya\n",
        "\n",
        "$$\n",
        "{D}=\n",
        "\\begin{bmatrix}\n",
        "    2 & 0 & 0 & 0\\\\\\\\\n",
        "    0 & 4 & 0 & 0\\\\\\\\\n",
        "    0 & 0 & 3 & 0\n",
        "\\end{bmatrix}\n",
        "$$\n",
        "\n",
        "Köşegen matris $diag({v})$ olarak gösterilebilir, burada ${v}$ köşegen değerleri içeren vektördür.\n",
        "\n",
        "### Örnek 3.\n",
        "\n",
        "$$\n",
        "{D}=\n",
        "\\begin{bmatrix}\n",
        "    2 & 0 & 0 & 0\\\\\\\\\n",
        "    0 & 4 & 0 & 0\\\\\\\\\n",
        "    0 & 0 & 3 & 0\\\\\\\\\n",
        "    0 & 0 & 0 & 1\n",
        "\\end{bmatrix}\n",
        "$$\n",
        "\n",
        "Bu matriste, ${v}$ aşağıdaki vektördür:\n",
        "\n",
        "$$\n",
        "{v}=\n",
        "\\begin{bmatrix}\n",
        "    2\\\\\\\\\n",
        "    4\\\\\\\\\n",
        "    3\\\\\\\\\n",
        "    1\n",
        "\\end{bmatrix}\n",
        "$$\n",
        "\n",
        "Numpy işlevi `diag()` kare köşegen matrisler oluşturmak için kullanılabilir:"
      ]
    },
    {
      "cell_type": "code",
      "source": [
        "import numpy as np\n",
        "import matplotlib.pyplot as plt\n",
        "import seaborn as sns"
      ],
      "metadata": {
        "id": "GXJp_6B7xBDn"
      },
      "execution_count": null,
      "outputs": []
    },
    {
      "cell_type": "code",
      "source": [
        "# Plot parameters\n",
        "sns.set()\n",
        "\n",
        "%pylab inline\n",
        "pylab.rcParams['figure.figsize'] = (4, 4)\n",
        "plt.rcParams['xtick.major.size'] = 0\n",
        "plt.rcParams['ytick.major.size'] = 0\n",
        "\n",
        "# Avoid inaccurate floating values (for inverse matrices in dot product for instance)\n",
        "# See https://stackoverflow.com/questions/24537791/numpy-matrix-inversion-rounding-errors\n",
        "#np.set_printoptions(suppress=True)"
      ],
      "metadata": {
        "id": "7BqVN1C1xCqf"
      },
      "execution_count": null,
      "outputs": []
    },
    {
      "cell_type": "code",
      "execution_count": null,
      "metadata": {
        "id": "TOwLZRgHtGWo"
      },
      "outputs": [],
      "source": [
        "v = np.array([2, 4, 3, 1])\n",
        "np.diag(v)"
      ]
    },
    {
      "cell_type": "markdown",
      "metadata": {
        "id": "xs3-JIvxtGWp"
      },
      "source": [
        "**Köşegen bir matris ile bir vektör arasındaki** çarpım, bu nedenle vektörün her bir öğesinin $v$ ile düşünülmesidir:\n",
        "\n",
        "### Örnek 4.\n",
        "\n",
        "$$\n",
        "{D}=\n",
        "\\begin{bmatrix}\n",
        "    2 & 0 & 0 & 0\\\\\\\\\n",
        "    0 & 4 & 0 & 0\\\\\\\\\n",
        "    0 & 0 & 3 & 0\\\\\\\\\n",
        "    0 & 0 & 0 & 1\n",
        "\\end{bmatrix}\n",
        "$$\n",
        "\n",
        "ve\n",
        "\n",
        "$$\n",
        "{x}=\n",
        "\\begin{bmatrix}\n",
        "    3\\\\\\\\\n",
        "    2\\\\\\\\\n",
        "    2\\\\\\\\\n",
        "    7\n",
        "\\end{bmatrix}\n",
        "$$\n",
        "\n",
        "$$\n",
        "\\begin{align*}\n",
        "&{Dx}=\n",
        "\\begin{bmatrix}\n",
        "    2 & 0 & 0 & 0\\\\\\\\\n",
        "    0 & 4 & 0 & 0\\\\\\\\\n",
        "    0 & 0 & 3 & 0\\\\\\\\\n",
        "    0 & 0 & 0 & 1\n",
        "\\end{bmatrix} \\times\n",
        "\\begin{bmatrix}\n",
        "    3\\\\\\\\\n",
        "    2\\\\\\\\\n",
        "    2\\\\\\\\\n",
        "    7\n",
        "\\end{bmatrix}\\\\\\\\\n",
        "&=\\begin{bmatrix}\n",
        "    2\\times3 + 0\\times2 + 0\\times2 + 0\\times7\\\\\\\\\n",
        "    0\\times3 + 4\\times2 + 0\\times2 + 0\\times7\\\\\\\\\n",
        "    0\\times3 + 0\\times2 + 3\\times2 + 0\\times7\\\\\\\\\n",
        "    0\\times3 + 0\\times2 + 0\\times2 + 1\\times7\n",
        "\\end{bmatrix}\\\\\\\\\n",
        "&=\n",
        "\\begin{bmatrix}\n",
        "    2\\times3\\\\\\\\\n",
        "    4\\times2\\\\\\\\\n",
        "    3\\times2\\\\\\\\\n",
        "    1\\times7\n",
        "\\end{bmatrix}\n",
        "\\end{align*}\n",
        "$$"
      ]
    },
    {
      "cell_type": "markdown",
      "metadata": {
        "id": "CN-v9NGCtGWr"
      },
      "source": [
        "Kare olmayan matrisler aynı özelliklere sahiptir:\n",
        "\n",
        "### Örnek 5.\n",
        "\n",
        "$$\n",
        "{D}=\n",
        "\\begin{bmatrix}\n",
        "    2 & 0 & 0\\\\\\\\\n",
        "    0 & 4 & 0\\\\\\\\\n",
        "    0 & 0 & 3\\\\\\\\\n",
        "    0 & 0 & 0\n",
        "\\end{bmatrix}\n",
        "$$\n",
        "\n",
        "ve\n",
        "\n",
        "$$\n",
        "{x}=\n",
        "\\begin{bmatrix}\n",
        "    3\\\\\\\\\n",
        "    2\\\\\\\\\n",
        "    2\n",
        "\\end{bmatrix}\n",
        "$$\n",
        "\n",
        "$$\n",
        "{Dx}=\n",
        "\\begin{bmatrix}\n",
        "    2 & 0 & 0\\\\\\\\\n",
        "    0 & 4 & 0\\\\\\\\\n",
        "    0 & 0 & 3\\\\\\\\\n",
        "    0 & 0 & 0\n",
        "\\end{bmatrix}\n",
        "\\times\n",
        "\\begin{bmatrix}\n",
        "    3\\\\\\\\\n",
        "    2\\\\\\\\\n",
        "    2\n",
        "\\end{bmatrix}\n",
        "=\n",
        "\\begin{bmatrix}\n",
        "    2\\times3\\\\\\\\\n",
        "    4\\times2\\\\\\\\\n",
        "    3\\times2\\\\\\\\\n",
        "    0\n",
        "\\end{bmatrix}\n",
        "$$"
      ]
    },
    {
      "cell_type": "markdown",
      "metadata": {
        "id": "0-7DewSPtGWs"
      },
      "source": [
        "Köşegenin tüm girişleri sıfır değilse, kare köşegen matrisin tersi vardır. Durum buysa, invertörü bulmak kolaydır. Ayrıca, matris kare değilse tersi de yoktur.\n",
        "\n",
        "$$\n",
        "{D}=\n",
        "\\begin{bmatrix}\n",
        "    2 & 0 & 0 & 0\\\\\\\\\n",
        "    0 & 4 & 0 & 0\\\\\\\\\n",
        "    0 & 0 & 3 & 0\\\\\\\\\n",
        "    0 & 0 & 0 & 1\n",
        "\\end{bmatrix}\n",
        "$$\n",
        "\n",
        "$$\n",
        "{D}^{-1}=\n",
        "\\begin{bmatrix}\n",
        "    \\frac{1}{2} & 0 & 0 & 0\\\\\\\\\n",
        "    0 & \\frac{1}{4} & 0 & 0\\\\\\\\\n",
        "    0 & 0 & \\frac{1}{3} & 0\\\\\\\\\n",
        "    0 & 0 & 0 & \\frac{1}{1}\n",
        "\\end{bmatrix}\n",
        "$$\n",
        "\n",
        "$$\n",
        "{D}=\n",
        "\\begin{bmatrix}\n",
        "    2 & 0 & 0 & 0\\\\\\\\\n",
        "    0 & 4 & 0 & 0\\\\\\\\\n",
        "    0 & 0 & 3 & 0\\\\\\\\\n",
        "    0 & 0 & 0 & 1\n",
        "\\end{bmatrix}\n",
        "\\begin{bmatrix}\n",
        "    \\frac{1}{2} & 0 & 0 & 0\\\\\\\\\n",
        "    0 & \\frac{1}{4} & 0 & 0\\\\\\\\\n",
        "    0 & 0 & \\frac{1}{3} & 0\\\\\\\\\n",
        "    0 & 0 & 0 & \\frac{1}{1}\n",
        "\\end{bmatrix}=\n",
        "\\begin{bmatrix}\n",
        "    1 & 0 & 0 & 0\\\\\\\\\n",
        "    0 & 1 & 0 & 0\\\\\\\\\n",
        "    0 & 0 & 1 & 0\\\\\\\\\n",
        "    0 & 0 & 0 & 1\n",
        "\\end{bmatrix}\n",
        "$$\n",
        "\n",
        "Numpy ile matrisin tersi ile çarpımının bize birim matrisi verdiğini kontrol edelim:"
      ]
    },
    {
      "cell_type": "code",
      "execution_count": null,
      "metadata": {
        "id": "r_C3Lhz0tGWt"
      },
      "outputs": [],
      "source": [
        "A = np.array([[2, 0, 0, 0], [0, 4, 0, 0], [0, 0, 3, 0], [0, 0, 0, 1]])\n",
        "A"
      ]
    },
    {
      "cell_type": "code",
      "execution_count": null,
      "metadata": {
        "id": "jZrbm5OrtGWu"
      },
      "outputs": [],
      "source": [
        "A_inv = np.array([[1/2., 0, 0, 0], [0, 1/4., 0, 0], [0, 0, 1/3., 0], [0, 0, 0, 1/1.]])\n",
        "A_inv"
      ]
    },
    {
      "cell_type": "code",
      "execution_count": null,
      "metadata": {
        "id": "IclroT-_tGWu"
      },
      "outputs": [],
      "source": [
        "A.dot(A_inv)"
      ]
    },
    {
      "cell_type": "markdown",
      "metadata": {
        "id": "CWTGDse9tGWv"
      },
      "source": [
        "Harika! Birim matrisi verdi."
      ]
    },
    {
      "cell_type": "markdown",
      "metadata": {
        "id": "gr1wru-NtGWv"
      },
      "source": [
        "# Simetrik matrisler"
      ]
    },
    {
      "cell_type": "markdown",
      "metadata": {
        "id": "CqGsJNO0tGWv"
      },
      "source": [
        "<img src=\"https://drive.google.com/uc?id=1R4gefxIw7xDvQwpvWA_6booquQ4-RrE6\" width=\"150\" alt=\"Illustration of a symmetric matrix\" title=\"Simetrik Matris\">\n",
        "\n",
        "<em>Simetrik bir matrisin çizimi</em>\n",
        "\n",
        "$A$ matrisi, transpozuna eşitse simetriktir:\n",
        "    \n",
        "$$\n",
        "{A} = {A}^\\text{T}\n",
        "$$\n",
        "\n",
        "Bu sadece kare matrislerle ilgilidir.\n",
        "\n",
        "### Örnek 6.\n",
        "\n",
        "$$\n",
        "{A}=\n",
        "\\begin{bmatrix}\n",
        "    2 & 4 & -1\\\\\\\\\n",
        "    4 & -8 & 0\\\\\\\\\n",
        "    -1 & 0 & 3\n",
        "\\end{bmatrix}\n",
        "$$"
      ]
    },
    {
      "cell_type": "code",
      "execution_count": null,
      "metadata": {
        "id": "yi7Zk8zltGWw"
      },
      "outputs": [],
      "source": [
        "A = np.array([[2, 4, -1], [4, -8, 0], [-1, 0, 3]])\n",
        "A"
      ]
    },
    {
      "cell_type": "code",
      "execution_count": null,
      "metadata": {
        "id": "97razqKWtGWw"
      },
      "outputs": [],
      "source": [
        "A.T"
      ]
    },
    {
      "cell_type": "markdown",
      "metadata": {
        "id": "YALIRkk7tGWw"
      },
      "source": [
        "# Birim vektörler\n",
        "\n",
        "Birim vektör, 1'e eşit uzunlukta bir vektördür. Şapkalı bir harfle gösterilebilir: $\\hat{u}$"
      ]
    },
    {
      "cell_type": "markdown",
      "metadata": {
        "id": "bMQnLXDAtGWw"
      },
      "source": [
        "# Ortogonal vektörler\n",
        "\n",
        "İki ortogonal vektör 90°'lik bir açıyla ayrılır. İki ortogonal vektörün nokta çarpımı 0 verir.\n",
        "\n",
        "### Örnek 7."
      ]
    },
    {
      "cell_type": "code",
      "execution_count": null,
      "metadata": {
        "id": "DLSAsXemtGWx"
      },
      "outputs": [],
      "source": [
        "x = [0,0,2,2]\n",
        "y = [0,0,2,-2]\n",
        "\n",
        "plt.quiver([x[0], y[0]],\n",
        "           [x[1], y[1]],\n",
        "           [x[2], y[2]],\n",
        "           [x[3], y[3]],\n",
        "           angles='xy', scale_units='xy', scale=1)\n",
        "\n",
        "plt.xlim(-2, 4)\n",
        "plt.ylim(-3, 3)\n",
        "plt.axvline(x=0, color='grey')\n",
        "plt.axhline(y=0, color='grey')\n",
        "\n",
        "plt.text(1, 1.5, r'$\\vec{u}$', size=18)\n",
        "plt.text(1.5, -1, r'$\\vec{v}$', size=18)\n",
        "\n",
        "plt.show()\n",
        "plt.close()"
      ]
    },
    {
      "cell_type": "markdown",
      "metadata": {
        "id": "LjCnRZ-TtGWy"
      },
      "source": [
        "$$\n",
        "{x}= \n",
        "\\begin{bmatrix}\n",
        "    2\\\\\\\\\n",
        "    2\n",
        "\\end{bmatrix}\n",
        "$$\n",
        "\n",
        "ve\n",
        "\n",
        "$$\n",
        "{y}=\n",
        "\\begin{bmatrix}\n",
        "    2\\\\\\\\\n",
        "    -2\n",
        "\\end{bmatrix}\n",
        "$$\n",
        "\n",
        "$$\n",
        "{x^\\text{T}y}=\n",
        "\\begin{bmatrix}\n",
        "    2 & 2\n",
        "\\end{bmatrix}\n",
        "\\begin{bmatrix}\n",
        "    2\\\\\\\\\n",
        "    -2\n",
        "\\end{bmatrix}=\n",
        "\\begin{bmatrix}\n",
        "    2\\times2 + 2\\times-2\n",
        "\\end{bmatrix}=0\n",
        "$$\n",
        "\n",
        "Ayrıca, ortogonal vektörlerin normu birim norm olduğunda bunlara **ortonormal** denir."
      ]
    },
    {
      "cell_type": "markdown",
      "metadata": {
        "id": "qgwF8KCctGW4"
      },
      "source": [
        "# Referanslar\n",
        "\n",
        "## Ortogonal matrisin tersi ve transpozu\n",
        "\n",
        "- https://math.stackexchange.com/questions/1936020/why-is-the-inverse-of-an-orthogonal-matrix-equal-to-its-transpose\n",
        "\n",
        "- https://dyinglovegrape.wordpress.com/2010/11/30/the-inverse-of-an-orthogonal-matrix-is-its-transpose/"
      ]
    },
    {
      "cell_type": "code",
      "source": [
        ""
      ],
      "metadata": {
        "id": "V2wgN-qV43W_"
      },
      "execution_count": null,
      "outputs": []
    }
  ],
  "metadata": {
    "kernelspec": {
      "display_name": "Python 3",
      "language": "python",
      "name": "python3"
    },
    "language_info": {
      "codemirror_mode": {
        "name": "ipython",
        "version": 3
      },
      "file_extension": ".py",
      "mimetype": "text/x-python",
      "name": "python",
      "nbconvert_exporter": "python",
      "pygments_lexer": "ipython3",
      "version": "3.6.7"
    },
    "varInspector": {
      "cols": {
        "lenName": 16,
        "lenType": 16,
        "lenVar": 40
      },
      "kernels_config": {
        "python": {
          "delete_cmd_postfix": "",
          "delete_cmd_prefix": "del ",
          "library": "var_list.py",
          "varRefreshCmd": "print(var_dic_list())"
        },
        "r": {
          "delete_cmd_postfix": ") ",
          "delete_cmd_prefix": "rm(",
          "library": "var_list.r",
          "varRefreshCmd": "cat(var_dic_list()) "
        }
      },
      "types_to_exclude": [
        "module",
        "function",
        "builtin_function_or_method",
        "instance",
        "_Feature"
      ],
      "window_display": false
    },
    "colab": {
      "name": "Day2-LinearAlgebra - Demo 6 Special Kinds of Matrices and Vectors.ipynb",
      "provenance": [],
      "collapsed_sections": []
    }
  },
  "nbformat": 4,
  "nbformat_minor": 0
}