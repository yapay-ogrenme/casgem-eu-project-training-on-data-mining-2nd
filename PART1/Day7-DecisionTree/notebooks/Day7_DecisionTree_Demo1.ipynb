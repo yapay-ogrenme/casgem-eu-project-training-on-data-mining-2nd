{
  "cells": [
    {
      "cell_type": "markdown",
      "metadata": {
        "papermill": {
          "duration": 0.023705,
          "end_time": "2021-03-05T12:14:00.177525",
          "exception": false,
          "start_time": "2021-03-05T12:14:00.153820",
          "status": "completed"
        },
        "tags": [],
        "id": "lIXlDiKAEMyi"
      },
      "source": [
        "# Karar Ağacı\n",
        "\n",
        "Karar Ağaçları ile Titanic'de hayatta kalanların modellenmesi amaçlanmamıştır.\n"
      ]
    },
    {
      "cell_type": "markdown",
      "metadata": {
        "_cell_guid": "0ed22e93-8f2e-dc75-ab5d-57501c7ff60a",
        "papermill": {
          "duration": 0.02157,
          "end_time": "2021-03-05T12:14:00.221169",
          "exception": false,
          "start_time": "2021-03-05T12:14:00.199599",
          "status": "completed"
        },
        "tags": [],
        "id": "f2wh6rizEMyp"
      },
      "source": [
        "# Giriş\n",
        "\n",
        "Mevcut verilerden gerçekten içgörüler elde etmemiz gerektiğinde **Karar Ağaçları** gibi şeffaf, anlaşılması kolay modeller kullanmamız gerekir.\n",
        "\n",
        "Doğrudan bazı görevler için kullanılacak bir model oluşturmamız veya **yalnızca son sonuçlarını göstermemiz gerekiyorsa** yeterli başarıma sahip bir \"kara kutu (blackbox)\" oluşturan [*Derin Öğrenme*] gibi gelişmiş teknikler kullanarak, karmaşık görevlerde yüksek başarımlar elde edebiliriz. \n",
        "\n",
        "Ancak her zaman göz önünde bulundurulması gereken şey :\n",
        "\n",
        "### **karmaşıklık / doğruluk dengesi**\n",
        "\n",
        "karmaşık teknikler yalnızca önemli iyileştirmeler sağladıkları takdirde kullanılmalıdır. **Çünkü daha basit modeller overfittinge daha az eğilimlidir ve daha iyi genelleme yeteneğine sahiptir.**\n",
        "\n",
        "**Karar Ağaçlarının ana dezavantajları**\n",
        "\n",
        "*   Overfitting eğilimleri\n",
        "*   Açgözlü öğrenme (greedy) algoritmalarını kullanılması\n",
        "*   Öznitelikler arasındaki karmaşık ilişkileri kavrayamamaları\n",
        "\n",
        "\n",
        "**Karar Ağaçları'na dair bu kısa girişten sonra, bunları Titanik veri kümesine nasıl uygulayacağımızı göreceğiz.** \n",
        "\n",
        "1.   veri setini hazırlayacağız ve en alakalı özellikleri tartışacağız.\n",
        "2.   aşırı uydurmayı önlemek için en iyi ağaç derinliğini bulacağız.\n",
        "3.   nihai modeli oluşturacağız.\n",
        "4.   ortaya çıkan ağacın nasıl görselleştirileceğini göreceğiz.\n"
      ]
    },
    {
      "cell_type": "markdown",
      "metadata": {
        "_cell_guid": "af6bb647-50c9-cb5e-5b00-ea49474ff254",
        "papermill": {
          "duration": 0.021616,
          "end_time": "2021-03-05T12:14:00.264405",
          "exception": false,
          "start_time": "2021-03-05T12:14:00.242789",
          "status": "completed"
        },
        "tags": [],
        "id": "RA3hKZmuEMyr"
      },
      "source": [
        "## Titanic veri kümesini hazırlama ##\n"
      ]
    },
    {
      "cell_type": "code",
      "source": [
        "#from google.colab import drive\n",
        "#drive.mount('/content/drive')"
      ],
      "metadata": {
        "id": "-MBhnqvHHs2G"
      },
      "execution_count": null,
      "outputs": []
    },
    {
      "cell_type": "code",
      "source": [
        "#ROOT_DIR = \"/content/drive/MyDrive/CASGEM-Egitim/Egitim-Part1/Day7-DecisionTree/notebooks\"\n",
        "ROOT_DIR = \"https://media.githubusercontent.com/media/yapay-ogrenme/casgem-eu-project-training-on-data-mining/main/PART1/Day7-DecisionTree/notebooks\"\n",
        "\n",
        "DATASET_PATH = ROOT_DIR + \"/datasets/titanic/\""
      ],
      "metadata": {
        "id": "Ak165DkxHtf_"
      },
      "execution_count": null,
      "outputs": []
    },
    {
      "cell_type": "code",
      "execution_count": null,
      "metadata": {
        "_cell_guid": "d66580d1-f255-86b9-e5c0-f012342ab8d8",
        "execution": {
          "iopub.execute_input": "2021-03-05T12:14:00.320756Z",
          "iopub.status.busy": "2021-03-05T12:14:00.320057Z",
          "iopub.status.idle": "2021-03-05T12:14:02.323180Z",
          "shell.execute_reply": "2021-03-05T12:14:02.322522Z"
        },
        "papermill": {
          "duration": 2.037403,
          "end_time": "2021-03-05T12:14:02.323436",
          "exception": false,
          "start_time": "2021-03-05T12:14:00.286033",
          "status": "completed"
        },
        "tags": [],
        "id": "NAwIUwnYEMyt"
      },
      "outputs": [],
      "source": [
        "# Imports needed for the script\n",
        "import numpy as np\n",
        "import pandas as pd\n",
        "import re\n",
        "import xgboost as xgb\n",
        "import seaborn as sns\n",
        "import matplotlib.pyplot as plt\n",
        "%matplotlib inline\n",
        "\n",
        "import plotly.offline as py\n",
        "py.init_notebook_mode(connected=True)\n",
        "import plotly.graph_objs as go\n",
        "import plotly.tools as tls\n",
        "\n",
        "from sklearn import tree\n",
        "from sklearn.metrics import accuracy_score\n",
        "from sklearn.model_selection import KFold\n",
        "from sklearn.model_selection import cross_val_score\n",
        "from IPython.display import Image as PImage\n",
        "from subprocess import check_call\n",
        "from PIL import Image, ImageDraw, ImageFont\n",
        "\n",
        "# Loading the data\n",
        "df_train = pd.read_csv(DATASET_PATH + 'train.csv')\n",
        "df_test = pd.read_csv(DATASET_PATH + 'test.csv')\n",
        "\n",
        "# Kolay erişim için test yolcu kimliklerimizi saklayın\n",
        "PassengerId = df_test['PassengerId']\n",
        "\n",
        "# Eğitim kümesine genel bakış\n",
        "df_train.head(3)"
      ]
    },
    {
      "cell_type": "markdown",
      "metadata": {
        "_cell_guid": "9c395abd-2eca-0067-23a3-4356a25703ea",
        "papermill": {
          "duration": 0.022658,
          "end_time": "2021-03-05T12:14:02.370718",
          "exception": false,
          "start_time": "2021-03-05T12:14:02.348060",
          "status": "completed"
        },
        "tags": [],
        "id": "p5fvq3_eEMyv"
      },
      "source": [
        "Bu genel bakış sayesinde, veri setimizin bazı işlemlere ihtiyacı olduğunu görebiliriz. \n",
        "\n",
        "Bu konuda zaten genişletilmiş çalışmalar var, bu yüzden sadece en iyi yaklaşımlardan birini kullanıyoruz."
      ]
    },
    {
      "cell_type": "code",
      "source": [
        "# Daha sonra ilginç özellikleri araştırırken ihtiyaç duymamız ihtimaline karşı orijinal veri kümesini kopyalayın\n",
        "# UYARI: Sadece referans vermek yerine veri çerçevesini gerçekten kopyalamaya dikkat edin\n",
        "# \"original_train = train\", train değişkenine bir referans oluşturacak ('train'deki değişiklikler' original_train 'için geçerli olacaktır)\n",
        "\n",
        "original_train = df_train.copy()# 'Copy ()' kullanılması, aynı değerlerle farklı bir nesne oluşturarak veri kümesini klonlamaya izin verir\n",
        "\n",
        "full_data = [df_train, df_test]"
      ],
      "metadata": {
        "id": "8UXSuDzCamZC"
      },
      "execution_count": null,
      "outputs": []
    },
    {
      "cell_type": "code",
      "source": [
        "# Titanik'te bir yolcunun kabini olup olmadığını söyleyen özellik\n",
        "df_train['Has_Cabin'] = df_train[\"Cabin\"].apply(lambda x: 0 if type(x) == float else 1)\n",
        "df_test['Has_Cabin'] = df_test[\"Cabin\"].apply(lambda x: 0 if type(x) == float else 1)\n"
      ],
      "metadata": {
        "id": "VEs6Q07panle"
      },
      "execution_count": null,
      "outputs": []
    },
    {
      "cell_type": "code",
      "source": [
        "# SibSp ve Parch'ın bir kombinasyonu olarak FamilySize adlı yeni özellik oluşturun\n",
        "for dataset in full_data:\n",
        "    dataset['FamilySize'] = dataset['SibSp'] + dataset['Parch'] + 1"
      ],
      "metadata": {
        "id": "K9QKQ1a9arTA"
      },
      "execution_count": null,
      "outputs": []
    },
    {
      "cell_type": "code",
      "source": [
        "# Yeni özellik oluşturma FamilySize'dan yararlanılacak IsAlone\n",
        "for dataset in full_data:\n",
        "    dataset['IsAlone'] = 0\n",
        "    dataset.loc[dataset['FamilySize'] == 1, 'IsAlone'] = 1"
      ],
      "metadata": {
        "id": "AHV9Y8Wnat3h"
      },
      "execution_count": null,
      "outputs": []
    },
    {
      "cell_type": "code",
      "source": [
        "# Embarked sütunundaki tüm BOŞLUKLARI kaldırın\n",
        "for dataset in full_data:\n",
        "    dataset['Embarked'] = dataset['Embarked'].fillna('S')"
      ],
      "metadata": {
        "id": "k4Vf5JL-au5g"
      },
      "execution_count": null,
      "outputs": []
    },
    {
      "cell_type": "code",
      "source": [
        "# Fare sütunundaki tüm BOŞLUKLARI kaldırın\n",
        "for dataset in full_data:\n",
        "    dataset['Fare'] = dataset['Fare'].fillna(df_train['Fare'].median())"
      ],
      "metadata": {
        "id": "CzGMInNrawKa"
      },
      "execution_count": null,
      "outputs": []
    },
    {
      "cell_type": "code",
      "source": [
        "# Age sütunundaki tüm BOŞLUKLARI kaldırın\n",
        "for dataset in full_data:\n",
        "    age_avg = dataset['Age'].mean()\n",
        "    age_std = dataset['Age'].std()\n",
        "    age_null_count = dataset['Age'].isnull().sum()\n",
        "    age_null_random_list = np.random.randint(age_avg - age_std, age_avg + age_std, size=age_null_count)\n",
        "    # Next line has been improved to avoid warning\n",
        "    dataset.loc[np.isnan(dataset['Age']), 'Age'] = age_null_random_list\n",
        "    dataset['Age'] = dataset['Age'].astype(int)"
      ],
      "metadata": {
        "id": "spJnlTwQaxhh"
      },
      "execution_count": null,
      "outputs": []
    },
    {
      "cell_type": "code",
      "source": [
        "# Yolcu isimlerinden başlıkları çıkarmak için işlevi tanımlayın\n",
        "def get_title(name):\n",
        "    title_search = re.search(' ([A-Za-z]+)\\.', name)\n",
        "   # Başlık varsa, çıkartın ve iade edin.\n",
        "    if title_search:\n",
        "        return title_search.group(1)\n",
        "    return \"\"\n",
        "\n",
        "\n",
        "for dataset in full_data:\n",
        "    dataset['Title'] = dataset['Name'].apply(get_title)"
      ],
      "metadata": {
        "id": "nRoTNmnAa_VF"
      },
      "execution_count": null,
      "outputs": []
    },
    {
      "cell_type": "code",
      "source": [
        "# Tüm yaygın olmayan başlıkları tek bir gruplama \"Rare\" olarak gruplandırın\n",
        "for dataset in full_data:\n",
        "    dataset['Title'] = dataset['Title'].replace(['Lady', 'Countess','Capt', 'Col','Don', 'Dr', 'Major', 'Rev', 'Sir', 'Jonkheer', 'Dona'], 'Rare')\n",
        "\n",
        "    dataset['Title'] = dataset['Title'].replace('Mlle', 'Miss')\n",
        "    dataset['Title'] = dataset['Title'].replace('Ms', 'Miss')\n",
        "    dataset['Title'] = dataset['Title'].replace('Mme', 'Mrs')"
      ],
      "metadata": {
        "id": "5VXAL0ZxbBXq"
      },
      "execution_count": null,
      "outputs": []
    },
    {
      "cell_type": "code",
      "source": [
        "for dataset in full_data:\n",
        "    # Mapping Sex\n",
        "    dataset['Sex'] = dataset['Sex'].map( {'female': 0, 'male': 1} ).astype(int)\n",
        "    \n",
        "    # Mapping titles\n",
        "    title_mapping = {\"Mr\": 1, \"Master\": 2, \"Mrs\": 3, \"Miss\": 4, \"Rare\": 5}\n",
        "    dataset['Title'] = dataset['Title'].map(title_mapping)\n",
        "    dataset['Title'] = dataset['Title'].fillna(0)\n",
        "\n",
        "    # Mapping Embarked\n",
        "    dataset['Embarked'] = dataset['Embarked'].map( {'S': 0, 'C': 1, 'Q': 2} ).astype(int)\n",
        "    \n",
        "    # Mapping Fare\n",
        "    dataset.loc[ dataset['Fare'] <= 7.91, 'Fare'] \t\t\t\t\t\t        = 0\n",
        "    dataset.loc[(dataset['Fare'] > 7.91) & (dataset['Fare'] <= 14.454), 'Fare'] = 1\n",
        "    dataset.loc[(dataset['Fare'] > 14.454) & (dataset['Fare'] <= 31), 'Fare']   = 2\n",
        "    dataset.loc[ dataset['Fare'] > 31, 'Fare'] \t\t\t\t\t\t\t        = 3\n",
        "    dataset['Fare'] = dataset['Fare'].astype(int)\n",
        "    \n",
        "    # Mapping Age\n",
        "    dataset.loc[ dataset['Age'] <= 16, 'Age'] \t\t\t\t\t       = 0\n",
        "    dataset.loc[(dataset['Age'] > 16) & (dataset['Age'] <= 32), 'Age'] = 1\n",
        "    dataset.loc[(dataset['Age'] > 32) & (dataset['Age'] <= 48), 'Age'] = 2\n",
        "    dataset.loc[(dataset['Age'] > 48) & (dataset['Age'] <= 64), 'Age'] = 3\n",
        "    dataset.loc[ dataset['Age'] > 64, 'Age'] ;"
      ],
      "metadata": {
        "id": "-04Eyvz0bK4j"
      },
      "execution_count": null,
      "outputs": []
    },
    {
      "cell_type": "code",
      "execution_count": null,
      "metadata": {
        "_cell_guid": "0486bde8-a09f-93c6-832d-c5c9760e2f6e",
        "execution": {
          "iopub.execute_input": "2021-03-05T12:14:02.561737Z",
          "iopub.status.busy": "2021-03-05T12:14:02.561047Z",
          "iopub.status.idle": "2021-03-05T12:14:02.567695Z",
          "shell.execute_reply": "2021-03-05T12:14:02.567016Z"
        },
        "papermill": {
          "duration": 0.036379,
          "end_time": "2021-03-05T12:14:02.567840",
          "exception": false,
          "start_time": "2021-03-05T12:14:02.531461",
          "status": "completed"
        },
        "tags": [],
        "id": "JtXHDjUZEMyy"
      },
      "outputs": [],
      "source": [
        "# Özellik seçimi: artık ilgili bilgileri içermeyen değişkenleri kaldırın\n",
        "drop_elements = ['PassengerId', 'Name', 'Ticket', 'Cabin', 'SibSp']\n",
        "df_train = df_train.drop(drop_elements, axis = 1)\n",
        "df_test  = df_test.drop(drop_elements, axis = 1)"
      ]
    },
    {
      "cell_type": "markdown",
      "metadata": {
        "_cell_guid": "abef639b-2b31-4209-20ef-d8ba15c4de74",
        "papermill": {
          "duration": 0.022798,
          "end_time": "2021-03-05T12:14:02.613964",
          "exception": false,
          "start_time": "2021-03-05T12:14:02.591166",
          "status": "completed"
        },
        "tags": [],
        "id": "KL-HFRaREMyz"
      },
      "source": [
        "## İşlenmiş verileri görselleştirme ##"
      ]
    },
    {
      "cell_type": "code",
      "execution_count": null,
      "metadata": {
        "_cell_guid": "b587a7d3-36be-408e-0dee-6fd292e9621b",
        "execution": {
          "iopub.execute_input": "2021-03-05T12:14:02.672887Z",
          "iopub.status.busy": "2021-03-05T12:14:02.672201Z",
          "iopub.status.idle": "2021-03-05T12:14:02.675695Z",
          "shell.execute_reply": "2021-03-05T12:14:02.676279Z"
        },
        "papermill": {
          "duration": 0.039353,
          "end_time": "2021-03-05T12:14:02.676501",
          "exception": false,
          "start_time": "2021-03-05T12:14:02.637148",
          "status": "completed"
        },
        "tags": [],
        "id": "xxwsiJBPEMy0"
      },
      "outputs": [],
      "source": [
        "df_train.head(3)"
      ]
    },
    {
      "cell_type": "markdown",
      "metadata": {
        "_cell_guid": "cc298a8b-1fb3-21f9-6437-1fd6cd93d35e",
        "papermill": {
          "duration": 0.024003,
          "end_time": "2021-03-05T12:14:02.725190",
          "exception": false,
          "start_time": "2021-03-05T12:14:02.701187",
          "status": "completed"
        },
        "tags": [],
        "id": "mOMHVTEjEMy1"
      },
      "source": [
        "Veri kümemiz, yalnızca sayısal değerler ve potansiyel olarak anlamlı özelliklerle artık eskisinden çok daha temiz. \n",
        "\n",
        "Şimdi veri setimizdeki tüm öznitelikler arasındaki korelasyon tablosunu çizerek değişkenlerimiz arasındaki ilişkiyi inceleyelim :\n"
      ]
    },
    {
      "cell_type": "code",
      "execution_count": null,
      "metadata": {
        "_cell_guid": "d289fd14-d3a9-6131-3b3a-058edced24f1",
        "execution": {
          "iopub.execute_input": "2021-03-05T12:14:02.777071Z",
          "iopub.status.busy": "2021-03-05T12:14:02.776435Z",
          "iopub.status.idle": "2021-03-05T12:14:03.904453Z",
          "shell.execute_reply": "2021-03-05T12:14:03.903794Z"
        },
        "papermill": {
          "duration": 1.155071,
          "end_time": "2021-03-05T12:14:03.904615",
          "exception": false,
          "start_time": "2021-03-05T12:14:02.749544",
          "status": "completed"
        },
        "tags": [],
        "id": "6im9Kz_VEMy2"
      },
      "outputs": [],
      "source": [
        "colormap = plt.cm.viridis\n",
        "plt.figure(figsize=(12,12))\n",
        "plt.title('Correlation of Features', y=1.05, size=15)\n",
        "sns.heatmap(df_train.astype(float).corr().abs(),linewidths=0.1,vmax=1.0, square=True, cmap=colormap, linecolor='white', annot=True)"
      ]
    },
    {
      "cell_type": "markdown",
      "metadata": {
        "_cell_guid": "06e3df1e-de4c-bff7-e364-268403cc2da3",
        "papermill": {
          "duration": 0.026875,
          "end_time": "2021-03-05T12:14:03.958995",
          "exception": false,
          "start_time": "2021-03-05T12:14:03.932120",
          "status": "completed"
        },
        "tags": [],
        "id": "riQpiDkOEMy2"
      },
      "source": [
        "Bu ısı haritası, ilk gözlem olarak çok kullanışlıdır çünkü her özelliğin tahmini değeri hakkında kolayca fikir edinebilirsiniz. \n",
        "\n",
        "Bu durumda, **Sex(Cinsiyet)** ve **Title(Ünvan)** öznitelikleri, hedef değişken **Survived (Hayatta Kalan)**  ile en yüksek korelasyonları (mutlak olarak) gösterir (Sırasıyla 0,54 ve 0,49)\n",
        "\n",
        "Ancak her ikisi (**Sex(Cinsiyet)** ve **Title(Ünvan)**) arasındaki mutlak korelasyon da çok yüksektir (0.86, veri setimizdeki en yüksek değer), bu nedenle muhtemelen aynı bilgiyi taşıyorlar. Bu yüzden ikisini aynı model için girdi olarak kullanmak iyi bir fikir değil. \n"
      ]
    },
    {
      "cell_type": "markdown",
      "metadata": {
        "_cell_guid": "28861e40-1c0b-d4f7-312b-e7f64cb3e5ae",
        "papermill": {
          "duration": 0.02867,
          "end_time": "2021-03-05T12:14:04.015509",
          "exception": false,
          "start_time": "2021-03-05T12:14:03.986839",
          "status": "completed"
        },
        "tags": [],
        "id": "GGAUEtS5EMy3"
      },
      "source": [
        "## **Title vs. Sex**\n",
        "-------"
      ]
    },
    {
      "cell_type": "markdown",
      "metadata": {
        "_cell_guid": "8f9f52f7-c758-0614-1c05-c0e4d6a17a44",
        "papermill": {
          "duration": 0.027214,
          "end_time": "2021-03-05T12:14:04.071301",
          "exception": false,
          "start_time": "2021-03-05T12:14:04.044087",
          "status": "completed"
        },
        "tags": [],
        "id": "0d1wye3zEMy3"
      },
      "source": [
        "Özellikleri ve sınıfla olan ilişkilerini gruplayarak ve her grup için bazı temel istatistikleri hesaplayarak kolayca karşılaştırabilirsiniz.\n",
        "\n",
        "\"Survived\" bir ikili sınıf (0 veya 1) olduğundan, Title özelliğine göre gruplandırılan bu ölçümler şunları temsil eder:\n",
        "\n",
        "*   **MEAN: hayatta kalma oranı**\n",
        "*   **COUNT: toplam gözlem**\n",
        "*   **SUM: hayatta kalan insanlar**   \n",
        "\n",
        "title_mapping = {\"Mr\": 1, \"Miss\": 2, \"Mrs\": 3, \"Master\": 4, \"Rare\": 5} "
      ]
    },
    {
      "cell_type": "code",
      "execution_count": null,
      "metadata": {
        "_cell_guid": "ce843f51-6f28-ef63-5f21-5f6bf8802e7f",
        "execution": {
          "iopub.execute_input": "2021-03-05T12:14:04.149760Z",
          "iopub.status.busy": "2021-03-05T12:14:04.149050Z",
          "iopub.status.idle": "2021-03-05T12:14:04.153497Z",
          "shell.execute_reply": "2021-03-05T12:14:04.153956Z"
        },
        "papermill": {
          "duration": 0.055302,
          "end_time": "2021-03-05T12:14:04.154162",
          "exception": false,
          "start_time": "2021-03-05T12:14:04.098860",
          "status": "completed"
        },
        "tags": [],
        "id": "8hOgSt_eEMy4"
      },
      "outputs": [],
      "source": [
        "df_train[['Title', 'Survived']].groupby(['Title'], as_index=False).agg(['mean', 'count', 'sum'])\n",
        "\n"
      ]
    },
    {
      "cell_type": "markdown",
      "source": [
        "Survived bir ikili özellik olduğundan, Sex özelliğine göre gruplandırılan bu ölçümler şunları temsil eder:\n",
        "\n",
        "*   **MEAN: hayatta kalma oranı**\n",
        "*   **COUNT: toplam gözlem**\n",
        "*   **SUM: hayatta kalan insanlar**    \n",
        "\n",
        "sex_mapping = {{'female': 0, 'male': 1}} "
      ],
      "metadata": {
        "id": "mShEZkTf9hCr"
      }
    },
    {
      "cell_type": "code",
      "execution_count": null,
      "metadata": {
        "_cell_guid": "05abd10a-b698-dc8a-f745-59436608e38c",
        "execution": {
          "iopub.execute_input": "2021-03-05T12:14:04.229880Z",
          "iopub.status.busy": "2021-03-05T12:14:04.220232Z",
          "iopub.status.idle": "2021-03-05T12:14:04.234549Z",
          "shell.execute_reply": "2021-03-05T12:14:04.234008Z"
        },
        "papermill": {
          "duration": 0.05193,
          "end_time": "2021-03-05T12:14:04.234721",
          "exception": false,
          "start_time": "2021-03-05T12:14:04.182791",
          "status": "completed"
        },
        "tags": [],
        "id": "tzQ1XTEgEMy5"
      },
      "outputs": [],
      "source": [
        "df_train[['Sex', 'Survived']].groupby(['Sex'], as_index=False).agg(['mean', 'count', 'sum'])\n",
        "\n",
        "# Survived bir ikili özellik olduğundan, Sex özelliğine göre gruplandırılan bu ölçümler şunları temsil eder:\n",
        "     # MEAN: hayatta kalma oranı\n",
        "     # COUNT: toplam gözlem\n",
        "     # SUM: hayatta kalan insanlar \n",
        "    \n"
      ]
    },
    {
      "cell_type": "markdown",
      "metadata": {
        "_cell_guid": "e72f4218-550f-342c-65fc-ca3bc0e0d336",
        "papermill": {
          "duration": 0.029544,
          "end_time": "2021-03-05T12:14:04.293319",
          "exception": false,
          "start_time": "2021-03-05T12:14:04.263775",
          "status": "completed"
        },
        "tags": [],
        "id": "qhSiX3LMEMy5"
      },
      "source": [
        "**Title** özelliğinin **Sex** den daha yararlı görünüyor. \n",
        "\n",
        "Bunun nedeni, **Title'ın** çoğu durumda dolaylı olarak **Sex** hakkında bilgi içermesidir. \n",
        "\n",
        "Bunu doğrulamak için, **Title**'a göre gruplanmış **Sex** dağılımını kontrol edebiliriz.\n",
        "\n",
        "Sex ikili bir özellik olduğundan, Title özelliğine göre gruplandırılan bu ölçümler şunları temsil eder:    \n",
        "\n",
        "*   **MEAN: erkeklerin yüzdesi**\n",
        "*   **COUNT: toplam gözlem**\n",
        "*   **SUM: erkeklerin sayısı**\n",
        "\n",
        "    \n",
        "    \n"
      ]
    },
    {
      "cell_type": "code",
      "execution_count": null,
      "metadata": {
        "_cell_guid": "a9e03eff-7835-6804-ee13-3cf3f7a80652",
        "execution": {
          "iopub.execute_input": "2021-03-05T12:14:04.363911Z",
          "iopub.status.busy": "2021-03-05T12:14:04.360626Z",
          "iopub.status.idle": "2021-03-05T12:14:04.388719Z",
          "shell.execute_reply": "2021-03-05T12:14:04.388029Z"
        },
        "papermill": {
          "duration": 0.065568,
          "end_time": "2021-03-05T12:14:04.388883",
          "exception": false,
          "start_time": "2021-03-05T12:14:04.323315",
          "status": "completed"
        },
        "tags": [],
        "id": "0SDCq6ByEMy6"
      },
      "outputs": [],
      "source": [
        "# Her başlık için cinsiyet dağılımını kontrol etmek için 'orijinal_train' veri çerçevemizi kullanalım.\n",
        "# Original_train veri kümesindeki değişiklikleri önlemek için tekrar copy () kullanıyoruz\n",
        "\n",
        "title_and_sex = original_train.copy()[['Name', 'Sex']]\n",
        "\n",
        "# Create 'Title' feature\n",
        "title_and_sex['Title'] = title_and_sex['Name'].apply(get_title)\n",
        "\n",
        "# Map 'Sex' as binary feature\n",
        "title_and_sex['Sex'] = title_and_sex['Sex'].map( {'female': 0, 'male': 1} ).astype(int)\n",
        "\n",
        "# Table with 'Sex' distribution grouped by 'Title'\n",
        "title_and_sex[['Title', 'Sex']].groupby(['Title'], as_index=False).agg(['mean', 'count', 'sum'])\n",
        "\n"
      ]
    },
    {
      "cell_type": "markdown",
      "metadata": {
        "_cell_guid": "05cb2f35-88cd-35ed-3110-370eb5fa6188",
        "papermill": {
          "duration": 0.029357,
          "end_time": "2021-03-05T12:14:04.448870",
          "exception": false,
          "start_time": "2021-03-05T12:14:04.419513",
          "status": "completed"
        },
        "tags": [],
        "id": "_y3qXw86EMy6"
      },
      "source": [
        "Tek bir gözlem ('Dr'ünvanlı bir kadın) haricinde, belirli bir Title için tüm gözlemlerin aynı Sex'i paylaştığını görüyoruz. Bu nedenle Title özelliği, Sex'te bulunan tüm bilgileri yakalar. \n",
        "\n",
        "**Ek olarak, Title, bireylerin yaş, sosyal sınıf, kişilik, ... gibi diğer özelliklerini yakalayarak görevimiz için daha değerli olabilir.**\n",
        "\n",
        "Sex ve Title özelliklerinin bu derinlemesine analizi sayesinde, Sex özelliğinin Survived sınıfıyla korelasyonu daha yüksek olsa bile, Unvanın Sex bilgilerini taşıdığı için daha zengin bir özellik olduğunu ancak başka özellikler de eklediğini gördük. \n",
        "\n",
        "**Bu nedenle, Title büyük olasılıkla son karar ağacımızdaki ilk özellik olacak ve bu ilk bölünmeden sonra Sex'i işe yaramaz hale getirecek.**\n"
      ]
    },
    {
      "cell_type": "markdown",
      "metadata": {
        "_cell_guid": "fc88647a-68c0-b399-0b01-bae0064b9a91",
        "papermill": {
          "duration": 0.031718,
          "end_time": "2021-03-05T12:14:04.511688",
          "exception": false,
          "start_time": "2021-03-05T12:14:04.479970",
          "status": "completed"
        },
        "tags": [],
        "id": "JAAbfFTPEMy7"
      },
      "source": [
        "## Gini Impurity ##\n",
        "\n",
        "**Karar Ağaçları algoritmalarının amacı her zaman ağacın her bir düğümü için en iyi bölünmeyi bulmaktır.** \n",
        "\n",
        "Ancak belirli bir bölünmenin \"iyiliğini\" ölçmek öznel bir sorudur, bu nedenle pratikte bölünmeleri değerlendirmek için farklı ölçütler kullanılır. \n",
        "\n",
        "Yaygın olarak kullanılan bir ölçü **[Information Gain]** 'dir. Diğer bir yaygın ölçü olan **[Gini Impurity]** 'dir.\n",
        "\n",
        "Gini Impurity, bir dizi öğenin bozukluğunu ölçer. Bir elemanın kümedeki tüm sınıfların dağılımına göre rastgele etiketlendiği varsayılarak bir elemanın yanlış etiketlenmesi olasılığı olarak hesaplanır. \n",
        "\n",
        "**Karar Ağaçları**, ortaya çıkan iki düğümde Gini Impurity'i en çok azaltan ayrımı bulmaya çalışacaktır.\n",
        "\n",
        "\n"
      ]
    },
    {
      "cell_type": "code",
      "execution_count": null,
      "metadata": {
        "_cell_guid": "1efa362d-39b9-a193-a35d-051fdfafb35f",
        "execution": {
          "iopub.execute_input": "2021-03-05T12:14:04.579244Z",
          "iopub.status.busy": "2021-03-05T12:14:04.578539Z",
          "iopub.status.idle": "2021-03-05T12:14:04.581343Z",
          "shell.execute_reply": "2021-03-05T12:14:04.580749Z"
        },
        "papermill": {
          "duration": 0.03933,
          "end_time": "2021-03-05T12:14:04.581510",
          "exception": false,
          "start_time": "2021-03-05T12:14:04.542180",
          "status": "completed"
        },
        "tags": [],
        "id": "pkBhhBXAEMy7"
      },
      "outputs": [],
      "source": [
        "# Define function to calculate Gini Impurity\n",
        "def get_gini_impurity(survived_count, total_count):\n",
        "    survival_prob = survived_count/total_count\n",
        "\n",
        "    not_survival_prob = (1 - survival_prob)\n",
        "\n",
        "    random_observation_survived_prob = survival_prob\n",
        "\n",
        "    random_observation_not_survived_prob = (1 - random_observation_survived_prob)\n",
        "\n",
        "    mislabelling_survided_prob = not_survival_prob * random_observation_survived_prob\n",
        "    mislabelling_not_survided_prob = survival_prob * random_observation_not_survived_prob\n",
        "\n",
        "    gini_impurity = mislabelling_survided_prob + mislabelling_not_survided_prob\n",
        "    \n",
        "    return gini_impurity"
      ]
    },
    {
      "cell_type": "markdown",
      "metadata": {
        "_cell_guid": "0cecfd1b-5bbc-772b-042c-ad08049ac233",
        "papermill": {
          "duration": 0.029515,
          "end_time": "2021-03-05T12:14:04.643234",
          "exception": false,
          "start_time": "2021-03-05T12:14:04.613719",
          "status": "completed"
        },
        "tags": [],
        "id": "h3Lpt2DQEMy8"
      },
      "source": [
        "Örnek olarak **Sex** ve **Title** özelliklerimizi kullanalım ve her bir bölünmenin genel ağırlıklı Gini Impurity'i ne kadar azaltacağını hesaplayalım. \n",
        "\n",
        "İlk olarak, eğitim veri setimizdeki 891 gözlemin tamamını içeren başlangıç düğümünün Gini Impurity hesaplamamız gerekir. \n",
        "\n",
        "Yalnızca 342 gözlem hayatta kaldığından, hayatta kalma olasılığı yaklaşık %38'dir."
      ]
    },
    {
      "cell_type": "code",
      "execution_count": null,
      "metadata": {
        "_cell_guid": "d752e767-c0df-3eea-f587-e4d21a09128e",
        "execution": {
          "iopub.execute_input": "2021-03-05T12:14:04.707650Z",
          "iopub.status.busy": "2021-03-05T12:14:04.706978Z",
          "iopub.status.idle": "2021-03-05T12:14:04.712881Z",
          "shell.execute_reply": "2021-03-05T12:14:04.713404Z"
        },
        "papermill": {
          "duration": 0.039965,
          "end_time": "2021-03-05T12:14:04.713613",
          "exception": false,
          "start_time": "2021-03-05T12:14:04.673648",
          "status": "completed"
        },
        "tags": [],
        "id": "MDTlq7VsEMy8"
      },
      "outputs": [],
      "source": [
        "# Gini Impurity of starting node\n",
        "gini_impurity_starting_node = get_gini_impurity(342, 891)\n",
        "gini_impurity_starting_node"
      ]
    },
    {
      "cell_type": "markdown",
      "metadata": {
        "_cell_guid": "773177aa-a668-8541-3f03-e0ec7d87fba2",
        "papermill": {
          "duration": 0.031095,
          "end_time": "2021-03-05T12:14:04.776225",
          "exception": false,
          "start_time": "2021-03-05T12:14:04.745130",
          "status": "completed"
        },
        "tags": [],
        "id": "08BpALywEMy9"
      },
      "source": [
        "Şimdi her iki bölünmeyi de simüle edeceğiz, ortaya çıkan düğümlerin safsızlığını hesaplayacağız ve ardından her bir bölünmenin aslında safsızlığı ne kadar azalttığını ölçmek için bölünmeden sonra ağırlıklı Gini Safsızlığını elde edeceğiz.\n",
        "\n",
        "**Cinsiyete** göre ayrılırsak, aşağıdaki iki düğüme sahip oluruz:\n",
        "\n",
        "  - Erkeklerle düğüm: Sadece 109'u hayatta kalan 577 gözlem\n",
        "  - Kadınlarla düğüm: 233 hayatta kalan 314 gözlem"
      ]
    },
    {
      "cell_type": "code",
      "execution_count": null,
      "metadata": {
        "_cell_guid": "cd0f8a03-db86-62c2-c88a-2d54de7531bc",
        "execution": {
          "iopub.execute_input": "2021-03-05T12:14:04.851542Z",
          "iopub.status.busy": "2021-03-05T12:14:04.850561Z",
          "iopub.status.idle": "2021-03-05T12:14:04.858520Z",
          "shell.execute_reply": "2021-03-05T12:14:04.863003Z"
        },
        "papermill": {
          "duration": 0.049238,
          "end_time": "2021-03-05T12:14:04.863291",
          "exception": false,
          "start_time": "2021-03-05T12:14:04.814053",
          "status": "completed"
        },
        "tags": [],
        "id": "s7uMCR8wEMy9"
      },
      "outputs": [],
      "source": [
        "# 'Erkek' gözlemleri için düğümde Gini Impurity azalması\n",
        "gini_impurity_men = get_gini_impurity(109, 577)\n",
        "gini_impurity_men"
      ]
    },
    {
      "cell_type": "code",
      "execution_count": null,
      "metadata": {
        "_cell_guid": "183aa17e-27a9-0fae-35e9-34ff2f8f6c6a",
        "execution": {
          "iopub.execute_input": "2021-03-05T12:14:04.939030Z",
          "iopub.status.busy": "2021-03-05T12:14:04.938099Z",
          "iopub.status.idle": "2021-03-05T12:14:04.943781Z",
          "shell.execute_reply": "2021-03-05T12:14:04.944435Z"
        },
        "papermill": {
          "duration": 0.047647,
          "end_time": "2021-03-05T12:14:04.944621",
          "exception": false,
          "start_time": "2021-03-05T12:14:04.896974",
          "status": "completed"
        },
        "tags": [],
        "id": "JF3WMZTIEMy-"
      },
      "outputs": [],
      "source": [
        "# 'Kadın' gözlemleri için düğümde Gini Impurity azalması\n",
        "gini_impurity_women = get_gini_impurity(233, 314)\n",
        "gini_impurity_women"
      ]
    },
    {
      "cell_type": "code",
      "execution_count": null,
      "metadata": {
        "_cell_guid": "60d97095-3d8a-803a-f649-647cfb6f2965",
        "execution": {
          "iopub.execute_input": "2021-03-05T12:14:05.011092Z",
          "iopub.status.busy": "2021-03-05T12:14:05.010159Z",
          "iopub.status.idle": "2021-03-05T12:14:05.016619Z",
          "shell.execute_reply": "2021-03-05T12:14:05.017126Z"
        },
        "papermill": {
          "duration": 0.041468,
          "end_time": "2021-03-05T12:14:05.017328",
          "exception": false,
          "start_time": "2021-03-05T12:14:04.975860",
          "status": "completed"
        },
        "tags": [],
        "id": "i4bXcknZEMy-"
      },
      "outputs": [],
      "source": [
        "# Düğüm cinsiyete göre bölünürse Gini Impurity azalması\n",
        "men_weight = 577/891\n",
        "women_weight = 314/891\n",
        "weighted_gini_impurity_sex_split = (gini_impurity_men * men_weight) + (gini_impurity_women * women_weight)\n",
        "\n",
        "sex_gini_decrease = weighted_gini_impurity_sex_split - gini_impurity_starting_node\n",
        "sex_gini_decrease"
      ]
    },
    {
      "cell_type": "markdown",
      "metadata": {
        "_cell_guid": "c2193bce-c628-0154-d205-7f37c985ab35",
        "papermill": {
          "duration": 0.038503,
          "end_time": "2021-03-05T12:14:05.094714",
          "exception": false,
          "start_time": "2021-03-05T12:14:05.056211",
          "status": "completed"
        },
        "tags": [],
        "id": "yE8Fr7N6EMy_"
      },
      "source": [
        "**Title == 1 (== Mr)** ile bölersek, aşağıdaki iki düğüme sahip oluruz:\n",
        "\n",
        "  - Sadece Mr. olan düğüm: Sadece 81'i hayatta kalan 517 gözlem\n",
        "  - Diğer başlıklara sahip düğüm: 261 hayatta kalan 374 gözlem"
      ]
    },
    {
      "cell_type": "code",
      "execution_count": null,
      "metadata": {
        "_cell_guid": "a8cf9b6c-5299-e522-07d7-cd9f1914afb8",
        "execution": {
          "iopub.execute_input": "2021-03-05T12:14:05.173321Z",
          "iopub.status.busy": "2021-03-05T12:14:05.172380Z",
          "iopub.status.idle": "2021-03-05T12:14:05.177856Z",
          "shell.execute_reply": "2021-03-05T12:14:05.178415Z"
        },
        "papermill": {
          "duration": 0.040534,
          "end_time": "2021-03-05T12:14:05.178592",
          "exception": false,
          "start_time": "2021-03-05T12:14:05.138058",
          "status": "completed"
        },
        "tags": [],
        "id": "WIeamt3KEMy_"
      },
      "outputs": [],
      "source": [
        "# Title == 1 == Mr ile gözlemler için düğümde Impurity azalması\n",
        "gini_impurity_title_1 = get_gini_impurity(81, 517)\n",
        "gini_impurity_title_1"
      ]
    },
    {
      "cell_type": "code",
      "execution_count": null,
      "metadata": {
        "_cell_guid": "b0a7c30e-d8d7-9fdb-747e-1187a158051a",
        "execution": {
          "iopub.execute_input": "2021-03-05T12:14:05.245974Z",
          "iopub.status.busy": "2021-03-05T12:14:05.245027Z",
          "iopub.status.idle": "2021-03-05T12:14:05.250450Z",
          "shell.execute_reply": "2021-03-05T12:14:05.251017Z"
        },
        "papermill": {
          "duration": 0.040834,
          "end_time": "2021-03-05T12:14:05.251175",
          "exception": false,
          "start_time": "2021-03-05T12:14:05.210341",
          "status": "completed"
        },
        "tags": [],
        "id": "a8D5AL1tEMzA"
      },
      "outputs": [],
      "source": [
        "# Title =! 1 =! Mr ile gözlemler için düğümde Impurity azalması\n",
        "gini_impurity_title_others = get_gini_impurity(261, 374)\n",
        "gini_impurity_title_others"
      ]
    },
    {
      "cell_type": "code",
      "execution_count": null,
      "metadata": {
        "_cell_guid": "8dd27088-768a-b1cd-aa51-0c907e066880",
        "execution": {
          "iopub.execute_input": "2021-03-05T12:14:05.319390Z",
          "iopub.status.busy": "2021-03-05T12:14:05.318447Z",
          "iopub.status.idle": "2021-03-05T12:14:05.324684Z",
          "shell.execute_reply": "2021-03-05T12:14:05.325238Z"
        },
        "papermill": {
          "duration": 0.042102,
          "end_time": "2021-03-05T12:14:05.325437",
          "exception": false,
          "start_time": "2021-03-05T12:14:05.283335",
          "status": "completed"
        },
        "tags": [],
        "id": "BpYavgTGEMzA"
      },
      "outputs": [],
      "source": [
        "# Düğüm Title == 1 == Mr ile gözlemler için bölünürse, Gini Impurity azalması\n",
        "title_1_weight = 517/891\n",
        "title_others_weight = 374/891\n",
        "weighted_gini_impurity_title_split = (gini_impurity_title_1 * title_1_weight) + (gini_impurity_title_others * title_others_weight)\n",
        "\n",
        "title_gini_decrease = weighted_gini_impurity_title_split - gini_impurity_starting_node\n",
        "title_gini_decrease"
      ]
    },
    {
      "cell_type": "markdown",
      "metadata": {
        "_cell_guid": "d1990369-420d-c755-71e9-5568307559f3",
        "papermill": {
          "duration": 0.032243,
          "end_time": "2021-03-05T12:14:05.390106",
          "exception": false,
          "start_time": "2021-03-05T12:14:05.357863",
          "status": "completed"
        },
        "tags": [],
        "id": "SbCoGsZ8EMzA"
      },
      "source": [
        "Title özelliğinin Gini Impurity azaltmada Cinsiyetten biraz daha iyi olduğunu görüyoruz. \n",
        "\n",
        "**Bu, önceki analizimizi doğruluyor ve artık Title'ın ilk bölünmede kullanılacağından eminiz.**\n",
        "\n",
        "Bu nedenle, bilgiler Title özelliğine zaten dahil edildiği için cinsiyet ihmal edilecektir."
      ]
    },
    {
      "cell_type": "markdown",
      "metadata": {
        "_cell_guid": "a9323d91-0b96-4811-5783-bfe85116a907",
        "papermill": {
          "duration": 0.032165,
          "end_time": "2021-03-05T12:14:05.454728",
          "exception": false,
          "start_time": "2021-03-05T12:14:05.422563",
          "status": "completed"
        },
        "tags": [],
        "id": "GVqKvRU1EMzA"
      },
      "source": [
        "## Çapraz Doğrulama yardımıyla en iyi ağaç derinliğini bulma ##\n",
        "\n",
        "Karar ağaçları söz konusu olduğunda, **'max_depth'** parametresi, modelin her bir tahmin için kullanacağı maksimum öznitelik sayısını belirler (veri kümesindeki mevcut özelliklerin sayısına kadar). Bu parametre için en iyi değeri bulmanın iyi bir yolu, mümkün olan tüm derinlikleri yinelemek ve doğruluğu **Çapraz Doğrulama (Cross Validation)** gibi sağlam bir yöntemle ölçmektir.\n",
        "\n",
        "\n",
        "\n"
      ]
    },
    {
      "cell_type": "code",
      "execution_count": null,
      "metadata": {
        "_cell_guid": "33f3999e-e0da-0e2e-dfa1-7be4824c6a36",
        "execution": {
          "iopub.execute_input": "2021-03-05T12:14:05.523502Z",
          "iopub.status.busy": "2021-03-05T12:14:05.522514Z",
          "iopub.status.idle": "2021-03-05T12:14:06.156776Z",
          "shell.execute_reply": "2021-03-05T12:14:06.157430Z"
        },
        "papermill": {
          "duration": 0.670553,
          "end_time": "2021-03-05T12:14:06.157631",
          "exception": false,
          "start_time": "2021-03-05T12:14:05.487078",
          "status": "completed"
        },
        "tags": [],
        "id": "7lHr1suPEMzB"
      },
      "outputs": [],
      "source": [
        "cv = KFold(n_splits=10)            # Desired number of Cross Validation folds\n",
        "accuracies = list()\n",
        "max_attributes = len(list(df_test))\n",
        "depth_range = range(1, max_attributes + 1)\n",
        "\n",
        "# 1'den maksimum özniteliğe maks_depthleri test etme\n",
        "# Uncomment prints for details about each Cross Validation pass\n",
        "for depth in depth_range:\n",
        "    fold_accuracy = []\n",
        "    tree_model = tree.DecisionTreeClassifier(max_depth = depth)\n",
        "    # print(\"Current max depth: \", depth, \"\\n\")\n",
        "    for train_fold, valid_fold in cv.split(df_train):\n",
        "        f_train = df_train.loc[train_fold] # Extract train data with cv indices\n",
        "        f_valid = df_train.loc[valid_fold] # Extract valid data with cv indices\n",
        "\n",
        "        model = tree_model.fit(X = f_train.drop(['Survived'], axis=1), \n",
        "                               y = f_train[\"Survived\"]) # We fit the model with the fold train data\n",
        "                               \n",
        "        valid_acc = model.score(X = f_valid.drop(['Survived'], axis=1), \n",
        "                                y = f_valid[\"Survived\"])# We calculate accuracy with the fold validation data\n",
        "        fold_accuracy.append(valid_acc)\n",
        "\n",
        "    avg = sum(fold_accuracy)/len(fold_accuracy)\n",
        "    accuracies.append(avg)\n",
        "    # print(\"Accuracy per fold: \", fold_accuracy, \"\\n\")\n",
        "    # print(\"Average accuracy: \", avg)\n",
        "    # print(\"\\n\")\n",
        "    \n",
        "# Just to show results conveniently\n",
        "df = pd.DataFrame({\"Max Depth\": depth_range, \"Average Accuracy\": accuracies})\n",
        "df = df[[\"Max Depth\", \"Average Accuracy\"]]\n",
        "print(df.to_string(index=False))"
      ]
    },
    {
      "cell_type": "markdown",
      "metadata": {
        "_cell_guid": "e98561cf-fceb-792a-49f6-810ef867d650",
        "papermill": {
          "duration": 0.033031,
          "end_time": "2021-03-05T12:14:06.223964",
          "exception": false,
          "start_time": "2021-03-05T12:14:06.190933",
          "status": "completed"
        },
        "tags": [],
        "id": "NI2LHXwTEMzB"
      },
      "source": [
        "Bu nedenle, **en iyi maksimum derinlik parametresi 3** gibi görünmektedir ve modeli daha fazla veri ile beslemek, muhtemelen overfit nedeniyle en kötü sonuçlara yol açmaktadır. \n",
        "\n",
        "Bu nedenle, son modelimiz için max_depth parametresi olarak 3 kullanacağız."
      ]
    },
    {
      "cell_type": "markdown",
      "metadata": {
        "_cell_guid": "035b62df-00f6-ab53-7082-227051ff974e",
        "papermill": {
          "duration": 0.032884,
          "end_time": "2021-03-05T12:14:06.290219",
          "exception": false,
          "start_time": "2021-03-05T12:14:06.257335",
          "status": "completed"
        },
        "tags": [],
        "id": "xaEJiQEoEMzC"
      },
      "source": [
        "## Final Tree ##"
      ]
    },
    {
      "cell_type": "code",
      "execution_count": null,
      "metadata": {
        "_cell_guid": "012339ff-5353-268f-a97b-752aa4aa3602",
        "execution": {
          "iopub.execute_input": "2021-03-05T12:14:06.371279Z",
          "iopub.status.busy": "2021-03-05T12:14:06.370126Z",
          "iopub.status.idle": "2021-03-05T12:14:07.121878Z",
          "shell.execute_reply": "2021-03-05T12:14:07.122564Z"
        },
        "papermill": {
          "duration": 0.799028,
          "end_time": "2021-03-05T12:14:07.122755",
          "exception": false,
          "start_time": "2021-03-05T12:14:06.323727",
          "status": "completed"
        },
        "tags": [],
        "id": "XL5Odc1pEMzC"
      },
      "outputs": [],
      "source": [
        "# Create Numpy arrays of train, test and target (Survived) dataframes to feed into our models\n",
        "# Modellerimizi beslemek için Numpy dizileri oluşturalım: eğitim, test ve target (Survived) dataframes\n",
        "y_train = df_train['Survived']\n",
        "x_train = df_train.drop(['Survived'], axis=1).values \n",
        "x_test = df_test.values\n",
        "\n",
        "# Create Decision Tree with max_depth = 3\n",
        "decision_tree = tree.DecisionTreeClassifier(max_depth = 3)\n",
        "decision_tree.fit(x_train, y_train)\n",
        "\n",
        "# Predicting results for test dataset\n",
        "#y_pred = decision_tree.predict(x_test)\n",
        "\n",
        "\n",
        "# Export our trained model as a .dot file\n",
        "with open(\"tree1.dot\", 'w') as f:\n",
        "     f = tree.export_graphviz(decision_tree,\n",
        "                              out_file=f,\n",
        "                              max_depth = 3,\n",
        "                              impurity = True,\n",
        "                              feature_names = list(df_train.drop(['Survived'], axis=1)),\n",
        "                              class_names = ['Died', 'Survived'],\n",
        "                              rounded = True,\n",
        "                              filled= True )\n",
        "        \n",
        "#Convert .dot to .png to allow display in web notebook\n",
        "check_call(['dot','-Tpng','tree1.dot','-o','tree1.png'])\n",
        "\n",
        "# Annotating chart with PIL\n",
        "img = Image.open(\"tree1.png\")\n",
        "draw = ImageDraw.Draw(img)\n",
        "font = ImageFont.truetype('/usr/share/fonts/truetype/liberation/LiberationSerif-Bold.ttf', 26)\n",
        "draw.text((10, 0), # Drawing offset (position)\n",
        "          '\"Title <= 1.5\" corresponds to \"Mr.\" title', # Text to draw\n",
        "          (0,0,255), # RGB desired color\n",
        "          font=font) # ImageFont object with desired font\n",
        "img.save('sample-out.png')\n",
        "PImage(\"sample-out.png\")\n",
        "\n",
        "# Code to check available fonts and respective paths\n",
        "# import matplotlib.font_manager\n",
        "# matplotlib.font_manager.findSystemFonts(fontpaths=None, fontext='ttf')"
      ]
    },
    {
      "cell_type": "code",
      "execution_count": null,
      "metadata": {
        "_cell_guid": "da2fb75f-cd2c-f3ac-5f83-a0f1ff989080",
        "execution": {
          "iopub.execute_input": "2021-03-05T12:14:07.205108Z",
          "iopub.status.busy": "2021-03-05T12:14:07.204441Z",
          "iopub.status.idle": "2021-03-05T12:14:07.210564Z",
          "shell.execute_reply": "2021-03-05T12:14:07.209926Z"
        },
        "papermill": {
          "duration": 0.050224,
          "end_time": "2021-03-05T12:14:07.210704",
          "exception": false,
          "start_time": "2021-03-05T12:14:07.160480",
          "status": "completed"
        },
        "tags": [],
        "id": "tHxFDxTeEMzC"
      },
      "outputs": [],
      "source": [
        "acc_decision_tree = round(decision_tree.score(x_train, y_train) * 100, 2)\n",
        "acc_decision_tree"
      ]
    },
    {
      "cell_type": "markdown",
      "metadata": {
        "_cell_guid": "dbd41693-028b-7cd1-3337-66de8fd85d08",
        "papermill": {
          "duration": 0.037556,
          "end_time": "2021-03-05T12:14:07.285962",
          "exception": false,
          "start_time": "2021-03-05T12:14:07.248406",
          "status": "completed"
        },
        "tags": [],
        "id": "BEMI5xRqEMzD"
      },
      "source": [
        "**Nihayet Karar Ağacımız çizildi! Eğitim veri setinde % 82,38 doğruluk elde etti. Grafiğin nasıl okunacağını açıklamaya başlayalım.**\n",
        "\n",
        "Her düğümün ilk satırı (son satırdakiler hariç) bölme koşulunu \n",
        "**\"feature <= value\"** biçiminde gösterir.\n",
        "\n",
        "Daha sonra, düğümün Gini Impurtiy değerini buluyoruz. \"Samples\" ise düğümde bulunan gözlemlerin sayısıdır.\n",
        "\n",
        "**\"Value\", örneklerin sınıf dağılımını gösterir ([count non_survived, count survived]).**\n",
        "\n",
        "Son olarak, \"class\", her düğümün baskın sınıfına karşılık gelir ve modelimiz bir gözlemi bu şekilde sınıflandırır. \n",
        "\n",
        "Modelimiz bu nedenle 4 basit kuralla özetlenebilir:\n",
        "\n",
        "* Gözlemimiz de \"Mr\" Title'ını içeriyorsa, onu hayatta kalmamış olarak sınıflandırırız.\n",
        "\n",
        "* \"Mr.\" Title'ını içermiyorsa ve FamilySize 4 veya daha küçükse, o zaman hayatta kalmış olarak sınıflandırıyoruz.\n",
        "\n",
        "* \"Mr.\" Title'ını içermiyorsa, FamilySize 4'ten fazla ve Pclass 2 veya daha küçükse, o zaman hayatta kalan olarak sınıflandırıyoruz.\n",
        "\n",
        "* \"Mr\" Title'ını içermiyorsa, FamilySize 4'ten büyükse ve Pclass 2'den fazlaysa, onu hayatta kalmamış olarak sınıflandırıyoruz.\n"
      ]
    },
    {
      "cell_type": "markdown",
      "metadata": {
        "_cell_guid": "1c4c9ece-9a53-31a2-69e3-fff9d3725e3f",
        "papermill": {
          "duration": 0.037622,
          "end_time": "2021-03-05T12:14:07.361476",
          "exception": false,
          "start_time": "2021-03-05T12:14:07.323854",
          "status": "completed"
        },
        "tags": [],
        "id": "vy4BMLKYEMzD"
      },
      "source": [
        "Bu kurallar sayesinde gemi enkazı hakkında bazı içgörüler elde edebiliriz. \n",
        "\n",
        "Görünüşe göre \"Baylar (Mr.)\" unvanlarını onurlandırdılar ve \"Usta\" veya \"Dr.\" gibi daha egzotik unvanlarla kadın ve erkekler lehine kendilerini feda ettiler.\n",
        "\n",
        "Ayrıca, daha küçük ailelerin hayatta kalma şanslarının daha yüksek olduğunu da not edebiliriz, çünkü daha büyük aileler bir arada kalmaya veya kayıp üyeleri aramaya çalıştıkları için cankurtaran sandallarında yer kalmamış olabilir. \n",
        "\n",
        "Son olarak, 3. sınıf yolcuların hayatta kalma şanslarının da daha az olduğunu gözlemleyebiliriz, bu nedenle muhtemelen üst sosyal sosyal sınıflara ait yolcular ayrıcalıklıydı veya sadece 3. sınıf kabinler cankurtaran botlarından daha uzaktaydı."
      ]
    },
    {
      "cell_type": "code",
      "execution_count": null,
      "metadata": {
        "papermill": {
          "duration": 0.037387,
          "end_time": "2021-03-05T12:14:07.436757",
          "exception": false,
          "start_time": "2021-03-05T12:14:07.399370",
          "status": "completed"
        },
        "tags": [],
        "id": "RgIUaUYuEMzD"
      },
      "outputs": [],
      "source": [
        ""
      ]
    }
  ],
  "metadata": {
    "kernelspec": {
      "display_name": "Python 3",
      "language": "python",
      "name": "python3"
    },
    "language_info": {
      "codemirror_mode": {
        "name": "ipython",
        "version": 3
      },
      "file_extension": ".py",
      "mimetype": "text/x-python",
      "name": "python",
      "nbconvert_exporter": "python",
      "pygments_lexer": "ipython3",
      "version": "3.7.9"
    },
    "papermill": {
      "default_parameters": {},
      "duration": 14.274886,
      "end_time": "2021-03-05T12:14:08.387910",
      "environment_variables": {},
      "exception": null,
      "input_path": "__notebook__.ipynb",
      "output_path": "__notebook__.ipynb",
      "parameters": {},
      "start_time": "2021-03-05T12:13:54.113024",
      "version": "2.2.2"
    },
    "colab": {
      "name": "Day7-DecisionTree-Demo1.ipynb",
      "provenance": [],
      "collapsed_sections": []
    }
  },
  "nbformat": 4,
  "nbformat_minor": 0
}