{
 "cells": [
  {
   "cell_type": "markdown",
   "metadata": {
    "id": "xJ7gNb0Eu_TL"
   },
   "source": [
    "# XGBoost\n",
    "\n",
    "\n",
    "**XGBoost**, **Extreme Gradient Boosting** ifadesinin kısaltmasıdır. \n",
    "\n",
    "Sınıflandırma ve regresyon problemlerini çözmek için kullanılabilecek güçlü bir makine öğrenme algoritmasıdır. \n",
    "\n",
    "Buradaki problem, müşterileri Horeca (Otel/Perakende/Kafe) müşterileri veya Perakende kanalı (nominal) müşterileri olarak iki farklı kanaldan sınıflandırmaktır."
   ]
  },
  {
   "cell_type": "markdown",
   "metadata": {
    "id": "nkPMxGjmu_Tt"
   },
   "source": [
    "## 1. XGBoost algoritmasına giriş\n",
    "\n",
    "\n",
    "**XGBoost (Extreme Gradient Boost)**, hız ve doğruluk için tasarlanmış gradyan destekli ağaçların bir uygulamasıdır.\n",
    "\n",
    "\n",
    "Makine öğrenimi yarışmalarında yaygın olarak kullanılan oldukça etkili bir makine öğrenimi algoritması olduğu kanıtlanmıştır. \n",
    "\n",
    "XGBoost, yüksek tahmin gücüne sahiptir ve diğer gradyan artırma tekniklerinden neredeyse 10 kat daha hızlıdır. \n",
    "\n",
    "Ayrıca, fazla takmayı azaltan ve genel performansı iyileştiren çeşitli düzenleme parametreleri içerir. \n",
    "\n",
    "Bu nedenle **düzenli güçlendirme (regularized boosting)** tekniği olarak da bilinir."
   ]
  },
  {
   "cell_type": "markdown",
   "metadata": {
    "id": "7ixN4JaLu_T1"
   },
   "source": [
    "## 2. XGBoost algoritması sezgisi\n",
    "\n",
    "### Gradyan artırma\n",
    "\n",
    "Gradyan artırma, bir dizi daha basit, daha zayıf modelin tahminlerini birleştirerek bir hedef değişkeni tahmin etmeye çalışan, denetimli bir makine öğrenimi algoritmasıdır. Güçlendirmede, ağaçlar sıralı bir şekilde inşa edilir, böylece sonraki her ağaç bir önceki ağacın hatalarını azaltmayı amaçlar. Yanlış sınıflandırılmış etiketlere daha yüksek ağırlıklar verilir. Her ağaç öncekilerden öğrenir ve kalan hataları azaltmaya çalışır. Böylece sıradaki ağaç önceki ağaç artıklarından öğrenecektir.\n",
    "\n",
    "### XGBoost\n",
    "\n",
    "XGBoost'ta, önceki adımdan üretilen kayıp fonksiyonunun gradyanına bir model uydurmaya çalışıyoruz. Bu nedenle, XGBoost'ta gradyan artırma algoritmamızı herhangi bir türevlenebilir kayıp işleviyle çalışacak şekilde değiştirdik."
   ]
  },
  {
   "cell_type": "markdown",
   "metadata": {
    "id": "9JEvfygsu_UD"
   },
   "source": [
    "## 3. Veri kümesi açıklaması\n",
    "\n",
    "Bu çalışma dosyasında UCI Machine Learning deposundan indirilen 'Toptan müşteri veri kümesi' kullanılacak.\n",
    "\n",
    "Bu veri kümesi aşağıdaki url'de bulunabilir:\n",
    "\n",
    "https://archive.ics.uci.edu/ml/datasets/Wholesale+customers"
   ]
  },
  {
   "cell_type": "markdown",
   "metadata": {
    "id": "sKYVv1TKu_UI"
   },
   "source": [
    "## 4. Kütüphaneleri Yükleme"
   ]
  },
  {
   "cell_type": "code",
   "execution_count": null,
   "metadata": {
    "id": "t4HGGLuou_UM"
   },
   "outputs": [],
   "source": [
    "import pandas as pd\n",
    "import numpy as np\n",
    "import matplotlib.pyplot as plt\n",
    "import seaborn as sns\n",
    "%matplotlib inline"
   ]
  },
  {
   "cell_type": "code",
   "execution_count": null,
   "metadata": {
    "id": "-LeSCjL4u_UP"
   },
   "outputs": [],
   "source": [
    "import warnings\n",
    "warnings.filterwarnings('ignore')"
   ]
  },
  {
   "cell_type": "markdown",
   "metadata": {
    "id": "4egTeLpNu_US"
   },
   "source": [
    "## 5. Veri Kümesini Yükleme"
   ]
  },
  {
   "cell_type": "code",
   "execution_count": null,
   "metadata": {
    "id": "l4MU7ykwvSZo"
   },
   "outputs": [],
   "source": [
    "#from google.colab import drive\n",
    "#drive.mount('/content/drive')"
   ]
  },
  {
   "cell_type": "code",
   "execution_count": null,
   "metadata": {
    "id": "HjSaYTeFvUE2"
   },
   "outputs": [],
   "source": [
    "#ROOT_DIR = \"/content/drive/MyDrive/CASGEM-Egitim/Egitim-Part1/Day7-DecisionTree/notebooks\"\n",
    "ROOT_DIR = \"https://media.githubusercontent.com/media/yapay-ogrenme/casgem-eu-project-training-on-data-mining/main/PART1/Day7-DecisionTree/notebooks/\"\n",
    "DATASET_PATH = ROOT_DIR + \"/datasets/\""
   ]
  },
  {
   "cell_type": "code",
   "execution_count": null,
   "metadata": {
    "id": "NeQ75S1Nu_UU"
   },
   "outputs": [],
   "source": [
    "# Import dataset\n",
    "data = DATASET_PATH + 'Wholesale_customers_data.csv'\n",
    "\n",
    "df = pd.read_csv(data)"
   ]
  },
  {
   "cell_type": "markdown",
   "metadata": {
    "id": "bZqvWkCyu_UW"
   },
   "source": [
    "## 6. Keşfedici Veri Analizi"
   ]
  },
  {
   "cell_type": "code",
   "execution_count": null,
   "metadata": {
    "id": "z7H9vJVgu_UY"
   },
   "outputs": [],
   "source": [
    "df.shape"
   ]
  },
  {
   "cell_type": "markdown",
   "metadata": {
    "id": "PCr2IpCBu_Ua"
   },
   "source": [
    "Veri setinde 440 örnek ve 8 öznitelik olduğunu görebiliriz."
   ]
  },
  {
   "cell_type": "markdown",
   "metadata": {
    "id": "mMUAcVDbu_Ub"
   },
   "source": [
    "### Veri kümesi önizleme"
   ]
  },
  {
   "cell_type": "code",
   "execution_count": null,
   "metadata": {
    "id": "vYucuRawu_Uc"
   },
   "outputs": [],
   "source": [
    "df.head()"
   ]
  },
  {
   "cell_type": "markdown",
   "metadata": {
    "id": "K0FfKxEmu_Ue"
   },
   "source": [
    "`Channel` değişkeninin `1` ve `2` olarak değerler içerdiğini görebiliriz. \n",
    "Bu iki değer, müşterileri Horeca (Otel/Perakende/Kafe) müşterileri için 1 ve Perakende kanalı (nominal) müşterileri için 2 olmak üzere iki farklı kanaldan sınıflandırmaktadır."
   ]
  },
  {
   "cell_type": "markdown",
   "metadata": {
    "id": "o87lCSXeu_Uf"
   },
   "source": [
    "### Veri kümesinin özeti"
   ]
  },
  {
   "cell_type": "code",
   "execution_count": null,
   "metadata": {
    "id": "0_ckP4Feu_Uf"
   },
   "outputs": [],
   "source": [
    "df.info()"
   ]
  },
  {
   "cell_type": "markdown",
   "metadata": {
    "id": "ZqqE46mJu_Uh"
   },
   "source": [
    "Veri setinde sadece sayısal değişkenlerin olduğunu görebiliriz."
   ]
  },
  {
   "cell_type": "markdown",
   "metadata": {
    "id": "Bs22vavju_Uh"
   },
   "source": [
    "### Veri kümesinin özet istatistikleri"
   ]
  },
  {
   "cell_type": "code",
   "execution_count": null,
   "metadata": {
    "id": "HD_FjmvPu_Ui"
   },
   "outputs": [],
   "source": [
    "df.describe()"
   ]
  },
  {
   "cell_type": "markdown",
   "metadata": {
    "id": "zUj5HtTEu_Uj"
   },
   "source": [
    "### Eksik değerleri kontrol edin"
   ]
  },
  {
   "cell_type": "code",
   "execution_count": null,
   "metadata": {
    "id": "ujKhiAiPu_Uk"
   },
   "outputs": [],
   "source": [
    "df.isnull().sum()"
   ]
  },
  {
   "cell_type": "markdown",
   "metadata": {
    "id": "7JnkfdN6u_Um"
   },
   "source": [
    "Veri setinde eksik değer yoktur."
   ]
  },
  {
   "cell_type": "markdown",
   "metadata": {
    "id": "SzW8O67cu_Un"
   },
   "source": [
    "## 7. Özellik vektörü ve hedef değişkeni "
   ]
  },
  {
   "cell_type": "code",
   "execution_count": null,
   "metadata": {
    "id": "pSH84qBqu_Uo"
   },
   "outputs": [],
   "source": [
    "X = df.drop('Channel', axis=1)\n",
    "\n",
    "y = df['Channel']"
   ]
  },
  {
   "cell_type": "markdown",
   "metadata": {
    "id": "30cscEB_u_Uq"
   },
   "source": [
    "### Öznitelik vektörüne (X) ve hedef değişkene (y) değerlerini inceleyelim"
   ]
  },
  {
   "cell_type": "code",
   "execution_count": null,
   "metadata": {
    "id": "Dh9lw5f-u_Uq"
   },
   "outputs": [],
   "source": [
    "X.head()"
   ]
  },
  {
   "cell_type": "code",
   "execution_count": null,
   "metadata": {
    "id": "EZzomps3u_Ur"
   },
   "outputs": [],
   "source": [
    "y.head()"
   ]
  },
  {
   "cell_type": "markdown",
   "metadata": {
    "id": "8_iB9hvTu_Us"
   },
   "source": [
    "y etiketlerinin 1 ve 2 gibi değerler içerdiğini görebiliyoruz. \n",
    "Daha fazla analiz için aşağıdaki şekilde 0 ve 1'e dönüştürelim."
   ]
  },
  {
   "cell_type": "code",
   "execution_count": null,
   "metadata": {
    "id": "3ottWbapu_Ut"
   },
   "outputs": [],
   "source": [
    "# etiketleri ikili değerlere dönüştürün\n",
    "y[y == 2] = 0\n",
    "y[y == 1] = 1"
   ]
  },
  {
   "cell_type": "code",
   "execution_count": null,
   "metadata": {
    "id": "LrlK_DtEu_Ut"
   },
   "outputs": [],
   "source": [
    "# y etiketini tekrar görüntüleyelim\n",
    "\n",
    "y.head()"
   ]
  },
  {
   "cell_type": "markdown",
   "metadata": {
    "id": "atxjpGHJu_Uu"
   },
   "source": [
    "Şimdi veri kümesini, XGBoost'un desteklediği ve ona beğenilen performans ve verimlilik kazanımları sağlayan **Dmatrix** adlı optimize edilmiş bir veri yapısına aşağıdaki şekilde dönüştürelim."
   ]
  },
  {
   "cell_type": "code",
   "execution_count": null,
   "metadata": {
    "id": "4t0ob3iiu_Uu"
   },
   "outputs": [],
   "source": [
    "# import XGBoost\n",
    "import xgboost as xgb\n",
    "\n",
    "\n",
    "# define data_dmatrix\n",
    "data_dmatrix = xgb.DMatrix(data=X,label=y)"
   ]
  },
  {
   "cell_type": "markdown",
   "metadata": {
    "id": "EKX1uotHu_Uv"
   },
   "source": [
    "## 8. Verileri eğitim ve test kümelerine ayırma"
   ]
  },
  {
   "cell_type": "code",
   "execution_count": null,
   "metadata": {
    "id": "YB8lg9DGu_Uv"
   },
   "outputs": [],
   "source": [
    "# split X and y into training and testing sets\n",
    "\n",
    "from sklearn.model_selection import train_test_split\n",
    "\n",
    "X_train, X_test, y_train, y_test = train_test_split(X, y, test_size = 0.3, random_state = 0)"
   ]
  },
  {
   "cell_type": "markdown",
   "metadata": {
    "id": "sgTkRKgFu_Uw"
   },
   "source": [
    "## 9. XGBoost sınıflandırıcısını eğitme\n",
    "\n",
    "\n",
    "Bilmemiz gereken en önemli parametreler şunlardır:\n",
    "\n",
    "\n",
    "**öğrenme oranı (learning_rate)** - Fazla takmayı önlemek için kullanılan adım boyutu küçülmesini verir. Aralığı [0,1]'dir.\n",
    "\n",
    "**maksimum derinlik (max_depth)** - Herhangi bir güçlendirme turu sırasında her bir ağacın ne kadar derin büyümesine izin verildiğini belirler.\n",
    "\n",
    "**alt örnek (subsample)** - Ağaç başına kullanılan örnek yüzdesini belirler. Alt numunenin düşük değeri yetersiz donanıma neden olabilir.\n",
    "\n",
    "**colsample_bytree** - Ağaç başına kullanılan özelliklerin yüzdesini belirler. Yüksek değeri, fazla takmaya neden olabilir.\n",
    "\n",
    "**ağaç sayısı (n_estimators)** - İnşa etmek istediğimiz ağaç sayısıdır.\n",
    "\n",
    "** objective ** - Süreçte kullanılacak kayıp fonksiyonunu belirler. Örneğin, regresyon problemleri için 'reg: lineer', sadece karar içeren sınıflandırma problemleri için 'reg: logistic', olasılıklı sınıflandırma problemleri için 'binary: logistic'.\n",
    "\n",
    "\n",
    "XGBoost, modelleri daha karmaşık hale geldikçe cezalandırmak ve basit modellere indirgemek için düzenleme parametrelerini de destekler. Bu düzenlileştirme parametreleri aşağıdaki gibidir: -\n",
    "\n",
    "\n",
    "**gama** - Belirli bir düğümün bölünmeden sonra kayıpta beklenen azalmaya göre bölünüp bölünmeyeceğini kontrol eder. Daha yüksek bir değer daha az bölünmeye yol açar. Yalnızca ağaç tabanlı öğrenenler için desteklenir.\n",
    "\n",
    "**alpha** - Yaprak ağırlıklarında bize `L1` düzenlemesini verir. Bunun büyük bir değeri daha fazla düzenlemeye yol açar.\n",
    "\n",
    "**lambda** - Yaprak ağırlıklarında bize 'L2' düzenlemesini verir ve 'L1' düzenlemesinden daha düzgündür.\n",
    "\n",
    "Temel öğrenicilerimiz olarak ağaçları kullanmamıza rağmen, XGBoost'un nispeten daha az popüler olan doğrusal temel öğrenicilerini ve \"dart\" olarak bilinen bir başka ağaç öğrenicisini de kullanabiliriz. \"Güçlendirici\" parametresini \"gbtree\" (varsayılan), \"gblinear\" veya \"dart\" olarak ayarlamamız gerekiyor."
   ]
  },
  {
   "cell_type": "code",
   "execution_count": null,
   "metadata": {
    "id": "E5LuQkHKu_Uw"
   },
   "outputs": [],
   "source": [
    "# import XGBClassifier\n",
    "from xgboost import XGBClassifier\n",
    "\n",
    "# declare parameters\n",
    "params = {\n",
    "            'objective':'binary:logistic',\n",
    "            'max_depth': 4,\n",
    "            'alpha': 10,\n",
    "            'learning_rate': 1.0,\n",
    "            'n_estimators':100\n",
    "        }\n",
    "            \n",
    "            \n",
    "# instantiate the classifier \n",
    "xgb_clf = XGBClassifier(**params)\n",
    "\n",
    "\n",
    "# fit the classifier to the training data\n",
    "xgb_clf.fit(X_train, y_train)"
   ]
  },
  {
   "cell_type": "code",
   "execution_count": null,
   "metadata": {
    "id": "8SHoXmxku_Ux"
   },
   "outputs": [],
   "source": [
    "# alternatively view the parameters of the xgb trained model\n",
    "print(xgb_clf)"
   ]
  },
  {
   "cell_type": "markdown",
   "metadata": {
    "id": "6cbxSWWau_Uy"
   },
   "source": [
    "## 10. XGBoost Sınıflandırıcı ile tahminler yapma"
   ]
  },
  {
   "cell_type": "code",
   "execution_count": null,
   "metadata": {
    "id": "TC9dsQ8wu_Uy"
   },
   "outputs": [],
   "source": [
    "# make predictions on test data\n",
    "y_pred = xgb_clf.predict(X_test)"
   ]
  },
  {
   "cell_type": "markdown",
   "metadata": {
    "id": "iuRd9cU2u_Uy"
   },
   "source": [
    "## 11. Doğruluk puanını kontrol etme"
   ]
  },
  {
   "cell_type": "code",
   "execution_count": null,
   "metadata": {
    "id": "BsjG5UkBu_Uz"
   },
   "outputs": [],
   "source": [
    "# check accuracy score\n",
    "from sklearn.metrics import accuracy_score\n",
    "\n",
    "print('XGBoost model accuracy score: {0:0.4f}'. format(accuracy_score(y_test, y_pred)))"
   ]
  },
  {
   "cell_type": "markdown",
   "metadata": {
    "id": "Q3u0fW3gu_U0"
   },
   "source": [
    "XGBoost'un %91,67 gibi çok yüksek bir doğruluk puanı aldığını görebiliriz."
   ]
  },
  {
   "cell_type": "markdown",
   "metadata": {
    "id": "f7pNMx-Ju_U0"
   },
   "source": [
    "## 12. Çapraz Doğrulama\n",
    "\n",
    "\n",
    "XGBoost ile daha sağlam modeller oluşturmak için k-kat çapraz doğrulama yapmalıyız. Bu sayede hem eğitim hem de doğrulama için orijinal eğitim veri setinin kullanılmasını sağlıyoruz. Ayrıca, her giriş yalnızca bir kez doğrulama için kullanılır. XGBoost, `cv()` yöntemini kullanarak k-kat çapraz doğrulamayı destekler. Bu yöntemde, aşağıdaki gibi birkaç parametre belirleyeceğiz: -\n",
    "\n",
    "\n",
    "**nfolds** - Bu parametre, oluşturmak istediğimiz çapraz doğrulama kümelerinin sayısını belirtir.\n",
    "\n",
    "**num_boost_round** - İnşa ettiğimiz ağaç sayısını ifade eder.\n",
    "\n",
    "**metrics** - Özgeçmiş sırasında dikkate alınması gereken performans değerlendirme metrikleridir.\n",
    "\n",
    "**as_pandas** - Sonuçları bir panda DataFrame'de döndürmek için kullanılır.\n",
    "\n",
    "**early_stopping_rounds** - Bu parametre, belirli bir tur sayısı için bekleme metriği gelişmezse modelin eğitimini erken durdurur.\n",
    "\n",
    "**seed** - Bu parametre sonuçların tekrarlanabilirliği için kullanılır.\n",
    "\n",
    "`XGBoost's CV()` yöntemini çağırarak bir k-kat çapraz doğrulama modeli oluşturmak için bu parametreleri kullanabiliriz.\n"
   ]
  },
  {
   "cell_type": "code",
   "execution_count": null,
   "metadata": {
    "id": "rafVX3yqu_U1"
   },
   "outputs": [],
   "source": [
    "from xgboost import cv\n",
    "\n",
    "params = {\"objective\":\"binary:logistic\",'colsample_bytree': 0.3,'learning_rate': 0.1, 'max_depth': 5, 'alpha': 10}\n",
    "\n",
    "xgb_cv = cv(dtrain=data_dmatrix, params=params, nfold=3,\n",
    "                    num_boost_round=50, early_stopping_rounds=10, metrics=\"auc\", as_pandas=True, seed=123)"
   ]
  },
  {
   "cell_type": "markdown",
   "metadata": {
    "id": "458jPPyhu_U2"
   },
   "source": [
    "\n",
    "`xgb_cv`, her yükseltme turu için eğitim ve test `auc` ölçümlerini içerir. `xgb_cv` ön izlemesini yapalım."
   ]
  },
  {
   "cell_type": "code",
   "execution_count": null,
   "metadata": {
    "id": "am5HA0u-u_U3"
   },
   "outputs": [],
   "source": [
    "xgb_cv.head()"
   ]
  },
  {
   "cell_type": "markdown",
   "metadata": {
    "id": "B3OlefZqu_U4"
   },
   "source": [
    "## 13. XGBoost ile özelliğin önemi\n",
    "\n",
    "\n",
    "XGBoost, model içindeki orijinal veri kümesindeki her bir özelliğin önemini incelemenin bir yolunu sunar. Modeldeki tüm artırma ağaçlarına her özelliğin kaç kez bölündüğünü saymayı içerir. Ardından sonucu, kaç kez göründüklerine göre sıralanmış özelliklerle birlikte bir çubuk grafik olarak görselleştiririz.\n",
    "\n",
    "XGBoost, bu görevi başarmamıza yardımcı olan bir **plot_importance()** işlevine sahiptir. Daha sonra tüm özellikler arasında en önemli puanı verilen özellikleri görselleştirebiliriz. Böylece XGBoost bize özellik seçimi yapmanın bir yolunu sunar."
   ]
  },
  {
   "cell_type": "code",
   "execution_count": null,
   "metadata": {
    "id": "4Y-H278Wu_U4"
   },
   "outputs": [],
   "source": [
    "xgb.plot_importance(xgb_clf)\n",
    "plt.rcParams['figure.figsize'] = [6, 4]\n",
    "plt.show()"
   ]
  },
  {
   "cell_type": "markdown",
   "metadata": {
    "id": "WJQo1xf9u_U5"
   },
   "source": [
    "Tüm özellikler arasında en yüksek önem puanının `Grocery` özelliğine verildiğini görebiliriz. Böylece XGBoost ayrıca bize Özellik Seçimi yapmak için bir yol sunar."
   ]
  },
  {
   "cell_type": "markdown",
   "metadata": {
    "id": "Lbaw6UWfu_U6"
   },
   "source": [
    "## 14. Sonuçlar\n",
    "\n",
    "\n",
    "1. Bu projede XGBoost'u Python ve Scikit-Learn ile birlikte Horeca (Otel / Perakende / Kafe) müşterileri veya Perakende kanalı (nominal) müşterileri olarak iki farklı kanaldan sınıflandırmak için uyguluyorum.\n",
    "\n",
    "2. y etiketleri 1 ve 2 gibi değerler içerir. Daha sonraki analizler için onları 0 ve 1'e çevirdim.\n",
    "3. XGBoost sınıflandırıcısını eğittim ve doğruluk puanını %91,67 olarak buldum.\n",
    "\n",
    "4. XGBoost'ta hiperparametre ayarını k-kat çapraz doğrulama yaparak yaptım.\n",
    "\n",
    "5. XGBoost'un en önemli özelliğinin `Grocey` olduğunu düşünüyorum. Bunu, bu görevi başarmamıza yardımcı olan XGBoost'taki **plot_importance()** işlevini kullanarak yaptım."
   ]
  },
  {
   "cell_type": "code",
   "execution_count": null,
   "metadata": {
    "id": "zEMtvaQ7v2K9"
   },
   "outputs": [],
   "source": []
  }
 ],
 "metadata": {
  "colab": {
   "collapsed_sections": [],
   "name": "Day7-DecisionTree-Demo2.ipynb",
   "provenance": []
  },
  "kernelspec": {
   "display_name": "Python 3",
   "language": "python",
   "name": "python3"
  },
  "language_info": {
   "codemirror_mode": {
    "name": "ipython",
    "version": 3
   },
   "file_extension": ".py",
   "mimetype": "text/x-python",
   "name": "python",
   "nbconvert_exporter": "python",
   "pygments_lexer": "ipython3",
   "version": "3.8.10"
  }
 },
 "nbformat": 4,
 "nbformat_minor": 4
}
