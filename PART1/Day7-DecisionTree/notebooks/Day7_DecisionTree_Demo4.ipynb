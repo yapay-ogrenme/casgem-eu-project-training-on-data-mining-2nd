{
  "cells": [
    {
      "cell_type": "markdown",
      "id": "be8c467c",
      "metadata": {
        "papermill": {
          "duration": 0.030554,
          "end_time": "2021-08-23T15:55:53.524614",
          "exception": false,
          "start_time": "2021-08-23T15:55:53.494060",
          "status": "completed"
        },
        "tags": [],
        "id": "be8c467c"
      },
      "source": [
        "\n",
        "# 🌳 Karar Ağacı & Rastgele Orman (Random Forest)\n",
        "\n",
        "# 1. Karar Ağacı\n",
        "\n",
        "Karar Ağaçları, tahmine dayalı modelleme makine öğrenimi için önemli bir algoritma türüdür.\n",
        "\n",
        "Klasik karar ağacı algoritmaları onlarca yıldır kullanılmaktadır ve rastgele orman gibi modern varyasyonları mevcut en güçlü teknikler arasındadır.\n",
        "\n",
        "# 2. Random Forest\n",
        "**Random Forest**, en popüler ve en güçlü makine öğrenme algoritmalarından biridir. **Bootstrap Aggregation veya bagging adı verilen bir tür topluluk makine öğrenimi algoritmasıdır.**\n"
      ]
    },
    {
      "cell_type": "markdown",
      "id": "7c8f446d",
      "metadata": {
        "papermill": {
          "duration": 0.02696,
          "end_time": "2021-08-23T15:55:53.581225",
          "exception": false,
          "start_time": "2021-08-23T15:55:53.554265",
          "status": "completed"
        },
        "tags": [],
        "id": "7c8f446d"
      },
      "source": [
        "# 3. Karar Ağacı & Random Forest Uygulaması\n"
      ]
    },
    {
      "cell_type": "code",
      "execution_count": null,
      "id": "5c2b48e6",
      "metadata": {
        "execution": {
          "iopub.execute_input": "2021-08-23T15:55:53.639575Z",
          "iopub.status.busy": "2021-08-23T15:55:53.638570Z",
          "iopub.status.idle": "2021-08-23T15:55:54.501637Z",
          "shell.execute_reply": "2021-08-23T15:55:54.502135Z",
          "shell.execute_reply.started": "2021-08-23T15:20:06.057606Z"
        },
        "papermill": {
          "duration": 0.893876,
          "end_time": "2021-08-23T15:55:54.502417",
          "exception": false,
          "start_time": "2021-08-23T15:55:53.608541",
          "status": "completed"
        },
        "tags": [],
        "id": "5c2b48e6"
      },
      "outputs": [],
      "source": [
        "import pandas as pd\n",
        "import numpy as np\n",
        "import matplotlib.pyplot as plt\n",
        "import seaborn as sns\n",
        "\n",
        "%matplotlib inline\n",
        "sns.set_style(\"whitegrid\")\n",
        "plt.style.use(\"fivethirtyeight\")"
      ]
    },
    {
      "cell_type": "code",
      "source": [
        "#ROOT_DIR = \"/content/drive/MyDrive/CASGEM-Egitim/Egitim-Part1/Day7-DecisionTree/notebooks\"\n",
        "ROOT_DIR = \"https://raw.githubusercontent.com/yapay-ogrenme/casgem-eu-project-training-on-data-mining/main/PART1/Day7-DecisionTree/notebooks/\"\n",
        "\n",
        "DATASET_PATH = ROOT_DIR + \"/datasets/\""
      ],
      "metadata": {
        "id": "Ful2fx_0e3dk"
      },
      "id": "Ful2fx_0e3dk",
      "execution_count": null,
      "outputs": []
    },
    {
      "cell_type": "code",
      "execution_count": null,
      "id": "d7924d2a",
      "metadata": {
        "execution": {
          "iopub.execute_input": "2021-08-23T15:55:54.561606Z",
          "iopub.status.busy": "2021-08-23T15:55:54.561081Z",
          "iopub.status.idle": "2021-08-23T15:55:54.619572Z",
          "shell.execute_reply": "2021-08-23T15:55:54.620106Z",
          "shell.execute_reply.started": "2021-08-23T15:20:07.147144Z"
        },
        "papermill": {
          "duration": 0.089459,
          "end_time": "2021-08-23T15:55:54.620289",
          "exception": false,
          "start_time": "2021-08-23T15:55:54.530830",
          "status": "completed"
        },
        "tags": [],
        "id": "d7924d2a"
      },
      "outputs": [],
      "source": [
        "df = pd.read_csv(DATASET_PATH + \"WA_Fn-UseC_-HR-Employee-Attrition.csv\")\n",
        "df.head()"
      ]
    },
    {
      "cell_type": "markdown",
      "id": "c283334a",
      "metadata": {
        "papermill": {
          "duration": 0.028593,
          "end_time": "2021-08-23T15:55:54.677779",
          "exception": false,
          "start_time": "2021-08-23T15:55:54.649186",
          "status": "completed"
        },
        "tags": [],
        "id": "c283334a"
      },
      "source": [
        "# Keşifsel Veri Analizi"
      ]
    },
    {
      "cell_type": "code",
      "execution_count": null,
      "id": "11995692",
      "metadata": {
        "execution": {
          "iopub.execute_input": "2021-08-23T15:55:54.737908Z",
          "iopub.status.busy": "2021-08-23T15:55:54.737343Z",
          "iopub.status.idle": "2021-08-23T15:55:54.891889Z",
          "shell.execute_reply": "2021-08-23T15:55:54.892298Z",
          "shell.execute_reply.started": "2021-08-23T15:20:07.220413Z"
        },
        "papermill": {
          "duration": 0.185974,
          "end_time": "2021-08-23T15:55:54.892477",
          "exception": false,
          "start_time": "2021-08-23T15:55:54.706503",
          "status": "completed"
        },
        "tags": [],
        "id": "11995692"
      },
      "outputs": [],
      "source": [
        "sns.countplot(x='Attrition', data=df)"
      ]
    },
    {
      "cell_type": "code",
      "execution_count": null,
      "id": "7d9e66e8",
      "metadata": {
        "execution": {
          "iopub.execute_input": "2021-08-23T15:55:54.959708Z",
          "iopub.status.busy": "2021-08-23T15:55:54.959131Z",
          "iopub.status.idle": "2021-08-23T15:55:54.968302Z",
          "shell.execute_reply": "2021-08-23T15:55:54.968690Z",
          "shell.execute_reply.started": "2021-08-23T15:20:07.415981Z"
        },
        "papermill": {
          "duration": 0.045703,
          "end_time": "2021-08-23T15:55:54.968873",
          "exception": false,
          "start_time": "2021-08-23T15:55:54.923170",
          "status": "completed"
        },
        "tags": [],
        "id": "7d9e66e8"
      },
      "outputs": [],
      "source": [
        "df.drop(['EmployeeCount', 'EmployeeNumber', 'Over18', 'StandardHours'], axis=\"columns\", inplace=True)\n",
        "\n",
        "categorical_col = []\n",
        "for column in df.columns:\n",
        "    if df[column].dtype == object and len(df[column].unique()) <= 50:\n",
        "        categorical_col.append(column)\n",
        "        \n",
        "df['Attrition'] = df.Attrition.astype(\"category\").cat.codes"
      ]
    },
    {
      "cell_type": "markdown",
      "id": "6e11330e",
      "metadata": {
        "papermill": {
          "duration": 0.042432,
          "end_time": "2021-08-23T15:55:55.043646",
          "exception": false,
          "start_time": "2021-08-23T15:55:55.001214",
          "status": "completed"
        },
        "tags": [],
        "id": "6e11330e"
      },
      "source": [
        "# Veri İşleme"
      ]
    },
    {
      "cell_type": "code",
      "execution_count": null,
      "id": "8995d181",
      "metadata": {
        "execution": {
          "iopub.execute_input": "2021-08-23T15:55:55.112346Z",
          "iopub.status.busy": "2021-08-23T15:55:55.111456Z",
          "iopub.status.idle": "2021-08-23T15:55:55.115363Z",
          "shell.execute_reply": "2021-08-23T15:55:55.115915Z",
          "shell.execute_reply.started": "2021-08-23T15:20:07.430824Z"
        },
        "papermill": {
          "duration": 0.042206,
          "end_time": "2021-08-23T15:55:55.116084",
          "exception": false,
          "start_time": "2021-08-23T15:55:55.073878",
          "status": "completed"
        },
        "tags": [],
        "id": "8995d181"
      },
      "outputs": [],
      "source": [
        "categorical_col.remove('Attrition')"
      ]
    },
    {
      "cell_type": "code",
      "execution_count": null,
      "id": "8ca73ab6",
      "metadata": {
        "_kg_hide-output": true,
        "execution": {
          "iopub.execute_input": "2021-08-23T15:55:55.180878Z",
          "iopub.status.busy": "2021-08-23T15:55:55.180262Z",
          "iopub.status.idle": "2021-08-23T15:55:55.314087Z",
          "shell.execute_reply": "2021-08-23T15:55:55.314537Z",
          "shell.execute_reply.started": "2021-08-23T15:20:07.446313Z"
        },
        "papermill": {
          "duration": 0.167475,
          "end_time": "2021-08-23T15:55:55.314714",
          "exception": false,
          "start_time": "2021-08-23T15:55:55.147239",
          "status": "completed"
        },
        "tags": [],
        "id": "8ca73ab6"
      },
      "outputs": [],
      "source": [
        "# Transform categorical data into dummies\n",
        "# categorical_col.remove(\"Attrition\")\n",
        "# data = pd.get_dummies(df, columns=categorical_col)\n",
        "# data.info()\n",
        "from sklearn.preprocessing import LabelEncoder\n",
        "\n",
        "label = LabelEncoder()\n",
        "for column in categorical_col:\n",
        "    df[column] = label.fit_transform(df[column])"
      ]
    },
    {
      "cell_type": "code",
      "execution_count": null,
      "id": "5cca58f1",
      "metadata": {
        "execution": {
          "iopub.execute_input": "2021-08-23T15:55:55.382589Z",
          "iopub.status.busy": "2021-08-23T15:55:55.381940Z",
          "iopub.status.idle": "2021-08-23T15:55:55.432919Z",
          "shell.execute_reply": "2021-08-23T15:55:55.433428Z",
          "shell.execute_reply.started": "2021-08-23T15:20:07.604282Z"
        },
        "papermill": {
          "duration": 0.087943,
          "end_time": "2021-08-23T15:55:55.433593",
          "exception": false,
          "start_time": "2021-08-23T15:55:55.345650",
          "status": "completed"
        },
        "tags": [],
        "id": "5cca58f1"
      },
      "outputs": [],
      "source": [
        "from sklearn.model_selection import train_test_split\n",
        "\n",
        "X = df.drop('Attrition', axis=1)\n",
        "y = df.Attrition\n",
        "\n",
        "X_train, X_test, y_train, y_test = train_test_split(X, y, test_size=0.3, random_state=42)"
      ]
    },
    {
      "cell_type": "markdown",
      "id": "65106b82",
      "metadata": {
        "papermill": {
          "duration": 0.029802,
          "end_time": "2021-08-23T15:55:55.493748",
          "exception": false,
          "start_time": "2021-08-23T15:55:55.463946",
          "status": "completed"
        },
        "tags": [],
        "id": "65106b82"
      },
      "source": [
        "# Ağaç & Random Forest algoritmalarının uygulanması"
      ]
    },
    {
      "cell_type": "code",
      "execution_count": null,
      "id": "6193382e",
      "metadata": {
        "execution": {
          "iopub.execute_input": "2021-08-23T15:55:55.558164Z",
          "iopub.status.busy": "2021-08-23T15:55:55.557099Z",
          "iopub.status.idle": "2021-08-23T15:55:55.564398Z",
          "shell.execute_reply": "2021-08-23T15:55:55.563971Z",
          "shell.execute_reply.started": "2021-08-23T15:20:07.677202Z"
        },
        "papermill": {
          "duration": 0.040358,
          "end_time": "2021-08-23T15:55:55.564542",
          "exception": false,
          "start_time": "2021-08-23T15:55:55.524184",
          "status": "completed"
        },
        "tags": [],
        "id": "6193382e"
      },
      "outputs": [],
      "source": [
        "from sklearn.metrics import accuracy_score, confusion_matrix, classification_report\n",
        "\n",
        "def print_score(clf, X_train, y_train, X_test, y_test, train=True):\n",
        "    if train:\n",
        "        pred = clf.predict(X_train)\n",
        "        clf_report = pd.DataFrame(classification_report(y_train, pred, output_dict=True))\n",
        "        print(\"Train Result:\\n================================================\")\n",
        "        print(f\"Accuracy Score: {accuracy_score(y_train, pred) * 100:.2f}%\")\n",
        "        print(\"_______________________________________________\")\n",
        "        print(f\"CLASSIFICATION REPORT:\\n{clf_report}\")\n",
        "        print(\"_______________________________________________\")\n",
        "        print(f\"Confusion Matrix: \\n {confusion_matrix(y_train, pred)}\\n\")\n",
        "        \n",
        "    elif train==False:\n",
        "        pred = clf.predict(X_test)\n",
        "        clf_report = pd.DataFrame(classification_report(y_test, pred, output_dict=True))\n",
        "        print(\"Test Result:\\n================================================\")        \n",
        "        print(f\"Accuracy Score: {accuracy_score(y_test, pred) * 100:.2f}%\")\n",
        "        print(\"_______________________________________________\")\n",
        "        print(f\"CLASSIFICATION REPORT:\\n{clf_report}\")\n",
        "        print(\"_______________________________________________\")\n",
        "        print(f\"Confusion Matrix: \\n {confusion_matrix(y_test, pred)}\\n\")"
      ]
    },
    {
      "cell_type": "markdown",
      "id": "0147ba7f",
      "metadata": {
        "papermill": {
          "duration": 0.029964,
          "end_time": "2021-08-23T15:55:55.624719",
          "exception": false,
          "start_time": "2021-08-23T15:55:55.594755",
          "status": "completed"
        },
        "tags": [],
        "id": "0147ba7f"
      },
      "source": [
        "## 1. Karar Ağacı ile Sınıflandıma\n",
        "\n",
        "**Decision Tree parametreleri:**\n",
        "\n",
        "- `criterion`: Bir bölünmenin kalitesini ölçme işlevi. Desteklenen kriterler Gini safsızlığı (Gini impurity) için \"`gini`\" ve bilgi kazancı için \"`entropy`\"dir.\n",
        "***\n",
        "- `splitter`: Her düğümde bölmeyi seçmek için kullanılan strateji. Desteklenen stratejiler, en iyi bölmeyi seçmek için \"`best`\" ve en iyi rastgele bölmeyi seçmek için \"`random`\"dir.\n",
        "***\n",
        "- `max_depth`: Ağacın maksimum derinliği. \"`None`\" ise, tüm yapraklar saf olana kadar veya tüm yapraklar \"`min_samples_split`\" örneklerinden daha azını içerene kadar düğümler genişletilir.\n",
        "***\n",
        "- `min_samples_split`: Bir dahili düğümü bölmek için gereken minimum örnek sayısı.\n",
        "***\n",
        "- `min_samples_leaf`: Bir yaprak düğümde olması gereken minimum örneklem sayısı. Herhangi bir derinlikteki bir bölünme noktası, yalnızca sol ve sağ dalların her birinde en az ``min_samples_leaf`` eğitim örneği bırakırsa dikkate alınacaktır.\n",
        "***\n",
        "- `max_features`: En iyi bölünmeyi ararken göz önünde bulundurulması gereken özelliklerin sayısı.\n",
        "***\n",
        "- `max_leaf_nodes`: En iyi şekilde \"max_leaf_nodes\" ile bir ağaç büyütmek anlamına gelir. En iyi düğümler, kirliliğin göreceli olarak azalması olarak tanımlanır. \"None\" ise, sınırsız sayıda yaprak düğümü anlamına gelir.\n",
        "***\n",
        "- `min_impurity_decrease`: Bir bölünme, ancak bu değerden daha büyük veya buna eşit değerde safsızlıkta bir azalmaya neden olursa, bir düğümün bölünmesi sağlanacaktır.\n",
        "***\n",
        "- `min_impurity_split`: Ağaç büyümesini erken durdurma eşiği (early stopping). Bir düğüm, safsızlık eşiğinin üzerindeyse bölünür, aksi takdirde bir yaprak olarak kalır."
      ]
    },
    {
      "cell_type": "code",
      "execution_count": null,
      "id": "a935de40",
      "metadata": {
        "execution": {
          "iopub.execute_input": "2021-08-23T15:55:55.687067Z",
          "iopub.status.busy": "2021-08-23T15:55:55.686452Z",
          "iopub.status.idle": "2021-08-23T15:55:55.878559Z",
          "shell.execute_reply": "2021-08-23T15:55:55.877664Z",
          "shell.execute_reply.started": "2021-08-23T15:20:07.687739Z"
        },
        "papermill": {
          "duration": 0.224503,
          "end_time": "2021-08-23T15:55:55.878753",
          "exception": false,
          "start_time": "2021-08-23T15:55:55.654250",
          "status": "completed"
        },
        "tags": [],
        "id": "a935de40"
      },
      "outputs": [],
      "source": [
        "from sklearn.tree import DecisionTreeClassifier\n",
        "\n",
        "tree_clf = DecisionTreeClassifier(random_state=42)\n",
        "tree_clf.fit(X_train, y_train)\n",
        "\n",
        "print_score(tree_clf, X_train, y_train, X_test, y_test, train=True)\n",
        "print_score(tree_clf, X_train, y_train, X_test, y_test, train=False)"
      ]
    },
    {
      "cell_type": "markdown",
      "id": "bd65dedf",
      "metadata": {
        "papermill": {
          "duration": 0.029455,
          "end_time": "2021-08-23T15:55:55.940173",
          "exception": false,
          "start_time": "2021-08-23T15:55:55.910718",
          "status": "completed"
        },
        "tags": [],
        "id": "bd65dedf"
      },
      "source": [
        "## 2. Karar Ağacı Hiperparametre Ayarlaması"
      ]
    },
    {
      "cell_type": "code",
      "execution_count": null,
      "id": "df73b606",
      "metadata": {
        "execution": {
          "iopub.execute_input": "2021-08-23T15:55:56.010226Z",
          "iopub.status.busy": "2021-08-23T15:55:56.009340Z",
          "iopub.status.idle": "2021-08-23T15:56:39.734767Z",
          "shell.execute_reply": "2021-08-23T15:56:39.735204Z",
          "shell.execute_reply.started": "2021-08-23T15:20:07.946793Z"
        },
        "papermill": {
          "duration": 43.764989,
          "end_time": "2021-08-23T15:56:39.735373",
          "exception": false,
          "start_time": "2021-08-23T15:55:55.970384",
          "status": "completed"
        },
        "tags": [],
        "id": "df73b606"
      },
      "outputs": [],
      "source": [
        "from sklearn.tree import DecisionTreeClassifier\n",
        "from sklearn.model_selection import GridSearchCV\n",
        "\n",
        "params = {\n",
        "    \"criterion\":(\"gini\", \"entropy\"), \n",
        "    \"splitter\":(\"best\", \"random\"), \n",
        "    \"max_depth\":(list(range(1, 20))), \n",
        "    \"min_samples_split\":[2, 3, 4], \n",
        "    \"min_samples_leaf\":list(range(1, 20)), \n",
        "}\n",
        "\n",
        "\n",
        "tree_clf = DecisionTreeClassifier(random_state=42)\n",
        "tree_cv = GridSearchCV(tree_clf, params, scoring=\"accuracy\", n_jobs=-1, verbose=1, cv=3)\n",
        "tree_cv.fit(X_train, y_train)\n",
        "best_params = tree_cv.best_params_\n",
        "print(f\"Best paramters: {best_params})\")\n",
        "\n",
        "tree_clf = DecisionTreeClassifier(**best_params)\n",
        "tree_clf.fit(X_train, y_train)\n",
        "print_score(tree_clf, X_train, y_train, X_test, y_test, train=True)\n",
        "print_score(tree_clf, X_train, y_train, X_test, y_test, train=False)"
      ]
    },
    {
      "cell_type": "markdown",
      "id": "04419a96",
      "metadata": {
        "papermill": {
          "duration": 0.031048,
          "end_time": "2021-08-23T15:56:39.798480",
          "exception": false,
          "start_time": "2021-08-23T15:56:39.767432",
          "status": "completed"
        },
        "tags": [],
        "id": "04419a96"
      },
      "source": [
        "### Ağacı görselleştirme"
      ]
    },
    {
      "cell_type": "code",
      "execution_count": null,
      "id": "80753f9a",
      "metadata": {
        "execution": {
          "iopub.execute_input": "2021-08-23T15:56:39.866577Z",
          "iopub.status.busy": "2021-08-23T15:56:39.866030Z",
          "iopub.status.idle": "2021-08-23T15:56:39.876027Z",
          "shell.execute_reply": "2021-08-23T15:56:39.875525Z",
          "shell.execute_reply.started": "2021-08-23T15:20:59.248332Z"
        },
        "papermill": {
          "duration": 0.04611,
          "end_time": "2021-08-23T15:56:39.876163",
          "exception": false,
          "start_time": "2021-08-23T15:56:39.830053",
          "status": "completed"
        },
        "tags": [],
        "id": "80753f9a"
      },
      "outputs": [],
      "source": [
        "from IPython.display import Image\n",
        "from six import StringIO\n",
        "from sklearn.tree import export_graphviz\n",
        "import pydot\n",
        "\n",
        "features = list(df.columns)\n",
        "features.remove(\"Attrition\")"
      ]
    },
    {
      "cell_type": "code",
      "execution_count": null,
      "id": "53b669dc",
      "metadata": {
        "execution": {
          "iopub.execute_input": "2021-08-23T15:56:39.942661Z",
          "iopub.status.busy": "2021-08-23T15:56:39.942129Z",
          "iopub.status.idle": "2021-08-23T15:56:41.034420Z",
          "shell.execute_reply": "2021-08-23T15:56:41.034841Z",
          "shell.execute_reply.started": "2021-08-23T15:20:59.261602Z"
        },
        "papermill": {
          "duration": 1.126876,
          "end_time": "2021-08-23T15:56:41.035026",
          "exception": false,
          "start_time": "2021-08-23T15:56:39.908150",
          "status": "completed"
        },
        "tags": [],
        "id": "53b669dc"
      },
      "outputs": [],
      "source": [
        "dot_data = StringIO()\n",
        "export_graphviz(tree_clf, out_file=dot_data, feature_names=features, filled=True)\n",
        "graph = pydot.graph_from_dot_data(dot_data.getvalue())\n",
        "Image(graph[0].create_png())"
      ]
    },
    {
      "cell_type": "markdown",
      "id": "3ae7679b",
      "metadata": {
        "papermill": {
          "duration": 0.05091,
          "end_time": "2021-08-23T15:56:41.134376",
          "exception": false,
          "start_time": "2021-08-23T15:56:41.083466",
          "status": "completed"
        },
        "tags": [],
        "id": "3ae7679b"
      },
      "source": [
        "\n",
        "# 3. Rastgele Orman (Random Forest)\n",
        "\n",
        "Rastgele orman, veri kümesinin çeşitli alt örneklerinde bir dizi karar ağacı sınıflandırıcısına uyan bir meta tahmin edicidir ve tahmin doğruluğunu iyileştirmek ve overfittingi kontrol etmek için ortalamayı kullanır.\n",
        "\n",
        "**Random forest algoritmasının parametreleri:**\n",
        "\n",
        "- `n_estimators`: Ormandaki ağaç sayısı.\n",
        "*** \n",
        "- `criterion`: Bir bölünmenin kalitesini ölçme işlevi. Desteklenen kriterler Gini safsızlığı (Gini impurity) için \"`gini`\" ve bilgi kazancı için \"`entropy`\"dir.\n",
        "***\n",
        "- `max_depth`\n",
        "***\n",
        "- `min_samples_split`\n",
        "***\n",
        "- `min_samples_leaf`\n",
        "***\n",
        "- `max_features`\n",
        "***\n",
        "- `max_leaf_nodes`\n",
        "***\n",
        "- `min_impurity_decrease`\n",
        "***\n",
        "- `min_impurity_split`\n",
        "***\n",
        "- `bootstrap`: Ağaç oluştururken önyükleme örneklerinin kullanılıp kullanılmadığı. \"False\" ise, her ağacı oluşturmak için tüm veri kümesi kullanılır.\n",
        "***\n",
        "- `oob_score`: Genelleme doğruluğunu tahmin etmek için torba dışı örneklerin kullanılıp kullanılmayacağı."
      ]
    },
    {
      "cell_type": "code",
      "execution_count": null,
      "id": "44c28844",
      "metadata": {
        "execution": {
          "iopub.execute_input": "2021-08-23T15:56:41.235534Z",
          "iopub.status.busy": "2021-08-23T15:56:41.234611Z",
          "iopub.status.idle": "2021-08-23T15:56:41.588348Z",
          "shell.execute_reply": "2021-08-23T15:56:41.587754Z",
          "shell.execute_reply.started": "2021-08-23T15:21:00.554672Z"
        },
        "papermill": {
          "duration": 0.405214,
          "end_time": "2021-08-23T15:56:41.588479",
          "exception": false,
          "start_time": "2021-08-23T15:56:41.183265",
          "status": "completed"
        },
        "tags": [],
        "id": "44c28844"
      },
      "outputs": [],
      "source": [
        "from sklearn.ensemble import RandomForestClassifier\n",
        "\n",
        "rf_clf = RandomForestClassifier(n_estimators=100)\n",
        "rf_clf.fit(X_train, y_train)\n",
        "\n",
        "print_score(rf_clf, X_train, y_train, X_test, y_test, train=True)\n",
        "print_score(rf_clf, X_train, y_train, X_test, y_test, train=False)"
      ]
    },
    {
      "cell_type": "markdown",
      "id": "706baefa",
      "metadata": {
        "papermill": {
          "duration": 0.048124,
          "end_time": "2021-08-23T15:56:41.685552",
          "exception": false,
          "start_time": "2021-08-23T15:56:41.637428",
          "status": "completed"
        },
        "tags": [],
        "id": "706baefa"
      },
      "source": [
        "## 4. Random Forest hiperparametre ayarlaması\n",
        "\n",
        "\n"
      ]
    },
    {
      "cell_type": "markdown",
      "id": "3311f77a",
      "metadata": {
        "papermill": {
          "duration": 0.048198,
          "end_time": "2021-08-23T15:56:41.782550",
          "exception": false,
          "start_time": "2021-08-23T15:56:41.734352",
          "status": "completed"
        },
        "tags": [],
        "id": "3311f77a"
      },
      "source": [
        "### a) Randomized Search Cross Validation"
      ]
    },
    {
      "cell_type": "code",
      "execution_count": null,
      "id": "5ac5de57",
      "metadata": {
        "execution": {
          "iopub.execute_input": "2021-08-23T15:56:41.888147Z",
          "iopub.status.busy": "2021-08-23T15:56:41.887491Z",
          "iopub.status.idle": "2021-08-23T16:01:29.454008Z",
          "shell.execute_reply": "2021-08-23T16:01:29.453547Z",
          "shell.execute_reply.started": "2021-08-23T15:21:00.974196Z"
        },
        "papermill": {
          "duration": 287.623258,
          "end_time": "2021-08-23T16:01:29.454149",
          "exception": false,
          "start_time": "2021-08-23T15:56:41.830891",
          "status": "completed"
        },
        "tags": [],
        "id": "5ac5de57"
      },
      "outputs": [],
      "source": [
        "from sklearn.ensemble import RandomForestClassifier\n",
        "from sklearn.model_selection import RandomizedSearchCV\n",
        "\n",
        "n_estimators = [int(x) for x in np.linspace(start=200, stop=2000, num=10)]\n",
        "max_features = ['auto', 'sqrt']\n",
        "max_depth = [int(x) for x in np.linspace(10, 110, num=11)]\n",
        "max_depth.append(None)\n",
        "min_samples_split = [2, 5, 10]\n",
        "min_samples_leaf = [1, 2, 4]\n",
        "bootstrap = [True, False]\n",
        "\n",
        "random_grid = {'n_estimators': n_estimators, 'max_features': max_features,\n",
        "               'max_depth': max_depth, 'min_samples_split': min_samples_split,\n",
        "               'min_samples_leaf': min_samples_leaf, 'bootstrap': bootstrap}\n",
        "\n",
        "rf_clf = RandomForestClassifier(random_state=42)\n",
        "\n",
        "rf_cv = RandomizedSearchCV(estimator=rf_clf, scoring='f1',param_distributions=random_grid, n_iter=100, cv=3, \n",
        "                               verbose=2, random_state=42, n_jobs=-1)\n",
        "\n",
        "rf_cv.fit(X_train, y_train)\n",
        "rf_best_params = rf_cv.best_params_\n",
        "print(f\"Best paramters: {rf_best_params})\")\n",
        "\n",
        "rf_clf = RandomForestClassifier(**rf_best_params)\n",
        "rf_clf.fit(X_train, y_train)\n",
        "\n",
        "print_score(rf_clf, X_train, y_train, X_test, y_test, train=True)\n",
        "print_score(rf_clf, X_train, y_train, X_test, y_test, train=False)"
      ]
    },
    {
      "cell_type": "markdown",
      "id": "31c6edc2",
      "metadata": {
        "papermill": {
          "duration": 0.049856,
          "end_time": "2021-08-23T16:01:29.554803",
          "exception": false,
          "start_time": "2021-08-23T16:01:29.504947",
          "status": "completed"
        },
        "tags": [],
        "id": "31c6edc2"
      },
      "source": [
        "`Random search`, her bir hiperparametre için aralığı daraltmamıza izin verir. Artık aramamızı nereye yoğunlaştıracağımızı bildiğimize göre, denenecek her hiperparametre kombinasyonunu açıkça belirtebiliriz. Bunu, bir dağılımdan rastgele örnekleme yapmak yerine tanımladığımız tüm kombinasyonları değerlendiren bir yöntem olan `GridSearchCV` ile yapıyoruz.\n"
      ]
    },
    {
      "cell_type": "markdown",
      "id": "ee1ad731",
      "metadata": {
        "papermill": {
          "duration": 0.05046,
          "end_time": "2021-08-23T16:01:29.655036",
          "exception": false,
          "start_time": "2021-08-23T16:01:29.604576",
          "status": "completed"
        },
        "tags": [],
        "id": "ee1ad731"
      },
      "source": [
        "### b) Grid Search Cross Validation"
      ]
    },
    {
      "cell_type": "code",
      "execution_count": null,
      "id": "97ec64de",
      "metadata": {
        "execution": {
          "iopub.execute_input": "2021-08-23T16:01:29.766429Z",
          "iopub.status.busy": "2021-08-23T16:01:29.765787Z",
          "iopub.status.idle": "2021-08-23T16:22:35.133306Z",
          "shell.execute_reply": "2021-08-23T16:22:35.132389Z",
          "shell.execute_reply.started": "2021-08-23T15:26:43.627979Z"
        },
        "papermill": {
          "duration": 1265.428359,
          "end_time": "2021-08-23T16:22:35.133584",
          "exception": false,
          "start_time": "2021-08-23T16:01:29.705225",
          "status": "completed"
        },
        "tags": [],
        "id": "97ec64de"
      },
      "outputs": [],
      "source": [
        "n_estimators = [100, 500, 1000, 1500]\n",
        "max_features = ['auto', 'sqrt']\n",
        "max_depth = [2, 3, 5]\n",
        "max_depth.append(None)\n",
        "min_samples_split = [2, 5, 10]\n",
        "min_samples_leaf = [1, 2, 4, 10]\n",
        "bootstrap = [True, False]\n",
        "\n",
        "params_grid = {'n_estimators': n_estimators, 'max_features': max_features,\n",
        "               'max_depth': max_depth, 'min_samples_split': min_samples_split,\n",
        "               'min_samples_leaf': min_samples_leaf, 'bootstrap': bootstrap}\n",
        "\n",
        "rf_clf = RandomForestClassifier(random_state=42)\n",
        "\n",
        "rf_cv = GridSearchCV(rf_clf, params_grid, scoring=\"f1\", cv=3, verbose=2, n_jobs=-1)\n",
        "\n",
        "\n",
        "rf_cv.fit(X_train, y_train)\n",
        "best_params = rf_cv.best_params_\n",
        "print(f\"Best parameters: {best_params}\")\n",
        "\n",
        "rf_clf = RandomForestClassifier(**best_params)\n",
        "rf_clf.fit(X_train, y_train)\n",
        "\n",
        "print_score(rf_clf, X_train, y_train, X_test, y_test, train=True)\n",
        "print_score(rf_clf, X_train, y_train, X_test, y_test, train=False)"
      ]
    },
    {
      "cell_type": "code",
      "source": [
        ""
      ],
      "metadata": {
        "id": "iFeGdyoYfbns"
      },
      "id": "iFeGdyoYfbns",
      "execution_count": null,
      "outputs": []
    }
  ],
  "metadata": {
    "kernelspec": {
      "display_name": "Python 3",
      "language": "python",
      "name": "python3"
    },
    "language_info": {
      "codemirror_mode": {
        "name": "ipython",
        "version": 3
      },
      "file_extension": ".py",
      "mimetype": "text/x-python",
      "name": "python",
      "nbconvert_exporter": "python",
      "pygments_lexer": "ipython3",
      "version": "3.7.10"
    },
    "papermill": {
      "default_parameters": {},
      "duration": 1610.168554,
      "end_time": "2021-08-23T16:22:36.953180",
      "environment_variables": {},
      "exception": null,
      "input_path": "__notebook__.ipynb",
      "output_path": "__notebook__.ipynb",
      "parameters": {},
      "start_time": "2021-08-23T15:55:46.784626",
      "version": "2.3.3"
    },
    "colab": {
      "name": "Day7-DecisionTree-Demo4.ipynb",
      "provenance": [],
      "collapsed_sections": []
    }
  },
  "nbformat": 4,
  "nbformat_minor": 5
}