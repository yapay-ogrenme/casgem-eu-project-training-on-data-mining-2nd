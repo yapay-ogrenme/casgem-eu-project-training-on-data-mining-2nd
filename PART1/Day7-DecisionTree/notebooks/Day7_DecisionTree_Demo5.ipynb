{
  "cells": [
    {
      "cell_type": "markdown",
      "metadata": {
        "papermill": {
          "duration": 0.019826,
          "end_time": "2021-06-22T05:17:34.058461",
          "exception": false,
          "start_time": "2021-06-22T05:17:34.038635",
          "status": "completed"
        },
        "tags": [],
        "id": "8NYfj0BzdcRq"
      },
      "source": [
        "Makine öğrenimi, bir trade-offs problemidir. Klasik sorun, overfittinge karşı underfitting'dir. Overfitting, bir model eğitim verilerine çok iyi uyduğunda ve iyi genelleme yapamadığında gerçekleşir. Underfitting ise tam tersidir: model, verilerdeki kalıpları bulmak için çok basittir.\n",
        "\n",
        "Karar ağaçları, makine öğreniminde son derece popüler ve kullanışlı bir modeldir. Ama kolayca overfit olabilir. Budama, overfiti önlemek/üstesinden gelmek için en çok kullanılan tekniklerden biridir. Bu notebookta, yaygın olarak kullanılan 2 budama türünü tartışacağız.\n",
        "\n",
        "<br>\n",
        "\n",
        "***1. Prepruning*** <br>\n",
        "***2. Postpruning***\n",
        "\n",
        "<br>"
      ]
    },
    {
      "cell_type": "code",
      "execution_count": null,
      "metadata": {
        "_cell_guid": "b1076dfc-b9ad-4769-8c92-a6c4dae69d19",
        "_uuid": "8f2839f25d086af736a60e9eeb907d3b93b6e0e5",
        "execution": {
          "iopub.execute_input": "2021-06-22T05:17:34.103455Z",
          "iopub.status.busy": "2021-06-22T05:17:34.102769Z",
          "iopub.status.idle": "2021-06-22T05:17:35.454156Z",
          "shell.execute_reply": "2021-06-22T05:17:35.454844Z"
        },
        "papermill": {
          "duration": 1.377496,
          "end_time": "2021-06-22T05:17:35.455052",
          "exception": false,
          "start_time": "2021-06-22T05:17:34.077556",
          "status": "completed"
        },
        "tags": [],
        "id": "jt4oSVLZdcRy"
      },
      "outputs": [],
      "source": [
        "import numpy as np\n",
        "import pandas as pd\n",
        "import os\n",
        "from sklearn.preprocessing import LabelEncoder\n",
        "from sklearn.model_selection import train_test_split\n",
        "from sklearn.model_selection import RandomizedSearchCV, GridSearchCV\n",
        "from sklearn import tree\n",
        "from sklearn.metrics import accuracy_score,confusion_matrix\n",
        "import seaborn as sns\n",
        "import matplotlib.pyplot as plt"
      ]
    },
    {
      "cell_type": "code",
      "source": [
        "#ROOT_DIR = \"/content/drive/MyDrive/CASGEM-Egitim/Egitim-Part1/Day7-DecisionTree/notebooks\"\n",
        "ROOT_DIR = \"https://media.githubusercontent.com/media/yapay-ogrenme/casgem-eu-project-training-on-data-mining-2nd/main/PART1/Day7-DecisionTree/notebooks/\"\n",
        "\n",
        "DATASET_PATH = ROOT_DIR + \"/datasets/\""
      ],
      "metadata": {
        "id": "z7vZxo8xlHHh"
      },
      "execution_count": null,
      "outputs": []
    },
    {
      "cell_type": "code",
      "source": [
        "df = pd.read_csv(DATASET_PATH + 'heart.csv')\n",
        "df.head()"
      ],
      "metadata": {
        "id": "dOwuhDQrlKf_"
      },
      "execution_count": null,
      "outputs": []
    },
    {
      "cell_type": "markdown",
      "metadata": {
        "papermill": {
          "duration": 0.01927,
          "end_time": "2021-06-22T05:17:35.576856",
          "exception": false,
          "start_time": "2021-06-22T05:17:35.557586",
          "status": "completed"
        },
        "tags": [],
        "id": "Qj8Q610qdcR1"
      },
      "source": [
        "Bu veri setinin temel ayrıntılarına girmiyoruz. Bu notebook'un temel amacı, karar ağacının nasıl ön budama (pre-prunning) ve son budama (post-prunning) yapılacağını size göstermektir."
      ]
    },
    {
      "cell_type": "code",
      "execution_count": null,
      "metadata": {
        "execution": {
          "iopub.execute_input": "2021-06-22T05:17:35.632548Z",
          "iopub.status.busy": "2021-06-22T05:17:35.631872Z",
          "iopub.status.idle": "2021-06-22T05:17:35.637106Z",
          "shell.execute_reply": "2021-06-22T05:17:35.637717Z"
        },
        "papermill": {
          "duration": 0.039929,
          "end_time": "2021-06-22T05:17:35.637871",
          "exception": false,
          "start_time": "2021-06-22T05:17:35.597942",
          "status": "completed"
        },
        "tags": [],
        "id": "C5g-Aq-DdcR2"
      },
      "outputs": [],
      "source": [
        "X = df.drop(columns=['target'])\n",
        "y = df['target']\n",
        "\n",
        "print(X.shape)\n",
        "print(y.shape)"
      ]
    },
    {
      "cell_type": "markdown",
      "metadata": {
        "papermill": {
          "duration": 0.019301,
          "end_time": "2021-06-22T05:17:35.676927",
          "exception": false,
          "start_time": "2021-06-22T05:17:35.657626",
          "status": "completed"
        },
        "tags": [],
        "id": "-72ua4X9dcR2"
      },
      "source": [
        "Eğitim ve Test Kümelerinin Ayrılması"
      ]
    },
    {
      "cell_type": "code",
      "execution_count": null,
      "metadata": {
        "execution": {
          "iopub.execute_input": "2021-06-22T05:17:35.730775Z",
          "iopub.status.busy": "2021-06-22T05:17:35.728889Z",
          "iopub.status.idle": "2021-06-22T05:17:35.739904Z",
          "shell.execute_reply": "2021-06-22T05:17:35.738961Z"
        },
        "papermill": {
          "duration": 0.038944,
          "end_time": "2021-06-22T05:17:35.740041",
          "exception": false,
          "start_time": "2021-06-22T05:17:35.701097",
          "status": "completed"
        },
        "tags": [],
        "id": "ivV98JbIdcR3"
      },
      "outputs": [],
      "source": [
        "x_train,x_test,y_train,y_test = train_test_split(X,y,stratify=y)\n",
        "print(x_train.shape)\n",
        "print(x_test.shape)"
      ]
    },
    {
      "cell_type": "markdown",
      "metadata": {
        "papermill": {
          "duration": 0.021299,
          "end_time": "2021-06-22T05:17:35.781858",
          "exception": false,
          "start_time": "2021-06-22T05:17:35.760559",
          "status": "completed"
        },
        "tags": [],
        "id": "-UzHHYkMdcR3"
      },
      "source": [
        "İlk önce herhangi bir şey yapmadan normal bir karar ağacını oluşturacağız ve sonuçları kontrol edeceğiz."
      ]
    },
    {
      "cell_type": "code",
      "execution_count": null,
      "metadata": {
        "execution": {
          "iopub.execute_input": "2021-06-22T05:17:35.834688Z",
          "iopub.status.busy": "2021-06-22T05:17:35.834017Z",
          "iopub.status.idle": "2021-06-22T05:17:35.844435Z",
          "shell.execute_reply": "2021-06-22T05:17:35.843871Z"
        },
        "papermill": {
          "duration": 0.040736,
          "end_time": "2021-06-22T05:17:35.844560",
          "exception": false,
          "start_time": "2021-06-22T05:17:35.803824",
          "status": "completed"
        },
        "tags": [],
        "id": "DwbBvFYFdcR4"
      },
      "outputs": [],
      "source": [
        "clf = tree.DecisionTreeClassifier(random_state=0)\n",
        "clf.fit(x_train,y_train)\n",
        "y_train_pred = clf.predict(x_train)\n",
        "y_test_pred = clf.predict(x_test)"
      ]
    },
    {
      "cell_type": "markdown",
      "metadata": {
        "papermill": {
          "duration": 0.019779,
          "end_time": "2021-06-22T05:17:35.885018",
          "exception": false,
          "start_time": "2021-06-22T05:17:35.865239",
          "status": "completed"
        },
        "tags": [],
        "id": "OKnwJtrrdcR5"
      },
      "source": [
        "\n",
        "### Karar Ağacının Görselleştirilmesi"
      ]
    },
    {
      "cell_type": "code",
      "execution_count": null,
      "metadata": {
        "execution": {
          "iopub.execute_input": "2021-06-22T05:17:35.931116Z",
          "iopub.status.busy": "2021-06-22T05:17:35.930372Z",
          "iopub.status.idle": "2021-06-22T05:17:38.536922Z",
          "shell.execute_reply": "2021-06-22T05:17:38.537465Z"
        },
        "papermill": {
          "duration": 2.632778,
          "end_time": "2021-06-22T05:17:38.537619",
          "exception": false,
          "start_time": "2021-06-22T05:17:35.904841",
          "status": "completed"
        },
        "tags": [],
        "id": "DqM0FI5qdcR5"
      },
      "outputs": [],
      "source": [
        "plt.figure(figsize=(20,20))\n",
        "features = df.columns\n",
        "classes = ['Not heart disease','heart disease']\n",
        "tree.plot_tree(clf,feature_names=features,class_names=classes,filled=True)\n",
        "plt.show()"
      ]
    },
    {
      "cell_type": "code",
      "execution_count": null,
      "metadata": {
        "execution": {
          "iopub.execute_input": "2021-06-22T05:17:38.615021Z",
          "iopub.status.busy": "2021-06-22T05:17:38.614159Z",
          "iopub.status.idle": "2021-06-22T05:17:38.617806Z",
          "shell.execute_reply": "2021-06-22T05:17:38.617268Z"
        },
        "papermill": {
          "duration": 0.044231,
          "end_time": "2021-06-22T05:17:38.617926",
          "exception": false,
          "start_time": "2021-06-22T05:17:38.573695",
          "status": "completed"
        },
        "tags": [],
        "id": "DzX5wt9IdcR6"
      },
      "outputs": [],
      "source": [
        "# helper function\n",
        "def plot_confusionmatrix(y_train_pred,y_train,dom):\n",
        "    print(f'{dom} Confusion matrix')\n",
        "    cf = confusion_matrix(y_train_pred,y_train)\n",
        "    sns.heatmap(cf,annot=True,yticklabels=classes\n",
        "               ,xticklabels=classes,cmap='Blues', fmt='g')\n",
        "    plt.tight_layout()\n",
        "    plt.show()\n",
        "    "
      ]
    },
    {
      "cell_type": "code",
      "execution_count": null,
      "metadata": {
        "execution": {
          "iopub.execute_input": "2021-06-22T05:17:38.675072Z",
          "iopub.status.busy": "2021-06-22T05:17:38.674068Z",
          "iopub.status.idle": "2021-06-22T05:17:39.183131Z",
          "shell.execute_reply": "2021-06-22T05:17:39.182584Z"
        },
        "papermill": {
          "duration": 0.540237,
          "end_time": "2021-06-22T05:17:39.183257",
          "exception": false,
          "start_time": "2021-06-22T05:17:38.643020",
          "status": "completed"
        },
        "tags": [],
        "id": "dii_E4iMdcR6"
      },
      "outputs": [],
      "source": [
        "print(f'Train score {accuracy_score(y_train_pred,y_train)}')\n",
        "print(f'Test score {accuracy_score(y_test_pred,y_test)}')\n",
        "plot_confusionmatrix(y_train_pred,y_train,dom='Train')\n",
        "plot_confusionmatrix(y_test_pred,y_test,dom='Test')"
      ]
    },
    {
      "cell_type": "markdown",
      "metadata": {
        "papermill": {
          "duration": 0.026123,
          "end_time": "2021-06-22T05:17:39.236156",
          "exception": false,
          "start_time": "2021-06-22T05:17:39.210033",
          "status": "completed"
        },
        "tags": [],
        "id": "hDFubRP1dcR7"
      },
      "source": [
        "Eğitim verilerimizde %100 doğruluğa sahip olduğumuzu görebiliriz.\n",
        "\n",
        "Ancak test veri kümesinde iyi genelleme yapmıyor. Sadece %75 doğruluğumuz var.\n",
        "\n",
        "Buradan görüldüğü üzere model açıkça overfitting olmuş durumda. Budama yoluyla bunu önlemeye çalışacağız."
      ]
    },
    {
      "cell_type": "markdown",
      "metadata": {
        "papermill": {
          "duration": 0.028112,
          "end_time": "2021-06-22T05:17:39.290971",
          "exception": false,
          "start_time": "2021-06-22T05:17:39.262859",
          "status": "completed"
        },
        "tags": [],
        "id": "l2Ya9DQBdcR7"
      },
      "source": [
        "## 1. Ön budama teknikleri (Pre pruning techniques)\n",
        "\n",
        "Ön budama (Pre pruning), karar ağacının büyümesini erken bir aşamada durdurmaktan başka bir şey değildir. Bunun için kısıtlamalar koyarak ağaçların büyümesini sınırlayabiliriz. **max_depth** , **min_samples** vb. gibi parametreleri sınırlayabiliriz.\n",
        "\n",
        "Bunu yapmanın etkili bir yolu, bu parametreler üzerinde grid search yapmak ve test verilerinde daha iyi performans sağlayan optimum değerleri seçmemizdir.\n"
      ]
    },
    {
      "cell_type": "markdown",
      "metadata": {
        "papermill": {
          "duration": 0.026254,
          "end_time": "2021-06-22T05:17:39.344700",
          "exception": false,
          "start_time": "2021-06-22T05:17:39.318446",
          "status": "completed"
        },
        "tags": [],
        "id": "nc5rjBgHdcR7"
      },
      "source": [
        "Kontrol edeceğimiz parametreler :\n",
        "\n",
        "* max_depth: karar ağacının maksimum derinliği\n",
        "* min_sample_split: Bir dahili düğümü bölmek için gereken minimum örnek sayısı.\n",
        "* min_samples_leaf: Bir yaprak düğümünde olması gereken minimum örnek sayısı.\n"
      ]
    },
    {
      "cell_type": "code",
      "execution_count": null,
      "metadata": {
        "execution": {
          "iopub.execute_input": "2021-06-22T05:17:39.420311Z",
          "iopub.status.busy": "2021-06-22T05:17:39.411900Z",
          "iopub.status.idle": "2021-06-22T05:17:40.598153Z",
          "shell.execute_reply": "2021-06-22T05:17:40.597504Z"
        },
        "papermill": {
          "duration": 1.227063,
          "end_time": "2021-06-22T05:17:40.598265",
          "exception": false,
          "start_time": "2021-06-22T05:17:39.371202",
          "status": "completed"
        },
        "tags": [],
        "id": "iHqs8QgrdcR8"
      },
      "outputs": [],
      "source": [
        "params = {'max_depth': [2,4,6,8,10,12],\n",
        "         'min_samples_split': [2,3,4],\n",
        "         'min_samples_leaf': [1,2]}\n",
        "\n",
        "clf = tree.DecisionTreeClassifier()\n",
        "gcv = GridSearchCV(estimator=clf,param_grid=params)\n",
        "gcv.fit(x_train,y_train)\n"
      ]
    },
    {
      "cell_type": "code",
      "execution_count": null,
      "metadata": {
        "execution": {
          "iopub.execute_input": "2021-06-22T05:17:40.663812Z",
          "iopub.status.busy": "2021-06-22T05:17:40.663085Z",
          "iopub.status.idle": "2021-06-22T05:17:41.046312Z",
          "shell.execute_reply": "2021-06-22T05:17:41.045670Z"
        },
        "papermill": {
          "duration": 0.420733,
          "end_time": "2021-06-22T05:17:41.046445",
          "exception": false,
          "start_time": "2021-06-22T05:17:40.625712",
          "status": "completed"
        },
        "tags": [],
        "id": "-Tpf8OLTdcR8"
      },
      "outputs": [],
      "source": [
        "model = gcv.best_estimator_\n",
        "model.fit(x_train,y_train)\n",
        "y_train_pred = model.predict(x_train)\n",
        "y_test_pred = model.predict(x_test)\n",
        "\n",
        "print(f'Train score {accuracy_score(y_train_pred,y_train)}')\n",
        "print(f'Test score {accuracy_score(y_test_pred,y_test)}')\n",
        "plot_confusionmatrix(y_train_pred,y_train,dom='Train')\n",
        "plot_confusionmatrix(y_test_pred,y_test,dom='Test')"
      ]
    },
    {
      "cell_type": "code",
      "execution_count": null,
      "metadata": {
        "execution": {
          "iopub.execute_input": "2021-06-22T05:17:41.116913Z",
          "iopub.status.busy": "2021-06-22T05:17:41.111628Z",
          "iopub.status.idle": "2021-06-22T05:17:43.462157Z",
          "shell.execute_reply": "2021-06-22T05:17:43.462682Z"
        },
        "papermill": {
          "duration": 2.386531,
          "end_time": "2021-06-22T05:17:43.462824",
          "exception": false,
          "start_time": "2021-06-22T05:17:41.076293",
          "status": "completed"
        },
        "tags": [],
        "id": "DHudmfwGdcR9"
      },
      "outputs": [],
      "source": [
        "plt.figure(figsize=(20,20))\n",
        "features = df.columns\n",
        "classes = ['Not heart disease','heart disease']\n",
        "tree.plot_tree(model,feature_names=features,class_names=classes,filled=True)\n",
        "plt.show()"
      ]
    },
    {
      "cell_type": "markdown",
      "metadata": {
        "papermill": {
          "duration": 0.033364,
          "end_time": "2021-06-22T05:17:43.530559",
          "exception": false,
          "start_time": "2021-06-22T05:17:43.497195",
          "status": "completed"
        },
        "tags": [],
        "id": "1wi6BJfrdcR9"
      },
      "source": [
        "Ağacın budandığını ve test doğruluğunda iyileşme olduğunu görebiliyoruz. Ancak yine de daha iyi bir iyileştirmeye ihtiyaç duyuyor."
      ]
    },
    {
      "cell_type": "markdown",
      "metadata": {
        "papermill": {
          "duration": 0.034773,
          "end_time": "2021-06-22T05:17:43.600094",
          "exception": false,
          "start_time": "2021-06-22T05:17:43.565321",
          "status": "completed"
        },
        "tags": [],
        "id": "Cop_Vg1ydcR9"
      },
      "source": [
        "## 2. Son budama teknikleri (Post pruning techniques)\n",
        "\n",
        "Birkaç post budama tekniği vardır. Maliyet karmaşıklığı budaması (Cost complexity pruning) bunların en önemlilerinden biridir.\n",
        "\n",
        "## Maliyet karmaşıklığı budaması (Cost Complexity Pruning)\n",
        "\n",
        "Karar ağaçları kolayca overfit olabilir. Bundan kaçınmanın bir yolu, kısıtlamalar koyarak ağaçların büyümesini sınırlamaktır. **max_depth** , **min_samples** vb. gibi parametreleri sınırlayabiliriz. **Ancak en etkili yol, maliyet karmaşıklığı budaması gibi son budama yöntemlerini kullanmaktır.** Bu, test doğruluğunu artırmaya ve daha iyi bir model elde etmeye yardımcı olur.\n",
        "\n",
        "Minimum maliyetli karmaşıklık budaması, \"en zayıf bağlantıya\" sahip düğümü özyinelemeli olarak bulur. En zayıf halka, en küçük etkili alfaya sahip düğümlerin ilk önce budandığı etkin bir alfa ile karakterize edilir.\n",
        "\n",
        "Maliyet karmaşıklığı budaması tamamen **alfa** için doğru parametreyi bulmakla ilgilidir. Bu ağaç için alfa değerlerini alacağız ve budanan ağaçlarla doğruluğunu kontrol edeceğiz.\n",
        "\n",
        "\n"
      ]
    },
    {
      "cell_type": "code",
      "execution_count": null,
      "metadata": {
        "execution": {
          "iopub.execute_input": "2021-06-22T05:17:43.672728Z",
          "iopub.status.busy": "2021-06-22T05:17:43.671783Z",
          "iopub.status.idle": "2021-06-22T05:17:43.684329Z",
          "shell.execute_reply": "2021-06-22T05:17:43.684836Z"
        },
        "papermill": {
          "duration": 0.049985,
          "end_time": "2021-06-22T05:17:43.684988",
          "exception": false,
          "start_time": "2021-06-22T05:17:43.635003",
          "status": "completed"
        },
        "tags": [],
        "id": "j4VvnOp4dcR-"
      },
      "outputs": [],
      "source": [
        "path = clf.cost_complexity_pruning_path(x_train, y_train)\n",
        "ccp_alphas, impurities = path.ccp_alphas, path.impurities\n",
        "print(ccp_alphas)"
      ]
    },
    {
      "cell_type": "code",
      "execution_count": null,
      "metadata": {
        "execution": {
          "iopub.execute_input": "2021-06-22T05:17:43.760363Z",
          "iopub.status.busy": "2021-06-22T05:17:43.759265Z",
          "iopub.status.idle": "2021-06-22T05:17:43.835519Z",
          "shell.execute_reply": "2021-06-22T05:17:43.835996Z"
        },
        "papermill": {
          "duration": 0.11391,
          "end_time": "2021-06-22T05:17:43.836160",
          "exception": false,
          "start_time": "2021-06-22T05:17:43.722250",
          "status": "completed"
        },
        "tags": [],
        "id": "BEy57TQPdcR-"
      },
      "outputs": [],
      "source": [
        "# For each alpha we will append our model to a list\n",
        "clfs = []\n",
        "for ccp_alpha in ccp_alphas:\n",
        "    clf = tree.DecisionTreeClassifier(random_state=0, ccp_alpha=ccp_alpha)\n",
        "    clf.fit(x_train, y_train)\n",
        "    clfs.append(clf)"
      ]
    },
    {
      "cell_type": "markdown",
      "metadata": {
        "papermill": {
          "duration": 0.035117,
          "end_time": "2021-06-22T05:17:43.905337",
          "exception": false,
          "start_time": "2021-06-22T05:17:43.870220",
          "status": "completed"
        },
        "tags": [],
        "id": "3MOQbVx9dcR-"
      },
      "source": [
        "> Clfs ve ccp_alphas içindeki son elemanı kaldıracağız, çünkü bu sadece bir düğümü olan önemsiz bir ağaçtır.\n",
        "\n"
      ]
    },
    {
      "cell_type": "code",
      "execution_count": null,
      "metadata": {
        "execution": {
          "iopub.execute_input": "2021-06-22T05:17:43.978228Z",
          "iopub.status.busy": "2021-06-22T05:17:43.977212Z",
          "iopub.status.idle": "2021-06-22T05:17:44.152739Z",
          "shell.execute_reply": "2021-06-22T05:17:44.152065Z"
        },
        "papermill": {
          "duration": 0.213261,
          "end_time": "2021-06-22T05:17:44.152854",
          "exception": false,
          "start_time": "2021-06-22T05:17:43.939593",
          "status": "completed"
        },
        "tags": [],
        "id": "bvdb7Hz7dcR-"
      },
      "outputs": [],
      "source": [
        "clfs = clfs[:-1]\n",
        "ccp_alphas = ccp_alphas[:-1]\n",
        "node_counts = [clf.tree_.node_count for clf in clfs]\n",
        "depth = [clf.tree_.max_depth for clf in clfs]\n",
        "plt.scatter(ccp_alphas,node_counts)\n",
        "plt.scatter(ccp_alphas,depth)\n",
        "plt.plot(ccp_alphas,node_counts,label='no of nodes',drawstyle=\"steps-post\")\n",
        "plt.plot(ccp_alphas,depth,label='depth',drawstyle=\"steps-post\")\n",
        "plt.legend()\n",
        "plt.show()"
      ]
    },
    {
      "cell_type": "markdown",
      "metadata": {
        "papermill": {
          "duration": 0.034552,
          "end_time": "2021-06-22T05:17:44.222258",
          "exception": false,
          "start_time": "2021-06-22T05:17:44.187706",
          "status": "completed"
        },
        "tags": [],
        "id": "HXT0V4dKdcSA"
      },
      "source": [
        "Gözlem: Alfa arttıkça düğüm sayısı ve derinlik azalır\n",
        "\n"
      ]
    },
    {
      "cell_type": "code",
      "execution_count": null,
      "metadata": {
        "execution": {
          "iopub.execute_input": "2021-06-22T05:17:44.296293Z",
          "iopub.status.busy": "2021-06-22T05:17:44.295659Z",
          "iopub.status.idle": "2021-06-22T05:17:44.555998Z",
          "shell.execute_reply": "2021-06-22T05:17:44.556548Z"
        },
        "papermill": {
          "duration": 0.299031,
          "end_time": "2021-06-22T05:17:44.556709",
          "exception": false,
          "start_time": "2021-06-22T05:17:44.257678",
          "status": "completed"
        },
        "tags": [],
        "id": "eYcL3lGMdcSA"
      },
      "outputs": [],
      "source": [
        "train_acc = []\n",
        "test_acc = []\n",
        "for c in clfs:\n",
        "    y_train_pred = c.predict(x_train)\n",
        "    y_test_pred = c.predict(x_test)\n",
        "    train_acc.append(accuracy_score(y_train_pred,y_train))\n",
        "    test_acc.append(accuracy_score(y_test_pred,y_test))\n",
        "\n",
        "plt.scatter(ccp_alphas,train_acc)\n",
        "plt.scatter(ccp_alphas,test_acc)\n",
        "plt.plot(ccp_alphas,train_acc,label='train_accuracy',drawstyle=\"steps-post\")\n",
        "plt.plot(ccp_alphas,test_acc,label='test_accuracy',drawstyle=\"steps-post\")\n",
        "plt.legend()\n",
        "plt.title('Accuracy vs alpha')\n",
        "plt.show()"
      ]
    },
    {
      "cell_type": "markdown",
      "metadata": {
        "papermill": {
          "duration": 0.036937,
          "end_time": "2021-06-22T05:17:44.629496",
          "exception": false,
          "start_time": "2021-06-22T05:17:44.592559",
          "status": "completed"
        },
        "tags": [],
        "id": "CseVFZi9dcSA"
      },
      "source": [
        "**Alpha seçimi = 0.020**"
      ]
    },
    {
      "cell_type": "code",
      "execution_count": null,
      "metadata": {
        "execution": {
          "iopub.execute_input": "2021-06-22T05:17:44.704955Z",
          "iopub.status.busy": "2021-06-22T05:17:44.704305Z",
          "iopub.status.idle": "2021-06-22T05:17:45.079832Z",
          "shell.execute_reply": "2021-06-22T05:17:45.079134Z"
        },
        "papermill": {
          "duration": 0.414528,
          "end_time": "2021-06-22T05:17:45.079949",
          "exception": false,
          "start_time": "2021-06-22T05:17:44.665421",
          "status": "completed"
        },
        "tags": [],
        "id": "9m45doMIdcSA"
      },
      "outputs": [],
      "source": [
        "clf_ = tree.DecisionTreeClassifier(random_state=0,ccp_alpha=0.020)\n",
        "clf_.fit(x_train,y_train)\n",
        "y_train_pred = clf_.predict(x_train)\n",
        "y_test_pred = clf_.predict(x_test)\n",
        "\n",
        "print(f'Train score {accuracy_score(y_train_pred,y_train)}')\n",
        "print(f'Test score {accuracy_score(y_test_pred,y_test)}')\n",
        "plot_confusionmatrix(y_train_pred,y_train,dom='Train')\n",
        "plot_confusionmatrix(y_test_pred,y_test,dom='Test')"
      ]
    },
    {
      "cell_type": "markdown",
      "metadata": {
        "papermill": {
          "duration": 0.038493,
          "end_time": "2021-06-22T05:17:45.158070",
          "exception": false,
          "start_time": "2021-06-22T05:17:45.119577",
          "status": "completed"
        },
        "tags": [],
        "id": "1VThQJOJdcSB"
      },
      "source": [
        "Artık modelimizin overfit olmadığını ve test verilerindeki performansın arttığını görebiliyoruz."
      ]
    },
    {
      "cell_type": "code",
      "execution_count": null,
      "metadata": {
        "execution": {
          "iopub.execute_input": "2021-06-22T05:17:45.249533Z",
          "iopub.status.busy": "2021-06-22T05:17:45.244311Z",
          "iopub.status.idle": "2021-06-22T05:17:45.691549Z",
          "shell.execute_reply": "2021-06-22T05:17:45.690416Z"
        },
        "papermill": {
          "duration": 0.493461,
          "end_time": "2021-06-22T05:17:45.691686",
          "exception": false,
          "start_time": "2021-06-22T05:17:45.198225",
          "status": "completed"
        },
        "tags": [],
        "id": "RFK7dWq4dcSB"
      },
      "outputs": [],
      "source": [
        "plt.figure(figsize=(20,20))\n",
        "features = df.columns\n",
        "classes = ['Not heart disease','heart disease']\n",
        "tree.plot_tree(clf_,feature_names=features,class_names=classes,filled=True)\n",
        "plt.show()"
      ]
    },
    {
      "cell_type": "markdown",
      "metadata": {
        "papermill": {
          "duration": 0.045392,
          "end_time": "2021-06-22T05:17:45.788403",
          "exception": false,
          "start_time": "2021-06-22T05:17:45.743011",
          "status": "completed"
        },
        "tags": [],
        "id": "FqvP2qpldcSB"
      },
      "source": [
        "Karar ağacının boyutunun önemli ölçüde azaldığını görebiliriz. Ayrıca son-budamanın, ön-budamadan çok daha etkili olduğunu gördük.\n",
        "\n",
        "Not: Bu çekirdekte metrik olarak doğruluğu kullandık. Ancak hedef etiket dengesiz. Bu nedenle auc, f1 puanı vb. gibi metrikleri kullanmak daha iyidir."
      ]
    },
    {
      "cell_type": "code",
      "source": [
        ""
      ],
      "metadata": {
        "id": "amWFCKIzjkdo"
      },
      "execution_count": null,
      "outputs": []
    }
  ],
  "metadata": {
    "kernelspec": {
      "display_name": "Python 3",
      "language": "python",
      "name": "python3"
    },
    "language_info": {
      "codemirror_mode": {
        "name": "ipython",
        "version": 3
      },
      "file_extension": ".py",
      "mimetype": "text/x-python",
      "name": "python",
      "nbconvert_exporter": "python",
      "pygments_lexer": "ipython3",
      "version": "3.7.6"
    },
    "papermill": {
      "duration": 16.656449,
      "end_time": "2021-06-22T05:17:45.939549",
      "environment_variables": {},
      "exception": null,
      "input_path": "__notebook__.ipynb",
      "output_path": "__notebook__.ipynb",
      "parameters": {},
      "start_time": "2021-06-22T05:17:29.283100",
      "version": "2.1.0"
    },
    "colab": {
      "name": "Day7-DecisionTree-Demo5.ipynb",
      "provenance": [],
      "collapsed_sections": []
    }
  },
  "nbformat": 4,
  "nbformat_minor": 0
}