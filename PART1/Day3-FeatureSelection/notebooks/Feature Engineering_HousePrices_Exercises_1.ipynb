{
  "cells": [
    {
      "cell_type": "markdown",
      "metadata": {
        "_cell_guid": "7238ae8d-73dc-474b-9d36-92647cdc6030",
        "_execution_state": "idle",
        "_uuid": "691c624259cf2737f7e29c2fdbbc7f255e842eb2",
        "id": "86XTeqcpk7hT"
      },
      "source": [
        "# Ev Fiyat Tahmini "
      ]
    },
    {
      "cell_type": "code",
      "execution_count": null,
      "metadata": {
        "_cell_guid": "2dbccbd6-138b-4f1b-9b23-fd60c7525c14",
        "_execution_state": "idle",
        "_uuid": "c9b1d5dff21d39260eb47af6fe7aac4bd03be233",
        "collapsed": true,
        "id": "mKK-PfoNk7hZ"
      },
      "outputs": [],
      "source": [
        "#import some necessary librairies\n",
        "import numpy as np # linear algebra\n",
        "import pandas as pd # data processing, CSV file I/O (e.g. pd.read_csv)\n",
        "%matplotlib inline\n",
        "import matplotlib.pyplot as plt  # Matlab-style plotting\n",
        "import seaborn as sns\n",
        "\n",
        "from scipy import stats\n",
        "from scipy.stats import norm, skew #for some statistics\n",
        "\n",
        "import warnings\n",
        "warnings.filterwarnings('ignore')\n",
        "\n",
        "pd.set_option('display.float_format', lambda x: '{:.3f}'.format(x)) #Limiting floats output to 3 decimal points\n",
        "\n",
        "color = sns.color_palette()\n",
        "sns.set_style('darkgrid')"
      ]
    },
    {
      "cell_type": "code",
      "source": [
        "#from google.colab import drive\n",
        "#drive.mount('/content/drive')"
      ],
      "metadata": {
        "id": "KH5V8XchMSM8"
      },
      "execution_count": null,
      "outputs": []
    },
    {
      "cell_type": "code",
      "source": [
        "#ROOT_DIR = \"/content/drive/MyDrive/CASGEM-Egitim/Egitim-Part1/Day3-FeatureSelection/notebooks\"\n",
        "ROOT_DIR = \"https://media.githubusercontent.com/media/yapay-ogrenme/casgem-eu-project-training-on-data-mining-2nd/main/PART1/Day3-FeatureSelection/notebooks\"\n",
        "DATASET_PATH = ROOT_DIR + \"/datasets/\""
      ],
      "metadata": {
        "id": "jl4R1wcPMTIp"
      },
      "execution_count": null,
      "outputs": []
    },
    {
      "cell_type": "code",
      "execution_count": null,
      "metadata": {
        "_cell_guid": "59617b4b-d797-44ce-9142-05fbfd36aada",
        "_execution_state": "idle",
        "_uuid": "0e694d13459e3e200f6e2c6333c887cbad779ba9",
        "collapsed": true,
        "id": "N_EdYScMk7hb"
      },
      "outputs": [],
      "source": [
        "#Now let's import and put the train and test datasets in  pandas dataframe\n",
        "\n",
        "train = pd.read_csv(DATASET_PATH+'/house_prices/train.csv')\n",
        "test = pd.read_csv(DATASET_PATH+'/house_prices/test.csv')\n"
      ]
    },
    {
      "cell_type": "markdown",
      "source": [
        "**Eğitim veri kümesinin ilk 10 satırını görüntüleyin.**"
      ],
      "metadata": {
        "id": "HW0Us6OESHzF"
      }
    },
    {
      "cell_type": "code",
      "execution_count": null,
      "metadata": {
        "_cell_guid": "3678529f-9d76-4853-88c5-4b2d230a85b6",
        "_execution_state": "idle",
        "_uuid": "3a32f51460a02fbe7a9122db55a740eb378dda97",
        "collapsed": true,
        "id": "VtL0_pBEk7hc"
      },
      "outputs": [],
      "source": [
        "##Eğitim veri kümesinin ilk 10 satırını görüntüleyin.\n"
      ]
    },
    {
      "cell_type": "markdown",
      "source": [
        "**Eğitim ve test kümelerinin boyutların `print` ediniz.**\n",
        "\n",
        "**(güzel gözükmesi için `.format()` kullanarak da yazdırabilirsiniz.)**"
      ],
      "metadata": {
        "id": "0U7SgpGjSpQL"
      }
    },
    {
      "cell_type": "code",
      "source": [
        "##Eğitim ve test kümelerinin boyutlarını görüntüleyiniz.\n"
      ],
      "metadata": {
        "id": "8h1t3CliSeJy"
      },
      "execution_count": null,
      "outputs": []
    },
    {
      "cell_type": "markdown",
      "source": [
        "**Eğitim ve test kümelerinden \"Id\" kolonunu çıkartınız.**"
      ],
      "metadata": {
        "id": "g4oD3cQcTjK9"
      }
    },
    {
      "cell_type": "code",
      "source": [
        "##Eğitim ve test kümelerinden \"Id\" kolonunu çıkartınız.\n"
      ],
      "metadata": {
        "id": "C0ZUWfTZTinx"
      },
      "execution_count": null,
      "outputs": []
    },
    {
      "cell_type": "markdown",
      "metadata": {
        "_cell_guid": "7d5829c4-b2f1-4ef3-8b02-11f02eb7aabf",
        "_execution_state": "idle",
        "_uuid": "228cb602f1c7a47d3c5250514cab57f7e7bc75e5",
        "id": "6-S8M6F0k7hf"
      },
      "source": [
        "#Veri İşleme"
      ]
    },
    {
      "cell_type": "markdown",
      "metadata": {
        "_cell_guid": "993f8fc0-1f5a-4432-80bc-6024b7bbc855",
        "_execution_state": "idle",
        "_uuid": "21bab04b0e0a451c912695d9238bf8304fc009d4",
        "id": "Zs75nu0Bk7hf"
      },
      "source": [
        "##Aykırı Değerler"
      ]
    },
    {
      "cell_type": "markdown",
      "source": [
        "**GrLivArea**: Metrekare bazında yaşam alanı"
      ],
      "metadata": {
        "id": "9wo2C4C5Nir1"
      }
    },
    {
      "cell_type": "markdown",
      "source": [
        "**Eğitim kümesindeki \"GrLivArea\"'ya karşılık \"SalePrice\" değerlerini iki boyutlu bir grafik çizdirerek aykırı değerlerin olup olmadığı kontrol ediniz.**"
      ],
      "metadata": {
        "id": "T875AJXYTzSi"
      }
    },
    {
      "cell_type": "code",
      "execution_count": null,
      "metadata": {
        "_cell_guid": "637bd0fd-7508-41d1-b240-ea0e8598dddf",
        "_execution_state": "idle",
        "_uuid": "8903aa1a4a700aa2160edb3baf806f3800ae7d9a",
        "collapsed": true,
        "id": "UqzrJLX4k7hg"
      },
      "outputs": [],
      "source": [
        "fig, ax = plt.subplots()\n",
        "\n",
        "##Aşağıdaki x ve değerlerini ilgili değerler ile doldurunuz.\n",
        "# ax.scatter(x,y)\n",
        "\n",
        "plt.ylabel('SalePrice', fontsize=13)\n",
        "plt.xlabel('GrLivArea', fontsize=13)\n",
        "\n",
        "plt.show()"
      ]
    },
    {
      "cell_type": "markdown",
      "metadata": {
        "_cell_guid": "30304b82-5846-4142-bc31-b629158fb040",
        "_execution_state": "idle",
        "_uuid": "edf186dc5169e450392ee8f809cc3de5d10d7dbd",
        "id": "MWcuAifek7hh"
      },
      "source": [
        "Sağ altta son derece büyük `GrLivArea` ile düşük fiyatlı ikisini görebiliriz. Bu değerler gürültü olarak tanımlanır.\n",
        "\n",
        "\n",
        "**Eğitim kümesinden aykırı olan değerleri drop ediniz.**"
      ]
    },
    {
      "cell_type": "code",
      "source": [
        "##Eğitim kümesinden aykırı olan değerleri (outliers) drop ediniz.\n"
      ],
      "metadata": {
        "id": "2AbloLRJU2D0"
      },
      "execution_count": null,
      "outputs": []
    },
    {
      "cell_type": "markdown",
      "source": [
        "**Eğitim kümesinden ayrıkı değerlerin çıkartılmış halini yeniden grafiğini çizdiriniz.**"
      ],
      "metadata": {
        "id": "R4aW1wczVS2z"
      }
    },
    {
      "cell_type": "code",
      "execution_count": null,
      "metadata": {
        "_cell_guid": "6c5780b2-d4a8-42d9-b902-c6a23eef7d99",
        "_execution_state": "idle",
        "_uuid": "583bb417102d7bebb4aaf14bcb1aebcae86443bb",
        "collapsed": true,
        "id": "msrtJB-sk7hh"
      },
      "outputs": [],
      "source": [
        "##Eğitim kümesinden ayrıkı değerlerin çıkartılmış halini yeniden grafiğini çizdiriniz.\n"
      ]
    },
    {
      "cell_type": "markdown",
      "metadata": {
        "_cell_guid": "f4dcb348-634e-4010-b0a1-27976a1d8353",
        "_execution_state": "idle",
        "_uuid": "886ad7c816f4c1fd9afda53b10990baf987e86d8",
        "id": "EWsha3nFk7hi"
      },
      "source": [
        "##Hedef Değişken"
      ]
    },
    {
      "cell_type": "markdown",
      "metadata": {
        "_cell_guid": "658f5b56-5830-486c-81a0-8514fb95e274",
        "_execution_state": "idle",
        "_uuid": "4b96a6a35983d1c765c11c929bcd32effd105b43",
        "id": "75nCCOf_k7hi"
      },
      "source": [
        "**SalePrice**, tahmin etmemiz gereken değişkendir. Öyleyse önce bu değişken üzerinde biraz analiz yapalım."
      ]
    },
    {
      "cell_type": "markdown",
      "source": [
        "**`scipy.stats` içerisindeki `norm` sınıfını kullanarak eğitim kümesindeki \"SalePrice\" dağılımının grafiğini çizdirerek dağılımını inceleyiniz.**"
      ],
      "metadata": {
        "id": "61_8WjhLVtw-"
      }
    },
    {
      "cell_type": "code",
      "execution_count": null,
      "metadata": {
        "_cell_guid": "a17ad845-6fca-4d47-8e44-7c4c44f0427d",
        "_execution_state": "idle",
        "_uuid": "be3b0157031685ed3dbc31a657ba712312691830",
        "collapsed": true,
        "id": "CmCTpo0Ck7hi"
      },
      "outputs": [],
      "source": [
        "##`scipy.stats` içerisindeki `norm` sınıfını kullanarak eğitim kümesindeki \"SalePrice\" dağılımının grafiğini çizdiriniz.\n"
      ]
    },
    {
      "cell_type": "markdown",
      "metadata": {
        "_cell_guid": "313a535c-86c4-4db5-96de-6f65bc4adc2f",
        "_execution_state": "idle",
        "_uuid": "1da2d9831ae6c94b3f6304185f02896a9ee40aa5",
        "id": "EC2lAOvKk7hj"
      },
      "source": [
        "Hedef değişken sağa çarpık. \n",
        "(Doğrusal) modeller normal dağılımlı verileri sevdiğinden, bu değişkeni dönüştürmemiz ve daha normal dağılımlı hale getirmemiz gerekiyor."
      ]
    },
    {
      "cell_type": "markdown",
      "metadata": {
        "_cell_guid": "8df72eef-77de-4a71-aa6a-4b91784a7232",
        "_execution_state": "idle",
        "_uuid": "421775277fdab4e5a05f74aa4ea92e712a743928",
        "id": "f1cAkYVlk7hj"
      },
      "source": [
        "**Hedef değişkenin günlük dönüşümü**"
      ]
    },
    {
      "cell_type": "markdown",
      "source": [
        "**Eğitim kümesindeki sağa çarpık dağılıma sahip \"SalePrice\" sütununun tüm değerlerine \"log(1+x)\" uygulayan numpy'ın log1p fonksiyonunu kullanarak normal dağılıma çeviriniz.**\n",
        "\n",
        "\n",
        "**Ve yeniden dağılımı çizdiriniz.**"
      ],
      "metadata": {
        "id": "1kKPmkdOWwPO"
      }
    },
    {
      "cell_type": "code",
      "execution_count": null,
      "metadata": {
        "_cell_guid": "21b3a0ad-bd68-49aa-a3d7-40a30b3c59dc",
        "_execution_state": "idle",
        "_uuid": "719cf6a9dca56cc529e97af21816d291fa8bd8c0",
        "collapsed": true,
        "id": "HJ6XGNmqk7hj"
      },
      "outputs": [],
      "source": [
        "##Eğitim kümesindeki sağa çarpık dağılıma sahip \"SalePrice\" sütununun tüm değerlerine \n",
        "##\"log(1+x)\" uygulayan numpy'ın log1p fonksiyonunu kullanarak normal dağılıma çeviriniz.\n",
        "\n",
        "##Ve yeniden dağılımı çizdiriniz.##\n",
        "\n"
      ]
    },
    {
      "cell_type": "markdown",
      "metadata": {
        "_cell_guid": "51620309-727a-4445-a96a-d9851880d31f",
        "_execution_state": "idle",
        "_uuid": "991e699566f4292490fda326703baa33ce09173f",
        "id": "VJes4tQhk7hk"
      },
      "source": [
        "Eğrilik şimdi düzeltilmiş görünüyor ve veriler daha normal dağılmış görünüyor."
      ]
    },
    {
      "cell_type": "markdown",
      "metadata": {
        "_cell_guid": "802df76d-0e0b-4868-ba16-91335568d2d7",
        "_execution_state": "idle",
        "_uuid": "827a86d65c6d176f4af55224b91b44a47966652d",
        "id": "lwU67juRk7hk"
      },
      "source": [
        "##Öznitelik Mühendisliği"
      ]
    },
    {
      "cell_type": "markdown",
      "metadata": {
        "_cell_guid": "a5ad11e4-0388-417c-bf77-cc7752f4c5a0",
        "_execution_state": "idle",
        "_uuid": "5fc214fb6df16c026dec0dfcb99af1c1b7744b56",
        "id": "1Pby6tnXk7hl"
      },
      "source": [
        "Önce train ve test dataframe'lerini birleştirerek tek bir dataframe haline getirelim"
      ]
    },
    {
      "cell_type": "code",
      "execution_count": null,
      "metadata": {
        "_cell_guid": "1bd3e9b9-2f42-4251-aadd-5ced84eb1a27",
        "_execution_state": "idle",
        "_uuid": "efc576211e4eed962f04cd94d901c667e6912528",
        "collapsed": true,
        "id": "5AX0A_zXk7hl"
      },
      "outputs": [],
      "source": [
        "ntrain = train.shape[0]\n",
        "ntest = test.shape[0]\n",
        "\n",
        "y_train = train.SalePrice.values\n",
        "\n",
        "all_data = pd.concat((train, test)).reset_index(drop=True)\n",
        "all_data.drop(['SalePrice'], axis=1, inplace=True)\n",
        "\n",
        "print(\"all_data size is : {}\".format(all_data.shape))\n"
      ]
    },
    {
      "cell_type": "markdown",
      "metadata": {
        "_cell_guid": "9ce95008-a3b9-43fa-bc4e-649ca0f43768",
        "_execution_state": "idle",
        "_uuid": "abe25f3032a0bed179d58d5911cb42d97b35841b",
        "id": "AvUfamkck7hl"
      },
      "source": [
        "###Kayıp Veri (Missing Data)"
      ]
    },
    {
      "cell_type": "markdown",
      "source": [
        "**Her kolondaki eksik verilerin, toplam veri içerisindeki oranlarını hesaplayınız ve en yüksek orandan en düşük orana göre sıralayınız.**"
      ],
      "metadata": {
        "id": "-yrr6jiNZarS"
      }
    },
    {
      "cell_type": "code",
      "execution_count": null,
      "metadata": {
        "_cell_guid": "501b465f-8c80-4b93-81d0-a5d41e08d235",
        "_execution_state": "idle",
        "_uuid": "f97d25548ec8f6c02e2d1ee5a6df6c3d107fdf53",
        "collapsed": true,
        "id": "DvVZnztOk7hm"
      },
      "outputs": [],
      "source": [
        "all_data_na = (all_data.isnull().sum() / len(all_data)) * 100\n",
        "\n",
        "all_data_na = all_data_na.drop(all_data_na[all_data_na == 0].index).sort_values(ascending=False)[:30]\n",
        "\n",
        "missing_data = pd.DataFrame({'Missing Ratio' :all_data_na})\n",
        "missing_data.head(20)"
      ]
    },
    {
      "cell_type": "markdown",
      "source": [
        "Hesaplamış olduğumuz kolon bazlı eksik verilerin oranlarını sütun grafiği (bar chart) şeklinde çizdiriniz."
      ],
      "metadata": {
        "id": "01DNks7mZyXU"
      }
    },
    {
      "cell_type": "code",
      "execution_count": null,
      "metadata": {
        "_cell_guid": "1c80610d-8f19-43c8-bd54-7d786b0dca49",
        "_execution_state": "idle",
        "_uuid": "2eb6e1361884db6a4f65afc3b158fcbe85c2392e",
        "collapsed": true,
        "id": "CpJMWBIpk7hm"
      },
      "outputs": [],
      "source": [
        "f, ax = plt.subplots(figsize=(15, 12))\n",
        "plt.xticks(rotation='90')\n",
        "\n",
        "sns.barplot(x=all_data_na.index, y=all_data_na)\n",
        "\n",
        "plt.xlabel('Features', fontsize=15)\n",
        "plt.ylabel('Percent of missing values', fontsize=15)\n",
        "plt.title('Percent missing data by feature', fontsize=15)"
      ]
    },
    {
      "cell_type": "markdown",
      "metadata": {
        "_cell_guid": "5d88502a-2484-45d7-a750-0d32075133dd",
        "_execution_state": "idle",
        "_uuid": "dbf28eddefa2c0825781a31cde823ac5ece5a1ee",
        "id": "_ICWlNRDk7hn"
      },
      "source": [
        "**Veri Korelasyonu**\n",
        "\n",
        "**Özniteliklerin SalePrice ile nasıl ilişkilendirildiğini görmek için korelasyon haritasını çizdiriniz.**"
      ]
    },
    {
      "cell_type": "code",
      "execution_count": null,
      "metadata": {
        "_cell_guid": "3fc115c7-33bb-456d-b3e5-4dd985bfbc9f",
        "_execution_state": "idle",
        "_uuid": "0f6b9912c752212f3f4bdca0b60f5fd01c12d2a0",
        "collapsed": true,
        "id": "uWxL6wOak7hn"
      },
      "outputs": [],
      "source": [
        "#Özniteliklerin SalePrice ile nasıl ilişkilendirildiğini görmek için korelasyon haritasını çizdiriniz.\n",
        "\n",
        "#eğitim kümesinin korelasyon değerlerini hesaplayınız.\n",
        "\n",
        "\n",
        "#hesaplanan korelasyon değerlerini aşağıda grafiğini çizdiriniz.\n"
      ]
    },
    {
      "cell_type": "markdown",
      "metadata": {
        "_cell_guid": "cd681698-02d2-473e-bfc8-2d98a1353a18",
        "_execution_state": "idle",
        "_uuid": "41a6b40f8f03212a624f54167cad456a9f193f93",
        "id": "D6u8DkY8k7hn"
      },
      "source": [
        "###Eksik Değerleri Tamamlama"
      ]
    },
    {
      "cell_type": "markdown",
      "metadata": {
        "_cell_guid": "6f7d94ef-5ffb-4e1b-b1a2-a917cce3f357",
        "_execution_state": "idle",
        "_uuid": "d6d054aff0098e4e602ef618e0a4d3706d71dd66",
        "id": "NB9acURok7ho"
      },
      "source": [
        "- **PoolQC** : verisinin NA olması \"Havuz Yok\" anlamına geldiğini söylüyor. \n",
        "Çok büyük bir kayıp değer oranı (+%99) göz önüne alındığında bu mantıklıdır ve evlerin çoğunda genel olarak hiç Havuz yoktur.\n",
        "\n",
        "**all_data içerisindeki \"PollQC\" değerinden eksik olan değerleri \"None\" ile doldurunuz.**"
      ]
    },
    {
      "cell_type": "code",
      "execution_count": null,
      "metadata": {
        "_cell_guid": "ca8a04eb-f42b-4c26-a690-bb98c95c6118",
        "_execution_state": "idle",
        "_uuid": "1d94b062f7683d711d479e48530009040185fd4c",
        "collapsed": true,
        "id": "1BiVWi5xk7ho"
      },
      "outputs": [],
      "source": [
        "##all_data içerisindeki PollQC değerinden eksik olan değerleri \"None\" ile doldurunuz.\n"
      ]
    },
    {
      "cell_type": "markdown",
      "metadata": {
        "_cell_guid": "ea3aecb9-b2e8-4cdc-853d-999f8e2f789c",
        "_execution_state": "idle",
        "_uuid": "0516efe507d7176591f6af3d503312db5038949a",
        "id": "-dWSNEODk7ho"
      },
      "source": [
        "- **MiscFeature** : verisinin NA olması \"çeşitli özellik yok\" anlamına geldiğini söylüyor.\n",
        "\n",
        "**all_data içerisindeki \"MiscFeature\" değerinden eksik olan değerleri \"None\" ile doldurunuz.**"
      ]
    },
    {
      "cell_type": "code",
      "execution_count": null,
      "metadata": {
        "_cell_guid": "689863b8-4e4e-45d7-9972-8894e8defbe2",
        "_execution_state": "idle",
        "_uuid": "c311993a26d66d66ce82584a3e00d7ed56a3ea5a",
        "collapsed": true,
        "id": "16xSFJrhk7hp"
      },
      "outputs": [],
      "source": [
        "##all_data içerisindeki \"MiscFeature\" değerinden eksik olan değerleri \"None\" ile doldurunuz.\n"
      ]
    },
    {
      "cell_type": "markdown",
      "metadata": {
        "_cell_guid": "d467b9e0-0793-41e5-aaa1-d1686946ba9f",
        "_execution_state": "idle",
        "_uuid": "44cfbd9eecce5e4f2bc91a72ed095270e6010f57",
        "id": "I8udtSWFk7hp"
      },
      "source": [
        "- **Alley** : verisinin NA olması \"ara sokak erişimi yok\" anlamına geldiğini söylüyor.\n",
        "\n",
        "**all_data içerisindeki \"Alley\" değerinden eksik olan değerleri \"None\" ile doldurunuz.**"
      ]
    },
    {
      "cell_type": "code",
      "execution_count": null,
      "metadata": {
        "_cell_guid": "0f822e30-09f3-45f8-b09e-0ffed4ff985c",
        "_execution_state": "idle",
        "_uuid": "35709caf5cb2b0220cd9043f76462a116de15059",
        "collapsed": true,
        "id": "tA5AEmUfk7hp"
      },
      "outputs": [],
      "source": [
        "##all_data içerisindeki \"Alley\" değerinden eksik olan değerleri \"None\" ile doldurunuz.\n"
      ]
    },
    {
      "cell_type": "markdown",
      "metadata": {
        "_cell_guid": "0bab3349-eddb-4977-acd5-8dad4553ff7f",
        "_execution_state": "idle",
        "_uuid": "3265fc176140dbf1b641e18f2d57b91554c85771",
        "id": "DazJGSp9k7hp"
      },
      "source": [
        "- **Fence(Çit)** : verisinin, NA olması \"çit yok\" anlamına geldiğini söylüyor.\n",
        "\n",
        "**all_data içerisindeki \"Fence\" değerinden eksik olan değerleri \"None\" ile doldurunuz.**"
      ]
    },
    {
      "cell_type": "code",
      "execution_count": null,
      "metadata": {
        "_cell_guid": "c0d6e4f4-df14-467f-bab2-86bfd0493a35",
        "_execution_state": "idle",
        "_uuid": "6d9d6998298a7fea5677f0916bcc9f33dc99e231",
        "collapsed": true,
        "id": "0mg8JOFMk7hp"
      },
      "outputs": [],
      "source": [
        "##all_data içerisindeki \"Fence\" değerinden eksik olan değerleri \"None\" ile doldurunuz.\n"
      ]
    },
    {
      "cell_type": "markdown",
      "metadata": {
        "_cell_guid": "49747765-81f1-4b23-ad63-534c7fe48b7a",
        "_execution_state": "idle",
        "_uuid": "4869889d4b2b118bc6dcef239cbc27546a7b445e",
        "id": "hy90_e_Ck7hp"
      },
      "source": [
        "- **FireplaceQu** : verisinin NA olması \"şömine yok\" anlamına geldiğini söylüyor.\n",
        "\n",
        "**all_data içerisindeki \"FireplaceQu\" değerinden eksik olan değerleri \"None\" ile doldurunuz.**"
      ]
    },
    {
      "cell_type": "code",
      "execution_count": null,
      "metadata": {
        "_cell_guid": "22b88c5b-6419-424f-9805-2c2b11e85dca",
        "_execution_state": "idle",
        "_uuid": "fb8cdb59e4ecba1f7ec78eb3b34c7209c34b1c86",
        "collapsed": true,
        "id": "yAMXATklk7hq"
      },
      "outputs": [],
      "source": [
        "##all_data içerisindeki \"FireplaceQu\" değerinden eksik olan değerleri \"None\" ile doldurunuz.\n"
      ]
    },
    {
      "cell_type": "markdown",
      "metadata": {
        "_cell_guid": "357994d1-974a-49ee-98e4-a19bc524fcb6",
        "_execution_state": "idle",
        "_uuid": "2b00af603b7dbc9114e62c421b2b886154d31959",
        "id": "B_6Hd7U1k7hq"
      },
      "source": [
        "- **LotFrontage** : Evin sokakta kapladığı alan, eğer bu değer eksikse sokaktaki diğer evlerin kapladığı alanın ortanca (median) değeri ile doldurulabilir.\n",
        "\n",
        "\n",
        "**all_data içerisindeki \"LotFrontage\" değerinden eksik olan değerleri \"Neighborhood\" bazında gruplayarak median() değerleri ile doldurunuz.**"
      ]
    },
    {
      "cell_type": "code",
      "execution_count": null,
      "metadata": {
        "_cell_guid": "b8cd4872-67c6-4c82-a1a3-807d08efb658",
        "_execution_state": "idle",
        "_uuid": "56c268a7217e85301d2847ceeca410d62e781b89",
        "collapsed": true,
        "id": "0I3rWW_2k7hq"
      },
      "outputs": [],
      "source": [
        "##all_data içerisindeki \"LotFrontage\" değerinden eksik olan değerleri \"Neighborhood\" bazında gruplayarak median() değerleri ile doldurunuz.\n"
      ]
    },
    {
      "cell_type": "markdown",
      "metadata": {
        "_cell_guid": "c0432c37-f664-4da1-a4d8-87a7cb450bd1",
        "_execution_state": "idle",
        "_uuid": "53712c1d6c7cf2945c6ba8b537171ea6b84f085e",
        "id": "xc4ZMkFrk7hq"
      },
      "source": [
        "- **GarageType, GarageFinish, GarageQual ve GarageCond** : Eksik verileri Yok(None) ile değiştirme\n",
        "\n",
        "**all_data içerisindeki \"GarageType\", \"GarageFinish\", \"GarageQual\" ve \"GarageCond\" değerini döngü ile tek sefer de \"None\" ile doldurunuz.**"
      ]
    },
    {
      "cell_type": "code",
      "execution_count": null,
      "metadata": {
        "_cell_guid": "f264979e-f5e2-4aae-b313-7468570c0294",
        "_execution_state": "idle",
        "_uuid": "d556da5418394ed50d3c14bd02668714cee0fb4a",
        "collapsed": true,
        "id": "343BnlJpk7hq"
      },
      "outputs": [],
      "source": [
        "##all_data içerisindeki \"GarageType\", \"GarageFinish\", \"GarageQual\" ve \"GarageCond\" değerini döngü ile tek sefer de \"None\" ile doldurunuz.\n"
      ]
    },
    {
      "cell_type": "markdown",
      "metadata": {
        "_cell_guid": "92173e82-fd12-4fa0-b7dd-f66fb7b0be3b",
        "_execution_state": "idle",
        "_uuid": "b38ea3ec1c4b8fa4b31e8f86f378798319c05a71",
        "id": "tjUhr1qPk7hq"
      },
      "source": [
        "- **GarageYrBlt, GarageArea ve GarageCars** : Eksik verilerin 0 ile değiştirilmesi (Garaj alanı yoksa garaj olmadığı için araç da yoktur.)\n",
        "\n",
        "\n",
        "**all_data içerisindeki \"GarageYrBlt\", \"GarageArea\" ve \"GarageCars\" değerini döngü ile tek sefer de \"0\" ile doldurunuz.**\n"
      ]
    },
    {
      "cell_type": "code",
      "execution_count": null,
      "metadata": {
        "_cell_guid": "ada7acfa-8bc3-4d52-9f42-28a78cefc950",
        "_execution_state": "idle",
        "_uuid": "2726cce29df2a2621c54c4c8a06eb570a7191552",
        "collapsed": true,
        "id": "scs9LZXSk7hq"
      },
      "outputs": [],
      "source": [
        "##all_data içerisindeki \"GarageYrBlt\", \"GarageArea\" ve \"GarageCars\" değerini döngü ile tek sefer de \"0\" ile doldurunuz.\n"
      ]
    },
    {
      "cell_type": "markdown",
      "metadata": {
        "_cell_guid": "b9f955c5-4e03-4835-8df7-1284120453ff",
        "_execution_state": "idle",
        "_uuid": "1729c36d95461d03679eb95e18eaac3d37aeb076",
        "id": "7wCyxf48k7hr"
      },
      "source": [
        "- **BsmtFinSF1, BsmtFinSF2, BsmtUnfSF, TotalBsmtSF, BsmtFullBath ve BsmtHalfBath** : bodrum olmadığı için eksik değerler muhtemelen sıfırdır.\n",
        "\n",
        "**all_data içerisindeki \"BsmtFinSF1\", \"BsmtFinSF2\", \"BsmtUnfSF\", \"TotalBsmtSF\", \"BsmtFullBath\" ve \"BsmtHalfBath\" değerini döngü ile tek sefer de \"0\" ile doldurunuz.**\n"
      ]
    },
    {
      "cell_type": "code",
      "execution_count": null,
      "metadata": {
        "_cell_guid": "dd9e7ef7-3cee-437a-9a33-20987e238425",
        "_execution_state": "idle",
        "_uuid": "3008a6bd07ed883ff92a83ebe390940a24010fcb",
        "collapsed": true,
        "id": "950rkmGck7hr"
      },
      "outputs": [],
      "source": [
        "##all_data içerisindeki \"BsmtFinSF1\", \"BsmtFinSF2\", \"BsmtUnfSF\", \"TotalBsmtSF\", \"BsmtFullBath\" ve \"BsmtHalfBath\" değerini döngü ile tek sefer de \"0\" ile doldurunuz.\n"
      ]
    },
    {
      "cell_type": "markdown",
      "metadata": {
        "_cell_guid": "441b397e-c527-4bd5-8d3c-df6aeba72192",
        "_execution_state": "idle",
        "_uuid": "d4ed0fcea9f8bb309118ba2fb703431e386c6cbd",
        "id": "zyqnAw7ak7hr"
      },
      "source": [
        "- **BsmtQual, BsmtCond, BsmtExposure, BsmtFinType1 ve BsmtFinType2** : Tüm bu kolonlar bodrumla ilgili özniteliklerin NaN değerinde olması bodrum olmadığı anlamına gelir.\n",
        "\n",
        "\n",
        "**all_data içerisindeki \"BsmtQual\", \"BsmtCond\", \"BsmtExposure\", \"BsmtFinType1\" ve \"BsmtFinType2\" değerini döngü ile tek sefer de \"None\" ile doldurunuz.**\n"
      ]
    },
    {
      "cell_type": "code",
      "execution_count": null,
      "metadata": {
        "_cell_guid": "6d7aa4f6-41b9-4f27-acb0-8af6aca2c8ff",
        "_execution_state": "idle",
        "_uuid": "ee281d3c691a50795e93bb797603c697d320b286",
        "collapsed": true,
        "id": "umhDzO-0k7hr"
      },
      "outputs": [],
      "source": [
        "##all_data içerisindeki \"BsmtQual\", \"BsmtCond\", \"BsmtExposure\", \"BsmtFinType1\" ve \"BsmtFinType2\" değerini döngü ile tek sefer de \"None\" ile doldurunuz.\n"
      ]
    },
    {
      "cell_type": "markdown",
      "metadata": {
        "_cell_guid": "e7f2515f-8438-4075-9d22-0b37c1a2ef01",
        "_execution_state": "idle",
        "_uuid": "556165bc959cd6ff2354cb774341ac947d052f6a",
        "id": "_8rnwuyGk7hr"
      },
      "source": [
        "- **MasVnrArea ve MasVnrType** : NA büyük olasılıkla bu evler için duvar kaplaması olmadığı anlamına gelir. Alan için 0, tip için None doldurabiliriz.\n",
        "\n",
        "**all_data içerisindeki \"MasVnrType\" değerinden eksik olan değerleri \"None\" ile,**\n",
        "\n",
        "**\"MasVnrArea\" değerinden eksik olan değerleri \"0\" ile doldurunuz.**"
      ]
    },
    {
      "cell_type": "code",
      "execution_count": null,
      "metadata": {
        "_cell_guid": "63a3a030-482f-4292-a887-16880f7a2882",
        "_execution_state": "idle",
        "_uuid": "800ff604bb70023baf1d403b53b674b765d9047c",
        "collapsed": true,
        "id": "B5DJuk6mk7hr"
      },
      "outputs": [],
      "source": [
        "##all_data içerisindeki \"MasVnrType\" değerinden eksik olan değerleri \"None\" ile \n",
        "##\"MasVnrArea\" değerinden eksik olan değerleri \"0\" ile doldurunuz.\n",
        "\n",
        "all_data[\"MasVnrType\"] = all_data[\"MasVnrType\"].fillna(\"None\")\n",
        "all_data[\"MasVnrArea\"] = all_data[\"MasVnrArea\"].fillna(0)"
      ]
    },
    {
      "cell_type": "markdown",
      "metadata": {
        "_cell_guid": "f2f7f337-de24-44ec-93a6-09428ec9a252",
        "_execution_state": "idle",
        "_uuid": "ded1f7ea0443654bd033eeed1361056f820a925b",
        "id": "yOyUqiU6k7hr"
      },
      "source": [
        "- **MSZoning (Genel imar sınıflandırması)** : 'RL' açık ara en yaygın değerdir. Böylece eksik değerleri 'RL' ile doldurabiliriz.\n",
        "\n",
        "Not: Bir dizi değerin modu, en sık görünen değerdir. Birden çok değer olabilir.\n",
        "\n",
        "**pandas dataframe'in mode() property'sini kullanarak ilgili kolondaki değerlerin en yayın kullanılan değerini tespit ediniz ve bu değeri all_data içerisidenki \"MSZoning\" değerlerinden eksik olan değerleri yerine doldurunuz.**"
      ]
    },
    {
      "cell_type": "code",
      "execution_count": null,
      "metadata": {
        "_cell_guid": "0e4f28b5-784c-4369-92f4-bda15fa55172",
        "_execution_state": "idle",
        "_uuid": "ca93ce9b34c853c1bb11d837eaff6c2986234757",
        "collapsed": true,
        "id": "5yd63SD1k7hs"
      },
      "outputs": [],
      "source": [
        "##pandas dataframe'in mode() property'sini kullanarak ilgili kolondaki değerlerin en yayın kullanılan değerini tespit ediniz ve \n",
        "##bu değeri all_data içerisidenki \"MSZoning\" değerlerinden eksik olan değerleri yerine doldurunuz.\n"
      ]
    },
    {
      "cell_type": "markdown",
      "metadata": {
        "_cell_guid": "99310a4b-9dbf-4273-81b5-94bf0adf338c",
        "_execution_state": "idle",
        "_uuid": "de39073aef3db7d13894fa82285eff803d6e5c1b",
        "id": "p8BowiK1k7hs"
      },
      "source": [
        "- **Utilities** : Bu kategorik özellik için bir \"NoSeWa\" ve 2 NA hariç tüm kayıtlar \"AllPub\" şeklindedir. \n",
        "\n",
        "'NoSewa' içeren ev eğitim setinde olduğundan, **bu özellik tahmine dayalı modellemeye yardımcı olmaz**. Daha sonra güvenle kaldırabiliriz.\n",
        "\n",
        "**all_data içerisinden \"Utilities\" kolonunu kaldırınız.**"
      ]
    },
    {
      "cell_type": "code",
      "execution_count": null,
      "metadata": {
        "_cell_guid": "facec65d-945f-4be1-86c8-1be011cc2bd0",
        "_execution_state": "idle",
        "_uuid": "de8ee2aca9eb3eeed7442cd9d12843cc64746708",
        "collapsed": true,
        "id": "2hlNKrHTk7hs"
      },
      "outputs": [],
      "source": [
        "##all_data içerisinden \"Utilities\" kolonunu kaldırınız.\n"
      ]
    },
    {
      "cell_type": "markdown",
      "metadata": {
        "_cell_guid": "c6aabfcd-4a1d-4845-88a1-b2f5cb7d8901",
        "_execution_state": "idle",
        "_uuid": "3450d048089ba8ff98807c6ae3b745b0a34165f9",
        "id": "wNOOkJJtk7hs"
      },
      "source": [
        "Functional: Ev işlevsellik derecesi\n",
        "- **Functional** : Verisinin NA olması evin tipik bir ev olduğu anlamına geldiğini söylüyor.\n",
        "\n",
        "**all_data içerisinde \"Functional\" alanındaki değerlerden eksik olanları tipik bir ev tipi anlamına gelen \"Typ\" değeri ile doldurunuz.**"
      ]
    },
    {
      "cell_type": "code",
      "execution_count": null,
      "metadata": {
        "_cell_guid": "c968aa5e-c34f-442e-9388-69e074a2c84e",
        "_execution_state": "idle",
        "_uuid": "e2d331e991fa868320b5d089f61c58b54ce7cb37",
        "collapsed": true,
        "id": "bHZrl1MHk7hs"
      },
      "outputs": [],
      "source": [
        "##all_data içerisinde \"Functional\" alanındaki değerlerden eksik olanları tipik bir ev tipi anlamına gelen \"Typ\" değeri ile doldurunuz.\n"
      ]
    },
    {
      "cell_type": "markdown",
      "metadata": {
        "_cell_guid": "4f2bad4d-8db8-4ac3-8991-ffa2c775a72d",
        "_execution_state": "idle",
        "_uuid": "c122f5b5596bc4ce615c6b620b7e1824a54a47b8",
        "id": "jrA09Hhwk7hs"
      },
      "source": [
        "- **Electrical** : Bir adet NA değerine sahiptir. Bu öznitelik çoğunlukla 'SBrkr' olduğundan, bu değer ile değiştirebiliriz.\n",
        "\n",
        "\n",
        "**Yukarıda \"MSZoning\" değerleri için yaptığımız gibi all_data içerisidenki \"Electrical\" değerlerinden eksik olan değerlerini en yaygın kullanılan değer ile doldunuz.**"
      ]
    },
    {
      "cell_type": "code",
      "execution_count": null,
      "metadata": {
        "_cell_guid": "d93eab84-7759-4201-bd7d-d450399478f7",
        "_execution_state": "idle",
        "_uuid": "d31761ee8878ce4143cf21adde149cd622c5a039",
        "collapsed": true,
        "id": "2e4LylJJk7ht"
      },
      "outputs": [],
      "source": [
        "##Yukarıda \"MSZoning\" değerleri için yaptığımız gibi all_data içerisidenki \"Electrical\" değerlerinden \n",
        "##eksik olan değerlerini en yaygın kullanılan değer ile doldunuz.\n"
      ]
    },
    {
      "cell_type": "markdown",
      "metadata": {
        "_cell_guid": "3d089b8e-3392-4067-a5a1-4f6d4e3e8fb5",
        "_execution_state": "idle",
        "_uuid": "8e0fd54a802f1eddfec0aa4104412c19e1c266d0",
        "id": "pxUKYIK4k7ht"
      },
      "source": [
        "- **KitchenQual**: Yalnızca bir NA değeri ve Electrical ile aynı, KitchenQual'da eksik değer için 'TA' (en sık görülen) belirledik.\n",
        "\n",
        "**all_data içerisidenki \"KitchenQual\" değerlerinden eksik olan değerlerini en yaygın kullanılan değer ile doldunuz.**"
      ]
    },
    {
      "cell_type": "code",
      "execution_count": null,
      "metadata": {
        "_cell_guid": "9f68e47a-5b50-436f-9e31-ff65a1cb1687",
        "_execution_state": "idle",
        "_uuid": "23071ddb69b67b1d742bb15d260421d57aed5583",
        "collapsed": true,
        "id": "vzqYascpk7ht"
      },
      "outputs": [],
      "source": [
        "##all_data içerisidenki \"KitchenQual\" değerlerinden eksik olan değerlerini en yaygın kullanılan değer ile doldunuz.\n"
      ]
    },
    {
      "cell_type": "markdown",
      "metadata": {
        "_cell_guid": "e32aec7d-2841-4bfc-a6d2-d181000af4b8",
        "_execution_state": "idle",
        "_uuid": "e8aca612daf293e7228eed9647370036d003e0fb",
        "id": "sj6BEUXTk7ht"
      },
      "source": [
        "- **Exterior1st and Exterior2nd** : İki öznitelik içinde yalnızca bir eksik değer olduğundan en yaynın değeri (mode()) atayabiliriz.\n",
        "\n",
        "**all_data içerisindeki \"Exterior1st\" ve \"Exterior2nd\" değerlerinden eksik olanları değerlerinin en yaygın kullanılan değer ile doldurunuz.**"
      ]
    },
    {
      "cell_type": "code",
      "execution_count": null,
      "metadata": {
        "_cell_guid": "85903feb-7fdb-4911-9a6a-f29629bbf308",
        "_execution_state": "idle",
        "_uuid": "6375e9c7c145e0f2832cbe03addbce3d90cb44c4",
        "collapsed": true,
        "id": "OTabbCXFk7ht"
      },
      "outputs": [],
      "source": [
        "##all_data içerisindeki \"Exterior1st\" ve \"Exterior2nd\" değerlerinden eksik olanları değerlerinin en yaygın kullanılan değer ile doldurunuz.\n"
      ]
    },
    {
      "cell_type": "markdown",
      "metadata": {
        "_cell_guid": "b87d629d-6820-4f3e-80f3-efc16436b982",
        "_execution_state": "idle",
        "_uuid": "67f41f0ad648d536d70e2ccb617a4b495fb7f782",
        "id": "QS5_Rw1Ek7ht"
      },
      "source": [
        "- **SaleType** : En sık kullanılan \"WD\" ile doldurabiliriz.\n",
        "\n",
        "**all_data içerisindeki \"SaleType\" değerlerinden eksik olanları değerlerini en yaygın kullanılan değer ile doldurunuz.**"
      ]
    },
    {
      "cell_type": "code",
      "execution_count": null,
      "metadata": {
        "_cell_guid": "aaa407ac-ad4a-4313-8530-ac96826be6e5",
        "_execution_state": "idle",
        "_uuid": "06c104efedaf57a4052c8f61c502cb6313e0beea",
        "collapsed": true,
        "id": "NW6STDJjk7ht"
      },
      "outputs": [],
      "source": [
        "##all_data içerisindeki \"SaleType\" değerlerinden eksik olanları değerlerini en yaygın kullanılan değer ile doldurunuz.\n"
      ]
    },
    {
      "cell_type": "markdown",
      "metadata": {
        "_cell_guid": "8ddca94e-7cfa-4f25-9333-29e013c9c30d",
        "_execution_state": "idle",
        "_uuid": "8a3a35f5dc00732929143480a8a0b34a2a502c27",
        "id": "aYzrcnLMk7ht"
      },
      "source": [
        "- **MSSubClass** : Na büyük olasılıkla Bina sınıfı yok anlamına gelir. Eksik değerleri Yok(None) ile değiştirebiliriz\n",
        "\n",
        "**all_data içerisindeki \"MSSubClass\" değerinden eksik olan değerleri \"None\" ile doldurunuz.**"
      ]
    },
    {
      "cell_type": "code",
      "execution_count": null,
      "metadata": {
        "_cell_guid": "23dedd0c-7d5e-4870-8588-8bc4890f627b",
        "_execution_state": "idle",
        "_uuid": "9608a2eada6013e7f14e9341862cca0dca4621e9",
        "collapsed": true,
        "id": "0kV5Oi4Ak7hu"
      },
      "outputs": [],
      "source": [
        "##all_data içerisindeki \"MSSubClass\" değerinden eksik olan değerleri \"None\" ile doldurunuz.\n"
      ]
    },
    {
      "cell_type": "markdown",
      "metadata": {
        "_cell_guid": "9193270b-8e7b-4a24-b769-d6eb661a1ae7",
        "_execution_state": "idle",
        "_uuid": "465570fcce8944ee31b1709ec6954d03cbf32ff8",
        "id": "0MyU7toXk7hu"
      },
      "source": [
        "**Varsa kalan eksik değerleri kontrol ediniz**"
      ]
    },
    {
      "cell_type": "code",
      "execution_count": null,
      "metadata": {
        "_cell_guid": "0adf05cf-ce60-4169-805c-ca776e60e85a",
        "_execution_state": "idle",
        "_uuid": "b091fa2ebef19425019e2e550410d0376b9e9fac",
        "collapsed": true,
        "id": "R4yOFhjok7hu"
      },
      "outputs": [],
      "source": [
        "##Varsa kalan eksik değerleri kontrol ediniz \n",
        "all_data_na = (all_data.isnull().sum() / len(all_data)) * 100\n",
        "all_data_na = all_data_na.drop(all_data_na[all_data_na == 0].index).sort_values(ascending=False)\n",
        "missing_data = pd.DataFrame({'Missing Ratio' :all_data_na})\n",
        "missing_data.head()"
      ]
    },
    {
      "cell_type": "markdown",
      "metadata": {
        "_cell_guid": "78266762-5180-44fa-a630-b808706800d4",
        "_execution_state": "idle",
        "_uuid": "360f518886ac45afe2963b9b53edb17c2be4a130",
        "id": "VIVC6ebak7hu"
      },
      "source": [
        "Eksik değer kalmadı."
      ]
    },
    {
      "cell_type": "markdown",
      "metadata": {
        "_cell_guid": "39639caf-31a4-4401-a663-0ba9536b39bf",
        "_execution_state": "idle",
        "_uuid": "5a13a6e2a3e48975de9129d1593bd38df44a1069",
        "id": "WmvfGb0pk7hy"
      },
      "source": [
        "**Sahte kategorik özellikler elde etme**"
      ]
    },
    {
      "cell_type": "code",
      "execution_count": null,
      "metadata": {
        "_cell_guid": "c8e63516-e4e2-4f36-a60e-1c8316392c60",
        "_execution_state": "idle",
        "_uuid": "acd44e283867425257ffd1fb2f4893cdbff43f67",
        "collapsed": true,
        "id": "e9zQxEKok7hy"
      },
      "outputs": [],
      "source": [
        "all_data = pd.get_dummies(all_data)\n",
        "print(all_data.shape)"
      ]
    },
    {
      "cell_type": "markdown",
      "metadata": {
        "_cell_guid": "243cf047-c2ba-4ae5-a531-22ef9b7cfbfe",
        "_execution_state": "idle",
        "_uuid": "fe9d78c7e37142ee8089826eca3065e0fa5803c1",
        "id": "qfVvKP1wk7hy"
      },
      "source": [
        "**Birleştirilmiş olan all_data içerisinden yeniden eğitim (train) ve test kümelerine ayırınız.**"
      ]
    },
    {
      "cell_type": "code",
      "execution_count": null,
      "metadata": {
        "_cell_guid": "0a75646f-1974-40ad-a085-ff7bc08454a5",
        "_execution_state": "idle",
        "_uuid": "89e464095544a53177d5a009b914ba4c660072a7",
        "collapsed": true,
        "id": "Vm0xq-PMk7hy"
      },
      "outputs": [],
      "source": [
        "train = all_data[:ntrain]\n",
        "test = all_data[ntrain:]"
      ]
    },
    {
      "cell_type": "markdown",
      "metadata": {
        "_cell_guid": "461af83d-a928-4645-8512-5e4dbcaf7be0",
        "_execution_state": "idle",
        "_uuid": "10aab4cee97832560e2627a490e01e80c0ffb814",
        "id": "dHuhEXxMk7hz"
      },
      "source": [
        "#Modelleme"
      ]
    },
    {
      "cell_type": "code",
      "execution_count": null,
      "metadata": {
        "_cell_guid": "135e8ac5-ce46-4a5f-b205-13f827ef33b8",
        "_execution_state": "idle",
        "_uuid": "fc664fbe27561a3697d0210921107b0e14b7d211",
        "collapsed": true,
        "id": "pDp2I9FYk7hz"
      },
      "outputs": [],
      "source": [
        "from sklearn.model_selection import KFold, cross_val_score, train_test_split\n",
        "from sklearn.metrics import mean_squared_error\n",
        "import xgboost as xgb"
      ]
    },
    {
      "cell_type": "markdown",
      "metadata": {
        "_cell_guid": "4a2b5181-44f2-4c74-b482-aae0f5afc25a",
        "_execution_state": "idle",
        "_uuid": "dc0d7a3013f349988b3f2c84a6c130d6ad350170",
        "id": "ZYsX48rlk7hz"
      },
      "source": [
        "Sklearn'in **cross_val_score** fonksiyonunu kullanıyoruz. Ancak bu fonksiyonun karıştırma özelliği olmadığından öncesinde KFold ile karıştırıyoruz."
      ]
    },
    {
      "cell_type": "code",
      "execution_count": null,
      "metadata": {
        "_cell_guid": "f396260b-e182-4a87-9a2a-b92b9375ea6f",
        "_execution_state": "idle",
        "_uuid": "5c12551d092a6c5cf32d86398b054da7af3047b8",
        "collapsed": true,
        "id": "Fsyj2gTSk7hz"
      },
      "outputs": [],
      "source": [
        "#Validation function\n",
        "n_folds = 5\n",
        "\n",
        "def rmsle_cv(model):\n",
        "    kf = KFold(n_folds, shuffle=True, random_state=42).get_n_splits(train.values)\n",
        "    rmse = np.sqrt(-cross_val_score(model, train.values, y_train, scoring=\"neg_mean_squared_error\", cv = kf))\n",
        "    return(rmse)"
      ]
    },
    {
      "cell_type": "markdown",
      "metadata": {
        "_cell_guid": "d44ac87e-bf01-440b-ab22-b2868eb6ae48",
        "_execution_state": "idle",
        "_uuid": "53d7991f7dd03fcd7fb5ab1ec26fcd0614d002d3",
        "id": "W8xv6vSnk7h1"
      },
      "source": [
        "**[XGBoost (eXtreme Gradient Boosting)](https://en.wikipedia.org/wiki/XGBoost)**: Gradient Boosting algoritmasının çeşitli düzenlemeler ile optimize edilmiş yüksek performanslı halidir. "
      ]
    },
    {
      "cell_type": "code",
      "execution_count": null,
      "metadata": {
        "_cell_guid": "ed738a4c-c246-443c-a3c1-39df25f988b7",
        "_execution_state": "idle",
        "_uuid": "57c24b596ceb46d6f32ebf9501d672d7e469c15b",
        "collapsed": true,
        "id": "4ceAJZ9pk7h1"
      },
      "outputs": [],
      "source": [
        "model_xgb = xgb.XGBRegressor(colsample_bytree=0.4603, gamma=0.0468, \n",
        "                             learning_rate=0.05, max_depth=3, \n",
        "                             min_child_weight=1.7817, n_estimators=2200,\n",
        "                             reg_alpha=0.4640, reg_lambda=0.8571,\n",
        "                             subsample=0.5213, silent=1,\n",
        "                             random_state =7, nthread = -1)\n",
        "\n"
      ]
    },
    {
      "cell_type": "markdown",
      "metadata": {
        "_cell_guid": "9e1eff6a-e937-45e4-96ef-41593e31e1bb",
        "_execution_state": "idle",
        "_uuid": "71bce529300e2f3d9f9f475d01bd7001258dbede",
        "id": "riAuTxiHk7h1"
      },
      "source": [
        "###Model Skoru"
      ]
    },
    {
      "cell_type": "markdown",
      "metadata": {
        "_cell_guid": "84ddecce-7671-44e5-919d-97348bf413f4",
        "_execution_state": "idle",
        "_uuid": "cae4987b8ec89e90a90d7826c4ec98d315cac00b",
        "id": "tiTXE0Spk7h2"
      },
      "source": [
        "Çapraz doğrulama rmsle hatasını değerlendirerek modelin veriler üzerinde nasıl performans gösterdiğini görelim"
      ]
    },
    {
      "cell_type": "code",
      "execution_count": null,
      "metadata": {
        "_cell_guid": "30738ecc-39f8-44ed-9f42-68518beb7e6a",
        "_execution_state": "idle",
        "_uuid": "5f52ccf39d01165e61a7c6be8b788be4e58e286b",
        "collapsed": true,
        "id": "qa4rq2knk7h2"
      },
      "outputs": [],
      "source": [
        "score = rmsle_cv(model_xgb)\n",
        "print(\"Xgboost score: {:.4f} ({:.4f})\\n\".format(score.mean(), score.std()))"
      ]
    },
    {
      "cell_type": "code",
      "source": [
        ""
      ],
      "metadata": {
        "id": "GoTNcP_QY4vz"
      },
      "execution_count": null,
      "outputs": []
    }
  ],
  "metadata": {
    "kernelspec": {
      "display_name": "Python 3",
      "language": "python",
      "name": "python3"
    },
    "language_info": {
      "codemirror_mode": {
        "name": "ipython",
        "version": 3
      },
      "file_extension": ".py",
      "mimetype": "text/x-python",
      "name": "python",
      "nbconvert_exporter": "python",
      "pygments_lexer": "ipython3",
      "version": "3.6.3"
    },
    "colab": {
      "name": "Feature Engineering_HousePrices_Exercises_1.ipynb",
      "provenance": [],
      "collapsed_sections": []
    }
  },
  "nbformat": 4,
  "nbformat_minor": 0
}