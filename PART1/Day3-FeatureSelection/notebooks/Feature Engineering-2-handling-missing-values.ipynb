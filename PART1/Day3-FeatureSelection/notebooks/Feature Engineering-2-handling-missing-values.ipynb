{
 "cells": [
  {
   "cell_type": "markdown",
   "id": "ecca8618",
   "metadata": {
    "id": "ecca8618",
    "papermill": {
     "duration": 0.015663,
     "end_time": "2021-12-14T18:23:46.777227",
     "exception": false,
     "start_time": "2021-12-14T18:23:46.761564",
     "status": "completed"
    },
    "tags": []
   },
   "source": [
    "Veri temizleme, veri biliminin önemli bir parçasıdır. \n",
    "\n",
    "Bu derste, verilerinizi daha hızlı analiz edebilmek için en yaygın veri temizleme sorunlarından bazılarını nasıl çözeceğiniz ile ilgili alıştırmalar mevcut. Gerçek, karmaşık verilerle 5 uygulamalı alıştırma üzerinde çalışacağız ve en sık karşılaşılan veri temizleme sorunlarına göz atacağız.\n",
    "\n",
    "Bu notebookta, eksik değerlerle nasıl başa çıkılacağına bakacağız.\n",
    "\n",
    "# Öncelikle Verilere göz atalım\n",
    "\n",
    "Yapmamız gereken ilk şey, kullanacağımız kütüphaneleri ve veri setini yüklemek.\n",
    "\n",
    "Amerikan Futbolu oyunlarında meydana gelen olayların bir veri setini kullanacağız.\n"
   ]
  },
  {
   "cell_type": "code",
   "execution_count": null,
   "id": "h3VOhjCuNo0b",
   "metadata": {
    "id": "h3VOhjCuNo0b"
   },
   "outputs": [],
   "source": [
    "#from google.colab import drive\n",
    "#drive.mount('/content/drive')"
   ]
  },
  {
   "cell_type": "code",
   "execution_count": null,
   "id": "KdrXW8_fNp-f",
   "metadata": {
    "id": "KdrXW8_fNp-f"
   },
   "outputs": [],
   "source": [
    "#ROOT_DIR = \"/content/drive/MyDrive/CASGEM-Egitim/Egitim-Part1/Day3-FeatureSelection/notebooks\"\n",
    "ROOT_DIR = \"https://media.githubusercontent.com/media/yapay-ogrenme/casgem-eu-project-training-on-data-mining/main/PART1/Day3-FeatureSelection/notebooks\"\n",
    "DATASET_PATH = ROOT_DIR + \"/datasets\""
   ]
  },
  {
   "cell_type": "code",
   "execution_count": null,
   "id": "5091cae8",
   "metadata": {
    "id": "5091cae8",
    "papermill": {
     "duration": 9.341727,
     "end_time": "2021-12-14T18:23:56.133771",
     "exception": false,
     "start_time": "2021-12-14T18:23:46.792044",
     "status": "completed"
    },
    "tags": []
   },
   "outputs": [],
   "source": [
    "# modules we'll use\n",
    "import pandas as pd\n",
    "import numpy as np\n",
    "\n",
    "# read in all our data\n",
    "nfl_data = pd.read_csv(DATASET_PATH + \"/NFL_Play_by_Play_2009-2017_v4.csv\")\n",
    "\n",
    "# set seed for reproducibility\n",
    "np.random.seed(0) "
   ]
  },
  {
   "cell_type": "markdown",
   "id": "2ad7b8fa",
   "metadata": {
    "id": "2ad7b8fa",
    "papermill": {
     "duration": 0.014698,
     "end_time": "2021-12-14T18:23:56.164021",
     "exception": false,
     "start_time": "2021-12-14T18:23:56.149323",
     "status": "completed"
    },
    "tags": []
   },
   "source": [
    "Yeni bir veri seti aldığınızda yapılacak ilk şey, verilere göz atmaktır. Bu, her şeyin doğru bir şekilde okunduğunu görmenizi sağlar ve verilerde neler olduğu hakkında bir fikir verir. Bu durumda, `NaN` veya `None` ile temsil edilecek herhangi bir eksik değer olup olmadığını görelim.\n"
   ]
  },
  {
   "cell_type": "code",
   "execution_count": null,
   "id": "a593424f",
   "metadata": {
    "id": "a593424f",
    "papermill": {
     "duration": 0.057706,
     "end_time": "2021-12-14T18:23:56.236686",
     "exception": false,
     "start_time": "2021-12-14T18:23:56.178980",
     "status": "completed"
    },
    "tags": []
   },
   "outputs": [],
   "source": [
    "# look at the first five rows of the nfl_data file. \n",
    "# I can see a handful of missing data already!\n",
    "nfl_data.head()"
   ]
  },
  {
   "cell_type": "markdown",
   "id": "83ec7223",
   "metadata": {
    "id": "83ec7223",
    "papermill": {
     "duration": 0.016503,
     "end_time": "2021-12-14T18:23:56.269293",
     "exception": false,
     "start_time": "2021-12-14T18:23:56.252790",
     "status": "completed"
    },
    "tags": []
   },
   "source": [
    "Evet, bazı eksik değerler var gibi görünüyor.\n",
    "\n",
    "# Kaç tane eksik veri noktamız var?\n",
    "\n",
    "Tamam, artık bazı eksik değerlerimiz olduğunu biliyoruz. Bakalım her sütunda kaç tane var.\n"
   ]
  },
  {
   "cell_type": "code",
   "execution_count": null,
   "id": "506b3d81",
   "metadata": {
    "id": "506b3d81",
    "papermill": {
     "duration": 1.216502,
     "end_time": "2021-12-14T18:23:57.502269",
     "exception": false,
     "start_time": "2021-12-14T18:23:56.285767",
     "status": "completed"
    },
    "tags": []
   },
   "outputs": [],
   "source": [
    "# get the number of missing data points per column\n",
    "missing_values_count = nfl_data.isnull().sum()\n",
    "\n",
    "# look at the # of missing points in the first ten columns\n",
    "missing_values_count[0:10]"
   ]
  },
  {
   "cell_type": "markdown",
   "id": "6ab5a112",
   "metadata": {
    "id": "6ab5a112",
    "papermill": {
     "duration": 0.016577,
     "end_time": "2021-12-14T18:23:57.535752",
     "exception": false,
     "start_time": "2021-12-14T18:23:57.519175",
     "status": "completed"
    },
    "tags": []
   },
   "source": [
    "Bu çok gibi görünüyor! Bu sorunun ölçeğini daha iyi anlamamız için veri kümemizdeki değerlerin yüzde kaçının eksik olduğunu görmek yardımcı olabilir:\n"
   ]
  },
  {
   "cell_type": "code",
   "execution_count": null,
   "id": "398633a3",
   "metadata": {
    "id": "398633a3",
    "papermill": {
     "duration": 0.026171,
     "end_time": "2021-12-14T18:23:57.578109",
     "exception": false,
     "start_time": "2021-12-14T18:23:57.551938",
     "status": "completed"
    },
    "tags": []
   },
   "outputs": [],
   "source": [
    "# how many total missing values do we have?\n",
    "total_cells = np.product(nfl_data.shape)\n",
    "total_missing = missing_values_count.sum()\n",
    "\n",
    "# percent of data that is missing\n",
    "percent_missing = (total_missing/total_cells) * 100\n",
    "print(percent_missing)"
   ]
  },
  {
   "cell_type": "markdown",
   "id": "d53d01ad",
   "metadata": {
    "id": "d53d01ad",
    "papermill": {
     "duration": 0.01787,
     "end_time": "2021-12-14T18:23:57.613463",
     "exception": false,
     "start_time": "2021-12-14T18:23:57.595593",
     "status": "completed"
    },
    "tags": []
   },
   "source": [
    "Bu veri kümesindeki hücrelerin neredeyse dörtte biri boş! Bir sonraki adımda, değerleri eksik olan bazı sütunlara daha yakından bakacağız ve onlarla neler olabileceğini anlamaya çalışacağız.\n",
    "\n",
    "# Verilerin neden eksik olduğunu anlayın\n",
    " \n",
    "Bu, veri biliminde \"veri sezgisi\" olarak adlandırılan, yani \"verilerinize gerçekten bakmak ve bunun neden böyle olduğunu ve bunun nasıl olacağını anlamaya çalışmak\" anlamına gelen kısmına girdiğimiz noktadır. Eksik değerlerle başa çıkmak için, değerin neden eksik olduğunu anlamak için sezginizi kullanmanız gerekir. Bunu çözmenize yardımcı olması için kendinize sorabileceğiniz en önemli sorulardan biri şudur:\n",
    "\n",
    "> **Bu değer kaydedilmediği için mi yoksa var olmadığı için mi eksik?**\n",
    "\n",
    "Bir değer olmadığı için eksikse (çocuğu olmayan birinin en büyük çocuğunun boyu gibi), o zaman ne olabileceğini tahmin etmeye çalışmak mantıklı değildir. Bu değerleri muhtemelen `NaN` olarak tutmak istersiniz. Öte yandan, bir değer kaydedilmediği için eksikse, o sütun ve satırdaki diğer değerlere dayanarak ne olabileceğini tahmin etmeye çalışabilirsiniz. Buna **imputation** denir ve bundan sonra nasıl yapılacağını öğreneceğiz! :)\n",
    "\n",
    "Bir örnek üzerinden çalışalım. `nfl_data` dataframe'indeki eksik değerlerin sayısına baktığımızda, \"TimesSec\" sütununun içinde birçok eksik değer olduğunu fark ediyoruz:\n"
   ]
  },
  {
   "cell_type": "code",
   "execution_count": null,
   "id": "45987a2c",
   "metadata": {
    "id": "45987a2c",
    "papermill": {
     "duration": 0.028287,
     "end_time": "2021-12-14T18:23:57.659390",
     "exception": false,
     "start_time": "2021-12-14T18:23:57.631103",
     "status": "completed"
    },
    "tags": []
   },
   "outputs": [],
   "source": [
    "# look at the # of missing points in the first ten columns\n",
    "missing_values_count[0:10]"
   ]
  },
  {
   "cell_type": "markdown",
   "id": "d239f2c1",
   "metadata": {
    "id": "d239f2c1",
    "papermill": {
     "duration": 0.01666,
     "end_time": "2021-12-14T18:23:57.693219",
     "exception": false,
     "start_time": "2021-12-14T18:23:57.676559",
     "status": "completed"
    },
    "tags": []
   },
   "source": [
    "[Belgelere](https://www.kaggle.com/maxhorowitz/nflplaybyplay2009to2016) bakarak, bu sütunda oyun yapıldığında oyunda kalan saniye sayısı hakkında bilgi olduğunu görebiliyorum. Bu, bu değerlerin, var olmadıkları için değil, kaydedilmedikleri için muhtemelen eksik olduğu anlamına gelir. Bu nedenle, onları NA'lar olarak bırakmak yerine, ne olmaları gerektiğini tahmin etmeye çalışmak bizim için mantıklı olacaktır.\n",
    "\n",
    "Öte yandan, \"PenalizedTeam\" gibi birçok eksik alanı olan başka alanlar da var. Ancak bu durumda oyunda penaltı olmaması durumunda, *hangi takımın ceza aldığını söylemek anlamsızdır. Bu sütun için, onu boş bırakmak veya \"neither\" gibi üçüncü bir değer eklemek ve bunu NA'ları değiştirmek için kullanmak daha mantıklı olacaktır.\n",
    "\n",
    "Çok dikkatli veri analizi yapıyorsanız, bu eksik değerleri doldurmak için en iyi stratejiyi bulmak için her sütuna ayrı ayrı bakmanız gerekir. \n",
    "\n",
    "# Eksik değerleri bırak\n",
    "\n",
    "Aceleniz varsa veya değerlerinizin neden eksik olduğunu anlamak için bir nedeniniz yoksa, sahip olduğunuz seçeneklerden biri eksik değerler içeren satırları veya sütunları kaldırmaktır. (Not: Bu yaklaşımı önemli projeler için önerilmez! Veri kümenizi gerçekten tanımak için genellikle verilerinizi gözden geçirmek ve eksik değerleri olan tüm sütunlara tek tek bakmak için zaman ayırmaya değer.)\n",
    "\n",
    "Eksik değerlere sahip satırları bırakmak istediğinizden eminseniz, pandas'ın bunu yapmanıza yardımcı olacak kullanışlı bir işlevi `dropna()` vardır. NFL veri setimizde deneyelim!"
   ]
  },
  {
   "cell_type": "code",
   "execution_count": null,
   "id": "a3724a0a",
   "metadata": {
    "id": "a3724a0a",
    "papermill": {
     "duration": 1.254955,
     "end_time": "2021-12-14T18:23:58.965342",
     "exception": false,
     "start_time": "2021-12-14T18:23:57.710387",
     "status": "completed"
    },
    "tags": []
   },
   "outputs": [],
   "source": [
    "# remove all the rows that contain a missing value\n",
    "nfl_data.dropna()"
   ]
  },
  {
   "cell_type": "markdown",
   "id": "ad18aedc",
   "metadata": {
    "id": "ad18aedc",
    "papermill": {
     "duration": 0.017406,
     "end_time": "2021-12-14T18:23:59.001052",
     "exception": false,
     "start_time": "2021-12-14T18:23:58.983646",
     "status": "completed"
    },
    "tags": []
   },
   "source": [
    "Tüm verilerimizi kaldırmış gibi görünüyor! 😱 Bunun nedeni, veri kümemizdeki her satırın en az bir eksik değere sahip olmasıdır. Bunun yerine en az bir eksik değeri olan tüm *sütunları* kaldırırsak daha iyi olabilir.\n"
   ]
  },
  {
   "cell_type": "code",
   "execution_count": null,
   "id": "b8db1ee9",
   "metadata": {
    "id": "b8db1ee9",
    "papermill": {
     "duration": 1.291307,
     "end_time": "2021-12-14T18:24:00.309983",
     "exception": false,
     "start_time": "2021-12-14T18:23:59.018676",
     "status": "completed"
    },
    "tags": []
   },
   "outputs": [],
   "source": [
    "# remove all columns with at least one missing value\n",
    "columns_with_na_dropped = nfl_data.dropna(axis=1)\n",
    "columns_with_na_dropped.head()"
   ]
  },
  {
   "cell_type": "code",
   "execution_count": null,
   "id": "88c7bd9f",
   "metadata": {
    "id": "88c7bd9f",
    "papermill": {
     "duration": 0.026584,
     "end_time": "2021-12-14T18:24:00.355267",
     "exception": false,
     "start_time": "2021-12-14T18:24:00.328683",
     "status": "completed"
    },
    "tags": []
   },
   "outputs": [],
   "source": [
    "# just how much data did we lose?\n",
    "print(\"Columns in original dataset: %d \\n\" % nfl_data.shape[1])\n",
    "print(\"Columns with na's dropped: %d\" % columns_with_na_dropped.shape[1])"
   ]
  },
  {
   "cell_type": "markdown",
   "id": "56aa6fbe",
   "metadata": {
    "id": "56aa6fbe",
    "papermill": {
     "duration": 0.018761,
     "end_time": "2021-12-14T18:24:00.393396",
     "exception": false,
     "start_time": "2021-12-14T18:24:00.374635",
     "status": "completed"
    },
    "tags": []
   },
   "source": [
    "Oldukça fazla veri kaybettik, ancak bu noktada tüm `NaN`leri verilerimizden başarıyla kaldırdık.\n",
    "\n",
    "# Eksik değerleri otomatik olarak doldurma\n",
    "\n",
    "Başka bir seçenek de eksik değerleri denemek ve doldurmaktır. Sonraki bit için, iyi yazdırılabilmesi için NFL verilerinin küçük bir alt bölümünü alalım.\n"
   ]
  },
  {
   "cell_type": "code",
   "execution_count": null,
   "id": "386cac81",
   "metadata": {
    "id": "386cac81",
    "papermill": {
     "duration": 0.054217,
     "end_time": "2021-12-14T18:24:00.466865",
     "exception": false,
     "start_time": "2021-12-14T18:24:00.412648",
     "status": "completed"
    },
    "tags": []
   },
   "outputs": [],
   "source": [
    "# get a small subset of the NFL dataset\n",
    "subset_nfl_data = nfl_data.loc[:, 'EPA':'Season'].head()\n",
    "subset_nfl_data"
   ]
  },
  {
   "cell_type": "markdown",
   "id": "3d372cb1",
   "metadata": {
    "id": "3d372cb1",
    "papermill": {
     "duration": 0.019225,
     "end_time": "2021-12-14T18:24:00.505898",
     "exception": false,
     "start_time": "2021-12-14T18:24:00.486673",
     "status": "completed"
    },
    "tags": []
   },
   "source": [
    "Bir veri çerçevesindeki eksik değerleri bizim için doldurmak için Pandas'ın `fillna()` fonksiyonunu kullanabiliriz. Elimizdeki seçeneklerden biri, `NaN` değerlerinin neyle değiştirilmesini istediğimizi belirtmektir. Burada tüm `NaN` değerlerini 0 ile değiştirmek istediğimi söylüyorum.\n"
   ]
  },
  {
   "cell_type": "code",
   "execution_count": null,
   "id": "60d1552f",
   "metadata": {
    "id": "60d1552f",
    "papermill": {
     "duration": 0.038927,
     "end_time": "2021-12-14T18:24:00.564423",
     "exception": false,
     "start_time": "2021-12-14T18:24:00.525496",
     "status": "completed"
    },
    "tags": []
   },
   "outputs": [],
   "source": [
    "# replace all NA's with 0\n",
    "subset_nfl_data.fillna(0)"
   ]
  },
  {
   "cell_type": "markdown",
   "id": "662af346",
   "metadata": {
    "id": "662af346",
    "papermill": {
     "duration": 0.019996,
     "end_time": "2021-12-14T18:24:00.605751",
     "exception": false,
     "start_time": "2021-12-14T18:24:00.585755",
     "status": "completed"
    },
    "tags": []
   },
   "source": [
    "Ayrıca biraz daha bilgili olabilir ve eksik değerleri, aynı sütunda hemen ardından gelen değerle değiştirebilirim. (Bu, gözlemlerin bir tür mantıksal sıraya sahip olduğu veri kümeleri için çok anlamlıdır.)\n"
   ]
  },
  {
   "cell_type": "code",
   "execution_count": null,
   "id": "5a022c2d",
   "metadata": {
    "id": "5a022c2d",
    "papermill": {
     "duration": 0.046494,
     "end_time": "2021-12-14T18:24:00.672602",
     "exception": false,
     "start_time": "2021-12-14T18:24:00.626108",
     "status": "completed"
    },
    "tags": []
   },
   "outputs": [],
   "source": [
    "# replace all NA's the value that comes directly after it in the same column, \n",
    "# then replace all the remaining na's with 0\n",
    "subset_nfl_data.fillna(method='bfill', axis=0).fillna(0)"
   ]
  }
 ],
 "metadata": {
  "colab": {
   "collapsed_sections": [],
   "name": "Feature Engineering-2-handling-missing-values.ipynb",
   "provenance": []
  },
  "kernelspec": {
   "display_name": "Python 3",
   "language": "python",
   "name": "python3"
  },
  "language_info": {
   "codemirror_mode": {
    "name": "ipython",
    "version": 3
   },
   "file_extension": ".py",
   "mimetype": "text/x-python",
   "name": "python",
   "nbconvert_exporter": "python",
   "pygments_lexer": "ipython3",
   "version": "3.8.10"
  },
  "papermill": {
   "default_parameters": {},
   "duration": 26.009032,
   "end_time": "2021-12-14T18:24:01.588325",
   "environment_variables": {},
   "exception": null,
   "input_path": "__notebook__.ipynb",
   "output_path": "__notebook__.ipynb",
   "parameters": {},
   "start_time": "2021-12-14T18:23:35.579293",
   "version": "2.3.3"
  }
 },
 "nbformat": 4,
 "nbformat_minor": 5
}
