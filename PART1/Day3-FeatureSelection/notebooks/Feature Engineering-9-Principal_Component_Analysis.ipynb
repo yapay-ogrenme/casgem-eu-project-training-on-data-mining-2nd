{
  "cells": [
    {
      "cell_type": "markdown",
      "metadata": {
        "id": "-jV-IRZ1IxPB"
      },
      "source": [
        "## Principal Component Analysis"
      ]
    },
    {
      "cell_type": "markdown",
      "metadata": {
        "deletable": true,
        "editable": true,
        "id": "tGSIIwRxIxPC"
      },
      "source": [
        "Bu bölümde, denetimsiz algoritmaların belki de en yaygın kullanılanlarından biri olan temel bileşen analizini (PCA) keşfedeceğiz. PCA temelde bir boyut azaltma algoritmasıdır, ancak aynı zamanda görselleştirme, gürültü filtreleme, özellik çıkarma ve mühendislik ve çok daha fazlası için bir araç olarak da faydalı olabilir. PCA algoritmasının kısa bir kavramsal tartışmasından sonra, bu diğer uygulamaların birkaç örneğini göreceğiz."
      ]
    },
    {
      "cell_type": "code",
      "execution_count": null,
      "metadata": {
        "deletable": true,
        "editable": true,
        "id": "F4IA6ccZIxPD"
      },
      "outputs": [],
      "source": [
        "%matplotlib inline\n",
        "import numpy as np\n",
        "import matplotlib.pyplot as plt\n",
        "import seaborn as sns; sns.set()"
      ]
    },
    {
      "cell_type": "markdown",
      "metadata": {
        "deletable": true,
        "editable": true,
        "id": "RqSAohU4IxPE"
      },
      "source": [
        "## Principal Component Analysis\n",
        "\n",
        "Temel bileşen analizi, verilerde boyutsallığı azaltmak için hızlı ve esnek bir denetimsiz yöntemdir.Yöntemin davranışını iki boyutlu bir veri kümesine bakarak görselleştirmek en kolayıdır.\n",
        "\n",
        "Aşağıdaki 200 noktayı ele alalım:"
      ]
    },
    {
      "cell_type": "code",
      "execution_count": null,
      "metadata": {
        "deletable": true,
        "editable": true,
        "id": "fiefmOFaIxPF"
      },
      "outputs": [],
      "source": [
        "rng = np.random.RandomState(1)\n",
        "X = np.dot(rng.rand(2, 2), rng.randn(2, 200)).T\n",
        "plt.scatter(X[:, 0], X[:, 1])\n",
        "plt.axis('equal');"
      ]
    },
    {
      "cell_type": "markdown",
      "metadata": {
        "deletable": true,
        "editable": true,
        "id": "O0RyGu3pIxPH"
      },
      "source": [
        "Gözle bakınca, x ve y değişkenleri arasında neredeyse doğrusal bir ilişki olduğu net bir şekilde görülmektedir.\n",
        "\n",
        "Bu, bize doğrusal regresyon verilerini anımsatır, ancak buradaki amaç biraz farklıdır: \n",
        "\n",
        "x'ten y değerlerini *tahmin etmeye çalışmak yerine, denetimsiz öğrenme problemi olarak ele alarak x ve y değerleri arasındaki *ilişkiyi* öğrenmeye çalışıyoruz.\n",
        "\n",
        "Temel bileşen analizinde bu ilişki, verilerdeki *temel eksenlerin* bir listesini bularak ve bu temel eksenleri veri kümesini tanımlamak için kullanarak bulunur.\n",
        "\n",
        "Scikit-Learn'ün ``PCA`` tahmin edicisini kullanarak bunu şu şekilde hesaplayabiliriz:\n"
      ]
    },
    {
      "cell_type": "code",
      "execution_count": null,
      "metadata": {
        "deletable": true,
        "editable": true,
        "id": "czcLhKnPIxPI"
      },
      "outputs": [],
      "source": [
        "from sklearn.decomposition import PCA\n",
        "pca = PCA(n_components=2)\n",
        "pca.fit(X)"
      ]
    },
    {
      "cell_type": "markdown",
      "metadata": {
        "deletable": true,
        "editable": true,
        "id": "IqqzCiwsIxPJ"
      },
      "source": [
        "Bu fonksiyonla \"bileşenler\" ve \"açıklanan varyans\" değerleri elde edilir:"
      ]
    },
    {
      "cell_type": "code",
      "execution_count": null,
      "metadata": {
        "deletable": true,
        "editable": true,
        "id": "7evDm_MyIxPK"
      },
      "outputs": [],
      "source": [
        "print(pca.components_)"
      ]
    },
    {
      "cell_type": "code",
      "execution_count": null,
      "metadata": {
        "deletable": true,
        "editable": true,
        "id": "TsY3p7o8IxPK"
      },
      "outputs": [],
      "source": [
        "print(pca.explained_variance_)"
      ]
    },
    {
      "cell_type": "markdown",
      "metadata": {
        "deletable": true,
        "editable": true,
        "id": "Bj3zqSwDIxPL"
      },
      "source": [
        "Bu sayıların ne anlama geldiğini görmek için, vektörün yönünü tanımlamak için \"bileşenleri\" ve vektörün kare uzunluğunu tanımlamak için \"açıklanan varyansı\" kullanarak bunları giriş verileri üzerinde vektörler olarak görselleştirelim:"
      ]
    },
    {
      "cell_type": "markdown",
      "metadata": {
        "deletable": true,
        "editable": true,
        "id": "zfMu_RfkIxPM"
      },
      "source": [
        "Bu vektörler, verilerin *ana eksenlerini* temsil eder ve vektörün uzunluğu, bu eksenin verilerin dağılımını tanımlamada ne kadar \"önemli\" olduğunun bir göstergesidir - daha doğrusu, verilerin bu eksene yansıtıldığındaki varyansının bir ölçüsüdür. \n",
        "\n",
        "Her bir veri noktasının ana eksenlere izdüşümü, verilerin \"temel bileşenleri\"dir.\n",
        "\n",
        "Bu temel bileşenleri orijinal verilerin yanında çizersek, burada gösterilen çizimleri görürüz:"
      ]
    },
    {
      "cell_type": "markdown",
      "metadata": {
        "deletable": true,
        "editable": true,
        "id": "M2qV1_b3IxPM"
      },
      "source": [
        "![](https://github.com/jakevdp/PythonDataScienceHandbook/blob/master/notebooks/figures/05.09-PCA-rotation.png?raw=1)"
      ]
    },
    {
      "cell_type": "markdown",
      "metadata": {
        "deletable": true,
        "editable": true,
        "id": "VmSlR9vaIxPN"
      },
      "source": [
        "Veri eksenlerinden ana eksenlere olan bu dönüşüm, temel olarak bir öteleme, döndürme ve tek biçimli ölçekleme anlamına gelen bir *bağlı dönüşümdür*.\n",
        "\n",
        "Temel bileşenleri bulmaya yönelik bu algoritma sadece matematiksel bir merak gibi görünse de, makine öğrenimi ve veri keşfi dünyasında çok geniş kapsamlı uygulamalara sahiptir.\n"
      ]
    },
    {
      "cell_type": "markdown",
      "metadata": {
        "deletable": true,
        "editable": true,
        "id": "jzK6i-AeIxPN"
      },
      "source": [
        "### Boyut azaltmada PCA\n",
        "\n",
        "Boyut azaltma için PCA'nın kullanılması, en küçük temel bileşenlerden bir veya daha fazlasının sıfırlanmasını içerir, bu da maksimum veri varyansını koruyan verilerin daha düşük boyutlu bir projeksiyonuyla sonuçlanır.\n",
        "\n",
        "Burada, boyutsallık azaltma dönüşümü olarak PCA kullanımına bir örnek verilmiştir:"
      ]
    },
    {
      "cell_type": "code",
      "execution_count": null,
      "metadata": {
        "deletable": true,
        "editable": true,
        "id": "P9EuZaEiIxPN"
      },
      "outputs": [],
      "source": [
        "pca = PCA(n_components=1)\n",
        "pca.fit(X)\n",
        "X_pca = pca.transform(X)\n",
        "print(\"original shape:   \", X.shape)\n",
        "print(\"transformed shape:\", X_pca.shape)"
      ]
    },
    {
      "cell_type": "markdown",
      "metadata": {
        "deletable": true,
        "editable": true,
        "id": "spKE_g6UIxPO"
      },
      "source": [
        "Dönüştürülen veriler tek bir boyuta indirgenmiştir. Bu boyutluluk azaltmanın etkisini anlamak için, bu indirgenmiş verinin ters dönüşümünü gerçekleştirebilir ve orijinal verilerle birlikte çizebiliriz:"
      ]
    },
    {
      "cell_type": "code",
      "execution_count": null,
      "metadata": {
        "deletable": true,
        "editable": true,
        "id": "ngtxiYc3IxPO"
      },
      "outputs": [],
      "source": [
        "X_new = pca.inverse_transform(X_pca)\n",
        "plt.scatter(X[:, 0], X[:, 1], alpha=0.2)\n",
        "plt.scatter(X_new[:, 0], X_new[:, 1], alpha=0.8)\n",
        "plt.axis('equal');"
      ]
    },
    {
      "cell_type": "markdown",
      "metadata": {
        "deletable": true,
        "editable": true,
        "id": "Y7a3swTuIxPP"
      },
      "source": [
        "Açık renkli noktalar orijinal verilerdir, karanlık renkli noktalar ise öngörülen versiyondur. \n",
        "\n",
        "Bu, bir PCA boyutsallık indirgemesinin ne anlama geldiğini netleştirir: en az önemli ana eksen veya diğer eksenlerdeki bilgiler kaldırılır, yalnızca verilerin en yüksek varyansa sahip bileşenlerini/bileşenlerini bırakılır.\n",
        "\n",
        "Kesilen varyans fraksiyonu (bu şekilde oluşturulan çizgi etrafındaki noktaların yayılmasıyla orantılı), kabaca bu boyutluluk indirgemesinde ne kadar \"bilginin\" atıldığının bir ölçüsüdür.\n",
        "\n",
        "Bu küçültülmüş boyutlu veri kümesi, bazı açılardan noktalar arasındaki en önemli ilişkileri kodlamak için \"yeterince iyidir\": veri boyutunu %50 oranında azaltmasına rağmen, veri noktaları arasındaki genel ilişki çoğunlukla korunur.\n"
      ]
    },
    {
      "cell_type": "markdown",
      "metadata": {
        "deletable": true,
        "editable": true,
        "id": "KM5_-8-cIxPP"
      },
      "source": [
        "### Görselleştirme için PCA: Elle yazılmış rakamlar\n",
        "\n",
        "Boyut azaltmanın faydasını sadece iki boyutlu veride görmek zor olabilir, ancak yüksek boyutlu verilere bakıldığında çok daha açık hale gelir.\n",
        "Bunu görmek için, uygulamasına hızlı bir göz atalım.\n",
        "\n",
        "Verileri yükleyerek başlıyoruz:"
      ]
    },
    {
      "cell_type": "code",
      "execution_count": null,
      "metadata": {
        "deletable": true,
        "editable": true,
        "id": "rqNL7x9UIxPQ"
      },
      "outputs": [],
      "source": [
        "from sklearn.datasets import load_digits\n",
        "digits = load_digits()\n",
        "digits.data.shape"
      ]
    },
    {
      "cell_type": "markdown",
      "metadata": {
        "deletable": true,
        "editable": true,
        "id": "WSuTaadoIxPQ"
      },
      "source": [
        "Verilerin 8×8 piksel görüntülerden oluştuğunu, yani 64 boyutlu olduklarını hatırlayın.\n",
        "\n",
        "Bu noktalar arasındaki ilişkiler hakkında biraz fikir edinmek için, bunları daha yönetilebilir sayıda boyuta yansıtmak için PCA'yı kullanabiliriz, örneğin iki boyut:\n"
      ]
    },
    {
      "cell_type": "code",
      "execution_count": null,
      "metadata": {
        "deletable": true,
        "editable": true,
        "id": "X_plmOJFIxPQ"
      },
      "outputs": [],
      "source": [
        "pca = PCA(2)  # project from 64 to 2 dimensions\n",
        "projected = pca.fit_transform(digits.data)\n",
        "print(digits.data.shape)\n",
        "print(projected.shape)"
      ]
    },
    {
      "cell_type": "markdown",
      "metadata": {
        "deletable": true,
        "editable": true,
        "id": "k-tjxRP_IxPR"
      },
      "source": [
        "Artık veriler hakkında bilgi edinmek için her noktanın ilk iki temel bileşenini çizebiliriz:"
      ]
    },
    {
      "cell_type": "code",
      "execution_count": null,
      "metadata": {
        "deletable": true,
        "editable": true,
        "id": "YmDHTL-kIxPR"
      },
      "outputs": [],
      "source": [
        "plt.scatter(projected[:, 0], projected[:, 1],\n",
        "            c=digits.target, edgecolor='none', alpha=0.5,\n",
        "            cmap=plt.cm.get_cmap('Spectral', 10))\n",
        "plt.xlabel('component 1')\n",
        "plt.ylabel('component 2')\n",
        "plt.colorbar();"
      ]
    },
    {
      "cell_type": "markdown",
      "metadata": {
        "deletable": true,
        "editable": true,
        "id": "DVS_Z6f-IxPS"
      },
      "source": [
        "Bu bileşenlerin ne anlama geldiğini hatırlayın: veri 64 boyutlu bir nokta bulutudur ve bu noktalar en büyük varyansa sahip yönler boyunca her bir veri noktasının izdüşümüdür.\n",
        "\n",
        "Esasen, 64 boyutlu uzayda, rakamların düzenini iki boyutlu görmemizi sağlayan optimal esneme ve döndürmeyi bulduk ve bunu denetimsiz bir şekilde, yani etiketlere başvurmadan yaptık.\n"
      ]
    },
    {
      "cell_type": "markdown",
      "metadata": {
        "deletable": true,
        "editable": true,
        "id": "TaLuCU2cIxPS"
      },
      "source": [
        "### Bileşenler ne anlama geliyor?\n",
        "\n",
        "Burada biraz daha ileri gidebilir ve küçültülmüş boyutların *ne anlama geldiğini* sormaya başlayabiliriz.\n",
        "\n",
        "Bu anlam, temel vektörlerin kombinasyonları cinsinden anlaşılabilir.\n",
        "\n",
        "Örneğin, eğitim kümesindeki her görüntü, vektörü $x$ olarak adlandıracağımız 64 piksel değerinden oluşan bir koleksiyonla tanımlanır:\n",
        "\n",
        "$$\n",
        "x = [x_1, x_2, x_3 \\cdots x_{64}]\n",
        "$$\n",
        "\n",
        "Bunu düşünmemizin bir yolu piksel bazındadır.\n",
        "\n",
        "Yani, görüntüyü oluşturmak için vektörün her bir öğesini tanımladığı pikselle çarparız ve ardından görüntüyü oluşturmak için sonuçları bir araya toplarız:\n",
        "\n",
        "$$\n",
        "{\\rm image}(x) = x_1 \\cdot{\\rm (pixel~1)} + x_2 \\cdot{\\rm (pixel~2)} + x_3 \\cdot{\\rm (pixel~3)} \\cdots x_{64} \\cdot{\\rm (pixel~64)}\n",
        "$$\n",
        "\n",
        "Bu verilerin boyutunu küçültmeyi hayal etmenin bir yolu, bu temel vektörlerin birkaçı dışında hepsini sıfırlamaktır.\n",
        "\n",
        "Örneğin, yalnızca ilk sekiz pikseli kullanırsak, verilerin sekiz boyutlu bir projeksiyonunu elde ederiz, ancak bu, görüntünün tamamını pek yansıtmaz: piksellerin yaklaşık %90'ını atmışızdır!"
      ]
    },
    {
      "cell_type": "markdown",
      "metadata": {
        "collapsed": false,
        "deletable": true,
        "editable": true,
        "id": "MDSRwOPVIxPS"
      },
      "source": [
        "![](https://github.com/jakevdp/PythonDataScienceHandbook/blob/master/notebooks/figures/05.09-digits-pixel-components.png?raw=1)"
      ]
    },
    {
      "cell_type": "markdown",
      "metadata": {
        "deletable": true,
        "editable": true,
        "id": "mA1aATQfIxPS"
      },
      "source": [
        "Panellerin üst sırası tek tek pikselleri gösterir ve alt sıra bu piksellerin görüntünün oluşumuna kümülatif katkısını gösterir.\n",
        "\n",
        "Piksel tabanlı bileşenlerin yalnızca sekizini kullanarak, 64 piksellik görüntünün yalnızca küçük bir bölümünü oluşturabiliriz.\n",
        "\n",
        "Bu diziye devam edip 64 pikselin tamamını kullansaydık, orijinal görüntüyü kurtarırdık."
      ]
    },
    {
      "cell_type": "markdown",
      "metadata": {
        "deletable": true,
        "editable": true,
        "id": "L1TS-7KXIxPT"
      },
      "source": [
        "Ancak piksel bazında temsil, tek temel seçimi değildir. Her biri her pikselden önceden tanımlanmış katkılar içeren diğer temel işlevleri de kullanabilir ve şöyle bir şey yazabiliriz.\n",
        "\n",
        "$$\n",
        "image(x) = {\\rm mean} + x_1 \\cdot{\\rm (basis~1)} + x_2 \\cdot{\\rm (basis~2)} + x_3 \\cdot{\\rm (basis~3)} \\cdots\n",
        "$$\n",
        "\n",
        "PCA, en uygun temel fonksiyonları seçme süreci olarak düşünülebilir, öyle ki bunlardan sadece ilk birkaçını bir araya getirmek, veri kümesindeki öğelerin büyük bir kısmını uygun şekilde yeniden yapılandırmak için yeterlidir.\n",
        "\n",
        "Verilerimizin düşük boyutlu gösterimi olarak işlev gören temel bileşenler, bu dizideki öğelerin her birini çarpan katsayılardır.\n",
        "\n",
        "Bu şekil, ortalama artı ilk sekiz PCA temel fonksiyonunu kullanarak bu basamağı yeniden oluşturmanın benzer bir tasvirini göstermektedir:"
      ]
    },
    {
      "cell_type": "markdown",
      "metadata": {
        "collapsed": false,
        "deletable": true,
        "editable": true,
        "id": "-zTJi37PIxPT"
      },
      "source": [
        "![](https://github.com/jakevdp/PythonDataScienceHandbook/blob/master/notebooks/figures/05.09-digits-pca-components.png?raw=1)"
      ]
    },
    {
      "cell_type": "markdown",
      "metadata": {
        "deletable": true,
        "editable": true,
        "id": "Ub1F9NSLIxPT"
      },
      "source": [
        "Piksel temelinden farklı olarak, PCA temeli, giriş görüntüsünün göze çarpan özelliklerini yalnızca bir (ortalama + sekiz bileşen)'le kurtarmamıza olanak tanır!\n",
        "\n",
        "Her bileşendeki her pikselin miktarı, iki boyutlu örneğimizde vektörün yöneliminin doğal sonucudur.\n",
        "\n",
        "Bu, PCA'nın verilerin düşük boyutlu bir temsilini sağladığı anlamdadır: giriş verilerinin yerel piksel temelinden daha verimli olan bir dizi temel işlevi keşfeder."
      ]
    },
    {
      "cell_type": "markdown",
      "metadata": {
        "deletable": true,
        "editable": true,
        "id": "oWMp8XVhIxPT"
      },
      "source": [
        "### Bileşen sayısının seçimi\n",
        "\n",
        "PCA'yı pratikte kullanmanın hayati bir parçası, verileri tanımlamak için kaç bileşenin gerekli olduğunu tahmin etme yeteneğidir.\n",
        "\n",
        "Bu, bileşen sayısının bir fonksiyonu olarak kümülatif *açıklanan varyans oranına* bakılarak belirlenebilir:\n"
      ]
    },
    {
      "cell_type": "code",
      "execution_count": null,
      "metadata": {
        "deletable": true,
        "editable": true,
        "id": "y3i8tYnOIxPU"
      },
      "outputs": [],
      "source": [
        "pca = PCA().fit(digits.data)\n",
        "plt.plot(np.cumsum(pca.explained_variance_ratio_))\n",
        "plt.xlabel('number of components')\n",
        "plt.ylabel('cumulative explained variance');"
      ]
    },
    {
      "cell_type": "markdown",
      "metadata": {
        "deletable": true,
        "editable": true,
        "id": "1IUzitfGIxPU"
      },
      "source": [
        "Bu eğri, toplam 64 boyutlu varyansın ne kadarının ilk $N$ bileşenlerinde kapsandığını nicelleştirir.\n",
        "\n",
        "Örneğin, rakamlarla ilk 10 bileşenin varyansın yaklaşık %75'ini içerdiğini, varyansın %100'e yakınını tanımlamak için yaklaşık 50 bileşene ihtiyacınız olduğunu görüyoruz.\n",
        "\n",
        "Burada, iki boyutlu projeksiyonumuzun çok fazla bilgi kaybettiğini (açıklanan varyansla ölçüldüğü gibi) ve varyansın %90'ını korumak için yaklaşık 20 bileşene ihtiyacımız olduğunu görüyoruz. Yüksek boyutlu bir veri kümesi için bu çizime bakmak, çoklu gözlemlerde mevcut olan fazlalık düzeyini anlamanıza yardımcı olabilir.\n"
      ]
    },
    {
      "cell_type": "markdown",
      "metadata": {
        "deletable": true,
        "editable": true,
        "id": "KoK90i2SIxPU"
      },
      "source": [
        "## Gürültü Filtreleme'de PCA\n",
        "\n",
        "PCA, gürültülü veriler için bir filtreleme yaklaşımı olarak da kullanılabilir.\n",
        "\n",
        "**Fikir şudur: Varyansı gürültünün etkisinden çok daha büyük olan herhangi bir bileşen gürültüden nispeten etkilenmemelidir.**\n",
        "\n",
        "Dolayısıyla, verileri yalnızca en büyük temel bileşenler alt kümesini kullanarak yeniden yapılandırırsanız, tercihen sinyali tutmalı ve gürültüyü dışarı atmalısınız.\n",
        "\n",
        "Rakam verileriyle bunun nasıl göründüğüne bakalım.\n",
        "İlk olarak, girdi gürültüsüz verilerin birkaçını çizeceğiz:"
      ]
    },
    {
      "cell_type": "code",
      "execution_count": null,
      "metadata": {
        "deletable": true,
        "editable": true,
        "id": "sL1ttjrjIxPV"
      },
      "outputs": [],
      "source": [
        "def plot_digits(data):\n",
        "    fig, axes = plt.subplots(4, 10, figsize=(10, 4),\n",
        "                             subplot_kw={'xticks':[], 'yticks':[]},\n",
        "                             gridspec_kw=dict(hspace=0.1, wspace=0.1))\n",
        "    for i, ax in enumerate(axes.flat):\n",
        "        ax.imshow(data[i].reshape(8, 8),\n",
        "                  cmap='binary', interpolation='nearest',\n",
        "                  clim=(0, 16))\n",
        "plot_digits(digits.data)"
      ]
    },
    {
      "cell_type": "markdown",
      "metadata": {
        "deletable": true,
        "editable": true,
        "id": "kOA9ZPU_IxPV"
      },
      "source": [
        "Şimdi gürültülü bir veri kümesi oluşturmak için biraz rastgele gürültü ekleyelim ve yeniden çizelim:"
      ]
    },
    {
      "cell_type": "code",
      "execution_count": null,
      "metadata": {
        "deletable": true,
        "editable": true,
        "id": "Q7wZqzotIxPV"
      },
      "outputs": [],
      "source": [
        "np.random.seed(42)\n",
        "noisy = np.random.normal(digits.data, 4)\n",
        "plot_digits(noisy)"
      ]
    },
    {
      "cell_type": "markdown",
      "metadata": {
        "deletable": true,
        "editable": true,
        "id": "1lcojaTEIxPW"
      },
      "source": [
        "Görüntülerin gürültülü olduğu ve sahte pikseller içerdiği gözle açıktır.\n",
        "Projeksiyonun varyansın %50'sini korumasını talep ederek gürültülü veriler üzerinde bir PCA eğitelim:"
      ]
    },
    {
      "cell_type": "code",
      "execution_count": null,
      "metadata": {
        "deletable": true,
        "editable": true,
        "id": "VYD6PJ8RIxPW"
      },
      "outputs": [],
      "source": [
        "pca = PCA(0.50).fit(noisy)\n",
        "pca.n_components_"
      ]
    },
    {
      "cell_type": "markdown",
      "metadata": {
        "deletable": true,
        "editable": true,
        "id": "SiE82a21IxPW"
      },
      "source": [
        "Burada varyansın %50'si 12 temel bileşene tekabül etmektedir.\n",
        "Şimdi bu bileşenleri hesaplıyoruz ve ardından filtrelenmiş rakamları yeniden oluşturmak için dönüşümün tersini kullanıyoruz:"
      ]
    },
    {
      "cell_type": "code",
      "execution_count": null,
      "metadata": {
        "deletable": true,
        "editable": true,
        "id": "sADia1mEIxPW"
      },
      "outputs": [],
      "source": [
        "components = pca.transform(noisy)\n",
        "filtered = pca.inverse_transform(components)\n",
        "plot_digits(filtered)"
      ]
    },
    {
      "cell_type": "markdown",
      "metadata": {
        "deletable": true,
        "editable": true,
        "id": "5HbIcooaIxPX"
      },
      "source": [
        "Bu sinyal koruma/gürültü filtreleme özelliği, PCA'yı çok kullanışlı bir özellik seçim rutini haline getirir; örneğin, bir sınıflandırıcıyı çok yüksek boyutlu veriler üzerinde eğitmek yerine, sınıflandırıcıyı otomatik olarak filtrelemeye hizmet edecek olan daha düşük boyutlu temsil üzerinde eğitebilirsiniz."
      ]
    },
    {
      "cell_type": "markdown",
      "metadata": {
        "deletable": true,
        "editable": true,
        "id": "lljbZoS5IxPa"
      },
      "source": [
        "## Principal Component Analysis Özet\n",
        "\n",
        "Bu bölümde, boyut azaltma, yüksek boyutlu verilerin görselleştirilmesi, gürültü filtreleme ve yüksek boyutlu verilerde özellik seçimi için temel bileşen analizinin kullanımını tartıştık.\n",
        "\n",
        "PCA'nın çok yönlülüğü ve yorumlanabilirliği nedeniyle, çok çeşitli bağlamlarda ve disiplinlerde etkili olduğu gösterilmiştir.\n",
        "\n",
        "Herhangi bir yüksek boyutlu veri seti verildiğinde, noktalar arasındaki ilişkiyi görselleştirmek (rakamlarla yaptığımız gibi), verilerdeki ana varyansı anlamak için PCA ile başlama eğilimindeyim. \n",
        "\n",
        "**Kesinlikle PCA, her yüksek boyutlu veri kümesi için yararlı değildir, ancak yüksek boyutlu veriler hakkında fikir edinmek için basit ve verimli bir yol sunar.**\n",
        "\n",
        "PCA'nın temel zayıflığı, verilerdeki aykırı değerlerden yüksek oranda etkilenme eğiliminde olmasıdır.\n",
        "\n",
        "Bu nedenle, birçoğu ilk bileşenler tarafından yetersiz bir şekilde açıklanan veri noktalarını yinelemeli olarak atmak için hareket eden birçok sağlam PCA varyantı geliştirilmiştir.\n",
        "\n",
        "Scikit-Learn, her ikisi de \"sklearn.decomposition\" alt modülünde bulunan \"RandomizedPCA\" ve \"SparsePCA\" dahil olmak üzere PCA üzerinde birkaç ilginç varyant içerir.\n"
      ]
    },
    {
      "cell_type": "code",
      "source": [
        ""
      ],
      "metadata": {
        "id": "2YgKxglnjrrr"
      },
      "execution_count": null,
      "outputs": []
    }
  ],
  "metadata": {
    "anaconda-cloud": {},
    "kernelspec": {
      "display_name": "Python 3",
      "language": "python",
      "name": "python3"
    },
    "language_info": {
      "codemirror_mode": {
        "name": "ipython",
        "version": 3
      },
      "file_extension": ".py",
      "mimetype": "text/x-python",
      "name": "python",
      "nbconvert_exporter": "python",
      "pygments_lexer": "ipython3",
      "version": "3.5.1"
    },
    "colab": {
      "name": "Feature Engineering-9-Principal_Component_Analysis.ipynb",
      "provenance": [],
      "collapsed_sections": []
    }
  },
  "nbformat": 4,
  "nbformat_minor": 0
}