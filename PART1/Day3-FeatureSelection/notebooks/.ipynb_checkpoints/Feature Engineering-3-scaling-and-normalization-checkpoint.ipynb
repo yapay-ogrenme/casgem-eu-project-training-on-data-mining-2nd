{
 "cells": [
  {
   "cell_type": "markdown",
   "id": "adfe1693",
   "metadata": {
    "id": "adfe1693",
    "papermill": {
     "duration": 0.008016,
     "end_time": "2021-12-14T19:19:12.995538",
     "exception": false,
     "start_time": "2021-12-14T19:19:12.987522",
     "status": "completed"
    },
    "tags": []
   },
   "source": [
    "Bu notebookta, verilerin nasıl ölçekleneceğine ve normalleştirileceğine (ve ikisi arasındaki farkın ne olduğuna) bakacağız.\n"
   ]
  },
  {
   "cell_type": "markdown",
   "id": "a55b78b1",
   "metadata": {
    "id": "a55b78b1",
    "papermill": {
     "duration": 0.006547,
     "end_time": "2021-12-14T19:19:13.009570",
     "exception": false,
     "start_time": "2021-12-14T19:19:13.003023",
     "status": "completed"
    },
    "tags": []
   },
   "source": [
    "# Ortamımızı kuralım\n",
    "\n",
    "Yapmamız gereken ilk şey, kullanacağımız kütüphanelere yüklemek. "
   ]
  },
  {
   "cell_type": "code",
   "execution_count": null,
   "id": "ec80c8bf",
   "metadata": {
    "execution": {
     "iopub.execute_input": "2021-12-14T19:19:13.033078Z",
     "iopub.status.busy": "2021-12-14T19:19:13.032430Z",
     "iopub.status.idle": "2021-12-14T19:19:14.179727Z",
     "shell.execute_reply": "2021-12-14T19:19:14.178993Z",
     "shell.execute_reply.started": "2021-12-14T19:07:29.644088Z"
    },
    "id": "ec80c8bf",
    "papermill": {
     "duration": 1.163605,
     "end_time": "2021-12-14T19:19:14.179938",
     "exception": false,
     "start_time": "2021-12-14T19:19:13.016333",
     "status": "completed"
    },
    "tags": []
   },
   "outputs": [],
   "source": [
    "# modules we'll use\n",
    "import pandas as pd\n",
    "import numpy as np\n",
    "\n",
    "# for Box-Cox Transformation\n",
    "from scipy import stats\n",
    "\n",
    "# for min_max scaling\n",
    "from mlxtend.preprocessing import minmax_scaling\n",
    "\n",
    "# plotting modules\n",
    "import seaborn as sns\n",
    "import matplotlib.pyplot as plt\n",
    "\n",
    "# set seed for reproducibility\n",
    "np.random.seed(0)"
   ]
  },
  {
   "cell_type": "markdown",
   "id": "93681bad",
   "metadata": {
    "id": "93681bad",
    "papermill": {
     "duration": 0.006715,
     "end_time": "2021-12-14T19:19:14.193747",
     "exception": false,
     "start_time": "2021-12-14T19:19:14.187032",
     "status": "completed"
    },
    "tags": []
   },
   "source": [
    "# Scaling vs. Normalization: Fark ne?\n",
    "\n",
    "Ölçeklendirme (scaling) ve normalleştirme (normalization) tanımları arasındaki kafa karıştırıcı olan şey bu iki terimin bazen birbirinin yerine kullanılması ve daha da kafa karıştırıcı olan ise uygulamada da oldukça benzer olmalarıdır! Her iki durumda da, veri noktalarının belirli yararlı özelliklere sahip olması için sayısal değişkenlerin değerlerini dönüştürüyor olmamız. Fark şu ki:\n",
    "\n",
    "- **ölçeklendirmede (scaling)**, verilerinizin *aralığını* değiştiriyorsunuz,\n",
    "- **normalleştirmede (normalization)**, verilerinizin *dağılımın* şeklini değiştiriyorsunuz.\n",
    "\n",
    "Bu seçeneklerin her biri hakkında biraz daha ayrıntılı konuşalım.\n",
    "\n",
    "# Ölçekleme (Scaling)\n",
    "\n",
    "Bu kavram, verilerinizi 0-100 veya 0-1 gibi belirli bir ölçeğe uyacak şekilde dönüştürmemizi ifade eder. [destek vektör makineleri (SVM)](https://en.wikipedia.org/wiki/Support_vector_machine) veya [k-nearest neighbors (KNN)](https://en.wikipedia.org/wiki/K-nearest_neighbors_algorithm) gibi veri noktalarının birbirinden ne kadar uzakta olduğuna ilişkin ölçümlere dayalı yöntemler kullanırken verileri ölçeklendirmek istediğinizde kullanılır. Bu algoritmalar ile herhangi bir sayısal özellikte \"1\" lik bir değişikliğe aynı önem verilmektedir.\n",
    "\n",
    "Örneğin bazı ürünlerin fiyatlarına hem Yen hem de ABD Doları üzerinden bakıyor olabilirsiniz. Bir ABD Doları yaklaşık 100 Yen değerindedir, ancak fiyatlarınızı ölçeklendirmezseniz, SVM veya KNN gibi yöntemler 1 Yen'lik bir fiyat farkını 1 ABD Doları'lık bir fark kadar önemli sayar! Bu açıkça bizim dünya sezgilerimize uymuyor. Para birimi ile para birimleri arasında dönüştürme yapabilirsiniz. Peki ya boy ve kilo gibi bir şeye bakıyorsanız? Kaç kilonun bir inç'e eşit olması gerektiği (veya kaç kilogramın bir metreye eşit olması gerektiği) tam olarak belli değil.\n",
    "\n",
    "Değişkenlerinizi ölçeklendirerek, farklı değişkenleri eşit temelde karşılaştırmaya yardımcı olabilirsiniz. \n"
   ]
  },
  {
   "cell_type": "code",
   "execution_count": null,
   "id": "7150baa1",
   "metadata": {
    "execution": {
     "iopub.execute_input": "2021-12-14T19:19:14.211471Z",
     "iopub.status.busy": "2021-12-14T19:19:14.210758Z",
     "iopub.status.idle": "2021-12-14T19:19:14.785409Z",
     "shell.execute_reply": "2021-12-14T19:19:14.785976Z",
     "shell.execute_reply.started": "2021-12-14T19:18:40.904322Z"
    },
    "id": "7150baa1",
    "papermill": {
     "duration": 0.585403,
     "end_time": "2021-12-14T19:19:14.786196",
     "exception": false,
     "start_time": "2021-12-14T19:19:14.200793",
     "status": "completed"
    },
    "tags": []
   },
   "outputs": [],
   "source": [
    "# generate 1000 data points randomly drawn from an exponential distribution\n",
    "original_data = np.random.exponential(size=1000)\n",
    "\n",
    "# mix-max scale the data between 0 and 1\n",
    "scaled_data = minmax_scaling(original_data, columns=[0])\n",
    "\n",
    "# plot both together to compare\n",
    "fig, ax = plt.subplots(1, 2, figsize=(15, 3))\n",
    "sns.histplot(original_data, ax=ax[0], kde=True, legend=False)\n",
    "ax[0].set_title(\"Original Data\")\n",
    "sns.histplot(scaled_data, ax=ax[1], kde=True, legend=False)\n",
    "ax[1].set_title(\"Scaled data\")\n",
    "plt.show()"
   ]
  },
  {
   "cell_type": "markdown",
   "id": "0054db36",
   "metadata": {
    "id": "0054db36",
    "papermill": {
     "duration": 0.007736,
     "end_time": "2021-12-14T19:19:14.802360",
     "exception": false,
     "start_time": "2021-12-14T19:19:14.794624",
     "status": "completed"
    },
    "tags": []
   },
   "source": [
    "Verinin *şeklinin* değişmediğine, ancak 0'dan 8'e kadar değişmek yerine şimdi 0'dan 1'e kadar değiştiğine dikkat edin.\n",
    "\n",
    "# Normalleştirme (Normalization)\n",
    "\n",
    "Ölçekleme, yalnızca verilerinizin aralığını değiştirir. Normalleştirme daha radikal bir dönüşümdür. Normalleştirmenin amacı, gözlemlerinizi normal dağılım olarak tanımlanabilecek şekilde değiştirmektir.\n",
    "\n",
    "> **[Normal dağılım:](https://en.wikipedia.org/wiki/Normal_distribution)** \"Çan eğrisi\" olarak da bilinir, bu, kabaca eşit gözlemlerin ortalamanın üstüne ve altına düştüğü belirli bir istatistiksel dağılımdır. Normal dağılım, Gauss dağılımı olarak da bilinir.\n",
    "\n",
    "Genel olarak, verilerinizin normal dağıldığını varsayan bir makine öğrenmesi veya istatistik tekniği kullanacaksanız, verilerinizi normalleştirirsiniz. Bunların bazı örnekleri, linear discriminant analysis (LDA) and Gaussian naive Bayes. \n",
    "\n",
    "Burada normalleştirmek için kullandığımız yönteme [Box-Cox Dönüşümü](https://en.wikipedia.org/wiki/Power_transform#Box%E2%80%93Cox_transformation) denir. Bazı verileri normalleştirmenin nasıl göründüğüne hızlıca bir göz atalım:"
   ]
  },
  {
   "cell_type": "code",
   "execution_count": null,
   "id": "73ac4e81",
   "metadata": {
    "execution": {
     "iopub.execute_input": "2021-12-14T19:19:14.826215Z",
     "iopub.status.busy": "2021-12-14T19:19:14.825434Z",
     "iopub.status.idle": "2021-12-14T19:19:15.283898Z",
     "shell.execute_reply": "2021-12-14T19:19:15.284542Z",
     "shell.execute_reply.started": "2021-12-14T19:18:31.226793Z"
    },
    "id": "73ac4e81",
    "papermill": {
     "duration": 0.47424,
     "end_time": "2021-12-14T19:19:15.284768",
     "exception": false,
     "start_time": "2021-12-14T19:19:14.810528",
     "status": "completed"
    },
    "scrolled": true,
    "tags": []
   },
   "outputs": [],
   "source": [
    "# normalize the exponential data with boxcox\n",
    "normalized_data = stats.boxcox(original_data)\n",
    "\n",
    "# plot both together to compare\n",
    "fig, ax=plt.subplots(1, 2, figsize=(15, 3))\n",
    "sns.histplot(original_data, ax=ax[0], kde=True, legend=False)\n",
    "ax[0].set_title(\"Original Data\")\n",
    "sns.histplot(normalized_data[0], ax=ax[1], kde=True, legend=False)\n",
    "ax[1].set_title(\"Normalized data\")\n",
    "plt.show()"
   ]
  },
  {
   "cell_type": "markdown",
   "id": "e99c534e",
   "metadata": {
    "id": "e99c534e",
    "papermill": {
     "duration": 0.008822,
     "end_time": "2021-12-14T19:19:15.304747",
     "exception": false,
     "start_time": "2021-12-14T19:19:15.295925",
     "status": "completed"
    },
    "tags": []
   },
   "source": [
    "Verilerimizin *şeklinin* değiştiğine dikkat edin. Normalleşmeden önce neredeyse L şeklindeydi. Ancak normalleştirmeden sonra daha çok bir çanın ana hatlarına benziyor (dolayısıyla \"çan eğrisi\").\n"
   ]
  }
 ],
 "metadata": {
  "colab": {
   "collapsed_sections": [],
   "name": "Feature Engineering-3-scaling-and-normalization.ipynb",
   "provenance": []
  },
  "kernelspec": {
   "display_name": "Python 3",
   "language": "python",
   "name": "python3"
  },
  "language_info": {
   "codemirror_mode": {
    "name": "ipython",
    "version": 3
   },
   "file_extension": ".py",
   "mimetype": "text/x-python",
   "name": "python",
   "nbconvert_exporter": "python",
   "pygments_lexer": "ipython3",
   "version": "3.8.10"
  },
  "papermill": {
   "default_parameters": {},
   "duration": 13.165459,
   "end_time": "2021-12-14T19:19:16.044727",
   "environment_variables": {},
   "exception": null,
   "input_path": "__notebook__.ipynb",
   "output_path": "__notebook__.ipynb",
   "parameters": {},
   "start_time": "2021-12-14T19:19:02.879268",
   "version": "2.3.3"
  }
 },
 "nbformat": 4,
 "nbformat_minor": 5
}
