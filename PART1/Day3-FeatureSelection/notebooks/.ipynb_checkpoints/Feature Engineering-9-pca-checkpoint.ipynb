{
 "cells": [
  {
   "cell_type": "code",
   "execution_count": null,
   "id": "HiOHvwl-l_Ie",
   "metadata": {
    "id": "HiOHvwl-l_Ie"
   },
   "outputs": [],
   "source": [
    "#from google.colab import drive\n",
    "#drive.mount('/content/drive')"
   ]
  },
  {
   "cell_type": "code",
   "execution_count": null,
   "id": "77z6L1GcmABc",
   "metadata": {
    "id": "77z6L1GcmABc"
   },
   "outputs": [],
   "source": [
    "#ROOT_DIR = \"/content/drive/MyDrive/CASGEM-Egitim/Egitim-Part1/Day3-FeatureSelection/notebooks\"\n",
    "ROOT_DIR = \"https://media.githubusercontent.com/media/yapay-ogrenme/casgem-eu-project-training-on-data-mining/main/PART1/Day3-FeatureSelection/notebooks\"\n",
    "DATASET_PATH = ROOT_DIR + \"/datasets/\""
   ]
  },
  {
   "cell_type": "markdown",
   "id": "2204e871",
   "metadata": {
    "id": "2204e871",
    "papermill": {
     "duration": 0.013284,
     "end_time": "2021-10-27T20:04:29.213320",
     "exception": false,
     "start_time": "2021-10-27T20:04:29.200036",
     "status": "completed"
    },
    "tags": []
   },
   "source": [
    "# Giriş #\n",
    "\n",
    "Kümelemenin yakınlığa dayalı olarak veri kümesinin bölümlenmesi olduğu gibi, PCA'yı da verilerdeki varyasyonun bölümlenmesi olarak düşünebilirsiniz. PCA, verilerdeki önemli ilişkileri keşfetmenize yardımcı olacak harika bir araçtır ve daha bilgilendirici özellikler oluşturmak için de kullanılabilir.\n",
    "\n",
    "(Teknik not: PCA tipik olarak [standartlaştırılmış](https://www.kaggle.com/alexisbcook/scaling-and-normalization) verilerine uygulanır. Standartlaştırılmış verilerle \"varyasyon\", \"korelasyon\" anlamına gelir. Standartlaştırılmamış verilerle \"varyasyon\" \"kovaryans\" anlamına gelir. Bu kurstaki tüm veriler PCA uygulanmadan önce standartlaştırılacaktır.)\n",
    "\n",
    "\n",
    "# Principal Component Analysis #\n",
    "\n",
    "[*Abalone*](https://www.kaggle.com/rodolfomendes/abalone-dataset) veri kümesinde birkaç bin Tazmanya deniz kulağından alınan fiziksel ölçümler vardır. (Abalone, midye veya istiridye gibi bir deniz canlısıdır.) Şimdilik sadece birkaç özelliğine bakacağız: kabuklarının “Yükseklik” (`'Height'`) ve “Çap” (`'Diameter'`).\n",
    "\n",
    "Bu veriler içinde, deniz kulağının birbirinden farklı olma eğilimini tanımlayan \"değişim eksenleri\" olduğunu hayal edebilirsiniz. Resimli olarak, bu eksenler, her orijinal özellik için bir eksen olmak üzere, verilerin doğal boyutları boyunca uzanan dikey çizgiler olarak görünür.\n",
    "\n",
    "<figure style=\"padding: 1em;\">\n",
    "<img src=\"https://i.imgur.com/rr8NCDy.png\" width=300, alt=\"\">\n",
    "<figcaption style=\"textalign: center; font-style: italic\"><center>\n",
    "</center></figcaption>\n",
    "</figure>"
   ]
  },
  {
   "cell_type": "markdown",
   "id": "183fd24d",
   "metadata": {
    "id": "183fd24d",
    "papermill": {
     "duration": 0.011587,
     "end_time": "2021-10-27T20:04:29.236899",
     "exception": false,
     "start_time": "2021-10-27T20:04:29.225312",
     "status": "completed"
    },
    "tags": []
   },
   "source": [
    "Çoğu zaman, bu varyasyon eksenlerine isimler verebiliriz. \"Boyut\" (\"Size\") bileşeni olarak adlandırabileceğimiz daha uzun eksen: küçük yükseklik ve küçük çap (sol alt), büyük yükseklik ve büyük çap (sağ üst) ile kontrast oluşturur. \"Şekil\" (\"Shape\") bileşeni olarak adlandırabileceğimiz daha kısa eksen: küçük yükseklik ve büyük çap (düz şekil), büyük yükseklik ve küçük çap (yuvarlak şekil) ile kontrast oluşturur.\n",
    "\n",
    "Abalonları \"Yükseklik\" (`'Height'`) ve \"Çap\" (`'Diameter'`) ile tanımlamak yerine, onları \"Boyut\" (`'Size'`) ve \"Şekil\" (`'Shape'`) ile de tanımlayabileceğimize dikkat edin. Aslında, PCA'nın tüm fikri budur: verileri orijinal özellikleriyle tanımlamak yerine, varyasyon eksenleriyle tanımlarız. Varyasyon eksenleri yeni özellikler haline gelir.\n",
    "\n",
    "<figure style=\"padding: 1em;\">\n",
    "<img src=\"https://i.imgur.com/XQlRD1q.png\" width=600, alt=\"\">\n",
    "<figcaption style=\"textalign: center; font-style: italic\"><center>Temel bileşenler, özellik alanındaki veri kümesinin döndürülmesiyle yeni özellikler haline gelir.\n",
    "</center></figcaption>\n",
    "</figure>\n",
    "\n",
    "PCA'nın oluşturduğu yeni özellikler, aslında orijinal özelliklerin yalnızca doğrusal kombinasyonlarıdır (ağırlıklı toplamlar):\n",
    "\n",
    "```\n",
    "df[\"Size\"] = 0.707 * X[\"Height\"] + 0.707 * X[\"Diameter\"]\n",
    "df[\"Shape\"] = 0.707 * X[\"Height\"] - 0.707 * X[\"Diameter\"]\n",
    "```\n",
    "Bu yeni özellikler, verilerin **temel bileşenleri** (**principal components**) olarak adlandırılır. Ağırlıkların kendilerine **yükler** (**loadings**) denir. Orijinal veri setinde ne kadar özellik varsa o kadar temel bileşen olacaktır: eğer iki yerine on özellik kullansaydık, elimizde on bileşen olurdu.\n",
    "\n",
    "Bir bileşenin yükleri, bize işaretler ve büyüklükler aracılığıyla hangi varyasyonu ifade ettiğini söyler:\n",
    "\n",
    "| Features \\ Components | Size (PC1) | Shape (PC2) |\n",
    "|-----------------------|------------|-------------|\n",
    "| Height                | 0.707      | 0.707       |\n",
    "| Diameter              | 0.707      | -0.707      |"
   ]
  },
  {
   "cell_type": "markdown",
   "id": "190e7732",
   "metadata": {
    "id": "190e7732",
    "papermill": {
     "duration": 0.012097,
     "end_time": "2021-10-27T20:04:29.260802",
     "exception": false,
     "start_time": "2021-10-27T20:04:29.248705",
     "status": "completed"
    },
    "tags": []
   },
   "source": [
    "Bu yük tablosu bize, `Size` bileşeninde `Height` ve `Diameter`ın aynı yönde (aynı işaret) değiştiğini, ancak `Shape` bileşeninde zıt yönlerde (zıt işaret) değiştiğini söylüyor. Her bileşende, yüklerin tümü aynı büyüklüktedir ve bu nedenle özellikler her ikisinde de eşit olarak katkıda bulunur.\n",
    "\n",
    "PCA ayrıca bize her bileşendeki varyasyonun *miktarını* söyler. Şekillerden, `Size` bileşeni boyunca verilerde `Shape` bileşeninden daha fazla varyasyon olduğunu görebiliriz. PCA, her bileşenin **açıklanan varyans yüzdesi** (**percent of explained variance**) aracılığıyla bunu kesinleştirir.\n",
    "\n",
    "\n",
    "<figure style=\"padding: 1em;\">\n",
    "<img src=\"https://i.imgur.com/xWTvqDA.png\" width=600, alt=\"\">\n",
    "<figcaption style=\"textalign: center; font-style: italic\"><center> Boy ve Çap arasındaki varyansın yaklaşık %96'sını boyut, %4'ünü ise Şekil oluşturur.\n",
    "</center></figcaption>\n",
    "</figure>\n",
    "\n",
    "`Size` bileşeni, `Height` ve `Diameter` arasındaki varyasyonun çoğunu yakalar. Bununla birlikte, bir bileşendeki varyans miktarının mutlaka onun bir tahmin edici olarak ne kadar iyi olduğuna tekabül etmediğini hatırlamak önemlidir: Neyi tahmin etmeye çalıştığınıza bağlıdır.\n",
    "\n",
    "# Özellik Mühendisliği için PCA #\n",
    "\n",
    "Özellik mühendisliği için PCA'yı kullanmanın iki yolu vardır.\n",
    "\n",
    "İlk yol, onu tanımlayıcı bir teknik olarak kullanmaktır. Bileşenler size varyasyon hakkında bilgi verdiğinden, bileşenler için MI puanlarını hesaplayabilir ve hedefiniz için ne tür bir varyasyonun en tahmin edici olduğunu görebilirsiniz. Bu size, oluşturulacak özellik türleri hakkında fikir verebilir -- örneğin, `'Size'` önemliyse `'Height'` ve `'Diameter'`ın bir ürünü veya `Shape` önemli ise `'Height'` ve `'Diameter'`ın oranının bir ürünüdür. Hatta bir veya daha fazla yüksek puanlı bileşen üzerinde kümelemeyi deneyebilirsiniz.\n",
    "\n",
    "İkinci yol, bileşenlerin kendilerini özellik olarak kullanmaktır. Bileşenler, verilerin varyasyon yapısını doğrudan ortaya çıkardığı için, genellikle orijinal özelliklerden daha bilgilendirici olabilirler. İşte bazı kullanım durumları:\n",
    "\n",
    "- **Boyut azaltma**: Özellikleriniz yüksek oranda yedekli olduğunda (*çok bağlantılı*, özellikle), PCA fazlalığı bir veya daha fazla sıfıra yakın varyans bileşenine böler,ki onlar az bilgi içerecekleri veya hiç bilgi içermeyecekleri için bırakabilirsiniz.\n",
    "\n",
    "- **Anormallik algılama**: Orijinal özelliklerde görülmeyen olağandışı varyasyon, genellikle düşük varyanslı bileşenlerde görünür. Bu bileşenler, bir anormallik veya aykırı değer algılama görevinde oldukça bilgilendirici olabilir.\n",
    "\n",
    "- **Gürültü azaltma**: Bir sensör okumaları koleksiyonu genellikle bazı ortak arka plan gürültülerini paylaşır. PCA bazen (bilgilendirici) sinyali, gürültüyü yalnız bırakırken daha az sayıda özellik halinde toplayabilir, böylece sinyal-gürültü oranını yükseltebilir.\n",
    "\n",
    "- **Dekorelasyon**: Bazı ML algoritmaları, yüksek düzeyde ilişkili özelliklerle mücadele eder. PCA, ilişkili özellikleri, algoritmanızın çalışması için daha kolay olabilecek ilişkisiz bileşenlere dönüştürür.\n",
    "\n",
    "PCA, temel olarak, verilerinizin korelasyonel yapısına doğrudan erişim sağlar. Hiç şüphesiz kendi uygulamalarınızı bulacaksınız!\n",
    "\n",
    "<blockquote style=\"margin-right:auto; margin-left:auto; background-color: #ebf9ff; padding: 1em; margin:24px;\">\n",
    "<strong>PCA Best Practices</strong><br>\n",
    "PCA'yı uygularken akılda tutulması gereken birkaç şey vardır:\n",
    "<ul>\n",
    "<li> PCA, yalnızca sürekli miktarlar veya sayımlar gibi sayısal özelliklerle çalışır.\n",
    "<li> PCA ölçeğe duyarlıdır. Yapmamak için iyi bir nedeniniz olduğunu bilmiyorsanız, PCA'yı uygulamadan önce verilerinizi standart hale getirmek iyi bir uygulamadır.\n",
    "<li> Sonuçlar üzerinde aşırı etkileri olabileceğinden, aykırı değerleri kaldırmayı veya sınırlamayı düşünün.\n",
    "</ul>\n",
    "</blockquote>\n",
    "\n",
    "# Örnek - 1985 Automobiles #\n",
    "\n",
    "Bu örnekte, [*Automobile*](https://www.kaggle.com/toramky/automobile-dataset) veri kümemize geri döneceğiz ve özellikleri keşfetmek için açıklayıcı bir teknik olarak kullanarak PCA'yı uygulayacağız. Alıştırmada diğer kullanım durumlarına bakacağız.\n",
    "\n",
    "Bu gizli hücre, verileri yükler ve `plot_variance` ve `make_mi_scores` işlevlerini tanımlar.\n"
   ]
  },
  {
   "cell_type": "code",
   "execution_count": null,
   "id": "65055f3d",
   "metadata": {
    "_kg_hide-input": true,
    "id": "65055f3d",
    "papermill": {
     "duration": 1.380386,
     "end_time": "2021-10-27T20:04:30.655170",
     "exception": false,
     "start_time": "2021-10-27T20:04:29.274784",
     "status": "completed"
    },
    "tags": []
   },
   "outputs": [],
   "source": [
    "import matplotlib.pyplot as plt\n",
    "import numpy as np\n",
    "import pandas as pd\n",
    "import seaborn as sns\n",
    "from IPython.display import display\n",
    "from sklearn.feature_selection import mutual_info_regression\n",
    "\n",
    "\n",
    "plt.style.use(\"seaborn-whitegrid\")\n",
    "plt.rc(\"figure\", autolayout=True)\n",
    "plt.rc(\n",
    "    \"axes\",\n",
    "    labelweight=\"bold\",\n",
    "    labelsize=\"large\",\n",
    "    titleweight=\"bold\",\n",
    "    titlesize=14,\n",
    "    titlepad=10,\n",
    ")\n",
    "\n",
    "\n",
    "def plot_variance(pca, width=8, dpi=100):\n",
    "    # Create figure\n",
    "    fig, axs = plt.subplots(1, 2)\n",
    "    n = pca.n_components_\n",
    "    grid = np.arange(1, n + 1)\n",
    "    # Explained variance\n",
    "    evr = pca.explained_variance_ratio_\n",
    "    axs[0].bar(grid, evr)\n",
    "    axs[0].set(\n",
    "        xlabel=\"Component\", title=\"% Explained Variance\", ylim=(0.0, 1.0)\n",
    "    )\n",
    "    # Cumulative Variance\n",
    "    cv = np.cumsum(evr)\n",
    "    axs[1].plot(np.r_[0, grid], np.r_[0, cv], \"o-\")\n",
    "    axs[1].set(\n",
    "        xlabel=\"Component\", title=\"% Cumulative Variance\", ylim=(0.0, 1.0)\n",
    "    )\n",
    "    # Set up figure\n",
    "    fig.set(figwidth=8, dpi=100)\n",
    "    return axs\n",
    "\n",
    "def make_mi_scores(X, y, discrete_features):\n",
    "    mi_scores = mutual_info_regression(X, y, discrete_features=discrete_features)\n",
    "    mi_scores = pd.Series(mi_scores, name=\"MI Scores\", index=X.columns)\n",
    "    mi_scores = mi_scores.sort_values(ascending=False)\n",
    "    return mi_scores"
   ]
  },
  {
   "cell_type": "code",
   "execution_count": null,
   "id": "9bec1cf8-b96c-4994-b39d-90811f0f23f2",
   "metadata": {},
   "outputs": [],
   "source": [
    "df = pd.read_csv(DATASET_PATH + \"autos.csv\")\n",
    "df"
   ]
  },
  {
   "cell_type": "markdown",
   "id": "32fb5a85",
   "metadata": {
    "id": "32fb5a85",
    "papermill": {
     "duration": 0.012573,
     "end_time": "2021-10-27T20:04:30.680194",
     "exception": false,
     "start_time": "2021-10-27T20:04:30.667621",
     "status": "completed"
    },
    "tags": []
   },
   "source": [
    "Bir dizi özelliği kapsayan dört özellik seçtik. Bu özelliklerin her biri aynı zamanda `price` hedefiyle yüksek bir MI puanına sahiptir. Bu özellikler doğal olarak aynı ölçekte olmadığı için verileri standartlaştıracağız."
   ]
  },
  {
   "cell_type": "code",
   "execution_count": null,
   "id": "578b5154",
   "metadata": {
    "id": "578b5154",
    "papermill": {
     "duration": 0.036403,
     "end_time": "2021-10-27T20:04:30.728920",
     "exception": false,
     "start_time": "2021-10-27T20:04:30.692517",
     "status": "completed"
    },
    "tags": []
   },
   "outputs": [],
   "source": [
    "features = [\"highway_mpg\", \"engine_size\", \"horsepower\", \"curb_weight\"]\n",
    "\n",
    "X = df.copy()\n",
    "y = X.pop('price')\n",
    "X = X.loc[:, features]\n",
    "\n",
    "# Standardize\n",
    "X_scaled = (X - X.mean(axis=0)) / X.std(axis=0)"
   ]
  },
  {
   "cell_type": "markdown",
   "id": "96c0c331",
   "metadata": {
    "id": "96c0c331",
    "papermill": {
     "duration": 0.011922,
     "end_time": "2021-10-27T20:04:30.753275",
     "exception": false,
     "start_time": "2021-10-27T20:04:30.741353",
     "status": "completed"
    },
    "tags": []
   },
   "source": [
    "Artık scikit-learn'in `PCA` tahmin edicisine sığdırabilir ve temel bileşenleri oluşturabiliriz. Burada dönüştürülmüş veri kümesinin ilk birkaç satırını görebilirsiniz.\n"
   ]
  },
  {
   "cell_type": "code",
   "execution_count": null,
   "id": "79e1fb0a",
   "metadata": {
    "id": "79e1fb0a",
    "papermill": {
     "duration": 0.048139,
     "end_time": "2021-10-27T20:04:30.813662",
     "exception": false,
     "start_time": "2021-10-27T20:04:30.765523",
     "status": "completed"
    },
    "tags": []
   },
   "outputs": [],
   "source": [
    "from sklearn.decomposition import PCA\n",
    "\n",
    "# Create principal components\n",
    "pca = PCA()\n",
    "X_pca = pca.fit_transform(X_scaled)\n",
    "\n",
    "# Convert to dataframe\n",
    "component_names = [f\"PC{i+1}\" for i in range(X_pca.shape[1])]\n",
    "X_pca = pd.DataFrame(X_pca, columns=component_names)\n",
    "\n",
    "X_pca.head()"
   ]
  },
  {
   "cell_type": "markdown",
   "id": "14b88ff5",
   "metadata": {
    "id": "14b88ff5",
    "papermill": {
     "duration": 0.012369,
     "end_time": "2021-10-27T20:04:30.838929",
     "exception": false,
     "start_time": "2021-10-27T20:04:30.826560",
     "status": "completed"
    },
    "tags": []
   },
   "source": [
    "Yerleştirmeden (fitting) sonra, `PCA` örneği, `components_`  özelliğindeki yüklemeleri içerir. (Ne yazık ki PCA terminolojisi tutarsız. `X_pca` içindeki dönüştürülmüş sütunları, aksi takdirde adı olmayan *components*olarak adlandıran kuralı izliyoruz.) Yüklemeleri bir dataframe saracağız.\n"
   ]
  },
  {
   "cell_type": "code",
   "execution_count": null,
   "id": "92a2d826",
   "metadata": {
    "id": "92a2d826",
    "papermill": {
     "duration": 0.028259,
     "end_time": "2021-10-27T20:04:30.879720",
     "exception": false,
     "start_time": "2021-10-27T20:04:30.851461",
     "status": "completed"
    },
    "tags": []
   },
   "outputs": [],
   "source": [
    "loadings = pd.DataFrame(\n",
    "    pca.components_.T,  # transpose the matrix of loadings\n",
    "    columns=component_names,  # so the columns are the principal components\n",
    "    index=X.columns,  # and the rows are the original features\n",
    ")\n",
    "loadings"
   ]
  },
  {
   "cell_type": "markdown",
   "id": "a31a868c",
   "metadata": {
    "id": "a31a868c",
    "papermill": {
     "duration": 0.012978,
     "end_time": "2021-10-27T20:04:30.906146",
     "exception": false,
     "start_time": "2021-10-27T20:04:30.893168",
     "status": "completed"
    },
    "tags": []
   },
   "source": [
    "Bir bileşenin yüklerinin işaretleri ve büyüklüklerinin, bize onun ne tür bir varyasyon yakaladığını söylediğini hatırlayın. İlk bileşen (`PC1`), zayıf gaz iletimi olan büyük, güçlü araçlar ile iyi gaz iletimi olan daha küçük, daha ekonomik araçlar arasındaki karşıtlığı gösterir. Buna \"Lüks/Ekonomi\" (\"Luxury/Economy\") ekseni diyebiliriz. Bir sonraki şekil, seçtiğimiz dört özelliğin çoğunlukla Lüks/Ekonomi (\"Luxury/Economy\") ekseninde değiştiğini göstermektedir.\n"
   ]
  },
  {
   "cell_type": "code",
   "execution_count": null,
   "id": "0a697509",
   "metadata": {
    "id": "0a697509",
    "papermill": {
     "duration": 0.471061,
     "end_time": "2021-10-27T20:04:31.391093",
     "exception": false,
     "start_time": "2021-10-27T20:04:30.920032",
     "status": "completed"
    },
    "tags": []
   },
   "outputs": [],
   "source": [
    "# Look at explained variance\n",
    "plot_variance(pca);"
   ]
  },
  {
   "cell_type": "markdown",
   "id": "5e184e85",
   "metadata": {
    "id": "5e184e85",
    "papermill": {
     "duration": 0.014345,
     "end_time": "2021-10-27T20:04:31.420146",
     "exception": false,
     "start_time": "2021-10-27T20:04:31.405801",
     "status": "completed"
    },
    "tags": []
   },
   "source": [
    "Bir de bileşenlerin MI puanlarına bakalım. Şaşırtıcı olmayan bir şekilde, `PC1` oldukça bilgilendiricidir, ancak kalan bileşenler küçük değişkenliklerine rağmen hala `price` ile önemli bir ilişkiye sahiptir. Bu bileşenleri incelemek, ana Lüks/Ekonomi (Luxury/Economy) ekseni tarafından yakalanmayan ilişkileri bulmak için faydalı olabilir.\n"
   ]
  },
  {
   "cell_type": "code",
   "execution_count": null,
   "id": "71de03ec",
   "metadata": {
    "id": "71de03ec",
    "papermill": {
     "duration": 0.051934,
     "end_time": "2021-10-27T20:04:31.487088",
     "exception": false,
     "start_time": "2021-10-27T20:04:31.435154",
     "status": "completed"
    },
    "tags": []
   },
   "outputs": [],
   "source": [
    "mi_scores = make_mi_scores(X_pca, y, discrete_features=False)\n",
    "mi_scores"
   ]
  },
  {
   "cell_type": "markdown",
   "id": "9ad389ee",
   "metadata": {
    "id": "9ad389ee",
    "papermill": {
     "duration": 0.017761,
     "end_time": "2021-10-27T20:04:31.526908",
     "exception": false,
     "start_time": "2021-10-27T20:04:31.509147",
     "status": "completed"
    },
    "tags": []
   },
   "source": [
    "Üçüncü bileşen, \"beygir gücü\" (`horsepower`) ile \"boş ağırlık\" (`curb_weight`) arasındaki bir karşıtlığı gösteriyor - spor arabalara karşı vagonlar, öyle görünüyor."
   ]
  },
  {
   "cell_type": "code",
   "execution_count": null,
   "id": "ebf03be3",
   "metadata": {
    "id": "ebf03be3",
    "papermill": {
     "duration": 0.039335,
     "end_time": "2021-10-27T20:04:31.581338",
     "exception": false,
     "start_time": "2021-10-27T20:04:31.542003",
     "status": "completed"
    },
    "tags": []
   },
   "outputs": [],
   "source": [
    "# Show dataframe sorted by PC3\n",
    "idx = X_pca[\"PC3\"].sort_values(ascending=False).index\n",
    "cols = [\"make\", \"body_style\", \"horsepower\", \"curb_weight\"]\n",
    "df.loc[idx, cols]"
   ]
  },
  {
   "cell_type": "markdown",
   "id": "33b2ce9b",
   "metadata": {
    "id": "33b2ce9b",
    "papermill": {
     "duration": 0.020627,
     "end_time": "2021-10-27T20:04:31.618954",
     "exception": false,
     "start_time": "2021-10-27T20:04:31.598327",
     "status": "completed"
    },
    "tags": []
   },
   "source": [
    "Bu karşıtlığı ifade etmek için yeni bir oran özelliği oluşturalım:"
   ]
  },
  {
   "cell_type": "code",
   "execution_count": null,
   "id": "3320efb8",
   "metadata": {
    "id": "3320efb8",
    "papermill": {
     "duration": 0.567001,
     "end_time": "2021-10-27T20:04:32.201992",
     "exception": false,
     "start_time": "2021-10-27T20:04:31.634991",
     "status": "completed"
    },
    "tags": []
   },
   "outputs": [],
   "source": [
    "df[\"sports_or_wagon\"] = X.curb_weight / X.horsepower\n",
    "sns.regplot(x=\"sports_or_wagon\", y='price', data=df, order=2);"
   ]
  }
 ],
 "metadata": {
  "colab": {
   "collapsed_sections": [],
   "name": "Feature Engineering-9-pca.ipynb",
   "provenance": []
  },
  "jupytext": {
   "cell_metadata_filter": "-all",
   "formats": "ipynb"
  },
  "kernelspec": {
   "display_name": "Python 3",
   "language": "python",
   "name": "python3"
  },
  "language_info": {
   "codemirror_mode": {
    "name": "ipython",
    "version": 3
   },
   "file_extension": ".py",
   "mimetype": "text/x-python",
   "name": "python",
   "nbconvert_exporter": "python",
   "pygments_lexer": "ipython3",
   "version": "3.8.10"
  },
  "papermill": {
   "default_parameters": {},
   "duration": 12.89986,
   "end_time": "2021-10-27T20:04:32.968145",
   "environment_variables": {},
   "exception": null,
   "input_path": "__notebook__.ipynb",
   "output_path": "__notebook__.ipynb",
   "parameters": {},
   "start_time": "2021-10-27T20:04:20.068285",
   "version": "2.3.3"
  }
 },
 "nbformat": 4,
 "nbformat_minor": 5
}
