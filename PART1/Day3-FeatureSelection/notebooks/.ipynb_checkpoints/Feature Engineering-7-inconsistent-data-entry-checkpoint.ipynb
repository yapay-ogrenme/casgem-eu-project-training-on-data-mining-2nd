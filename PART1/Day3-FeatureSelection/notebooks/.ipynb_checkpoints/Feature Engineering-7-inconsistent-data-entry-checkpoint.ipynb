{
 "cells": [
  {
   "cell_type": "markdown",
   "id": "bc15e71c",
   "metadata": {
    "id": "bc15e71c",
    "papermill": {
     "duration": 0.014106,
     "end_time": "2021-12-14T18:23:35.988474",
     "exception": false,
     "start_time": "2021-12-14T18:23:35.974368",
     "status": "completed"
    },
    "tags": []
   },
   "source": [
    "Bu notebookta, tutarsız metin girişlerini nasıl temizleyeceğimizi öğreneceğiz.\n"
   ]
  },
  {
   "cell_type": "markdown",
   "id": "4801a5fa",
   "metadata": {
    "id": "4801a5fa",
    "papermill": {
     "duration": 0.012487,
     "end_time": "2021-12-14T18:23:36.014667",
     "exception": false,
     "start_time": "2021-12-14T18:23:36.002180",
     "status": "completed"
    },
    "tags": []
   },
   "source": [
    "# Ortam kurulumu\n",
    "\n",
    "Yapmamız gereken ilk şey, kullanacağımız kütüphaneleri ve veri setini yüklemek."
   ]
  },
  {
   "cell_type": "code",
   "execution_count": null,
   "id": "Ke1uETE-QMni",
   "metadata": {
    "id": "Ke1uETE-QMni"
   },
   "outputs": [],
   "source": [
    "#from google.colab import drive\n",
    "#drive.mount('/content/drive')"
   ]
  },
  {
   "cell_type": "code",
   "execution_count": null,
   "id": "mx-bOFnnQNgx",
   "metadata": {
    "id": "mx-bOFnnQNgx"
   },
   "outputs": [],
   "source": [
    "#ROOT_DIR = \"/content/drive/MyDrive/CASGEM-Egitim/Egitim-Part1/Day3-FeatureSelection/notebooks\"\n",
    "ROOT_DIR = \"https://media.githubusercontent.com/media/yapay-ogrenme/casgem-eu-project-training-on-data-mining/main/PART1/Day3-FeatureSelection/notebooks\"\n",
    "DATASET_PATH = ROOT_DIR + \"/datasets/\""
   ]
  },
  {
   "cell_type": "code",
   "execution_count": null,
   "id": "pnRQfDQ1QzYK",
   "metadata": {
    "id": "pnRQfDQ1QzYK"
   },
   "outputs": [],
   "source": [
    "!pip install fuzzywuzzy"
   ]
  },
  {
   "cell_type": "code",
   "execution_count": null,
   "id": "217824fe",
   "metadata": {
    "execution": {
     "iopub.execute_input": "2021-12-14T18:23:36.045379Z",
     "iopub.status.busy": "2021-12-14T18:23:36.044176Z",
     "iopub.status.idle": "2021-12-14T18:23:36.094482Z",
     "shell.execute_reply": "2021-12-14T18:23:36.095221Z"
    },
    "id": "217824fe",
    "papermill": {
     "duration": 0.068107,
     "end_time": "2021-12-14T18:23:36.095584",
     "exception": false,
     "start_time": "2021-12-14T18:23:36.027477",
     "status": "completed"
    },
    "tags": []
   },
   "outputs": [],
   "source": [
    "# modules we'll use\n",
    "import pandas as pd\n",
    "import numpy as np\n",
    "\n",
    "# helpful modules\n",
    "import fuzzywuzzy\n",
    "from fuzzywuzzy import process\n",
    "import chardet\n",
    "\n",
    "# read in all our data\n",
    "professors = pd.read_csv(DATASET_PATH + \"pakistan_intellectual_capital.csv\")\n",
    "\n",
    "# set seed for reproducibility\n",
    "np.random.seed(0)"
   ]
  },
  {
   "cell_type": "markdown",
   "id": "f4272fb4",
   "metadata": {
    "id": "f4272fb4",
    "papermill": {
     "duration": 0.01268,
     "end_time": "2021-12-14T18:23:36.121622",
     "exception": false,
     "start_time": "2021-12-14T18:23:36.108942",
     "status": "completed"
    },
    "tags": []
   },
   "source": [
    "# Bazı ön metin ön işlemeleri yapın\n",
    "\n",
    "Verilerin ilk birkaç satırına hızlıca göz atarak başlayacağız."
   ]
  },
  {
   "cell_type": "code",
   "execution_count": null,
   "id": "8d81c997",
   "metadata": {
    "execution": {
     "iopub.execute_input": "2021-12-14T18:23:36.150804Z",
     "iopub.status.busy": "2021-12-14T18:23:36.150065Z",
     "iopub.status.idle": "2021-12-14T18:23:36.174883Z",
     "shell.execute_reply": "2021-12-14T18:23:36.175365Z"
    },
    "id": "8d81c997",
    "papermill": {
     "duration": 0.040976,
     "end_time": "2021-12-14T18:23:36.175548",
     "exception": false,
     "start_time": "2021-12-14T18:23:36.134572",
     "status": "completed"
    },
    "tags": []
   },
   "outputs": [],
   "source": [
    "professors.head()"
   ]
  },
  {
   "cell_type": "markdown",
   "id": "533b0a28",
   "metadata": {
    "id": "533b0a28",
    "papermill": {
     "duration": 0.013269,
     "end_time": "2021-12-14T18:23:36.203023",
     "exception": false,
     "start_time": "2021-12-14T18:23:36.189754",
     "status": "completed"
    },
    "tags": []
   },
   "source": [
    "İçinde veri girişi tutarsızlıkları olmadığından emin olmak için \"Country\" (Ülke) sütununu temizlemekle ilgilendiğimizi varsayalım. Elbette her satırı gözden geçirebilir ve elle kontrol edebilir ve tutarsızlıkları bulduğumuzda elle düzeltebiliriz. Yine de bunu yapmanın daha etkili bir yolu var!\n"
   ]
  },
  {
   "cell_type": "code",
   "execution_count": null,
   "id": "58fd505c",
   "metadata": {
    "execution": {
     "iopub.execute_input": "2021-12-14T18:23:36.234348Z",
     "iopub.status.busy": "2021-12-14T18:23:36.233682Z",
     "iopub.status.idle": "2021-12-14T18:23:36.244957Z",
     "shell.execute_reply": "2021-12-14T18:23:36.245567Z"
    },
    "id": "58fd505c",
    "papermill": {
     "duration": 0.029105,
     "end_time": "2021-12-14T18:23:36.245751",
     "exception": false,
     "start_time": "2021-12-14T18:23:36.216646",
     "status": "completed"
    },
    "tags": []
   },
   "outputs": [],
   "source": [
    "# get all the unique values in the 'Country' column\n",
    "countries = professors['Country'].unique()\n",
    "\n",
    "# sort them alphabetically and then take a closer look\n",
    "countries.sort()\n",
    "countries"
   ]
  },
  {
   "cell_type": "markdown",
   "id": "7e04b54e",
   "metadata": {
    "id": "7e04b54e",
    "papermill": {
     "duration": 0.014202,
     "end_time": "2021-12-14T18:23:36.275272",
     "exception": false,
     "start_time": "2021-12-14T18:23:36.261070",
     "status": "completed"
    },
    "tags": []
   },
   "source": [
    "Sadece buna bakarak, tutarsız veri girişi nedeniyle bazı sorunlar görebiliyorum: örneğin ' Germany' ve 'germany' veya 'New Zealand' ve ' New Zealand'.\n",
    "\n",
    "Yapacağım ilk şey, her şeyi küçük harf yapmak (istersem sonunda tekrar değiştirebilirim) ve hücrelerin başındaki ve sonundaki boşlukları kaldırmak. Büyük harf ve sondaki boşluklardaki tutarsızlıklar metin verilerinde çok yaygındır ve bunu yaparak metin veri girişi tutarsızlıklarınızın %80'ini düzeltebilirsiniz.\n"
   ]
  },
  {
   "cell_type": "code",
   "execution_count": null,
   "id": "6e99238a",
   "metadata": {
    "execution": {
     "iopub.execute_input": "2021-12-14T18:23:36.307825Z",
     "iopub.status.busy": "2021-12-14T18:23:36.307096Z",
     "iopub.status.idle": "2021-12-14T18:23:36.314059Z",
     "shell.execute_reply": "2021-12-14T18:23:36.314597Z"
    },
    "id": "6e99238a",
    "papermill": {
     "duration": 0.024665,
     "end_time": "2021-12-14T18:23:36.314773",
     "exception": false,
     "start_time": "2021-12-14T18:23:36.290108",
     "status": "completed"
    },
    "tags": []
   },
   "outputs": [],
   "source": [
    "# convert to lower case\n",
    "professors['Country'] = professors['Country'].str.lower()\n",
    "# remove trailing white spaces\n",
    "professors['Country'] = professors['Country'].str.strip()"
   ]
  },
  {
   "cell_type": "markdown",
   "id": "022351f3",
   "metadata": {
    "id": "022351f3",
    "papermill": {
     "duration": 0.013913,
     "end_time": "2021-12-14T18:23:36.342983",
     "exception": false,
     "start_time": "2021-12-14T18:23:36.329070",
     "status": "completed"
    },
    "tags": []
   },
   "source": [
    "Daha sonra daha zor tutarsızlıkları ele alacağız.\n",
    "\n",
    "# Tutarsız veri girişini düzeltmek için bulanık eşleştirmeyi (fuzzy matching) kullanalım\n",
    "\n",
    "Pekala, 'Ülke' sütununa bir kez daha bakalım ve yapmamız gereken başka veri temizliği olup olmadığına bakalım.\n"
   ]
  },
  {
   "cell_type": "code",
   "execution_count": null,
   "id": "8b9e54af",
   "metadata": {
    "execution": {
     "iopub.execute_input": "2021-12-14T18:23:36.374769Z",
     "iopub.status.busy": "2021-12-14T18:23:36.374008Z",
     "iopub.status.idle": "2021-12-14T18:23:36.380438Z",
     "shell.execute_reply": "2021-12-14T18:23:36.380960Z"
    },
    "id": "8b9e54af",
    "papermill": {
     "duration": 0.024003,
     "end_time": "2021-12-14T18:23:36.381136",
     "exception": false,
     "start_time": "2021-12-14T18:23:36.357133",
     "status": "completed"
    },
    "tags": []
   },
   "outputs": [],
   "source": [
    "# get all the unique values in the 'Country' column\n",
    "countries = professors['Country'].unique()\n",
    "\n",
    "# sort them alphabetically and then take a closer look\n",
    "countries.sort()\n",
    "countries"
   ]
  },
  {
   "cell_type": "markdown",
   "id": "be8c3921",
   "metadata": {
    "id": "be8c3921",
    "papermill": {
     "duration": 0.015038,
     "end_time": "2021-12-14T18:23:36.412210",
     "exception": false,
     "start_time": "2021-12-14T18:23:36.397172",
     "status": "completed"
    },
    "tags": []
   },
   "source": [
    "Görünüşe göre başka bir tutarsızlık var: 'southkorea' ve 'south korea' aynı olmalı.\n",
    "\n",
    "Hangi dizelerin birbirine en yakın olduğunu belirlemeye yardımcı olması için [fuzzywuzzy](https://github.com/seatgeek/fuzzywuzzy) paketini kullanacağız. Bu veri kümesinde, hatalar muhtemelen elle düzeltebileceğimiz kadar küçüktür, ancak bu yaklaşım iyi ölçeklenmiyor. (Bin hatayı elle düzeltmek ister misiniz? Peki ya on bin? İşleri olabildiğince erken otomatikleştirmek genellikle iyi bir fikirdir.)\n",
    "\n",
    "> **Bulanık eşleştirme (Fuzzy matching:):** Hedef dizeye çok benzeyen metin dizelerini otomatik olarak bulma süreci. Genel olarak, bir dize diğerine \"yakın\" olarak kabul edilir, bir dizeyi diğerine dönüştürüyorsanız değiştirmeniz gereken karakter sayısı azalır. Yani \"apple\" ve \"snapple\" birbirinden iki değişiklik uzaklıkta (\"s\" ve \"n\" ekleyin), \"in\" ve \"on\" ise bir değişiklik uzaktadır (\"i\"yi \"o\" ile değiştirin). Bulanık eşleştirmeye her zaman %100 güvenemeyeceksiniz, ancak bu genellikle size en azından biraz zaman kazandıracaktır.\n",
    "\n",
    "Fuzzywuzzy, iki dize verilen bir oran döndürür. Oran 100'e ne kadar yakınsa, iki dizi arasındaki düzenleme mesafesi o kadar küçük olur. \n"
   ]
  },
  {
   "cell_type": "code",
   "execution_count": null,
   "id": "0d8c7dd8",
   "metadata": {
    "execution": {
     "iopub.execute_input": "2021-12-14T18:23:36.444942Z",
     "iopub.status.busy": "2021-12-14T18:23:36.444255Z",
     "iopub.status.idle": "2021-12-14T18:23:36.452624Z",
     "shell.execute_reply": "2021-12-14T18:23:36.451945Z"
    },
    "id": "0d8c7dd8",
    "papermill": {
     "duration": 0.02574,
     "end_time": "2021-12-14T18:23:36.452770",
     "exception": false,
     "start_time": "2021-12-14T18:23:36.427030",
     "status": "completed"
    },
    "tags": []
   },
   "outputs": [],
   "source": [
    "# get the top 10 closest matches to \"south korea\"\n",
    "matches = fuzzywuzzy.process.extract(\"south korea\", countries, limit=10, scorer=fuzzywuzzy.fuzz.token_sort_ratio)\n",
    "\n",
    "# take a look at them\n",
    "matches"
   ]
  },
  {
   "cell_type": "markdown",
   "id": "5df8ae6e",
   "metadata": {
    "id": "5df8ae6e",
    "papermill": {
     "duration": 0.014858,
     "end_time": "2021-12-14T18:23:36.482932",
     "exception": false,
     "start_time": "2021-12-14T18:23:36.468074",
     "status": "completed"
    },
    "tags": []
   },
   "source": [
    "Şehirlerdeki öğelerden ikisinin \"south korea\"ye çok yakın olduğunu görebiliyoruz: \"south korea\" ve \"southkorea\". \"Country\" sütunumuzdaki > 47 olan tüm satırları \"south korea\" ile değiştirelim.\n",
    "\n",
    "Bunu yapmak için bir fonksiyon yazacağım. (Belirli bir görevi bir veya iki defadan fazla yapmanız gerekebileceğini düşünüyorsanız yeniden kullanabileceğiniz genel amaçlı bir işlev yazmak iyi bir fikirdir. Bu, kodu çok sık kopyalayıp yapıştırmanıza engel olur, bu da zamandan tasarruf sağlar ve hataları önlemek için size yardımcı olabilir.)\n",
    "\n"
   ]
  },
  {
   "cell_type": "code",
   "execution_count": null,
   "id": "b9d380c7",
   "metadata": {
    "execution": {
     "iopub.execute_input": "2021-12-14T18:23:36.517294Z",
     "iopub.status.busy": "2021-12-14T18:23:36.516292Z",
     "iopub.status.idle": "2021-12-14T18:23:36.522786Z",
     "shell.execute_reply": "2021-12-14T18:23:36.523251Z"
    },
    "id": "b9d380c7",
    "papermill": {
     "duration": 0.025325,
     "end_time": "2021-12-14T18:23:36.523443",
     "exception": false,
     "start_time": "2021-12-14T18:23:36.498118",
     "status": "completed"
    },
    "tags": []
   },
   "outputs": [],
   "source": [
    "# function to replace rows in the provided column of the provided dataframe\n",
    "# that match the provided string above the provided ratio with the provided string\n",
    "def replace_matches_in_column(df, column, string_to_match, min_ratio = 47):\n",
    "    # get a list of unique strings\n",
    "    strings = df[column].unique()\n",
    "    \n",
    "    # get the top 10 closest matches to our input string\n",
    "    matches = fuzzywuzzy.process.extract(string_to_match, strings, \n",
    "                                         limit=10, scorer=fuzzywuzzy.fuzz.token_sort_ratio)\n",
    "\n",
    "    # only get matches with a ratio > 90\n",
    "    close_matches = [matches[0] for matches in matches if matches[1] >= min_ratio]\n",
    "\n",
    "    # get the rows of all the close matches in our dataframe\n",
    "    rows_with_matches = df[column].isin(close_matches)\n",
    "\n",
    "    # replace all rows with close matches with the input matches \n",
    "    df.loc[rows_with_matches, column] = string_to_match\n",
    "    \n",
    "    # let us know the function's done\n",
    "    print(\"All done!\")"
   ]
  },
  {
   "cell_type": "markdown",
   "id": "96d7b80b",
   "metadata": {
    "id": "96d7b80b",
    "papermill": {
     "duration": 0.01552,
     "end_time": "2021-12-14T18:23:36.554143",
     "exception": false,
     "start_time": "2021-12-14T18:23:36.538623",
     "status": "completed"
    },
    "tags": []
   },
   "source": [
    "Artık bir fonksiyonumuz olduğuna göre, onu test edebiliriz!"
   ]
  },
  {
   "cell_type": "code",
   "execution_count": null,
   "id": "7060fada",
   "metadata": {
    "execution": {
     "iopub.execute_input": "2021-12-14T18:23:36.589923Z",
     "iopub.status.busy": "2021-12-14T18:23:36.588916Z",
     "iopub.status.idle": "2021-12-14T18:23:36.600177Z",
     "shell.execute_reply": "2021-12-14T18:23:36.599543Z"
    },
    "id": "7060fada",
    "papermill": {
     "duration": 0.030272,
     "end_time": "2021-12-14T18:23:36.600312",
     "exception": false,
     "start_time": "2021-12-14T18:23:36.570040",
     "status": "completed"
    },
    "tags": []
   },
   "outputs": [],
   "source": [
    "# use the function we just wrote to replace close matches to \"south korea\" with \"south korea\"\n",
    "replace_matches_in_column(df=professors, column='Country', string_to_match=\"south korea\")"
   ]
  },
  {
   "cell_type": "markdown",
   "id": "474496de",
   "metadata": {
    "id": "474496de",
    "papermill": {
     "duration": 0.015559,
     "end_time": "2021-12-14T18:23:36.631756",
     "exception": false,
     "start_time": "2021-12-14T18:23:36.616197",
     "status": "completed"
    },
    "tags": []
   },
   "source": [
    "Şimdi \"Country\" sütunumuzdaki benzersiz değerleri tekrar kontrol edelim ve \"south korea\"yi doğru şekilde düzenlediğimizden emin olalım.\n"
   ]
  },
  {
   "cell_type": "code",
   "execution_count": null,
   "id": "e215f59c",
   "metadata": {
    "execution": {
     "iopub.execute_input": "2021-12-14T18:23:36.671148Z",
     "iopub.status.busy": "2021-12-14T18:23:36.670379Z",
     "iopub.status.idle": "2021-12-14T18:23:36.673331Z",
     "shell.execute_reply": "2021-12-14T18:23:36.673850Z"
    },
    "id": "e215f59c",
    "papermill": {
     "duration": 0.026014,
     "end_time": "2021-12-14T18:23:36.674020",
     "exception": false,
     "start_time": "2021-12-14T18:23:36.648006",
     "status": "completed"
    },
    "tags": []
   },
   "outputs": [],
   "source": [
    "# get all the unique values in the 'Country' column\n",
    "countries = professors['Country'].unique()\n",
    "\n",
    "# sort them alphabetically and then take a closer look\n",
    "countries.sort()\n",
    "countries"
   ]
  },
  {
   "cell_type": "markdown",
   "id": "5db4b426",
   "metadata": {
    "id": "5db4b426",
    "papermill": {
     "duration": 0.016211,
     "end_time": "2021-12-14T18:23:36.707579",
     "exception": false,
     "start_time": "2021-12-14T18:23:36.691368",
     "status": "completed"
    },
    "tags": []
   },
   "source": [
    "Artık dataframe'de sadece \"south korea\" var ve hiçbir şeyi elle değiştirmek zorunda kalmadık.\n"
   ]
  }
 ],
 "metadata": {
  "colab": {
   "collapsed_sections": [],
   "name": "Feature Engineering-7-inconsistent-data-entry.ipynb",
   "provenance": []
  },
  "kernelspec": {
   "display_name": "Python 3",
   "language": "python",
   "name": "python3"
  },
  "language_info": {
   "codemirror_mode": {
    "name": "ipython",
    "version": 3
   },
   "file_extension": ".py",
   "mimetype": "text/x-python",
   "name": "python",
   "nbconvert_exporter": "python",
   "pygments_lexer": "ipython3",
   "version": "3.8.10"
  },
  "papermill": {
   "default_parameters": {},
   "duration": 12.554296,
   "end_time": "2021-12-14T18:23:37.373936",
   "environment_variables": {},
   "exception": null,
   "input_path": "__notebook__.ipynb",
   "output_path": "__notebook__.ipynb",
   "parameters": {},
   "start_time": "2021-12-14T18:23:24.819640",
   "version": "2.3.3"
  }
 },
 "nbformat": 4,
 "nbformat_minor": 5
}
