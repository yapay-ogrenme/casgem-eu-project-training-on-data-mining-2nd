{
 "cells": [
  {
   "cell_type": "code",
   "execution_count": null,
   "id": "q68rFjOjum6N",
   "metadata": {
    "id": "q68rFjOjum6N"
   },
   "outputs": [],
   "source": [
    "#from google.colab import drive\n",
    "#drive.mount('/content/drive')"
   ]
  },
  {
   "cell_type": "code",
   "execution_count": null,
   "id": "oYd-d2u5uo_t",
   "metadata": {
    "id": "oYd-d2u5uo_t"
   },
   "outputs": [],
   "source": [
    "#ROOT_DIR = \"/content/drive/MyDrive/CASGEM-Egitim/Egitim-Part1/Day3-FeatureSelection/notebooks\"\n",
    "ROOT_DIR = \"https://media.githubusercontent.com/media/yapay-ogrenme/casgem-eu-project-training-on-data-mining/main/PART1/Day3-FeatureSelection/notebooks\"\n",
    "DATASET_PATH = ROOT_DIR + \"/datasets/\""
   ]
  },
  {
   "cell_type": "markdown",
   "id": "147ae888",
   "metadata": {
    "id": "147ae888",
    "papermill": {
     "duration": 0.008358,
     "end_time": "2021-10-27T20:04:28.704158",
     "exception": false,
     "start_time": "2021-10-27T20:04:28.695800",
     "status": "completed"
    },
    "tags": []
   },
   "source": [
    "# Giriş  - Karşılıklı Bilgi (Mutual Information)#\n",
    "\n",
    "Yeni bir veri kümesiyle ilk karşılaşmak bazen bunaltıcı gelebilir. Size bir açıklama bile olmadan yüzlerce veya binlerce özellik sunulabilir. \n",
    "\n",
    "Nereden başlamalıyız?\n",
    "\n",
    "Bir özellik ile hedef arasındaki ilişkileri ölçen bir fonksiyon olan **özellik fayda metriği (feature utility metric)** ile bir sıralama oluşturmak harika bir adımdır.\n",
    "Ardından, başlangıçta geliştirmek için en kullanışlı özelliklerden oluşan daha küçük bir set seçebilir ve zamanınızın iyi harcanacağına daha fazla güvenebilirsiniz.\n",
    "\n",
    "Kullanacağımız metriğe \"karşılıklı bilgi (mutual information)\" denir. Karşılıklı bilgi, iki nicelik arasındaki ilişkiyi ölçmesi bakımından korelasyona çok benzer. **Karşılıklı bilginin avantajı, *herhangi bir* tür ilişkiyi saptayabilirken, korelasyon yalnızca *doğrusal* ilişkileri saptar.** \n",
    "\n",
    "Karşılıklı bilgi, harika bir genel amaçlı ölçümdür ve özellikle henüz hangi modeli kullanmak istediğinizi bilemediğinizde özellik geliştirmenin başlangıcında yararlıdır. Bu:\n",
    "- kullanımı ve yorumlanması kolay,\n",
    "- hesaplama açısından verimli,\n",
    "- teorik olarak sağlam temellere sahip,\n",
    "- fazla takılmaya karşı dayanıklı ve,\n",
    "- her türlü ilişkiyi tespit edebilen\n",
    "\n",
    "# Karşılıklı Bilgi ve Neyi Ölçtüğü #\n",
    "\n",
    "Karşılıklı bilgi, ilişkileri *belirsizlik(uncertainty)* açısından tanımlar. İki nicelik arasındaki **karşılıklı bilgi (mutual information)** (MI), bir nicelik bilgisinin diğeri hakkındaki belirsizliği ne ölçüde azalttığının bir ölçüsüdür. Bir özelliğin değerini bilseydiniz, hedef konusunda kendinize ne kadar güvenirdiniz?\n",
    "\n",
    "İşte *Ames Housing* verilerinden bir örnek. Şekil, bir evin dış kalitesi ile satıldığı fiyat arasındaki ilişkiyi göstermektedir. Her nokta bir evi temsil eder.\n",
    "\n",
    "<figure style=\"padding: 1em;\">\n",
    "<img src=\"https://i.imgur.com/X12ARUK.png\" width=400, alt=\"Four categories of ExterQual: Fair, Typical, Good, Excellent. A scatter plot of SalePrice within each category.\">\n",
    "<figcaption style=\"textalign: center; font-style: italic\"><center>Knowing the exterior quality of a house reduces uncertainty about its sale price.\n",
    "</center></figcaption>\n",
    "</figure>\n",
    "\n",
    "Şekilden, `ExterQual (Dış Kalite)`ın değerini bilmenin sizi karşılık gelen `SalePrice (İndirimli Fiyat)` hakkında daha emin kılması gerektiğini görebiliriz -- `ExterQual`in her bir kategorisi `SalePrice`ı belirli bir aralıkta yoğunlaştırma eğilimindedir. `ExterQual`ın `SalePrice` ile sahip olduğu ortak bilgi, `ExterQual`ın dört değeri üzerinden alınan `SalePrice` belirsizliğinin ortalama azalmasıdır. `Orta(Fair)`, `Tipik(Typical)`ten daha az sıklıkta gerçekleştiğinden, örneğin, `Orta`, MI puanında daha az ağırlık alır.\n",
    "\n",
    "\n",
    "(Teknik not: Belirsizlik dediğimiz şey, \"entropi\" olarak bilinen bilgi teorisinden bir miktar kullanılarak ölçülür. Bir değişkenin entropisi kabaca şu anlama gelir: \"bunun bir oluşumunu açıklamak için kaç evet-veya-hayır sorusu gerekir ortalama olarak değişken.\" Sormanız gereken daha fazla soru, değişken hakkında daha belirsiz olmanız gerekir. Karşılıklı bilgi, özelliğin hedef hakkında yanıtlamasını beklediğiniz soru sayısıdır.)\n",
    "\n",
    "# Karşılıklı Bilgi Puanlarının Yorumlanması #\n",
    "\n",
    "Miktarlar arasında mümkün olan en az karşılıklı bilgi 0.0'dır. MI sıfır olduğunda, nicelikler bağımsızdır: ikisi de size diğeri hakkında hiçbir şey söyleyemez. Tersine, teoride MI'nın ne olabileceğine dair bir üst sınır yoktur. Uygulamada, 2.0 veya daha yüksek değerler nadirdir. (Karşılıklı bilgi logaritmik bir miktardır, bu nedenle çok yavaş artar.)\n",
    "\n",
    "Bir sonraki şekil size MI değerlerinin bir özelliğin hedefle olan ilişki türü ve derecesine nasıl karşılık geldiği hakkında bir fikir verecektir.\n",
    "\n",
    "<figure style=\"padding: 1em;\">\n",
    "<img src=\"https://i.imgur.com/Dt75E1f.png\" width=800, alt=\"\">\n",
    "<figcaption style=\"textalign: center; font-style: italic\"><center><strong>Left:</strong> Mutual information increases as the dependence between feature and target becomes tighter. <strong>Right:</strong> Mutual information can capture any kind of association (not just linear, like correlation.)\n",
    "</center></figcaption>\n",
    "</figure>\n",
    "\n",
    "Karşılıklı bilgileri uygularken hatırlamanız gereken bazı noktalar şunlardır:\n",
    "- MI, kendi başına ele alınan hedefin bir öngörücüsü olarak bir özelliğin *göreceli potansiyelini* anlamanıza yardımcı olabilir.\n",
    "- Bir özelliğin diğer özelliklerle etkileşime girdiğinde çok bilgilendirici olması, ancak tek başına çok bilgilendirici olmaması mümkündür. MI * özellikler arasındaki etkileşimleri * algılayamaz. **tek değişkenli** bir metriktir.\n",
    "- Bir özelliğin *gerçek* kullanışlılığı, onu kullandığınız modele bağlıdır*. Bir özellik, yalnızca hedefle ilişkisinin modelinizin öğrenebileceği bir ilişki olduğu ölçüde yararlıdır. Bir özelliğin yüksek MI puanına sahip olması, modelinizin bu bilgilerle herhangi bir şey yapabileceği anlamına gelmez. İlişkiyi ortaya çıkarmak için önce özelliği dönüştürmeniz gerekebilir.\n",
    "\n",
    "# Example - 1985 Automobiles #\n",
    "\n",
    "[*Automobile*](https://www.kaggle.com/toramky/automobile-dataset) veri seti 1985 model yılına ait 193 arabadan oluşur. Bu veri kümesinin amacı, otomobilin yapım (`make`), gövde stili (`body_style`) ve beygir gücü (`horsepower`) gibi 23 özelliğinden bir otomobilin fiyatını (`price`) (hedef) tahmin etmektir. Bu örnekte, özellikleri karşılıklı bilgilerle sıralayacağız ve sonuçları veri görselleştirme ile araştıracağız.\n",
    "\n",
    "Bu gizli hücre, bazı kitaplıkları içe aktarır ve veri kümesini yükler.\n"
   ]
  },
  {
   "cell_type": "code",
   "execution_count": null,
   "id": "27be1b13",
   "metadata": {
    "_kg_hide-input": true,
    "id": "27be1b13",
    "papermill": {
     "duration": 0.966597,
     "end_time": "2021-10-27T20:04:29.678350",
     "exception": false,
     "start_time": "2021-10-27T20:04:28.711753",
     "status": "completed"
    },
    "tags": []
   },
   "outputs": [],
   "source": [
    "\n",
    "import matplotlib.pyplot as plt\n",
    "import numpy as np\n",
    "import pandas as pd\n",
    "import seaborn as sns\n",
    "\n",
    "import warnings\n",
    "warnings.filterwarnings('ignore')\n",
    "\n",
    "plt.style.use(\"seaborn-whitegrid\")\n",
    "\n",
    "df = pd.read_csv(DATASET_PATH+\"autos.csv\")\n",
    "df.head()"
   ]
  },
  {
   "cell_type": "markdown",
   "id": "481a7993",
   "metadata": {
    "id": "481a7993",
    "papermill": {
     "duration": 0.010114,
     "end_time": "2021-10-27T20:04:29.697311",
     "exception": false,
     "start_time": "2021-10-27T20:04:29.687197",
     "status": "completed"
    },
    "tags": []
   },
   "source": [
    "MI için scikit-learn algoritması, ayrık özellikleri sürekli özelliklerden farklı şekilde ele alır. Sonuç olarak, hangisinin hangisi olduğunu söylemeniz gerekir. Genel bir kural olarak, bir `float` tipine sahip * olması gereken* her şey ayrı *değildir. Kategoriler (`object` veya `categorial` türü), onlara bir etiket kodlaması verilerek ayrık olarak ele alınabilir. ([Kategorik Değişkenler](http://www.kaggle.com/alexisbcook/categorical-variables) dersimizde etiket kodlamalarını inceleyebilirsiniz.)\n",
    "\n"
   ]
  },
  {
   "cell_type": "code",
   "execution_count": null,
   "id": "b9851ed5",
   "metadata": {
    "id": "b9851ed5",
    "papermill": {
     "duration": 0.036091,
     "end_time": "2021-10-27T20:04:29.745987",
     "exception": false,
     "start_time": "2021-10-27T20:04:29.709896",
     "status": "completed"
    },
    "tags": []
   },
   "outputs": [],
   "source": [
    "X = df.copy()\n",
    "y = X.pop(\"price\")\n",
    "\n",
    "# Label encoding for categoricals\n",
    "for colname in X.select_dtypes(\"object\"):\n",
    "    X[colname], _ = X[colname].factorize()\n",
    "\n",
    "# All discrete features should now have integer dtypes (double-check this before using MI!)\n",
    "discrete_features = X.dtypes == int"
   ]
  },
  {
   "cell_type": "markdown",
   "id": "130e0ad5",
   "metadata": {
    "id": "130e0ad5",
    "papermill": {
     "duration": 0.007983,
     "end_time": "2021-10-27T20:04:29.766602",
     "exception": false,
     "start_time": "2021-10-27T20:04:29.758619",
     "status": "completed"
    },
    "tags": []
   },
   "source": [
    "Scikit-learn'in `feature_selection` modülünde iki karşılıklı bilgi metriği vardır: biri gerçek değerli hedefler için (`mutual_info_regression`) ve diğeri kategorik hedefler için (`mutual_info_classif`). Hedefimiz `price` gerçek değerdedir. Sonraki hücre, özelliklerimiz için MI puanlarını hesaplar ve bunları güzel bir dataframe'de toplar.\n"
   ]
  },
  {
   "cell_type": "code",
   "execution_count": null,
   "id": "b7dae2fc",
   "metadata": {
    "id": "b7dae2fc",
    "papermill": {
     "duration": 0.658354,
     "end_time": "2021-10-27T20:04:30.433046",
     "exception": false,
     "start_time": "2021-10-27T20:04:29.774692",
     "status": "completed"
    },
    "tags": []
   },
   "outputs": [],
   "source": [
    "from sklearn.feature_selection import mutual_info_regression\n",
    "\n",
    "def make_mi_scores(X, y, discrete_features):\n",
    "    mi_scores = mutual_info_regression(X, y, discrete_features=discrete_features)\n",
    "    mi_scores = pd.Series(mi_scores, name=\"MI Scores\", index=X.columns)\n",
    "    mi_scores = mi_scores.sort_values(ascending=False)\n",
    "    return mi_scores\n",
    "\n",
    "mi_scores = make_mi_scores(X, y, discrete_features)\n",
    "mi_scores[::3]  # show a few features with their MI scores"
   ]
  },
  {
   "cell_type": "markdown",
   "id": "bb1ca99b",
   "metadata": {
    "id": "bb1ca99b",
    "papermill": {
     "duration": 0.007983,
     "end_time": "2021-10-27T20:04:30.449210",
     "exception": false,
     "start_time": "2021-10-27T20:04:30.441227",
     "status": "completed"
    },
    "tags": []
   },
   "source": [
    "Ve şimdi karşılaştırmaları kolaylaştırmak için bir çubuk grafiği:"
   ]
  },
  {
   "cell_type": "code",
   "execution_count": null,
   "id": "2332eb68",
   "metadata": {
    "id": "2332eb68",
    "papermill": {
     "duration": 0.442082,
     "end_time": "2021-10-27T20:04:30.899598",
     "exception": false,
     "start_time": "2021-10-27T20:04:30.457516",
     "status": "completed"
    },
    "tags": []
   },
   "outputs": [],
   "source": [
    "def plot_mi_scores(scores):\n",
    "    scores = scores.sort_values(ascending=True)\n",
    "    width = np.arange(len(scores))\n",
    "    ticks = list(scores.index)\n",
    "    plt.barh(width, scores)\n",
    "    plt.yticks(width, ticks)\n",
    "    plt.title(\"Mutual Information Scores\")\n",
    "\n",
    "\n",
    "plt.figure(dpi=100, figsize=(8, 5))\n",
    "plot_mi_scores(mi_scores)"
   ]
  },
  {
   "cell_type": "markdown",
   "id": "25c1a534",
   "metadata": {
    "id": "25c1a534",
    "papermill": {
     "duration": 0.009663,
     "end_time": "2021-10-27T20:04:30.919332",
     "exception": false,
     "start_time": "2021-10-27T20:04:30.909669",
     "status": "completed"
    },
    "tags": []
   },
   "source": [
    "Veri görselleştirme, bir yardımcı program sıralamasının harika bir devamıdır. Bunlardan birkaçına daha yakından bakalım.\n",
    "\n",
    "Tahmin edebileceğimiz gibi, yüksek puanlı `curb_weight` (boş_ağırlık) özelliği, hedef olan `price` ile güçlü bir ilişki sergiler.\n",
    "\n",
    "\n"
   ]
  },
  {
   "cell_type": "code",
   "execution_count": null,
   "id": "c5ad9b2c",
   "metadata": {
    "id": "c5ad9b2c",
    "papermill": {
     "duration": 0.357183,
     "end_time": "2021-10-27T20:04:31.286763",
     "exception": false,
     "start_time": "2021-10-27T20:04:30.929580",
     "status": "completed"
    },
    "tags": []
   },
   "outputs": [],
   "source": [
    "sns.relplot(x=\"curb_weight\", y=\"price\", data=df);"
   ]
  },
  {
   "cell_type": "markdown",
   "id": "cf93e415",
   "metadata": {
    "id": "cf93e415",
    "papermill": {
     "duration": 0.010731,
     "end_time": "2021-10-27T20:04:31.309150",
     "exception": false,
     "start_time": "2021-10-27T20:04:31.298419",
     "status": "completed"
    },
    "tags": []
   },
   "source": [
    "`fuel_type`(yakıt_tipi) özelliği oldukça düşük bir MI puanına sahiptir, ancak şekilden de görebileceğimiz gibi, `horsepower`(beygir gücü) özelliği içinde farklı eğilimlere sahip iki `price` popülasyonunu açıkça ayırır. Bu, `fuel_type` nin bir etkileşim etkisine katkıda bulunduğunu ve sonuçta önemsiz olmayabileceğini gösterir. Bir özelliğin MI puanına göre önemsiz olduğuna karar vermeden önce, olası etkileşim etkilerini araştırmak iyidir - alan bilgisi burada çok fazla rehberlik sağlayabilir.\n"
   ]
  },
  {
   "cell_type": "code",
   "execution_count": null,
   "id": "35203513",
   "metadata": {
    "id": "35203513",
    "papermill": {
     "duration": 0.671537,
     "end_time": "2021-10-27T20:04:31.991963",
     "exception": false,
     "start_time": "2021-10-27T20:04:31.320426",
     "status": "completed"
    },
    "tags": []
   },
   "outputs": [],
   "source": [
    "sns.lmplot(x=\"horsepower\", y=\"price\", hue=\"fuel_type\", data=df);"
   ]
  },
  {
   "cell_type": "markdown",
   "id": "8192919b",
   "metadata": {
    "id": "8192919b",
    "papermill": {
     "duration": 0.012243,
     "end_time": "2021-10-27T20:04:32.017160",
     "exception": false,
     "start_time": "2021-10-27T20:04:32.004917",
     "status": "completed"
    },
    "tags": []
   },
   "source": [
    "Veri görselleştirme, özellik mühendisliği araç kutunuza harika bir ektir. Karşılıklı bilgiler gibi yardımcı metriklerin yanı sıra bunun gibi görselleştirmeler verilerinizdeki önemli ilişkileri keşfetmenize yardımcı olabilir.\n",
    "\n",
    "# Senin sıran #\n",
    "\n",
    "*Ames Housing* veri kümesinin [**özellikleri**](https://www.kaggle.com/kernels/fork/14393925) sıralayın ve geliştirmeye başlamak için ilk özellik grubunuzu seçin."
   ]
  }
 ],
 "metadata": {
  "colab": {
   "collapsed_sections": [],
   "name": "Feature Engineering-6-mutual information.ipynb",
   "provenance": []
  },
  "jupytext": {
   "cell_metadata_filter": "-all",
   "formats": "ipynb"
  },
  "kernelspec": {
   "display_name": "Python 3",
   "language": "python",
   "name": "python3"
  },
  "language_info": {
   "codemirror_mode": {
    "name": "ipython",
    "version": 3
   },
   "file_extension": ".py",
   "mimetype": "text/x-python",
   "name": "python",
   "nbconvert_exporter": "python",
   "pygments_lexer": "ipython3",
   "version": "3.8.10"
  },
  "papermill": {
   "default_parameters": {},
   "duration": 12.931297,
   "end_time": "2021-10-27T20:04:33.042278",
   "environment_variables": {},
   "exception": null,
   "input_path": "__notebook__.ipynb",
   "output_path": "__notebook__.ipynb",
   "parameters": {},
   "start_time": "2021-10-27T20:04:20.110981",
   "version": "2.3.3"
  }
 },
 "nbformat": 4,
 "nbformat_minor": 5
}
