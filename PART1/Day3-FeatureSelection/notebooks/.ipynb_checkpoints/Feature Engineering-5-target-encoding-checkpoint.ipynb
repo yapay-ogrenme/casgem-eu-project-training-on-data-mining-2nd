{
 "cells": [
  {
   "cell_type": "code",
   "execution_count": null,
   "id": "MkeRd96BmfII",
   "metadata": {
    "id": "MkeRd96BmfII"
   },
   "outputs": [],
   "source": [
    "#from google.colab import drive\n",
    "#drive.mount('/content/drive')"
   ]
  },
  {
   "cell_type": "code",
   "execution_count": null,
   "id": "QH5LQjt7mk8l",
   "metadata": {
    "id": "QH5LQjt7mk8l"
   },
   "outputs": [],
   "source": [
    "#ROOT_DIR = \"/content/drive/MyDrive/CASGEM-Egitim/Egitim-Part1/Day3-FeatureSelection/notebooks\"\n",
    "ROOT_DIR = \"https://media.githubusercontent.com/media/yapay-ogrenme/casgem-eu-project-training-on-data-mining/main/PART1/Day3-FeatureSelection/notebooks\"\n",
    "DATASET_PATH = ROOT_DIR + \"/datasets/\""
   ]
  },
  {
   "cell_type": "markdown",
   "id": "2a3ed6a0",
   "metadata": {
    "id": "2a3ed6a0",
    "papermill": {
     "duration": 0.012198,
     "end_time": "2021-10-27T20:04:45.635485",
     "exception": false,
     "start_time": "2021-10-27T20:04:45.623287",
     "status": "completed"
    },
    "tags": []
   },
   "source": [
    "# Giriş #\n",
    "\n",
    "Bu kursta gördüğümüz tekniklerin çoğu sayısal özellikler içindi. Bu derste inceleyeceğimiz teknik olan *hedef kodlama* (*target encoding*) bunun yerine kategorik özellikler içindir. one-hot veya etiket kodlaması gibi kategorileri sayılar olarak kodlamanın bir yöntemidir, tek farkı kodlamayı oluşturmak için *hedefi* (*target*) kullanmasıdır. Bu, onu **denetimli** (**supervised** ) bir özellik mühendisliği tekniği olarak adlandırdığımız şey yapar.\n"
   ]
  },
  {
   "cell_type": "code",
   "execution_count": null,
   "id": "3617a7bf",
   "metadata": {
    "_kg_hide-input": true,
    "id": "3617a7bf",
    "papermill": {
     "duration": 0.052975,
     "end_time": "2021-10-27T20:04:45.699465",
     "exception": false,
     "start_time": "2021-10-27T20:04:45.646490",
     "status": "completed"
    },
    "tags": []
   },
   "outputs": [],
   "source": [
    "import pandas as pd\n",
    "\n",
    "autos = pd.read_csv(DATASET_PATH + \"autos.csv\")"
   ]
  },
  {
   "cell_type": "markdown",
   "id": "34a47d61",
   "metadata": {
    "id": "34a47d61",
    "lines_to_next_cell": 0,
    "papermill": {
     "duration": 0.009316,
     "end_time": "2021-10-27T20:04:45.723669",
     "exception": false,
     "start_time": "2021-10-27T20:04:45.714353",
     "status": "completed"
    },
    "tags": []
   },
   "source": [
    "# Target Encoding #\n",
    "\n",
    "Bir **hedef kodlaması** (**target encoding**), bir özelliğin kategorilerini hedeften türetilen bir sayı ile değiştiren herhangi bir kodlama türüdür.\n",
    "\n",
    "Basit ve etkili bir versiyon, ortalama gibi Ders 3'ten bir grup toplaması uygulamaktır. *Automobiles* veri setini kullanarak, her bir aracın markasının ortalama fiyatını hesaplar:\n"
   ]
  },
  {
   "cell_type": "code",
   "execution_count": null,
   "id": "b8dacff2",
   "metadata": {
    "id": "b8dacff2",
    "papermill": {
     "duration": 0.049709,
     "end_time": "2021-10-27T20:04:45.782862",
     "exception": false,
     "start_time": "2021-10-27T20:04:45.733153",
     "status": "completed"
    },
    "tags": []
   },
   "outputs": [],
   "source": [
    "autos[\"make_encoded\"] = autos.groupby(\"make\")[\"price\"].transform(\"mean\")\n",
    "\n",
    "autos[[\"make\", \"price\", \"make_encoded\"]].head(10)"
   ]
  },
  {
   "cell_type": "markdown",
   "id": "4d0511ed",
   "metadata": {
    "id": "4d0511ed",
    "papermill": {
     "duration": 0.009266,
     "end_time": "2021-10-27T20:04:45.801947",
     "exception": false,
     "start_time": "2021-10-27T20:04:45.792681",
     "status": "completed"
    },
    "tags": []
   },
   "source": [
    "Bu tür hedef kodlamaya bazen **ortalama kodlama** (**mean encoding**) denir. İkili bir hedefe uygulandığında buna **kutu sayma** (**bin counting**) da denir. (Karşılaşabileceğiniz diğer adlar şunları içerir: olasılık kodlaması, etki kodlaması ve bir dışarıda bırakma kodlaması.(likelihood encoding, impact encoding, and leave-one-out encoding.))\n",
    "\n",
    "# Smoothing #\n",
    "\n",
    "Bununla birlikte, bunun gibi bir kodlama birkaç sorun sunar. İlki *bilinmeyen kategoriler*. Hedef kodlamalar, overfitting riski yaratır, bu da onların bağımsız bir \"kodlama\" (\"encoding\") ayrımında eğitilmeleri gerektiği anlamına gelir. Gelecekteki bölmelere kodlamaya katıldığınızda, Pandas kodlama bölümünde bulunmayan tüm kategoriler için eksik değerleri dolduracaktır. Bir şekilde atfetmeniz gereken bu eksik değerler.\n",
    "\n",
    "İkincisi *nadir kategoriler* (*rare categories*). Bir kategori veri kümesinde yalnızca birkaç kez geçtiğinde, grubu üzerinde hesaplanan herhangi bir istatistiğin çok doğru olması pek olası değildir. *Automobiles* veri kümesinde, `mercurcy` yalnızca bir kez gerçekleşir. Hesapladığımız \"ortalama\" fiyat, yalnızca o aracın fiyatıdır ve gelecekte görebileceğimiz Mercuries pek temsil etmeyebilir. Hedef kodlama nadir kategorileri, fazla uydurmayı daha olası hale getirebilir.\n",
    "\n",
    "Bu sorunlara bir çözüm, **smoothing** eklemektir. Buradaki fikir, *kategori içi* ortalamayı *genel* ortalamayla harmanlamaktır. Nadir kategoriler, kategori ortalamalarında daha az ağırlık alırken, eksik kategoriler yalnızca genel ortalamayı alır.\n",
    "\n",
    "In pseudocode:\n",
    "```\n",
    "encoding = weight * in_category + (1 - weight) * overall\n",
    "```\n",
    "where `weight` is a value between 0 and 1 calculated from the category frequency.\n",
    "\n",
    "An easy way to determine the value for `weight` is to compute an **m-estimate**:\n",
    "```\n",
    "weight = n / (n + m)\n",
    "```\n",
    "where `n` is the total number of times that category occurs in the data. The parameter `m` determines the \"smoothing factor\". Larger values of `m` put more weight on the overall estimate.\n",
    "\n",
    "<figure style=\"padding: 1em;\">\n",
    "<img src=\"https://i.imgur.com/1uVtQEz.png\" width=500, alt=\"\">\n",
    "<figcaption style=\"textalign: center; font-style: italic\"><center>\n",
    "</center></figcaption>\n",
    "</figure>\n",
    "\n",
    "*Automobiles* veri setinde `chevrolet` markasına sahip üç araba var. `m=2.0`ı seçerseniz, `chevrolet` kategorisi ortalama Chevrolet fiyatının %60'ı artı genel ortalama fiyatın %40'ı ile kodlanır.\n",
    "\n",
    "\n",
    "```\n",
    "chevrolet = 0.6 * 6000.00 + 0.4 * 13285.03\n",
    "```\n",
    "`m` için bir değer seçerken, kategorilerin ne kadar gürültülü olmasını beklediğinizi düşünün. Bir aracın fiyatı, her marka içinde büyük ölçüde değişir mi? İyi tahminler elde etmek için çok fazla veriye mi ihtiyacınız var? Eğer öyleyse, `m` için daha büyük bir değer seçmek daha iyi olabilir; her marka için ortalama fiyat nispeten sabit olsaydı, daha küçük bir değer uygun olabilirdi.\n",
    "\n",
    "\n",
    "<blockquote style=\"margin-right:auto; margin-left:auto; background-color: #ebf9ff; padding: 1em; margin:24px;\">\n",
    "<strong>Use Cases for Target Encoding</strong><br>\n",
    "Hedef kodlama aşağıdakiler için harikadır:\n",
    "<ul>\n",
    "<li><strong>Yüksek kardinalite özellikleri</strong>: Çok sayıda kategoriye sahip bir özelliğin kodlanması zahmetli olabilir: one-hot encoding çok fazla özellik oluşturur ve etiket kodlaması gibi alternatifler bu özellik için uygun olmayabilir. Hedef kodlaması, özelliğin en önemli özelliğini kullanarak kategoriler için sayılar türetir: hedefle olan ilişkisi.\n",
    "\n",
    "<li><strong>Alan-motive özellikler</strong>: Önceki deneyimlere göre, kategorik bir özelliğin, bir özellik metriğiyle zayıf puan almış olsa bile önemli olması gerektiğinden şüphelenebilirsiniz. Hedef kodlama, bir özelliğin gerçek bilgi vericiliğini ortaya çıkarmaya yardımcı olabilir.\n",
    "\n",
    "</ul>\n",
    "</blockquote>\n",
    "\n",
    "# Örnek - MovieLens1M #\n",
    "\n",
    "[*MovieLens1M*](https://www.kaggle.com/grouplens/movielens-20m-dataset) veri kümesi, her bir kullanıcıyı ve filmi açıklayan özelliklerle birlikte MovieLens web sitesi kullanıcıları tarafından bir milyon film derecelendirmesi içerir. Bu gizli hücre her şeyi ayarlar:"
   ]
  },
  {
   "cell_type": "code",
   "execution_count": null,
   "id": "3caa8dbd",
   "metadata": {
    "_kg_hide-input": true,
    "id": "3caa8dbd",
    "papermill": {
     "duration": 4.631629,
     "end_time": "2021-10-27T20:04:50.443156",
     "exception": false,
     "start_time": "2021-10-27T20:04:45.811527",
     "status": "completed"
    },
    "tags": []
   },
   "outputs": [],
   "source": [
    "\n",
    "import matplotlib.pyplot as plt\n",
    "import numpy as np\n",
    "import pandas as pd\n",
    "import seaborn as sns\n",
    "import warnings\n",
    "\n",
    "plt.style.use(\"seaborn-whitegrid\")\n",
    "plt.rc(\"figure\", autolayout=True)\n",
    "plt.rc(\n",
    "    \"axes\",\n",
    "    labelweight=\"bold\",\n",
    "    labelsize=\"large\",\n",
    "    titleweight=\"bold\",\n",
    "    titlesize=14,\n",
    "    titlepad=10,\n",
    ")\n",
    "warnings.filterwarnings('ignore')\n",
    "\n",
    "\n",
    "df = pd.read_csv(DATASET_PATH + \"movielens1m.csv\")\n",
    "df = df.astype(np.uint8, errors='ignore') # reduce memory footprint\n",
    "print(\"Number of Unique Zipcodes: {}\".format(df[\"Zipcode\"].nunique()))"
   ]
  },
  {
   "cell_type": "markdown",
   "id": "e70c80c8",
   "metadata": {
    "id": "e70c80c8",
    "papermill": {
     "duration": 0.010398,
     "end_time": "2021-10-27T20:04:50.464319",
     "exception": false,
     "start_time": "2021-10-27T20:04:50.453921",
     "status": "completed"
    },
    "tags": []
   },
   "source": [
    "3000'den fazla kategoriyle,`Zipcode`özelliği hedef kodlama için iyi bir adaydır ve bu veri kümesinin boyutu (bir milyondan fazla satır), kodlamayı oluşturmak için bazı verileri ayırabileceğimiz anlamına gelir.\n",
    "\n",
    "Hedef kodlayıcıyı eğitmek için %25'lik bir bölünme oluşturarak başlayacağız."
   ]
  },
  {
   "cell_type": "code",
   "execution_count": null,
   "id": "1df63b6f",
   "metadata": {
    "id": "1df63b6f",
    "papermill": {
     "duration": 0.66183,
     "end_time": "2021-10-27T20:04:51.136902",
     "exception": false,
     "start_time": "2021-10-27T20:04:50.475072",
     "status": "completed"
    },
    "tags": []
   },
   "outputs": [],
   "source": [
    "X = df.copy()\n",
    "y = X.pop('Rating')\n",
    "\n",
    "X_encode = X.sample(frac=0.25)\n",
    "y_encode = y[X_encode.index]\n",
    "X_pretrain = X.drop(X_encode.index)\n",
    "y_train = y[X_pretrain.index]"
   ]
  },
  {
   "cell_type": "markdown",
   "id": "943cc0eb",
   "metadata": {
    "id": "943cc0eb",
    "papermill": {
     "duration": 0.010163,
     "end_time": "2021-10-27T20:04:51.157787",
     "exception": false,
     "start_time": "2021-10-27T20:04:51.147624",
     "status": "completed"
    },
    "tags": []
   },
   "source": [
    "`scikit-learn-contrib` içindeki `category_encoders` paketi, `Zipcode`özelliğimizi kodlamak için kullanacağımız bir m-estimate encoder uygular.\n"
   ]
  },
  {
   "cell_type": "code",
   "execution_count": null,
   "id": "sfvdaFFTpeXT",
   "metadata": {
    "id": "sfvdaFFTpeXT"
   },
   "outputs": [],
   "source": [
    "!pip install category_encoders"
   ]
  },
  {
   "cell_type": "code",
   "execution_count": null,
   "id": "d7498576",
   "metadata": {
    "id": "d7498576",
    "papermill": {
     "duration": 1.202869,
     "end_time": "2021-10-27T20:04:52.371539",
     "exception": false,
     "start_time": "2021-10-27T20:04:51.168670",
     "status": "completed"
    },
    "tags": []
   },
   "outputs": [],
   "source": [
    "from category_encoders import MEstimateEncoder\n",
    "\n",
    "# Create the encoder instance. Choose m to control noise.\n",
    "encoder = MEstimateEncoder(cols=[\"Zipcode\"], m=5.0)\n",
    "\n",
    "# Fit the encoder on the encoding split.\n",
    "encoder.fit(X_encode, y_encode)\n",
    "\n",
    "# Encode the Zipcode column to create the final training data\n",
    "X_train = encoder.transform(X_pretrain)"
   ]
  },
  {
   "cell_type": "markdown",
   "id": "e86f48a4",
   "metadata": {
    "id": "e86f48a4",
    "papermill": {
     "duration": 0.010797,
     "end_time": "2021-10-27T20:04:52.392906",
     "exception": false,
     "start_time": "2021-10-27T20:04:52.382109",
     "status": "completed"
    },
    "tags": []
   },
   "source": [
    "Kodlamamızın ne kadar bilgilendirici olabileceğini görmek için kodlanmış değerleri hedefle karşılaştıralım."
   ]
  },
  {
   "cell_type": "code",
   "execution_count": null,
   "id": "98d059e2",
   "metadata": {
    "id": "98d059e2",
    "papermill": {
     "duration": 4.440074,
     "end_time": "2021-10-27T20:04:56.844431",
     "exception": false,
     "start_time": "2021-10-27T20:04:52.404357",
     "status": "completed"
    },
    "tags": []
   },
   "outputs": [],
   "source": [
    "plt.figure(dpi=90)\n",
    "ax = sns.distplot(y, kde=False, norm_hist=True)\n",
    "ax = sns.kdeplot(X_train.Zipcode, color='r', ax=ax)\n",
    "ax.set_xlabel(\"Rating\")\n",
    "ax.legend(labels=['Zipcode', 'Rating']);"
   ]
  },
  {
   "cell_type": "markdown",
   "id": "69fa2d26",
   "metadata": {
    "id": "69fa2d26",
    "papermill": {
     "duration": 0.011104,
     "end_time": "2021-10-27T20:04:56.867210",
     "exception": false,
     "start_time": "2021-10-27T20:04:56.856106",
     "status": "completed"
    },
    "tags": []
   },
   "source": [
    "Kodlanmış `Zipcode` özelliğinin dağılımı, gerçek derecelendirmelerin dağılımını kabaca takip eder; bu, film izleyicilerinin derecelendirmelerinde posta kodundan posta koduna yeterince farklı olduğu ve hedef kodlamamızın yararlı bilgileri yakalayabildiği anlamına gelir.\n"
   ]
  },
  {
   "cell_type": "code",
   "execution_count": null,
   "id": "QJT21PL5Fbr2",
   "metadata": {
    "id": "QJT21PL5Fbr2"
   },
   "outputs": [],
   "source": []
  }
 ],
 "metadata": {
  "colab": {
   "collapsed_sections": [],
   "name": "Feature Engineering-5-target-encoding.ipynb",
   "provenance": []
  },
  "jupytext": {
   "cell_metadata_filter": "-all",
   "formats": "ipynb"
  },
  "kernelspec": {
   "display_name": "Python 3",
   "language": "python",
   "name": "python3"
  },
  "language_info": {
   "codemirror_mode": {
    "name": "ipython",
    "version": 3
   },
   "file_extension": ".py",
   "mimetype": "text/x-python",
   "name": "python",
   "nbconvert_exporter": "python",
   "pygments_lexer": "ipython3",
   "version": "3.8.10"
  },
  "papermill": {
   "default_parameters": {},
   "duration": 22.598443,
   "end_time": "2021-10-27T20:04:57.792326",
   "environment_variables": {},
   "exception": null,
   "input_path": "__notebook__.ipynb",
   "output_path": "__notebook__.ipynb",
   "parameters": {},
   "start_time": "2021-10-27T20:04:35.193883",
   "version": "2.3.3"
  }
 },
 "nbformat": 4,
 "nbformat_minor": 5
}
