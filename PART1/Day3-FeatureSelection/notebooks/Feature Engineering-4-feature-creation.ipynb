{
  "cells": [
    {
      "cell_type": "code",
      "source": [
        "#from google.colab import drive\n",
        "#drive.mount('/content/drive')"
      ],
      "metadata": {
        "id": "-y6WqiYVx30X"
      },
      "id": "-y6WqiYVx30X",
      "execution_count": null,
      "outputs": []
    },
    {
      "cell_type": "code",
      "source": [
        "#ROOT_DIR = \"/content/drive/MyDrive/CASGEM-Egitim/Egitim-Part1/Day3-FeatureSelection/notebooks\"\n",
        "ROOT_DIR = \"https://media.githubusercontent.com/media/yapay-ogrenme/casgem-eu-project-training-on-data-mining-2nd/main/PART1/Day3-FeatureSelection/notebooks\"\n",
        "DATASET_PATH = ROOT_DIR + \"/datasets/\""
      ],
      "metadata": {
        "id": "mSRJdAftx5HP"
      },
      "id": "mSRJdAftx5HP",
      "execution_count": null,
      "outputs": []
    },
    {
      "cell_type": "markdown",
      "id": "d741488a",
      "metadata": {
        "papermill": {
          "duration": 0.019763,
          "end_time": "2021-10-27T20:04:26.808708",
          "exception": false,
          "start_time": "2021-10-27T20:04:26.788945",
          "status": "completed"
        },
        "tags": [],
        "id": "d741488a"
      },
      "source": [
        "# GİRİŞ #\n",
        "\n",
        "Bir miktar potansiyele sahip bir dizi özellik belirledikten sonra, bunları geliştirmeye başlamanın zamanı geldi. Bu derste, tamamen Pandas ile yapabileceğiniz bir dizi yaygın dönüşümü öğreneceksiniz.\n",
        "\n",
        "Bu derste çeşitli özellik türlerine sahip dört veri kümesi kullanacağız: \n",
        "[US Traffic Accidents](https://www.kaggle.com/sobhanmoosavi/us-accidents),\n",
        "[1985 Automobiles](https://www.kaggle.com/toramky/automobile-dataset),\n",
        "[Beton Formülasyonları](https://www.kaggle.com/sinamhd9/concrete-comprehensive-strength) ve \n",
        "[Müşteri Yaşam Boyu Değeri](https://www.kaggle.com/pankajjsh06/ibm-watson-marketing-customer-value-data)"
      ]
    },
    {
      "cell_type": "code",
      "execution_count": null,
      "id": "0b328cb9",
      "metadata": {
        "_kg_hide-input": true,
        "execution": {
          "iopub.execute_input": "2021-10-27T20:04:26.845487Z",
          "iopub.status.busy": "2021-10-27T20:04:26.844281Z",
          "iopub.status.idle": "2021-10-27T20:04:28.697958Z",
          "shell.execute_reply": "2021-10-27T20:04:28.697200Z"
        },
        "papermill": {
          "duration": 1.872691,
          "end_time": "2021-10-27T20:04:28.698170",
          "exception": false,
          "start_time": "2021-10-27T20:04:26.825479",
          "status": "completed"
        },
        "tags": [],
        "id": "0b328cb9"
      },
      "outputs": [],
      "source": [
        "import matplotlib.pyplot as plt\n",
        "import numpy as np\n",
        "import pandas as pd\n",
        "import seaborn as sns\n",
        "\n",
        "plt.style.use(\"seaborn-whitegrid\")\n",
        "plt.rc(\"figure\", autolayout=True)\n",
        "plt.rc(\n",
        "    \"axes\",\n",
        "    labelweight=\"bold\",\n",
        "    labelsize=\"large\",\n",
        "    titleweight=\"bold\",\n",
        "    titlesize=14,\n",
        "    titlepad=10,\n",
        ")\n",
        "\n",
        "accidents = pd.read_csv(DATASET_PATH+\"accidents.csv\")\n",
        "autos = pd.read_csv(DATASET_PATH+\"autos.csv\")\n",
        "concrete = pd.read_csv(DATASET_PATH+\"concrete.csv\")\n",
        "customer = pd.read_csv(DATASET_PATH+\"customer.csv\")"
      ]
    },
    {
      "cell_type": "markdown",
      "id": "1e4885c0",
      "metadata": {
        "papermill": {
          "duration": 0.014991,
          "end_time": "2021-10-27T20:04:28.728696",
          "exception": false,
          "start_time": "2021-10-27T20:04:28.713705",
          "status": "completed"
        },
        "tags": [],
        "id": "1e4885c0"
      },
      "source": [
        "<blockquote style=\"margin-right:auto; margin-left:auto; background-color: #ebf9ff; padding: 1em; margin:24px;\">\n",
        "<strong>Yeni Özellikleri Keşfetmeye İlişkin İpuçları</strong>\n",
        "<ul>\n",
        "<li>Özellikleri anlayın. Varsa, veri kümenizin <em>veri belgelerine</em> bakın.\n",
        "<li> Alan bilgisi edinmek için <strong>problem alanını</strong> araştırın.Sorununuz ev fiyatlarını tahmin etmekse, örneğin biraz emlak araştırması yapın. \n",
        "Wikipedia iyi bir başlangıç noktası olabilir, ancak kitaplar ve  <a href=\"https://scholar.google.com/\"> dergi makaleleri </a>  genellikle en iyi bilgiye sahip olacaktır.\n",
        "\n",
        "\n",
        "<li>Veri görselleştirmeyi kullanın. Görselleştirme, bir özelliğin dağılımındaki patolojileri veya basitleştirilebilecek karmaşık ilişkileri ortaya çıkarabilir. Özellik mühendisliği sürecinde çalışırken veri kümenizi görselleştirdiğinizden emin olun.\n",
        "<ul>\n",
        "</blockquote>\n",
        "\n",
        "# Matematiksel Dönüşümler #\n",
        "\n",
        "Sayısal özellikler arasındaki ilişkiler, genellikle, alan araştırmanızın bir parçası olarak sıklıkla karşılaşacağınız matematiksel formüllerle ifade edilir. Pandas'da, sütunlara tıpkı sıradan sayılarmış gibi aritmetik işlemler uygulayabilirsiniz.\n",
        "\n",
        "*Automobile* veri kümesinde bir otomobilin motorunu tanımlayan özellikler bulunur. Araştırma, potansiyel olarak yararlı yeni özellikler oluşturmak için çeşitli formüller sağlar. Örneğin strok oranı (\"stroke ratio\"), bir motorun ne kadar verimli olduğuna karşı ne kadar performans gösterdiğinin bir ölçüsüdür:\n"
      ]
    },
    {
      "cell_type": "code",
      "execution_count": null,
      "id": "b2b4c59c",
      "metadata": {
        "execution": {
          "iopub.execute_input": "2021-10-27T20:04:28.762761Z",
          "iopub.status.busy": "2021-10-27T20:04:28.761725Z",
          "iopub.status.idle": "2021-10-27T20:04:28.790734Z",
          "shell.execute_reply": "2021-10-27T20:04:28.791268Z"
        },
        "papermill": {
          "duration": 0.04766,
          "end_time": "2021-10-27T20:04:28.791442",
          "exception": false,
          "start_time": "2021-10-27T20:04:28.743782",
          "status": "completed"
        },
        "tags": [],
        "id": "b2b4c59c"
      },
      "outputs": [],
      "source": [
        "autos[\"stroke_ratio\"] = autos.stroke / autos.bore\n",
        "\n",
        "autos[[\"stroke\", \"bore\", \"stroke_ratio\"]].head()"
      ]
    },
    {
      "cell_type": "markdown",
      "id": "f6c95276",
      "metadata": {
        "papermill": {
          "duration": 0.015515,
          "end_time": "2021-10-27T20:04:28.823340",
          "exception": false,
          "start_time": "2021-10-27T20:04:28.807825",
          "status": "completed"
        },
        "tags": [],
        "id": "f6c95276"
      },
      "source": [
        "Bir kombinasyon ne kadar karmaşıksa, bir motorun gücünün bir ölçüsü olan bu yer değiştirme (\"displacement\") formülü gibi bir modelin öğrenmesi o kadar zor olacaktır:\n"
      ]
    },
    {
      "cell_type": "code",
      "execution_count": null,
      "id": "d8f95c21",
      "metadata": {
        "execution": {
          "iopub.execute_input": "2021-10-27T20:04:28.858988Z",
          "iopub.status.busy": "2021-10-27T20:04:28.857973Z",
          "iopub.status.idle": "2021-10-27T20:04:28.863865Z",
          "shell.execute_reply": "2021-10-27T20:04:28.864500Z"
        },
        "papermill": {
          "duration": 0.025485,
          "end_time": "2021-10-27T20:04:28.864668",
          "exception": false,
          "start_time": "2021-10-27T20:04:28.839183",
          "status": "completed"
        },
        "tags": [],
        "id": "d8f95c21"
      },
      "outputs": [],
      "source": [
        "autos[\"displacement\"] = (\n",
        "    np.pi * ((0.5 * autos.bore) ** 2) * autos.stroke * autos.num_of_cylinders\n",
        ")"
      ]
    },
    {
      "cell_type": "code",
      "source": [
        "autos"
      ],
      "metadata": {
        "id": "71BouHA1iOzt"
      },
      "id": "71BouHA1iOzt",
      "execution_count": null,
      "outputs": []
    },
    {
      "cell_type": "markdown",
      "id": "bc086f32",
      "metadata": {
        "papermill": {
          "duration": 0.015651,
          "end_time": "2021-10-27T20:04:28.896284",
          "exception": false,
          "start_time": "2021-10-27T20:04:28.880633",
          "status": "completed"
        },
        "tags": [],
        "id": "bc086f32"
      },
      "source": [
        "Veri görselleştirme, genellikle bir özelliğin güçler veya logaritmalar aracılığıyla \"yeniden şekillendirilmesi\" olan dönüşümler önerebilir. Örneğin, ABD Kazalarında (*US Accidents*) Rüzgar Hızı'nın (`WindSpeed`) dağılımı oldukça çarpıktır. Bu durumda logaritma onu normalleştirmede etkilidir:\n"
      ]
    },
    {
      "cell_type": "code",
      "execution_count": null,
      "id": "953dad98",
      "metadata": {
        "execution": {
          "iopub.execute_input": "2021-10-27T20:04:28.932177Z",
          "iopub.status.busy": "2021-10-27T20:04:28.931149Z",
          "iopub.status.idle": "2021-10-27T20:04:30.543612Z",
          "shell.execute_reply": "2021-10-27T20:04:30.544137Z"
        },
        "papermill": {
          "duration": 1.632086,
          "end_time": "2021-10-27T20:04:30.544331",
          "exception": false,
          "start_time": "2021-10-27T20:04:28.912245",
          "status": "completed"
        },
        "tags": [],
        "id": "953dad98"
      },
      "outputs": [],
      "source": [
        "# If the feature has 0.0 values, use np.log1p (log(1+x)) instead of np.log\n",
        "accidents[\"LogWindSpeed\"] = accidents.WindSpeed.apply(np.log1p)\n",
        "\n",
        "# Plot a comparison\n",
        "fig, axs = plt.subplots(1, 2, figsize=(8, 4))\n",
        "sns.kdeplot(accidents.WindSpeed, shade=True, ax=axs[0])\n",
        "sns.kdeplot(accidents.LogWindSpeed, shade=True, ax=axs[1]);"
      ]
    },
    {
      "cell_type": "markdown",
      "id": "49fc0880",
      "metadata": {
        "papermill": {
          "duration": 0.018447,
          "end_time": "2021-10-27T20:04:30.785177",
          "exception": false,
          "start_time": "2021-10-27T20:04:30.766730",
          "status": "completed"
        },
        "tags": [],
        "id": "49fc0880"
      },
      "source": [
        "# Özellikleri Oluşturma ve Bozma #\n",
        "\n",
        "Genellikle daha basit parçalara faydalı bir şekilde bölünebilecek karmaşık dizelere sahip olursunuz. Bazı yaygın örnekler:\n",
        "\n",
        "- Kimlik numaraları: ''123-45-6789''\n",
        "- Telefon numaraları: `'(999) 555-0123''\n",
        "- Sokak adresleri: `'8241 Kaggle Ln., Goose City, NV''\n",
        "- İnternet adresleri: `'http://www.kaggle.com'\n",
        "- Ürün kodları: `'0 36000 29145 2''\n",
        "- Tarihler ve saatler: `'Pts 30 Eylül 07:06:05 2013''\n",
        "\n",
        "Bunun gibi özellikler genellikle kullanabileceğiniz bir tür yapıya sahip olmalıdır. Örneğin ABD telefon numaralarında, size arayanın yerini söyleyen bir alan kodu (`'(999)'` kısmı) bulunur. \n",
        "\n",
        "`str` erişimcisi, `split` gibi string yöntemlerini doğrudan sütunlara uygulamanıza izin verir. *Müşteri Yaşam Boyu Değeri* (*Customer Lifetime Value*) veri seti, bir sigorta şirketinin müşterilerini tanımlayan özellikleri içerir. `Policy` özelliğinden, `Type`ı `Level`dan ayırabiliriz:\n"
      ]
    },
    {
      "cell_type": "code",
      "execution_count": null,
      "id": "6edac453",
      "metadata": {
        "execution": {
          "iopub.execute_input": "2021-10-27T20:04:30.825619Z",
          "iopub.status.busy": "2021-10-27T20:04:30.824967Z",
          "iopub.status.idle": "2021-10-27T20:04:30.857828Z",
          "shell.execute_reply": "2021-10-27T20:04:30.858326Z"
        },
        "papermill": {
          "duration": 0.054747,
          "end_time": "2021-10-27T20:04:30.858504",
          "exception": false,
          "start_time": "2021-10-27T20:04:30.803757",
          "status": "completed"
        },
        "tags": [],
        "id": "6edac453"
      },
      "outputs": [],
      "source": [
        "customer[[\"Type\", \"Level\"]] = (  # Create two new features\n",
        "    customer[\"Policy\"]           # from the Policy feature\n",
        "    .str                         # through the string accessor\n",
        "    .split(\" \", expand=True)     # by splitting on \" \"\n",
        "                                 # and expanding the result into separate columns\n",
        ")\n",
        "\n",
        "customer[[\"Policy\", \"Type\", \"Level\"]].head(10)"
      ]
    },
    {
      "cell_type": "markdown",
      "id": "61a59628",
      "metadata": {
        "papermill": {
          "duration": 0.019045,
          "end_time": "2021-10-27T20:04:30.897423",
          "exception": false,
          "start_time": "2021-10-27T20:04:30.878378",
          "status": "completed"
        },
        "tags": [],
        "id": "61a59628"
      },
      "source": [
        "Kombinasyonda bir etkileşim olduğuna inanmak için nedeniniz varsa, basit özellikleri oluşturulmuş bir özellikte de birleştirebilirsiniz:"
      ]
    },
    {
      "cell_type": "code",
      "execution_count": null,
      "id": "0909b4e0",
      "metadata": {
        "execution": {
          "iopub.execute_input": "2021-10-27T20:04:30.938947Z",
          "iopub.status.busy": "2021-10-27T20:04:30.938296Z",
          "iopub.status.idle": "2021-10-27T20:04:30.949554Z",
          "shell.execute_reply": "2021-10-27T20:04:30.950171Z"
        },
        "papermill": {
          "duration": 0.033696,
          "end_time": "2021-10-27T20:04:30.950338",
          "exception": false,
          "start_time": "2021-10-27T20:04:30.916642",
          "status": "completed"
        },
        "tags": [],
        "id": "0909b4e0"
      },
      "outputs": [],
      "source": [
        "autos[\"make_and_style\"] = autos[\"make\"] + \"_\" + autos[\"body_style\"]\n",
        "autos[[\"make\", \"body_style\", \"make_and_style\"]].head()"
      ]
    },
    {
      "cell_type": "markdown",
      "id": "20b236f0",
      "metadata": {
        "papermill": {
          "duration": 0.019505,
          "end_time": "2021-10-27T20:04:31.029658",
          "exception": false,
          "start_time": "2021-10-27T20:04:31.010153",
          "status": "completed"
        },
        "tags": [],
        "id": "20b236f0"
      },
      "source": [
        "# Grup Dönüşümleri #\n",
        "\n",
        "Son olarak, bazı kategorilere göre gruplandırılmış birden çok satırda bilgi toplayan **Grup dönüşümleri** var. Grup dönüşümüyle, \"kişinin ikamet ettiği eyaletin ortalama geliri\" veya \"türe göre hafta içi vizyona giren filmlerin oranı\" gibi özellikler oluşturabilirsiniz. Bir kategori etkileşimi keşfettiyseniz, bu kategori üzerinde bir grup dönüşümü araştırmak için iyi bir şey olabilir.\n",
        "\n",
        "Bir toplama işlevi (aggregation function) kullanan bir grup dönüşümü, iki özelliği birleştirir: gruplamayı sağlayan kategorik bir özellik ve değerlerini toplamak istediğiniz başka bir özellik. \"Devlete göre ortalama gelir\" için, gruplama özelliği için \"Devlet\"i (`State`), toplama işlevi için \"ortalama\"yı (`mean`) ve toplu özellik için \"Gelir\"i (`Income`) seçersiniz. Bunu Pandalarda hesaplamak için `groupby` ve `transform` yöntemlerini kullanırız:\n",
        "\n"
      ]
    },
    {
      "cell_type": "code",
      "execution_count": null,
      "id": "3254b4ed",
      "metadata": {
        "execution": {
          "iopub.execute_input": "2021-10-27T20:04:31.073180Z",
          "iopub.status.busy": "2021-10-27T20:04:31.072469Z",
          "iopub.status.idle": "2021-10-27T20:04:31.089321Z",
          "shell.execute_reply": "2021-10-27T20:04:31.089950Z"
        },
        "papermill": {
          "duration": 0.040441,
          "end_time": "2021-10-27T20:04:31.090164",
          "exception": false,
          "start_time": "2021-10-27T20:04:31.049723",
          "status": "completed"
        },
        "tags": [],
        "id": "3254b4ed"
      },
      "outputs": [],
      "source": [
        "customer[\"AverageIncome\"] = (\n",
        "    customer.groupby(\"State\")  # for each state\n",
        "    [\"Income\"]                 # select the income\n",
        "    .transform(\"mean\")         # and compute its mean\n",
        ")\n",
        "\n",
        "customer[[\"State\", \"Income\", \"AverageIncome\"]].head(10)"
      ]
    },
    {
      "cell_type": "markdown",
      "id": "93cf8c8d",
      "metadata": {
        "papermill": {
          "duration": 0.020185,
          "end_time": "2021-10-27T20:04:31.130882",
          "exception": false,
          "start_time": "2021-10-27T20:04:31.110697",
          "status": "completed"
        },
        "tags": [],
        "id": "93cf8c8d"
      },
      "source": [
        "`mean` işlevi, yerleşik bir data frame yöntemidir; bu, onu \"dönüştürmek\" (`transform`) için bir string olarak iletebileceğimiz anlamına gelir. Diğer kullanışlı yöntemler arasında `max`, `min`, `median`, `var`, `std`, ve `count` bulunur. Veri kümesinde her bir durumun meydana gelme sıklığını şu şekilde hesaplayabilirsiniz:\n",
        "\n"
      ]
    },
    {
      "cell_type": "code",
      "execution_count": null,
      "id": "cbaae3aa",
      "metadata": {
        "execution": {
          "iopub.execute_input": "2021-10-27T20:04:31.175398Z",
          "iopub.status.busy": "2021-10-27T20:04:31.174739Z",
          "iopub.status.idle": "2021-10-27T20:04:31.190539Z",
          "shell.execute_reply": "2021-10-27T20:04:31.191173Z"
        },
        "lines_to_next_cell": 0,
        "papermill": {
          "duration": 0.039908,
          "end_time": "2021-10-27T20:04:31.191348",
          "exception": false,
          "start_time": "2021-10-27T20:04:31.151440",
          "status": "completed"
        },
        "tags": [],
        "id": "cbaae3aa"
      },
      "outputs": [],
      "source": [
        "customer[\"StateFreq\"] = (\n",
        "    customer.groupby(\"State\")\n",
        "    [\"State\"]\n",
        "    .transform(\"count\")\n",
        "    / customer.State.count()\n",
        ")\n",
        "\n",
        "customer[[\"State\", \"StateFreq\"]].head(10)"
      ]
    },
    {
      "cell_type": "markdown",
      "id": "9a4ea3a1",
      "metadata": {
        "papermill": {
          "duration": 0.020944,
          "end_time": "2021-10-27T20:04:31.233243",
          "exception": false,
          "start_time": "2021-10-27T20:04:31.212299",
          "status": "completed"
        },
        "tags": [],
        "id": "9a4ea3a1"
      },
      "source": [
        "Kategorik bir özellik için bir \"frekans kodlaması\" oluşturmak için bunun gibi bir dönüşüm kullanabilirsiniz.\n",
        "\n",
        "Eğitim ve doğrulama (validation) bölmelerini kullanıyorsanız, bağımsızlıklarını korumak için yalnızca eğitim kümesini kullanarak gruplandırılmış bir özellik oluşturmak ve ardından bunu doğrulama kümesine katılmak en iyisidir. Eğitim setinde `drop_duplicates` ile benzersiz bir değer kümesi oluşturduktan sonra doğrulama kümesinin `merge` yöntemini kullanabiliriz:\n",
        "\n"
      ]
    },
    {
      "cell_type": "code",
      "execution_count": null,
      "id": "32a62832",
      "metadata": {
        "execution": {
          "iopub.execute_input": "2021-10-27T20:04:31.282967Z",
          "iopub.status.busy": "2021-10-27T20:04:31.278078Z",
          "iopub.status.idle": "2021-10-27T20:04:31.317365Z",
          "shell.execute_reply": "2021-10-27T20:04:31.317827Z"
        },
        "papermill": {
          "duration": 0.063529,
          "end_time": "2021-10-27T20:04:31.318002",
          "exception": false,
          "start_time": "2021-10-27T20:04:31.254473",
          "status": "completed"
        },
        "tags": [],
        "id": "32a62832"
      },
      "outputs": [],
      "source": [
        "# Create splits\n",
        "df_train = customer.sample(frac=0.5)\n",
        "df_valid = customer.drop(df_train.index)\n",
        "\n",
        "# Create the average claim amount by coverage type, on the training set\n",
        "df_train[\"AverageClaim\"] = df_train.groupby(\"Coverage\")[\"ClaimAmount\"].transform(\"mean\")\n",
        "\n",
        "# Merge the values into the validation set\n",
        "df_valid = df_valid.merge(\n",
        "    df_train[[\"Coverage\", \"AverageClaim\"]].drop_duplicates(),\n",
        "    on=\"Coverage\",\n",
        "    how=\"left\",\n",
        ")\n",
        "\n",
        "df_valid[[\"Coverage\", \"AverageClaim\"]].head(10)"
      ]
    },
    {
      "cell_type": "markdown",
      "id": "cc3485ec",
      "metadata": {
        "papermill": {
          "duration": 0.021206,
          "end_time": "2021-10-27T20:04:31.360861",
          "exception": false,
          "start_time": "2021-10-27T20:04:31.339655",
          "status": "completed"
        },
        "tags": [],
        "id": "cc3485ec"
      },
      "source": [
        "\n",
        "<strong>Özellik Oluşturma İpuçları</strong><br>\n",
        "Özellikler oluştururken modelinizin kendi güçlü ve zayıf yönlerini akılda tutmak iyidir. İşte bazı yönergeler:\n",
        "<ul>\n",
        "<li> Doğrusal modeller toplamları ve farklılıkları doğal olarak öğrenir, ancak daha karmaşık bir şey öğrenemez.\n",
        "<li> Oranları öğrenmek çoğu model için zor görünmektedir. Oran kombinasyonları genellikle bazı kolay performans kazanımlarına yol açar.\n",
        "<li> Doğrusal modeller ve sinir ağları genellikle normalleştirilmiş özelliklerle daha iyi sonuç verir. Sinir ağları, özellikle 0'dan çok uzak olmayan değerlere ölçeklenmiş özelliklere ihtiyaç duyar. Tree-based modeller (random forest and XGBoost gibi) bazen normalleştirmeden yararlanabilir, ancak genellikle çok daha az fayda sağlar.\n",
        "<li> Ağaç modelleri, hemen hemen her özellik kombinasyonunu yaklaşık olarak öğrenebilir, ancak bir kombinasyon özellikle önemli olduğunda, özellikle veriler sınırlı olduğunda, bunun açıkça oluşturulmasından faydalanabilirler.\n",
        "<li> Sayımlar (Counts), özellikle ağaç modelleri için yararlıdır, çünkü bu modeller, birçok özellik arasında aynı anda bilgi toplamanın doğal bir yoluna sahip değildir.\n"
      ]
    },
    {
      "cell_type": "code",
      "source": [
        ""
      ],
      "metadata": {
        "id": "I0N63D0jhMHY"
      },
      "id": "I0N63D0jhMHY",
      "execution_count": null,
      "outputs": []
    }
  ],
  "metadata": {
    "jupytext": {
      "cell_metadata_filter": "-all",
      "formats": "ipynb"
    },
    "kernelspec": {
      "display_name": "Python 3",
      "language": "python",
      "name": "python3"
    },
    "language_info": {
      "codemirror_mode": {
        "name": "ipython",
        "version": 3
      },
      "file_extension": ".py",
      "mimetype": "text/x-python",
      "name": "python",
      "nbconvert_exporter": "python",
      "pygments_lexer": "ipython3",
      "version": "3.7.10"
    },
    "papermill": {
      "default_parameters": {},
      "duration": 14.648838,
      "end_time": "2021-10-27T20:04:32.135307",
      "environment_variables": {},
      "exception": null,
      "input_path": "__notebook__.ipynb",
      "output_path": "__notebook__.ipynb",
      "parameters": {},
      "start_time": "2021-10-27T20:04:17.486469",
      "version": "2.3.3"
    },
    "colab": {
      "name": "Feature Engineering-4-feature-creation.ipynb",
      "provenance": [],
      "collapsed_sections": []
    }
  },
  "nbformat": 4,
  "nbformat_minor": 5
}