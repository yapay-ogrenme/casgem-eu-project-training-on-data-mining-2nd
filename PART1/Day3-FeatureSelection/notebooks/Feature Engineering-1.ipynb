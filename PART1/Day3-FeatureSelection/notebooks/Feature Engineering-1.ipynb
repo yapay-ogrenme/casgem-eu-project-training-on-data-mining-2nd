{
 "cells": [
  {
   "cell_type": "code",
   "execution_count": null,
   "id": "hNGeHFeeZeO2",
   "metadata": {
    "id": "hNGeHFeeZeO2"
   },
   "outputs": [],
   "source": [
    "#from google.colab import drive\n",
    "#drive.mount('/content/drive')"
   ]
  },
  {
   "cell_type": "code",
   "execution_count": null,
   "id": "6t-14wrNZfu7",
   "metadata": {
    "id": "6t-14wrNZfu7"
   },
   "outputs": [],
   "source": [
    "#!ls \"/content/drive/MyDrive/CASGEM-Egitim/Egitim-Part1/Day3-FeatureSelection/notebooks\""
   ]
  },
  {
   "cell_type": "code",
   "execution_count": null,
   "id": "rqOg8MyFZf3f",
   "metadata": {
    "id": "rqOg8MyFZf3f"
   },
   "outputs": [],
   "source": [
    "#ROOT_DIR = \"/content/drive/MyDrive/CASGEM-Egitim/Egitim-Part1/Day3-FeatureSelection/notebooks\"\n",
    "ROOT_DIR = \"https://media.githubusercontent.com/media/yapay-ogrenme/casgem-eu-project-training-on-data-mining/9f260a425106bda386031bb6880a635c6d522c96/PART1/Day3-FeatureSelection/notebooks\"\n",
    "DATASET_PATH = ROOT_DIR + \"/datasets/\""
   ]
  },
  {
   "cell_type": "markdown",
   "id": "7c30e516",
   "metadata": {
    "id": "7c30e516",
    "papermill": {
     "duration": 0.00616,
     "end_time": "2021-10-27T20:04:45.498379",
     "exception": false,
     "start_time": "2021-10-27T20:04:45.492219",
     "status": "completed"
    },
    "tags": []
   },
   "source": [
    "# Özellik Mühendisliği (Feature Engineering)\n",
    "\n",
    "Amaç, verilerinizi eldeki soruna daha uygun hale getirmektir.\n",
    "\n",
    "Isı indeksi ve rüzgar soğuğu gibi \"görünür sıcaklık\" ölçümlerini göz önünde bulundurun. Bu miktarlar, doğrudan ölçebileceğimiz şeyler olan hava sıcaklığı, nem ve rüzgar hızına dayalı olarak insanlara algılanan sıcaklığı ölçmeye çalışır. Görünür bir sıcaklığı bir tür özellik mühendisliğinin sonucu olarak düşünebilirsiniz, gözlemlenen verileri bizim gerçekten önemsediğimiz şeyle daha alakalı hale getirme girişimi: \n",
    "\n",
    "Özellik mühendisliğini şu amaçlarla gerçekleştirebilirsiniz:\n",
    "\n",
    "* bir modelin tahmin performansını iyileştirmek\n",
    "* hesaplama veya veri ihtiyaçlarını azaltmak\n",
    "* sonuçların yorumlanabilirliğini geliştirmek\n",
    "\n",
    "\n",
    "## Özellik Mühendisliğinin Yol Gösterici İlkesi\n",
    "\n",
    "**Bir özelliğin kullanışlı olması için, modelinizin öğrenebildiği hedefle bir ilişkisi olmalıdır**. Örneğin, doğrusal modeller yalnızca doğrusal ilişkileri öğrenebilir. Bu nedenle, doğrusal bir model kullanırken amacınız, özellikleri hedefle olan ilişkilerini doğrusal hale getirmek için dönüştürmektir.\n",
    "\n",
    "Buradaki ana fikir, bir özelliğe uyguladığınız dönüşümün özünde modelin kendisinin bir parçası haline gelmesidir. Diyelim ki bir tarafın \"Uzunluğundan (Length)\" kare arsaların \"Fiyatını(Price)\" tahmin etmeye çalışıyordunuz. Doğrusal bir modeli doğrudan \"Uzunluk\"a sığdırmak kötü sonuçlar verir: ilişki doğrusal değildir.\n",
    "\n",
    "<figure style=\"padding: 1em;\">\n",
    "<img src=\"https://i.imgur.com/5D1z24N.png\" width=300, alt=\"A scatterplot of Length along the x-axis and Price along the y-axis, the points increasing in a curve, with a poorly-fitting line superimposed.\">\n",
    "<figcaption style=\"textalign: center; font-style: italic\"><center>Doğrusal bir model, özellik olarak yalnızca `Uzunluk` ile yetersiz uyum sağlar.\n",
    "</center></figcaption>\n",
    "</figure>\n",
    "\n",
    "Ancak, 'Alan' elde etmek için 'Uzunluk' özelliğinin karesini alırsak, doğrusal bir ilişki yaratırız. Özellik kümesine \"Alan\" eklenmesi, bu doğrusal modelin artık bir parabole sığabileceği anlamına gelir. Diğer bir deyişle, bir özelliğin karesini almak, doğrusal modele karesi alınmış özellikleri sığdırma yeteneği verdi.\n",
    "\n",
    "<figure style=\"padding: 1em;\">\n",
    "<img src=\"https://i.imgur.com/BLRsYOK.png\" width=600, alt=\"Left: Area now on the x-axis. The points increasing in a linear shape, with a well-fitting line superimposed. Right: Length on the x-axis now. The points increase in a curve as before, and a well-fitting curve is superimposed.\">\n",
    "<figcaption style=\"textalign: center; font-style: italic\"><center><strong>Sol:</strong> Alana uyum çok daha iyi. <strong>Sağ:</strong> Bu da Uzunluğa uyumu daha iyi hale getirir.\n",
    "</center></figcaption>\n",
    "</figure>\n",
    "\n",
    "Bu size, özellik mühendisliğine yatırım yapıldığında neden bu kadar yüksek bir zaman getirisi olabileceğini göstermelidir. Modelinizin öğrenemediği ilişkiler ne olursa olsun, dönüşümler yoluyla kendinize sağlayabilirsiniz. Özellik setinizi geliştirirken, modelinizin en iyi performansı elde etmek için hangi bilgileri kullanabileceğini düşünün."
   ]
  },
  {
   "cell_type": "markdown",
   "id": "cb8d6177",
   "metadata": {
    "id": "cb8d6177",
    "papermill": {
     "duration": 0.006188,
     "end_time": "2021-10-27T20:04:45.511046",
     "exception": false,
     "start_time": "2021-10-27T20:04:45.504858",
     "status": "completed"
    },
    "tags": []
   },
   "source": [
    "# Örnek - Beton Formülasyonları #\n",
    "\n",
    "Bir veri kümesine birkaç sentetik özellik eklemenin, random forest modelinin tahmin performansını nasıl iyileştirebileceğini göreceğiz.\n",
    "\n",
    "[*Concrete*](https://www.kaggle.com/sinamhd9/concrete-comprehensive-strength) veri kümesi, çeşitli beton formülasyonlarını ve ortaya çıkan ürünün, ne kadar yüke dayandığının bir ölçüsü olan *compressive strength(basınç dayanımını)* içerir. Bu bir tür beton dayanıklılığıdır. Bu veri setinin görevi, formülü verilen betonun basınç dayanımını tahmin etmektir."
   ]
  },
  {
   "cell_type": "code",
   "execution_count": null,
   "id": "a621a201",
   "metadata": {
    "id": "a621a201",
    "papermill": {
     "duration": 1.374825,
     "end_time": "2021-10-27T20:04:46.892244",
     "exception": false,
     "start_time": "2021-10-27T20:04:45.517419",
     "status": "completed"
    },
    "tags": []
   },
   "outputs": [],
   "source": [
    "import pandas as pd\n",
    "from sklearn.ensemble import RandomForestRegressor\n",
    "from sklearn.model_selection import cross_val_score\n",
    "\n",
    "import warnings\n",
    "warnings.filterwarnings('ignore')\n",
    "\n",
    "df = pd.read_csv(DATASET_PATH+\"concrete.csv\")\n",
    "df.head()"
   ]
  },
  {
   "cell_type": "markdown",
   "id": "ed97f851",
   "metadata": {
    "id": "ed97f851",
    "papermill": {
     "duration": 0.006873,
     "end_time": "2021-10-27T20:04:46.906816",
     "exception": false,
     "start_time": "2021-10-27T20:04:46.899943",
     "status": "completed"
    },
    "tags": []
   },
   "source": [
    "Burada, her bir beton çeşidine giren çeşitli malzemeleri görebilirsiniz. Bunlardan türetilen bazı ek sentetik özelliklerin eklenmesinin, bir modelin aralarındaki önemli ilişkileri öğrenmesine nasıl yardımcı olabileceğini birazdan göreceğiz.\n",
    "\n",
    "İlk önce modeli artırılmamış veri kümesi üzerinde eğiterek bir temel oluşturacağız. Bu, yeni özelliklerimizin gerçekten yararlı olup olmadığını belirlememize yardımcı olacaktır.\n",
    "\n",
    "Bunun gibi temeller oluşturmak, özellik mühendisliği sürecinin başlangıcında iyi bir uygulamadır. Temel puan, yeni özelliklerinizin korunmaya değer olup olmadığına veya bunları atıp muhtemelen başka bir şey denemeniz gerekip gerekmediğine karar vermenize yardımcı olabilir."
   ]
  },
  {
   "cell_type": "code",
   "execution_count": null,
   "id": "5f060d82",
   "metadata": {
    "id": "5f060d82",
    "papermill": {
     "duration": 11.834593,
     "end_time": "2021-10-27T20:04:58.748951",
     "exception": false,
     "start_time": "2021-10-27T20:04:46.914358",
     "status": "completed"
    },
    "tags": []
   },
   "outputs": [],
   "source": [
    "X = df.copy()\n",
    "y = X.pop(\"CompressiveStrength\")\n",
    "\n",
    "# Train and score baseline model\n",
    "baseline = RandomForestRegressor(criterion=\"mae\", random_state=0)\n",
    "baseline_score = cross_val_score(\n",
    "    baseline, X, y, cv=5, scoring=\"neg_mean_absolute_error\"\n",
    ")\n",
    "baseline_score = -1 * baseline_score.mean()\n",
    "\n",
    "print(f\"MAE Baseline Score: {baseline_score:.4}\")"
   ]
  },
  {
   "cell_type": "markdown",
   "id": "929f41d0",
   "metadata": {
    "id": "929f41d0",
    "papermill": {
     "duration": 0.007378,
     "end_time": "2021-10-27T20:04:58.764136",
     "exception": false,
     "start_time": "2021-10-27T20:04:58.756758",
     "status": "completed"
    },
    "tags": []
   },
   "source": [
    "Evde yemek pişirirseniz, bir tarifteki malzemelerin *oranının(ratio)* genellikle tarifin nasıl sonuçlanacağı konusunda mutlak miktarlarından daha iyi bir tahmin edici olduğunu biliyor olabilirsiniz. O halde yukarıdaki özelliklerin oranlarının 'Basınç Dayanımı(CompressiveStrength)' için iyi bir tahmin edici olacağını düşünebiliriz.\n",
    "\n",
    "Veri kümesine üç yeni oran özellik ekleyelim"
   ]
  },
  {
   "cell_type": "code",
   "execution_count": null,
   "id": "a112016c",
   "metadata": {
    "id": "a112016c",
    "papermill": {
     "duration": 16.426291,
     "end_time": "2021-10-27T20:05:15.198113",
     "exception": false,
     "start_time": "2021-10-27T20:04:58.771822",
     "status": "completed"
    },
    "tags": []
   },
   "outputs": [],
   "source": [
    "X = df.copy()\n",
    "y = X.pop(\"CompressiveStrength\")\n",
    "\n",
    "# Create synthetic features\n",
    "X[\"FCRatio\"] = X[\"FineAggregate\"] / X[\"CoarseAggregate\"]\n",
    "X[\"AggCmtRatio\"] = (X[\"CoarseAggregate\"] + X[\"FineAggregate\"]) / X[\"Cement\"]\n",
    "X[\"WtrCmtRatio\"] = X[\"Water\"] / X[\"Cement\"]\n",
    "\n",
    "X"
   ]
  },
  {
   "cell_type": "code",
   "execution_count": null,
   "id": "J4L5zmVLo3N0",
   "metadata": {
    "id": "J4L5zmVLo3N0"
   },
   "outputs": [],
   "source": [
    "# Train and score model on dataset with additional ratio features\n",
    "model = RandomForestRegressor(criterion=\"mae\", random_state=0)\n",
    "score = cross_val_score(\n",
    "    model, X, y, cv=5, scoring=\"neg_mean_absolute_error\"\n",
    ")\n",
    "score = -1 * score.mean()\n",
    "\n",
    "print(f\"MAE Score with Ratio Features: {score:.4}\")"
   ]
  },
  {
   "cell_type": "markdown",
   "id": "2e08c615",
   "metadata": {
    "id": "2e08c615",
    "papermill": {
     "duration": 0.00789,
     "end_time": "2021-10-27T20:05:15.214266",
     "exception": false,
     "start_time": "2021-10-27T20:05:15.206376",
     "status": "completed"
    },
    "tags": []
   },
   "source": [
    "Ve elbette, performans arttı! Bu, bu yeni oran özelliklerinin, modele daha önce tespit etmediği önemli bilgileri gösterdiğinin kanıtıdır.\n"
   ]
  }
 ],
 "metadata": {
  "colab": {
   "collapsed_sections": [],
   "name": "Feature Engineering-1.ipynb",
   "provenance": []
  },
  "jupytext": {
   "cell_metadata_filter": "-all",
   "formats": "ipynb"
  },
  "kernelspec": {
   "display_name": "Python 3",
   "language": "python",
   "name": "python3"
  },
  "language_info": {
   "codemirror_mode": {
    "name": "ipython",
    "version": 3
   },
   "file_extension": ".py",
   "mimetype": "text/x-python",
   "name": "python",
   "nbconvert_exporter": "python",
   "pygments_lexer": "ipython3",
   "version": "3.8.10"
  },
  "papermill": {
   "default_parameters": {},
   "duration": 40.376906,
   "end_time": "2021-10-27T20:05:15.933452",
   "environment_variables": {},
   "exception": null,
   "input_path": "__notebook__.ipynb",
   "output_path": "__notebook__.ipynb",
   "parameters": {},
   "start_time": "2021-10-27T20:04:35.556546",
   "version": "2.3.3"
  }
 },
 "nbformat": 4,
 "nbformat_minor": 5
}
