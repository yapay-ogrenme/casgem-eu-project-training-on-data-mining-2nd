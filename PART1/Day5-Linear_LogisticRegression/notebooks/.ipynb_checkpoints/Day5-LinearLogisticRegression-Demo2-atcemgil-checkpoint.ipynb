{
 "cells": [
  {
   "cell_type": "markdown",
   "metadata": {
    "id": "pjK6T16bvrer"
   },
   "source": [
    "Orjinal kaynak: **[Boğaz'da Yapay Öğrenme İsmail Arı Yaz Okulu 2018](http://byoyo.cmpe.boun.edu.tr/) - Yapay Öğrenmeye Giriş I - *Ali Taylan Cemgil***\n",
    "\n",
    "https://github.com/atcemgil/notes\n"
   ]
  },
  {
   "cell_type": "markdown",
   "metadata": {
    "id": "_eZLpM1_wCbe"
   },
   "source": [
    "# Parametrik Regresyon, Parametrik Fonksiyon Oturtma Problemi (Parametric Regression, Function Fitting)\n",
    "\n",
    "\n",
    "Verilen girdi ve çıktı ikilileri $x, y$ için parametrik bir fonksyon $f$ oturtma problemi. \n",
    "\n",
    "Parametre $w$ değerlerini öyle bir seçelim ki \n",
    "$$\n",
    "y \\approx f(x; w)\n",
    "$$\n",
    "\n",
    "$x$: Girdi (Input)\n",
    "\n",
    "$y$: Çıktı (Output)\n",
    "\n",
    "$w$: Parametre (Weight, ağırlık)\n",
    "\n",
    "$e$: Hata\n",
    "\n",
    "Örnek 1: \n",
    "$$\n",
    "e = y - f(x)\n",
    "$$\n",
    "\n",
    "Örnek 2:\n",
    "$$\n",
    "e = \\frac{y}{f(x)}-1\n",
    "$$\n",
    "\n",
    "$E$, $D$: Hata fonksiyonu (Error function), Iraksay (Divergence)\n",
    "\n",
    "\n",
    "\n",
    "# Doğrusal Regresyon (Linear Regression)\n",
    "\n",
    "Oturtulacak $f$ fonksyonun **model parametreleri** $w$ cinsinden doğrusal olduğu durum (Girdiler $x$ cinsinden doğrusal olması gerekmez).  \n",
    "\n",
    "## Tanım: Doğrusallık\n",
    "Bir $g$ fonksiyonu doğrusaldır demek, herhangi skalar $a$ ve $b$ içn\n",
    "$$\n",
    "g(aw_1 + b w_2) = a g(w_1) + b g(w_2)\n",
    "$$\n",
    "olması demektir.\n",
    "\n",
    "\n",
    "\n",
    "\n"
   ]
  },
  {
   "cell_type": "markdown",
   "metadata": {
    "id": "gSSqKoGV1SnQ"
   },
   "source": [
    "# Parametrik Regresyon, Parametrik Fonksiyon Oturtma Problemi (Parametric Regression, Function Fitting)\n",
    "\n",
    "\n",
    "Verilen girdi ve çıktı ikilileri $x, y$ için parametrik bir fonksyon $f$ oturtma problemi. \n",
    "\n",
    "Parametre $w$ değerlerini öyle bir seçelim ki \n",
    "$$\n",
    "y \\approx f(x; w)\n",
    "$$\n",
    "\n",
    "$x$: Girdi (Input)\n",
    "\n",
    "$y$: Çıktı (Output)\n",
    "\n",
    "$w$: Parametre (Weight, ağırlık)\n",
    "\n",
    "$e$: Hata\n",
    "\n",
    "Örnek 1: \n",
    "$$\n",
    "e = y - f(x)\n",
    "$$\n",
    "\n",
    "Örnek 2:\n",
    "$$\n",
    "e = \\frac{y}{f(x)}-1\n",
    "$$\n",
    "\n",
    "$E$, $D$: Hata fonksiyonu (Error function), Iraksay (Divergence)\n",
    "\n",
    "\n",
    "\n",
    "# Doğrusal Regresyon (Linear Regression)\n",
    "\n",
    "Oturtulacak $f$ fonksyonun **model parametreleri** $w$ cinsinden doğrusal olduğu durum (Girdiler $x$ cinsinden doğrusal olması gerekmez).  \n",
    "\n",
    "## Tanım: Doğrusallık\n",
    "Bir $g$ fonksiyonu doğrusaldır demek, herhangi skalar $a$ ve $b$ içn\n",
    "$$\n",
    "g(aw_1 + b w_2) = a g(w_1) + b g(w_2)\n",
    "$$\n",
    "olması demektir.\n",
    "\n",
    "\n",
    "\n",
    "\n"
   ]
  },
  {
   "cell_type": "code",
   "execution_count": null,
   "metadata": {
    "id": "YBjB2jIfwINa"
   },
   "outputs": [],
   "source": [
    "import warnings\n",
    "warnings.filterwarnings(\"ignore\")\n",
    "\n",
    "%matplotlib inline\n",
    "import matplotlib.pyplot as plt\n",
    "import numpy as np\n",
    "\n",
    "from __future__ import print_function\n",
    "from ipywidgets import interact, interactive, fixed\n",
    "import ipywidgets as widgets\n",
    "\n",
    "import matplotlib.pylab as plt\n",
    "from IPython.display import clear_output, display, HTML\n",
    "\n",
    "x = np.array([8.0 , 6.1 , 11.,  7.,   9.,   12. , 4.,   2.,   10,    5,    3])\n",
    "y = np.array([6.04, 4.95, 5.58, 6.81, 6.33, 7.96, 5.24, 2.26, 8.84, 2.82, 3.68])\n",
    "\n",
    "def plot_fit(w1, w0):\n",
    "    f = w0 + w1*x\n",
    "\n",
    "    plt.figure(figsize=(4,3))\n",
    "    plt.plot(x,y,'sk')\n",
    "    plt.plot(x,f,'o-r')\n",
    "    #plt.axis('equal')\n",
    "    plt.xlim((0,15))\n",
    "    plt.ylim((0,10))\n",
    "    for i in range(len(x)):\n",
    "        plt.plot((x[i],x[i]),(f[i],y[i]),'b')\n",
    "#    plt.show()\n",
    "#    plt.figure(figsize=(4,1))\n",
    "    plt.bar(x,(f-y)**2/2)\n",
    "    plt.title('Toplam kare hata = '+str(np.sum((f-y)**2/2)))\n",
    "    plt.ylim((0,10))\n",
    "    plt.xlim((0,15))\n",
    "    plt.show()\n",
    "    \n",
    "plot_fit(0.0,3.79)"
   ]
  },
  {
   "cell_type": "code",
   "execution_count": null,
   "metadata": {
    "id": "JIcwCGyxzl2s"
   },
   "outputs": [],
   "source": [
    "interact(plot_fit, w1=(-2, 2, 0.01), w0=(-5, 5, 0.01));"
   ]
  },
  {
   "cell_type": "markdown",
   "metadata": {
    "id": "XxqXA7AHzvhc"
   },
   "source": [
    "**Rasgele Arama**"
   ]
  },
  {
   "cell_type": "code",
   "execution_count": null,
   "metadata": {
    "id": "WKI1nSPtztCF"
   },
   "outputs": [],
   "source": [
    "x = np.array([8.0 , 6.1 , 11.,  7.,   9.,   12. , 4.,   2.,   10,    5,    3])\n",
    "y = np.array([6.04, 4.95, 5.58, 6.81, 6.33, 7.96, 5.24, 2.26, 8.84, 2.82, 3.68])\n",
    "\n",
    "def hata(y, x, w):\n",
    "    N = len(y)\n",
    "    f = x*w[1]+w[0]\n",
    "    e = y-f\n",
    "    return np.sum(e*e)/2\n",
    "\n",
    "w = np.array([0, 0])\n",
    "E = hata(y, x, w)\n",
    "\n",
    "for e in range(1000):\n",
    "    g = 0.1*np.random.randn(2)   \n",
    "    w_temp = w + g\n",
    "    E_temp = hata(y, x, w_temp)\n",
    "    if E_temp<E:\n",
    "        E = E_temp\n",
    "        w = w_temp\n",
    "        #print(e, E)\n",
    "\n",
    "print(e, E)\n",
    "w"
   ]
  },
  {
   "cell_type": "markdown",
   "metadata": {
    "id": "jPZJ_O9xz_tJ"
   },
   "source": [
    "**Gerçek veri: Türkiyedeki araç sayıları**"
   ]
  },
  {
   "cell_type": "code",
   "execution_count": null,
   "metadata": {
    "id": "dGmtKhbUz80-"
   },
   "outputs": [],
   "source": [
    "%matplotlib inline\n",
    "\n",
    "import scipy as sc\n",
    "import numpy as np\n",
    "import pandas as pd\n",
    "import matplotlib as mpl\n",
    "import matplotlib.pylab as plt\n",
    "\n",
    "df_arac = pd.read_csv(u'https://github.com/atcemgil/notes/raw/master/data/arac.csv',sep=';')\n",
    "df_arac[['Year','Car']]\n",
    "#df_arac"
   ]
  },
  {
   "cell_type": "code",
   "execution_count": null,
   "metadata": {
    "id": "gIm-CbjX0HXH"
   },
   "outputs": [],
   "source": [
    "BaseYear = 1995\n",
    "x = np.matrix(df_arac.Year[0:]).T-BaseYear\n",
    "y = np.matrix(df_arac.Car[0:]).T/1000000.\n",
    "\n",
    "plt.plot(x+BaseYear, y, 'o-')\n",
    "plt.xlabel('Yil')\n",
    "plt.ylabel('Araba (Milyon)')\n",
    "\n",
    "plt.show()"
   ]
  },
  {
   "cell_type": "code",
   "execution_count": null,
   "metadata": {
    "id": "9NGpS50r0Jvz"
   },
   "outputs": [],
   "source": [
    "%matplotlib inline\n",
    "from __future__ import print_function\n",
    "from ipywidgets import interact, interactive, fixed\n",
    "import ipywidgets as widgets\n",
    "import matplotlib.pylab as plt\n",
    "from IPython.display import clear_output, display, HTML\n",
    "\n",
    "w_0 = 0.27150786\n",
    "w_1 = 0.37332256\n",
    "\n",
    "BaseYear = 1995\n",
    "x = np.matrix(df_arac.Year[0:]).T-BaseYear\n",
    "y = np.matrix(df_arac.Car[0:]).T/1000000.\n",
    "\n",
    "fig, ax = plt.subplots()\n",
    "\n",
    "f = w_1*x + w_0\n",
    "plt.plot(x+BaseYear, y, 'o-')\n",
    "ln, = plt.plot(x+BaseYear, f, 'r')\n",
    "\n",
    "plt.xlabel('Years')\n",
    "plt.ylabel('Number of Cars (Millions)')\n",
    "ax.set_ylim((-2,13))\n",
    "plt.close(fig)\n",
    "\n",
    "def set_line(w_1, w_0):\n",
    "    f = w_1*x + w_0\n",
    "    e = y - f\n",
    "\n",
    "    ln.set_ydata(f)\n",
    "    ax.set_title('Total Error = {} '.format(np.asscalar(e.T*e/2)))\n",
    "    display(fig)\n",
    "\n",
    "\n",
    "set_line(0.32,3)"
   ]
  },
  {
   "cell_type": "code",
   "execution_count": null,
   "metadata": {
    "id": "3hKGQEaF0NLV"
   },
   "outputs": [],
   "source": [
    "interact(set_line, w_1=(-2, 2, 0.01), w_0=(-5, 5, 0.01));"
   ]
  },
  {
   "cell_type": "markdown",
   "metadata": {
    "id": "zQspu6gBHkF3"
   },
   "source": [
    "Parabol"
   ]
  },
  {
   "cell_type": "code",
   "execution_count": null,
   "metadata": {
    "id": "eSrvnfq30O1N"
   },
   "outputs": [],
   "source": [
    "w_0 = 0.27150786\n",
    "w_1 = 0.37332256\n",
    "w_2 = 0.1\n",
    "\n",
    "BaseYear = 1995\n",
    "x = np.array(df_arac.Year[0:]).T-BaseYear\n",
    "y = np.array(df_arac.Car[0:]).T/1000000.\n",
    "\n",
    "fig, ax = plt.subplots()\n",
    "\n",
    "f = w_2*x**2 + w_1*x + w_0\n",
    "plt.plot(x+BaseYear, y, 'o-')\n",
    "ln, = plt.plot(x+BaseYear, f, 'r')\n",
    "\n",
    "plt.xlabel('Yıl')\n",
    "plt.ylabel('Araba Sayısı (Milyon)')\n",
    "ax.set_ylim((-2,13))\n",
    "plt.close(fig)\n",
    "\n",
    "def set_line(w_2, w_1, w_0):\n",
    "    f = w_2*x**2 + w_1*x + w_0\n",
    "    e = y - f\n",
    "    ln.set_ydata(f)\n",
    "    ax.set_title('Ortalama Kare Hata = {} '.format(np.sum(e*e/len(e))))\n",
    "    display(fig)\n",
    "\n",
    "set_line(w_2, w_1, w_0)"
   ]
  },
  {
   "cell_type": "code",
   "execution_count": null,
   "metadata": {
    "id": "87V1xkeP0QMg"
   },
   "outputs": [],
   "source": [
    "interact(set_line, w_2=(-0.1,0.1,0.001), w_1=(-2, 2, 0.01), w_0=(-5, 5, 0.01))"
   ]
  },
  {
   "cell_type": "markdown",
   "metadata": {
    "id": "wPO-9Z0A0UkW"
   },
   "source": [
    "## Örnek 1, devam: Modeli Öğrenmek\n",
    "\n",
    "* Öğrenmek: parametre kestirimi $w = [w_0, w_1]$\n",
    "\n",
    "* Genelde model veriyi hatasız açıklayamayacağı için her veri noktası için bir hata tanımlıyoruz:\n",
    "\n",
    "$$e_i = y_i - f(x_i; w)$$\n",
    "\n",
    "* Toplam kare hata \n",
    "\n",
    "$$\n",
    "E(w) = \\frac{1}{2} \\sum_i (y_i - f(x_i; w))^2 = \\frac{1}{2} \\sum_i e_i^2\n",
    "$$\n",
    "\n",
    "* Toplam kare hatayı $w_0$ ve $w_1$ parametrelerini değiştirerek azaltmaya çalışabiliriz.\n",
    "\n",
    "* Hata yüzeyi "
   ]
  },
  {
   "cell_type": "code",
   "execution_count": null,
   "metadata": {
    "id": "qhWO98Ph0S2u"
   },
   "outputs": [],
   "source": [
    "from itertools import product\n",
    "\n",
    "BaseYear = 1995\n",
    "x = np.matrix(df_arac.Year[0:]).T-BaseYear\n",
    "y = np.matrix(df_arac.Car[0:]).T/1000000.\n",
    "\n",
    "# Setup the vandermonde matrix\n",
    "N = len(x)\n",
    "A = np.hstack((np.ones((N,1)), x))\n",
    "\n",
    "left = -5\n",
    "right = 15\n",
    "bottom = -4\n",
    "top = 6\n",
    "step = 0.05\n",
    "W0 = np.arange(left,right, step)\n",
    "W1 = np.arange(bottom,top, step)\n",
    "\n",
    "ErrSurf = np.zeros((len(W1),len(W0)))\n",
    "\n",
    "for i,j in product(range(len(W1)), range(len(W0))):\n",
    "    e = y - A*np.matrix([W0[j], W1[i]]).T\n",
    "    ErrSurf[i,j] = e.T*e/2\n",
    "\n",
    "plt.figure(figsize=(7,7))\n",
    "plt.imshow(ErrSurf, interpolation='nearest', \n",
    "           vmin=0, vmax=1000,origin='lower',\n",
    "           extent=(left,right,bottom,top),cmap='Blues_r')\n",
    "plt.xlabel('w0')\n",
    "plt.ylabel('w1')\n",
    "plt.title('Error Surface')\n",
    "plt.colorbar(orientation='horizontal')\n",
    "plt.show()"
   ]
  },
  {
   "cell_type": "markdown",
   "metadata": {
    "id": "7LGp3M6f0Z0N"
   },
   "source": [
    "# Modeli Nasıl Kestirebiliriz?\n",
    "\n",
    "## Fikir: En küçük kare hata \n",
    "(Gauss 1795, Legendre 1805)\n",
    "\n",
    "* Toplam hatanın $w_0$ ve $w_1$'e göre türevini hesapla, sıfıra eşitle ve çıkan denklemleri çöz\n",
    "\n",
    "\n",
    "\n",
    "\\begin{eqnarray}\n",
    "\\left(\n",
    "\\begin{array}{c}\n",
    "y_0 \\\\ y_1 \\\\ \\vdots \\\\ y_{N-1} \n",
    "\\end{array}\n",
    "\\right)\n",
    "\\approx\n",
    "\\left(\n",
    "\\begin{array}{cc}\n",
    "1 & x_0 \\\\ 1 & x_1 \\\\ \\vdots \\\\ 1 & x_{N-1}  \n",
    "\\end{array}\n",
    "\\right) \n",
    "\\left(\n",
    "\\begin{array}{c}\n",
    " w_0 \\\\ w_1  \n",
    "\\end{array}\n",
    "\\right)\n",
    "\\end{eqnarray}\n",
    "\n",
    "\\begin{eqnarray}\n",
    "y \\approx A w\n",
    "\\end{eqnarray}\n",
    "\n",
    "> $A = A(x)$: Model Matrisi\n",
    "\n",
    "> $w$: Model Parametreleri\n",
    "\n",
    "> $y$: Gözlemler\n",
    "\n",
    "* Hata vektörü: $$e = y - Aw$$\n",
    "\n",
    "\\begin{eqnarray}\n",
    "E(w) & = & \\frac{1}{2}e^\\top e = \\frac{1}{2}(y - Aw)^\\top (y - Aw)\\\\\n",
    "& = & \\frac{1}{2}y^\\top y - \\frac{1}{2} y^\\top Aw - \\frac{1}{2} w^\\top A^\\top y + \\frac{1}{2} w^\\top A^\\top Aw \\\\\n",
    "& = & \\frac{1}{2} y^\\top y - y^\\top Aw + \\frac{1}{2} w^\\top A^\\top Aw \\\\\n",
    "\\end{eqnarray}\n",
    "\n",
    "### Gradyan\n",
    "https://tr.khanacademy.org/math/multivariable-calculus/multivariable-derivatives/partial-derivative-and-gradient-articles/a/the-gradient\n",
    "\n",
    "\\begin{eqnarray}\n",
    "\\frac{d E}{d w } & = & \\left(\\begin{array}{c}\n",
    " \\partial E/\\partial w_0 \\\\ \\partial E/\\partial w_1 \\\\ \\vdots \\\\  \\partial E/\\partial w_{K-1}\n",
    "\\end{array}\\right)\n",
    "\\end{eqnarray}\n",
    "  \n",
    "Toplam hatanın gradyanı\n",
    "\\begin{eqnarray}\n",
    "\\frac{d}{d w }E(w) & = & \\frac{d}{d w }(\\frac{1}{2} y^\\top y) &+ \\frac{d}{d w }(- y^\\top Aw) &+ \\frac{d}{d w }(\\frac{1}{2} w^\\top A^\\top Aw) \\\\\n",
    "& = & 0 &- A^\\top y &+ A^\\top A w \\\\\n",
    "& = & - A^\\top (y - Aw) \\\\\n",
    "& = & - A^\\top e \\\\\n",
    "& \\equiv & \\nabla E(w)\n",
    "\\end{eqnarray}\n",
    "\n",
    "### Yapay zekaya gönül veren herkesin bilmesi gereken eşitlikler\n",
    "* Vektör iç çarpımının gradyeni\n",
    "\\begin{eqnarray}\n",
    "\\frac{d}{d w }(h^\\top w) & = & h\n",
    "\\end{eqnarray}\n",
    "\n",
    "* Karesel bir ifadenin gradyeni\n",
    "\\begin{eqnarray}\n",
    "\\frac{d}{d w }(w^\\top K w) & = & (K+K^\\top) w\n",
    "\\end{eqnarray}\n",
    "\n",
    "\n",
    "### En küçük kare hata çözümü doğrusal modellerde doğrusal denklemlerin çözümü ile bulunabiliyor\n",
    "\n",
    "\n",
    "\\begin{eqnarray}\n",
    "w^* & = & \\arg\\min_{w} E(w)\n",
    "\\end{eqnarray}\n",
    "\n",
    "* Eniyileme Şartı (gradyan sıfır olmalı )\n",
    "\n",
    "\\begin{eqnarray}\n",
    "\\nabla E(w^*) & = & 0\n",
    "\\end{eqnarray}\n",
    "\n",
    "\\begin{eqnarray}\n",
    "0 & = & - A^\\top y + A^\\top A w^*  \\\\\n",
    "A^\\top y & = &  A^\\top A w^* \\\\\n",
    "w^* & = & (A^\\top A)^{-1} A^\\top y \n",
    "\\end{eqnarray}\n",
    "\n",
    "* Geometrik (Projeksyon) yorumu:\n",
    "\n",
    "\\begin{eqnarray}\n",
    "f & = A w^*  = A (A^\\top A)^{-1} A^\\top y \n",
    "\\end{eqnarray}\n",
    "\n"
   ]
  },
  {
   "cell_type": "code",
   "execution_count": null,
   "metadata": {
    "id": "bR-AtJv-0XJF"
   },
   "outputs": [],
   "source": [
    "# Solving the Normal Equations\n",
    "\n",
    "# Setup the Design matrix\n",
    "N = len(x)\n",
    "A = np.hstack((np.ones((N,1)), x))\n",
    "\n",
    "#plt.imshow(A, interpolation='nearest')\n",
    "# Solve the least squares problem\n",
    "w_ls,E,rank,sigma = np.linalg.lstsq(A, y)\n",
    "\n",
    "print('Parametreler: \\nw0 = ', w_ls[0],'\\nw1 = ', w_ls[1] )\n",
    "print('Toplam Kare Hata:', E/2)\n",
    "\n",
    "f = np.asscalar(w_ls[1])*x + np.asscalar(w_ls[0])\n",
    "plt.plot(x+BaseYear, y, 'o-')\n",
    "plt.plot(x+BaseYear, f, 'r')\n",
    "\n",
    "\n",
    "plt.xlabel('Yıl')\n",
    "plt.ylabel('Araba sayısı (Milyon)')\n",
    "plt.show()"
   ]
  },
  {
   "cell_type": "markdown",
   "metadata": {
    "id": "HuOtYAu3H8qI"
   },
   "source": [
    "**Polinom**"
   ]
  },
  {
   "cell_type": "code",
   "execution_count": null,
   "metadata": {
    "id": "es-gfPKB0c9a"
   },
   "outputs": [],
   "source": [
    "x = np.array([10, 8, 13, 9, 11, 14, 6, 4, 12, 7, 5])\n",
    "N = len(x)\n",
    "x = x.reshape((N,1))\n",
    "y = np.array([8.04, 6.95, 7.58, 8.81, 8.33, 9.96, 7.24, 4.26, 10.84, 4.82, 5.68]).reshape((N,1))\n",
    "#y = np.array([9.14, 8.14, 8.74, 8.77, 9.26, 8.10, 6.13, 3.10, 9.13, 7.26, 4.74]).reshape((N,1))\n",
    "#y = np.array([7.46, 6.77, 12.74, 7.11, 7.81, 8.84, 6.08, 5.39, 8.15, 6.42, 5.73]).reshape((N,1))\n",
    "\n",
    "def fit_and_plot_poly(degree):\n",
    "\n",
    "    #A = np.hstack((np.power(x,0), np.power(x,1), np.power(x,2)))\n",
    "    A = np.hstack((np.power(x,i) for i in range(degree+1)))\n",
    "    # Setup the vandermonde matrix\n",
    "    xx = np.matrix(np.linspace(np.asscalar(min(x))-1,np.asscalar(max(x))+1,300)).T\n",
    "    A2 = np.hstack((np.power(xx,i) for i in range(degree+1)))\n",
    "\n",
    "    #plt.imshow(A, interpolation='nearest')\n",
    "    # Solve the least squares problem\n",
    "    w_ls,E,rank,sigma = np.linalg.lstsq(A, y)\n",
    "    f = A2*w_ls\n",
    "    plt.plot(x, y, 'o')\n",
    "    plt.plot(xx, f, 'r')\n",
    "\n",
    "    plt.xlabel('x')\n",
    "    plt.ylabel('y')\n",
    "\n",
    "    plt.gca().set_ylim((0,20))\n",
    "    #plt.gca().set_xlim((1950,2025))\n",
    "    \n",
    "    if E:\n",
    "        plt.title('Mertebe = '+str(degree)+' Hata='+str(E[0]))\n",
    "    else:\n",
    "        plt.title('Mertebe = '+str(degree)+' Hata= 0')\n",
    "        \n",
    "    plt.show()\n",
    "\n",
    "fit_and_plot_poly(0)"
   ]
  },
  {
   "cell_type": "code",
   "execution_count": null,
   "metadata": {
    "id": "GYJgIvm70jD9"
   },
   "outputs": [],
   "source": [
    "interact(fit_and_plot_poly, degree=(0,10))"
   ]
  },
  {
   "cell_type": "markdown",
   "metadata": {
    "id": "6KkeSeZo0ndO"
   },
   "source": [
    "Overfit: Aşırı uyum"
   ]
  },
  {
   "cell_type": "code",
   "execution_count": null,
   "metadata": {
    "id": "H0ygzCDD2ejE"
   },
   "outputs": [],
   "source": []
  }
 ],
 "metadata": {
  "colab": {
   "authorship_tag": "ABX9TyMUXnQIOnNKG3UiY4NXG2jf",
   "collapsed_sections": [],
   "name": "Day5-LinearLogisticRegression-Demo2-atcemgil.ipynb",
   "provenance": []
  },
  "kernelspec": {
   "display_name": "Python 3",
   "language": "python",
   "name": "python3"
  },
  "language_info": {
   "codemirror_mode": {
    "name": "ipython",
    "version": 3
   },
   "file_extension": ".py",
   "mimetype": "text/x-python",
   "name": "python",
   "nbconvert_exporter": "python",
   "pygments_lexer": "ipython3",
   "version": "3.8.10"
  }
 },
 "nbformat": 4,
 "nbformat_minor": 4
}
