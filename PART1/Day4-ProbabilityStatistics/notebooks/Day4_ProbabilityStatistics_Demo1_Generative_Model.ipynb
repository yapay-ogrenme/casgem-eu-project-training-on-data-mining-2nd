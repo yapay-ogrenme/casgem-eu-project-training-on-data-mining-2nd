{
  "nbformat": 4,
  "nbformat_minor": 0,
  "metadata": {
    "colab": {
      "name": "Day4-ProbabilityStatistics-Demo1-Generative Model.ipynb",
      "provenance": [],
      "collapsed_sections": []
    },
    "kernelspec": {
      "name": "python3",
      "display_name": "Python 3"
    },
    "language_info": {
      "name": "python"
    }
  },
  "cells": [
    {
      "cell_type": "code",
      "execution_count": null,
      "metadata": {
        "id": "KbW8ohbAxkOd"
      },
      "outputs": [],
      "source": [
        "#from google.colab import drive\n",
        "#drive.mount('/content/drive')"
      ]
    },
    {
      "cell_type": "code",
      "source": [
        "ROOT_DIR = \"https://media.githubusercontent.com/media/yapay-ogrenme/casgem-eu-project-training-on-data-mining-2nd/main/PART1/Day4-ProbabilityStatistics/notebooks\"\n",
        "DATASET_PATH = ROOT_DIR + \"/datasets/\""
      ],
      "metadata": {
        "id": "ekKZ4GB4y5Lt"
      },
      "execution_count": null,
      "outputs": []
    },
    {
      "cell_type": "code",
      "source": [
        "# bivariate_normal kütüphanesi için eski versiyon kuruldu.\n",
        "!pip install matplotlib==2.1.2"
      ],
      "metadata": {
        "id": "NWNVNypDErFa"
      },
      "execution_count": null,
      "outputs": []
    },
    {
      "cell_type": "code",
      "source": [
        "import numpy as np # linear algebra\n",
        "import pandas as pd\n",
        "\n",
        "import warnings\n",
        "warnings.filterwarnings('ignore')"
      ],
      "metadata": {
        "id": "1F3fisYqzCQB"
      },
      "execution_count": null,
      "outputs": []
    },
    {
      "cell_type": "markdown",
      "source": [
        "# Iris (Süsen Çiçeği) Veri Kümesi \n",
        "\n"
      ],
      "metadata": {
        "id": "578IkwBuEfH_"
      }
    },
    {
      "cell_type": "code",
      "source": [
        "df_iris = pd.read_csv(DATASET_PATH+\"Iris.csv\")\n",
        "df_iris"
      ],
      "metadata": {
        "id": "p9zwEHu5zJPu"
      },
      "execution_count": null,
      "outputs": []
    },
    {
      "cell_type": "markdown",
      "source": [
        "Bu basit örnekte tek bir **x** değişkeni **SepalLength (Çanak Yaprağı Uzunluğu)** ve **hedef değişkenimiz Species (Çiçeğin Türü)** ile çalışacağız.\n",
        "\n",
        "Buyüzden öncelikle Sepal length'in (Çanak Yaprak Uzunluğunun) Türler açısından dağılımını görelim. Bunun için plotly_express kullanacağız."
      ],
      "metadata": {
        "id": "7-sUgaNUE84e"
      }
    },
    {
      "cell_type": "code",
      "source": [
        "!pip install plotly"
      ],
      "metadata": {
        "id": "lR-_cEld0mjv"
      },
      "execution_count": null,
      "outputs": []
    },
    {
      "cell_type": "code",
      "source": [
        "import plotly.express as px"
      ],
      "metadata": {
        "id": "LvM70xrpzOmH"
      },
      "execution_count": null,
      "outputs": []
    },
    {
      "cell_type": "code",
      "source": [
        "px.histogram(df_iris, x = 'SepalLengthCm',color = 'Species',nbins=20)"
      ],
      "metadata": {
        "id": "O0v7eXGpzSZY"
      },
      "execution_count": null,
      "outputs": []
    },
    {
      "cell_type": "markdown",
      "source": [
        "# **Amacımız bir üretken model oluşturmak** ve bunun için öncelikle 2 değer kümesi bulmamız gerekiyor:\n",
        "\n",
        "## 1. Sınıfların bireysel olasılığı:\n",
        "\n",
        "Bireysel sınıf olasılığını elde etmek oldukça sıradan ve basit bir işlem.\n",
        "\n",
        "Örneğin, Veri kümesinde Setosa türünde olan örnek sayısının, veri kümesindeki toplam örnek sayısına bölünmesi.\n",
        "\n",
        "Aşağıda tüm türlerin, tüm örneklere göre bireysel sınıf olasılığı hesaplanmıştır ve böylece görülmüştür ki İris veri seti oldukça dengeli bir veri kümesi!\n"
      ],
      "metadata": {
        "id": "vYKWiGx5FfzQ"
      }
    },
    {
      "cell_type": "code",
      "source": [
        "df_iris.Species.value_counts()"
      ],
      "metadata": {
        "id": "bd7N3zdCg_z3"
      },
      "execution_count": null,
      "outputs": []
    },
    {
      "cell_type": "code",
      "source": [
        "p_setosa = len(df_iris[df_iris['Species']=='Iris-setosa'])/len(df_iris)\n",
        "p_versicolor = len(df_iris[df_iris['Species']=='Iris-versicolor'])/len(df_iris)\n",
        "p_virginica = len(df_iris[df_iris['Species']=='Iris-virginica'])/len(df_iris)\n",
        "\n",
        "print(p_setosa,p_versicolor,p_virginica)"
      ],
      "metadata": {
        "id": "OkofZ5Zh0sWr"
      },
      "execution_count": null,
      "outputs": []
    },
    {
      "cell_type": "markdown",
      "source": [
        "## 2. Her sınıf için x'in olasılık dağılımı:\n",
        "\n",
        "Burada X'imize bir olasılık dağılımı uyduruyoruz. Burada X verilerinin normal olarak dağıldığını varsayıyoruz. Ve böylece bu üç dağılım (Üç sınıfımız olduğu için) için örnek ortalamaları ve varyansı bulabiliriz.\n",
        "\n",
        "Aşağıdaki grafikte görüleceği üzere, üç türün her biri için örneklem ortalamaları ve varyanslarını kullanarak türlerin her birini normal dağılıma getirdik."
      ],
      "metadata": {
        "id": "ewFrX2bMKdMP"
      }
    },
    {
      "cell_type": "code",
      "source": [
        "import numpy as np                                                              \n",
        "import seaborn as sns                                                           \n",
        "from scipy import stats                                                         \n",
        "import matplotlib.pyplot as plt                                                 \n",
        "\n",
        "sns.set(style=\"ticks\")\n",
        "\n",
        "# calculate the pdf over a range of values\n",
        "xx = np.arange(min(df_iris['SepalLengthCm']), max(df_iris['SepalLengthCm']),0.001)\n",
        "\n",
        "x = df_iris[df_iris['Species']=='Iris-setosa']['SepalLengthCm']\n",
        "\n",
        "# olasılık yoğunluk fonksiyonu: probability density func.\n",
        "sns.distplot(x, kde = False, norm_hist=True,color='skyblue',label = 'Setosa')\n",
        "yy = stats.norm.pdf(xx, loc=np.mean(x), scale=np.std(x))\n",
        "plt.plot(xx, yy, 'skyblue', lw=2) \n",
        "\n",
        "x = df_iris[df_iris['Species']=='Iris-versicolor']['SepalLengthCm']\n",
        "sns.distplot(x, kde = False, norm_hist=True,color='green',label = 'Versicolor')\n",
        "yy = stats.norm.pdf(xx,loc=np.mean(x),scale=np.std(x))\n",
        "plt.plot(xx, yy, 'green', lw=2) \n",
        "\n",
        "x = df_iris[df_iris['Species']=='Iris-virginica']['SepalLengthCm']\n",
        "g = sns.distplot(x, kde = False, norm_hist=True,color='red',label = 'Virginica')\n",
        "yy = stats.norm.pdf(xx,loc=np.mean(x),scale=np.std(x))\n",
        "plt.plot(xx, yy, 'red', lw=2) \n",
        "\n",
        "sns.despine()\n",
        "g.figure.set_size_inches(20,10)\n",
        "g.legend()"
      ],
      "metadata": {
        "id": "Y-vjI9My0wbB"
      },
      "execution_count": null,
      "outputs": []
    },
    {
      "cell_type": "markdown",
      "source": [
        "# **Peki, bunu kullanarak yeni bir örnek için nasıl tahmin yapabiliriz?**\n",
        "\n",
        "**SepalLength = 7 cm ile yeni bir örnek aldığımızı varsayalım.**\n",
        "\n",
        "Buna göre hesaplamamız gereken 2 olasılık değeri var:\n",
        "\n",
        "**1. Bireysel Sınıf Olasılıkları:**\n",
        "\n",
        "Bunları daha önce yukarı da hesaplamıştık ve her bir sınıf değeri için 0.33 olduğunu görmüştük. Yani;\n",
        "\n",
        "**P(Setosa) = P(Versicolor) = P(Virginica) = 0.33**\n",
        "\n",
        "\n",
        "**2. Her sınıf için x'in olasılık dağılımı:**\n",
        "\n",
        "Sırası ile aşağıda hesaplanmıştır: \n",
        "\n",
        "*   P_setosa (x) = P(X|y=setosa) = (5.00 , 0.34) \n",
        "*   P_Versicolor (x) = P(X|y=Versicolor) = (5.93 , 0.51)\n",
        "*   P_Virginica (x) = P(X|y=Virginica) = (6.58 , 0.62)\n",
        "\n"
      ],
      "metadata": {
        "id": "_cqyuPSXLdud"
      }
    },
    {
      "cell_type": "code",
      "source": [
        "x = df_iris[df_iris['Species']=='Iris-setosa']['SepalLengthCm']\n",
        "print(np.mean(x),np.std(x))\n",
        "\n",
        "x = df_iris[df_iris['Species']=='Iris-versicolor']['SepalLengthCm']\n",
        "print(np.mean(x),np.std(x))\n",
        "\n",
        "x = df_iris[df_iris['Species']=='Iris-virginica']['SepalLengthCm']\n",
        "print(np.mean(x),np.std(x))\n"
      ],
      "metadata": {
        "id": "a7m67Wn109oq"
      },
      "execution_count": null,
      "outputs": []
    },
    {
      "cell_type": "markdown",
      "source": [
        "# Şimdi X=7 için (SepalLength = 7 cm) sınıf tahminin de bulunmak üzere Bayes Teoreminden yararlanalım:\n",
        "\n",
        "**P(X,Y) = P(X|Y).P(Y)**\n",
        "\n",
        "*   P(X=7,Y=Setosa) = P(X=7|Y=Setosa).P(Setosa)\n",
        "*   P(X=7,Y=Versicolor) = P(X=7|Y=Versicolor).P(Versicolor)\n",
        "*   P(X=7,Y=Virginica) = P(X=7|Y=Virginica).P(Virginica)\n",
        "\n",
        "Bu değerlerin tamamını aşağıda hesaplatıyoruz. **Bunlar içerisindeki en büyük değer olan 'Virginica' bizim için nihai tahmin sınıfımızdır.**\n",
        "\n"
      ],
      "metadata": {
        "id": "Az7ZnsRRVLlv"
      }
    },
    {
      "cell_type": "code",
      "source": [
        "t=7\n",
        "\n",
        "x = df_iris[df_iris['Species']=='Iris-setosa']['SepalLengthCm']\n",
        "print(\"Setosa\",stats.norm.pdf(t,loc=np.mean(x),scale=np.std(x)) *.33)\n",
        "\n",
        "x = df_iris[df_iris['Species']=='Iris-versicolor']['SepalLengthCm']\n",
        "print(\"Versicolor\",stats.norm.pdf(t,loc=np.mean(x),scale=np.std(x))*.33)\n",
        "\n",
        "x = df_iris[df_iris['Species']=='Iris-virginica']['SepalLengthCm']\n",
        "print(\"Virginica\",stats.norm.pdf(t,loc=np.mean(x),scale=np.std(x))*.33)"
      ],
      "metadata": {
        "id": "53G1RBbH1D9_"
      },
      "execution_count": null,
      "outputs": []
    },
    {
      "cell_type": "markdown",
      "source": [
        "Virginica için maksimum olasılığın geldiğini gördüğümüz için virginica'yı x=7 için tahmin ediyoruz ve yukarıdaki grafiğe de dayanarak; oldukça doğru bir seçim yaptığımızı görüyoruz aslında!"
      ],
      "metadata": {
        "id": "W8mAREXVXWIU"
      }
    },
    {
      "cell_type": "markdown",
      "source": [
        "# Her şey yolunda. Ama şuan tek bir değişkenle çalışıyoruz.\n",
        "\n",
        "# Bu kez de örneğimizi iki değişken için genişletelim ve bu sefer PetalLength'i de kullanalım.\n",
        "\n",
        "Peki bu durumda nasıl ilerleyeceğiz?\n",
        "\n",
        "İlk örnekte tek değişkene göre tahminde x'imize Normal Dağılımla sınırlamıştık, bu sefer 2 değişkenimiz var dolayısıyla Bivariate Normal'e göre sınırlama yapacağız."
      ],
      "metadata": {
        "id": "SyGyuHb6X3Uk"
      }
    },
    {
      "cell_type": "code",
      "source": [
        "px.scatter(df_iris, 'SepalLengthCm', 'PetalLengthCm', color = 'Species')"
      ],
      "metadata": {
        "id": "itX-yGOL1IXg"
      },
      "execution_count": null,
      "outputs": []
    },
    {
      "cell_type": "code",
      "source": [
        "import numpy as np                                                              \n",
        "import seaborn as sns                                                           \n",
        "from scipy import stats                                                         \n",
        "import matplotlib.pyplot as plt                                                 \n",
        "\n",
        "sns.set(style=\"ticks\")\n",
        "\n",
        "# calculate the pdf over a range of values\n",
        "xx = np.arange(min(df_iris['SepalLengthCm']), max(df_iris['SepalLengthCm']),0.001)\n",
        "\n",
        "x1 = df_iris[df_iris['Species']=='Iris-setosa']['SepalLengthCm']\n",
        "x2 = df_iris[df_iris['Species']=='Iris-setosa']['PetalLengthCm']\n",
        "sns.scatterplot(x1,x2, color='skyblue',label = 'Setosa')\n",
        "#yy = stats.norm.pdf(xx,loc=np.mean(x),scale=np.std(x))\n",
        "#plt.plot(xx, yy, 'skyblue', lw=2) \n",
        "\n",
        "x1 = df_iris[df_iris['Species']=='Iris-versicolor']['SepalLengthCm']\n",
        "x2 = df_iris[df_iris['Species']=='Iris-versicolor']['PetalLengthCm']\n",
        "sns.scatterplot(x1,x2,color='green',label = 'Versicolor')\n",
        "#yy = stats.norm.pdf(xx,loc=np.mean(x),scale=np.std(x))\n",
        "#plt.plot(xx, yy, 'green', lw=2) \n",
        "\n",
        "x1 = df_iris[df_iris['Species']=='Iris-virginica']['SepalLengthCm']\n",
        "x2 = df_iris[df_iris['Species']=='Iris-virginica']['PetalLengthCm']\n",
        "\n",
        "g = sns.scatterplot(x1, x2, color='red',label = 'Virginica')\n",
        "#yy = stats.norm.pdf(xx,loc=np.mean(x),scale=np.std(x))\n",
        "#plt.plot(xx, yy, 'red', lw=2) \n",
        "sns.despine()\n",
        "g.figure.set_size_inches(20,10)\n",
        "g.legend()"
      ],
      "metadata": {
        "id": "z03H5xLH1J-r"
      },
      "execution_count": null,
      "outputs": []
    },
    {
      "cell_type": "markdown",
      "source": [
        "Geri kalan hesaplamaların hepsi aynı olacak.\n",
        "\n",
        "Yukarıdaki denklemlerde sadece normal, Bivariate normal ile değiştirilmesi yeterlidir.\n",
        "\n",
        "Ve gördüğünüz gibi, iki değişkenli normali kullanarak sınıflar arasında oldukça iyi bir ayrım elde edebiliyoruz.\n",
        "\n",
        "\n",
        "Bu duruma başka veri kümeleri için birden fazla değişkeni (2'den fazla) dikkate alma durumunda çok değişkenli normal dağılımı (multivariate normal distribution) kullanabiliriz."
      ],
      "metadata": {
        "id": "uCLfcrwPYvJV"
      }
    },
    {
      "cell_type": "code",
      "source": [
        "import numpy as np                                                              \n",
        "import seaborn as sns                                                           \n",
        "from scipy import stats                                                         \n",
        "import matplotlib.pyplot as plt    \n",
        "from matplotlib.mlab import bivariate_normal\n",
        "#import matplotlib.mlab as mlab\n",
        "sns.set(style=\"ticks\")\n",
        "\n",
        "# SETOSA\n",
        "x1 = df_iris[df_iris['Species']=='Iris-setosa']['SepalLengthCm']\n",
        "x2 = df_iris[df_iris['Species']=='Iris-setosa']['PetalLengthCm']\n",
        "sns.scatterplot(x1,x2, color='skyblue',label = 'Setosa')\n",
        "\n",
        "mu_x1=np.mean(x1)\n",
        "mu_x2=np.mean(x2)\n",
        "sigma_x1=np.std(x1)**2\n",
        "sigma_x2=np.std(x2)**2\n",
        "xx = np.arange(min(x1), max(x1),0.001)\n",
        "yy = np.arange(min(x2), max(x2),0.001)\n",
        "\n",
        "X, Y = np.meshgrid(xx, yy)\n",
        "Z = bivariate_normal(X,Y, sigma_x1, sigma_x2, mu_x1, mu_x2)\n",
        "plt.contour(X,Y,Z,colors='skyblue')\n",
        "\n",
        "# VERSICOLOR\n",
        "x1 = df_iris[df_iris['Species']=='Iris-versicolor']['SepalLengthCm']\n",
        "x2 = df_iris[df_iris['Species']=='Iris-versicolor']['PetalLengthCm']\n",
        "sns.scatterplot(x1,x2,color='green',label = 'Versicolor')\n",
        "\n",
        "mu_x1=np.mean(x1)\n",
        "mu_x2=np.mean(x2)\n",
        "sigma_x1=np.std(x1)**2\n",
        "sigma_x2=np.std(x2)**2\n",
        "xx = np.arange(min(x1), max(x1),0.001)\n",
        "yy = np.arange(min(x2), max(x2),0.001)\n",
        "\n",
        "X, Y = np.meshgrid(xx, yy)\n",
        "Z = bivariate_normal(X,Y, sigma_x1, sigma_x2, mu_x1, mu_x2)\n",
        "plt.contour(X,Y,Z,colors='green')\n",
        "\n",
        "# VIRGINICA\n",
        "x1 = df_iris[df_iris['Species']=='Iris-virginica']['SepalLengthCm']\n",
        "x2 = df_iris[df_iris['Species']=='Iris-virginica']['PetalLengthCm']\n",
        "g = sns.scatterplot(x1, x2, color='red',label = 'Virginica')\n",
        "\n",
        "mu_x1=np.mean(x1)\n",
        "mu_x2=np.mean(x2)\n",
        "sigma_x1=np.std(x1)**2\n",
        "sigma_x2=np.std(x2)**2\n",
        "xx = np.arange(min(x1), max(x1),0.001)\n",
        "yy = np.arange(min(x2), max(x2),0.001)\n",
        "\n",
        "X, Y = np.meshgrid(xx, yy)\n",
        "Z = bivariate_normal(X,Y, sigma_x1, sigma_x2, mu_x1, mu_x2)\n",
        "plt.contour(X,Y,Z,colors='red')\n",
        "\n",
        "\n",
        "sns.despine()\n",
        "g.figure.set_size_inches(20,10)\n",
        "g.legend()\n"
      ],
      "metadata": {
        "id": "jR2Znm6U1T00"
      },
      "execution_count": null,
      "outputs": []
    },
    {
      "cell_type": "code",
      "source": [
        "\n"
      ],
      "metadata": {
        "id": "SykZUJzP4tSd"
      },
      "execution_count": null,
      "outputs": []
    },
    {
      "cell_type": "code",
      "source": [
        ""
      ],
      "metadata": {
        "id": "zrupAnJi3FSx"
      },
      "execution_count": null,
      "outputs": []
    }
  ]
}