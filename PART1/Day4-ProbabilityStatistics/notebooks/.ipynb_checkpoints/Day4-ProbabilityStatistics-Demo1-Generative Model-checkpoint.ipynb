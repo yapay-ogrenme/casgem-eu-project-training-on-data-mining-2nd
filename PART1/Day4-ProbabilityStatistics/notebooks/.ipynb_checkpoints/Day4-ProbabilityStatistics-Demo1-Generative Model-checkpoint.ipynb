{
 "cells": [
  {
   "cell_type": "code",
   "execution_count": null,
   "metadata": {
    "id": "KbW8ohbAxkOd"
   },
   "outputs": [],
   "source": [
    "#from google.colab import drive\n",
    "#drive.mount('/content/drive')"
   ]
  },
  {
   "cell_type": "code",
   "execution_count": null,
   "metadata": {
    "id": "ekKZ4GB4y5Lt"
   },
   "outputs": [],
   "source": [
    "#ROOT_DIR = \"/content/drive/MyDrive/CASGEM-Egitim/Egitim-Part1/Day4-ProbabilityStatistics/notebooks\"\n",
    "ROOT_DIR = \"https://media.githubusercontent.com/media/yapay-ogrenme/casgem-eu-project-training-on-data-mining/main/PART1/Day4-ProbabilityStatistics/notebooks/\"\n",
    "DATASET_PATH = ROOT_DIR + \"/datasets/\""
   ]
  },
  {
   "cell_type": "code",
   "execution_count": null,
   "metadata": {
    "id": "NWNVNypDErFa"
   },
   "outputs": [],
   "source": [
    "# bivariate_normal kütüphanesi için eski versiyon kuruldu.\n",
    "!pip install matplotlib==2.1.2"
   ]
  },
  {
   "cell_type": "code",
   "execution_count": null,
   "metadata": {
    "id": "1F3fisYqzCQB"
   },
   "outputs": [],
   "source": [
    "import numpy as np # linear algebra\n",
    "import pandas as pd\n",
    "\n",
    "import warnings\n",
    "warnings.filterwarnings('ignore')"
   ]
  },
  {
   "cell_type": "code",
   "execution_count": null,
   "metadata": {
    "id": "p9zwEHu5zJPu"
   },
   "outputs": [],
   "source": [
    "df_iris = pd.read_csv(DATASET_PATH+\"Iris.csv\")\n",
    "df_iris"
   ]
  },
  {
   "cell_type": "code",
   "execution_count": null,
   "metadata": {
    "id": "lR-_cEld0mjv"
   },
   "outputs": [],
   "source": [
    "!pip install plotly"
   ]
  },
  {
   "cell_type": "code",
   "execution_count": null,
   "metadata": {
    "id": "LvM70xrpzOmH"
   },
   "outputs": [],
   "source": [
    "import plotly.express as px"
   ]
  },
  {
   "cell_type": "code",
   "execution_count": null,
   "metadata": {
    "id": "O0v7eXGpzSZY"
   },
   "outputs": [],
   "source": [
    "px.histogram(df_iris, x = 'SepalLengthCm',color = 'Species',nbins=20)"
   ]
  },
  {
   "cell_type": "code",
   "execution_count": null,
   "metadata": {
    "id": "OkofZ5Zh0sWr"
   },
   "outputs": [],
   "source": [
    "p_setosa = len(df_iris[df_iris['Species']=='Iris-setosa'])/len(df_iris)\n",
    "p_versicolor = len(df_iris[df_iris['Species']=='Iris-versicolor'])/len(df_iris)\n",
    "p_virginica = len(df_iris[df_iris['Species']=='Iris-virginica'])/len(df_iris)\n",
    "\n",
    "print(p_setosa,p_versicolor,p_virginica)"
   ]
  },
  {
   "cell_type": "code",
   "execution_count": null,
   "metadata": {
    "id": "Y-vjI9My0wbB"
   },
   "outputs": [],
   "source": [
    "import numpy as np                                                              \n",
    "import seaborn as sns                                                           \n",
    "from scipy import stats                                                         \n",
    "import matplotlib.pyplot as plt                                                 \n",
    "\n",
    "sns.set(style=\"ticks\")\n",
    "\n",
    "# calculate the pdf over a range of values\n",
    "xx = np.arange(min(df_iris['SepalLengthCm']), max(df_iris['SepalLengthCm']),0.001)\n",
    "\n",
    "x = df_iris[df_iris['Species']=='Iris-setosa']['SepalLengthCm']\n",
    "sns.distplot(x, kde = False, norm_hist=True,color='skyblue',label = 'Setosa')\n",
    "yy = stats.norm.pdf(xx,loc=np.mean(x),scale=np.std(x))\n",
    "plt.plot(xx, yy, 'skyblue', lw=2) \n",
    "\n",
    "x = df_iris[df_iris['Species']=='Iris-versicolor']['SepalLengthCm']\n",
    "sns.distplot(x, kde = False, norm_hist=True,color='green',label = 'Versicolor')\n",
    "yy = stats.norm.pdf(xx,loc=np.mean(x),scale=np.std(x))\n",
    "plt.plot(xx, yy, 'green', lw=2) \n",
    "\n",
    "x = df_iris[df_iris['Species']=='Iris-virginica']['SepalLengthCm']\n",
    "g = sns.distplot(x, kde = False, norm_hist=True,color='red',label = 'Virginica')\n",
    "yy = stats.norm.pdf(xx,loc=np.mean(x),scale=np.std(x))\n",
    "plt.plot(xx, yy, 'red', lw=2) \n",
    "\n",
    "sns.despine()\n",
    "g.figure.set_size_inches(20,10)\n",
    "g.legend()"
   ]
  },
  {
   "cell_type": "code",
   "execution_count": null,
   "metadata": {
    "id": "a7m67Wn109oq"
   },
   "outputs": [],
   "source": [
    "x = df_iris[df_iris['Species']=='Iris-setosa']['SepalLengthCm']\n",
    "print(np.mean(x),np.std(x))\n",
    "\n",
    "x = df_iris[df_iris['Species']=='Iris-versicolor']['SepalLengthCm']\n",
    "print(np.mean(x),np.std(x))\n",
    "\n",
    "x = df_iris[df_iris['Species']=='Iris-virginica']['SepalLengthCm']\n",
    "print(np.mean(x),np.std(x))\n"
   ]
  },
  {
   "cell_type": "code",
   "execution_count": null,
   "metadata": {
    "id": "53G1RBbH1D9_"
   },
   "outputs": [],
   "source": [
    "x = df_iris[df_iris['Species']=='Iris-setosa']['SepalLengthCm']\n",
    "print(\"Setosa\",stats.norm.pdf(7,loc=np.mean(x),scale=np.std(x))*.33)\n",
    "\n",
    "x = df_iris[df_iris['Species']=='Iris-versicolor']['SepalLengthCm']\n",
    "print(\"Versicolor\",stats.norm.pdf(7,loc=np.mean(x),scale=np.std(x))*.33)\n",
    "\n",
    "x = df_iris[df_iris['Species']=='Iris-virginica']['SepalLengthCm']\n",
    "print(\"Virginica\",stats.norm.pdf(7,loc=np.mean(x),scale=np.std(x))*.33)"
   ]
  },
  {
   "cell_type": "code",
   "execution_count": null,
   "metadata": {
    "id": "itX-yGOL1IXg"
   },
   "outputs": [],
   "source": [
    "px.scatter(df_iris, 'SepalLengthCm', 'PetalLengthCm', color = 'Species')"
   ]
  },
  {
   "cell_type": "code",
   "execution_count": null,
   "metadata": {
    "id": "z03H5xLH1J-r"
   },
   "outputs": [],
   "source": [
    "import numpy as np                                                              \n",
    "import seaborn as sns                                                           \n",
    "from scipy import stats                                                         \n",
    "import matplotlib.pyplot as plt                                                 \n",
    "\n",
    "sns.set(style=\"ticks\")\n",
    "\n",
    "# calculate the pdf over a range of values\n",
    "xx = np.arange(min(df_iris['SepalLengthCm']), max(df_iris['SepalLengthCm']),0.001)\n",
    "\n",
    "x1 = df_iris[df_iris['Species']=='Iris-setosa']['SepalLengthCm']\n",
    "x2 = df_iris[df_iris['Species']=='Iris-setosa']['PetalLengthCm']\n",
    "sns.scatterplot(x1,x2, color='skyblue',label = 'Setosa')\n",
    "#yy = stats.norm.pdf(xx,loc=np.mean(x),scale=np.std(x))\n",
    "#plt.plot(xx, yy, 'skyblue', lw=2) \n",
    "\n",
    "x1 = df_iris[df_iris['Species']=='Iris-versicolor']['SepalLengthCm']\n",
    "x2 = df_iris[df_iris['Species']=='Iris-versicolor']['PetalLengthCm']\n",
    "sns.scatterplot(x1,x2,color='green',label = 'Versicolor')\n",
    "#yy = stats.norm.pdf(xx,loc=np.mean(x),scale=np.std(x))\n",
    "#plt.plot(xx, yy, 'green', lw=2) \n",
    "\n",
    "x1 = df_iris[df_iris['Species']=='Iris-virginica']['SepalLengthCm']\n",
    "x2 = df_iris[df_iris['Species']=='Iris-virginica']['PetalLengthCm']\n",
    "\n",
    "g = sns.scatterplot(x1, x2, color='red',label = 'Virginica')\n",
    "#yy = stats.norm.pdf(xx,loc=np.mean(x),scale=np.std(x))\n",
    "#plt.plot(xx, yy, 'red', lw=2) \n",
    "sns.despine()\n",
    "g.figure.set_size_inches(20,10)\n",
    "g.legend()"
   ]
  },
  {
   "cell_type": "code",
   "execution_count": null,
   "metadata": {
    "id": "jR2Znm6U1T00"
   },
   "outputs": [],
   "source": [
    "import numpy as np                                                              \n",
    "import seaborn as sns                                                           \n",
    "from scipy import stats                                                         \n",
    "import matplotlib.pyplot as plt    \n",
    "from matplotlib.mlab import bivariate_normal\n",
    "#import matplotlib.mlab as mlab\n",
    "sns.set(style=\"ticks\")\n",
    "\n",
    "# SETOSA\n",
    "x1 = df_iris[df_iris['Species']=='Iris-setosa']['SepalLengthCm']\n",
    "x2 = df_iris[df_iris['Species']=='Iris-setosa']['PetalLengthCm']\n",
    "sns.scatterplot(x1,x2, color='skyblue',label = 'Setosa')\n",
    "\n",
    "mu_x1=np.mean(x1)\n",
    "mu_x2=np.mean(x2)\n",
    "sigma_x1=np.std(x1)**2\n",
    "sigma_x2=np.std(x2)**2\n",
    "xx = np.arange(min(x1), max(x1),0.001)\n",
    "yy = np.arange(min(x2), max(x2),0.001)\n",
    "\n",
    "X, Y = np.meshgrid(xx, yy)\n",
    "Z = bivariate_normal(X,Y, sigma_x1, sigma_x2, mu_x1, mu_x2)\n",
    "plt.contour(X,Y,Z,colors='skyblue')\n",
    "\n",
    "# VERSICOLOR\n",
    "x1 = df_iris[df_iris['Species']=='Iris-versicolor']['SepalLengthCm']\n",
    "x2 = df_iris[df_iris['Species']=='Iris-versicolor']['PetalLengthCm']\n",
    "sns.scatterplot(x1,x2,color='green',label = 'Versicolor')\n",
    "\n",
    "mu_x1=np.mean(x1)\n",
    "mu_x2=np.mean(x2)\n",
    "sigma_x1=np.std(x1)**2\n",
    "sigma_x2=np.std(x2)**2\n",
    "xx = np.arange(min(x1), max(x1),0.001)\n",
    "yy = np.arange(min(x2), max(x2),0.001)\n",
    "\n",
    "X, Y = np.meshgrid(xx, yy)\n",
    "Z = bivariate_normal(X,Y, sigma_x1, sigma_x2, mu_x1, mu_x2)\n",
    "plt.contour(X,Y,Z,colors='green')\n",
    "\n",
    "# VIRGINICA\n",
    "x1 = df_iris[df_iris['Species']=='Iris-virginica']['SepalLengthCm']\n",
    "x2 = df_iris[df_iris['Species']=='Iris-virginica']['PetalLengthCm']\n",
    "g = sns.scatterplot(x1, x2, color='red',label = 'Virginica')\n",
    "\n",
    "mu_x1=np.mean(x1)\n",
    "mu_x2=np.mean(x2)\n",
    "sigma_x1=np.std(x1)**2\n",
    "sigma_x2=np.std(x2)**2\n",
    "xx = np.arange(min(x1), max(x1),0.001)\n",
    "yy = np.arange(min(x2), max(x2),0.001)\n",
    "\n",
    "X, Y = np.meshgrid(xx, yy)\n",
    "Z = bivariate_normal(X,Y, sigma_x1, sigma_x2, mu_x1, mu_x2)\n",
    "plt.contour(X,Y,Z,colors='red')\n",
    "\n",
    "\n",
    "sns.despine()\n",
    "g.figure.set_size_inches(20,10)\n",
    "g.legend()\n"
   ]
  },
  {
   "cell_type": "code",
   "execution_count": null,
   "metadata": {
    "id": "SykZUJzP4tSd"
   },
   "outputs": [],
   "source": []
  }
 ],
 "metadata": {
  "colab": {
   "authorship_tag": "ABX9TyOuYOau44QuX+qxR84J6jtu",
   "collapsed_sections": [],
   "name": "Day4-ProbabilityStatistics-Demo1-Generative Modeling",
   "provenance": []
  },
  "kernelspec": {
   "display_name": "Python 3",
   "language": "python",
   "name": "python3"
  },
  "language_info": {
   "codemirror_mode": {
    "name": "ipython",
    "version": 3
   },
   "file_extension": ".py",
   "mimetype": "text/x-python",
   "name": "python",
   "nbconvert_exporter": "python",
   "pygments_lexer": "ipython3",
   "version": "3.8.10"
  }
 },
 "nbformat": 4,
 "nbformat_minor": 4
}
