{
  "metadata": {
    "kernelspec": {
      "display_name": "Python 3",
      "language": "python",
      "name": "python3"
    },
    "language_info": {
      "name": "python",
      "version": "3.6.6",
      "mimetype": "text/x-python",
      "codemirror_mode": {
        "name": "ipython",
        "version": 3
      },
      "pygments_lexer": "ipython3",
      "nbconvert_exporter": "python",
      "file_extension": ".py"
    },
    "colab": {
      "name": "Day6_SupportVectorMachines_Demo2.ipynb",
      "provenance": [],
      "collapsed_sections": []
    }
  },
  "nbformat_minor": 0,
  "nbformat": 4,
  "cells": [
    {
      "cell_type": "markdown",
      "source": [
        "# DESTEK VEKTÖR MAKİNE ALGORİTMASI İLE MOBİL FİYAT SINIFLANDIRMASI"
      ],
      "metadata": {
        "id": "dJot_ysig4UL"
      }
    },
    {
      "cell_type": "markdown",
      "source": [
        "Cep telefonu kullanıcı bir telefon hizmet alanı içinde hareket ederken bir radyo frekansı bağlantısı üzerinden arama yapabilen ve alabilen taşınabilir bir telefondur.\n",
        "\n",
        "1973 yılında Motorola'dan John F. Mitchell ve Martin Cooper tarafından tanıtılan ilk el tipi cep telefonu, **2 kilogram ağırlığında bir ahizeye** sahipti.\n",
        "\n",
        "1979'da Nippon Telegraph and Telephone (NTT), Japonya'da dünyanın ilk hücresel ağını tanıttı. 1983'ten 2014'e kadar, dünya çapındaki cep telefonu abonelikleri yedi milyarın üzerine çıktı - bu dünyadaki her insan için en az bir tane cep telefonuna karşılık geliyordu.\n",
        "\n",
        "2016'nın ilk çeyreğinde, dünya çapında en iyi akıllı telefon geliştiricileri Samsung, Apple ve Huawei idi ve akıllı telefon satışları toplam cep telefonu satışlarının yüzde 78'ini temsil etti.\n",
        "\n",
        "source:https://en.wikipedia.org/wiki/Mobile_phone"
      ],
      "metadata": {
        "id": "9fS1iPitg4UO"
      }
    },
    {
      "cell_type": "markdown",
      "source": [
        "Cep Telefonlarının Gelişimi\n",
        "![](https://s3b.cashify.in/blog/wp-content/uploads/2018/05/mobile-phone-evolution.jpg)"
      ],
      "metadata": {
        "id": "sC8eu0fGg4US"
      }
    },
    {
      "cell_type": "code",
      "source": [
        "import numpy as np # linear algebra\n",
        "import pandas as pd # data processing, CSV file I/O (e.g. pd.read_csv)\n",
        "\n",
        "import warnings\n",
        "warnings.filterwarnings(\"ignore\")"
      ],
      "metadata": {
        "_uuid": "8f2839f25d086af736a60e9eeb907d3b93b6e0e5",
        "_cell_guid": "b1076dfc-b9ad-4769-8c92-a6c4dae69d19",
        "_kg_hide-input": true,
        "_kg_hide-output": true,
        "execution": {
          "iopub.status.busy": "2022-04-05T19:34:12.504424Z",
          "iopub.execute_input": "2022-04-05T19:34:12.505229Z",
          "iopub.status.idle": "2022-04-05T19:34:12.521198Z",
          "shell.execute_reply.started": "2022-04-05T19:34:12.505151Z",
          "shell.execute_reply": "2022-04-05T19:34:12.519850Z"
        },
        "trusted": true,
        "id": "ytviO9yug4UU"
      },
      "execution_count": null,
      "outputs": []
    },
    {
      "cell_type": "markdown",
      "source": [
        "Bu notebookta cep telefonu özelliklerini fiyat aralığı ile analiz ediyoruz. \n",
        "Ayrıca destek vektör makinesi (SVM) algoritmasını kullanarak bir model oluşturacağız."
      ],
      "metadata": {
        "id": "FgBCYSJWg4UX"
      }
    },
    {
      "cell_type": "markdown",
      "source": [
        "## 1- VERİYİ OKUMA"
      ],
      "metadata": {
        "id": "SberCedFg4Ua"
      }
    },
    {
      "cell_type": "code",
      "source": [
        "#from google.colab import drive\n",
        "#drive.mount('/content/drive')"
      ],
      "metadata": {
        "id": "Xm8prTX0o4xK"
      },
      "execution_count": null,
      "outputs": []
    },
    {
      "cell_type": "code",
      "source": [
        "#ROOT_DIR = \"/content/drive/MyDrive/CASGEM-Egitim/Egitim-Part1/Day6-SupportVectorMachines/notebooks\"\n",
        "ROOT_DIR = \"https://media.githubusercontent.com/media/yapay-ogrenme/casgem-eu-project-training-on-data-mining-2nd/main/PART1/Day6-SupportVectorMachines/notebooks\"\n",
        "\n",
        "DATASET_PATH = ROOT_DIR + \"/datasets/\""
      ],
      "metadata": {
        "id": "4AGSlxjlo9Ug"
      },
      "execution_count": null,
      "outputs": []
    },
    {
      "cell_type": "code",
      "source": [
        "data = pd.read_csv(DATASET_PATH + 'svm_mobile_price_train.csv')"
      ],
      "metadata": {
        "id": "hGyuAEVho9r3"
      },
      "execution_count": null,
      "outputs": []
    },
    {
      "cell_type": "code",
      "source": [
        "data.info()"
      ],
      "metadata": {
        "_kg_hide-input": true,
        "execution": {
          "iopub.status.busy": "2022-04-05T19:34:19.353990Z",
          "iopub.execute_input": "2022-04-05T19:34:19.354454Z",
          "iopub.status.idle": "2022-04-05T19:34:19.374213Z",
          "shell.execute_reply.started": "2022-04-05T19:34:19.354378Z",
          "shell.execute_reply": "2022-04-05T19:34:19.373363Z"
        },
        "trusted": true,
        "id": "_Q-ql1Xyg4Ue"
      },
      "execution_count": null,
      "outputs": []
    },
    {
      "cell_type": "code",
      "source": [
        "data.shape"
      ],
      "metadata": {
        "id": "FDh2jxuYpKgn"
      },
      "execution_count": null,
      "outputs": []
    },
    {
      "cell_type": "markdown",
      "source": [
        "21 öznitelik ve 2000 örneklem olan bir veri kümesidir.\n",
        "Özniteliklerin anlamları aşağıda verilmiştir.\n",
        " "
      ],
      "metadata": {
        "id": "oVgEP8PGg4Ug"
      }
    },
    {
      "cell_type": "markdown",
      "source": [
        "**battery_power:** Bir pilin bir seferde depolayabileceği toplam enerji mAh cinsinden ölçümü\n",
        "\n",
        "**blue:** Bluetooth var veya yok\n",
        "\n",
        "**clock_speed:** mikroişlemcinin talimatları yürütme hızı\n",
        "\n",
        "**dual_sim:** Çift sim desteği var veya yok\n",
        "\n",
        "**fc:** Ön Kamera mega piksel\n",
        "\n",
        "**four_g:** 4G var veya yok\n",
        "\n",
        "**int_memory:** Gigabayt cinsinden Dahili Bellek\n",
        "\n",
        "**m_dep:** Mobil Derinlik, cm (Mobile Depth in cm)\n",
        "\n",
        "**mobile_wt:** Cep telefonunun ağırlığı\n",
        "\n",
        "**n_cores:** İşlemci çekirdek sayısı\n",
        "\n",
        "**pc:** Birincil Kamera mega piksel\n",
        "\n",
        "**px_height:** Piksel Çözünürlük Yüksekliği (Pixel Resolution Height)\n",
        "\n",
        "**px_width:** Piksel Çözünürlük Genişliği (Pixel Resolution Width)\n",
        "\n",
        "**ram:** Mega Bayt olarak RAM\n",
        "\n",
        "**sc_h:** Cep telefonunun ekran yüksekliği cm olarak\n",
        "\n",
        "**sc_w:** Cep telefonunun Ekran Genişliği, cm\n",
        "\n",
        "**talk_time:** tek bir pil şarjının en uzun süre dayanacağı süre\n",
        "\n",
        "**three_g:** 3G var veya yok\n",
        "\n",
        "**touch_screen:** Dokunmatik ekrana sahip veya değil\n",
        "\n",
        "**wifi:** Wifi var mı yok mu\n",
        "\n",
        "**price_range:** Bu, 0(düşük maliyet), 1(orta maliyet), 2(yüksek maliyet) ve 3(çok yüksek maliyet) değerine sahip hedef değişkendir.\n"
      ],
      "metadata": {
        "id": "2hxOn2WEg4Uj"
      }
    },
    {
      "cell_type": "markdown",
      "source": [
        "Aşağıdaki tabloda, ilk 10 örneklem gösterilmektedir."
      ],
      "metadata": {
        "id": "4Di9A33Cg4Ul"
      }
    },
    {
      "cell_type": "code",
      "source": [
        "data.head(10)"
      ],
      "metadata": {
        "id": "yTymPf7vq7MA"
      },
      "execution_count": null,
      "outputs": []
    },
    {
      "cell_type": "markdown",
      "source": [
        "Şimdi veri setinde eksik değerler olup olmadığını kontrol edelim."
      ],
      "metadata": {
        "id": "tDfWeiT3g4Uo"
      }
    },
    {
      "cell_type": "code",
      "source": [
        "missing_values_count = data.isnull().sum()\n",
        "missing_values_count"
      ],
      "metadata": {
        "_kg_hide-input": true,
        "execution": {
          "iopub.status.busy": "2022-04-05T19:34:55.731929Z",
          "iopub.execute_input": "2022-04-05T19:34:55.732361Z",
          "iopub.status.idle": "2022-04-05T19:34:57.608334Z",
          "shell.execute_reply.started": "2022-04-05T19:34:55.732280Z",
          "shell.execute_reply": "2022-04-05T19:34:57.607571Z"
        },
        "trusted": true,
        "id": "wlLYLvoHg4Up"
      },
      "execution_count": null,
      "outputs": []
    },
    {
      "cell_type": "markdown",
      "source": [
        "\n",
        "#### ÖZELLİKLER ARASINDAKİ KORELASYON"
      ],
      "metadata": {
        "id": "vqgB_Mtwg4Uq"
      }
    },
    {
      "cell_type": "markdown",
      "source": [
        "Aşağıdaki ısı haritası, özellikler arasındaki korelasyon değerlerini gösterir.Following heatmap shows correlation values between features."
      ],
      "metadata": {
        "id": "-G66CFG1g4Ur"
      }
    },
    {
      "cell_type": "code",
      "source": [
        "import seaborn as sns\n",
        "import matplotlib.pyplot as plt\n",
        "\n",
        "corr=data.corr()\n",
        "\n",
        "fig = plt.figure(figsize=(15,12))\n",
        "r = sns.heatmap(corr, cmap='Purples')\n",
        "r.set_title(\"Correlation \")"
      ],
      "metadata": {
        "_kg_hide-input": true,
        "execution": {
          "iopub.status.busy": "2022-04-05T19:35:38.915441Z",
          "iopub.execute_input": "2022-04-05T19:35:38.916250Z",
          "iopub.status.idle": "2022-04-05T19:35:40.164278Z",
          "shell.execute_reply.started": "2022-04-05T19:35:38.916186Z",
          "shell.execute_reply": "2022-04-05T19:35:40.163322Z"
        },
        "trusted": true,
        "id": "QWt2HNcag4Ur"
      },
      "execution_count": null,
      "outputs": []
    },
    {
      "cell_type": "markdown",
      "source": [
        "**Görüldüğü gibi hedef fiyat aralığımız RAM ile oldukça pozitif bir korelasyona sahiptir.**\n",
        "​\n",
        "\n",
        "Ayrıca\n",
        "\n",
        "* 3G ve 4G\n",
        "* pc(Birincil Kamera mega piksel) ve fc(Ön Kamera mega piksel)\n",
        "* px_weight(Piksel Çözünürlük Genişliği) ve px_height(Piksel Çözünürlük Yüksekliği)\n",
        "* sc_w(Cebinin Ekran Genişliği cm olarak) ve sc_h(Cep telefonunun Ekran Yüksekliği cm olarak)\n",
        "​\n",
        "özelliklerin yüksek oranda pozitif korelasyonu vardır. \n",
        "\n",
        "Örneğin sc_w (mobilin ekran genişliği) arttıkça sc_h (mobilin ekran yüksekliği) artıyor.\n"
      ],
      "metadata": {
        "id": "v3iNYyHCg4Us"
      }
    },
    {
      "cell_type": "markdown",
      "source": [
        "Şimdi fiyat aralığı ve diğer özellikler arasındaki korelasyon değerlerini görelim."
      ],
      "metadata": {
        "id": "N_zDoQxGg4Ut"
      }
    },
    {
      "cell_type": "code",
      "source": [
        "#price range correlation\n",
        "corr.sort_values(by=[\"price_range\"],ascending=False).iloc[0].sort_values(ascending=False)"
      ],
      "metadata": {
        "execution": {
          "iopub.status.busy": "2022-04-05T19:38:25.266957Z",
          "iopub.execute_input": "2022-04-05T19:38:25.267566Z",
          "iopub.status.idle": "2022-04-05T19:38:25.281371Z",
          "shell.execute_reply.started": "2022-04-05T19:38:25.267278Z",
          "shell.execute_reply": "2022-04-05T19:38:25.280208Z"
        },
        "trusted": true,
        "id": "pIzWfF6Ug4Uu"
      },
      "execution_count": null,
      "outputs": []
    },
    {
      "cell_type": "markdown",
      "source": [
        "## 3- DESTEK VEKTÖR MAKİNESİ (SUPPORT MACHINE VECTOR(SVM)) ALGORİTMASI"
      ],
      "metadata": {
        "id": "-2UZ4HW3g4VN"
      }
    },
    {
      "cell_type": "markdown",
      "source": [
        "Destek vektör makineleri (SVM'ler), sınıflandırma, regresyon ve aykırı değerlerin tespiti için kullanılan bir dizi denetimli öğrenme yöntemidir.\n",
        "\n",
        "Destek vektör makinelerinin avantajları şunlardır:\n",
        "\n",
        "* Yüksek boyutlu uzaylarda etkilidir.\n",
        "* Boyut sayısının örneklem sayısından fazla olduğu durumlarda hala etkilidir.\n",
        "* Karar işlevinde (destek vektörleri olarak adlandırılır) eğitim noktalarının bir alt kümesini kullanır, bu nedenle bellek açısından da verimlidir.\n",
        "* Çok yönlü: Karar işlevi için farklı Çekirdek işlevleri belirtilebilir. Ortak çekirdekler sağlanır, ancak özel çekirdekler belirtmek de mümkündür.\n",
        "\n",
        "Destek vektör makinelerinin dezavantajları şunları içerir:\n",
        "\n",
        "* Eğer öznitelik sayısı örnek sayısından çok fazla ise, Kernel fonksiyonlarını seçerken aşırı uydurmadan (overfit) kaçının ve regülerizasyon terimi çok önemlidir.\n",
        "* SVM'ler doğrudan olasılık tahminleri sağlamaz, bunlar pahalı bir beş katlı çapraz doğrulama (five-fold cross-validation) kullanılarak hesaplanır.\n",
        " \n",
        "\n",
        "source=(https://scikit-learn.org/stable/modules/svm.html)\n",
        "                \n"
      ],
      "metadata": {
        "id": "S6e1QxcIg4VN"
      }
    },
    {
      "cell_type": "markdown",
      "source": [
        "#### EĞİTİM VE TEST KÜMESİNİN BÖLÜNMESİ"
      ],
      "metadata": {
        "id": "IlwnkUZHg4VO"
      }
    },
    {
      "cell_type": "code",
      "source": [
        "y = data[\"price_range\"].values\n",
        "\n",
        "x = data.drop([\"price_range\"],axis=1)"
      ],
      "metadata": {
        "execution": {
          "iopub.status.busy": "2022-04-05T20:02:10.618596Z",
          "iopub.execute_input": "2022-04-05T20:02:10.619016Z",
          "iopub.status.idle": "2022-04-05T20:02:10.973062Z",
          "shell.execute_reply.started": "2022-04-05T20:02:10.618963Z",
          "shell.execute_reply": "2022-04-05T20:02:10.972262Z"
        },
        "trusted": true,
        "id": "ySCa0R3Og4VR"
      },
      "execution_count": null,
      "outputs": []
    },
    {
      "cell_type": "code",
      "source": [
        "from sklearn.model_selection import train_test_split\n",
        "x_train, x_test, y_train, y_test = train_test_split(x, y,test_size = 0.2,random_state=1)"
      ],
      "metadata": {
        "id": "CVcqEZhBkxWD"
      },
      "execution_count": null,
      "outputs": []
    },
    {
      "cell_type": "code",
      "source": [
        "#min-max scale\n",
        "#x = (x_data-np.min(x_data))/(np.max(x_data)-np.min(x_data))\n",
        "\n",
        "from sklearn.preprocessing import StandardScaler\n",
        "sc_X = StandardScaler()\n",
        "\n",
        "x_train = sc_X.fit_transform(x_train)\n",
        "x_test = sc_X.transform(x_test)"
      ],
      "metadata": {
        "id": "FAS4OjEfgkdp"
      },
      "execution_count": null,
      "outputs": []
    },
    {
      "cell_type": "code",
      "source": [
        "x_train.shape"
      ],
      "metadata": {
        "id": "4jWjnq3SsNAW"
      },
      "execution_count": null,
      "outputs": []
    },
    {
      "cell_type": "code",
      "source": [
        "y_train.shape"
      ],
      "metadata": {
        "id": "YTKaq0fwsOju"
      },
      "execution_count": null,
      "outputs": []
    },
    {
      "cell_type": "markdown",
      "source": [
        "#### Sınıf Dengesi Görselleştirme"
      ],
      "metadata": {
        "id": "xAMd3ElUg4VR"
      }
    },
    {
      "cell_type": "markdown",
      "source": [
        "Train-test split uyguladıktan sonra sınıfların nasıl bölündüğünü kontrol edelim."
      ],
      "metadata": {
        "id": "MxJk0EXCg4VT"
      }
    },
    {
      "cell_type": "code",
      "source": [
        "from yellowbrick.target import ClassBalance\n",
        "\n",
        "visualizer = ClassBalance(labels=[0, 1, 2,3])\n",
        "visualizer.fit(y_train, y_test)\n",
        "visualizer.poof()"
      ],
      "metadata": {
        "_kg_hide-input": true,
        "execution": {
          "iopub.status.busy": "2022-04-05T20:02:44.230922Z",
          "iopub.execute_input": "2022-04-05T20:02:44.231864Z",
          "iopub.status.idle": "2022-04-05T20:02:44.722222Z",
          "shell.execute_reply.started": "2022-04-05T20:02:44.231777Z",
          "shell.execute_reply": "2022-04-05T20:02:44.720896Z"
        },
        "trusted": true,
        "id": "eh-mLCPpg4VU"
      },
      "execution_count": null,
      "outputs": []
    },
    {
      "cell_type": "markdown",
      "source": [
        "Tüm sınıf sayıları yaklaşık olarak aynıdır."
      ],
      "metadata": {
        "id": "iSa11giWg4VV"
      }
    },
    {
      "cell_type": "markdown",
      "source": [
        "#### İLK MODEL"
      ],
      "metadata": {
        "id": "McT2Jflhg4VV"
      }
    },
    {
      "cell_type": "code",
      "source": [
        "from sklearn.svm import SVC\n",
        "\n",
        "svm=SVC(random_state=1)\n",
        "\n",
        "svm.fit(x_train,y_train)\n",
        "\n",
        "print(\"train accuracy:\",svm.score(x_train,y_train))\n",
        "print(\"test accuracy:\",svm.score(x_test,y_test))"
      ],
      "metadata": {
        "execution": {
          "iopub.status.busy": "2022-04-05T20:03:49.306660Z",
          "iopub.execute_input": "2022-04-05T20:03:49.307436Z",
          "iopub.status.idle": "2022-04-05T20:03:49.648410Z",
          "shell.execute_reply.started": "2022-04-05T20:03:49.307361Z",
          "shell.execute_reply": "2022-04-05T20:03:49.647416Z"
        },
        "trusted": true,
        "id": "BSqQXdFSg4VV"
      },
      "execution_count": null,
      "outputs": []
    },
    {
      "cell_type": "markdown",
      "source": [
        "Sklearn kütüphanesini uyguladıktan sonra, ilk model 0.97 eğitim doğruluğuna ve 0.87 test doğruluğuna sahiptir.\n",
        "\n",
        "Ancak bu puanları nasıl artırabiliriz? Önce tahmincilerin doğruluk puanlarını iyileştirmek için gereksiz özellikleri azaltalım, ardından gridsearch yöntemini uygulayalım.\n"
      ],
      "metadata": {
        "id": "n3WrPkp7g4VW"
      }
    },
    {
      "cell_type": "markdown",
      "source": [
        "#### GRIDSEARCHCV İLE MODEL"
      ],
      "metadata": {
        "id": "bvVM2mnSg4Vb"
      }
    },
    {
      "cell_type": "markdown",
      "source": [
        "Svm algoritmasını uygulamak için öncelikle parametreleri ayarlamak için GridSearchCV yöntemini kullandık. Bazı parametreler aşağıda verilmiştir."
      ],
      "metadata": {
        "id": "s7euslJPg4Vb"
      }
    },
    {
      "cell_type": "code",
      "source": [
        "from sklearn.model_selection import GridSearchCV\n",
        "\n",
        "C=[1,0.1,0.25,0.5,2,0.75]\n",
        "kernel=[\"linear\",\"rbf\"]\n",
        "gamma=[\"auto\",0.01,0.001,0.0001,1]\n",
        "decision_function_shape=[\"ovo\",\"ovr\"]"
      ],
      "metadata": {
        "execution": {
          "iopub.status.busy": "2022-04-05T20:10:15.045229Z",
          "iopub.execute_input": "2022-04-05T20:10:15.045600Z",
          "iopub.status.idle": "2022-04-05T20:10:15.051240Z",
          "shell.execute_reply.started": "2022-04-05T20:10:15.045548Z",
          "shell.execute_reply": "2022-04-05T20:10:15.050089Z"
        },
        "trusted": true,
        "id": "gTFnCXakg4Vb"
      },
      "execution_count": null,
      "outputs": []
    },
    {
      "cell_type": "code",
      "source": [
        "svm=SVC(random_state=1)\n",
        "\n",
        "grid_svm=GridSearchCV(estimator=svm,cv=5,param_grid=dict(kernel=kernel,C=C, gamma=gamma, decision_function_shape=decision_function_shape))\n",
        "grid_svm.fit(x_train, y_train)\n",
        "\n",
        "print(\"best score: \", grid_svm.best_score_)\n",
        "print(\"best param: \", grid_svm.best_params_)"
      ],
      "metadata": {
        "execution": {
          "iopub.status.busy": "2022-04-05T20:10:18.714459Z",
          "iopub.execute_input": "2022-04-05T20:10:18.714878Z",
          "iopub.status.idle": "2022-04-05T20:11:13.457069Z",
          "shell.execute_reply.started": "2022-04-05T20:10:18.714818Z",
          "shell.execute_reply": "2022-04-05T20:11:13.455587Z"
        },
        "trusted": true,
        "id": "_phDk2V6g4Vb"
      },
      "execution_count": null,
      "outputs": []
    },
    {
      "cell_type": "markdown",
      "source": [
        "GridSearch'ü uyguladıktan sonra **C:2, decision_function_shape: \"ovo\", gama: \"auto\" ve kernel:\"linear\"** gibi en iyi parametrelere sahibiz.\n",
        "\n"
      ],
      "metadata": {
        "id": "W4beS8sEg4Vc"
      }
    },
    {
      "cell_type": "markdown",
      "source": [
        "#### CV PUANLARI"
      ],
      "metadata": {
        "id": "4d74yICLg4Vd"
      }
    },
    {
      "cell_type": "markdown",
      "source": [
        "**StratifiedKFold:** Verileri eğitim/test setlerinde bölmek için eğitim/test endeksleri sağlar.\n",
        "\n",
        "Bu çapraz doğrulama nesnesi, katmanlı kıvrımlar döndüren bir K-Fold çeşididir. Kıvrımlar, her sınıf için numune yüzdesi korunarak yapılır.\n",
        "\n",
        "Aşağıdaki çubuk grafik, 10 kat ile SVC için Çapraz Doğrulama Puanlarını gösterir. Ve ortalama ortalama puan 0,957'dir."
      ],
      "metadata": {
        "id": "WnAfjOlIg4Ve"
      }
    },
    {
      "cell_type": "code",
      "source": [
        "\n",
        "from sklearn.model_selection import StratifiedKFold\n",
        "from yellowbrick.model_selection import CVScores\n",
        "_, ax = plt.subplots()\n",
        "\n",
        "# Create a cross-validation strategy\n",
        "cv = StratifiedKFold(10)\n",
        "\n",
        "# Create the cv score visualizer\n",
        "oz = CVScores(\n",
        "    SVC(C=2,decision_function_shape=\"ovo\",gamma=\"auto\",kernel=\"linear\",random_state=1), ax=ax, cv=cv, scoring='accuracy'\n",
        ")\n",
        "oz.fit(x_train, y_train)\n",
        "oz.poof()"
      ],
      "metadata": {
        "_kg_hide-input": true,
        "execution": {
          "iopub.status.busy": "2022-04-05T20:12:06.921209Z",
          "iopub.execute_input": "2022-04-05T20:12:06.921586Z",
          "iopub.status.idle": "2022-04-05T20:12:07.514724Z",
          "shell.execute_reply.started": "2022-04-05T20:12:06.921519Z",
          "shell.execute_reply": "2022-04-05T20:12:07.513670Z"
        },
        "trusted": true,
        "id": "ox4IwPhBg4Vg"
      },
      "execution_count": null,
      "outputs": []
    },
    {
      "cell_type": "markdown",
      "source": [
        "#### MODELİ YAPILANDIRMAK"
      ],
      "metadata": {
        "id": "dQVF8xwkg4Vh"
      }
    },
    {
      "cell_type": "markdown",
      "source": [
        "Gridsearch yöntemiyle bulduğumuz en iyi parametrelerle modeli oluşturalım."
      ],
      "metadata": {
        "id": "5ZdpUXKDg4Vj"
      }
    },
    {
      "cell_type": "code",
      "source": [
        "svm_model=SVC(C=2, decision_function_shape=\"ovo\", gamma=\"auto\", kernel=\"linear\", random_state=1)"
      ],
      "metadata": {
        "execution": {
          "iopub.status.busy": "2022-04-05T20:13:02.995124Z",
          "iopub.execute_input": "2022-04-05T20:13:02.995776Z",
          "iopub.status.idle": "2022-04-05T20:13:03.002367Z",
          "shell.execute_reply.started": "2022-04-05T20:13:02.995718Z",
          "shell.execute_reply": "2022-04-05T20:13:03.001003Z"
        },
        "trusted": true,
        "id": "-7LPfLI8g4Vj"
      },
      "execution_count": null,
      "outputs": []
    },
    {
      "cell_type": "code",
      "source": [
        "svm_model.fit(x_train,y_train)"
      ],
      "metadata": {
        "execution": {
          "iopub.status.busy": "2022-04-05T20:13:04.855764Z",
          "iopub.execute_input": "2022-04-05T20:13:04.856146Z",
          "iopub.status.idle": "2022-04-05T20:13:04.885039Z",
          "shell.execute_reply.started": "2022-04-05T20:13:04.856079Z",
          "shell.execute_reply": "2022-04-05T20:13:04.884266Z"
        },
        "trusted": true,
        "id": "gPUvCEGyg4Vj"
      },
      "execution_count": null,
      "outputs": []
    },
    {
      "cell_type": "code",
      "source": [
        "print(\"train_accuracy:\",svm_model.score(x_train,y_train))\n",
        "print(\"test_accuracy: \", svm_model.score(x_test,y_test))"
      ],
      "metadata": {
        "execution": {
          "iopub.status.busy": "2022-04-05T20:13:08.187412Z",
          "iopub.execute_input": "2022-04-05T20:13:08.188101Z",
          "iopub.status.idle": "2022-04-05T20:13:08.215157Z",
          "shell.execute_reply.started": "2022-04-05T20:13:08.188045Z",
          "shell.execute_reply": "2022-04-05T20:13:08.213750Z"
        },
        "trusted": true,
        "id": "GnAs3Z2mg4Vj"
      },
      "execution_count": null,
      "outputs": []
    },
    {
      "cell_type": "markdown",
      "source": [
        "Modelimiz 0.98 eğitim doğruluğuna ve 0.96 test doğruluğuna sahiptir. Şimdi bunu karışıklık matrisi ile kontrol edelim."
      ],
      "metadata": {
        "id": "LXjr2Qktg4Vk"
      }
    },
    {
      "cell_type": "code",
      "source": [
        "from yellowbrick.classifier import ConfusionMatrix\n",
        "\n",
        "cm = ConfusionMatrix(\n",
        "    svm_model, classes=[0,1,2,3]\n",
        ")\n",
        "\n",
        "cm.fit(x_train, y_train)\n",
        "cm.score(x_test, y_test)\n",
        "\n",
        "cm.poof()"
      ],
      "metadata": {
        "_kg_hide-input": true,
        "execution": {
          "iopub.status.busy": "2022-04-05T20:13:31.032221Z",
          "iopub.execute_input": "2022-04-05T20:13:31.032626Z",
          "iopub.status.idle": "2022-04-05T20:13:31.340721Z",
          "shell.execute_reply.started": "2022-04-05T20:13:31.032543Z",
          "shell.execute_reply": "2022-04-05T20:13:31.339688Z"
        },
        "trusted": true,
        "id": "RvkYQRLzg4Vk"
      },
      "execution_count": null,
      "outputs": []
    },
    {
      "cell_type": "markdown",
      "source": [
        "Karışıklık matrisi modeline göre sarı kutuları yanlış biliyor."
      ],
      "metadata": {
        "id": "8Nxhcdcvg4Vk"
      }
    },
    {
      "cell_type": "code",
      "source": [
        ""
      ],
      "metadata": {
        "id": "pz1m91zHg4Vm"
      },
      "execution_count": null,
      "outputs": []
    }
  ]
}