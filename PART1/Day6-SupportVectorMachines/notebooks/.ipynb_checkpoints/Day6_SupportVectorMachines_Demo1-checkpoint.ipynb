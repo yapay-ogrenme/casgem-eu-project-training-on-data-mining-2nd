{
 "cells": [
  {
   "cell_type": "markdown",
   "metadata": {
    "id": "FQxs7HZhn4Kw"
   },
   "source": [
    "# SVM - Gamma ve C Parametre Değişimlerini İnceleme"
   ]
  },
  {
   "cell_type": "code",
   "execution_count": null,
   "metadata": {
    "id": "Ksec2liTksMl"
   },
   "outputs": [],
   "source": [
    "import matplotlib.pyplot as plt\n",
    "import numpy as np\n",
    "import pandas as pd\n",
    "import sklearn\n",
    "from matplotlib.axes._axes import _log as matplotlib_axes_logger\n",
    "from matplotlib.colors import ListedColormap\n",
    "from mpl_toolkits import mplot3d\n",
    "from sklearn.metrics import accuracy_score\n",
    "from sklearn.metrics import plot_confusion_matrix\n",
    "from sklearn.datasets import make_classification\n",
    "from sklearn.svm import SVC"
   ]
  },
  {
   "cell_type": "code",
   "execution_count": null,
   "metadata": {
    "id": "Q6cbO2BkoGiI"
   },
   "outputs": [],
   "source": [
    "matplotlib_axes_logger.setLevel('ERROR')"
   ]
  },
  {
   "cell_type": "code",
   "execution_count": null,
   "metadata": {
    "id": "aYa-FVtBksxi"
   },
   "outputs": [],
   "source": [
    "zero_one_colourmap_pts = ListedColormap(('red', 'green'))\n",
    "zero_one_colourmap_boundary = ListedColormap(('#FFCCCB', '#90EE90'))"
   ]
  },
  {
   "cell_type": "code",
   "execution_count": null,
   "metadata": {
    "id": "PzpVQ2lzoNNa"
   },
   "outputs": [],
   "source": [
    "def plot_decision_boundary(X, y, clf):\n",
    "  X_set, y_set = X, y\n",
    "\n",
    "  X1, X2 = np.meshgrid(np.arange(start = X_set[:, 0].min() - 1, \n",
    "                                 stop = X_set[:, 0].max() + 1, \n",
    "                                 step = 0.01),\n",
    "                       np.arange(start = X_set[:, 1].min() - 1, \n",
    "                                 stop = X_set[:, 1].max() + 1, \n",
    "                                 step = 0.01))\n",
    "  \n",
    "  plt.figure(figsize=(10,6))\n",
    "  plt.contourf(X1, X2, clf.predict(np.array([X1.ravel(), \n",
    "                                             X2.ravel()]).T).reshape(X1.shape),\n",
    "               alpha = 0.75, \n",
    "               cmap = zero_one_colourmap_boundary)\n",
    "  \n",
    "  plt.xlim(X1.min(), X1.max())\n",
    "  plt.ylim(X2.min(), X2.max())\n",
    "  for i, j in enumerate(np.unique(y_set)):\n",
    "    plt.scatter(X_set[y_set == j, 0], X_set[y_set == j, 1],\n",
    "                c = (zero_one_colourmap_pts)(i), label = j)\n",
    "    \n",
    "  plt.title('SVM Decision Boundary')\n",
    "  plt.xlabel('X1')\n",
    "  plt.ylabel('X2')\n",
    "  plt.legend()\n",
    "  \n",
    "  return plt.show()"
   ]
  },
  {
   "cell_type": "code",
   "execution_count": null,
   "metadata": {
    "id": "DGTTHHydqmg7"
   },
   "outputs": [],
   "source": [
    "def generate_clf(input_gamma, input_C=1):\n",
    "  classifier = SVC(kernel=\"poly\", gamma=input_gamma, C=input_C)\n",
    "  classifier.fit(X, y.ravel())\n",
    "\n",
    "  y_pred = classifier.predict(X)\n",
    "  \n",
    "  print(\"Training Accuracy = {}\".format(accuracy_score(y_pred, y)))\n",
    "  return classifier"
   ]
  },
  {
   "cell_type": "code",
   "execution_count": null,
   "metadata": {
    "id": "wobQfVenkybA"
   },
   "outputs": [],
   "source": [
    "X, y = make_classification(n_samples=200, n_features=2,\n",
    "n_informative=2, n_redundant=0, n_repeated=0, n_classes=2,random_state=44)"
   ]
  },
  {
   "cell_type": "code",
   "execution_count": null,
   "metadata": {
    "id": "qRcijIOrkzoc"
   },
   "outputs": [],
   "source": [
    "plt.figure(figsize=(10,6))\n",
    "plt.title(\"SVM Gamma Example\", fontsize=18)\n",
    "plt.scatter(X[:,0], X[:,1], c=y, cmap=zero_one_colourmap_pts)"
   ]
  },
  {
   "cell_type": "markdown",
   "metadata": {
    "id": "Flt3Iw1wq4pD"
   },
   "source": [
    "# Sınıflandırıcı (Classifier) 1 - Gama = 0.001"
   ]
  },
  {
   "cell_type": "code",
   "execution_count": null,
   "metadata": {
    "id": "90M2P87uk2Gc"
   },
   "outputs": [],
   "source": [
    "classifier_1 = generate_clf(0.001)"
   ]
  },
  {
   "cell_type": "code",
   "execution_count": null,
   "metadata": {
    "id": "JjlwCk8sqxJv"
   },
   "outputs": [],
   "source": [
    "plot_decision_boundary(X, y, classifier_1)"
   ]
  },
  {
   "cell_type": "markdown",
   "metadata": {
    "id": "huT77nVErMIi"
   },
   "source": [
    "# Classifier 2 - Gamma = 0.01"
   ]
  },
  {
   "cell_type": "code",
   "execution_count": null,
   "metadata": {
    "id": "u9vUHfZklA16"
   },
   "outputs": [],
   "source": [
    "classifier_2 = generate_clf(0.01)"
   ]
  },
  {
   "cell_type": "code",
   "execution_count": null,
   "metadata": {
    "id": "LIJG0yg4lGAm"
   },
   "outputs": [],
   "source": [
    "plot_decision_boundary(X, y, classifier_2)"
   ]
  },
  {
   "cell_type": "markdown",
   "metadata": {
    "id": "op2fngv7reED"
   },
   "source": [
    "# Classifier 3 - Gamma = 0.1"
   ]
  },
  {
   "cell_type": "code",
   "execution_count": null,
   "metadata": {
    "id": "geULPRwtlY8n"
   },
   "outputs": [],
   "source": [
    "classifier_3 = generate_clf(0.1)"
   ]
  },
  {
   "cell_type": "code",
   "execution_count": null,
   "metadata": {
    "id": "FqOrXPZAriwz"
   },
   "outputs": [],
   "source": [
    "plot_decision_boundary(X, y, classifier_3)"
   ]
  },
  {
   "cell_type": "markdown",
   "metadata": {
    "id": "b-vuPxczwhGU"
   },
   "source": [
    "# Classifier 4 - Gamma = 1"
   ]
  },
  {
   "cell_type": "code",
   "execution_count": null,
   "metadata": {
    "id": "sKpH-JL7wgZf"
   },
   "outputs": [],
   "source": [
    "classifier_4 = generate_clf(1)"
   ]
  },
  {
   "cell_type": "code",
   "execution_count": null,
   "metadata": {
    "id": "EGPiaXaSwgca"
   },
   "outputs": [],
   "source": [
    "plot_decision_boundary(X, y, classifier_4)"
   ]
  },
  {
   "cell_type": "markdown",
   "metadata": {
    "id": "9OEfi7EVxLs4"
   },
   "source": [
    "# Classifier 5 - Gamma = 0.1 & C = 0.1"
   ]
  },
  {
   "cell_type": "code",
   "execution_count": null,
   "metadata": {
    "id": "3OUL8OLQxdHK"
   },
   "outputs": [],
   "source": [
    "classifier_5 = generate_clf(0.1, 0.1)"
   ]
  },
  {
   "cell_type": "code",
   "execution_count": null,
   "metadata": {
    "id": "EhRYlGM9xdPC"
   },
   "outputs": [],
   "source": [
    "plot_decision_boundary(X, y, classifier_5)"
   ]
  },
  {
   "cell_type": "markdown",
   "metadata": {
    "id": "LzARr0e6xLvm"
   },
   "source": [
    "# Classifier 6 - Gamma = 0.1 & C = 1\n"
   ]
  },
  {
   "cell_type": "code",
   "execution_count": null,
   "metadata": {
    "id": "9JL_WlSxxeWU"
   },
   "outputs": [],
   "source": [
    "classifier_6 = generate_clf(0.1, 1)"
   ]
  },
  {
   "cell_type": "code",
   "execution_count": null,
   "metadata": {
    "id": "yIyHfqSsxeZV"
   },
   "outputs": [],
   "source": [
    "plot_decision_boundary(X, y, classifier_6)"
   ]
  },
  {
   "cell_type": "markdown",
   "metadata": {
    "id": "VYB47kiyxLyR"
   },
   "source": [
    "# Classifier 7 - Gamma = 0.1 & C = 10\n"
   ]
  },
  {
   "cell_type": "code",
   "execution_count": null,
   "metadata": {
    "id": "fXUAyNZwxfCL"
   },
   "outputs": [],
   "source": [
    "classifier_7 = generate_clf(0.1, 10)"
   ]
  },
  {
   "cell_type": "code",
   "execution_count": null,
   "metadata": {
    "id": "QRhVPq0-xfHs"
   },
   "outputs": [],
   "source": [
    "plot_decision_boundary(X, y, classifier_7)"
   ]
  },
  {
   "cell_type": "code",
   "execution_count": null,
   "metadata": {
    "id": "yMNI7z-jnnon"
   },
   "outputs": [],
   "source": []
  }
 ],
 "metadata": {
  "colab": {
   "collapsed_sections": [
    "op2fngv7reED",
    "b-vuPxczwhGU",
    "9OEfi7EVxLs4",
    "LzARr0e6xLvm",
    "VYB47kiyxLyR"
   ],
   "name": "Day6_SupportVectorMachines_Demo1.ipynb",
   "provenance": []
  },
  "kernelspec": {
   "display_name": "Python 3",
   "language": "python",
   "name": "python3"
  },
  "language_info": {
   "codemirror_mode": {
    "name": "ipython",
    "version": 3
   },
   "file_extension": ".py",
   "mimetype": "text/x-python",
   "name": "python",
   "nbconvert_exporter": "python",
   "pygments_lexer": "ipython3",
   "version": "3.8.10"
  }
 },
 "nbformat": 4,
 "nbformat_minor": 4
}
