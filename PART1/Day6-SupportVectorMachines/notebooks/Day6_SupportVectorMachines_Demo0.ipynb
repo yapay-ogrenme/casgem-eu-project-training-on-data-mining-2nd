{
  "nbformat": 4,
  "nbformat_minor": 0,
  "metadata": {
    "colab": {
      "name": "Day6_SupportVectorMachines_Demo0.ipynb",
      "provenance": [],
      "collapsed_sections": []
    },
    "kernelspec": {
      "name": "python3",
      "display_name": "Python 3"
    }
  },
  "cells": [
    {
      "cell_type": "markdown",
      "source": [
        "# SVM - Gamma ve C Parametre Değişimlerini İnceleme"
      ],
      "metadata": {
        "id": "FQxs7HZhn4Kw"
      }
    },
    {
      "cell_type": "code",
      "metadata": {
        "id": "Ksec2liTksMl"
      },
      "source": [
        "import matplotlib.pyplot as plt\n",
        "import numpy as np\n",
        "import pandas as pd\n",
        "import sklearn\n",
        "from matplotlib.axes._axes import _log as matplotlib_axes_logger\n",
        "from matplotlib.colors import ListedColormap\n",
        "from mpl_toolkits import mplot3d\n",
        "from sklearn.metrics import accuracy_score\n",
        "from sklearn.metrics import plot_confusion_matrix\n",
        "from sklearn.datasets import make_classification\n",
        "from sklearn.svm import SVC"
      ],
      "execution_count": null,
      "outputs": []
    },
    {
      "cell_type": "code",
      "metadata": {
        "id": "Q6cbO2BkoGiI"
      },
      "source": [
        "matplotlib_axes_logger.setLevel('ERROR')"
      ],
      "execution_count": null,
      "outputs": []
    },
    {
      "cell_type": "code",
      "metadata": {
        "id": "aYa-FVtBksxi"
      },
      "source": [
        "zero_one_colourmap_pts = ListedColormap(('red', 'green'))\n",
        "zero_one_colourmap_boundary = ListedColormap(('#FFCCCB', '#90EE90'))"
      ],
      "execution_count": null,
      "outputs": []
    },
    {
      "cell_type": "code",
      "metadata": {
        "id": "PzpVQ2lzoNNa"
      },
      "source": [
        "def plot_decision_boundary(X, y, clf):\n",
        "  X_set, y_set = X, y\n",
        "\n",
        "  X1, X2 = np.meshgrid(np.arange(start = X_set[:, 0].min() - 1, \n",
        "                                 stop = X_set[:, 0].max() + 1, \n",
        "                                 step = 0.01),\n",
        "                       np.arange(start = X_set[:, 1].min() - 1, \n",
        "                                 stop = X_set[:, 1].max() + 1, \n",
        "                                 step = 0.01))\n",
        "  \n",
        "  plt.figure(figsize=(10,6))\n",
        "  plt.contourf(X1, X2, clf.predict(np.array([X1.ravel(), \n",
        "                                             X2.ravel()]).T).reshape(X1.shape),\n",
        "               alpha = 0.75, \n",
        "               cmap = zero_one_colourmap_boundary)\n",
        "  \n",
        "  plt.xlim(X1.min(), X1.max())\n",
        "  plt.ylim(X2.min(), X2.max())\n",
        "  for i, j in enumerate(np.unique(y_set)):\n",
        "    plt.scatter(X_set[y_set == j, 0], X_set[y_set == j, 1],\n",
        "                c = (zero_one_colourmap_pts)(i), label = j)\n",
        "    \n",
        "  plt.title('SVM Decision Boundary')\n",
        "  plt.xlabel('X1')\n",
        "  plt.ylabel('X2')\n",
        "  plt.legend()\n",
        "  \n",
        "  return plt.show()"
      ],
      "execution_count": null,
      "outputs": []
    },
    {
      "cell_type": "code",
      "metadata": {
        "id": "DGTTHHydqmg7"
      },
      "source": [
        "def generate_clf(input_gamma=1, input_C=1):\n",
        "  classifier = SVC(kernel=\"poly\", gamma=input_gamma, C=input_C) #kernel=\"poly\", kernel=\"poly\"\n",
        "  classifier.fit(X, y.ravel())\n",
        "\n",
        "  y_pred = classifier.predict(X)\n",
        "  \n",
        "  print(\"Training Accuracy = {}\".format(accuracy_score(y_pred, y)))\n",
        "  return classifier"
      ],
      "execution_count": null,
      "outputs": []
    },
    {
      "cell_type": "code",
      "metadata": {
        "id": "wobQfVenkybA"
      },
      "source": [
        "X, y = make_classification(n_samples=200, n_features=2, n_informative=2, n_redundant=0, n_repeated=0, n_classes=2,random_state=44)"
      ],
      "execution_count": null,
      "outputs": []
    },
    {
      "cell_type": "code",
      "metadata": {
        "id": "qRcijIOrkzoc"
      },
      "source": [
        "plt.figure(figsize=(10,6))\n",
        "plt.title(\"SVM Gamma Example\", fontsize=18)\n",
        "plt.scatter(X[:,0], X[:,1], c=y, cmap=zero_one_colourmap_pts)"
      ],
      "execution_count": null,
      "outputs": []
    },
    {
      "cell_type": "markdown",
      "metadata": {
        "id": "9OEfi7EVxLs4"
      },
      "source": [
        "# Classifier 1 - Gamma = 0.1 & C = 0.1"
      ]
    },
    {
      "cell_type": "code",
      "metadata": {
        "id": "3OUL8OLQxdHK"
      },
      "source": [
        "classifier_5 = generate_clf(0.1, 0.1)"
      ],
      "execution_count": null,
      "outputs": []
    },
    {
      "cell_type": "code",
      "metadata": {
        "id": "EhRYlGM9xdPC"
      },
      "source": [
        "plot_decision_boundary(X, y, classifier_5)"
      ],
      "execution_count": null,
      "outputs": []
    },
    {
      "cell_type": "markdown",
      "metadata": {
        "id": "LzARr0e6xLvm"
      },
      "source": [
        "# Classifier 2 - Gamma = 0.1 & C = 1\n"
      ]
    },
    {
      "cell_type": "code",
      "metadata": {
        "id": "9JL_WlSxxeWU"
      },
      "source": [
        "classifier_6 = generate_clf(0.1, 1)"
      ],
      "execution_count": null,
      "outputs": []
    },
    {
      "cell_type": "code",
      "metadata": {
        "id": "yIyHfqSsxeZV"
      },
      "source": [
        "plot_decision_boundary(X, y, classifier_6)"
      ],
      "execution_count": null,
      "outputs": []
    },
    {
      "cell_type": "markdown",
      "metadata": {
        "id": "VYB47kiyxLyR"
      },
      "source": [
        "# Classifier 3 - Gamma = 0.1 & C = 10\n"
      ]
    },
    {
      "cell_type": "code",
      "metadata": {
        "id": "fXUAyNZwxfCL"
      },
      "source": [
        "classifier_7 = generate_clf(0.1, 10)"
      ],
      "execution_count": null,
      "outputs": []
    },
    {
      "cell_type": "code",
      "metadata": {
        "id": "QRhVPq0-xfHs"
      },
      "source": [
        "plot_decision_boundary(X, y, classifier_7)"
      ],
      "execution_count": null,
      "outputs": []
    },
    {
      "cell_type": "code",
      "source": [
        ""
      ],
      "metadata": {
        "id": "yMNI7z-jnnon"
      },
      "execution_count": null,
      "outputs": []
    }
  ]
}